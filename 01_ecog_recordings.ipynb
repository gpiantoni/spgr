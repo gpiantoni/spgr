{
 "cells": [
  {
   "cell_type": "markdown",
   "metadata": {},
   "source": [
    "# SPGR"
   ]
  },
  {
   "cell_type": "code",
   "execution_count": 1,
   "metadata": {
    "collapsed": false
   },
   "outputs": [
    {
     "name": "stdout",
     "output_type": "stream",
     "text": [
      "Last run on cashlab03-deb at 2015-06-30 11:04:11.756868\n",
      "\n",
      "Phypno Version: 2635b4cdcae67724eeec79333e23e1dad1b5585a\n",
      "\n",
      "Babel==1.3, Cython==0.22.1, Jinja2==2.7.3, Markdown==2.6.2, MarkupSafe==0.23, Pillow==2.8.2, PyOpenGL==3.1.0, Pygments==2.0.2, Sphinx==1.3.1, alabaster==0.7.6, bash-kernel==0.3, beautifulsoup4==4.3.2, biopython==1.65, certifi==2015.04.28, coverage==3.7.1, decorator==3.4.2, docutils==0.12, easydev==0.8.5, ipython==3.2.0, jedi==0.9.0, jsonschema==2.5.1, matplotlib==1.4.3, memory-profiler==0.33, mistune==0.6, -e git+git@github.com:mne-tools/mne-python.git@7f8071891d7a8c2fdaa61ea3a8819394fcd86de2#egg=mne-master, networkx==1.9.1, nibabel==2.0.0, nitime==0.5, nltk==3.0.3, nose==1.3.7, numpy==1.9.2, numpydoc==0.5, ordereddict==1.1, pandas==0.16.2, pandocfilters==1.2.4, pep8==1.6.2, pexpect==3.3, -e git+git@github.com:gpiantoni/phypno.git@2635b4cdcae67724eeec79333e23e1dad1b5585a#egg=phypno-origin/master, pockets==0.2.4, psutil==3.0.1, ptyprocess==0.5, pycurl==7.19.5.1, pyflakes==0.9.2, pyparsing==2.0.3, pyqtgraph==0.9.10, python-dateutil==2.4.2, python-igraph==0.7.1.post6, pytz==2015.4, pyzmq==14.7.0, rope-py3k==0.9.4-1, rpy2==2.6.0, scikit-learn==0.16.1, scipy==0.15.1, six==1.9.0, snowballstemmer==1.2.0, sphinx-rtd-theme==0.1.8, spyder==2.3.5.2, sympy==0.7.6, terminado==0.5, tornado==4.2, visvis==1.9.1, xmltodict==0.9.2, \n"
     ]
    }
   ],
   "source": [
    "import version_control"
   ]
  },
  {
   "cell_type": "code",
   "execution_count": null,
   "metadata": {
    "collapsed": false
   },
   "outputs": [],
   "source": [
    "from spgr import lg\n",
    "from logging import INFO\n",
    "lg.setLevel(INFO)"
   ]
  },
  {
   "cell_type": "markdown",
   "metadata": {},
   "source": [
    "## ECoG Recordings"
   ]
  },
  {
   "cell_type": "markdown",
   "metadata": {},
   "source": [
    "### Selection of Patients"
   ]
  },
  {
   "cell_type": "code",
   "execution_count": null,
   "metadata": {
    "collapsed": false
   },
   "outputs": [],
   "source": [
    "# define patients with grids\n",
    "subj_with_grid_scalp = ('EM03', 'EM09', 'MG07', 'MG11', 'MG12', 'MG15', 'MG17', \n",
    "                        'MG29', 'MG31', 'MG32', 'MG33', 'MG37', 'MG42', 'MG45', \n",
    "                        'MG48', 'MG49', 'MG51', 'MG56', 'MG61', 'MG63', 'MG65', 'MG72', 'MG83')\n",
    "subj_with_grid_only = ('MG28', 'MG64', 'MG67', 'MG75', 'MG81')\n",
    "\n",
    "# define patients to exclude\n",
    "subj_with_many_SZ = ('MG49', 'MG74', 'MG75', 'MG81', 'MG83')\n",
    "not_in_rec = ('MG12', )\n",
    "\n",
    "all_subj = (set(subj_with_grid_scalp) | set(subj_with_grid_only)) - set(subj_with_many_SZ) - set(not_in_rec)"
   ]
  },
  {
   "cell_type": "code",
   "execution_count": null,
   "metadata": {
    "collapsed": false
   },
   "outputs": [],
   "source": [
    "from spgr.constants import PERIOD, STAGES, MIN_DURATION"
   ]
  },
  {
   "cell_type": "code",
   "execution_count": null,
   "metadata": {
    "collapsed": false
   },
   "outputs": [],
   "source": [
    "from spgr.read_data import select_scores\n",
    "scores = select_scores(STAGES, MIN_DURATION, sorted(all_subj, reverse=True))\n",
    "\n",
    "lg.info('\\nPatients with sufficient recordings:')\n",
    "lg.info('\\t'.join(sorted(scores.keys())))"
   ]
  },
  {
   "cell_type": "code",
   "execution_count": null,
   "metadata": {
    "collapsed": false
   },
   "outputs": [],
   "source": [
    "good_subj = sorted(list(scores.keys()))\n",
    "\n",
    "lg.info('Grid patients with scalp : ' + ', '.join(sorted(set(good_subj) & set(subj_with_grid_scalp))))\n",
    "lg.info('Grid patients without scalp : ' + ', '.join(sorted(set(good_subj) & set(subj_with_grid_only))))\n",
    "lg.info('Depth patients without scalp : ' + ', '.join(sorted(set(good_subj) - set(subj_with_grid_scalp) - set(subj_with_grid_only))))"
   ]
  },
  {
   "cell_type": "markdown",
   "metadata": {},
   "source": [
    "### Read Recordings"
   ]
  },
  {
   "cell_type": "code",
   "execution_count": null,
   "metadata": {
    "collapsed": false
   },
   "outputs": [],
   "source": [
    "from spgr.constants import HEMI_SUBJ, DATA_OPTIONS, CHAN_TYPE\n",
    "from spgr.read_data import select_scores"
   ]
  },
  {
   "cell_type": "code",
   "execution_count": null,
   "metadata": {
    "collapsed": false
   },
   "outputs": [],
   "source": [
    "for subj in HEMI_SUBJ:\n",
    "    save_data(subj, scores[subj], PERIOD, STAGES, chan_type=CHAN_TYPE, **DATA_OPTIONS)"
   ]
  }
 ],
 "metadata": {
  "kernelspec": {
   "display_name": "Python 3",
   "language": "python",
   "name": "python3"
  },
  "language_info": {
   "codemirror_mode": {
    "name": "ipython",
    "version": 3
   },
   "file_extension": ".py",
   "mimetype": "text/x-python",
   "name": "python",
   "nbconvert_exporter": "python",
   "pygments_lexer": "ipython3",
   "version": "3.4.3+"
  }
 },
 "nbformat": 4,
 "nbformat_minor": 0
}
