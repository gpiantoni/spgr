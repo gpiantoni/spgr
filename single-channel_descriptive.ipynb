{
 "cells": [
  {
   "cell_type": "markdown",
   "metadata": {},
   "source": [
    "# SPGR"
   ]
  },
  {
   "cell_type": "code",
   "execution_count": 1,
   "metadata": {
    "collapsed": false
   },
   "outputs": [
    {
     "name": "stdout",
     "output_type": "stream",
     "text": [
      "Last run on cashlab03-deb at 2015-03-27 14:24:15.072125\n",
      "\n",
      "Phypno Version: 01ade7cd0403c2fb7015744a0e2642e9dee19871\n",
      "\n",
      "Babel==1.3, Cython==0.22, Jinja2==2.7.3, Markdown==2.6.1, MarkupSafe==0.23, Pillow==2.7.0, PyOpenGL==3.1.0, Pygments==2.0.2, Sphinx==1.3.1, alabaster==0.7.3, bash-kernel==0.3, beautifulsoup4==4.3.2, biopython==1.65, certifi==14.05.14, coverage==3.7.1, decorator==3.4.2, docutils==0.12, easydev==0.8.3, ipython==3.0.0, jedi==0.8.1-final0, jsonschema==2.4.0, matplotlib==1.4.3, memory-profiler==0.32, mistune==0.5.1, networkx==1.9.1, nibabel==2.0.0, nitime==0.5, nltk==3.0.2, nose==1.3.4, numpy==1.9.2, numpydoc==0.5, ordereddict==1.1, pandas==0.16.0, pandocfilters==1.2.3, pep8==1.6.2, pexpect==3.3, pockets==0.2.4, psutil==2.2.1, pycurl==7.19.5.1, pyflakes==0.8.1, pyparsing==2.0.3, pyqtgraph==0.9.10, python-dateutil==2.4.1, python-igraph==0.7.1-4, pytz==2015.2, pyzmq==14.5.0, requests==2.6.0, rope-py3k==0.9.4-1, rpy2==2.5.6, scikit-learn==0.16.0, scipy==0.15.1, six==1.9.0, snowballstemmer==1.2.0, sphinx-rtd-theme==0.1.7, sphinxcontrib-napoleon==0.3.1, spyder==2.3.4, tornado==4.1, visvis==1.9.1, xmltodict==0.9.2, \n"
     ]
    }
   ],
   "source": [
    "import version_control"
   ]
  },
  {
   "cell_type": "code",
   "execution_count": 2,
   "metadata": {
    "collapsed": false
   },
   "outputs": [],
   "source": [
    "from spgr import lg"
   ]
  },
  {
   "cell_type": "markdown",
   "metadata": {},
   "source": [
    "## Spindle Properties: Descriptive"
   ]
  },
  {
   "cell_type": "markdown",
   "metadata": {},
   "source": [
    "### Parameters"
   ]
  },
  {
   "cell_type": "code",
   "execution_count": 3,
   "metadata": {
    "collapsed": false
   },
   "outputs": [],
   "source": [
    "hemi_subj = {'EM09': 'rh', \n",
    "             'MG17': 'rh',\n",
    "             'MG33': 'lh',\n",
    "             'MG37': 'lh',\n",
    "             'MG61': 'lh',\n",
    "             'MG63': 'rh',\n",
    "             }\n",
    "all_subj = sorted(hemi_subj.keys())"
   ]
  },
  {
   "cell_type": "code",
   "execution_count": 4,
   "metadata": {
    "collapsed": false
   },
   "outputs": [],
   "source": [
    "options = {'reref': 15,\n",
    "           'resample_freq': 256,\n",
    "           'hp_filter': 0.5,\n",
    "           'lp_filter': 50,\n",
    "           }\n",
    "chan_type = ('grid', 'strip')"
   ]
  },
  {
   "cell_type": "code",
   "execution_count": 5,
   "metadata": {
    "collapsed": false
   },
   "outputs": [],
   "source": [
    "spindles_options = {'method': 'Nir2011', \n",
    "                    'frequency': (9, 16), \n",
    "                    'duration':(0.5, 2),\n",
    "                    }\n",
    "spindles_options.update(options)"
   ]
  },
  {
   "cell_type": "code",
   "execution_count": 6,
   "metadata": {
    "collapsed": false
   },
   "outputs": [],
   "source": [
    "STD = 10\n",
    "THRESHOLD = 30"
   ]
  },
  {
   "cell_type": "markdown",
   "metadata": {},
   "source": [
    "### Code"
   ]
  },
  {
   "cell_type": "code",
   "execution_count": 7,
   "metadata": {
    "collapsed": false
   },
   "outputs": [],
   "source": [
    "from pathlib import Path\n",
    "from phypno.attr import Freesurfer\n",
    "from phypno.source import Linear, Morph\n",
    "from spgr.detect_spindles import get_spindles\n",
    "from spgr.read_data import FS_PATH, GROUP_DIR, REC_DIR, get_chan_used_in_analysis, get_data\n",
    "GROUP_DIR = Path(GROUP_DIR)\n",
    "REC_DIR = Path(REC_DIR)"
   ]
  },
  {
   "cell_type": "code",
   "execution_count": 8,
   "metadata": {
    "collapsed": true
   },
   "outputs": [],
   "source": [
    "images_dir = GROUP_DIR.joinpath('images').joinpath('property_descriptive')\n",
    "try:\n",
    "    images_dir.mkdir()\n",
    "except FileExistsError:\n",
    "    pass\n",
    "\n",
    "PLOT_COLOR = 'kw'"
   ]
  },
  {
   "cell_type": "code",
   "execution_count": 9,
   "metadata": {
    "collapsed": false
   },
   "outputs": [],
   "source": [
    "from numpy import diff, histogram, arange, argmax, median, mean, max, sum"
   ]
  },
  {
   "cell_type": "code",
   "execution_count": null,
   "metadata": {
    "collapsed": false
   },
   "outputs": [
    {
     "name": "stderr",
     "output_type": "stream",
     "text": [
      "INFO:/home/gio/projects/spgr/scripts/spgr/read_data.py:Subj EM09, reading data: EM09_sleep_grid-strip_hp005_lp500_rs256.pkl\n",
      "INFO:/home/gio/projects/spgr/scripts/spgr/read_data.py:EM09 analysis chan 77, with location 77\n",
      "INFO:/home/gio/projects/spgr/scripts/spgr/read_data.py:Subj MG17, reading data: MG17_sleep_grid-strip_hp005_lp500_rs256.pkl\n",
      "INFO:/home/gio/projects/spgr/scripts/spgr/read_data.py:MG17 analysis chan 104, with location 104\n",
      "INFO:/home/gio/projects/spgr/scripts/spgr/read_data.py:Subj MG17, reading data: MG17_sleep_grid-strip_hp005_lp500_rs256.pkl\n",
      "INFO:/home/gio/projects/spgr/scripts/spgr/read_data.py:MG17 analysis chan 104, with location 104\n"
     ]
    }
   ],
   "source": [
    "all_count = []\n",
    "all_freq = []\n",
    "all_val = []\n",
    "all_dur = []\n",
    "all_hist = []\n",
    "all_peak_hist = []\n",
    "\n",
    "for subj in all_subj:\n",
    "    fs = Freesurfer(str(REC_DIR.joinpath(subj).joinpath(FS_PATH)))\n",
    "    surf = getattr(fs.read_brain(), hemi_subj[subj])\n",
    "\n",
    "    data = get_data(subj, 'sleep', chan_type, **options)\n",
    "    chan = data.attr['chan']\n",
    "    spindles = get_spindles(subj, chan_type=chan_type, **spindles_options)\n",
    "    for one_spindle in spindles.spindle:\n",
    "        one_spindle['duration'] = one_spindle['end_time'] - one_spindle['start_time']\n",
    "    \n",
    "    dat_count = spindles.to_data('count')\n",
    "    n_min = (data.number_of('trial') * (data.axis['time'][0][-1] - data.axis['time'][0][0])) / 60\n",
    "    dat_count.data[0] = dat_count.data[0] / n_min\n",
    "    dat_freq = spindles.to_data('peak_freq')\n",
    "    dat_val = spindles.to_data('peak_val')\n",
    "    dat_dur = spindles.to_data('duration')\n",
    " \n",
    "    if hemi_subj[subj] == 'lh':\n",
    "        for one_chan in chan.chan:\n",
    "            one_chan.xyz *= (-1, 1, 1)  # TODO: we need to improve this!\n",
    "            \n",
    "    surf = getattr(fs.read_brain(), 'rh')\n",
    "    l = Linear(surf, chan, std=STD, threshold=THRESHOLD)\n",
    "    m = Morph(surf)\n",
    "\n",
    "    all_count.append(m(l(dat_count)))\n",
    "    all_freq.append(m(l(dat_freq)))\n",
    "    all_val.append(m(l(dat_val)))\n",
    "    all_dur.append(m(l(dat_dur)))"
   ]
  },
  {
   "cell_type": "code",
   "execution_count": null,
   "metadata": {
    "collapsed": false
   },
   "outputs": [],
   "source": [
    "from spgr.plot_spindles import plot_surf\n",
    "from IPython.display import display"
   ]
  },
  {
   "cell_type": "code",
   "execution_count": null,
   "metadata": {
    "collapsed": false
   },
   "outputs": [],
   "source": [
    "v = plot_surf(all_count, threshold=(0.01, None), limits=(0, 2))\n",
    "v.save(str(images_dir.joinpath('density_{}.png'.format(options['reref']))))\n",
    "v"
   ]
  },
  {
   "cell_type": "code",
   "execution_count": null,
   "metadata": {
    "collapsed": false
   },
   "outputs": [],
   "source": [
    "v = plot_surf(all_freq, threshold=spindles_options['frequency'], limits=(11, 13))\n",
    "v.save(str(images_dir.joinpath('frequency_{}.png'.format(options['reref']))))\n",
    "v"
   ]
  },
  {
   "cell_type": "code",
   "execution_count": null,
   "metadata": {
    "collapsed": false
   },
   "outputs": [],
   "source": [
    "v = plot_surf(all_val, threshold=(0.001, None), limits=(0, 70))\n",
    "v.save(str(images_dir.joinpath('amplitude_{}.png'.format(options['reref']))))\n",
    "v"
   ]
  },
  {
   "cell_type": "code",
   "execution_count": null,
   "metadata": {
    "collapsed": false
   },
   "outputs": [],
   "source": [
    "v = plot_surf(all_dur, threshold=(0.5, 2), limits=(1, 1.5))\n",
    "v.save(str(images_dir.joinpath('duration_{}.png'.format(options['reref']))))\n",
    "v"
   ]
  }
 ],
 "metadata": {
  "kernelspec": {
   "display_name": "Python 3",
   "language": "python",
   "name": "python3"
  },
  "language_info": {
   "codemirror_mode": {
    "name": "ipython",
    "version": 3
   },
   "file_extension": ".py",
   "mimetype": "text/x-python",
   "name": "python",
   "nbconvert_exporter": "python",
   "pygments_lexer": "ipython3",
   "version": "3.4.2"
  }
 },
 "nbformat": 4,
 "nbformat_minor": 0
}
