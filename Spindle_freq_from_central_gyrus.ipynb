{
 "cells": [
  {
   "cell_type": "markdown",
   "metadata": {},
   "source": [
    "# Spindle Freq from Central Gyrus"
   ]
  },
  {
   "cell_type": "markdown",
   "metadata": {},
   "source": [
    "Here I tested the hypothesis that the spindle frequency jumps quickly around the central sulcus, from the precentral to the postcentral gyrus.\n",
    "\n",
    "For each patient, I defined a line connecting the dots in the precentral gyrus and one in the postcentral gyrus. \n",
    "This should give me an idea of where the central sulcus is.\n",
    "It turns out that the two lines are rather parallel, which is really convenient.\n",
    "\n",
    "For each electrode (with spindles) I checked that it belonged to one of the brain regions of interest (I excluded the temporal cortex and occipital because in those cases the distance to the central sulcus is not meaningful).\n",
    "However, defining the regions of interest was hard in the parietal cortex, because the supramarginal gyrus includes parts of the temporal cortex.\n",
    "\n",
    "After that, I used the distance from both gyri to compute the position.\n",
    "If the position is positive, it means that the distance to the postcentral gyrus is larger than the distance to the precentral gyrus (which means that the electrode is very frontal).\n",
    "\n",
    "However the current implementation does not compute the correct distance because it's only the difference between the two lines, which is not very meaningful."
   ]
  },
  {
   "cell_type": "code",
   "execution_count": 1,
   "metadata": {
    "collapsed": true
   },
   "outputs": [],
   "source": [
    "from phypno.attr import Freesurfer, Channels\n",
    "\n",
    "from spgr.constants import (IMAGES_PATH,\n",
    "                            REC_PATH,\n",
    "                            FS_FOLDER,\n",
    "                            HEMI_SUBJ, \n",
    "                            CHAN_TYPE, \n",
    "                            DATA_OPTIONS,\n",
    "                            )\n",
    "from spgr.read_data import get_chan_used_in_analysis"
   ]
  },
  {
   "cell_type": "code",
   "execution_count": 2,
   "metadata": {
    "collapsed": true
   },
   "outputs": [],
   "source": [
    "from spgr.constants import (HEMI_SUBJ,\n",
    "                            CHAN_TYPE,\n",
    "                            DATA_OPTIONS,\n",
    "                            SPINDLE_OPTIONS,\n",
    "                            )\n",
    "from spgr.read_data import get_data\n",
    "from spgr.detect_spindles import get_spindles\n",
    "from spgr.spindle_source import get_morph_linear, get_chan_with_regions\n",
    "from spgr.plot_spindles import plot_surf\n",
    "from spgr.lmer_stats import lmer, lg"
   ]
  },
  {
   "cell_type": "code",
   "execution_count": 3,
   "metadata": {
    "collapsed": true
   },
   "outputs": [],
   "source": [
    "from phypno.viz import Viz3\n",
    "SKIN_COLOR = (239, 208, 207, 240)"
   ]
  },
  {
   "cell_type": "code",
   "execution_count": null,
   "metadata": {
    "collapsed": false
   },
   "outputs": [],
   "source": []
  },
  {
   "cell_type": "code",
   "execution_count": 4,
   "metadata": {
    "collapsed": true
   },
   "outputs": [],
   "source": [
    "cool_regions = ('caudalanteriorcingulate',\n",
    " 'caudalmiddlefrontal',\n",
    " 'corpuscallosum',\n",
    " 'frontalpole',\n",
    " 'insula',\n",
    " 'isthmuscingulate',\n",
    " 'lateralorbitofrontal',\n",
    " 'medialorbitofrontal',\n",
    " 'paracentral',\n",
    " 'parsopercularis',\n",
    " 'parsorbitalis',\n",
    " 'parstriangularis',\n",
    " 'postcentral',\n",
    " 'posteriorcingulate',\n",
    " 'precentral',\n",
    " 'precuneus',\n",
    " 'rostralanteriorcingulate',\n",
    " 'rostralmiddlefrontal',\n",
    " 'superiorfrontal',\n",
    " 'superiorparietal',\n",
    " )\n",
    "\n",
    "# 'cuneus'\n",
    "# 'supramarginal'\n",
    "# 'inferiorparietal'"
   ]
  },
  {
   "cell_type": "code",
   "execution_count": 5,
   "metadata": {
    "collapsed": true
   },
   "outputs": [],
   "source": [
    "from numpy import *\n",
    "from numpy import min, max\n",
    "from visvis import plot, figure"
   ]
  },
  {
   "cell_type": "code",
   "execution_count": 6,
   "metadata": {
    "collapsed": false
   },
   "outputs": [],
   "source": [
    "def get_interp_line(data):\n",
    "    datamean = data.mean(axis=0)\n",
    "    uu, dd, vv = linalg.svd(data - datamean)\n",
    "    linepts = vv[0] * mgrid[-50:50:2j][:, newaxis]\n",
    "    return linepts + datamean, vv[0]"
   ]
  },
  {
   "cell_type": "code",
   "execution_count": 7,
   "metadata": {
    "collapsed": false
   },
   "outputs": [],
   "source": [
    "def line_from_label(surf, label, labelname):\n",
    "    idx = label[2].index(labelname)\n",
    "    x = label[0]\n",
    "    data = surf.vert[where(x == idx)[0], ]\n",
    "    linepts, weight = get_interp_line(data)\n",
    "    return data, linepts"
   ]
  },
  {
   "cell_type": "code",
   "execution_count": 8,
   "metadata": {
    "collapsed": false
   },
   "outputs": [],
   "source": [
    "norm = linalg.norm\n",
    "\n",
    "def distance_from_line(linepts, p):\n",
    "    l2 = linepts[0]\n",
    "    l1 = linepts[1]\n",
    "    return norm(cross(l1 - l2, l2 - p)) / norm(l1 - l2)"
   ]
  },
  {
   "cell_type": "code",
   "execution_count": 9,
   "metadata": {
    "collapsed": false
   },
   "outputs": [],
   "source": [
    "def val_and_dist(fs, hemi, chan, spindles):\n",
    "\n",
    "    surf = getattr(fs.read_brain(), hemi)\n",
    "    label = fs.read_label(hemi)\n",
    "    \n",
    "    data, linepts_pre = line_from_label(surf, label, 'precentral')\n",
    "    data, linepts_post = line_from_label(surf, label, 'postcentral')\n",
    "\n",
    "    val = []\n",
    "    dist_pre = []\n",
    "    dist_post = []\n",
    "\n",
    "    for good_chan in chan.chan:\n",
    "        region = fs.find_brain_region(good_chan.xyz)[0]\n",
    "        if [True for x in cool_regions if x in region]:\n",
    "            val.append(spindles(trial=0, chan=good_chan.label))\n",
    "            dist_pre.append(distance_from_line(linepts_pre, good_chan.xyz))\n",
    "            dist_post.append(distance_from_line(linepts_post, good_chan.xyz))\n",
    "\n",
    "    dist = array(dist_post) - array(dist_pre)\n",
    "    val = array(val)\n",
    "\n",
    "    return val, dist"
   ]
  },
  {
   "cell_type": "code",
   "execution_count": 10,
   "metadata": {
    "collapsed": false
   },
   "outputs": [
    {
     "name": "stderr",
     "output_type": "stream",
     "text": [
      "/home/gio/tools/venv/lib/python3.4/site-packages/visvis/text/text_freetype.py:698: DeprecationWarning: using a non-integer number instead of an integer will result in an error in the future\n",
      "  data = np.array(data,dtype=np.ubyte).reshape(h,w,self.depth)\n",
      "/home/gio/tools/venv/lib/python3.4/site-packages/visvis/text/text_freetype.py:201: DeprecationWarning: using a non-integer number instead of an integer will result in an error in the future\n",
      "  self.data[y:y+height,x:x+width, :] = data\n"
     ]
    }
   ],
   "source": [
    "all_val = {}\n",
    "\n",
    "for subj, hemi in HEMI_SUBJ.items():\n",
    "\n",
    "    chan = get_chan_used_in_analysis(subj, 'sleep', CHAN_TYPE, **DATA_OPTIONS)\n",
    "    fs = Freesurfer(str(REC_PATH.joinpath(subj).joinpath(FS_FOLDER)))\n",
    "\n",
    "    ref = 'avg'\n",
    "    spindles = get_spindles(subj, chan_type=CHAN_TYPE, reref=ref, **SPINDLE_OPTIONS)\n",
    "    spindles = spindles.to_data('peak_freq')\n",
    "\n",
    "    val, dist = val_and_dist(fs, hemi, chan, spindles)\n",
    "    \n",
    "    figure()\n",
    "    plot(dist, val, ls='', ms='.')\n",
    "    all_val[subj] = dist, val"
   ]
  },
  {
   "cell_type": "code",
   "execution_count": 11,
   "metadata": {
    "collapsed": false
   },
   "outputs": [],
   "source": [
    "x = []\n",
    "y = []\n",
    "for x1, y1 in all_val.values():\n",
    "    x.append(x1)\n",
    "    y.append(y1)\n",
    "\n",
    "x = hstack(x)\n",
    "y = hstack(y)"
   ]
  },
  {
   "cell_type": "code",
   "execution_count": 12,
   "metadata": {
    "collapsed": false
   },
   "outputs": [],
   "source": [
    "def find_bin(bins, x1):\n",
    "    idx = where(x1 >= bins)[0][-1] - 1\n",
    "    return idx"
   ]
  },
  {
   "cell_type": "code",
   "execution_count": 13,
   "metadata": {
    "collapsed": false
   },
   "outputs": [],
   "source": [
    "bins = arange(-24, 24, 2)\n",
    "val = empty(shape=(23,), dtype='object')\n",
    "for i in range(23):\n",
    "    val[i] = []\n",
    "    \n",
    "for x1, y1 in zip(x, y):\n",
    "    idx = find_bin(bins, x1)\n",
    "    val[idx].append(y1)"
   ]
  },
  {
   "cell_type": "code",
   "execution_count": 15,
   "metadata": {
    "collapsed": false
   },
   "outputs": [
    {
     "name": "stderr",
     "output_type": "stream",
     "text": [
      "/home/gio/tools/venv/lib/python3.4/site-packages/visvis/text/text_freetype.py:698: DeprecationWarning: using a non-integer number instead of an integer will result in an error in the future\n",
      "  data = np.array(data,dtype=np.ubyte).reshape(h,w,self.depth)\n",
      "/home/gio/tools/venv/lib/python3.4/site-packages/visvis/text/text_freetype.py:201: DeprecationWarning: using a non-integer number instead of an integer will result in an error in the future\n",
      "  self.data[y:y+height,x:x+width, :] = data\n"
     ]
    }
   ],
   "source": [
    "val_mean = array([mean(i) for i in val])\n",
    "val_sd = array([std(i) / sqrt(len(i)) for i in val])"
   ]
  },
  {
   "cell_type": "code",
   "execution_count": 16,
   "metadata": {
    "collapsed": false
   },
   "outputs": [
    {
     "data": {
      "text/plain": [
       "<visvis.core.line.Line at 0x7f63e7e612e8>"
      ]
     },
     "execution_count": 16,
     "metadata": {},
     "output_type": "execute_result"
    }
   ],
   "source": [
    "plot(bins[:-1] + 1, val_mean - val_sd)\n",
    "plot(bins[:-1] + 1, val_mean + val_sd)"
   ]
  },
  {
   "cell_type": "code",
   "execution_count": 17,
   "metadata": {
    "collapsed": false
   },
   "outputs": [
    {
     "name": "stderr",
     "output_type": "stream",
     "text": [
      "/home/gio/tools/venv/lib/python3.4/site-packages/visvis/text/text_freetype.py:698: DeprecationWarning: using a non-integer number instead of an integer will result in an error in the future\n",
      "  data = np.array(data,dtype=np.ubyte).reshape(h,w,self.depth)\n",
      "/home/gio/tools/venv/lib/python3.4/site-packages/visvis/text/text_freetype.py:201: DeprecationWarning: using a non-integer number instead of an integer will result in an error in the future\n",
      "  self.data[y:y+height,x:x+width, :] = data\n"
     ]
    }
   ],
   "source": [
    "spindles = get_spindles(subj, chan_type=CHAN_TYPE, reref=ref, **SPINDLE_OPTIONS)\n"
   ]
  },
  {
   "cell_type": "code",
   "execution_count": 21,
   "metadata": {
    "collapsed": false
   },
   "outputs": [],
   "source": [
    "a = spindles.to_data('peak_freq')\n",
    "s = spindles.to_data('peak_freq', std)"
   ]
  },
  {
   "cell_type": "code",
   "execution_count": 24,
   "metadata": {
    "collapsed": false
   },
   "outputs": [
    {
     "name": "stderr",
     "output_type": "stream",
     "text": [
      "/home/gio/tools/venv/lib/python3.4/site-packages/visvis/text/text_freetype.py:698: DeprecationWarning: using a non-integer number instead of an integer will result in an error in the future\n",
      "  data = np.array(data,dtype=np.ubyte).reshape(h,w,self.depth)\n",
      "/home/gio/tools/venv/lib/python3.4/site-packages/visvis/text/text_freetype.py:201: DeprecationWarning: using a non-integer number instead of an integer will result in an error in the future\n",
      "  self.data[y:y+height,x:x+width, :] = data\n"
     ]
    },
    {
     "data": {
      "text/plain": [
       "<visvis.core.line.Line at 0x7f63e7e770f0>"
      ]
     },
     "execution_count": 24,
     "metadata": {},
     "output_type": "execute_result"
    }
   ],
   "source": [
    "plot(a(trial=0), s(trial=0), ls='', ms='.')"
   ]
  },
  {
   "cell_type": "code",
   "execution_count": null,
   "metadata": {
    "collapsed": true
   },
   "outputs": [],
   "source": []
  }
 ],
 "metadata": {
  "kernelspec": {
   "display_name": "Python 3",
   "language": "python",
   "name": "python3"
  },
  "language_info": {
   "codemirror_mode": {
    "name": "ipython",
    "version": 3
   },
   "file_extension": ".py",
   "mimetype": "text/x-python",
   "name": "python",
   "nbconvert_exporter": "python",
   "pygments_lexer": "ipython3",
   "version": "3.4.3+"
  }
 },
 "nbformat": 4,
 "nbformat_minor": 0
}
