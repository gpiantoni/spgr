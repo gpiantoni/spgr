{
 "cells": [
  {
   "cell_type": "markdown",
   "metadata": {},
   "source": [
    "# SPGR"
   ]
  },
  {
   "cell_type": "code",
   "execution_count": 1,
   "metadata": {
    "collapsed": false
   },
   "outputs": [
    {
     "name": "stdout",
     "output_type": "stream",
     "text": [
      "Last run on cashlab03-deb at 2015-04-24 12:23:25.592950\n",
      "\n",
      "Phypno Version: 08a5f16750362ead63ee8273fc44fe8546485de6\n",
      "\n",
      "Babel==1.3, Cython==0.22, Jinja2==2.7.3, Markdown==2.6.2, MarkupSafe==0.23, Pillow==2.8.1, PyOpenGL==3.1.0, Pygments==2.0.2, Sphinx==1.3.1, alabaster==0.7.3, bash-kernel==0.3, beautifulsoup4==4.3.2, biopython==1.65, certifi==14.05.14, coverage==3.7.1, decorator==3.4.2, docutils==0.12, easydev==0.8.3, ipython==3.1.0, jedi==0.8.1-final0, jsonschema==2.4.0, matplotlib==1.4.3, memory-profiler==0.32, mistune==0.5.1, networkx==1.9.1, nibabel==2.0.0, nitime==0.5, nltk==3.0.2, nose==1.3.6, numpy==1.9.2, numpydoc==0.5, ordereddict==1.1, pandas==0.16.0, pandocfilters==1.2.4, pep8==1.6.2, pexpect==3.3, pockets==0.2.4, psutil==2.2.1, pycurl==7.19.5.1, pyflakes==0.8.1, pyparsing==2.0.3, pyqtgraph==0.9.10, python-dateutil==2.4.2, python-igraph==0.7.1-4, pytz==2015.2, pyzmq==14.6.0, requests==2.6.2, rope-py3k==0.9.4-1, rpy2==2.5.6, scikit-learn==0.16.1, scipy==0.15.1, six==1.9.0, snowballstemmer==1.2.0, sphinx-rtd-theme==0.1.7, sphinxcontrib-napoleon==0.3.3, spyder==2.3.4, sympy==0.7.6, tornado==4.1, visvis==1.9.1, xmltodict==0.9.2, \n"
     ]
    }
   ],
   "source": [
    "import version_control"
   ]
  },
  {
   "cell_type": "code",
   "execution_count": 2,
   "metadata": {
    "collapsed": false
   },
   "outputs": [],
   "source": [
    "from spgr import lg\n",
    "from logging import INFO\n",
    "lg.setLevel(INFO)"
   ]
  },
  {
   "cell_type": "markdown",
   "metadata": {},
   "source": [
    "## Read Sleep"
   ]
  },
  {
   "cell_type": "markdown",
   "metadata": {},
   "source": [
    "### Selection of Patients"
   ]
  },
  {
   "cell_type": "code",
   "execution_count": 5,
   "metadata": {
    "collapsed": false
   },
   "outputs": [],
   "source": [
    "# define patients with grids\n",
    "subj_with_grid_scalp = ('EM03', 'EM09', 'MG07', 'MG11', 'MG12', 'MG15', 'MG17', \n",
    "                        'MG29', 'MG31', 'MG32', 'MG33', 'MG37', 'MG42', 'MG45', \n",
    "                        'MG48', 'MG49', 'MG51', 'MG56', 'MG61', 'MG63', 'MG65', 'MG72', 'MG83')\n",
    "subj_with_grid_only = ('MG28', 'MG64', 'MG67', 'MG75', 'MG81')\n",
    "\n",
    "# define patients to exclude\n",
    "subj_with_many_SZ = ('MG49', 'MG74', 'MG75', 'MG81', 'MG83')\n",
    "not_in_rec = ('MG12', )\n",
    "\n",
    "all_subj = (set(subj_with_grid_scalp) | set(subj_with_grid_only)) - set(subj_with_many_SZ) - set(not_in_rec)"
   ]
  },
  {
   "cell_type": "code",
   "execution_count": 6,
   "metadata": {
    "collapsed": false
   },
   "outputs": [],
   "source": [
    "from spgr.constants import PERIOD, STAGES, MIN_DURATION"
   ]
  },
  {
   "cell_type": "code",
   "execution_count": 7,
   "metadata": {
    "collapsed": false
   },
   "outputs": [
    {
     "name": "stderr",
     "output_type": "stream",
     "text": [
      "INFO:spgr.read_data:MG72: duration not sufficient\n",
      "INFO:spgr.read_data:MG67 has /home/gio/recordings/MG67/doc/scores/MG67_eeg_xltek_sessA_d11_08_08_21_scores.xml\n",
      "INFO:spgr.read_data:MG65: duration not sufficient\n",
      "INFO:spgr.read_data:MG64 has /home/gio/recordings/MG64/doc/scores/MG64_eeg_xltek_sessB_d18_08_17_49_scores.xml\n",
      "INFO:spgr.read_data:MG63 has /home/gio/recordings/MG63/doc/scores/MG63_eeg_xltek_sessA_d06_15_55_12_scores.xml\n",
      "INFO:spgr.read_data:MG61 has /home/gio/recordings/MG61/doc/scores/MG61_eeg_xltek_sessA_d03_07_58_11_scores.xml\n",
      "INFO:spgr.read_data:MG56: duration not sufficient\n",
      "INFO:spgr.read_data:MG51: duration not sufficient\n",
      "INFO:spgr.read_data:MG48: duration not sufficient\n",
      "INFO:spgr.read_data:MG45: duration not sufficient\n",
      "INFO:spgr.read_data:MG42: duration not sufficient\n",
      "INFO:spgr.read_data:MG37 has /home/gio/recordings/MG37/doc/scores/MG37_eeg_xltek_sessA_d03_12_18_14_scores.xml\n",
      "INFO:spgr.read_data:MG33 has /home/gio/recordings/MG33/doc/scores/MG33_eeg_xltek_sessA_d09_09_01_22_scores.xml\n",
      "INFO:spgr.read_data:MG32: duration not sufficient\n",
      "INFO:spgr.read_data:MG31: duration not sufficient\n",
      "INFO:spgr.read_data:MG29: duration not sufficient\n",
      "INFO:spgr.read_data:MG28: duration not sufficient\n",
      "INFO:spgr.read_data:MG17 has /home/gio/recordings/MG17/doc/scores/MG17_eeg_xltek_sessA_d03_17_48_30_scores.xml\n",
      "INFO:spgr.read_data:MG15: duration not sufficient\n",
      "INFO:spgr.read_data:MG11: duration not sufficient\n",
      "INFO:spgr.read_data:MG07: duration not sufficient\n",
      "INFO:spgr.read_data:EM09 has /home/gio/recordings/EM09/doc/scores/EM09_eeg_xltek_sessA_d05_11_53_38_scores.xml\n",
      "INFO:spgr.read_data:EM03: duration not sufficient\n",
      "INFO:spgr:\n",
      "Patients with sufficient recordings:\n",
      "INFO:spgr:EM09\tMG17\tMG33\tMG37\tMG61\tMG63\tMG64\tMG67\n"
     ]
    }
   ],
   "source": [
    "from spgr.read_data import select_scores, save_data\n",
    "scores = select_scores(STAGES, MIN_DURATION, sorted(all_subj, reverse=True))\n",
    "\n",
    "lg.info('\\nPatients with sufficient recordings:')\n",
    "lg.info('\\t'.join(sorted(scores.keys())))"
   ]
  },
  {
   "cell_type": "code",
   "execution_count": 6,
   "metadata": {
    "collapsed": false
   },
   "outputs": [
    {
     "name": "stderr",
     "output_type": "stream",
     "text": [
      "INFO:spgr:Grid patients with scalp : EM09, MG17, MG33, MG37, MG61, MG63\n",
      "INFO:spgr:Grid patients without scalp : MG64, MG67\n",
      "INFO:spgr:Depth patients without scalp : \n"
     ]
    }
   ],
   "source": [
    "good_subj = sorted(list(scores.keys()))\n",
    "\n",
    "lg.info('Grid patients with scalp : ' + ', '.join(sorted(set(good_subj) & set(subj_with_grid_scalp))))\n",
    "lg.info('Grid patients without scalp : ' + ', '.join(sorted(set(good_subj) & set(subj_with_grid_only))))\n",
    "lg.info('Depth patients without scalp : ' + ', '.join(sorted(set(good_subj) - set(subj_with_grid_scalp) - set(subj_with_grid_only))))"
   ]
  },
  {
   "cell_type": "markdown",
   "metadata": {},
   "source": [
    "### Read Recordings"
   ]
  },
  {
   "cell_type": "code",
   "execution_count": 12,
   "metadata": {
    "collapsed": false
   },
   "outputs": [],
   "source": [
    "from spgr.constants import HEMI_SUBJ, DATA_OPTIONS, CHAN_TYPE"
   ]
  },
  {
   "cell_type": "code",
   "execution_count": 13,
   "metadata": {
    "collapsed": false
   },
   "outputs": [
    {
     "ename": "NameError",
     "evalue": "name 'save_data' is not defined",
     "output_type": "error",
     "traceback": [
      "\u001b[1;31m---------------------------------------------------------------------------\u001b[0m",
      "\u001b[1;31mNameError\u001b[0m                                 Traceback (most recent call last)",
      "\u001b[1;32m<ipython-input-13-38a15952d09a>\u001b[0m in \u001b[0;36m<module>\u001b[1;34m()\u001b[0m\n\u001b[0;32m      1\u001b[0m \u001b[1;32mfor\u001b[0m \u001b[0msubj\u001b[0m \u001b[1;32min\u001b[0m \u001b[0mHEMI_SUBJ\u001b[0m\u001b[1;33m:\u001b[0m\u001b[1;33m\u001b[0m\u001b[0m\n\u001b[1;32m----> 2\u001b[1;33m     \u001b[0msave_data\u001b[0m\u001b[1;33m(\u001b[0m\u001b[0msubj\u001b[0m\u001b[1;33m,\u001b[0m \u001b[0mscores\u001b[0m\u001b[1;33m[\u001b[0m\u001b[0msubj\u001b[0m\u001b[1;33m]\u001b[0m\u001b[1;33m,\u001b[0m \u001b[0mPERIOD\u001b[0m\u001b[1;33m,\u001b[0m \u001b[0mSTAGES\u001b[0m\u001b[1;33m,\u001b[0m \u001b[0mchan_type\u001b[0m\u001b[1;33m=\u001b[0m\u001b[0mCHAN_TYPE\u001b[0m\u001b[1;33m,\u001b[0m \u001b[1;33m**\u001b[0m\u001b[0mDATA_OPTIONS\u001b[0m\u001b[1;33m)\u001b[0m\u001b[1;33m\u001b[0m\u001b[0m\n\u001b[0m",
      "\u001b[1;31mNameError\u001b[0m: name 'save_data' is not defined"
     ]
    }
   ],
   "source": [
    "for subj in HEMI_SUBJ:\n",
    "    save_data(subj, scores[subj], PERIOD, STAGES, chan_type=CHAN_TYPE, **DATA_OPTIONS)"
   ]
  },
  {
   "cell_type": "code",
   "execution_count": 11,
   "metadata": {
    "collapsed": false
   },
   "outputs": [
    {
     "ename": "NameError",
     "evalue": "name 'PERIOD' is not defined",
     "output_type": "error",
     "traceback": [
      "\u001b[1;31m---------------------------------------------------------------------------\u001b[0m",
      "\u001b[1;31mNameError\u001b[0m                                 Traceback (most recent call last)",
      "\u001b[1;32m<ipython-input-11-f01bcfb43b89>\u001b[0m in \u001b[0;36m<module>\u001b[1;34m()\u001b[0m\n\u001b[0;32m      1\u001b[0m \u001b[1;32mfrom\u001b[0m \u001b[0mspgr\u001b[0m\u001b[1;33m.\u001b[0m\u001b[0mread_data\u001b[0m \u001b[1;32mimport\u001b[0m \u001b[0mget_data\u001b[0m\u001b[1;33m\u001b[0m\u001b[0m\n\u001b[0;32m      2\u001b[0m \u001b[0msubj\u001b[0m \u001b[1;33m=\u001b[0m \u001b[1;34m'MG64'\u001b[0m\u001b[1;33m\u001b[0m\u001b[0m\n\u001b[1;32m----> 3\u001b[1;33m \u001b[0mdata\u001b[0m \u001b[1;33m=\u001b[0m \u001b[0mget_data\u001b[0m\u001b[1;33m(\u001b[0m\u001b[0msubj\u001b[0m\u001b[1;33m,\u001b[0m \u001b[0mPERIOD\u001b[0m\u001b[1;33m,\u001b[0m \u001b[0mchan_type\u001b[0m\u001b[1;33m=\u001b[0m\u001b[0mCHAN_TYPE\u001b[0m\u001b[1;33m,\u001b[0m \u001b[1;33m**\u001b[0m\u001b[0mDATA_OPTIONS\u001b[0m\u001b[1;33m)\u001b[0m\u001b[1;33m\u001b[0m\u001b[0m\n\u001b[0m",
      "\u001b[1;31mNameError\u001b[0m: name 'PERIOD' is not defined"
     ]
    }
   ],
   "source": [
    "from spgr.read_data import get_data\n",
    "subj = 'MG64'\n",
    "data = get_data(subj, PERIOD, chan_type=CHAN_TYPE, **DATA_OPTIONS)"
   ]
  }
 ],
 "metadata": {
  "kernelspec": {
   "display_name": "Python 3",
   "language": "python",
   "name": "python3"
  },
  "language_info": {
   "codemirror_mode": {
    "name": "ipython",
    "version": 3
   },
   "file_extension": ".py",
   "mimetype": "text/x-python",
   "name": "python",
   "nbconvert_exporter": "python",
   "pygments_lexer": "ipython3",
   "version": "3.4.2"
  }
 },
 "nbformat": 4,
 "nbformat_minor": 0
}
