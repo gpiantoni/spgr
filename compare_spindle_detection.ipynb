{
 "metadata": {
  "name": "",
  "signature": "sha256:25607406091bd23b2392791f316ec38c2c5d3df3920b1156e81613f643eb18b6"
 },
 "nbformat": 3,
 "nbformat_minor": 0,
 "worksheets": [
  {
   "cells": [
    {
     "cell_type": "heading",
     "level": 1,
     "metadata": {},
     "source": [
      "SPGR"
     ]
    },
    {
     "cell_type": "code",
     "collapsed": false,
     "input": [
      "import version_control"
     ],
     "language": "python",
     "metadata": {},
     "outputs": [
      {
       "output_type": "stream",
       "stream": "stdout",
       "text": [
        "Last run on 2014-06-23 13:22:38.436547\n",
        "\n",
        "Phypno Version: 871ffa4b68cbb5d8c1d3d0fe10ef6716ac99946a\n",
        "\n",
        "Jinja2==2.7.2, MarkupSafe==0.18, Pillow==2.4.0, PyOpenGL==3.0.2, PyYAML==3.11, Pygments==1.6, backports.ssl-match-hostname==3.4.0.2, conda==3.5.5, ipython==2.1.0, nose==1.3.3, numpy==1.8.1, pycosat==0.6.1, pyzmq==14.3.0, requests==2.3.0, scipy==0.14.0, tornado==3.2.1, visvis==1.9, "
       ]
      },
      {
       "output_type": "stream",
       "stream": "stdout",
       "text": [
        "\n"
       ]
      }
     ],
     "prompt_number": 2
    },
    {
     "cell_type": "code",
     "collapsed": false,
     "input": [
      "from spgr import lg"
     ],
     "language": "python",
     "metadata": {},
     "outputs": [],
     "prompt_number": 1
    },
    {
     "cell_type": "heading",
     "level": 2,
     "metadata": {},
     "source": [
      "Compare Spindle Detection"
     ]
    },
    {
     "cell_type": "heading",
     "level": 3,
     "metadata": {},
     "source": [
      "Detect spindles using different methods"
     ]
    },
    {
     "cell_type": "markdown",
     "metadata": {},
     "source": [
      "Get list of grid sleep recordings that have been read on disk and are ready to be used"
     ]
    },
    {
     "cell_type": "code",
     "collapsed": false,
     "input": [
      "from os import listdir\n",
      "from spgr.read_data import DATA_DIR\n",
      "\n",
      "all_subj = listdir(DATA_DIR)\n",
      "print('\\t'.join(all_subj))"
     ],
     "language": "python",
     "metadata": {},
     "outputs": [
      {
       "output_type": "stream",
       "stream": "stderr",
       "text": [
        "WARNING:phypno.attr.anat:nibabel (optional dependency) is not installed. You will not be able to read Freesurfer annotations and segmentations.\n"
       ]
      },
      {
       "output_type": "stream",
       "stream": "stdout",
       "text": [
        "EM09\tMG17\tMG33\tMG37\tMG49\tMG51\tMG61\tMG63\tMG65\tMG72\n"
       ]
      }
     ],
     "prompt_number": 4
    },
    {
     "cell_type": "code",
     "collapsed": false,
     "input": [
      "from pickle import dump\n",
      "from os.path import join\n",
      "\n",
      "from phypno.detect import DetectSpindle\n",
      "\n",
      "from spgr.detect_spindles import calc_spindle_values\n",
      "from spgr.read_data import GROUP_DIR"
     ],
     "language": "python",
     "metadata": {},
     "outputs": [],
     "prompt_number": 6
    },
    {
     "cell_type": "code",
     "collapsed": false,
     "input": [
      "methods = ['UCSD', 'Nir2011', 'Wamsley2012'][:2]\n",
      "method_opts = [5, 3, 2, 1, .5]\n",
      "\n",
      "for one_method in methods:\n",
      "    for one_opts in method_opts:\n",
      "        detsp = DetectSpindle(method=one_method, frequency=(11, 18), duration=(0.5, 2))\n",
      "        detsp.power_peaks = None  # we don't care about power peaks\n",
      "        detsp.det_thresh = one_opts\n",
      "        detsp.sel_thresh = one_opts / 2\n",
      "        \n",
      "        spindle_name = 'spindles_' + one_method + '_' + str(one_opts) + '.pkl'\n",
      "        lg.info(spindle_name)\n",
      "        \n",
      "        all_spindles = []\n",
      "        for subj in all_subj:\n",
      "            all_spindles.append(calc_spindle_values(subj, detsp=detsp, \n",
      "                                                    ref_to_avg=False, lsf=True))\n",
      "\n",
      "        with open(join(GROUP_DIR, spindle_name), 'wb') as f:\n",
      "            dump(all_spindles, f)"
     ],
     "language": "python",
     "metadata": {},
     "outputs": [
      {
       "output_type": "stream",
       "stream": "stderr",
       "text": [
        "WARNING:lsf:Wall Time: 19.27s, CPU time: 47.37s, speed-up: 2.46X\n"
       ]
      },
      {
       "output_type": "stream",
       "stream": "stderr",
       "text": [
        "WARNING:lsf:Wall Time: 18.63s, CPU time: 81.19s, speed-up: 4.36X\n"
       ]
      },
      {
       "output_type": "stream",
       "stream": "stderr",
       "text": [
        "WARNING:lsf:Wall Time: 18.21s, CPU time: 62.25s, speed-up: 3.42X\n"
       ]
      },
      {
       "output_type": "stream",
       "stream": "stderr",
       "text": [
        "WARNING:lsf:Wall Time: 19.29s, CPU time: 73.13s, speed-up: 3.79X\n"
       ]
      },
      {
       "output_type": "stream",
       "stream": "stderr",
       "text": [
        "WARNING:lsf:Wall Time: 19.62s, CPU time: 62.23s, speed-up: 3.17X\n"
       ]
      },
      {
       "output_type": "stream",
       "stream": "stderr",
       "text": [
        "WARNING:lsf:Wall Time: 21.15s, CPU time: 52.01s, speed-up: 2.46X\n"
       ]
      },
      {
       "output_type": "stream",
       "stream": "stderr",
       "text": [
        "WARNING:lsf:Wall Time: 24.18s, CPU time: 94.30s, speed-up: 3.90X\n"
       ]
      },
      {
       "output_type": "stream",
       "stream": "stderr",
       "text": [
        "WARNING:lsf:Wall Time: 28.31s, CPU time: 89.82s, speed-up: 3.17X\n"
       ]
      },
      {
       "output_type": "stream",
       "stream": "stderr",
       "text": [
        "WARNING:lsf:Wall Time: 17.54s, CPU time: 42.81s, speed-up: 2.44X\n"
       ]
      },
      {
       "output_type": "stream",
       "stream": "stderr",
       "text": [
        "WARNING:lsf:Wall Time: 14.61s, CPU time: 51.34s, speed-up: 3.51X\n"
       ]
      },
      {
       "output_type": "stream",
       "stream": "stdout",
       "text": [
        "spindles_UCSD_5.pkl\n",
        "spindles_UCSD_3.pkl"
       ]
      },
      {
       "output_type": "stream",
       "stream": "stderr",
       "text": [
        "WARNING:lsf:Wall Time: 19.44s, CPU time: 47.21s, speed-up: 2.43X\n"
       ]
      },
      {
       "output_type": "stream",
       "stream": "stderr",
       "text": [
        "WARNING:lsf:Wall Time: 29.56s, CPU time: 89.52s, speed-up: 3.03X\n"
       ]
      },
      {
       "output_type": "stream",
       "stream": "stderr",
       "text": [
        "WARNING:lsf:Wall Time: 17.17s, CPU time: 75.12s, speed-up: 4.37X\n"
       ]
      },
      {
       "output_type": "stream",
       "stream": "stderr",
       "text": [
        "WARNING:lsf:Wall Time: 26.98s, CPU time: 76.57s, speed-up: 2.84X\n"
       ]
      },
      {
       "output_type": "stream",
       "stream": "stderr",
       "text": [
        "WARNING:lsf:Wall Time: 24.35s, CPU time: 80.21s, speed-up: 3.29X\n"
       ]
      },
      {
       "output_type": "stream",
       "stream": "stderr",
       "text": [
        "WARNING:lsf:Wall Time: 15.44s, CPU time: 53.81s, speed-up: 3.48X\n"
       ]
      },
      {
       "output_type": "stream",
       "stream": "stderr",
       "text": [
        "WARNING:lsf:Wall Time: 32.48s, CPU time: 100.90s, speed-up: 3.11X\n"
       ]
      },
      {
       "output_type": "stream",
       "stream": "stderr",
       "text": [
        "WARNING:lsf:Wall Time: 27.89s, CPU time: 116.92s, speed-up: 4.19X\n"
       ]
      },
      {
       "output_type": "stream",
       "stream": "stderr",
       "text": [
        "WARNING:lsf:Wall Time: 29.54s, CPU time: 43.73s, speed-up: 1.48X\n"
       ]
      },
      {
       "output_type": "stream",
       "stream": "stderr",
       "text": [
        "WARNING:lsf:Wall Time: 28.50s, CPU time: 57.63s, speed-up: 2.02X\n"
       ]
      },
      {
       "output_type": "stream",
       "stream": "stdout",
       "text": [
        "\n",
        "spindles_UCSD_2.pkl"
       ]
      },
      {
       "output_type": "stream",
       "stream": "stderr",
       "text": [
        "WARNING:lsf:Wall Time: 29.07s, CPU time: 51.92s, speed-up: 1.79X\n"
       ]
      },
      {
       "output_type": "stream",
       "stream": "stderr",
       "text": [
        "WARNING:lsf:Wall Time: 29.39s, CPU time: 109.18s, speed-up: 3.71X\n"
       ]
      },
      {
       "output_type": "stream",
       "stream": "stderr",
       "text": [
        "WARNING:lsf:Wall Time: 25.05s, CPU time: 88.70s, speed-up: 3.54X\n"
       ]
      },
      {
       "output_type": "stream",
       "stream": "stderr",
       "text": [
        "WARNING:lsf:Wall Time: 22.24s, CPU time: 98.73s, speed-up: 4.44X\n"
       ]
      },
      {
       "output_type": "stream",
       "stream": "stderr",
       "text": [
        "WARNING:lsf:Wall Time: 32.64s, CPU time: 118.33s, speed-up: 3.63X\n"
       ]
      },
      {
       "output_type": "stream",
       "stream": "stderr",
       "text": [
        "WARNING:lsf:Wall Time: 24.14s, CPU time: 71.64s, speed-up: 2.97X\n"
       ]
      },
      {
       "output_type": "stream",
       "stream": "stderr",
       "text": [
        "WARNING:lsf:Wall Time: 29.38s, CPU time: 128.56s, speed-up: 4.38X\n"
       ]
      },
      {
       "output_type": "stream",
       "stream": "stderr",
       "text": [
        "WARNING:lsf:Wall Time: 34.89s, CPU time: 127.82s, speed-up: 3.66X\n"
       ]
      },
      {
       "output_type": "stream",
       "stream": "stderr",
       "text": [
        "WARNING:lsf:Wall Time: 16.70s, CPU time: 57.29s, speed-up: 3.43X\n"
       ]
      },
      {
       "output_type": "stream",
       "stream": "stderr",
       "text": [
        "WARNING:lsf:Wall Time: 15.43s, CPU time: 70.87s, speed-up: 4.59X\n"
       ]
      },
      {
       "output_type": "stream",
       "stream": "stdout",
       "text": [
        "\n",
        "spindles_UCSD_1.pkl"
       ]
      },
      {
       "output_type": "stream",
       "stream": "stderr",
       "text": [
        "WARNING:lsf:Wall Time: 23.42s, CPU time: 78.59s, speed-up: 3.36X\n"
       ]
      },
      {
       "output_type": "stream",
       "stream": "stderr",
       "text": [
        "WARNING:lsf:Wall Time: 27.73s, CPU time: 166.19s, speed-up: 5.99X\n"
       ]
      },
      {
       "output_type": "stream",
       "stream": "stderr",
       "text": [
        "WARNING:lsf:Wall Time: 25.26s, CPU time: 133.15s, speed-up: 5.27X\n"
       ]
      },
      {
       "output_type": "stream",
       "stream": "stderr",
       "text": [
        "WARNING:lsf:Wall Time: 27.53s, CPU time: 136.12s, speed-up: 4.94X\n"
       ]
      },
      {
       "output_type": "stream",
       "stream": "stderr",
       "text": [
        "WARNING:lsf:Wall Time: 36.22s, CPU time: 162.65s, speed-up: 4.49X\n"
       ]
      },
      {
       "output_type": "stream",
       "stream": "stderr",
       "text": [
        "WARNING:lsf:Wall Time: 24.55s, CPU time: 97.16s, speed-up: 3.96X\n"
       ]
      },
      {
       "output_type": "stream",
       "stream": "stderr",
       "text": [
        "WARNING:lsf:Wall Time: 34.58s, CPU time: 195.95s, speed-up: 5.67X\n"
       ]
      },
      {
       "output_type": "stream",
       "stream": "stderr",
       "text": [
        "WARNING:lsf:Wall Time: 32.09s, CPU time: 188.57s, speed-up: 5.88X\n"
       ]
      },
      {
       "output_type": "stream",
       "stream": "stderr",
       "text": [
        "WARNING:lsf:Wall Time: 30.77s, CPU time: 94.73s, speed-up: 3.08X\n"
       ]
      },
      {
       "output_type": "stream",
       "stream": "stderr",
       "text": [
        "WARNING:lsf:Wall Time: 25.50s, CPU time: 111.67s, speed-up: 4.38X\n"
       ]
      },
      {
       "output_type": "stream",
       "stream": "stdout",
       "text": [
        "\n",
        "spindles_UCSD_0.5.pkl"
       ]
      },
      {
       "output_type": "stream",
       "stream": "stderr",
       "text": [
        "WARNING:lsf:Wall Time: 28.28s, CPU time: 90.67s, speed-up: 3.21X\n"
       ]
      },
      {
       "output_type": "stream",
       "stream": "stderr",
       "text": [
        "WARNING:lsf:Wall Time: 36.42s, CPU time: 212.35s, speed-up: 5.83X\n"
       ]
      },
      {
       "output_type": "stream",
       "stream": "stderr",
       "text": [
        "WARNING:lsf:Wall Time: 39.60s, CPU time: 191.62s, speed-up: 4.84X\n"
       ]
      },
      {
       "output_type": "stream",
       "stream": "stderr",
       "text": [
        "WARNING:lsf:Wall Time: 33.71s, CPU time: 164.75s, speed-up: 4.89X\n"
       ]
      },
      {
       "output_type": "stream",
       "stream": "stderr",
       "text": [
        "WARNING:lsf:Wall Time: 48.06s, CPU time: 213.07s, speed-up: 4.43X\n"
       ]
      },
      {
       "output_type": "stream",
       "stream": "stderr",
       "text": [
        "WARNING:lsf:Wall Time: 31.90s, CPU time: 120.97s, speed-up: 3.79X\n"
       ]
      },
      {
       "output_type": "stream",
       "stream": "stderr",
       "text": [
        "WARNING:lsf:Wall Time: 69.33s, CPU time: 259.56s, speed-up: 3.74X\n"
       ]
      },
      {
       "output_type": "stream",
       "stream": "stderr",
       "text": [
        "WARNING:lsf:Wall Time: 54.86s, CPU time: 248.69s, speed-up: 4.53X\n"
       ]
      },
      {
       "output_type": "stream",
       "stream": "stderr",
       "text": [
        "WARNING:lsf:Wall Time: 28.61s, CPU time: 116.38s, speed-up: 4.07X\n"
       ]
      },
      {
       "output_type": "stream",
       "stream": "stderr",
       "text": [
        "WARNING:lsf:Wall Time: 43.66s, CPU time: 148.21s, speed-up: 3.39X\n"
       ]
      },
      {
       "output_type": "stream",
       "stream": "stdout",
       "text": [
        "\n",
        "spindles_Nir2011_5.pkl"
       ]
      },
      {
       "output_type": "stream",
       "stream": "stderr",
       "text": [
        "WARNING:lsf:Wall Time: 17.30s, CPU time: 10.82s, speed-up: 0.63X\n"
       ]
      },
      {
       "output_type": "stream",
       "stream": "stderr",
       "text": [
        "WARNING:lsf:Wall Time: 18.73s, CPU time: 14.57s, speed-up: 0.78X\n"
       ]
      },
      {
       "output_type": "stream",
       "stream": "stderr",
       "text": [
        "WARNING:lsf:Wall Time: 13.07s, CPU time: 12.72s, speed-up: 0.97X\n"
       ]
      },
      {
       "output_type": "stream",
       "stream": "stderr",
       "text": [
        "WARNING:lsf:Wall Time: 16.93s, CPU time: 14.12s, speed-up: 0.83X\n"
       ]
      },
      {
       "output_type": "stream",
       "stream": "stderr",
       "text": [
        "WARNING:lsf:Wall Time: 11.52s, CPU time: 13.64s, speed-up: 1.18X\n"
       ]
      },
      {
       "output_type": "stream",
       "stream": "stderr",
       "text": [
        "WARNING:lsf:Wall Time: 11.20s, CPU time: 11.44s, speed-up: 1.02X\n"
       ]
      },
      {
       "output_type": "stream",
       "stream": "stderr",
       "text": [
        "WARNING:lsf:Wall Time: 16.77s, CPU time: 17.98s, speed-up: 1.07X\n"
       ]
      },
      {
       "output_type": "stream",
       "stream": "stderr",
       "text": [
        "WARNING:lsf:Wall Time: 16.90s, CPU time: 18.03s, speed-up: 1.07X\n"
       ]
      },
      {
       "output_type": "stream",
       "stream": "stderr",
       "text": [
        "WARNING:lsf:Wall Time: 11.90s, CPU time: 10.90s, speed-up: 0.92X\n"
       ]
      },
      {
       "output_type": "stream",
       "stream": "stderr",
       "text": [
        "WARNING:lsf:Wall Time: 10.74s, CPU time: 9.09s, speed-up: 0.85X\n"
       ]
      },
      {
       "output_type": "stream",
       "stream": "stdout",
       "text": [
        "\n",
        "spindles_Nir2011_3.pkl"
       ]
      },
      {
       "output_type": "stream",
       "stream": "stderr",
       "text": [
        "WARNING:lsf:Wall Time: 12.94s, CPU time: 15.81s, speed-up: 1.22X\n"
       ]
      },
      {
       "output_type": "stream",
       "stream": "stderr",
       "text": [
        "WARNING:lsf:Wall Time: 19.48s, CPU time: 27.21s, speed-up: 1.40X\n"
       ]
      },
      {
       "output_type": "stream",
       "stream": "stderr",
       "text": [
        "WARNING:lsf:Wall Time: 16.59s, CPU time: 19.78s, speed-up: 1.19X\n"
       ]
      },
      {
       "output_type": "stream",
       "stream": "stderr",
       "text": [
        "WARNING:lsf:Wall Time: 14.53s, CPU time: 33.90s, speed-up: 2.33X\n"
       ]
      },
      {
       "output_type": "stream",
       "stream": "stderr",
       "text": [
        "WARNING:lsf:Wall Time: 16.80s, CPU time: 26.77s, speed-up: 1.59X\n"
       ]
      },
      {
       "output_type": "stream",
       "stream": "stderr",
       "text": [
        "WARNING:lsf:Wall Time: 17.16s, CPU time: 19.92s, speed-up: 1.16X\n"
       ]
      },
      {
       "output_type": "stream",
       "stream": "stderr",
       "text": [
        "WARNING:lsf:Wall Time: 17.75s, CPU time: 23.19s, speed-up: 1.31X\n"
       ]
      },
      {
       "output_type": "stream",
       "stream": "stderr",
       "text": [
        "WARNING:lsf:Wall Time: 19.14s, CPU time: 35.39s, speed-up: 1.85X\n"
       ]
      },
      {
       "output_type": "stream",
       "stream": "stderr",
       "text": [
        "WARNING:lsf:Wall Time: 11.90s, CPU time: 11.48s, speed-up: 0.97X\n"
       ]
      },
      {
       "output_type": "stream",
       "stream": "stderr",
       "text": [
        "WARNING:lsf:Wall Time: 12.15s, CPU time: 14.77s, speed-up: 1.22X\n"
       ]
      },
      {
       "output_type": "stream",
       "stream": "stdout",
       "text": [
        "\n",
        "spindles_Nir2011_2.pkl"
       ]
      },
      {
       "output_type": "stream",
       "stream": "stderr",
       "text": [
        "WARNING:lsf:Wall Time: 22.87s, CPU time: 31.97s, speed-up: 1.40X\n"
       ]
      },
      {
       "output_type": "stream",
       "stream": "stderr",
       "text": [
        "WARNING:lsf:Wall Time: 22.22s, CPU time: 71.27s, speed-up: 3.21X\n"
       ]
      },
      {
       "output_type": "stream",
       "stream": "stderr",
       "text": [
        "WARNING:lsf:Wall Time: 24.26s, CPU time: 51.69s, speed-up: 2.13X\n"
       ]
      },
      {
       "output_type": "stream",
       "stream": "stderr",
       "text": [
        "WARNING:lsf:Wall Time: 28.78s, CPU time: 64.25s, speed-up: 2.23X\n"
       ]
      },
      {
       "output_type": "stream",
       "stream": "stderr",
       "text": [
        "WARNING:lsf:Wall Time: 19.86s, CPU time: 67.65s, speed-up: 3.41X\n"
       ]
      },
      {
       "output_type": "stream",
       "stream": "stderr",
       "text": [
        "WARNING:lsf:Wall Time: 16.03s, CPU time: 47.20s, speed-up: 2.95X\n"
       ]
      },
      {
       "output_type": "stream",
       "stream": "stderr",
       "text": [
        "WARNING:lsf:Wall Time: 24.16s, CPU time: 79.22s, speed-up: 3.28X\n"
       ]
      },
      {
       "output_type": "stream",
       "stream": "stderr",
       "text": [
        "WARNING:lsf:Wall Time: 26.91s, CPU time: 87.91s, speed-up: 3.27X\n"
       ]
      },
      {
       "output_type": "stream",
       "stream": "stderr",
       "text": [
        "WARNING:lsf:Wall Time: 20.70s, CPU time: 34.91s, speed-up: 1.69X\n"
       ]
      },
      {
       "output_type": "stream",
       "stream": "stderr",
       "text": [
        "WARNING:lsf:Wall Time: 17.43s, CPU time: 48.65s, speed-up: 2.79X\n"
       ]
      },
      {
       "output_type": "stream",
       "stream": "stdout",
       "text": [
        "\n",
        "spindles_Nir2011_1.pkl"
       ]
      },
      {
       "output_type": "stream",
       "stream": "stderr",
       "text": [
        "WARNING:lsf:Wall Time: 19.36s, CPU time: 66.13s, speed-up: 3.42X\n"
       ]
      },
      {
       "output_type": "stream",
       "stream": "stderr",
       "text": [
        "WARNING:lsf:Wall Time: 37.85s, CPU time: 174.00s, speed-up: 4.60X\n"
       ]
      },
      {
       "output_type": "stream",
       "stream": "stderr",
       "text": [
        "WARNING:lsf:Wall Time: 33.74s, CPU time: 164.49s, speed-up: 4.88X\n"
       ]
      },
      {
       "output_type": "stream",
       "stream": "stderr",
       "text": [
        "WARNING:lsf:Wall Time: 29.70s, CPU time: 117.01s, speed-up: 3.94X\n"
       ]
      },
      {
       "output_type": "stream",
       "stream": "stderr",
       "text": [
        "WARNING:lsf:Wall Time: 52.79s, CPU time: 219.58s, speed-up: 4.16X\n"
       ]
      },
      {
       "output_type": "stream",
       "stream": "stderr",
       "text": [
        "WARNING:lsf:Wall Time: 30.13s, CPU time: 99.83s, speed-up: 3.31X\n"
       ]
      },
      {
       "output_type": "stream",
       "stream": "stderr",
       "text": [
        "WARNING:lsf:Wall Time: 52.49s, CPU time: 239.74s, speed-up: 4.57X\n"
       ]
      },
      {
       "output_type": "stream",
       "stream": "stderr",
       "text": [
        "WARNING:lsf:Wall Time: 52.47s, CPU time: 236.14s, speed-up: 4.50X\n"
       ]
      },
      {
       "output_type": "stream",
       "stream": "stderr",
       "text": [
        "WARNING:lsf:Wall Time: 27.32s, CPU time: 96.46s, speed-up: 3.53X\n"
       ]
      },
      {
       "output_type": "stream",
       "stream": "stderr",
       "text": [
        "WARNING:lsf:Wall Time: 32.39s, CPU time: 130.98s, speed-up: 4.04X\n"
       ]
      },
      {
       "output_type": "stream",
       "stream": "stdout",
       "text": [
        "\n",
        "spindles_Nir2011_0.5.pkl"
       ]
      },
      {
       "output_type": "stream",
       "stream": "stderr",
       "text": [
        "WARNING:lsf:Wall Time: 16.15s, CPU time: 34.33s, speed-up: 2.13X\n"
       ]
      },
      {
       "output_type": "stream",
       "stream": "stderr",
       "text": [
        "WARNING:lsf:Wall Time: 26.65s, CPU time: 66.16s, speed-up: 2.48X\n"
       ]
      },
      {
       "output_type": "stream",
       "stream": "stderr",
       "text": [
        "WARNING:lsf:Wall Time: 22.41s, CPU time: 36.95s, speed-up: 1.65X\n"
       ]
      },
      {
       "output_type": "stream",
       "stream": "stderr",
       "text": [
        "WARNING:lsf:Wall Time: 27.26s, CPU time: 106.97s, speed-up: 3.92X\n"
       ]
      },
      {
       "output_type": "stream",
       "stream": "stderr",
       "text": [
        "WARNING:lsf:Wall Time: 20.03s, CPU time: 66.41s, speed-up: 3.32X\n"
       ]
      },
      {
       "output_type": "stream",
       "stream": "stderr",
       "text": [
        "WARNING:lsf:Wall Time: 19.49s, CPU time: 46.03s, speed-up: 2.36X\n"
       ]
      },
      {
       "output_type": "stream",
       "stream": "stderr",
       "text": [
        "WARNING:lsf:Wall Time: 22.84s, CPU time: 44.16s, speed-up: 1.93X\n"
       ]
      },
      {
       "output_type": "stream",
       "stream": "stderr",
       "text": [
        "WARNING:lsf:Wall Time: 23.12s, CPU time: 88.50s, speed-up: 3.83X\n"
       ]
      },
      {
       "output_type": "stream",
       "stream": "stderr",
       "text": [
        "WARNING:lsf:Wall Time: 13.38s, CPU time: 22.59s, speed-up: 1.69X\n"
       ]
      },
      {
       "output_type": "stream",
       "stream": "stderr",
       "text": [
        "WARNING:lsf:Wall Time: 16.40s, CPU time: 40.27s, speed-up: 2.45X\n"
       ]
      },
      {
       "output_type": "stream",
       "stream": "stdout",
       "text": [
        "\n"
       ]
      }
     ],
     "prompt_number": 8
    },
    {
     "cell_type": "heading",
     "level": 3,
     "metadata": {},
     "source": [
      "Read detected spindles"
     ]
    },
    {
     "cell_type": "code",
     "collapsed": false,
     "input": [
      "one_method = 'Nir2011'\n",
      "one_opts = 2\n",
      "spindle_name = 'spindles_' + one_method + '_' + str(one_opts) + '.pkl'\n",
      "\n",
      "from pickle import load\n",
      "with open(join(GROUP_DIR, spindle_name), 'rb') as f:\n",
      "    sp_Nir2011 = load(f)"
     ],
     "language": "python",
     "metadata": {},
     "outputs": []
    },
    {
     "cell_type": "code",
     "collapsed": false,
     "input": [
      "one_method = 'UCSD'\n",
      "one_opts = 2\n",
      "spindle_name = 'spindles_' + one_method + '_' + str(one_opts) + '.pkl'\n",
      "\n",
      "from pickle import load\n",
      "with open(join(GROUP_DIR, spindle_name), 'rb') as f:\n",
      "    sp_UCSD = load(f)"
     ],
     "language": "python",
     "metadata": {},
     "outputs": []
    },
    {
     "cell_type": "heading",
     "level": 3,
     "metadata": {},
     "source": [
      "Compare spindles detected with two methods"
     ]
    },
    {
     "cell_type": "code",
     "collapsed": false,
     "input": [
      "def compare_spindles(info_A, info_B):\n",
      "    n_subj = len(info_A)\n",
      "    common = zeros(n_subj)\n",
      "    only_A = zeros(n_subj)\n",
      "    only_B = zeros(n_subj)\n",
      "    \n",
      "    for i, subj_A, subj_B in zip(range(n_subj), info_A, info_B):\n",
      "        \n",
      "        spindles_A = subj_A['spindles']\n",
      "        spindles_B = subj_B['spindles']\n",
      "        all_chan = subj_A['chan']\n",
      "        for chan in all_chan:\n",
      "            \n",
      "            sp_A = [x for x in spindles_A if x['chan'] == chan]\n",
      "            sp_B = [x for x in spindles_B if x['chan'] == chan]\n",
      "            \n",
      "            st_A = [x['start_time'] for x in sp_A]\n",
      "            st_B = [x['start_time'] for x in sp_B]\n",
      "\n",
      "            et_A = [x['end_time'] for x in sp_A]\n",
      "            et_B = [x['end_time'] for x in sp_B]\n",
      "            \n",
      "            st_A = expand_dims(asarray(st_A), 1)\n",
      "            et_A = expand_dims(asarray(et_A), 1)\n",
      "\n",
      "            st_B = expand_dims(asarray(st_B), 1)\n",
      "            et_B = expand_dims(asarray(et_B), 1)\n",
      "\n",
      "            common_in_chan = sum((st_A <= et_B.T) & (st_B.T <= et_A))\n",
      "            only_A_in_chan = len(sp_A) - common_in_chan\n",
      "            only_B_in_chan = len(sp_B) - common_in_chan\n",
      "            \n",
      "            common[i] += common_in_chan\n",
      "            only_A[i] += only_A_in_chan\n",
      "            only_B[i] += only_B_in_chan\n",
      "            \n",
      "        common[i] /= len(all_chan)\n",
      "        only_A[i] /= len(all_chan)\n",
      "        only_B[i] /= len(all_chan)\n",
      "            \n",
      "    return (common / (common + only_A) + common / (common + only_B)) / 2\n"
     ],
     "language": "python",
     "metadata": {},
     "outputs": []
    },
    {
     "cell_type": "code",
     "collapsed": false,
     "input": [
      "val = compare_spindles(sp_UCSD, sp_Nir2011)"
     ],
     "language": "python",
     "metadata": {},
     "outputs": []
    },
    {
     "cell_type": "heading",
     "level": 3,
     "metadata": {},
     "source": [
      "Conclusion"
     ]
    },
    {
     "cell_type": "markdown",
     "metadata": {},
     "source": [
      "Spindle detection methods find the main large spindles pretty well. However, there are some differences between methods, especially for smaller spindles.\n",
      "\n",
      "It's important to use multiple thresholds (one for detection, one for selection of the duration). It's also important to use the power spectrum to exclude transients that have activity in multiple frequencies."
     ]
    }
   ],
   "metadata": {}
  }
 ]
}