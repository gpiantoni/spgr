{
 "cells": [
  {
   "cell_type": "markdown",
   "metadata": {},
   "source": [
    "# SPGR"
   ]
  },
  {
   "cell_type": "code",
   "execution_count": 1,
   "metadata": {
    "collapsed": false
   },
   "outputs": [
    {
     "name": "stdout",
     "output_type": "stream",
     "text": [
      "Last run on cashlab03-deb at 2015-04-24 13:45:03.207912\n",
      "\n",
      "Phypno Version: 08a5f16750362ead63ee8273fc44fe8546485de6\n",
      "\n",
      "Babel==1.3, Cython==0.22, Jinja2==2.7.3, Markdown==2.6.2, MarkupSafe==0.23, Pillow==2.8.1, PyOpenGL==3.1.0, Pygments==2.0.2, Sphinx==1.3.1, alabaster==0.7.3, bash-kernel==0.3, beautifulsoup4==4.3.2, biopython==1.65, certifi==14.05.14, coverage==3.7.1, decorator==3.4.2, docutils==0.12, easydev==0.8.3, ipython==3.1.0, jedi==0.8.1-final0, jsonschema==2.4.0, matplotlib==1.4.3, memory-profiler==0.32, mistune==0.5.1, networkx==1.9.1, nibabel==2.0.0, nitime==0.5, nltk==3.0.2, nose==1.3.6, numpy==1.9.2, numpydoc==0.5, ordereddict==1.1, pandas==0.16.0, pandocfilters==1.2.4, pep8==1.6.2, pexpect==3.3, pockets==0.2.4, psutil==2.2.1, pycurl==7.19.5.1, pyflakes==0.8.1, pyparsing==2.0.3, pyqtgraph==0.9.10, python-dateutil==2.4.2, python-igraph==0.7.1-4, pytz==2015.2, pyzmq==14.6.0, requests==2.6.2, rope-py3k==0.9.4-1, rpy2==2.5.6, scikit-learn==0.16.1, scipy==0.15.1, six==1.9.0, snowballstemmer==1.2.0, sphinx-rtd-theme==0.1.7, sphinxcontrib-napoleon==0.3.3, spyder==2.3.4, sympy==0.7.6, tornado==4.1, visvis==1.9.1, xmltodict==0.9.2, \n"
     ]
    }
   ],
   "source": [
    "import version_control"
   ]
  },
  {
   "cell_type": "code",
   "execution_count": 2,
   "metadata": {
    "collapsed": false
   },
   "outputs": [],
   "source": [
    "from spgr import lg\n",
    "lg.setLevel(10)"
   ]
  },
  {
   "cell_type": "markdown",
   "metadata": {},
   "source": [
    "## Spindle Detection Method"
   ]
  },
  {
   "cell_type": "code",
   "execution_count": 2,
   "metadata": {
    "collapsed": false
   },
   "outputs": [
    {
     "ename": "ImportError",
     "evalue": "cannot import name 'DATA_DIR'",
     "output_type": "error",
     "traceback": [
      "\u001b[1;31m---------------------------------------------------------------------------\u001b[0m",
      "\u001b[1;31mImportError\u001b[0m                               Traceback (most recent call last)",
      "\u001b[1;32m<ipython-input-2-f43b8e89be75>\u001b[0m in \u001b[0;36m<module>\u001b[1;34m()\u001b[0m\n\u001b[0;32m      3\u001b[0m \u001b[1;32mfrom\u001b[0m \u001b[0mpathlib\u001b[0m \u001b[1;32mimport\u001b[0m \u001b[0mPath\u001b[0m\u001b[1;33m\u001b[0m\u001b[0m\n\u001b[0;32m      4\u001b[0m \u001b[1;33m\u001b[0m\u001b[0m\n\u001b[1;32m----> 5\u001b[1;33m \u001b[1;32mfrom\u001b[0m \u001b[0mspgr\u001b[0m\u001b[1;33m.\u001b[0m\u001b[0mread_data\u001b[0m \u001b[1;32mimport\u001b[0m \u001b[0mDATA_DIR\u001b[0m\u001b[1;33m,\u001b[0m \u001b[0mREC_DIR\u001b[0m\u001b[1;33m,\u001b[0m \u001b[0mFS_PATH\u001b[0m\u001b[1;33m,\u001b[0m \u001b[0mELEC_PATH\u001b[0m\u001b[1;33m,\u001b[0m \u001b[0mget_data\u001b[0m\u001b[1;33m,\u001b[0m \u001b[0mGROUP_DIR\u001b[0m\u001b[1;33m\u001b[0m\u001b[0m\n\u001b[0m\u001b[0;32m      6\u001b[0m \u001b[0mGROUP_DIR\u001b[0m \u001b[1;33m=\u001b[0m \u001b[0mPath\u001b[0m\u001b[1;33m(\u001b[0m\u001b[0mGROUP_DIR\u001b[0m\u001b[1;33m)\u001b[0m\u001b[1;33m\u001b[0m\u001b[0m\n",
      "\u001b[1;31mImportError\u001b[0m: cannot import name 'DATA_DIR'"
     ]
    }
   ],
   "source": [
    "from copy import deepcopy\n",
    "from numpy import where, NaN\n",
    "from pathlib import Path\n",
    "\n",
    "from spgr.read_data import DATA_DIR, REC_DIR, FS_PATH, ELEC_PATH, get_data, GROUP_DIR\n",
    "GROUP_DIR = Path(GROUP_DIR)"
   ]
  },
  {
   "cell_type": "code",
   "execution_count": 29,
   "metadata": {
    "collapsed": false
   },
   "outputs": [],
   "source": [
    "images_dir = GROUP_DIR.joinpath('images').joinpath('methods')\n",
    "try:\n",
    "    images_dir.mkdir()\n",
    "except FileExistsError:\n",
    "    pass\n",
    "\n",
    "PLOT_COLOR = 'kw'"
   ]
  },
  {
   "cell_type": "code",
   "execution_count": 5,
   "metadata": {
    "collapsed": false
   },
   "outputs": [],
   "source": [
    "from phypno.detect import DetectSpindle\n",
    "from phypno.detect.spindle import transform_signal\n",
    "from phypno.trans import Select"
   ]
  },
  {
   "cell_type": "code",
   "execution_count": 6,
   "metadata": {
    "collapsed": false
   },
   "outputs": [],
   "source": [
    "options = {'reref': 'avg',\n",
    "           'resample_freq': 256,\n",
    "           'hp_filter': 0.5,\n",
    "           'lp_filter': 50,\n",
    "           }\n",
    "chan_type = ('grid', 'strip')"
   ]
  },
  {
   "cell_type": "markdown",
   "metadata": {},
   "source": [
    "Spindles were detected on each electrode independently, using previously reported methods with stringent criteria [@Nir2011_regional].\n",
    "The raw signal was filtered between 9 and 16 Hz and the instantaneous amplitude was calculated from the analytic signal via Hilbert transform.\n",
    "The amplitude had to go above a threshold for detection (set at 3 times the S.D.).\n",
    "The beginning and end of the spindle were defined by a threshold for selection (set at 1 time the S.D.).\n",
    "Spindle duration had to be between 0.5 and 2s.\n",
    "We computed the power spectrum over the spindle interval and the peak in the power spectrum had to lie between 9 and 16 Hz (Fig. +[spgr_detect_method])."
   ]
  },
  {
   "cell_type": "code",
   "execution_count": 7,
   "metadata": {
    "collapsed": false
   },
   "outputs": [],
   "source": [
    "LIMITS = (9, 16)\n",
    "\n",
    "detsp = DetectSpindle(method='Nir2011', frequency=LIMITS, duration=(0.5, 2))"
   ]
  },
  {
   "cell_type": "code",
   "execution_count": 8,
   "metadata": {
    "collapsed": false
   },
   "outputs": [],
   "source": [
    "PLOT_SIZE = 960, 240"
   ]
  },
  {
   "cell_type": "code",
   "execution_count": 9,
   "metadata": {
    "collapsed": false
   },
   "outputs": [
    {
     "name": "stderr",
     "output_type": "stream",
     "text": [
      "INFO:/home/gio/projects/spgr/scripts/spgr/read_data.py:Subj EM09, reading data: EM09_sleep_grid-strip_hp005_lp500_rs256.pkl\n",
      "INFO:/home/gio/projects/spgr/scripts/spgr/read_data.py:EM09 analysis chan 77, with location 77\n"
     ]
    }
   ],
   "source": [
    "subj = 'EM09'\n",
    "chan_name = 'GR28'\n",
    "data = get_data(subj, 'sleep', chan_type, **options)\n",
    "sel = Select(chan=(chan_name, ))\n",
    "data = sel(data)"
   ]
  },
  {
   "cell_type": "code",
   "execution_count": 10,
   "metadata": {
    "collapsed": false
   },
   "outputs": [],
   "source": [
    "good_trial = [i for i, trl in enumerate(data) if 42710 // 30 * 30 == trl.axis['time'][0][0]][0]\n",
    "good_trial = 73"
   ]
  },
  {
   "cell_type": "code",
   "execution_count": 11,
   "metadata": {
    "collapsed": false
   },
   "outputs": [],
   "source": [
    "sel = Select(trial=(good_trial, ))\n",
    "sel_data = sel(data)"
   ]
  },
  {
   "cell_type": "code",
   "execution_count": 12,
   "metadata": {
    "collapsed": false
   },
   "outputs": [],
   "source": [
    "from phypno.viz import Viz1"
   ]
  },
  {
   "cell_type": "code",
   "execution_count": 13,
   "metadata": {
    "collapsed": false
   },
   "outputs": [],
   "source": [
    "select_beginning = Select(time=(None, 44852))\n",
    "one_spindle_data = select_beginning(sel_data)"
   ]
  },
  {
   "cell_type": "code",
   "execution_count": 20,
   "metadata": {
    "collapsed": false
   },
   "outputs": [
    {
     "data": {
      "image/png": "[encoded data removed]",
      "text/plain": [
       "<phypno.viz.plot_1d.Viz1 at 0x7fa4590f4470>"
      ]
     },
     "execution_count": 20,
     "metadata": {},
     "output_type": "execute_result"
    }
   ],
   "source": [
    "v = Viz1(color=PLOT_COLOR)\n",
    "v.size = PLOT_SIZE\n",
    "v.add_data(one_spindle_data, limits_x=(44850, 44880), limits_y=(-200, 200))\n",
    "v._plots[chan_name].setLabels(left='amplitude (μV)', bottom='time (s)')\n",
    "v.save(str(images_dir.joinpath('raw_spindle.png' )))\n",
    "v"
   ]
  },
  {
   "cell_type": "code",
   "execution_count": 19,
   "metadata": {
    "collapsed": false
   },
   "outputs": [
    {
     "data": {
      "image/png": "[encoded data removed]",
      "text/plain": [
       "<phypno.viz.plot_1d.Viz1 at 0x7fa4590f4400>"
      ]
     },
     "execution_count": 19,
     "metadata": {},
     "output_type": "execute_result"
    }
   ],
   "source": [
    "v = Viz1(color=PLOT_COLOR)\n",
    "v.size = PLOT_SIZE\n",
    "v.add_data(sel_data, limits_x=(44850, 44880), limits_y=(-200, 200))\n",
    "v._plots[chan_name].setLabels(left='amplitude (μV)', bottom='time (s)')\n",
    "v.save(str(images_dir.joinpath('raw.png' )))\n",
    "v"
   ]
  },
  {
   "cell_type": "code",
   "execution_count": 23,
   "metadata": {
    "collapsed": false
   },
   "outputs": [
    {
     "name": "stderr",
     "output_type": "stream",
     "text": [
      "/home/gio/tools/venv/lib/python3.4/site-packages/numpy/core/numeric.py:183: DeprecationWarning: using a non-integer number instead of an integer will result in an error in the future\n",
      "  a = empty(shape, dtype, order)\n"
     ]
    }
   ],
   "source": [
    "sp = detsp(sel_data)"
   ]
  },
  {
   "cell_type": "code",
   "execution_count": 25,
   "metadata": {
    "collapsed": false
   },
   "outputs": [],
   "source": [
    "from phypno.trans import Filter, Math\n",
    "\n",
    "filt = Filter(low_cut=detsp.det_butter['freq'][0], high_cut=detsp.det_butter['freq'][1], \n",
    "              order=detsp.det_butter['order'], s_freq=data.s_freq)\n",
    "x_filt = filt(sel_data)"
   ]
  },
  {
   "cell_type": "code",
   "execution_count": 26,
   "metadata": {
    "collapsed": false
   },
   "outputs": [
    {
     "name": "stderr",
     "output_type": "stream",
     "text": [
      "/home/gio/tools/venv/lib/python3.4/site-packages/numpy/core/numeric.py:183: DeprecationWarning: using a non-integer number instead of an integer will result in an error in the future\n",
      "  a = empty(shape, dtype, order)\n"
     ]
    }
   ],
   "source": [
    "from numpy import ones, take, swapaxes, arange, atleast_2d\n",
    "from scipy.signal import fftconvolve\n",
    "\n",
    "def move_avg(dat, axis):\n",
    "    \"\"\"Function to compute moving average.\"\"\"\n",
    "    flat = ones(detsp.moving_avg['dur'] * data.s_freq)\n",
    "\n",
    "    dat = swapaxes(dat, axis, -1)\n",
    "    for i, x in enumerate(dat):\n",
    "        dat[i, :] = fftconvolve(x, flat / sum(flat), mode='same')\n",
    "    return swapaxes(dat, -1, axis)\n",
    "\n",
    "hilbert_abs = Math(operator_name=('hilbert', 'abs'), axis='time')\n",
    "moving_avg = Math(operator=move_avg, axis='time')\n",
    "\n",
    "dat_det = moving_avg(hilbert_abs(x_filt))"
   ]
  },
  {
   "cell_type": "code",
   "execution_count": 30,
   "metadata": {
    "collapsed": false
   },
   "outputs": [
    {
     "data": {
      "image/png": "[encoded data removed]",
      "text/plain": [
       "<phypno.viz.plot_1d.Viz1 at 0x7fa458fb7390>"
      ]
     },
     "execution_count": 30,
     "metadata": {},
     "output_type": "execute_result"
    }
   ],
   "source": [
    "from pyqtgraph import mkPen\n",
    "\n",
    "v = Viz1(color=PLOT_COLOR)\n",
    "v.size = PLOT_SIZE\n",
    "v.add_data(x_filt, color=mkPen('b', width=1), limits_x=(44850, 44880), limits_y=(-100, 100))\n",
    "v.add_data(dat_det, color=mkPen('r', width=4))\n",
    "v._plots[chan_name].setLabels(left='amplitude (μV)', bottom='time (s)')\n",
    "v.save(str(images_dir.joinpath('envelope.png' )))\n",
    "v"
   ]
  },
  {
   "cell_type": "code",
   "execution_count": 33,
   "metadata": {
    "collapsed": false
   },
   "outputs": [
    {
     "name": "stderr",
     "output_type": "stream",
     "text": [
      "/home/gio/tools/venv/lib/python3.4/site-packages/IPython/kernel/__main__.py:9: DeprecationWarning: converting an array with ndim > 0 to an index will result in an error in the future\n"
     ]
    }
   ],
   "source": [
    "t = dat_det.axis['time'][0]\n",
    "good_sp = [x for x in sp.spindle if x['start_time'] < t[-1] and x['end_time'] > t[0]]\n",
    "\n",
    "detected_spindles = deepcopy(dat_det)\n",
    "\n",
    "for one_sp in good_sp:\n",
    "    i0 = where(t == one_sp['start_time'])[0]\n",
    "    i1 = where(t == one_sp['end_time'])[0]\n",
    "    detected_spindles.data[0][0, i0:i1] = NaN"
   ]
  },
  {
   "cell_type": "code",
   "execution_count": 35,
   "metadata": {
    "collapsed": false
   },
   "outputs": [
    {
     "data": {
      "image/png": "[encoded data removed]",
      "text/plain": [
       "<phypno.viz.plot_1d.Viz1 at 0x7fa4606b3550>"
      ]
     },
     "execution_count": 35,
     "metadata": {},
     "output_type": "execute_result"
    }
   ],
   "source": [
    "v = Viz1(color=PLOT_COLOR)\n",
    "v.size = PLOT_SIZE\n",
    "v.add_data(sel_data, limits_x=(44850, 44880), limits_y=(-200, 200))\n",
    "v._plots[chan_name].setLabels(left='amplitude (μV)', bottom='time (s)')\n",
    "v.add_graphoelement(sp)\n",
    "v.save(str(images_dir.joinpath('detected.png' )))\n",
    "v"
   ]
  },
  {
   "cell_type": "code",
   "execution_count": 36,
   "metadata": {
    "collapsed": false
   },
   "outputs": [],
   "source": [
    "from phypno.trans import Math, Filter\n",
    "from numpy import pi"
   ]
  },
  {
   "cell_type": "code",
   "execution_count": 38,
   "metadata": {
    "collapsed": false
   },
   "outputs": [
    {
     "name": "stderr",
     "output_type": "stream",
     "text": [
      "/home/gio/tools/venv/lib/python3.4/site-packages/numpy/core/numeric.py:183: DeprecationWarning: using a non-integer number instead of an integer will result in an error in the future\n",
      "  a = empty(shape, dtype, order)\n"
     ]
    },
    {
     "data": {
      "image/png": "[encoded data removed]",
      "text/plain": [
       "<phypno.viz.plot_1d.Viz1 at 0x7fa4606b3ba8>"
      ]
     },
     "execution_count": 38,
     "metadata": {},
     "output_type": "execute_result"
    }
   ],
   "source": [
    "sel = Select(trial=(73, ))\n",
    "sel_data = sel(data)\n",
    "sp = detsp(sel_data)\n",
    "\n",
    "hp = Filter(low_cut=10, high_cut=15, s_freq=sel_data.s_freq)\n",
    "h = Math(operator_name=('hilbert', 'angle', 'unwrap', 'diff'), axis='time')\n",
    "ddata = h(hp(sel_data))\n",
    "ddata.data[0] *= (ddata.s_freq / 2 / pi)\n",
    "\n",
    "v = Viz1(color=PLOT_COLOR)\n",
    "v.size = PLOT_SIZE\n",
    "v.add_data(ddata, limits_x=(44850, 44880), limits_y=(5, 20))\n",
    "v.add_graphoelement(sp)\n",
    "v._plots[chan_name].setLabels(left='frequency (Hz)', bottom='time (s)')\n",
    "v.save(str(images_dir.joinpath('inst_freq.png' )))\n",
    "v"
   ]
  },
  {
   "cell_type": "markdown",
   "metadata": {},
   "source": [
    "### All Subjects"
   ]
  },
  {
   "cell_type": "code",
   "execution_count": 3,
   "metadata": {
    "collapsed": false
   },
   "outputs": [
    {
     "name": "stderr",
     "output_type": "stream",
     "text": [
      "INFO:spgr:Could not import LSF, running local jobs only\n"
     ]
    }
   ],
   "source": [
    "from spgr.constants import HEMI_SUBJ, SPINDLE_OPTIONS, CHAN_TYPE\n",
    "from spgr.detect_spindles import get_spindles"
   ]
  },
  {
   "cell_type": "code",
   "execution_count": 4,
   "metadata": {
    "collapsed": false
   },
   "outputs": [
    {
     "name": "stderr",
     "output_type": "stream",
     "text": [
      "INFO:spgr.read_data:Subj MG67, reading data: MG67_sleep_grid_hp005_lp500_rs256.pkl\n",
      "INFO:spgr.read_data:MG67 analysis chan 57, with location 57\n"
     ]
    },
    {
     "name": "stdout",
     "output_type": "stream",
     "text": [
      "MG67\n",
      "MG37"
     ]
    },
    {
     "name": "stderr",
     "output_type": "stream",
     "text": [
      "INFO:spgr.read_data:Subj MG37, reading data: MG37_sleep_grid_hp005_lp500_rs256.pkl\n",
      "INFO:spgr.read_data:MG37 analysis chan 78, with location 78\n"
     ]
    },
    {
     "name": "stdout",
     "output_type": "stream",
     "text": [
      "\n",
      "EM09"
     ]
    },
    {
     "name": "stderr",
     "output_type": "stream",
     "text": [
      "INFO:spgr.read_data:Subj EM09, reading data: EM09_sleep_grid_hp005_lp500_rs256.pkl\n",
      "INFO:spgr.read_data:EM09 analysis chan 69, with location 69\n"
     ]
    },
    {
     "name": "stdout",
     "output_type": "stream",
     "text": [
      "\n",
      "MG33"
     ]
    },
    {
     "name": "stderr",
     "output_type": "stream",
     "text": [
      "INFO:spgr.read_data:Subj MG33, reading data: MG33_sleep_grid_hp005_lp500_rs256.pkl\n",
      "INFO:spgr.read_data:MG33 analysis chan 64, with location 64\n"
     ]
    },
    {
     "name": "stdout",
     "output_type": "stream",
     "text": [
      "\n",
      "MG61"
     ]
    },
    {
     "name": "stderr",
     "output_type": "stream",
     "text": [
      "INFO:spgr.read_data:Subj MG61, reading data: MG61_sleep_grid_hp005_lp500_rs256.pkl\n",
      "INFO:spgr.read_data:MG61 analysis chan 93, with location 93\n"
     ]
    },
    {
     "name": "stdout",
     "output_type": "stream",
     "text": [
      "\n",
      "MG17"
     ]
    },
    {
     "name": "stderr",
     "output_type": "stream",
     "text": [
      "INFO:spgr.read_data:Subj MG17, reading data: MG17_sleep_grid_hp005_lp500_rs256.pkl\n",
      "INFO:spgr.read_data:MG17 analysis chan 93, with location 93\n"
     ]
    },
    {
     "name": "stdout",
     "output_type": "stream",
     "text": [
      "\n",
      "MG64"
     ]
    },
    {
     "name": "stderr",
     "output_type": "stream",
     "text": [
      "INFO:spgr.read_data:Subj MG64, reading data: MG64_sleep_grid_hp005_lp500_rs256.pkl\n",
      "INFO:spgr.read_data:MG64 analysis chan 83, with location 83\n"
     ]
    },
    {
     "name": "stdout",
     "output_type": "stream",
     "text": [
      "\n",
      "MG63"
     ]
    },
    {
     "name": "stderr",
     "output_type": "stream",
     "text": [
      "INFO:spgr.read_data:Subj MG63, reading data: MG63_sleep_grid_hp005_lp500_rs256.pkl\n",
      "INFO:spgr.read_data:MG63 analysis chan 93, with location 93\n"
     ]
    },
    {
     "name": "stdout",
     "output_type": "stream",
     "text": [
      "\n",
      "MG67"
     ]
    },
    {
     "name": "stderr",
     "output_type": "stream",
     "text": [
      "INFO:spgr.read_data:Subj MG67, reading data: MG67_sleep_grid_hp005_lp500_rs256.pkl\n",
      "INFO:spgr.read_data:MG67 analysis chan 57, with location 57\n"
     ]
    },
    {
     "name": "stdout",
     "output_type": "stream",
     "text": [
      "\n",
      "MG37"
     ]
    },
    {
     "name": "stderr",
     "output_type": "stream",
     "text": [
      "INFO:spgr.read_data:Subj MG37, reading data: MG37_sleep_grid_hp005_lp500_rs256.pkl\n",
      "INFO:spgr.read_data:MG37 analysis chan 78, with location 78\n"
     ]
    },
    {
     "name": "stdout",
     "output_type": "stream",
     "text": [
      "\n",
      "EM09"
     ]
    },
    {
     "name": "stderr",
     "output_type": "stream",
     "text": [
      "INFO:spgr.read_data:Subj EM09, reading data: EM09_sleep_grid_hp005_lp500_rs256.pkl\n",
      "INFO:spgr.read_data:EM09 analysis chan 69, with location 69\n"
     ]
    },
    {
     "name": "stdout",
     "output_type": "stream",
     "text": [
      "\n",
      "MG33"
     ]
    },
    {
     "name": "stderr",
     "output_type": "stream",
     "text": [
      "INFO:spgr.read_data:Subj MG33, reading data: MG33_sleep_grid_hp005_lp500_rs256.pkl\n",
      "INFO:spgr.read_data:MG33 analysis chan 64, with location 64\n"
     ]
    },
    {
     "name": "stdout",
     "output_type": "stream",
     "text": [
      "\n",
      "MG61"
     ]
    },
    {
     "name": "stderr",
     "output_type": "stream",
     "text": [
      "INFO:spgr.read_data:Subj MG61, reading data: MG61_sleep_grid_hp005_lp500_rs256.pkl\n",
      "INFO:spgr.read_data:MG61 analysis chan 93, with location 93\n"
     ]
    },
    {
     "name": "stdout",
     "output_type": "stream",
     "text": [
      "\n",
      "MG17"
     ]
    },
    {
     "name": "stderr",
     "output_type": "stream",
     "text": [
      "INFO:spgr.read_data:Subj MG17, reading data: MG17_sleep_grid_hp005_lp500_rs256.pkl\n",
      "INFO:spgr.read_data:MG17 analysis chan 93, with location 93\n"
     ]
    },
    {
     "name": "stdout",
     "output_type": "stream",
     "text": [
      "\n",
      "MG64"
     ]
    },
    {
     "name": "stderr",
     "output_type": "stream",
     "text": [
      "INFO:spgr.read_data:Subj MG64, reading data: MG64_sleep_grid_hp005_lp500_rs256.pkl\n",
      "INFO:spgr.read_data:MG64 analysis chan 83, with location 83\n"
     ]
    },
    {
     "name": "stdout",
     "output_type": "stream",
     "text": [
      "\n",
      "MG63"
     ]
    },
    {
     "name": "stderr",
     "output_type": "stream",
     "text": [
      "INFO:spgr.read_data:Subj MG63, reading data: MG63_sleep_grid_hp005_lp500_rs256.pkl\n",
      "INFO:spgr.read_data:MG63 analysis chan 93, with location 93\n"
     ]
    },
    {
     "name": "stdout",
     "output_type": "stream",
     "text": [
      "\n"
     ]
    }
   ],
   "source": [
    "for ref in ('avg', 15):\n",
    "    for subj in HEMI_SUBJ:\n",
    "        print(subj)\n",
    "        sp = get_spindles(subj, chan_type=CHAN_TYPE, reref=ref, **SPINDLE_OPTIONS)    "
   ]
  }
 ],
 "metadata": {
  "kernelspec": {
   "display_name": "Python 3",
   "language": "python",
   "name": "python3"
  },
  "language_info": {
   "codemirror_mode": {
    "name": "ipython",
    "version": 3
   },
   "file_extension": ".py",
   "mimetype": "text/x-python",
   "name": "python",
   "nbconvert_exporter": "python",
   "pygments_lexer": "ipython3",
   "version": "3.4.2"
  }
 },
 "nbformat": 4,
 "nbformat_minor": 0
}
