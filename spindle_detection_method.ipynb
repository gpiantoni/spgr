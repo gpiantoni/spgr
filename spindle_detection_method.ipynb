{
 "metadata": {
  "name": "",
  "signature": "sha256:f92de77f24706e7087070e4c988ed9421aababca57f6abd84387bf2aa4ee7a41"
 },
 "nbformat": 3,
 "nbformat_minor": 0,
 "worksheets": [
  {
   "cells": [
    {
     "cell_type": "heading",
     "level": 1,
     "metadata": {},
     "source": [
      "SPGR\n"
     ]
    },
    {
     "cell_type": "code",
     "collapsed": false,
     "input": [
      "import version_control"
     ],
     "language": "python",
     "metadata": {},
     "outputs": [
      {
       "output_type": "stream",
       "stream": "stdout",
       "text": [
        "Last run on cashlab03-deb at 2015-02-13 14:23:04.414712\n",
        "\n",
        "Phypno Version: e74bf5150ef8eff96b567910f841baf02539783e\n",
        "\n",
        "Cython==0.22, Jinja2==2.7.3, Markdown==2.5.2, MarkupSafe==0.23, Pillow==2.7.0, PyOpenGL==3.1.0, Pygments==2.0.2, Sphinx==1.2.3, beautifulsoup4==4.3.2, certifi==14.05.14, coverage==3.7.1, decorator==3.4.0, docutils==0.12, easydev==0.8.2, ipython==2.4.1, matplotlib==1.4.2, memory-profiler==0.32, networkx==1.9.1, nibabel==2.0.0, nitime==0.5, nose==1.3.4, numpy==1.9.1, numpydoc==0.5, ordereddict==1.1, pandas==0.15.2, pandocfilters==1.2.3, pep8==1.6.1, psutil==2.2.1, pycurl==7.19.5.1, pyflakes==0.8.1, pyparsing==2.0.3, pyqtgraph==0.9.10, python-dateutil==2.4.0, python-igraph==0.7.1-2, pytz==2014.10, pyzmq==14.5.0, rope-py3k==0.9.4-1, rpy2==2.5.6, scikit-learn==0.15.2, scipy==0.15.1, six==1.9.0, sphinxcontrib-napoleon==0.2.10, spyder==2.3.2, tornado==4.1, visvis==1.9.1, xmltodict==0.9.2, "
       ]
      },
      {
       "output_type": "stream",
       "stream": "stdout",
       "text": [
        "\n"
       ]
      }
     ],
     "prompt_number": 1
    },
    {
     "cell_type": "code",
     "collapsed": false,
     "input": [
      "from spgr import lg\n",
      "lg.setLevel(10)"
     ],
     "language": "python",
     "metadata": {},
     "outputs": [],
     "prompt_number": 2
    },
    {
     "cell_type": "heading",
     "level": 2,
     "metadata": {},
     "source": [
      "Spindle Detection Method"
     ]
    },
    {
     "cell_type": "code",
     "collapsed": false,
     "input": [
      "%matplotlib inline\n",
      "from matplotlib.pyplot import plot, savefig, gcf, figure, xlabel, ylabel, xlim, ylim, gca\n",
      "\n",
      "import matplotlib \n",
      "matplotlib.rcParams['font.size'] = 18\n",
      "matplotlib.rcParams['figure.figsize'] = [30 / 2.51, 6 / 2.51]"
     ],
     "language": "python",
     "metadata": {},
     "outputs": []
    },
    {
     "cell_type": "code",
     "collapsed": false,
     "input": [
      "from os import makedirs\n",
      "from os.path import join\n",
      "\n",
      "from numpy import where\n",
      "\n",
      "from spgr.read_data import DATA_DIR, REC_DIR, FS_PATH, ELEC_PATH, get_data, GROUP_DIR, get_chan_used_in_analysis"
     ],
     "language": "python",
     "metadata": {},
     "outputs": [],
     "prompt_number": 3
    },
    {
     "cell_type": "code",
     "collapsed": false,
     "input": [
      "method_dir = join(GROUP_DIR, 'methods')\n",
      "makedirs(method_dir, exist_ok=True)"
     ],
     "language": "python",
     "metadata": {},
     "outputs": [],
     "prompt_number": 4
    },
    {
     "cell_type": "code",
     "collapsed": false,
     "input": [
      "from phypno.detect import DetectSpindle\n",
      "from phypno.detect.spindle import transform_signal\n",
      "from phypno.trans import Select"
     ],
     "language": "python",
     "metadata": {},
     "outputs": [],
     "prompt_number": 5
    },
    {
     "cell_type": "code",
     "collapsed": false,
     "input": [
      "options = {'reref': 'avg',\n",
      "           'resample_freq': 256,\n",
      "           'hp_filter': 0.5,\n",
      "           'lp_filter': 50,\n",
      "           }"
     ],
     "language": "python",
     "metadata": {},
     "outputs": [],
     "prompt_number": 6
    },
    {
     "cell_type": "markdown",
     "metadata": {},
     "source": [
      "Spindles were detected on each electrode independently, using previously reported methods with stringent criteria [@Nir2011].\n",
      "The raw signal was filtered between 9 and 16 Hz and the instantaneous amplitude was calculated from the analytic signal via Hilbert transform.\n",
      "The amplitude had to go above a threshold for detection (set at 3 times the S.D.).\n",
      "The beginning and end of the spindle were defined by a threshold for selection (set at 1 time the S.D.).\n",
      "Spindle duration had to be between 0.5 and 2s.\n",
      "We computed the power spectrum over the spindle interval and the peak in the power spectrum had to lie between 9 and 16 Hz (Fig. +[spgr_detect_method])."
     ]
    },
    {
     "cell_type": "code",
     "collapsed": false,
     "input": [
      "LIMITS = (9, 16)\n",
      "\n",
      "detsp = DetectSpindle(method='Nir2011', frequency=LIMITS, duration=(0.5, 2))"
     ],
     "language": "python",
     "metadata": {},
     "outputs": [],
     "prompt_number": 7
    },
    {
     "cell_type": "code",
     "collapsed": false,
     "input": [
      "subj = 'EM09'\n",
      "data = get_data(subj, 'sleep', ('grid', ), **options)\n",
      "sel = Select(chan=('GR28', ))\n",
      "data = sel(data)"
     ],
     "language": "python",
     "metadata": {},
     "outputs": [
      {
       "output_type": "stream",
       "stream": "stderr",
       "text": [
        "INFO:/home/gio/projects/spgr/scripts/spgr/read_data.py:Subj EM09, reading data: EM09_sleep_grid_hp005_lp500_avg_rs256.pkl\n"
       ]
      }
     ],
     "prompt_number": 8
    },
    {
     "cell_type": "code",
     "collapsed": false,
     "input": [
      "good_trial = [i for i, trl in enumerate(data) if 42710 // 30 * 30 == trl.axis['time'][0][0]][0]\n",
      "\n",
      "sel = Select(trial=(good_trial, ))\n",
      "sel_data = sel(data)\n"
     ],
     "language": "python",
     "metadata": {},
     "outputs": [],
     "prompt_number": 159
    },
    {
     "cell_type": "code",
     "collapsed": false,
     "input": [
      "from phypno.viz import Viz1"
     ],
     "language": "python",
     "metadata": {},
     "outputs": [],
     "prompt_number": 10
    },
    {
     "cell_type": "code",
     "collapsed": false,
     "input": [
      "v = Viz1()\n",
      "v.add_data(sel_data, limits_y=(-150, 150))\n",
      "v"
     ],
     "language": "python",
     "metadata": {},
     "outputs": [
      {
       "metadata": {},
       "output_type": "pyout",
       "png": "[encoded data removed]",
       "prompt_number": 160,
       "text": [
        "<phypno.viz.plot_1d.Viz1 at 0x7f47b1d9cf28>"
       ]
      }
     ],
     "prompt_number": 160
    },
    {
     "cell_type": "code",
     "collapsed": false,
     "input": [
      "sp = detsp(sel_data)"
     ],
     "language": "python",
     "metadata": {},
     "outputs": [],
     "prompt_number": 161
    },
    {
     "cell_type": "code",
     "collapsed": false,
     "input": [
      "from phypno.trans import Filter, Math\n",
      "\n",
      "filt = Filter(low_cut=detsp.det_butter['freq'][0], high_cut=detsp.det_butter['freq'][1], \n",
      "              order=detsp.det_butter['order'], s_freq=data.s_freq)\n",
      "x_filt = filt(sel_data)"
     ],
     "language": "python",
     "metadata": {},
     "outputs": [],
     "prompt_number": 162
    },
    {
     "cell_type": "code",
     "collapsed": false,
     "input": [
      "from numpy import ones, take, swapaxes, arange, atleast_2d\n",
      "from scipy.signal import fftconvolve\n",
      "\n",
      "def move_avg(dat, axis):\n",
      "    \"\"\"Function to compute moving average.\"\"\"\n",
      "    flat = ones(detsp.moving_avg['dur'] * data.s_freq)\n",
      "\n",
      "    dat = swapaxes(dat, axis, -1)\n",
      "    for i, x in enumerate(dat):\n",
      "        dat[i, :] = fftconvolve(x, flat / sum(flat), mode='same')\n",
      "    return swapaxes(dat, -1, axis)\n",
      "\n",
      "hilbert_abs = Math(operator_name=('hilbert', 'abs'), axis='time')\n",
      "moving_avg = Math(operator=move_avg, axis='time')\n",
      "\n",
      "dat_det = moving_avg(hilbert_abs(x_filt))"
     ],
     "language": "python",
     "metadata": {},
     "outputs": [],
     "prompt_number": 163
    },
    {
     "cell_type": "code",
     "collapsed": false,
     "input": [
      "from pyqtgraph import mkPen\n",
      "\n",
      "v = Viz1()\n",
      "v.add_data(x_filt, color=mkPen('b', width=1), limits_y=(-60, 60))\n",
      "v.add_data(dat_det, color=mkPen(width=4))\n",
      "v"
     ],
     "language": "python",
     "metadata": {},
     "outputs": [
      {
       "metadata": {},
       "output_type": "pyout",
       "png": "[encoded data removed]",
       "prompt_number": 164,
       "text": [
        "<phypno.viz.plot_1d.Viz1 at 0x7f47b1cf9d68>"
       ]
      }
     ],
     "prompt_number": 164
    },
    {
     "cell_type": "code",
     "collapsed": false,
     "input": [
      "t = dat_det.axis['time'][0]\n",
      "good_sp = [x for x in sp.spindle if x['start_time'] < t[-1] and x['end_time'] > t[0]]\n",
      "\n",
      "detected_spindles = deepcopy(dat_det)\n",
      "\n",
      "for one_sp in good_sp:\n",
      "    i0 = where(t == one_sp['start_time'])[0]\n",
      "    i1 = where(t == one_sp['end_time'])[0]\n",
      "    detected_spindles.data[0][0, i0:i1] = NaN\n",
      "\n",
      "    \n",
      "v = Viz1()\n",
      "# v.add_data(dat_det, color=mkPen(width=4), limits_y=(0, 60))\n",
      "v.add_data(detected_spindles, color=mkPen('r', width=4))\n",
      "v"
     ],
     "language": "python",
     "metadata": {},
     "outputs": [
      {
       "output_type": "stream",
       "stream": "stdout",
       "text": [
        "nan\n"
       ]
      },
      {
       "metadata": {},
       "output_type": "pyout",
       "png": "[encoded data removed]",
       "prompt_number": 182,
       "text": [
        "<phypno.viz.plot_1d.Viz1 at 0x7f47b1e23be0>"
       ]
      }
     ],
     "prompt_number": 182
    },
    {
     "cell_type": "code",
     "collapsed": false,
     "input": [
      "detected_spindles.data[0][0, 256*21]"
     ],
     "language": "python",
     "metadata": {},
     "outputs": [
      {
       "metadata": {},
       "output_type": "pyout",
       "prompt_number": 171,
       "text": [
        "nan"
       ]
      }
     ],
     "prompt_number": 171
    },
    {
     "cell_type": "code",
     "collapsed": false,
     "input": [
      "import pyqtgraph as pg\n",
      "from numpy import NaN\n",
      "chartWidget = pg.PlotWidget()\n",
      "chartWidget.plot( [1, NaN, 1, 2], name=\"2012\", symbol='o')\n",
      "# chartWidget.plot([4, 5, 6, 7], name=\"2013\", symbol='o')\n",
      "# chartWidget.plot([8,9, NaN, NaN], name=\"2014\", symbol='o')\n",
      "chartWidget.show()"
     ],
     "language": "python",
     "metadata": {},
     "outputs": [],
     "prompt_number": 189
    },
    {
     "cell_type": "code",
     "collapsed": false,
     "input": [
      "w = pg.GraphicsLayoutWidget()\n",
      "w.addPlot().plot([4, 5, 6, 7], [2, NaN, 1, 2])\n",
      "w.show()"
     ],
     "language": "python",
     "metadata": {},
     "outputs": [],
     "prompt_number": 187
    },
    {
     "cell_type": "code",
     "collapsed": false,
     "input": [
      "plot(t, x_filt, 'k')\n",
      "plot(t, dat_det, 'b', lw=4)\n",
      "ylim((-75, 75))\n",
      "ax = gca()\n",
      "ax.set_yticks([-75, 0, 75])\n",
      "\n",
      "ax.spines['top'].set_visible(False)\n",
      "ax.spines['right'].set_visible(False)\n",
      "ax.get_xaxis().tick_bottom()\n",
      "ax.get_yaxis().tick_left()\n",
      "\n",
      "savefig(join(method_dir, 'envelope.png'), dpi=300)"
     ],
     "language": "python",
     "metadata": {},
     "outputs": []
    },
    {
     "cell_type": "code",
     "collapsed": false,
     "input": [
      "good_sp = [x for x in sp.spindle if x['start_time'] < t[-1] and x['end_time'] > t[0]]\n",
      "\n",
      "plot(t, dat_det, 'b')\n",
      "\n",
      "for one_sp in good_sp:\n",
      "    i0 = where(t == one_sp['start_time'])[0]\n",
      "    i1 = where(t == one_sp['end_time'])[0]\n",
      "    plot(t[i0:i1], dat_det[i0:i1], 'r', lw=5)\n",
      "\n",
      "plot((t[0], t[-1]), (sp.det_value, sp.det_value), 'k', lw=2)\n",
      "plot((t[0], t[-1]), (sp.sel_value, sp.sel_value), 'k', lw=2)\n",
      "\n",
      "ylim((0, 80))\n",
      "ax = gca()\n",
      "ax.set_yticks([0, 75])\n",
      "\n",
      "ax.spines['top'].set_visible(False)\n",
      "ax.spines['right'].set_visible(False)\n",
      "ax.get_xaxis().tick_bottom()\n",
      "ax.get_yaxis().tick_left()\n",
      "savefig(join(method_dir, 'detected.png'), dpi=300)"
     ],
     "language": "python",
     "metadata": {},
     "outputs": []
    },
    {
     "cell_type": "heading",
     "level": 3,
     "metadata": {},
     "source": [
      "All Subjects"
     ]
    },
    {
     "cell_type": "code",
     "collapsed": false,
     "input": [
      "from spgr.detect_spindles import get_spindles"
     ],
     "language": "python",
     "metadata": {},
     "outputs": []
    },
    {
     "cell_type": "code",
     "collapsed": false,
     "input": [
      "hemi_subj = {'EM09': 'rh', \n",
      "             'MG17': 'rh',\n",
      "             'MG33': 'lh',\n",
      "             'MG37': 'lh',\n",
      "             'MG61': 'lh',\n",
      "             'MG63': 'rh',\n",
      "             }\n",
      "all_subj = sorted(hemi_subj.keys())"
     ],
     "language": "python",
     "metadata": {},
     "outputs": []
    },
    {
     "cell_type": "code",
     "collapsed": false,
     "input": [
      "options = {'reref': 'avg',\n",
      "           'resample_freq': 256,\n",
      "           'hp_filter': 0.5,\n",
      "           'lp_filter': 50,\n",
      "           }\n",
      "chan_type = ('grid', )"
     ],
     "language": "python",
     "metadata": {},
     "outputs": []
    },
    {
     "cell_type": "code",
     "collapsed": false,
     "input": [
      "spindles_options = {'method': 'Nir2011', \n",
      "                    'frequency': (9, 16), \n",
      "                    'duration':(0.5, 2),\n",
      "                    }\n",
      "options.update(spindles_options)"
     ],
     "language": "python",
     "metadata": {},
     "outputs": []
    },
    {
     "cell_type": "code",
     "collapsed": false,
     "input": [
      "for subj in all_subj:\n",
      "    print(subj)\n",
      "    get_spindles(subj, **options)    "
     ],
     "language": "python",
     "metadata": {},
     "outputs": []
    }
   ],
   "metadata": {}
  }
 ]
}