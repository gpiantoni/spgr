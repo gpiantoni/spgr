{
 "metadata": {
  "name": "",
  "signature": "sha256:3ce04af41b86eba986f3e83cba655390ca80e9a6c848bfc02c017b72cd07986e"
 },
 "nbformat": 3,
 "nbformat_minor": 0,
 "worksheets": [
  {
   "cells": [
    {
     "cell_type": "heading",
     "level": 1,
     "metadata": {},
     "source": [
      "SPGR\n"
     ]
    },
    {
     "cell_type": "code",
     "collapsed": false,
     "input": [
      "import version_control"
     ],
     "language": "python",
     "metadata": {},
     "outputs": [
      {
       "output_type": "stream",
       "stream": "stderr",
       "text": [
        "WARNING:phypno.ioeeg.mnefiff:mne-tools (optional dependency) is not installed. You will not be able to write in MNE fiff format.\n"
       ]
      },
      {
       "output_type": "stream",
       "stream": "stdout",
       "text": [
        "Last run on ip94.ucsd.edu at 2015-02-20 16:38:27.529222\n",
        "\n",
        "Phypno Version: 13eee869fc729ddefb52714834d25d5c21748aec\n",
        "\n",
        "astroid==1.3.4, conda==3.9.0, conda-env==2.1.3, docutils==0.12, ipython==2.4.1, Jinja2==2.7.3, logilab-common==0.63.2, MarkupSafe==0.23, numpy==1.9.1, pep8==1.6.2, psutil==2.2.1, pycosat==0.6.1, pyflakes==0.8.1, Pygments==2.0.1, pylint==1.4.1, PyOpenGL==3.1.0, PyYAML==3.11, pyzmq==14.5.0, requests==2.5.1, rope-py3k==0.9.4.post1, scipy==0.15.1, six==1.9.0, Sphinx==1.2.3, spyder==2.3.2, tornado==4.1, "
       ]
      },
      {
       "output_type": "stream",
       "stream": "stdout",
       "text": [
        "\n"
       ]
      }
     ],
     "prompt_number": 1
    },
    {
     "cell_type": "code",
     "collapsed": false,
     "input": [
      "from spgr import lg\n",
      "lg.setLevel(10)"
     ],
     "language": "python",
     "metadata": {},
     "outputs": [
      {
       "output_type": "stream",
       "stream": "stderr",
       "text": [
        "WARNING:phypno.attr.anat:nibabel (optional dependency) is not installed. You will not be able to read Freesurfer annotations and segmentations.\n"
       ]
      }
     ],
     "prompt_number": 2
    },
    {
     "cell_type": "heading",
     "level": 2,
     "metadata": {},
     "source": [
      "Spindle Detection Method"
     ]
    },
    {
     "cell_type": "code",
     "collapsed": false,
     "input": [
      "from copy import deepcopy\n",
      "from os import makedirs\n",
      "from os.path import join\n",
      "\n",
      "from numpy import where, NaN\n",
      "\n",
      "from spgr.read_data import DATA_DIR, REC_DIR, FS_PATH, ELEC_PATH, get_data, GROUP_DIR, get_chan_used_in_analysis"
     ],
     "language": "python",
     "metadata": {},
     "outputs": [],
     "prompt_number": 3
    },
    {
     "cell_type": "code",
     "collapsed": false,
     "input": [
      "method_dir = join(GROUP_DIR, 'methods')\n",
      "makedirs(method_dir, exist_ok=True)"
     ],
     "language": "python",
     "metadata": {},
     "outputs": [],
     "prompt_number": 4
    },
    {
     "cell_type": "code",
     "collapsed": false,
     "input": [
      "from phypno.detect import DetectSpindle\n",
      "from phypno.detect.spindle import transform_signal\n",
      "from phypno.trans import Select"
     ],
     "language": "python",
     "metadata": {},
     "outputs": [],
     "prompt_number": 5
    },
    {
     "cell_type": "code",
     "collapsed": false,
     "input": [
      "options = {'reref': '',\n",
      "           'resample_freq': 256,\n",
      "           'hp_filter': 0.5,\n",
      "           'lp_filter': 50,\n",
      "           }"
     ],
     "language": "python",
     "metadata": {},
     "outputs": [],
     "prompt_number": 6
    },
    {
     "cell_type": "markdown",
     "metadata": {},
     "source": [
      "Spindles were detected on each electrode independently, using previously reported methods with stringent criteria [@Nir2011].\n",
      "The raw signal was filtered between 9 and 16 Hz and the instantaneous amplitude was calculated from the analytic signal via Hilbert transform.\n",
      "The amplitude had to go above a threshold for detection (set at 3 times the S.D.).\n",
      "The beginning and end of the spindle were defined by a threshold for selection (set at 1 time the S.D.).\n",
      "Spindle duration had to be between 0.5 and 2s.\n",
      "We computed the power spectrum over the spindle interval and the peak in the power spectrum had to lie between 9 and 16 Hz (Fig. +[spgr_detect_method])."
     ]
    },
    {
     "cell_type": "code",
     "collapsed": false,
     "input": [
      "LIMITS = (9, 16)\n",
      "\n",
      "detsp = DetectSpindle(method='Nir2011', frequency=LIMITS, duration=(0.5, 2))"
     ],
     "language": "python",
     "metadata": {},
     "outputs": [],
     "prompt_number": 7
    },
    {
     "cell_type": "code",
     "collapsed": false,
     "input": [
      "subj = 'EM09'\n",
      "data = get_data(subj, 'sleep', ('grid', ), **options)\n",
      "sel = Select(chan=('GR28', ))\n",
      "data = sel(data)"
     ],
     "language": "python",
     "metadata": {},
     "outputs": [
      {
       "output_type": "stream",
       "stream": "stderr",
       "text": [
        "INFO:/home/gpiantoni/projects/spgr/scripts/spgr/read_data.py:Subj EM09, reading data: EM09_sleep_grid_hp005_lp500_rs256.pkl\n"
       ]
      }
     ],
     "prompt_number": 8
    },
    {
     "cell_type": "code",
     "collapsed": false,
     "input": [
      "good_trial = [i for i, trl in enumerate(data) if 42710 // 30 * 30 == trl.axis['time'][0][0]][0]\n",
      "\n",
      "sel = Select(trial=(good_trial, ))\n",
      "sel_data = sel(data)"
     ],
     "language": "python",
     "metadata": {},
     "outputs": [],
     "prompt_number": 9
    },
    {
     "cell_type": "code",
     "collapsed": false,
     "input": [
      "from phypno.viz import Viz1"
     ],
     "language": "python",
     "metadata": {},
     "outputs": [],
     "prompt_number": 10
    },
    {
     "cell_type": "code",
     "collapsed": false,
     "input": [
      "v = Viz1()\n",
      "v.add_data(sel_data, limits_y=(-150, 150))\n",
      "v"
     ],
     "language": "python",
     "metadata": {},
     "outputs": [
      {
       "metadata": {},
       "output_type": "pyout",
       "png": "[encoded data removed]",
       "prompt_number": 11,
       "text": [
        "<phypno.viz.plot_1d.Viz1 at 0x7fdc624a7390>"
       ]
      }
     ],
     "prompt_number": 11
    },
    {
     "cell_type": "code",
     "collapsed": false,
     "input": [
      "sp = detsp(sel_data)"
     ],
     "language": "python",
     "metadata": {},
     "outputs": [],
     "prompt_number": 12
    },
    {
     "cell_type": "code",
     "collapsed": false,
     "input": [
      "from phypno.trans import Filter, Math\n",
      "\n",
      "filt = Filter(low_cut=detsp.det_butter['freq'][0], high_cut=detsp.det_butter['freq'][1], \n",
      "              order=detsp.det_butter['order'], s_freq=data.s_freq)\n",
      "x_filt = filt(sel_data)"
     ],
     "language": "python",
     "metadata": {},
     "outputs": [],
     "prompt_number": 13
    },
    {
     "cell_type": "code",
     "collapsed": false,
     "input": [
      "from numpy import ones, take, swapaxes, arange, atleast_2d\n",
      "from scipy.signal import fftconvolve\n",
      "\n",
      "def move_avg(dat, axis):\n",
      "    \"\"\"Function to compute moving average.\"\"\"\n",
      "    flat = ones(detsp.moving_avg['dur'] * data.s_freq)\n",
      "\n",
      "    dat = swapaxes(dat, axis, -1)\n",
      "    for i, x in enumerate(dat):\n",
      "        dat[i, :] = fftconvolve(x, flat / sum(flat), mode='same')\n",
      "    return swapaxes(dat, -1, axis)\n",
      "\n",
      "hilbert_abs = Math(operator_name=('hilbert', 'abs'), axis='time')\n",
      "moving_avg = Math(operator=move_avg, axis='time')\n",
      "\n",
      "dat_det = moving_avg(hilbert_abs(x_filt))"
     ],
     "language": "python",
     "metadata": {},
     "outputs": [],
     "prompt_number": 14
    },
    {
     "cell_type": "code",
     "collapsed": false,
     "input": [
      "from pyqtgraph import mkPen\n",
      "\n",
      "v = Viz1()\n",
      "v.add_data(x_filt, color=mkPen('b', width=1), limits_y=(-60, 60))\n",
      "v.add_data(dat_det, color=mkPen(width=4))\n",
      "v"
     ],
     "language": "python",
     "metadata": {},
     "outputs": [
      {
       "metadata": {},
       "output_type": "pyout",
       "png": "[encoded data removed]",
       "prompt_number": 15,
       "text": [
        "<phypno.viz.plot_1d.Viz1 at 0x7fdc623b66d8>"
       ]
      }
     ],
     "prompt_number": 15
    },
    {
     "cell_type": "code",
     "collapsed": false,
     "input": [
      "t = dat_det.axis['time'][0]\n",
      "good_sp = [x for x in sp.spindle if x['start_time'] < t[-1] and x['end_time'] > t[0]]\n",
      "\n",
      "detected_spindles = deepcopy(dat_det)\n",
      "\n",
      "for one_sp in good_sp:\n",
      "    i0 = where(t == one_sp['start_time'])[0]\n",
      "    i1 = where(t == one_sp['end_time'])[0]\n",
      "    detected_spindles.data[0][0, i0:i1] = NaN\n",
      "\n",
      "    \n",
      "v = Viz1()\n",
      "# v.add_data(dat_det, color=mkPen(width=4), limits_y=(0, 60))\n",
      "v.add_data(detected_spindles, color=mkPen('r', width=4))\n",
      "v"
     ],
     "language": "python",
     "metadata": {},
     "outputs": [
      {
       "metadata": {},
       "output_type": "pyout",
       "png": "[encoded data removed]",
       "prompt_number": 21,
       "text": [
        "<phypno.viz.plot_1d.Viz1 at 0x7fdc622d0c88>"
       ]
      }
     ],
     "prompt_number": 21
    },
    {
     "cell_type": "code",
     "collapsed": false,
     "input": [
      "plot(t, x_filt, 'k')\n",
      "plot(t, dat_det, 'b', lw=4)\n",
      "ylim((-75, 75))\n",
      "ax = gca()\n",
      "ax.set_yticks([-75, 0, 75])\n",
      "\n",
      "ax.spines['top'].set_visible(False)\n",
      "ax.spines['right'].set_visible(False)\n",
      "ax.get_xaxis().tick_bottom()\n",
      "ax.get_yaxis().tick_left()\n",
      "\n",
      "savefig(join(method_dir, 'envelope.png'), dpi=300)"
     ],
     "language": "python",
     "metadata": {},
     "outputs": [
      {
       "output_type": "stream",
       "stream": "stderr",
       "text": [
        "/home/gpiantoni/tools/pyqtgraph/pyqtgraph/graphicsItems/ScatterPlotItem.py:717: RuntimeWarning: invalid value encountered in greater\n",
        "  (pts[1] + w > viewBounds.top()) &\n",
        "/home/gpiantoni/tools/pyqtgraph/pyqtgraph/graphicsItems/ScatterPlotItem.py:717: RuntimeWarning: invalid value encountered in less\n",
        "  (pts[1] + w > viewBounds.top()) &\n",
        "/home/gpiantoni/tools/pyqtgraph/pyqtgraph/graphicsItems/ScatterPlotItem.py:718: RuntimeWarning: invalid value encountered in less\n",
        "  (pts[1] - w < viewBounds.bottom())) ## remove out of view points\n"
       ]
      },
      {
       "ename": "NameError",
       "evalue": "name 'plot' is not defined",
       "output_type": "pyerr",
       "traceback": [
        "\u001b[1;31m---------------------------------------------------------------------------\u001b[0m\n\u001b[1;31mNameError\u001b[0m                                 Traceback (most recent call last)",
        "\u001b[1;32m<ipython-input-24-958dad26cc7f>\u001b[0m in \u001b[0;36m<module>\u001b[1;34m()\u001b[0m\n\u001b[1;32m----> 1\u001b[1;33m \u001b[0mplot\u001b[0m\u001b[1;33m(\u001b[0m\u001b[0mt\u001b[0m\u001b[1;33m,\u001b[0m \u001b[0mx_filt\u001b[0m\u001b[1;33m,\u001b[0m \u001b[1;34m'k'\u001b[0m\u001b[1;33m)\u001b[0m\u001b[1;33m\u001b[0m\u001b[0m\n\u001b[0m\u001b[0;32m      2\u001b[0m \u001b[0mplot\u001b[0m\u001b[1;33m(\u001b[0m\u001b[0mt\u001b[0m\u001b[1;33m,\u001b[0m \u001b[0mdat_det\u001b[0m\u001b[1;33m,\u001b[0m \u001b[1;34m'b'\u001b[0m\u001b[1;33m,\u001b[0m \u001b[0mlw\u001b[0m\u001b[1;33m=\u001b[0m\u001b[1;36m4\u001b[0m\u001b[1;33m)\u001b[0m\u001b[1;33m\u001b[0m\u001b[0m\n\u001b[0;32m      3\u001b[0m \u001b[0mylim\u001b[0m\u001b[1;33m(\u001b[0m\u001b[1;33m(\u001b[0m\u001b[1;33m-\u001b[0m\u001b[1;36m75\u001b[0m\u001b[1;33m,\u001b[0m \u001b[1;36m75\u001b[0m\u001b[1;33m)\u001b[0m\u001b[1;33m)\u001b[0m\u001b[1;33m\u001b[0m\u001b[0m\n\u001b[0;32m      4\u001b[0m \u001b[0max\u001b[0m \u001b[1;33m=\u001b[0m \u001b[0mgca\u001b[0m\u001b[1;33m(\u001b[0m\u001b[1;33m)\u001b[0m\u001b[1;33m\u001b[0m\u001b[0m\n\u001b[0;32m      5\u001b[0m \u001b[0max\u001b[0m\u001b[1;33m.\u001b[0m\u001b[0mset_yticks\u001b[0m\u001b[1;33m(\u001b[0m\u001b[1;33m[\u001b[0m\u001b[1;33m-\u001b[0m\u001b[1;36m75\u001b[0m\u001b[1;33m,\u001b[0m \u001b[1;36m0\u001b[0m\u001b[1;33m,\u001b[0m \u001b[1;36m75\u001b[0m\u001b[1;33m]\u001b[0m\u001b[1;33m)\u001b[0m\u001b[1;33m\u001b[0m\u001b[0m\n",
        "\u001b[1;31mNameError\u001b[0m: name 'plot' is not defined"
       ]
      }
     ],
     "prompt_number": 24
    },
    {
     "cell_type": "code",
     "collapsed": false,
     "input": [
      "good_sp = [x for x in sp.spindle if x['start_time'] < t[-1] and x['end_time'] > t[0]]\n",
      "\n",
      "plot(t, dat_det, 'b')\n",
      "\n",
      "for one_sp in good_sp:\n",
      "    i0 = where(t == one_sp['start_time'])[0]\n",
      "    i1 = where(t == one_sp['end_time'])[0]\n",
      "    plot(t[i0:i1], dat_det[i0:i1], 'r', lw=5)\n",
      "\n",
      "plot((t[0], t[-1]), (sp.det_value, sp.det_value), 'k', lw=2)\n",
      "plot((t[0], t[-1]), (sp.sel_value, sp.sel_value), 'k', lw=2)\n",
      "\n",
      "ylim((0, 80))\n",
      "ax = gca()\n",
      "ax.set_yticks([0, 75])\n",
      "\n",
      "ax.spines['top'].set_visible(False)\n",
      "ax.spines['right'].set_visible(False)\n",
      "ax.get_xaxis().tick_bottom()\n",
      "ax.get_yaxis().tick_left()\n",
      "savefig(join(method_dir, 'detected.png'), dpi=300)"
     ],
     "language": "python",
     "metadata": {},
     "outputs": []
    },
    {
     "cell_type": "heading",
     "level": 3,
     "metadata": {},
     "source": [
      "All Subjects"
     ]
    },
    {
     "cell_type": "code",
     "collapsed": false,
     "input": [
      "from spgr.detect_spindles import get_spindles"
     ],
     "language": "python",
     "metadata": {},
     "outputs": [
      {
       "output_type": "stream",
       "stream": "stderr",
       "text": [
        "WARNING:phypno.ioeeg.mnefiff:mne-tools (optional dependency) is not installed. You will not be able to write in MNE fiff format.\n"
       ]
      },
      {
       "output_type": "stream",
       "stream": "stderr",
       "text": [
        "WARNING:phypno.attr.anat:nibabel (optional dependency) is not installed. You will not be able to read Freesurfer annotations and segmentations.\n"
       ]
      }
     ],
     "prompt_number": 1
    },
    {
     "cell_type": "code",
     "collapsed": false,
     "input": [
      "hemi_subj = {'EM09': 'rh', \n",
      "             'MG17': 'rh',\n",
      "             'MG33': 'lh',\n",
      "             'MG37': 'lh',\n",
      "             'MG61': 'lh',\n",
      "             'MG63': 'rh',\n",
      "             }\n",
      "all_subj = sorted(hemi_subj.keys())"
     ],
     "language": "python",
     "metadata": {},
     "outputs": [],
     "prompt_number": 2
    },
    {
     "cell_type": "code",
     "collapsed": false,
     "input": [
      "options = {'reref': 15,\n",
      "           'resample_freq': 256,\n",
      "           'hp_filter': 0.5,\n",
      "           'lp_filter': 50,\n",
      "           }\n",
      "chan_type = ('grid', )"
     ],
     "language": "python",
     "metadata": {},
     "outputs": [],
     "prompt_number": 3
    },
    {
     "cell_type": "code",
     "collapsed": false,
     "input": [
      "spindles_options = {'method': 'Nir2011', \n",
      "                    'frequency': (9, 16), \n",
      "                    'duration':(0.5, 2),\n",
      "                    }\n",
      "options.update(spindles_options)"
     ],
     "language": "python",
     "metadata": {},
     "outputs": [],
     "prompt_number": 4
    },
    {
     "cell_type": "code",
     "collapsed": false,
     "input": [
      "for subj in all_subj:\n",
      "    print(subj)\n",
      "    get_spindles(subj, **options)    "
     ],
     "language": "python",
     "metadata": {},
     "outputs": [
      {
       "output_type": "stream",
       "stream": "stderr",
       "text": [
        "INFO:/home/gpiantoni/projects/spgr/scripts/spgr/read_data.py:Subj EM09, reading data: EM09_sleep_grid_hp005_lp500_rs256.pkl\n"
       ]
      },
      {
       "output_type": "stream",
       "stream": "stderr",
       "text": [
        "INFO:/home/gpiantoni/projects/spgr/scripts/spgr/read_data.py:EM09 analysis chan 69, with location 69\n"
       ]
      },
      {
       "output_type": "stream",
       "stream": "stdout",
       "text": [
        "EM09\n"
       ]
      },
      {
       "output_type": "stream",
       "stream": "stderr",
       "text": [
        "INFO:/home/gpiantoni/projects/spgr/scripts/spgr/read_data.py:Subj MG17, reading data: MG17_sleep_grid_hp005_lp500_rs256.pkl\n"
       ]
      },
      {
       "output_type": "stream",
       "stream": "stderr",
       "text": [
        "INFO:/home/gpiantoni/projects/spgr/scripts/spgr/read_data.py:MG17 analysis chan 93, with location 93\n"
       ]
      },
      {
       "output_type": "stream",
       "stream": "stdout",
       "text": [
        "MG17\n"
       ]
      },
      {
       "output_type": "stream",
       "stream": "stderr",
       "text": [
        "INFO:/home/gpiantoni/projects/spgr/scripts/spgr/read_data.py:Subj MG33, reading data: MG33_sleep_grid_hp005_lp500_rs256.pkl\n"
       ]
      },
      {
       "output_type": "stream",
       "stream": "stderr",
       "text": [
        "INFO:/home/gpiantoni/projects/spgr/scripts/spgr/read_data.py:MG33 analysis chan 64, with location 64\n"
       ]
      },
      {
       "output_type": "stream",
       "stream": "stdout",
       "text": [
        "MG33\n"
       ]
      },
      {
       "output_type": "stream",
       "stream": "stderr",
       "text": [
        "INFO:/home/gpiantoni/projects/spgr/scripts/spgr/read_data.py:Subj MG37, reading data: MG37_sleep_grid_hp005_lp500_rs256.pkl\n"
       ]
      },
      {
       "output_type": "stream",
       "stream": "stderr",
       "text": [
        "INFO:/home/gpiantoni/projects/spgr/scripts/spgr/read_data.py:MG37 analysis chan 78, with location 78\n"
       ]
      },
      {
       "output_type": "stream",
       "stream": "stdout",
       "text": [
        "MG37\n"
       ]
      },
      {
       "output_type": "stream",
       "stream": "stderr",
       "text": [
        "INFO:/home/gpiantoni/projects/spgr/scripts/spgr/read_data.py:Subj MG61, reading data: MG61_sleep_grid_hp005_lp500_rs256.pkl\n"
       ]
      },
      {
       "output_type": "stream",
       "stream": "stderr",
       "text": [
        "INFO:/home/gpiantoni/projects/spgr/scripts/spgr/read_data.py:MG61 analysis chan 93, with location 93\n"
       ]
      },
      {
       "output_type": "stream",
       "stream": "stdout",
       "text": [
        "MG61\n"
       ]
      },
      {
       "output_type": "stream",
       "stream": "stderr",
       "text": [
        "INFO:/home/gpiantoni/projects/spgr/scripts/spgr/read_data.py:Subj MG63, reading data: MG63_sleep_grid_hp005_lp500_rs256.pkl\n"
       ]
      },
      {
       "output_type": "stream",
       "stream": "stderr",
       "text": [
        "INFO:/home/gpiantoni/projects/spgr/scripts/spgr/read_data.py:MG63 analysis chan 93, with location 93\n"
       ]
      },
      {
       "output_type": "stream",
       "stream": "stdout",
       "text": [
        "MG63\n"
       ]
      }
     ],
     "prompt_number": 6
    },
    {
     "cell_type": "code",
     "collapsed": false,
     "input": [],
     "language": "python",
     "metadata": {},
     "outputs": []
    }
   ],
   "metadata": {}
  }
 ]
}