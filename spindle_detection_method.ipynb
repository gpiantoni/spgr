{
 "metadata": {
  "name": "",
  "signature": "sha256:684bef4efc2743a0f83d2899567835b1e2127ea186ca7a57fb26973b17c7f8c3"
 },
 "nbformat": 3,
 "nbformat_minor": 0,
 "worksheets": [
  {
   "cells": [
    {
     "cell_type": "heading",
     "level": 1,
     "metadata": {},
     "source": [
      "SPGR\n"
     ]
    },
    {
     "cell_type": "code",
     "collapsed": false,
     "input": [
      "%load_ext autoreload\n",
      "%autoreload 2"
     ],
     "language": "python",
     "metadata": {},
     "outputs": [
      {
       "output_type": "stream",
       "stream": "stderr",
       "text": [
        "/home/gpiantoni/miniconda3/lib/python3.4/site-packages/IPython/external/qt_loaders.py:118: ResourceWarning: unclosed file <_io.BufferedReader name='/home/gpiantoni/miniconda3/lib/python3.4/site-packages/PyQt4/QtCore.so'>\n",
        "  imp.find_module('QtCore', mod.__path__)\n",
        "/home/gpiantoni/miniconda3/lib/python3.4/site-packages/IPython/external/qt_loaders.py:119: ResourceWarning: unclosed file <_io.BufferedReader name='/home/gpiantoni/miniconda3/lib/python3.4/site-packages/PyQt4/QtGui.so'>\n",
        "  imp.find_module('QtGui', mod.__path__)\n",
        "/home/gpiantoni/miniconda3/lib/python3.4/site-packages/IPython/external/qt_loaders.py:120: ResourceWarning: unclosed file <_io.BufferedReader name='/home/gpiantoni/miniconda3/lib/python3.4/site-packages/PyQt4/QtSvg.so'>\n",
        "  imp.find_module('QtSvg', mod.__path__)\n"
       ]
      }
     ],
     "prompt_number": 3
    },
    {
     "cell_type": "code",
     "collapsed": false,
     "input": [
      "import version_control\n",
      "%gui qt "
     ],
     "language": "python",
     "metadata": {},
     "outputs": [
      {
       "output_type": "stream",
       "stream": "stdout",
       "text": [
        "Last run on ip94.ucsd.edu at 2015-02-24 18:15:40.449396\n",
        "\n",
        "Phypno Version: 238aa5280e516665987d1d8ed083c7d6a76d82ea\n",
        "\n",
        "astroid==1.3.4, conda==3.9.0, conda-env==2.1.3, docutils==0.12, ipython==2.4.1, Jinja2==2.7.3, logilab-common==0.63.2, MarkupSafe==0.23, matplotlib==1.4.3, nibabel==2.0.0, nose==1.3.4, numpy==1.9.1, pandas==0.15.2, pep8==1.6.2, psutil==2.2.1, pycosat==0.6.1, pyflakes==0.8.1, Pygments==2.0.1, pylint==1.4.1, PyOpenGL==3.1.0, pyparsing==2.0.3, pyqtgraph==0.9.10, python-dateutil==2.1, pytz==2014.9, PyYAML==3.11, pyzmq==14.5.0, requests==2.5.2, rope-py3k==0.9.4.post1, scikit-learn==0.15.2, scipy==0.15.1, six==1.9.0, Sphinx==1.2.3, spyder==2.3.2, tornado==4.1, "
       ]
      },
      {
       "output_type": "stream",
       "stream": "stdout",
       "text": [
        "\n"
       ]
      }
     ],
     "prompt_number": 2
    },
    {
     "cell_type": "code",
     "collapsed": false,
     "input": [
      "from spgr import lg\n",
      "lg.setLevel(10)"
     ],
     "language": "python",
     "metadata": {},
     "outputs": [],
     "prompt_number": 1
    },
    {
     "cell_type": "heading",
     "level": 2,
     "metadata": {},
     "source": [
      "Spindle Detection Method"
     ]
    },
    {
     "cell_type": "code",
     "collapsed": false,
     "input": [
      "from copy import deepcopy\n",
      "from os import makedirs\n",
      "from os.path import join\n",
      "\n",
      "from numpy import where, NaN\n",
      "\n",
      "from spgr.read_data import DATA_DIR, REC_DIR, FS_PATH, ELEC_PATH, get_data, GROUP_DIR, get_chan_used_in_analysis"
     ],
     "language": "python",
     "metadata": {},
     "outputs": [],
     "prompt_number": 4
    },
    {
     "cell_type": "code",
     "collapsed": false,
     "input": [
      "method_dir = join(GROUP_DIR, 'methods')\n",
      "makedirs(method_dir, exist_ok=True)\n",
      "\n",
      "img_dir = '/home/gpiantoni/Copy/Presentations/2013_MGH/20150225_UCSD/img'"
     ],
     "language": "python",
     "metadata": {},
     "outputs": [],
     "prompt_number": 5
    },
    {
     "cell_type": "code",
     "collapsed": false,
     "input": [
      "from phypno.detect import DetectSpindle\n",
      "from phypno.detect.spindle import transform_signal\n",
      "from phypno.trans import Select"
     ],
     "language": "python",
     "metadata": {},
     "outputs": [],
     "prompt_number": 6
    },
    {
     "cell_type": "code",
     "collapsed": false,
     "input": [
      "options = {'reref': '',\n",
      "           'resample_freq': 256,\n",
      "           'hp_filter': 0.5,\n",
      "           'lp_filter': 50,\n",
      "           }"
     ],
     "language": "python",
     "metadata": {},
     "outputs": [],
     "prompt_number": 7
    },
    {
     "cell_type": "markdown",
     "metadata": {},
     "source": [
      "Spindles were detected on each electrode independently, using previously reported methods with stringent criteria [@Nir2011].\n",
      "The raw signal was filtered between 9 and 16 Hz and the instantaneous amplitude was calculated from the analytic signal via Hilbert transform.\n",
      "The amplitude had to go above a threshold for detection (set at 3 times the S.D.).\n",
      "The beginning and end of the spindle were defined by a threshold for selection (set at 1 time the S.D.).\n",
      "Spindle duration had to be between 0.5 and 2s.\n",
      "We computed the power spectrum over the spindle interval and the peak in the power spectrum had to lie between 9 and 16 Hz (Fig. +[spgr_detect_method])."
     ]
    },
    {
     "cell_type": "code",
     "collapsed": false,
     "input": [
      "LIMITS = (9, 16)\n",
      "\n",
      "detsp = DetectSpindle(method='Nir2011', frequency=LIMITS, duration=(0.5, 2))"
     ],
     "language": "python",
     "metadata": {},
     "outputs": [],
     "prompt_number": 8
    },
    {
     "cell_type": "code",
     "collapsed": false,
     "input": [
      "PLOT_SIZE = 960, 240"
     ],
     "language": "python",
     "metadata": {},
     "outputs": [],
     "prompt_number": 9
    },
    {
     "cell_type": "code",
     "collapsed": false,
     "input": [
      "subj = 'EM09'\n",
      "chan_name = 'GR28'\n",
      "data = get_data(subj, 'sleep', ('grid', ), **options)\n",
      "sel = Select(chan=(chan_name, ))\n",
      "data = sel(data)"
     ],
     "language": "python",
     "metadata": {},
     "outputs": [
      {
       "output_type": "stream",
       "stream": "stderr",
       "text": [
        "INFO:/home/gpiantoni/projects/spgr/scripts/spgr/read_data.py:Subj EM09, reading data: EM09_sleep_grid_hp005_lp500_rs256.pkl\n"
       ]
      },
      {
       "output_type": "stream",
       "stream": "stderr",
       "text": [
        "INFO:/home/gpiantoni/projects/spgr/scripts/spgr/read_data.py:EM09 analysis chan 69, with location 69\n"
       ]
      }
     ],
     "prompt_number": 10
    },
    {
     "cell_type": "code",
     "collapsed": false,
     "input": [
      "good_trial = [i for i, trl in enumerate(data) if 42710 // 30 * 30 == trl.axis['time'][0][0]][0]\n",
      "good_trial = 73"
     ],
     "language": "python",
     "metadata": {},
     "outputs": [],
     "prompt_number": 97
    },
    {
     "cell_type": "code",
     "collapsed": false,
     "input": [
      "\n",
      "sel = Select(trial=(good_trial, ))\n",
      "sel_data = sel(data)"
     ],
     "language": "python",
     "metadata": {},
     "outputs": [],
     "prompt_number": 98
    },
    {
     "cell_type": "code",
     "collapsed": false,
     "input": [
      "from phypno.viz import Viz1"
     ],
     "language": "python",
     "metadata": {},
     "outputs": [],
     "prompt_number": 99
    },
    {
     "cell_type": "code",
     "collapsed": false,
     "input": [
      "v = Viz1()\n",
      "v.size = PLOT_SIZE\n",
      "v.add_data(sel_data, limits_y=(-200, 200))\n",
      "v._plots[chan_name].setLabels(left='amplitude (\u03bcV)', bottom='time (s)')\n",
      "v.save(join(img_dir, 'raw.png' ))\n",
      "v"
     ],
     "language": "python",
     "metadata": {},
     "outputs": [
      {
       "metadata": {},
       "output_type": "pyout",
       "png": "[encoded data removed]",
       "prompt_number": 101,
       "text": [
        "<phypno.viz.plot_1d.Viz1 at 0x7f6a2652ab70>"
       ]
      }
     ],
     "prompt_number": 101
    },
    {
     "cell_type": "code",
     "collapsed": false,
     "input": [
      "sp = detsp(sel_data)"
     ],
     "language": "python",
     "metadata": {},
     "outputs": [],
     "prompt_number": 102
    },
    {
     "cell_type": "code",
     "collapsed": false,
     "input": [
      "from phypno.trans import Filter, Math\n",
      "\n",
      "filt = Filter(low_cut=detsp.det_butter['freq'][0], high_cut=detsp.det_butter['freq'][1], \n",
      "              order=detsp.det_butter['order'], s_freq=data.s_freq)\n",
      "x_filt = filt(sel_data)"
     ],
     "language": "python",
     "metadata": {},
     "outputs": [],
     "prompt_number": 103
    },
    {
     "cell_type": "code",
     "collapsed": false,
     "input": [
      "from numpy import ones, take, swapaxes, arange, atleast_2d\n",
      "from scipy.signal import fftconvolve\n",
      "\n",
      "def move_avg(dat, axis):\n",
      "    \"\"\"Function to compute moving average.\"\"\"\n",
      "    flat = ones(detsp.moving_avg['dur'] * data.s_freq)\n",
      "\n",
      "    dat = swapaxes(dat, axis, -1)\n",
      "    for i, x in enumerate(dat):\n",
      "        dat[i, :] = fftconvolve(x, flat / sum(flat), mode='same')\n",
      "    return swapaxes(dat, -1, axis)\n",
      "\n",
      "hilbert_abs = Math(operator_name=('hilbert', 'abs'), axis='time')\n",
      "moving_avg = Math(operator=move_avg, axis='time')\n",
      "\n",
      "dat_det = moving_avg(hilbert_abs(x_filt))"
     ],
     "language": "python",
     "metadata": {},
     "outputs": [],
     "prompt_number": 104
    },
    {
     "cell_type": "code",
     "collapsed": false,
     "input": [
      "from pyqtgraph import mkPen\n",
      "\n",
      "v = Viz1()\n",
      "v.size = PLOT_SIZE\n",
      "v.add_data(x_filt, color=mkPen('b', width=1), limits_y=(-100, 100))\n",
      "v.add_data(dat_det, color=mkPen(width=4))\n",
      "v._plots[chan_name].setLabels(left='amplitude (\u03bcV)', bottom='time (s)')\n",
      "v.save(join(img_dir, 'envelope.png' ))\n",
      "v"
     ],
     "language": "python",
     "metadata": {},
     "outputs": [
      {
       "metadata": {},
       "output_type": "pyout",
       "png": "[encoded data removed]",
       "prompt_number": 105,
       "text": [
        "<phypno.viz.plot_1d.Viz1 at 0x7f6a25c16b00>"
       ]
      }
     ],
     "prompt_number": 105
    },
    {
     "cell_type": "code",
     "collapsed": false,
     "input": [
      "t = dat_det.axis['time'][0]\n",
      "good_sp = [x for x in sp.spindle if x['start_time'] < t[-1] and x['end_time'] > t[0]]\n",
      "\n",
      "detected_spindles = deepcopy(dat_det)\n",
      "\n",
      "for one_sp in good_sp:\n",
      "    i0 = where(t == one_sp['start_time'])[0]\n",
      "    i1 = where(t == one_sp['end_time'])[0]\n",
      "    detected_spindles.data[0][0, i0:i1] = NaN\n",
      "\n",
      "    \n",
      "v = Viz1()\n",
      "v.size = PLOT_SIZE\n",
      "v.add_data(dat_det, color=mkPen(width=4), limits_y=(0, 100))\n",
      "v.add_data(detected_spindles, color=mkPen('r', width=4))\n",
      "v._plots[chan_name].setLabels(left='amplitude (\u03bcV)', bottom='time (s)')\n",
      "# v.save(join(img_dir, 'envelope.png' ))\n",
      "v"
     ],
     "language": "python",
     "metadata": {},
     "outputs": [
      {
       "metadata": {},
       "output_type": "pyout",
       "png": "[encoded data removed]",
       "prompt_number": 106,
       "text": [
        "<phypno.viz.plot_1d.Viz1 at 0x7f6a25bde9b0>"
       ]
      }
     ],
     "prompt_number": 106
    },
    {
     "cell_type": "code",
     "collapsed": false,
     "input": [
      "v = Viz1()\n",
      "v.size = PLOT_SIZE\n",
      "v.add_data(sel_data, limits_y=(-200, 200))\n",
      "v._plots[chan_name].setLabels(left='amplitude (\u03bcV)', bottom='time (s)')\n",
      "v.add_graphoelement(sp)\n",
      "v.save(join(img_dir, 'detected.png' ))\n",
      "v"
     ],
     "language": "python",
     "metadata": {},
     "outputs": [
      {
       "metadata": {},
       "output_type": "pyout",
       "png": "[encoded data removed]",
       "prompt_number": 107,
       "text": [
        "<phypno.viz.plot_1d.Viz1 at 0x7f6a25c16710>"
       ]
      }
     ],
     "prompt_number": 107
    },
    {
     "cell_type": "code",
     "collapsed": false,
     "input": [
      "from phypno.trans import Math, Filter\n",
      "from numpy import pi"
     ],
     "language": "python",
     "metadata": {},
     "outputs": [],
     "prompt_number": 48
    },
    {
     "cell_type": "code",
     "collapsed": false,
     "input": [
      "sel = Select(trial=(73, ))\n",
      "sel_data = sel(data)\n",
      "sp = detsp(sel_data)\n",
      "\n",
      "hp = Filter(low_cut=10, high_cut=15, s_freq=sel_data.s_freq)\n",
      "h = Math(operator_name=('hilbert', 'angle', 'unwrap', 'diff'), axis='time')\n",
      "ddata = h(hp(sel_data))\n",
      "ddata.data[0] *= (ddata.s_freq / 2 / pi)\n",
      "\n",
      "v = Viz1()\n",
      "v.size = PLOT_SIZE\n",
      "v.add_data(ddata, limits_y=(5, 20))\n",
      "v.add_graphoelement(sp)\n",
      "v._plots[chan_name].setLabels(left='frequency (Hz)', bottom='time (s)')\n",
      "v.save(join(img_dir, 'inst_freq.png' ))\n",
      "v"
     ],
     "language": "python",
     "metadata": {},
     "outputs": [
      {
       "metadata": {},
       "output_type": "pyout",
       "png": "[encoded data removed]",
       "prompt_number": 110,
       "text": [
        "<phypno.viz.plot_1d.Viz1 at 0x7f6a25728048>"
       ]
      }
     ],
     "prompt_number": 110
    },
    {
     "cell_type": "heading",
     "level": 3,
     "metadata": {},
     "source": [
      "All Subjects"
     ]
    },
    {
     "cell_type": "code",
     "collapsed": false,
     "input": [
      "%load_ext autoreload\n",
      "%autoreload 2"
     ],
     "language": "python",
     "metadata": {},
     "outputs": []
    },
    {
     "cell_type": "code",
     "collapsed": false,
     "input": [
      "for subj in all_subj:\n",
      "    print(subj)\n",
      "    sp = get_spindles(subj, **options)    "
     ],
     "language": "python",
     "metadata": {},
     "outputs": []
    },
    {
     "cell_type": "code",
     "collapsed": false,
     "input": [
      "from spgr.detect_spindles import get_spindles"
     ],
     "language": "python",
     "metadata": {},
     "outputs": []
    },
    {
     "cell_type": "code",
     "collapsed": false,
     "input": [
      "hemi_subj = {'EM09': 'rh', \n",
      "             'MG17': 'rh',\n",
      "             'MG33': 'lh',\n",
      "             'MG37': 'lh',\n",
      "             'MG61': 'lh',\n",
      "             'MG63': 'rh',\n",
      "             }\n",
      "all_subj = sorted(hemi_subj.keys())"
     ],
     "language": "python",
     "metadata": {},
     "outputs": []
    },
    {
     "cell_type": "code",
     "collapsed": false,
     "input": [
      "options = {'reref': 'avg',  # or 15 or ''\n",
      "           'resample_freq': 256,\n",
      "           'hp_filter': 0.5,\n",
      "           'lp_filter': 50,\n",
      "           }\n",
      "chan_type = ('grid', )"
     ],
     "language": "python",
     "metadata": {},
     "outputs": []
    },
    {
     "cell_type": "code",
     "collapsed": false,
     "input": [
      "subj = all_subj[0]"
     ],
     "language": "python",
     "metadata": {},
     "outputs": []
    },
    {
     "cell_type": "code",
     "collapsed": false,
     "input": [
      "data = get_data(subj, 'sleep', chan_type, **options)"
     ],
     "language": "python",
     "metadata": {},
     "outputs": []
    },
    {
     "cell_type": "code",
     "collapsed": false,
     "input": [
      "spindles_options = {'method': 'Nir2011', \n",
      "                    'frequency': (9, 16), \n",
      "                    'duration':(0.5, 2),\n",
      "                    }\n",
      "options.update(spindles_options)"
     ],
     "language": "python",
     "metadata": {},
     "outputs": []
    },
    {
     "cell_type": "code",
     "collapsed": false,
     "input": [
      "sp = get_spindles(subj, **options) "
     ],
     "language": "python",
     "metadata": {},
     "outputs": []
    },
    {
     "cell_type": "code",
     "collapsed": false,
     "input": [],
     "language": "python",
     "metadata": {},
     "outputs": []
    },
    {
     "cell_type": "code",
     "collapsed": false,
     "input": [
      "from phypno.viz import Viz1"
     ],
     "language": "python",
     "metadata": {},
     "outputs": []
    },
    {
     "cell_type": "code",
     "collapsed": false,
     "input": [
      "# sel = Select(chan=data.axis['chan'][0][:17:2], trial=(105, ))\n",
      "sel = Select(chan=data.axis['chan'][0][:20:2], trial=(50, ))\n",
      "sel_data = sel(data)\n",
      "\n",
      "v = Viz1()\n",
      "v.size = 960, 800\n",
      "v.add_data(sel_data, limits_y=(-150, 150))\n",
      "for p in v._plots.values():\n",
      "    p.setTitle(None)\n",
      "\n",
      "v.add_graphoelement(sp)\n",
      "v.save('/home/gpiantoni/Copy/Presentations/2013_MGH/20150225_UCSD/img/spindles_example.png')\n",
      "v"
     ],
     "language": "python",
     "metadata": {},
     "outputs": []
    },
    {
     "cell_type": "code",
     "collapsed": false,
     "input": [],
     "language": "python",
     "metadata": {},
     "outputs": []
    }
   ],
   "metadata": {}
  }
 ]
}