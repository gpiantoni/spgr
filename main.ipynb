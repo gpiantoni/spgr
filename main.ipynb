{
 "metadata": {
  "name": "",
  "signature": "sha256:1e08d52b591f818f8184d066efcea6b15a898566273916a206973825e93e652b"
 },
 "nbformat": 3,
 "nbformat_minor": 0,
 "worksheets": [
  {
   "cells": [
    {
     "cell_type": "heading",
     "level": 1,
     "metadata": {
      "slideshow": {
       "slide_type": "-"
      }
     },
     "source": [
      "SPGR"
     ]
    },
    {
     "cell_type": "heading",
     "level": 3,
     "metadata": {},
     "source": [
      "CASHLAB03-deb"
     ]
    },
    {
     "cell_type": "code",
     "collapsed": false,
     "input": [
      "from datetime import datetime\n",
      "print('Last run on ' + str(datetime.now()) + '\\n')\n",
      "\n",
      "import phypno\n",
      "phypno_path = phypno.__path__[0] + '/../.git'\n",
      "\n",
      "phypno_ver = !git -C $phypno_path rev-parse HEAD\n",
      "print('Phypno Version: ' + phypno_ver[0])\n",
      "!pip freeze"
     ],
     "language": "python",
     "metadata": {},
     "outputs": [
      {
       "output_type": "stream",
       "stream": "stdout",
       "text": [
        "Last run on 2014-04-15 10:29:29.812070\n",
        "\n"
       ]
      },
      {
       "output_type": "stream",
       "stream": "stdout",
       "text": [
        "Phypno Version: f3679e76f31b8a685f23495e3a63388cfa057fd5\n"
       ]
      },
      {
       "output_type": "stream",
       "stream": "stdout",
       "text": [
        "Jinja2==2.7.2\r\n",
        "MarkupSafe==0.19\r\n",
        "PySide==1.2.1\r\n",
        "Pygments==1.6\r\n",
        "Sphinx==1.2.2\r\n",
        "docutils==0.11\r\n",
        "ipython==2.0.0\r\n",
        "nose==1.3.1\r\n",
        "numpy==1.8.1\r\n",
        "numpydoc==0.4\r\n",
        "pyzmq==14.1.1\r\n",
        "scipy==0.13.3\r\n",
        "tornado==3.2\r\n"
       ]
      }
     ],
     "prompt_number": 1
    },
    {
     "cell_type": "code",
     "collapsed": false,
     "input": [
      "from os import listdir, mkdir\n",
      "from os.path import isdir, join\n",
      "from pickle import dump\n",
      "\n",
      "from phypno import Dataset\n",
      "from phypno.attr import Scores\n",
      "from phypno.trans import Filter"
     ],
     "language": "python",
     "metadata": {},
     "outputs": [
      {
       "output_type": "stream",
       "stream": "stderr",
       "text": [
        "WARNING:phypno.attr.anat:nibabel (optional dependency) is not installed. You will not be able to read Freesurfer annotations and segmentations.\n"
       ]
      }
     ],
     "prompt_number": 2
    },
    {
     "cell_type": "code",
     "collapsed": false,
     "input": [
      "rec_dir = '/home/gio/recordings'\n",
      "score_path = 'doc/scores'\n",
      "sleep_stages = ('NREM2', 'NREM3')\n",
      "wake_stages = ('Wake', )\n",
      "\n",
      "data_dir = '/home/gio/projects/spgr/subjects'\n",
      "xltek_path = 'eeg/raw/xltek'\n",
      "MIN_EPOCHS = 60"
     ],
     "language": "python",
     "metadata": {},
     "outputs": [],
     "prompt_number": 9
    },
    {
     "cell_type": "code",
     "collapsed": false,
     "input": [
      "def save_wake_sleep_data(sleep_epochs, xltek_file, subj_dir):\n",
      "                         \n",
      "    d = Dataset(xltek_file)\n",
      "    start_time = [x['start_time'] for x in sleep_epochs]\n",
      "    end_time = [x['end_time'] for x in sleep_epochs]\n",
      "    gr_chan = d.header['chan_name'][:60]\n",
      "    sleep_data = d.read_data(begtime=start_time[:MIN_EPOCHS], endtime=end_time[:MIN_EPOCHS], chan=gr_chan)\n",
      "    start_time = [x['start_time'] for x in wake_epochs]\n",
      "    end_time = [x['end_time'] for x in wake_epochs]\n",
      "    wake_data = d.read_data(begtime=start_time[:MIN_EPOCHS], endtime=end_time[:MIN_EPOCHS], chan=gr_chan)\n",
      "\n",
      "    hp_filt = Filter(low_cut=1, s_freq=sleep_data.s_freq)\n",
      "    lp_filt = Filter(high_cut=40, s_freq=sleep_data.s_freq)\n",
      "        \n",
      "    if not isdir(subj_dir):\n",
      "        mkdir(subj_dir)\n",
      "    \n",
      "    sleep_file = join(subj_dir, 'sleep_data.pkl')\n",
      "    wake_file = join(subj_dir, 'wake_data.pkl')\n",
      "    \n",
      "    sleep_data = lp_filt(hp_filt(sleep_data))\n",
      "    wake_data = lp_filt(hp_filt(wake_data))\n",
      "    \n",
      "    dump(sleep_data, open(sleep_file, 'wb'))\n",
      "    dump(wake_data, open(wake_file, 'wb'))\n"
     ],
     "language": "python",
     "metadata": {},
     "outputs": [],
     "prompt_number": 7
    },
    {
     "cell_type": "code",
     "collapsed": false,
     "input": [
      "# all_subj = sorted(listdir(rec_dir), reverse=True)\n",
      "subj_with_grid_scalp = ('EM03', 'EM09', 'MG07', 'MG11', 'MG12', 'MG15', 'MG17', \n",
      "                        'MG29', 'MG31', 'MG32', 'MG33', 'MG37', 'MG42', 'MG45', \n",
      "                        'MG48', 'MG49', 'MG51', 'MG56', 'MG61', 'MG63', 'MG65', 'MG72')\n",
      "not_in_rec = ('MG12', )\n",
      "\n",
      "\n",
      "all_subj = set(subj_with_grid_scalp) - set(not_in_rec)\n",
      "for subj in sorted(all_subj):\n",
      "    score_dir = join(rec_dir, subj, score_path)\n",
      "    all_xml = listdir(score_dir)\n",
      "    if all_xml:\n",
      "        ok_sleep = True  # save only one dataset per subject\n",
      "        for one_xml in all_xml:\n",
      "            score = Scores(join(score_dir, one_xml))\n",
      "            sleep_epochs = score.get_epochs(sleep_stages)\n",
      "            wake_epochs = score.get_epochs(wake_stages)\n",
      "\n",
      "            print('{0} has{1: 5.1f} minutes of {2} and{3: 5.1f} minutes of {4}.'\n",
      "                  ''.format(one_xml, len(sleep_epochs)/2, ', '.join(sleep_stages),\n",
      "                            len(wake_epochs)/2, ', '.join(wake_stages)))\n",
      "       \n",
      "            if len(sleep_epochs) >= MIN_EPOCHS and len(wake_epochs) >= MIN_EPOCHS and ok_sleep:\n",
      "                print('saving data for ' + subj)\n",
      "                xltek_file = join(rec_dir, subj, xltek_path, one_xml[:-11])\n",
      "                subj_dir = join(data_dir, subj)\n",
      "                # save_wake_sleep_data(sleep_epochs, xltek_file, subj_dir)\n",
      "                ok_sleep = False"
     ],
     "language": "python",
     "metadata": {},
     "outputs": [
      {
       "output_type": "stream",
       "stream": "stdout",
       "text": [
        "EM09_eeg_xltek_sessA_d05_11_53_38_scores.xml has 62.0 minutes of NREM2, NREM3 and 60.0 minutes of Wake.\n",
        "saving data for EM09\n",
        "EM09_eeg_xltek_sessA_d06_08_05_47_scores.xml has 71.0 minutes of NREM2, NREM3 and 44.5 minutes of Wake.\n",
        "MG33_eeg_xltek_sessA_d09_09_01_22_scores.xml has  0.0 minutes of NREM2, NREM3 and  0.0 minutes of Wake.\n",
        "MG33_eeg_xltek_sessA_d07_09_46_30_scores.xml has  0.0 minutes of NREM2, NREM3 and  0.0 minutes of Wake."
       ]
      },
      {
       "output_type": "stream",
       "stream": "stdout",
       "text": [
        "\n",
        "MG37_eeg_xltek_sessA_d04_10_18_31_scores.xml has  0.0 minutes of NREM2, NREM3 and 62.5 minutes of Wake.\n",
        "MG37_eeg_xltek_sessA_d03_12_18_14_scores.xml has 38.0 minutes of NREM2, NREM3 and 35.5 minutes of Wake.\n",
        "saving data for MG37\n",
        "MG49_eeg_xltek_sessA_d02_06_34_58_scores.xml has  0.0 minutes of NREM2, NREM3 and  0.0 minutes of Wake."
       ]
      },
      {
       "output_type": "stream",
       "stream": "stdout",
       "text": [
        "\n",
        "MG51_eeg_xltek_sessA_d09_06_39_53_scores.xml has  0.0 minutes of NREM2, NREM3 and  0.0 minutes of Wake.\n",
        "MG51_eeg_xltek_sessA_d08_06_41_13_scores.xml has 83.5 minutes of NREM2, NREM3 and 62.0 minutes of Wake."
       ]
      },
      {
       "output_type": "stream",
       "stream": "stdout",
       "text": [
        "\n",
        "saving data for MG51\n",
        "MG56_eeg_xltek_sessA_d08_06_38_19_scores.xml has  0.0 minutes of NREM2, NREM3 and  0.0 minutes of Wake.\n",
        "MG56_eeg_xltek_sessA_d02_16_09_47_scores.xml has  3.5 minutes of NREM2, NREM3 and  0.0 minutes of Wake."
       ]
      },
      {
       "output_type": "stream",
       "stream": "stdout",
       "text": [
        "\n",
        "MG61_eeg_xltek_sessA_d02_17_28_06_scores.xml has  0.0 minutes of NREM2, NREM3 and  0.0 minutes of Wake.\n",
        "MG61_eeg_xltek_sessA_d03_07_58_11_scores.xml has  0.0 minutes of NREM2, NREM3 and  0.0 minutes of Wake.\n",
        "MG63_eeg_xltek_sessA_d00_17_38_33_scores.xml has  0.0 minutes of NREM2, NREM3 and  0.0 minutes of Wake."
       ]
      },
      {
       "output_type": "stream",
       "stream": "stdout",
       "text": [
        "\n",
        "MG63_eeg_xltek_sessA_d06_15_55_12_scores.xml has 44.5 minutes of NREM2, NREM3 and 104.5 minutes of Wake.\n",
        "saving data for MG63\n",
        "MG65_eeg_xltek_sessA_d06_13_23_20_scores.xml has  0.0 minutes of NREM2, NREM3 and  0.0 minutes of Wake.\n",
        "MG65_eeg_xltek_sessA_d01_19_23_24_scores.xml has 69.5 minutes of NREM2, NREM3 and 53.0 minutes of Wake.\n",
        "saving data for MG65\n",
        "MG72_eeg_xltek_sessA_d08_12_08_30_scores.xml has 12.0 minutes of NREM2, NREM3 and  0.0 minutes of Wake."
       ]
      },
      {
       "output_type": "stream",
       "stream": "stdout",
       "text": [
        "\n",
        "MG72_eeg_xltek_sessA_d09_07_47_00_scores.xml has 59.5 minutes of NREM2, NREM3 and 30.5 minutes of Wake.\n",
        "saving data for MG72\n",
        "MG72_eeg_xltek_sessA_d13_11_18_02_scores.xml has 18.5 minutes of NREM2, NREM3 and  5.5 minutes of Wake.\n"
       ]
      }
     ],
     "prompt_number": 30
    },
    {
     "cell_type": "code",
     "collapsed": false,
     "input": [
      "!cd /home/gio/projects/spgr/subjects; tar -cvf spgr.tar.gz ."
     ],
     "language": "python",
     "metadata": {},
     "outputs": []
    },
    {
     "cell_type": "code",
     "collapsed": false,
     "input": [
      "!scp /home/gio/projects/spgr/subjects/spgr.tar.gz gp902@rgs03.research.partners.org:projects/spgr/subjects"
     ],
     "language": "python",
     "metadata": {},
     "outputs": []
    },
    {
     "cell_type": "code",
     "collapsed": false,
     "input": [
      "\n"
     ],
     "language": "python",
     "metadata": {},
     "outputs": []
    },
    {
     "cell_type": "code",
     "collapsed": false,
     "input": [],
     "language": "python",
     "metadata": {},
     "outputs": []
    }
   ],
   "metadata": {}
  }
 ]
}