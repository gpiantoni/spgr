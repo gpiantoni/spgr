{
 "metadata": {
  "name": "",
  "signature": "sha256:c0861bdcb2526ac00e438b50a444a03c70909f4669a46f5ad0b5bb58e45eba29"
 },
 "nbformat": 3,
 "nbformat_minor": 0,
 "worksheets": [
  {
   "cells": [
    {
     "cell_type": "heading",
     "level": 1,
     "metadata": {
      "slideshow": {
       "slide_type": "-"
      }
     },
     "source": [
      "SPGR"
     ]
    },
    {
     "cell_type": "heading",
     "level": 3,
     "metadata": {},
     "source": [
      "CASHLAB03-deb"
     ]
    },
    {
     "cell_type": "code",
     "collapsed": false,
     "input": [
      "from datetime import datetime\n",
      "print('Last run on ' + str(datetime.now()) + '\\n')\n",
      "\n",
      "import phypno\n",
      "phypno_path = phypno.__path__[0] + '/../.git'\n",
      "\n",
      "phypno_ver = !git -C $phypno_path rev-parse HEAD\n",
      "print('Phypno Version: ' + phypno_ver[0])\n",
      "!pip freeze"
     ],
     "language": "python",
     "metadata": {},
     "outputs": [
      {
       "output_type": "stream",
       "stream": "stdout",
       "text": [
        "Last run on 2014-04-04 15:23:31.727124\n",
        "\n"
       ]
      },
      {
       "ename": "ImportError",
       "evalue": "No module named 'phypno'",
       "output_type": "pyerr",
       "traceback": [
        "\u001b[1;31m---------------------------------------------------------------------------\u001b[0m\n\u001b[1;31mImportError\u001b[0m                               Traceback (most recent call last)",
        "\u001b[1;32m<ipython-input-1-4d9d1b841236>\u001b[0m in \u001b[0;36m<module>\u001b[1;34m()\u001b[0m\n\u001b[0;32m      2\u001b[0m \u001b[0mprint\u001b[0m\u001b[1;33m(\u001b[0m\u001b[1;34m'Last run on '\u001b[0m \u001b[1;33m+\u001b[0m \u001b[0mstr\u001b[0m\u001b[1;33m(\u001b[0m\u001b[0mdatetime\u001b[0m\u001b[1;33m.\u001b[0m\u001b[0mnow\u001b[0m\u001b[1;33m(\u001b[0m\u001b[1;33m)\u001b[0m\u001b[1;33m)\u001b[0m \u001b[1;33m+\u001b[0m \u001b[1;34m'\\n'\u001b[0m\u001b[1;33m)\u001b[0m\u001b[1;33m\u001b[0m\u001b[0m\n\u001b[0;32m      3\u001b[0m \u001b[1;33m\u001b[0m\u001b[0m\n\u001b[1;32m----> 4\u001b[1;33m \u001b[1;32mimport\u001b[0m \u001b[0mphypno\u001b[0m\u001b[1;33m\u001b[0m\u001b[0m\n\u001b[0m\u001b[0;32m      5\u001b[0m \u001b[0mphypno_path\u001b[0m \u001b[1;33m=\u001b[0m \u001b[0mphypno\u001b[0m\u001b[1;33m.\u001b[0m\u001b[0m__path__\u001b[0m\u001b[1;33m[\u001b[0m\u001b[1;36m0\u001b[0m\u001b[1;33m]\u001b[0m \u001b[1;33m+\u001b[0m \u001b[1;34m'/../.git'\u001b[0m\u001b[1;33m\u001b[0m\u001b[0m\n\u001b[0;32m      6\u001b[0m \u001b[1;33m\u001b[0m\u001b[0m\n",
        "\u001b[1;31mImportError\u001b[0m: No module named 'phypno'"
       ]
      }
     ],
     "prompt_number": 1
    },
    {
     "cell_type": "code",
     "collapsed": false,
     "input": [
      "from os import listdir, mkdir\n",
      "from os.path import isdir, join\n",
      "from pickle import dump\n",
      "\n",
      "from phypno import Dataset\n",
      "from phypno.attr import Scores\n",
      "from phypno.trans import Filter"
     ],
     "language": "python",
     "metadata": {},
     "outputs": []
    },
    {
     "cell_type": "code",
     "collapsed": false,
     "input": [
      "rec_dir = '/home/gio/recordings'\n",
      "score_path = 'doc/scores'\n",
      "sleep_stages = ('NREM2', 'NREM3')\n",
      "wake_stages = ('Wake', )\n",
      "\n",
      "data_dir = '/home/gio/projects/spgr/subjects'\n",
      "xltek_path = 'eeg/raw/xltek'\n",
      "MIN_EPOCHS = 40"
     ],
     "language": "python",
     "metadata": {},
     "outputs": []
    },
    {
     "cell_type": "code",
     "collapsed": false,
     "input": [
      "def save_wake_sleep_data(sleep_epochs, xltek_file, subj_dir):\n",
      "                         \n",
      "    d = Dataset(xltek_file)\n",
      "    start_time = [x['start_time'] for x in sleep_epochs]\n",
      "    end_time = [x['end_time'] for x in sleep_epochs]\n",
      "    gr_chan = d.header['chan_name'][:60]\n",
      "    sleep_data = d.read_data(begtime=start_time[:MIN_EPOCHS], endtime=end_time[:MIN_EPOCHS], chan=gr_chan)\n",
      "    start_time = [x['start_time'] for x in wake_epochs]\n",
      "    end_time = [x['end_time'] for x in wake_epochs]\n",
      "    wake_data = d.read_data(begtime=start_time[:MIN_EPOCHS], endtime=end_time[:MIN_EPOCHS], chan=gr_chan)\n",
      "\n",
      "    hp_filt = Filter(low_cut=1, s_freq=sleep_data.s_freq)\n",
      "    lp_filt = Filter(high_cut=40, s_freq=sleep_data.s_freq)\n",
      "        \n",
      "    if not isdir(subj_dir):\n",
      "        mkdir(subj_dir)\n",
      "    \n",
      "    sleep_file = join(subj_dir, 'sleep_data.pkl')\n",
      "    wake_file = join(subj_dir, 'wake_data.pkl')\n",
      "    \n",
      "    sleep_data = lp_filt(hp_filt(sleep_data))\n",
      "    wake_data = lp_filt(hp_filt(wake_data))\n",
      "    \n",
      "    dump(sleep_data, open(sleep_file, 'wb'))\n",
      "    dump(wake_data, open(wake_file, 'wb'))\n"
     ],
     "language": "python",
     "metadata": {},
     "outputs": []
    },
    {
     "cell_type": "code",
     "collapsed": false,
     "input": [
      "for subj in sorted(listdir(rec_dir)):\n",
      "    score_dir = join(rec_dir, subj, score_path)\n",
      "    all_xml = listdir(score_dir)\n",
      "    if all_xml:\n",
      "        for one_xml in all_xml:\n",
      "            score = Scores(join(score_dir, one_xml))\n",
      "            sleep_epochs = score.get_epochs(sleep_stages)\n",
      "            wake_epochs = score.get_epochs(wake_stages)\n",
      "\n",
      "            print('{0} has{1: 5.1f} minutes of {2} and{3: 5.1f} minutes of {4}.'\n",
      "                  ''.format(one_xml, len(sleep_epochs)/2, ', '.join(sleep_stages),\n",
      "                            len(wake_epochs)/2, ', '.join(wake_stages)))\n",
      "       \n",
      "            if len(sleep_epochs) >= MIN_EPOCHS and len(wake_epochs) >= MIN_EPOCHS:\n",
      "                print('saving data for ' + subj)\n",
      "                xltek_file = join(rec_dir, subj, xltek_path, one_xml[:-11])\n",
      "                subj_dir = join(data_dir, subj)\n",
      "                save_wake_sleep_data(sleep_epochs, xltek_file, subj_dir)"
     ],
     "language": "python",
     "metadata": {},
     "outputs": []
    },
    {
     "cell_type": "code",
     "collapsed": false,
     "input": [
      "!cd /home/gio/projects/spgr/subjects; tar -cvf spgr.tar.gz ."
     ],
     "language": "python",
     "metadata": {},
     "outputs": []
    },
    {
     "cell_type": "code",
     "collapsed": false,
     "input": [
      "!scp /home/gio/projects/spgr/subjects/spgr.tar.gz gp902@rgs03.research.partners.org:projects/spgr/subjects"
     ],
     "language": "python",
     "metadata": {},
     "outputs": []
    },
    {
     "cell_type": "code",
     "collapsed": false,
     "input": [
      "from subprocess import Popen\n",
      "\n",
      "script = '/home/gio/projects/spgr/scripts/methods_to_detect_spindle.py'\n",
      "\n",
      "for method in ('hilbert', ):\n",
      "    for freq0 in ('10', ):\n",
      "        for freq1 in ('17', '18'):\n",
      "            for thres_type in ('relative', ):\n",
      "                for thres_det in ('3', ):\n",
      "                    for thres_sel in ('2', ):\n",
      "                        for dur0 in ('0.5', ):\n",
      "                            for dur1 in ('2', ):\n",
      "                                for fft in ('0', ):\n",
      "                                    options = (method, freq0, freq1, thres_type, thres_det, thres_sel, dur0, dur1, fft)\n",
      "                                    # Popen(script + ' ' + ' '.join(options), shell=True)\n"
     ],
     "language": "python",
     "metadata": {},
     "outputs": []
    },
    {
     "cell_type": "heading",
     "level": 2,
     "metadata": {},
     "source": [
      "RGS03"
     ]
    },
    {
     "cell_type": "code",
     "collapsed": false,
     "input": [
      "from os import remove\n",
      "from os.path import join\n",
      "from subprocess import Popen as Popen_local\n",
      "from subprocess import PIPE\n",
      "from tempfile import mkdtemp\n",
      "from time import sleep\n",
      "\n",
      "output_dir = mkdtemp()\n",
      "output_dir = '/PHShome/gp902'\n",
      "\n",
      "class Popen():\n",
      "    \"\"\"\n",
      "    \n",
      "    Parameters\n",
      "    ----------\n",
      "    args, OK\n",
      "    \n",
      "    stdin=None\n",
      "    stdout=None\n",
      "    stderr=None, \n",
      "    \n",
      "    shell=False, \n",
      "    cwd=None, \n",
      "    env=None\n",
      "    \n",
      "    start_new_session=False\n",
      "    \n",
      "    # any other parameters will probably mess up Popen\n",
      "    memlim : memory limit in MB \n",
      "    queue : vshort\n",
      "    \n",
      "    Methods\n",
      "    -------\n",
      "    'args' \n",
      "    'communicate' : OK\n",
      "     'kill' : OK\n",
      "     'pid' : OK\n",
      "     'poll' : OK (I think)\n",
      "     'returncode',\n",
      "     'send_signal',\n",
      "     'stderr',\n",
      "     'stdin',\n",
      "     'stdout',\n",
      "     'terminate',\n",
      "     'universal_newlines',\n",
      "     'wait' : OK\n",
      " \n",
      "     \"\"\"\n",
      "    def __init__(self, args, queue='vshort', **kwargs):\n",
      "        self.pid = None\n",
      "        \n",
      "        #remove bad characters from jobname\n",
      "        self._jobname = ''.join([x if x.isalnum() else '_' for x in args])\n",
      "        \n",
      "        self._stdout = join(output_dir, 'stdout.txt')\n",
      "        self._stderr = join(output_dir, 'stderr.txt')\n",
      "\n",
      "        try:\n",
      "            remove(self._stdout)\n",
      "        except FileNotFoundError:\n",
      "            pass\n",
      "        try:\n",
      "            remove(self._stderr)\n",
      "        except FileNotFoundError:\n",
      "            pass\n",
      "        \n",
      "        cmd = []\n",
      "        cmd.append('bsub')\n",
      "        cmd.append('-q ' + queue)\n",
      "        cmd.append('-J ' + self._jobname)\n",
      "        cmd.append('-o ' + self._stdout)\n",
      "        cmd.append('-e ' + self._stderr)\n",
      "        self._cmd = ' '.join(cmd) + ' ' + args\n",
      "        \n",
      "        # use standard input\n",
      "        kwargs.update({'stdout': PIPE, 'stderr': PIPE})\n",
      "        self._kwargs = kwargs\n",
      "        \n",
      "        self._submit()\n",
      "        \n",
      "    def _submit(self):\n",
      "        pid_submit = Popen_local(self._cmd, shell=True, **self._kwargs)\n",
      "        \n",
      "        stdout, stderr = pid_submit.communicate()\n",
      "        # if stderr, raise exception\n",
      "        stdout = stdout.decode('utf-8')\n",
      "        self.pid = stdout[stdout.find('<')+1:stdout.find('>')]\n",
      "        \n",
      "    def communicate(self):\n",
      "        self.wait()\n",
      "        try:\n",
      "            with open(self._stdout, 'r') as f:\n",
      "                stdout = f.read()  # TODO: clean it up\n",
      "            with open(self._stderr, 'r') as f:\n",
      "                stderr = f.read()\n",
      "    \n",
      "            remove(self._stdout)\n",
      "            remove(self._stderr)\n",
      "        except FileNotFoundError:\n",
      "            stdout = stderr = None\n",
      "            \n",
      "        return stdout, stderr\n",
      "    \n",
      "    def poll(self):\n",
      "        poll = Popen_local('bjobs ' + self.pid, shell=True, stdout=PIPE)\n",
      "        status = poll.communicate()[0].decode('utf-8')\n",
      "        status = status[status.find('\\n')+1:]\n",
      "        return status.split()[2]\n",
      "            \n",
      "    def wait(self):\n",
      "        while True:\n",
      "            try:\n",
      "                sleep(0.1)\n",
      "                if self.poll() in ('DONE', 'EXIT'):\n",
      "                    break            \n",
      "            except KeyboardInterrupt:\n",
      "                self.kill()\n",
      "                break\n",
      "    \n",
      "    def kill(self):\n",
      "        Popen_local('bkill ' + self.pid, shell=True)\n",
      "        return self.communicate()\n"
     ],
     "language": "python",
     "metadata": {},
     "outputs": [],
     "prompt_number": 1
    },
    {
     "cell_type": "code",
     "collapsed": false,
     "input": [
      "# from subprocess import Popen\n",
      "\n",
      "script = '/PHShome/gp902/projects/spgr/scripts/detect_spindles.sh'\n",
      "\n",
      "all_p = []\n",
      "for method in ('hilbert', ):\n",
      "    for freq0 in ('8', '11', '12', '13', '14' ):\n",
      "        for freq1 in ('17', '18', '19', '20'):\n",
      "            for thres_type in ('relative', 'maxima'):\n",
      "                for thres_det in ('3', '2', '1'):\n",
      "                    for thres_sel in ('2', '1.5', '1', ):\n",
      "                        for dur0 in ('0.5', ):\n",
      "                            for dur1 in ('2', '5'):\n",
      "                                for fft in ('0', '1'):\n",
      "                                    options = (method, freq0, freq1, thres_type, thres_det, thres_sel, dur0, dur1, fft)\n",
      "                                    print(' '.join(options))\n",
      "                                    p = Popen(script + ' ' + ' '.join(options), queue='medium')\n",
      "                                    all_p.append(p)\n",
      "               "
     ],
     "language": "python",
     "metadata": {},
     "outputs": [
      {
       "output_type": "stream",
       "stream": "stdout",
       "text": [
        "hilbert 8 17 relative 3 2 0.5 2 0\n",
        "hilbert 8 17 relative 3 2 0.5 2 1"
       ]
      },
      {
       "output_type": "stream",
       "stream": "stdout",
       "text": [
        "\n",
        "hilbert 8 17 relative 3 2 0.5 5 0"
       ]
      },
      {
       "output_type": "stream",
       "stream": "stdout",
       "text": [
        "\n",
        "hilbert 8 17 relative 3 2 0.5 5 1"
       ]
      },
      {
       "output_type": "stream",
       "stream": "stdout",
       "text": [
        "\n",
        "hilbert 8 17 relative 3 1.5 0.5 2 0"
       ]
      },
      {
       "output_type": "stream",
       "stream": "stdout",
       "text": [
        "\n",
        "hilbert 8 17 relative 3 1.5 0.5 2 1"
       ]
      },
      {
       "output_type": "stream",
       "stream": "stdout",
       "text": [
        "\n",
        "hilbert 8 17 relative 3 1.5 0.5 5 0"
       ]
      },
      {
       "output_type": "stream",
       "stream": "stdout",
       "text": [
        "\n",
        "hilbert 8 17 relative 3 1.5 0.5 5 1"
       ]
      },
      {
       "output_type": "stream",
       "stream": "stdout",
       "text": [
        "\n",
        "hilbert 8 17 relative 3 1 0.5 2 0"
       ]
      },
      {
       "output_type": "stream",
       "stream": "stdout",
       "text": [
        "\n",
        "hilbert 8 17 relative 3 1 0.5 2 1"
       ]
      },
      {
       "output_type": "stream",
       "stream": "stdout",
       "text": [
        "\n",
        "hilbert 8 17 relative 3 1 0.5 5 0"
       ]
      },
      {
       "output_type": "stream",
       "stream": "stdout",
       "text": [
        "\n",
        "hilbert 8 17 relative 3 1 0.5 5 1"
       ]
      },
      {
       "output_type": "stream",
       "stream": "stdout",
       "text": [
        "\n",
        "hilbert 8 17 relative 2 2 0.5 2 0"
       ]
      },
      {
       "output_type": "stream",
       "stream": "stdout",
       "text": [
        "\n",
        "hilbert 8 17 relative 2 2 0.5 2 1"
       ]
      },
      {
       "output_type": "stream",
       "stream": "stdout",
       "text": [
        "\n",
        "hilbert 8 17 relative 2 2 0.5 5 0"
       ]
      },
      {
       "output_type": "stream",
       "stream": "stdout",
       "text": [
        "\n",
        "hilbert 8 17 relative 2 2 0.5 5 1"
       ]
      },
      {
       "output_type": "stream",
       "stream": "stdout",
       "text": [
        "\n",
        "hilbert 8 17 relative 2 1.5 0.5 2 0"
       ]
      },
      {
       "output_type": "stream",
       "stream": "stdout",
       "text": [
        "\n",
        "hilbert 8 17 relative 2 1.5 0.5 2 1"
       ]
      },
      {
       "output_type": "stream",
       "stream": "stdout",
       "text": [
        "\n",
        "hilbert 8 17 relative 2 1.5 0.5 5 0"
       ]
      },
      {
       "output_type": "stream",
       "stream": "stdout",
       "text": [
        "\n",
        "hilbert 8 17 relative 2 1.5 0.5 5 1"
       ]
      },
      {
       "output_type": "stream",
       "stream": "stdout",
       "text": [
        "\n",
        "hilbert 8 17 relative 2 1 0.5 2 0"
       ]
      },
      {
       "output_type": "stream",
       "stream": "stdout",
       "text": [
        "\n",
        "hilbert 8 17 relative 2 1 0.5 2 1"
       ]
      },
      {
       "output_type": "stream",
       "stream": "stdout",
       "text": [
        "\n",
        "hilbert 8 17 relative 2 1 0.5 5 0"
       ]
      },
      {
       "output_type": "stream",
       "stream": "stdout",
       "text": [
        "\n",
        "hilbert 8 17 relative 2 1 0.5 5 1"
       ]
      },
      {
       "output_type": "stream",
       "stream": "stdout",
       "text": [
        "\n",
        "hilbert 8 17 relative 1 2 0.5 2 0"
       ]
      },
      {
       "output_type": "stream",
       "stream": "stdout",
       "text": [
        "\n",
        "hilbert 8 17 relative 1 2 0.5 2 1"
       ]
      },
      {
       "output_type": "stream",
       "stream": "stdout",
       "text": [
        "\n",
        "hilbert 8 17 relative 1 2 0.5 5 0"
       ]
      },
      {
       "output_type": "stream",
       "stream": "stdout",
       "text": [
        "\n",
        "hilbert 8 17 relative 1 2 0.5 5 1"
       ]
      },
      {
       "output_type": "stream",
       "stream": "stdout",
       "text": [
        "\n",
        "hilbert 8 17 relative 1 1.5 0.5 2 0"
       ]
      },
      {
       "output_type": "stream",
       "stream": "stdout",
       "text": [
        "\n",
        "hilbert 8 17 relative 1 1.5 0.5 2 1"
       ]
      },
      {
       "output_type": "stream",
       "stream": "stdout",
       "text": [
        "\n",
        "hilbert 8 17 relative 1 1.5 0.5 5 0"
       ]
      },
      {
       "output_type": "stream",
       "stream": "stdout",
       "text": [
        "\n",
        "hilbert 8 17 relative 1 1.5 0.5 5 1"
       ]
      },
      {
       "output_type": "stream",
       "stream": "stdout",
       "text": [
        "\n",
        "hilbert 8 17 relative 1 1 0.5 2 0"
       ]
      },
      {
       "output_type": "stream",
       "stream": "stdout",
       "text": [
        "\n",
        "hilbert 8 17 relative 1 1 0.5 2 1"
       ]
      },
      {
       "output_type": "stream",
       "stream": "stdout",
       "text": [
        "\n",
        "hilbert 8 17 relative 1 1 0.5 5 0"
       ]
      },
      {
       "output_type": "stream",
       "stream": "stdout",
       "text": [
        "\n",
        "hilbert 8 17 relative 1 1 0.5 5 1"
       ]
      },
      {
       "output_type": "stream",
       "stream": "stdout",
       "text": [
        "\n",
        "hilbert 8 17 maxima 3 2 0.5 2 0"
       ]
      },
      {
       "output_type": "stream",
       "stream": "stdout",
       "text": [
        "\n",
        "hilbert 8 17 maxima 3 2 0.5 2 1"
       ]
      },
      {
       "output_type": "stream",
       "stream": "stdout",
       "text": [
        "\n",
        "hilbert 8 17 maxima 3 2 0.5 5 0"
       ]
      },
      {
       "output_type": "stream",
       "stream": "stdout",
       "text": [
        "\n",
        "hilbert 8 17 maxima 3 2 0.5 5 1"
       ]
      },
      {
       "output_type": "stream",
       "stream": "stdout",
       "text": [
        "\n",
        "hilbert 8 17 maxima 3 1.5 0.5 2 0"
       ]
      },
      {
       "output_type": "stream",
       "stream": "stdout",
       "text": [
        "\n",
        "hilbert 8 17 maxima 3 1.5 0.5 2 1"
       ]
      },
      {
       "output_type": "stream",
       "stream": "stdout",
       "text": [
        "\n",
        "hilbert 8 17 maxima 3 1.5 0.5 5 0"
       ]
      },
      {
       "output_type": "stream",
       "stream": "stdout",
       "text": [
        "\n",
        "hilbert 8 17 maxima 3 1.5 0.5 5 1"
       ]
      },
      {
       "output_type": "stream",
       "stream": "stdout",
       "text": [
        "\n",
        "hilbert 8 17 maxima 3 1 0.5 2 0"
       ]
      },
      {
       "output_type": "stream",
       "stream": "stdout",
       "text": [
        "\n",
        "hilbert 8 17 maxima 3 1 0.5 2 1"
       ]
      },
      {
       "output_type": "stream",
       "stream": "stdout",
       "text": [
        "\n",
        "hilbert 8 17 maxima 3 1 0.5 5 0"
       ]
      },
      {
       "output_type": "stream",
       "stream": "stdout",
       "text": [
        "\n",
        "hilbert 8 17 maxima 3 1 0.5 5 1"
       ]
      },
      {
       "output_type": "stream",
       "stream": "stdout",
       "text": [
        "\n",
        "hilbert 8 17 maxima 2 2 0.5 2 0"
       ]
      },
      {
       "output_type": "stream",
       "stream": "stdout",
       "text": [
        "\n",
        "hilbert 8 17 maxima 2 2 0.5 2 1"
       ]
      },
      {
       "output_type": "stream",
       "stream": "stdout",
       "text": [
        "\n",
        "hilbert 8 17 maxima 2 2 0.5 5 0"
       ]
      },
      {
       "output_type": "stream",
       "stream": "stdout",
       "text": [
        "\n",
        "hilbert 8 17 maxima 2 2 0.5 5 1"
       ]
      },
      {
       "output_type": "stream",
       "stream": "stdout",
       "text": [
        "\n",
        "hilbert 8 17 maxima 2 1.5 0.5 2 0"
       ]
      },
      {
       "output_type": "stream",
       "stream": "stdout",
       "text": [
        "\n",
        "hilbert 8 17 maxima 2 1.5 0.5 2 1"
       ]
      },
      {
       "output_type": "stream",
       "stream": "stdout",
       "text": [
        "\n",
        "hilbert 8 17 maxima 2 1.5 0.5 5 0"
       ]
      },
      {
       "output_type": "stream",
       "stream": "stdout",
       "text": [
        "\n",
        "hilbert 8 17 maxima 2 1.5 0.5 5 1"
       ]
      },
      {
       "output_type": "stream",
       "stream": "stdout",
       "text": [
        "\n",
        "hilbert 8 17 maxima 2 1 0.5 2 0"
       ]
      },
      {
       "output_type": "stream",
       "stream": "stdout",
       "text": [
        "\n",
        "hilbert 8 17 maxima 2 1 0.5 2 1"
       ]
      },
      {
       "output_type": "stream",
       "stream": "stdout",
       "text": [
        "\n",
        "hilbert 8 17 maxima 2 1 0.5 5 0"
       ]
      },
      {
       "output_type": "stream",
       "stream": "stdout",
       "text": [
        "\n",
        "hilbert 8 17 maxima 2 1 0.5 5 1"
       ]
      },
      {
       "output_type": "stream",
       "stream": "stdout",
       "text": [
        "\n",
        "hilbert 8 17 maxima 1 2 0.5 2 0"
       ]
      },
      {
       "output_type": "stream",
       "stream": "stdout",
       "text": [
        "\n",
        "hilbert 8 17 maxima 1 2 0.5 2 1"
       ]
      },
      {
       "output_type": "stream",
       "stream": "stdout",
       "text": [
        "\n",
        "hilbert 8 17 maxima 1 2 0.5 5 0"
       ]
      },
      {
       "output_type": "stream",
       "stream": "stdout",
       "text": [
        "\n",
        "hilbert 8 17 maxima 1 2 0.5 5 1"
       ]
      },
      {
       "output_type": "stream",
       "stream": "stdout",
       "text": [
        "\n",
        "hilbert 8 17 maxima 1 1.5 0.5 2 0"
       ]
      },
      {
       "output_type": "stream",
       "stream": "stdout",
       "text": [
        "\n",
        "hilbert 8 17 maxima 1 1.5 0.5 2 1"
       ]
      },
      {
       "output_type": "stream",
       "stream": "stdout",
       "text": [
        "\n",
        "hilbert 8 17 maxima 1 1.5 0.5 5 0"
       ]
      },
      {
       "output_type": "stream",
       "stream": "stdout",
       "text": [
        "\n",
        "hilbert 8 17 maxima 1 1.5 0.5 5 1"
       ]
      },
      {
       "output_type": "stream",
       "stream": "stdout",
       "text": [
        "\n",
        "hilbert 8 17 maxima 1 1 0.5 2 0"
       ]
      },
      {
       "output_type": "stream",
       "stream": "stdout",
       "text": [
        "\n",
        "hilbert 8 17 maxima 1 1 0.5 2 1"
       ]
      },
      {
       "output_type": "stream",
       "stream": "stdout",
       "text": [
        "\n",
        "hilbert 8 17 maxima 1 1 0.5 5 0"
       ]
      },
      {
       "output_type": "stream",
       "stream": "stdout",
       "text": [
        "\n",
        "hilbert 8 17 maxima 1 1 0.5 5 1"
       ]
      },
      {
       "output_type": "stream",
       "stream": "stdout",
       "text": [
        "\n",
        "hilbert 8 18 relative 3 2 0.5 2 0"
       ]
      },
      {
       "output_type": "stream",
       "stream": "stdout",
       "text": [
        "\n",
        "hilbert 8 18 relative 3 2 0.5 2 1"
       ]
      },
      {
       "output_type": "stream",
       "stream": "stdout",
       "text": [
        "\n",
        "hilbert 8 18 relative 3 2 0.5 5 0"
       ]
      },
      {
       "output_type": "stream",
       "stream": "stdout",
       "text": [
        "\n",
        "hilbert 8 18 relative 3 2 0.5 5 1"
       ]
      },
      {
       "output_type": "stream",
       "stream": "stdout",
       "text": [
        "\n",
        "hilbert 8 18 relative 3 1.5 0.5 2 0"
       ]
      },
      {
       "output_type": "stream",
       "stream": "stdout",
       "text": [
        "\n",
        "hilbert 8 18 relative 3 1.5 0.5 2 1"
       ]
      },
      {
       "output_type": "stream",
       "stream": "stdout",
       "text": [
        "\n",
        "hilbert 8 18 relative 3 1.5 0.5 5 0"
       ]
      },
      {
       "output_type": "stream",
       "stream": "stdout",
       "text": [
        "\n",
        "hilbert 8 18 relative 3 1.5 0.5 5 1"
       ]
      },
      {
       "output_type": "stream",
       "stream": "stdout",
       "text": [
        "\n",
        "hilbert 8 18 relative 3 1 0.5 2 0"
       ]
      },
      {
       "output_type": "stream",
       "stream": "stdout",
       "text": [
        "\n",
        "hilbert 8 18 relative 3 1 0.5 2 1"
       ]
      },
      {
       "output_type": "stream",
       "stream": "stdout",
       "text": [
        "\n",
        "hilbert 8 18 relative 3 1 0.5 5 0"
       ]
      },
      {
       "output_type": "stream",
       "stream": "stdout",
       "text": [
        "\n",
        "hilbert 8 18 relative 3 1 0.5 5 1"
       ]
      },
      {
       "output_type": "stream",
       "stream": "stdout",
       "text": [
        "\n",
        "hilbert 8 18 relative 2 2 0.5 2 0"
       ]
      },
      {
       "output_type": "stream",
       "stream": "stdout",
       "text": [
        "\n",
        "hilbert 8 18 relative 2 2 0.5 2 1"
       ]
      },
      {
       "output_type": "stream",
       "stream": "stdout",
       "text": [
        "\n",
        "hilbert 8 18 relative 2 2 0.5 5 0"
       ]
      },
      {
       "output_type": "stream",
       "stream": "stdout",
       "text": [
        "\n",
        "hilbert 8 18 relative 2 2 0.5 5 1"
       ]
      },
      {
       "output_type": "stream",
       "stream": "stdout",
       "text": [
        "\n",
        "hilbert 8 18 relative 2 1.5 0.5 2 0"
       ]
      },
      {
       "output_type": "stream",
       "stream": "stdout",
       "text": [
        "\n",
        "hilbert 8 18 relative 2 1.5 0.5 2 1"
       ]
      },
      {
       "output_type": "stream",
       "stream": "stdout",
       "text": [
        "\n",
        "hilbert 8 18 relative 2 1.5 0.5 5 0"
       ]
      },
      {
       "output_type": "stream",
       "stream": "stdout",
       "text": [
        "\n",
        "hilbert 8 18 relative 2 1.5 0.5 5 1"
       ]
      },
      {
       "output_type": "stream",
       "stream": "stdout",
       "text": [
        "\n",
        "hilbert 8 18 relative 2 1 0.5 2 0"
       ]
      },
      {
       "output_type": "stream",
       "stream": "stdout",
       "text": [
        "\n",
        "hilbert 8 18 relative 2 1 0.5 2 1"
       ]
      },
      {
       "output_type": "stream",
       "stream": "stdout",
       "text": [
        "\n",
        "hilbert 8 18 relative 2 1 0.5 5 0"
       ]
      },
      {
       "output_type": "stream",
       "stream": "stdout",
       "text": [
        "\n",
        "hilbert 8 18 relative 2 1 0.5 5 1"
       ]
      },
      {
       "output_type": "stream",
       "stream": "stdout",
       "text": [
        "\n",
        "hilbert 8 18 relative 1 2 0.5 2 0"
       ]
      },
      {
       "output_type": "stream",
       "stream": "stdout",
       "text": [
        "\n",
        "hilbert 8 18 relative 1 2 0.5 2 1"
       ]
      },
      {
       "output_type": "stream",
       "stream": "stdout",
       "text": [
        "\n",
        "hilbert 8 18 relative 1 2 0.5 5 0"
       ]
      },
      {
       "output_type": "stream",
       "stream": "stdout",
       "text": [
        "\n",
        "hilbert 8 18 relative 1 2 0.5 5 1"
       ]
      },
      {
       "output_type": "stream",
       "stream": "stdout",
       "text": [
        "\n",
        "hilbert 8 18 relative 1 1.5 0.5 2 0"
       ]
      },
      {
       "output_type": "stream",
       "stream": "stdout",
       "text": [
        "\n",
        "hilbert 8 18 relative 1 1.5 0.5 2 1"
       ]
      },
      {
       "output_type": "stream",
       "stream": "stdout",
       "text": [
        "\n",
        "hilbert 8 18 relative 1 1.5 0.5 5 0"
       ]
      },
      {
       "output_type": "stream",
       "stream": "stdout",
       "text": [
        "\n",
        "hilbert 8 18 relative 1 1.5 0.5 5 1"
       ]
      },
      {
       "output_type": "stream",
       "stream": "stdout",
       "text": [
        "\n",
        "hilbert 8 18 relative 1 1 0.5 2 0"
       ]
      },
      {
       "output_type": "stream",
       "stream": "stdout",
       "text": [
        "\n",
        "hilbert 8 18 relative 1 1 0.5 2 1"
       ]
      },
      {
       "output_type": "stream",
       "stream": "stdout",
       "text": [
        "\n",
        "hilbert 8 18 relative 1 1 0.5 5 0"
       ]
      },
      {
       "output_type": "stream",
       "stream": "stdout",
       "text": [
        "\n",
        "hilbert 8 18 relative 1 1 0.5 5 1"
       ]
      },
      {
       "output_type": "stream",
       "stream": "stdout",
       "text": [
        "\n",
        "hilbert 8 18 maxima 3 2 0.5 2 0"
       ]
      },
      {
       "output_type": "stream",
       "stream": "stdout",
       "text": [
        "\n",
        "hilbert 8 18 maxima 3 2 0.5 2 1"
       ]
      },
      {
       "output_type": "stream",
       "stream": "stdout",
       "text": [
        "\n",
        "hilbert 8 18 maxima 3 2 0.5 5 0"
       ]
      },
      {
       "output_type": "stream",
       "stream": "stdout",
       "text": [
        "\n",
        "hilbert 8 18 maxima 3 2 0.5 5 1"
       ]
      },
      {
       "output_type": "stream",
       "stream": "stdout",
       "text": [
        "\n",
        "hilbert 8 18 maxima 3 1.5 0.5 2 0"
       ]
      },
      {
       "output_type": "stream",
       "stream": "stdout",
       "text": [
        "\n",
        "hilbert 8 18 maxima 3 1.5 0.5 2 1"
       ]
      },
      {
       "output_type": "stream",
       "stream": "stdout",
       "text": [
        "\n",
        "hilbert 8 18 maxima 3 1.5 0.5 5 0"
       ]
      },
      {
       "output_type": "stream",
       "stream": "stdout",
       "text": [
        "\n",
        "hilbert 8 18 maxima 3 1.5 0.5 5 1"
       ]
      },
      {
       "output_type": "stream",
       "stream": "stdout",
       "text": [
        "\n",
        "hilbert 8 18 maxima 3 1 0.5 2 0"
       ]
      },
      {
       "output_type": "stream",
       "stream": "stdout",
       "text": [
        "\n",
        "hilbert 8 18 maxima 3 1 0.5 2 1"
       ]
      },
      {
       "output_type": "stream",
       "stream": "stdout",
       "text": [
        "\n",
        "hilbert 8 18 maxima 3 1 0.5 5 0"
       ]
      },
      {
       "output_type": "stream",
       "stream": "stdout",
       "text": [
        "\n",
        "hilbert 8 18 maxima 3 1 0.5 5 1"
       ]
      },
      {
       "output_type": "stream",
       "stream": "stdout",
       "text": [
        "\n",
        "hilbert 8 18 maxima 2 2 0.5 2 0"
       ]
      },
      {
       "output_type": "stream",
       "stream": "stdout",
       "text": [
        "\n",
        "hilbert 8 18 maxima 2 2 0.5 2 1"
       ]
      },
      {
       "output_type": "stream",
       "stream": "stdout",
       "text": [
        "\n",
        "hilbert 8 18 maxima 2 2 0.5 5 0"
       ]
      },
      {
       "output_type": "stream",
       "stream": "stdout",
       "text": [
        "\n",
        "hilbert 8 18 maxima 2 2 0.5 5 1"
       ]
      },
      {
       "output_type": "stream",
       "stream": "stdout",
       "text": [
        "\n",
        "hilbert 8 18 maxima 2 1.5 0.5 2 0"
       ]
      },
      {
       "output_type": "stream",
       "stream": "stdout",
       "text": [
        "\n",
        "hilbert 8 18 maxima 2 1.5 0.5 2 1"
       ]
      },
      {
       "output_type": "stream",
       "stream": "stdout",
       "text": [
        "\n",
        "hilbert 8 18 maxima 2 1.5 0.5 5 0"
       ]
      },
      {
       "output_type": "stream",
       "stream": "stdout",
       "text": [
        "\n",
        "hilbert 8 18 maxima 2 1.5 0.5 5 1"
       ]
      },
      {
       "output_type": "stream",
       "stream": "stdout",
       "text": [
        "\n",
        "hilbert 8 18 maxima 2 1 0.5 2 0"
       ]
      },
      {
       "output_type": "stream",
       "stream": "stdout",
       "text": [
        "\n",
        "hilbert 8 18 maxima 2 1 0.5 2 1"
       ]
      },
      {
       "output_type": "stream",
       "stream": "stdout",
       "text": [
        "\n",
        "hilbert 8 18 maxima 2 1 0.5 5 0"
       ]
      },
      {
       "output_type": "stream",
       "stream": "stdout",
       "text": [
        "\n",
        "hilbert 8 18 maxima 2 1 0.5 5 1"
       ]
      },
      {
       "output_type": "stream",
       "stream": "stdout",
       "text": [
        "\n",
        "hilbert 8 18 maxima 1 2 0.5 2 0"
       ]
      },
      {
       "output_type": "stream",
       "stream": "stdout",
       "text": [
        "\n",
        "hilbert 8 18 maxima 1 2 0.5 2 1"
       ]
      },
      {
       "output_type": "stream",
       "stream": "stdout",
       "text": [
        "\n",
        "hilbert 8 18 maxima 1 2 0.5 5 0"
       ]
      },
      {
       "output_type": "stream",
       "stream": "stdout",
       "text": [
        "\n",
        "hilbert 8 18 maxima 1 2 0.5 5 1"
       ]
      },
      {
       "output_type": "stream",
       "stream": "stdout",
       "text": [
        "\n",
        "hilbert 8 18 maxima 1 1.5 0.5 2 0"
       ]
      },
      {
       "output_type": "stream",
       "stream": "stdout",
       "text": [
        "\n",
        "hilbert 8 18 maxima 1 1.5 0.5 2 1"
       ]
      },
      {
       "output_type": "stream",
       "stream": "stdout",
       "text": [
        "\n",
        "hilbert 8 18 maxima 1 1.5 0.5 5 0"
       ]
      },
      {
       "output_type": "stream",
       "stream": "stdout",
       "text": [
        "\n",
        "hilbert 8 18 maxima 1 1.5 0.5 5 1"
       ]
      },
      {
       "output_type": "stream",
       "stream": "stdout",
       "text": [
        "\n",
        "hilbert 8 18 maxima 1 1 0.5 2 0"
       ]
      },
      {
       "output_type": "stream",
       "stream": "stdout",
       "text": [
        "\n",
        "hilbert 8 18 maxima 1 1 0.5 2 1"
       ]
      },
      {
       "output_type": "stream",
       "stream": "stdout",
       "text": [
        "\n",
        "hilbert 8 18 maxima 1 1 0.5 5 0"
       ]
      },
      {
       "output_type": "stream",
       "stream": "stdout",
       "text": [
        "\n",
        "hilbert 8 18 maxima 1 1 0.5 5 1"
       ]
      },
      {
       "output_type": "stream",
       "stream": "stdout",
       "text": [
        "\n",
        "hilbert 8 19 relative 3 2 0.5 2 0"
       ]
      },
      {
       "output_type": "stream",
       "stream": "stdout",
       "text": [
        "\n",
        "hilbert 8 19 relative 3 2 0.5 2 1"
       ]
      },
      {
       "output_type": "stream",
       "stream": "stdout",
       "text": [
        "\n",
        "hilbert 8 19 relative 3 2 0.5 5 0"
       ]
      },
      {
       "output_type": "stream",
       "stream": "stdout",
       "text": [
        "\n",
        "hilbert 8 19 relative 3 2 0.5 5 1"
       ]
      },
      {
       "output_type": "stream",
       "stream": "stdout",
       "text": [
        "\n",
        "hilbert 8 19 relative 3 1.5 0.5 2 0"
       ]
      },
      {
       "output_type": "stream",
       "stream": "stdout",
       "text": [
        "\n",
        "hilbert 8 19 relative 3 1.5 0.5 2 1"
       ]
      },
      {
       "output_type": "stream",
       "stream": "stdout",
       "text": [
        "\n",
        "hilbert 8 19 relative 3 1.5 0.5 5 0"
       ]
      },
      {
       "output_type": "stream",
       "stream": "stdout",
       "text": [
        "\n",
        "hilbert 8 19 relative 3 1.5 0.5 5 1"
       ]
      },
      {
       "output_type": "stream",
       "stream": "stdout",
       "text": [
        "\n",
        "hilbert 8 19 relative 3 1 0.5 2 0"
       ]
      },
      {
       "output_type": "stream",
       "stream": "stdout",
       "text": [
        "\n",
        "hilbert 8 19 relative 3 1 0.5 2 1"
       ]
      },
      {
       "output_type": "stream",
       "stream": "stdout",
       "text": [
        "\n",
        "hilbert 8 19 relative 3 1 0.5 5 0"
       ]
      },
      {
       "output_type": "stream",
       "stream": "stdout",
       "text": [
        "\n",
        "hilbert 8 19 relative 3 1 0.5 5 1"
       ]
      },
      {
       "output_type": "stream",
       "stream": "stdout",
       "text": [
        "\n",
        "hilbert 8 19 relative 2 2 0.5 2 0"
       ]
      },
      {
       "output_type": "stream",
       "stream": "stdout",
       "text": [
        "\n",
        "hilbert 8 19 relative 2 2 0.5 2 1"
       ]
      },
      {
       "output_type": "stream",
       "stream": "stdout",
       "text": [
        "\n",
        "hilbert 8 19 relative 2 2 0.5 5 0"
       ]
      },
      {
       "output_type": "stream",
       "stream": "stdout",
       "text": [
        "\n",
        "hilbert 8 19 relative 2 2 0.5 5 1"
       ]
      },
      {
       "output_type": "stream",
       "stream": "stdout",
       "text": [
        "\n",
        "hilbert 8 19 relative 2 1.5 0.5 2 0"
       ]
      },
      {
       "output_type": "stream",
       "stream": "stdout",
       "text": [
        "\n",
        "hilbert 8 19 relative 2 1.5 0.5 2 1"
       ]
      },
      {
       "output_type": "stream",
       "stream": "stdout",
       "text": [
        "\n",
        "hilbert 8 19 relative 2 1.5 0.5 5 0"
       ]
      },
      {
       "output_type": "stream",
       "stream": "stdout",
       "text": [
        "\n",
        "hilbert 8 19 relative 2 1.5 0.5 5 1"
       ]
      },
      {
       "output_type": "stream",
       "stream": "stdout",
       "text": [
        "\n",
        "hilbert 8 19 relative 2 1 0.5 2 0"
       ]
      },
      {
       "output_type": "stream",
       "stream": "stdout",
       "text": [
        "\n",
        "hilbert 8 19 relative 2 1 0.5 2 1"
       ]
      },
      {
       "output_type": "stream",
       "stream": "stdout",
       "text": [
        "\n",
        "hilbert 8 19 relative 2 1 0.5 5 0"
       ]
      },
      {
       "output_type": "stream",
       "stream": "stdout",
       "text": [
        "\n",
        "hilbert 8 19 relative 2 1 0.5 5 1"
       ]
      },
      {
       "output_type": "stream",
       "stream": "stdout",
       "text": [
        "\n",
        "hilbert 8 19 relative 1 2 0.5 2 0"
       ]
      },
      {
       "output_type": "stream",
       "stream": "stdout",
       "text": [
        "\n",
        "hilbert 8 19 relative 1 2 0.5 2 1"
       ]
      },
      {
       "output_type": "stream",
       "stream": "stdout",
       "text": [
        "\n",
        "hilbert 8 19 relative 1 2 0.5 5 0"
       ]
      },
      {
       "output_type": "stream",
       "stream": "stdout",
       "text": [
        "\n",
        "hilbert 8 19 relative 1 2 0.5 5 1"
       ]
      },
      {
       "output_type": "stream",
       "stream": "stdout",
       "text": [
        "\n",
        "hilbert 8 19 relative 1 1.5 0.5 2 0"
       ]
      },
      {
       "output_type": "stream",
       "stream": "stdout",
       "text": [
        "\n",
        "hilbert 8 19 relative 1 1.5 0.5 2 1"
       ]
      },
      {
       "output_type": "stream",
       "stream": "stdout",
       "text": [
        "\n",
        "hilbert 8 19 relative 1 1.5 0.5 5 0"
       ]
      },
      {
       "output_type": "stream",
       "stream": "stdout",
       "text": [
        "\n",
        "hilbert 8 19 relative 1 1.5 0.5 5 1"
       ]
      },
      {
       "output_type": "stream",
       "stream": "stdout",
       "text": [
        "\n",
        "hilbert 8 19 relative 1 1 0.5 2 0"
       ]
      },
      {
       "output_type": "stream",
       "stream": "stdout",
       "text": [
        "\n",
        "hilbert 8 19 relative 1 1 0.5 2 1"
       ]
      },
      {
       "output_type": "stream",
       "stream": "stdout",
       "text": [
        "\n",
        "hilbert 8 19 relative 1 1 0.5 5 0"
       ]
      },
      {
       "output_type": "stream",
       "stream": "stdout",
       "text": [
        "\n",
        "hilbert 8 19 relative 1 1 0.5 5 1"
       ]
      },
      {
       "output_type": "stream",
       "stream": "stdout",
       "text": [
        "\n",
        "hilbert 8 19 maxima 3 2 0.5 2 0"
       ]
      },
      {
       "output_type": "stream",
       "stream": "stdout",
       "text": [
        "\n",
        "hilbert 8 19 maxima 3 2 0.5 2 1"
       ]
      },
      {
       "output_type": "stream",
       "stream": "stdout",
       "text": [
        "\n",
        "hilbert 8 19 maxima 3 2 0.5 5 0"
       ]
      },
      {
       "output_type": "stream",
       "stream": "stdout",
       "text": [
        "\n",
        "hilbert 8 19 maxima 3 2 0.5 5 1"
       ]
      },
      {
       "output_type": "stream",
       "stream": "stdout",
       "text": [
        "\n",
        "hilbert 8 19 maxima 3 1.5 0.5 2 0"
       ]
      },
      {
       "output_type": "stream",
       "stream": "stdout",
       "text": [
        "\n",
        "hilbert 8 19 maxima 3 1.5 0.5 2 1"
       ]
      },
      {
       "output_type": "stream",
       "stream": "stdout",
       "text": [
        "\n",
        "hilbert 8 19 maxima 3 1.5 0.5 5 0"
       ]
      },
      {
       "output_type": "stream",
       "stream": "stdout",
       "text": [
        "\n",
        "hilbert 8 19 maxima 3 1.5 0.5 5 1"
       ]
      },
      {
       "output_type": "stream",
       "stream": "stdout",
       "text": [
        "\n",
        "hilbert 8 19 maxima 3 1 0.5 2 0"
       ]
      },
      {
       "output_type": "stream",
       "stream": "stdout",
       "text": [
        "\n",
        "hilbert 8 19 maxima 3 1 0.5 2 1"
       ]
      },
      {
       "output_type": "stream",
       "stream": "stdout",
       "text": [
        "\n",
        "hilbert 8 19 maxima 3 1 0.5 5 0"
       ]
      },
      {
       "output_type": "stream",
       "stream": "stdout",
       "text": [
        "\n",
        "hilbert 8 19 maxima 3 1 0.5 5 1"
       ]
      },
      {
       "output_type": "stream",
       "stream": "stdout",
       "text": [
        "\n",
        "hilbert 8 19 maxima 2 2 0.5 2 0"
       ]
      },
      {
       "output_type": "stream",
       "stream": "stdout",
       "text": [
        "\n",
        "hilbert 8 19 maxima 2 2 0.5 2 1"
       ]
      },
      {
       "output_type": "stream",
       "stream": "stdout",
       "text": [
        "\n",
        "hilbert 8 19 maxima 2 2 0.5 5 0"
       ]
      },
      {
       "output_type": "stream",
       "stream": "stdout",
       "text": [
        "\n",
        "hilbert 8 19 maxima 2 2 0.5 5 1"
       ]
      },
      {
       "output_type": "stream",
       "stream": "stdout",
       "text": [
        "\n",
        "hilbert 8 19 maxima 2 1.5 0.5 2 0"
       ]
      },
      {
       "output_type": "stream",
       "stream": "stdout",
       "text": [
        "\n",
        "hilbert 8 19 maxima 2 1.5 0.5 2 1"
       ]
      },
      {
       "output_type": "stream",
       "stream": "stdout",
       "text": [
        "\n",
        "hilbert 8 19 maxima 2 1.5 0.5 5 0"
       ]
      },
      {
       "output_type": "stream",
       "stream": "stdout",
       "text": [
        "\n",
        "hilbert 8 19 maxima 2 1.5 0.5 5 1"
       ]
      },
      {
       "output_type": "stream",
       "stream": "stdout",
       "text": [
        "\n",
        "hilbert 8 19 maxima 2 1 0.5 2 0"
       ]
      },
      {
       "output_type": "stream",
       "stream": "stdout",
       "text": [
        "\n",
        "hilbert 8 19 maxima 2 1 0.5 2 1"
       ]
      },
      {
       "output_type": "stream",
       "stream": "stdout",
       "text": [
        "\n",
        "hilbert 8 19 maxima 2 1 0.5 5 0"
       ]
      },
      {
       "output_type": "stream",
       "stream": "stdout",
       "text": [
        "\n",
        "hilbert 8 19 maxima 2 1 0.5 5 1"
       ]
      },
      {
       "output_type": "stream",
       "stream": "stdout",
       "text": [
        "\n",
        "hilbert 8 19 maxima 1 2 0.5 2 0"
       ]
      },
      {
       "output_type": "stream",
       "stream": "stdout",
       "text": [
        "\n",
        "hilbert 8 19 maxima 1 2 0.5 2 1"
       ]
      },
      {
       "output_type": "stream",
       "stream": "stdout",
       "text": [
        "\n",
        "hilbert 8 19 maxima 1 2 0.5 5 0"
       ]
      },
      {
       "output_type": "stream",
       "stream": "stdout",
       "text": [
        "\n",
        "hilbert 8 19 maxima 1 2 0.5 5 1"
       ]
      },
      {
       "output_type": "stream",
       "stream": "stdout",
       "text": [
        "\n",
        "hilbert 8 19 maxima 1 1.5 0.5 2 0"
       ]
      },
      {
       "output_type": "stream",
       "stream": "stdout",
       "text": [
        "\n",
        "hilbert 8 19 maxima 1 1.5 0.5 2 1"
       ]
      },
      {
       "output_type": "stream",
       "stream": "stdout",
       "text": [
        "\n",
        "hilbert 8 19 maxima 1 1.5 0.5 5 0"
       ]
      },
      {
       "output_type": "stream",
       "stream": "stdout",
       "text": [
        "\n",
        "hilbert 8 19 maxima 1 1.5 0.5 5 1"
       ]
      },
      {
       "output_type": "stream",
       "stream": "stdout",
       "text": [
        "\n",
        "hilbert 8 19 maxima 1 1 0.5 2 0"
       ]
      },
      {
       "output_type": "stream",
       "stream": "stdout",
       "text": [
        "\n",
        "hilbert 8 19 maxima 1 1 0.5 2 1"
       ]
      },
      {
       "output_type": "stream",
       "stream": "stdout",
       "text": [
        "\n",
        "hilbert 8 19 maxima 1 1 0.5 5 0"
       ]
      },
      {
       "output_type": "stream",
       "stream": "stdout",
       "text": [
        "\n",
        "hilbert 8 19 maxima 1 1 0.5 5 1"
       ]
      },
      {
       "output_type": "stream",
       "stream": "stdout",
       "text": [
        "\n",
        "hilbert 8 20 relative 3 2 0.5 2 0"
       ]
      },
      {
       "output_type": "stream",
       "stream": "stdout",
       "text": [
        "\n",
        "hilbert 8 20 relative 3 2 0.5 2 1"
       ]
      },
      {
       "output_type": "stream",
       "stream": "stdout",
       "text": [
        "\n",
        "hilbert 8 20 relative 3 2 0.5 5 0"
       ]
      },
      {
       "output_type": "stream",
       "stream": "stdout",
       "text": [
        "\n",
        "hilbert 8 20 relative 3 2 0.5 5 1"
       ]
      },
      {
       "output_type": "stream",
       "stream": "stdout",
       "text": [
        "\n",
        "hilbert 8 20 relative 3 1.5 0.5 2 0"
       ]
      },
      {
       "output_type": "stream",
       "stream": "stdout",
       "text": [
        "\n",
        "hilbert 8 20 relative 3 1.5 0.5 2 1"
       ]
      },
      {
       "output_type": "stream",
       "stream": "stdout",
       "text": [
        "\n",
        "hilbert 8 20 relative 3 1.5 0.5 5 0"
       ]
      },
      {
       "output_type": "stream",
       "stream": "stdout",
       "text": [
        "\n",
        "hilbert 8 20 relative 3 1.5 0.5 5 1"
       ]
      },
      {
       "output_type": "stream",
       "stream": "stdout",
       "text": [
        "\n",
        "hilbert 8 20 relative 3 1 0.5 2 0"
       ]
      },
      {
       "output_type": "stream",
       "stream": "stdout",
       "text": [
        "\n",
        "hilbert 8 20 relative 3 1 0.5 2 1"
       ]
      },
      {
       "output_type": "stream",
       "stream": "stdout",
       "text": [
        "\n",
        "hilbert 8 20 relative 3 1 0.5 5 0"
       ]
      },
      {
       "output_type": "stream",
       "stream": "stdout",
       "text": [
        "\n",
        "hilbert 8 20 relative 3 1 0.5 5 1"
       ]
      },
      {
       "output_type": "stream",
       "stream": "stdout",
       "text": [
        "\n",
        "hilbert 8 20 relative 2 2 0.5 2 0"
       ]
      },
      {
       "output_type": "stream",
       "stream": "stdout",
       "text": [
        "\n",
        "hilbert 8 20 relative 2 2 0.5 2 1"
       ]
      },
      {
       "output_type": "stream",
       "stream": "stdout",
       "text": [
        "\n",
        "hilbert 8 20 relative 2 2 0.5 5 0"
       ]
      },
      {
       "output_type": "stream",
       "stream": "stdout",
       "text": [
        "\n",
        "hilbert 8 20 relative 2 2 0.5 5 1"
       ]
      },
      {
       "output_type": "stream",
       "stream": "stdout",
       "text": [
        "\n",
        "hilbert 8 20 relative 2 1.5 0.5 2 0"
       ]
      },
      {
       "output_type": "stream",
       "stream": "stdout",
       "text": [
        "\n",
        "hilbert 8 20 relative 2 1.5 0.5 2 1"
       ]
      },
      {
       "output_type": "stream",
       "stream": "stdout",
       "text": [
        "\n",
        "hilbert 8 20 relative 2 1.5 0.5 5 0"
       ]
      },
      {
       "output_type": "stream",
       "stream": "stdout",
       "text": [
        "\n",
        "hilbert 8 20 relative 2 1.5 0.5 5 1"
       ]
      },
      {
       "output_type": "stream",
       "stream": "stdout",
       "text": [
        "\n",
        "hilbert 8 20 relative 2 1 0.5 2 0"
       ]
      },
      {
       "output_type": "stream",
       "stream": "stdout",
       "text": [
        "\n",
        "hilbert 8 20 relative 2 1 0.5 2 1"
       ]
      },
      {
       "output_type": "stream",
       "stream": "stdout",
       "text": [
        "\n",
        "hilbert 8 20 relative 2 1 0.5 5 0"
       ]
      },
      {
       "output_type": "stream",
       "stream": "stdout",
       "text": [
        "\n",
        "hilbert 8 20 relative 2 1 0.5 5 1"
       ]
      },
      {
       "output_type": "stream",
       "stream": "stdout",
       "text": [
        "\n",
        "hilbert 8 20 relative 1 2 0.5 2 0"
       ]
      },
      {
       "output_type": "stream",
       "stream": "stdout",
       "text": [
        "\n",
        "hilbert 8 20 relative 1 2 0.5 2 1"
       ]
      },
      {
       "output_type": "stream",
       "stream": "stdout",
       "text": [
        "\n",
        "hilbert 8 20 relative 1 2 0.5 5 0"
       ]
      },
      {
       "output_type": "stream",
       "stream": "stdout",
       "text": [
        "\n",
        "hilbert 8 20 relative 1 2 0.5 5 1"
       ]
      },
      {
       "output_type": "stream",
       "stream": "stdout",
       "text": [
        "\n",
        "hilbert 8 20 relative 1 1.5 0.5 2 0"
       ]
      },
      {
       "output_type": "stream",
       "stream": "stdout",
       "text": [
        "\n",
        "hilbert 8 20 relative 1 1.5 0.5 2 1"
       ]
      },
      {
       "output_type": "stream",
       "stream": "stdout",
       "text": [
        "\n",
        "hilbert 8 20 relative 1 1.5 0.5 5 0"
       ]
      },
      {
       "output_type": "stream",
       "stream": "stdout",
       "text": [
        "\n",
        "hilbert 8 20 relative 1 1.5 0.5 5 1"
       ]
      },
      {
       "output_type": "stream",
       "stream": "stdout",
       "text": [
        "\n",
        "hilbert 8 20 relative 1 1 0.5 2 0"
       ]
      },
      {
       "output_type": "stream",
       "stream": "stdout",
       "text": [
        "\n",
        "hilbert 8 20 relative 1 1 0.5 2 1"
       ]
      },
      {
       "output_type": "stream",
       "stream": "stdout",
       "text": [
        "\n",
        "hilbert 8 20 relative 1 1 0.5 5 0"
       ]
      },
      {
       "output_type": "stream",
       "stream": "stdout",
       "text": [
        "\n",
        "hilbert 8 20 relative 1 1 0.5 5 1"
       ]
      },
      {
       "output_type": "stream",
       "stream": "stdout",
       "text": [
        "\n",
        "hilbert 8 20 maxima 3 2 0.5 2 0"
       ]
      },
      {
       "output_type": "stream",
       "stream": "stdout",
       "text": [
        "\n",
        "hilbert 8 20 maxima 3 2 0.5 2 1"
       ]
      },
      {
       "output_type": "stream",
       "stream": "stdout",
       "text": [
        "\n",
        "hilbert 8 20 maxima 3 2 0.5 5 0"
       ]
      },
      {
       "output_type": "stream",
       "stream": "stdout",
       "text": [
        "\n",
        "hilbert 8 20 maxima 3 2 0.5 5 1"
       ]
      },
      {
       "output_type": "stream",
       "stream": "stdout",
       "text": [
        "\n",
        "hilbert 8 20 maxima 3 1.5 0.5 2 0"
       ]
      },
      {
       "output_type": "stream",
       "stream": "stdout",
       "text": [
        "\n",
        "hilbert 8 20 maxima 3 1.5 0.5 2 1"
       ]
      },
      {
       "output_type": "stream",
       "stream": "stdout",
       "text": [
        "\n",
        "hilbert 8 20 maxima 3 1.5 0.5 5 0"
       ]
      },
      {
       "output_type": "stream",
       "stream": "stdout",
       "text": [
        "\n",
        "hilbert 8 20 maxima 3 1.5 0.5 5 1"
       ]
      },
      {
       "output_type": "stream",
       "stream": "stdout",
       "text": [
        "\n",
        "hilbert 8 20 maxima 3 1 0.5 2 0"
       ]
      },
      {
       "output_type": "stream",
       "stream": "stdout",
       "text": [
        "\n",
        "hilbert 8 20 maxima 3 1 0.5 2 1"
       ]
      },
      {
       "output_type": "stream",
       "stream": "stdout",
       "text": [
        "\n",
        "hilbert 8 20 maxima 3 1 0.5 5 0"
       ]
      },
      {
       "output_type": "stream",
       "stream": "stdout",
       "text": [
        "\n",
        "hilbert 8 20 maxima 3 1 0.5 5 1"
       ]
      },
      {
       "output_type": "stream",
       "stream": "stdout",
       "text": [
        "\n",
        "hilbert 8 20 maxima 2 2 0.5 2 0"
       ]
      },
      {
       "output_type": "stream",
       "stream": "stdout",
       "text": [
        "\n",
        "hilbert 8 20 maxima 2 2 0.5 2 1"
       ]
      },
      {
       "output_type": "stream",
       "stream": "stdout",
       "text": [
        "\n",
        "hilbert 8 20 maxima 2 2 0.5 5 0"
       ]
      },
      {
       "output_type": "stream",
       "stream": "stdout",
       "text": [
        "\n",
        "hilbert 8 20 maxima 2 2 0.5 5 1"
       ]
      },
      {
       "output_type": "stream",
       "stream": "stdout",
       "text": [
        "\n",
        "hilbert 8 20 maxima 2 1.5 0.5 2 0"
       ]
      },
      {
       "output_type": "stream",
       "stream": "stdout",
       "text": [
        "\n",
        "hilbert 8 20 maxima 2 1.5 0.5 2 1"
       ]
      },
      {
       "output_type": "stream",
       "stream": "stdout",
       "text": [
        "\n",
        "hilbert 8 20 maxima 2 1.5 0.5 5 0"
       ]
      },
      {
       "output_type": "stream",
       "stream": "stdout",
       "text": [
        "\n",
        "hilbert 8 20 maxima 2 1.5 0.5 5 1"
       ]
      },
      {
       "output_type": "stream",
       "stream": "stdout",
       "text": [
        "\n",
        "hilbert 8 20 maxima 2 1 0.5 2 0"
       ]
      },
      {
       "output_type": "stream",
       "stream": "stdout",
       "text": [
        "\n",
        "hilbert 8 20 maxima 2 1 0.5 2 1"
       ]
      },
      {
       "output_type": "stream",
       "stream": "stdout",
       "text": [
        "\n",
        "hilbert 8 20 maxima 2 1 0.5 5 0"
       ]
      },
      {
       "output_type": "stream",
       "stream": "stdout",
       "text": [
        "\n",
        "hilbert 8 20 maxima 2 1 0.5 5 1"
       ]
      },
      {
       "output_type": "stream",
       "stream": "stdout",
       "text": [
        "\n",
        "hilbert 8 20 maxima 1 2 0.5 2 0"
       ]
      },
      {
       "output_type": "stream",
       "stream": "stdout",
       "text": [
        "\n",
        "hilbert 8 20 maxima 1 2 0.5 2 1"
       ]
      },
      {
       "output_type": "stream",
       "stream": "stdout",
       "text": [
        "\n",
        "hilbert 8 20 maxima 1 2 0.5 5 0"
       ]
      },
      {
       "output_type": "stream",
       "stream": "stdout",
       "text": [
        "\n",
        "hilbert 8 20 maxima 1 2 0.5 5 1"
       ]
      },
      {
       "output_type": "stream",
       "stream": "stdout",
       "text": [
        "\n",
        "hilbert 8 20 maxima 1 1.5 0.5 2 0"
       ]
      },
      {
       "output_type": "stream",
       "stream": "stdout",
       "text": [
        "\n",
        "hilbert 8 20 maxima 1 1.5 0.5 2 1"
       ]
      },
      {
       "output_type": "stream",
       "stream": "stdout",
       "text": [
        "\n",
        "hilbert 8 20 maxima 1 1.5 0.5 5 0"
       ]
      },
      {
       "output_type": "stream",
       "stream": "stdout",
       "text": [
        "\n",
        "hilbert 8 20 maxima 1 1.5 0.5 5 1"
       ]
      },
      {
       "output_type": "stream",
       "stream": "stdout",
       "text": [
        "\n",
        "hilbert 8 20 maxima 1 1 0.5 2 0"
       ]
      },
      {
       "output_type": "stream",
       "stream": "stdout",
       "text": [
        "\n",
        "hilbert 8 20 maxima 1 1 0.5 2 1"
       ]
      },
      {
       "output_type": "stream",
       "stream": "stdout",
       "text": [
        "\n",
        "hilbert 8 20 maxima 1 1 0.5 5 0"
       ]
      },
      {
       "output_type": "stream",
       "stream": "stdout",
       "text": [
        "\n",
        "hilbert 8 20 maxima 1 1 0.5 5 1"
       ]
      },
      {
       "output_type": "stream",
       "stream": "stdout",
       "text": [
        "\n",
        "hilbert 11 17 relative 3 2 0.5 2 0"
       ]
      },
      {
       "output_type": "stream",
       "stream": "stdout",
       "text": [
        "\n",
        "hilbert 11 17 relative 3 2 0.5 2 1"
       ]
      },
      {
       "output_type": "stream",
       "stream": "stdout",
       "text": [
        "\n",
        "hilbert 11 17 relative 3 2 0.5 5 0"
       ]
      },
      {
       "output_type": "stream",
       "stream": "stdout",
       "text": [
        "\n",
        "hilbert 11 17 relative 3 2 0.5 5 1"
       ]
      },
      {
       "output_type": "stream",
       "stream": "stdout",
       "text": [
        "\n",
        "hilbert 11 17 relative 3 1.5 0.5 2 0"
       ]
      },
      {
       "output_type": "stream",
       "stream": "stdout",
       "text": [
        "\n",
        "hilbert 11 17 relative 3 1.5 0.5 2 1"
       ]
      },
      {
       "output_type": "stream",
       "stream": "stdout",
       "text": [
        "\n",
        "hilbert 11 17 relative 3 1.5 0.5 5 0"
       ]
      },
      {
       "output_type": "stream",
       "stream": "stdout",
       "text": [
        "\n",
        "hilbert 11 17 relative 3 1.5 0.5 5 1"
       ]
      },
      {
       "output_type": "stream",
       "stream": "stdout",
       "text": [
        "\n",
        "hilbert 11 17 relative 3 1 0.5 2 0"
       ]
      },
      {
       "output_type": "stream",
       "stream": "stdout",
       "text": [
        "\n",
        "hilbert 11 17 relative 3 1 0.5 2 1"
       ]
      },
      {
       "output_type": "stream",
       "stream": "stdout",
       "text": [
        "\n",
        "hilbert 11 17 relative 3 1 0.5 5 0"
       ]
      },
      {
       "output_type": "stream",
       "stream": "stdout",
       "text": [
        "\n",
        "hilbert 11 17 relative 3 1 0.5 5 1"
       ]
      },
      {
       "output_type": "stream",
       "stream": "stdout",
       "text": [
        "\n",
        "hilbert 11 17 relative 2 2 0.5 2 0"
       ]
      },
      {
       "output_type": "stream",
       "stream": "stdout",
       "text": [
        "\n",
        "hilbert 11 17 relative 2 2 0.5 2 1"
       ]
      },
      {
       "output_type": "stream",
       "stream": "stdout",
       "text": [
        "\n",
        "hilbert 11 17 relative 2 2 0.5 5 0"
       ]
      },
      {
       "output_type": "stream",
       "stream": "stdout",
       "text": [
        "\n",
        "hilbert 11 17 relative 2 2 0.5 5 1"
       ]
      },
      {
       "output_type": "stream",
       "stream": "stdout",
       "text": [
        "\n",
        "hilbert 11 17 relative 2 1.5 0.5 2 0"
       ]
      },
      {
       "output_type": "stream",
       "stream": "stdout",
       "text": [
        "\n",
        "hilbert 11 17 relative 2 1.5 0.5 2 1"
       ]
      },
      {
       "output_type": "stream",
       "stream": "stdout",
       "text": [
        "\n",
        "hilbert 11 17 relative 2 1.5 0.5 5 0"
       ]
      },
      {
       "output_type": "stream",
       "stream": "stdout",
       "text": [
        "\n",
        "hilbert 11 17 relative 2 1.5 0.5 5 1"
       ]
      },
      {
       "output_type": "stream",
       "stream": "stdout",
       "text": [
        "\n",
        "hilbert 11 17 relative 2 1 0.5 2 0"
       ]
      },
      {
       "output_type": "stream",
       "stream": "stdout",
       "text": [
        "\n",
        "hilbert 11 17 relative 2 1 0.5 2 1"
       ]
      },
      {
       "output_type": "stream",
       "stream": "stdout",
       "text": [
        "\n",
        "hilbert 11 17 relative 2 1 0.5 5 0"
       ]
      },
      {
       "output_type": "stream",
       "stream": "stdout",
       "text": [
        "\n",
        "hilbert 11 17 relative 2 1 0.5 5 1"
       ]
      },
      {
       "output_type": "stream",
       "stream": "stdout",
       "text": [
        "\n",
        "hilbert 11 17 relative 1 2 0.5 2 0"
       ]
      },
      {
       "output_type": "stream",
       "stream": "stdout",
       "text": [
        "\n",
        "hilbert 11 17 relative 1 2 0.5 2 1"
       ]
      },
      {
       "output_type": "stream",
       "stream": "stdout",
       "text": [
        "\n",
        "hilbert 11 17 relative 1 2 0.5 5 0"
       ]
      },
      {
       "output_type": "stream",
       "stream": "stdout",
       "text": [
        "\n",
        "hilbert 11 17 relative 1 2 0.5 5 1"
       ]
      },
      {
       "output_type": "stream",
       "stream": "stdout",
       "text": [
        "\n",
        "hilbert 11 17 relative 1 1.5 0.5 2 0"
       ]
      },
      {
       "output_type": "stream",
       "stream": "stdout",
       "text": [
        "\n",
        "hilbert 11 17 relative 1 1.5 0.5 2 1"
       ]
      },
      {
       "output_type": "stream",
       "stream": "stdout",
       "text": [
        "\n",
        "hilbert 11 17 relative 1 1.5 0.5 5 0"
       ]
      },
      {
       "output_type": "stream",
       "stream": "stdout",
       "text": [
        "\n",
        "hilbert 11 17 relative 1 1.5 0.5 5 1"
       ]
      },
      {
       "output_type": "stream",
       "stream": "stdout",
       "text": [
        "\n",
        "hilbert 11 17 relative 1 1 0.5 2 0"
       ]
      },
      {
       "output_type": "stream",
       "stream": "stdout",
       "text": [
        "\n",
        "hilbert 11 17 relative 1 1 0.5 2 1"
       ]
      },
      {
       "output_type": "stream",
       "stream": "stdout",
       "text": [
        "\n",
        "hilbert 11 17 relative 1 1 0.5 5 0"
       ]
      },
      {
       "output_type": "stream",
       "stream": "stdout",
       "text": [
        "\n",
        "hilbert 11 17 relative 1 1 0.5 5 1"
       ]
      },
      {
       "output_type": "stream",
       "stream": "stdout",
       "text": [
        "\n",
        "hilbert 11 17 maxima 3 2 0.5 2 0"
       ]
      },
      {
       "output_type": "stream",
       "stream": "stdout",
       "text": [
        "\n",
        "hilbert 11 17 maxima 3 2 0.5 2 1"
       ]
      },
      {
       "output_type": "stream",
       "stream": "stdout",
       "text": [
        "\n",
        "hilbert 11 17 maxima 3 2 0.5 5 0"
       ]
      },
      {
       "output_type": "stream",
       "stream": "stdout",
       "text": [
        "\n",
        "hilbert 11 17 maxima 3 2 0.5 5 1"
       ]
      },
      {
       "output_type": "stream",
       "stream": "stdout",
       "text": [
        "\n",
        "hilbert 11 17 maxima 3 1.5 0.5 2 0"
       ]
      },
      {
       "output_type": "stream",
       "stream": "stdout",
       "text": [
        "\n",
        "hilbert 11 17 maxima 3 1.5 0.5 2 1"
       ]
      },
      {
       "output_type": "stream",
       "stream": "stdout",
       "text": [
        "\n",
        "hilbert 11 17 maxima 3 1.5 0.5 5 0"
       ]
      },
      {
       "output_type": "stream",
       "stream": "stdout",
       "text": [
        "\n",
        "hilbert 11 17 maxima 3 1.5 0.5 5 1"
       ]
      },
      {
       "output_type": "stream",
       "stream": "stdout",
       "text": [
        "\n",
        "hilbert 11 17 maxima 3 1 0.5 2 0"
       ]
      },
      {
       "output_type": "stream",
       "stream": "stdout",
       "text": [
        "\n",
        "hilbert 11 17 maxima 3 1 0.5 2 1"
       ]
      },
      {
       "output_type": "stream",
       "stream": "stdout",
       "text": [
        "\n",
        "hilbert 11 17 maxima 3 1 0.5 5 0"
       ]
      },
      {
       "output_type": "stream",
       "stream": "stdout",
       "text": [
        "\n",
        "hilbert 11 17 maxima 3 1 0.5 5 1"
       ]
      },
      {
       "output_type": "stream",
       "stream": "stdout",
       "text": [
        "\n",
        "hilbert 11 17 maxima 2 2 0.5 2 0"
       ]
      },
      {
       "output_type": "stream",
       "stream": "stdout",
       "text": [
        "\n",
        "hilbert 11 17 maxima 2 2 0.5 2 1"
       ]
      },
      {
       "output_type": "stream",
       "stream": "stdout",
       "text": [
        "\n",
        "hilbert 11 17 maxima 2 2 0.5 5 0"
       ]
      },
      {
       "output_type": "stream",
       "stream": "stdout",
       "text": [
        "\n",
        "hilbert 11 17 maxima 2 2 0.5 5 1"
       ]
      },
      {
       "output_type": "stream",
       "stream": "stdout",
       "text": [
        "\n",
        "hilbert 11 17 maxima 2 1.5 0.5 2 0"
       ]
      },
      {
       "output_type": "stream",
       "stream": "stdout",
       "text": [
        "\n",
        "hilbert 11 17 maxima 2 1.5 0.5 2 1"
       ]
      },
      {
       "output_type": "stream",
       "stream": "stdout",
       "text": [
        "\n",
        "hilbert 11 17 maxima 2 1.5 0.5 5 0"
       ]
      },
      {
       "output_type": "stream",
       "stream": "stdout",
       "text": [
        "\n",
        "hilbert 11 17 maxima 2 1.5 0.5 5 1"
       ]
      },
      {
       "output_type": "stream",
       "stream": "stdout",
       "text": [
        "\n",
        "hilbert 11 17 maxima 2 1 0.5 2 0"
       ]
      },
      {
       "output_type": "stream",
       "stream": "stdout",
       "text": [
        "\n",
        "hilbert 11 17 maxima 2 1 0.5 2 1"
       ]
      },
      {
       "output_type": "stream",
       "stream": "stdout",
       "text": [
        "\n",
        "hilbert 11 17 maxima 2 1 0.5 5 0"
       ]
      },
      {
       "output_type": "stream",
       "stream": "stdout",
       "text": [
        "\n",
        "hilbert 11 17 maxima 2 1 0.5 5 1"
       ]
      },
      {
       "output_type": "stream",
       "stream": "stdout",
       "text": [
        "\n",
        "hilbert 11 17 maxima 1 2 0.5 2 0"
       ]
      },
      {
       "output_type": "stream",
       "stream": "stdout",
       "text": [
        "\n",
        "hilbert 11 17 maxima 1 2 0.5 2 1"
       ]
      },
      {
       "output_type": "stream",
       "stream": "stdout",
       "text": [
        "\n",
        "hilbert 11 17 maxima 1 2 0.5 5 0"
       ]
      },
      {
       "output_type": "stream",
       "stream": "stdout",
       "text": [
        "\n",
        "hilbert 11 17 maxima 1 2 0.5 5 1"
       ]
      },
      {
       "output_type": "stream",
       "stream": "stdout",
       "text": [
        "\n",
        "hilbert 11 17 maxima 1 1.5 0.5 2 0"
       ]
      },
      {
       "output_type": "stream",
       "stream": "stdout",
       "text": [
        "\n",
        "hilbert 11 17 maxima 1 1.5 0.5 2 1"
       ]
      },
      {
       "output_type": "stream",
       "stream": "stdout",
       "text": [
        "\n",
        "hilbert 11 17 maxima 1 1.5 0.5 5 0"
       ]
      },
      {
       "output_type": "stream",
       "stream": "stdout",
       "text": [
        "\n",
        "hilbert 11 17 maxima 1 1.5 0.5 5 1"
       ]
      },
      {
       "output_type": "stream",
       "stream": "stdout",
       "text": [
        "\n",
        "hilbert 11 17 maxima 1 1 0.5 2 0"
       ]
      },
      {
       "output_type": "stream",
       "stream": "stdout",
       "text": [
        "\n",
        "hilbert 11 17 maxima 1 1 0.5 2 1"
       ]
      },
      {
       "output_type": "stream",
       "stream": "stdout",
       "text": [
        "\n",
        "hilbert 11 17 maxima 1 1 0.5 5 0"
       ]
      },
      {
       "output_type": "stream",
       "stream": "stdout",
       "text": [
        "\n",
        "hilbert 11 17 maxima 1 1 0.5 5 1"
       ]
      },
      {
       "output_type": "stream",
       "stream": "stdout",
       "text": [
        "\n",
        "hilbert 11 18 relative 3 2 0.5 2 0"
       ]
      },
      {
       "output_type": "stream",
       "stream": "stdout",
       "text": [
        "\n",
        "hilbert 11 18 relative 3 2 0.5 2 1"
       ]
      },
      {
       "output_type": "stream",
       "stream": "stdout",
       "text": [
        "\n",
        "hilbert 11 18 relative 3 2 0.5 5 0"
       ]
      },
      {
       "output_type": "stream",
       "stream": "stdout",
       "text": [
        "\n",
        "hilbert 11 18 relative 3 2 0.5 5 1"
       ]
      },
      {
       "output_type": "stream",
       "stream": "stdout",
       "text": [
        "\n",
        "hilbert 11 18 relative 3 1.5 0.5 2 0"
       ]
      },
      {
       "output_type": "stream",
       "stream": "stdout",
       "text": [
        "\n",
        "hilbert 11 18 relative 3 1.5 0.5 2 1"
       ]
      },
      {
       "output_type": "stream",
       "stream": "stdout",
       "text": [
        "\n",
        "hilbert 11 18 relative 3 1.5 0.5 5 0"
       ]
      },
      {
       "output_type": "stream",
       "stream": "stdout",
       "text": [
        "\n",
        "hilbert 11 18 relative 3 1.5 0.5 5 1"
       ]
      },
      {
       "output_type": "stream",
       "stream": "stdout",
       "text": [
        "\n",
        "hilbert 11 18 relative 3 1 0.5 2 0"
       ]
      },
      {
       "output_type": "stream",
       "stream": "stdout",
       "text": [
        "\n",
        "hilbert 11 18 relative 3 1 0.5 2 1"
       ]
      },
      {
       "output_type": "stream",
       "stream": "stdout",
       "text": [
        "\n",
        "hilbert 11 18 relative 3 1 0.5 5 0"
       ]
      },
      {
       "output_type": "stream",
       "stream": "stdout",
       "text": [
        "\n",
        "hilbert 11 18 relative 3 1 0.5 5 1"
       ]
      },
      {
       "output_type": "stream",
       "stream": "stdout",
       "text": [
        "\n",
        "hilbert 11 18 relative 2 2 0.5 2 0"
       ]
      },
      {
       "output_type": "stream",
       "stream": "stdout",
       "text": [
        "\n",
        "hilbert 11 18 relative 2 2 0.5 2 1"
       ]
      },
      {
       "output_type": "stream",
       "stream": "stdout",
       "text": [
        "\n",
        "hilbert 11 18 relative 2 2 0.5 5 0"
       ]
      },
      {
       "output_type": "stream",
       "stream": "stdout",
       "text": [
        "\n",
        "hilbert 11 18 relative 2 2 0.5 5 1"
       ]
      },
      {
       "output_type": "stream",
       "stream": "stdout",
       "text": [
        "\n",
        "hilbert 11 18 relative 2 1.5 0.5 2 0"
       ]
      },
      {
       "output_type": "stream",
       "stream": "stdout",
       "text": [
        "\n",
        "hilbert 11 18 relative 2 1.5 0.5 2 1"
       ]
      },
      {
       "output_type": "stream",
       "stream": "stdout",
       "text": [
        "\n",
        "hilbert 11 18 relative 2 1.5 0.5 5 0"
       ]
      },
      {
       "output_type": "stream",
       "stream": "stdout",
       "text": [
        "\n",
        "hilbert 11 18 relative 2 1.5 0.5 5 1"
       ]
      },
      {
       "output_type": "stream",
       "stream": "stdout",
       "text": [
        "\n",
        "hilbert 11 18 relative 2 1 0.5 2 0"
       ]
      },
      {
       "output_type": "stream",
       "stream": "stdout",
       "text": [
        "\n",
        "hilbert 11 18 relative 2 1 0.5 2 1"
       ]
      },
      {
       "output_type": "stream",
       "stream": "stdout",
       "text": [
        "\n",
        "hilbert 11 18 relative 2 1 0.5 5 0"
       ]
      },
      {
       "output_type": "stream",
       "stream": "stdout",
       "text": [
        "\n",
        "hilbert 11 18 relative 2 1 0.5 5 1"
       ]
      },
      {
       "output_type": "stream",
       "stream": "stdout",
       "text": [
        "\n",
        "hilbert 11 18 relative 1 2 0.5 2 0"
       ]
      },
      {
       "output_type": "stream",
       "stream": "stdout",
       "text": [
        "\n",
        "hilbert 11 18 relative 1 2 0.5 2 1"
       ]
      },
      {
       "output_type": "stream",
       "stream": "stdout",
       "text": [
        "\n",
        "hilbert 11 18 relative 1 2 0.5 5 0"
       ]
      },
      {
       "output_type": "stream",
       "stream": "stdout",
       "text": [
        "\n",
        "hilbert 11 18 relative 1 2 0.5 5 1"
       ]
      },
      {
       "output_type": "stream",
       "stream": "stdout",
       "text": [
        "\n",
        "hilbert 11 18 relative 1 1.5 0.5 2 0"
       ]
      },
      {
       "output_type": "stream",
       "stream": "stdout",
       "text": [
        "\n",
        "hilbert 11 18 relative 1 1.5 0.5 2 1"
       ]
      },
      {
       "output_type": "stream",
       "stream": "stdout",
       "text": [
        "\n",
        "hilbert 11 18 relative 1 1.5 0.5 5 0"
       ]
      },
      {
       "output_type": "stream",
       "stream": "stdout",
       "text": [
        "\n",
        "hilbert 11 18 relative 1 1.5 0.5 5 1"
       ]
      },
      {
       "output_type": "stream",
       "stream": "stdout",
       "text": [
        "\n",
        "hilbert 11 18 relative 1 1 0.5 2 0"
       ]
      },
      {
       "output_type": "stream",
       "stream": "stdout",
       "text": [
        "\n",
        "hilbert 11 18 relative 1 1 0.5 2 1"
       ]
      },
      {
       "output_type": "stream",
       "stream": "stdout",
       "text": [
        "\n",
        "hilbert 11 18 relative 1 1 0.5 5 0"
       ]
      },
      {
       "output_type": "stream",
       "stream": "stdout",
       "text": [
        "\n",
        "hilbert 11 18 relative 1 1 0.5 5 1"
       ]
      },
      {
       "output_type": "stream",
       "stream": "stdout",
       "text": [
        "\n",
        "hilbert 11 18 maxima 3 2 0.5 2 0"
       ]
      },
      {
       "output_type": "stream",
       "stream": "stdout",
       "text": [
        "\n",
        "hilbert 11 18 maxima 3 2 0.5 2 1"
       ]
      },
      {
       "output_type": "stream",
       "stream": "stdout",
       "text": [
        "\n",
        "hilbert 11 18 maxima 3 2 0.5 5 0"
       ]
      },
      {
       "output_type": "stream",
       "stream": "stdout",
       "text": [
        "\n",
        "hilbert 11 18 maxima 3 2 0.5 5 1"
       ]
      },
      {
       "output_type": "stream",
       "stream": "stdout",
       "text": [
        "\n",
        "hilbert 11 18 maxima 3 1.5 0.5 2 0"
       ]
      },
      {
       "output_type": "stream",
       "stream": "stdout",
       "text": [
        "\n",
        "hilbert 11 18 maxima 3 1.5 0.5 2 1"
       ]
      },
      {
       "output_type": "stream",
       "stream": "stdout",
       "text": [
        "\n",
        "hilbert 11 18 maxima 3 1.5 0.5 5 0"
       ]
      },
      {
       "output_type": "stream",
       "stream": "stdout",
       "text": [
        "\n",
        "hilbert 11 18 maxima 3 1.5 0.5 5 1"
       ]
      },
      {
       "output_type": "stream",
       "stream": "stdout",
       "text": [
        "\n",
        "hilbert 11 18 maxima 3 1 0.5 2 0"
       ]
      },
      {
       "output_type": "stream",
       "stream": "stdout",
       "text": [
        "\n",
        "hilbert 11 18 maxima 3 1 0.5 2 1"
       ]
      },
      {
       "output_type": "stream",
       "stream": "stdout",
       "text": [
        "\n",
        "hilbert 11 18 maxima 3 1 0.5 5 0"
       ]
      },
      {
       "output_type": "stream",
       "stream": "stdout",
       "text": [
        "\n",
        "hilbert 11 18 maxima 3 1 0.5 5 1"
       ]
      },
      {
       "output_type": "stream",
       "stream": "stdout",
       "text": [
        "\n",
        "hilbert 11 18 maxima 2 2 0.5 2 0"
       ]
      },
      {
       "output_type": "stream",
       "stream": "stdout",
       "text": [
        "\n",
        "hilbert 11 18 maxima 2 2 0.5 2 1"
       ]
      },
      {
       "output_type": "stream",
       "stream": "stdout",
       "text": [
        "\n",
        "hilbert 11 18 maxima 2 2 0.5 5 0"
       ]
      },
      {
       "output_type": "stream",
       "stream": "stdout",
       "text": [
        "\n",
        "hilbert 11 18 maxima 2 2 0.5 5 1"
       ]
      },
      {
       "output_type": "stream",
       "stream": "stdout",
       "text": [
        "\n",
        "hilbert 11 18 maxima 2 1.5 0.5 2 0"
       ]
      },
      {
       "output_type": "stream",
       "stream": "stdout",
       "text": [
        "\n",
        "hilbert 11 18 maxima 2 1.5 0.5 2 1"
       ]
      },
      {
       "output_type": "stream",
       "stream": "stdout",
       "text": [
        "\n",
        "hilbert 11 18 maxima 2 1.5 0.5 5 0"
       ]
      },
      {
       "output_type": "stream",
       "stream": "stdout",
       "text": [
        "\n",
        "hilbert 11 18 maxima 2 1.5 0.5 5 1"
       ]
      },
      {
       "output_type": "stream",
       "stream": "stdout",
       "text": [
        "\n",
        "hilbert 11 18 maxima 2 1 0.5 2 0"
       ]
      },
      {
       "output_type": "stream",
       "stream": "stdout",
       "text": [
        "\n",
        "hilbert 11 18 maxima 2 1 0.5 2 1"
       ]
      },
      {
       "output_type": "stream",
       "stream": "stdout",
       "text": [
        "\n",
        "hilbert 11 18 maxima 2 1 0.5 5 0"
       ]
      },
      {
       "output_type": "stream",
       "stream": "stdout",
       "text": [
        "\n",
        "hilbert 11 18 maxima 2 1 0.5 5 1"
       ]
      },
      {
       "output_type": "stream",
       "stream": "stdout",
       "text": [
        "\n",
        "hilbert 11 18 maxima 1 2 0.5 2 0"
       ]
      },
      {
       "output_type": "stream",
       "stream": "stdout",
       "text": [
        "\n",
        "hilbert 11 18 maxima 1 2 0.5 2 1"
       ]
      },
      {
       "output_type": "stream",
       "stream": "stdout",
       "text": [
        "\n",
        "hilbert 11 18 maxima 1 2 0.5 5 0"
       ]
      },
      {
       "output_type": "stream",
       "stream": "stdout",
       "text": [
        "\n",
        "hilbert 11 18 maxima 1 2 0.5 5 1"
       ]
      },
      {
       "output_type": "stream",
       "stream": "stdout",
       "text": [
        "\n",
        "hilbert 11 18 maxima 1 1.5 0.5 2 0"
       ]
      },
      {
       "output_type": "stream",
       "stream": "stdout",
       "text": [
        "\n",
        "hilbert 11 18 maxima 1 1.5 0.5 2 1"
       ]
      },
      {
       "output_type": "stream",
       "stream": "stdout",
       "text": [
        "\n",
        "hilbert 11 18 maxima 1 1.5 0.5 5 0"
       ]
      },
      {
       "output_type": "stream",
       "stream": "stdout",
       "text": [
        "\n",
        "hilbert 11 18 maxima 1 1.5 0.5 5 1"
       ]
      },
      {
       "output_type": "stream",
       "stream": "stdout",
       "text": [
        "\n",
        "hilbert 11 18 maxima 1 1 0.5 2 0"
       ]
      },
      {
       "output_type": "stream",
       "stream": "stdout",
       "text": [
        "\n",
        "hilbert 11 18 maxima 1 1 0.5 2 1"
       ]
      },
      {
       "output_type": "stream",
       "stream": "stdout",
       "text": [
        "\n",
        "hilbert 11 18 maxima 1 1 0.5 5 0"
       ]
      },
      {
       "output_type": "stream",
       "stream": "stdout",
       "text": [
        "\n",
        "hilbert 11 18 maxima 1 1 0.5 5 1"
       ]
      },
      {
       "output_type": "stream",
       "stream": "stdout",
       "text": [
        "\n",
        "hilbert 11 19 relative 3 2 0.5 2 0"
       ]
      },
      {
       "output_type": "stream",
       "stream": "stdout",
       "text": [
        "\n",
        "hilbert 11 19 relative 3 2 0.5 2 1"
       ]
      },
      {
       "output_type": "stream",
       "stream": "stdout",
       "text": [
        "\n",
        "hilbert 11 19 relative 3 2 0.5 5 0"
       ]
      },
      {
       "output_type": "stream",
       "stream": "stdout",
       "text": [
        "\n",
        "hilbert 11 19 relative 3 2 0.5 5 1"
       ]
      },
      {
       "output_type": "stream",
       "stream": "stdout",
       "text": [
        "\n",
        "hilbert 11 19 relative 3 1.5 0.5 2 0"
       ]
      },
      {
       "output_type": "stream",
       "stream": "stdout",
       "text": [
        "\n",
        "hilbert 11 19 relative 3 1.5 0.5 2 1"
       ]
      },
      {
       "output_type": "stream",
       "stream": "stdout",
       "text": [
        "\n",
        "hilbert 11 19 relative 3 1.5 0.5 5 0"
       ]
      },
      {
       "output_type": "stream",
       "stream": "stdout",
       "text": [
        "\n",
        "hilbert 11 19 relative 3 1.5 0.5 5 1"
       ]
      },
      {
       "output_type": "stream",
       "stream": "stdout",
       "text": [
        "\n",
        "hilbert 11 19 relative 3 1 0.5 2 0"
       ]
      },
      {
       "output_type": "stream",
       "stream": "stdout",
       "text": [
        "\n",
        "hilbert 11 19 relative 3 1 0.5 2 1"
       ]
      },
      {
       "output_type": "stream",
       "stream": "stdout",
       "text": [
        "\n",
        "hilbert 11 19 relative 3 1 0.5 5 0"
       ]
      },
      {
       "output_type": "stream",
       "stream": "stdout",
       "text": [
        "\n",
        "hilbert 11 19 relative 3 1 0.5 5 1"
       ]
      },
      {
       "output_type": "stream",
       "stream": "stdout",
       "text": [
        "\n",
        "hilbert 11 19 relative 2 2 0.5 2 0"
       ]
      },
      {
       "output_type": "stream",
       "stream": "stdout",
       "text": [
        "\n",
        "hilbert 11 19 relative 2 2 0.5 2 1"
       ]
      },
      {
       "output_type": "stream",
       "stream": "stdout",
       "text": [
        "\n",
        "hilbert 11 19 relative 2 2 0.5 5 0"
       ]
      },
      {
       "output_type": "stream",
       "stream": "stdout",
       "text": [
        "\n",
        "hilbert 11 19 relative 2 2 0.5 5 1"
       ]
      },
      {
       "output_type": "stream",
       "stream": "stdout",
       "text": [
        "\n",
        "hilbert 11 19 relative 2 1.5 0.5 2 0"
       ]
      },
      {
       "output_type": "stream",
       "stream": "stdout",
       "text": [
        "\n",
        "hilbert 11 19 relative 2 1.5 0.5 2 1"
       ]
      },
      {
       "output_type": "stream",
       "stream": "stdout",
       "text": [
        "\n",
        "hilbert 11 19 relative 2 1.5 0.5 5 0"
       ]
      },
      {
       "output_type": "stream",
       "stream": "stdout",
       "text": [
        "\n",
        "hilbert 11 19 relative 2 1.5 0.5 5 1"
       ]
      },
      {
       "output_type": "stream",
       "stream": "stdout",
       "text": [
        "\n",
        "hilbert 11 19 relative 2 1 0.5 2 0"
       ]
      },
      {
       "output_type": "stream",
       "stream": "stdout",
       "text": [
        "\n",
        "hilbert 11 19 relative 2 1 0.5 2 1"
       ]
      },
      {
       "output_type": "stream",
       "stream": "stdout",
       "text": [
        "\n",
        "hilbert 11 19 relative 2 1 0.5 5 0"
       ]
      },
      {
       "output_type": "stream",
       "stream": "stdout",
       "text": [
        "\n",
        "hilbert 11 19 relative 2 1 0.5 5 1"
       ]
      },
      {
       "output_type": "stream",
       "stream": "stdout",
       "text": [
        "\n",
        "hilbert 11 19 relative 1 2 0.5 2 0"
       ]
      },
      {
       "output_type": "stream",
       "stream": "stdout",
       "text": [
        "\n",
        "hilbert 11 19 relative 1 2 0.5 2 1"
       ]
      },
      {
       "output_type": "stream",
       "stream": "stdout",
       "text": [
        "\n",
        "hilbert 11 19 relative 1 2 0.5 5 0"
       ]
      },
      {
       "output_type": "stream",
       "stream": "stdout",
       "text": [
        "\n",
        "hilbert 11 19 relative 1 2 0.5 5 1"
       ]
      },
      {
       "output_type": "stream",
       "stream": "stdout",
       "text": [
        "\n",
        "hilbert 11 19 relative 1 1.5 0.5 2 0"
       ]
      },
      {
       "output_type": "stream",
       "stream": "stdout",
       "text": [
        "\n",
        "hilbert 11 19 relative 1 1.5 0.5 2 1"
       ]
      },
      {
       "output_type": "stream",
       "stream": "stdout",
       "text": [
        "\n",
        "hilbert 11 19 relative 1 1.5 0.5 5 0"
       ]
      },
      {
       "output_type": "stream",
       "stream": "stdout",
       "text": [
        "\n",
        "hilbert 11 19 relative 1 1.5 0.5 5 1"
       ]
      },
      {
       "output_type": "stream",
       "stream": "stdout",
       "text": [
        "\n",
        "hilbert 11 19 relative 1 1 0.5 2 0"
       ]
      },
      {
       "output_type": "stream",
       "stream": "stdout",
       "text": [
        "\n",
        "hilbert 11 19 relative 1 1 0.5 2 1"
       ]
      },
      {
       "output_type": "stream",
       "stream": "stdout",
       "text": [
        "\n",
        "hilbert 11 19 relative 1 1 0.5 5 0"
       ]
      },
      {
       "output_type": "stream",
       "stream": "stdout",
       "text": [
        "\n",
        "hilbert 11 19 relative 1 1 0.5 5 1"
       ]
      },
      {
       "output_type": "stream",
       "stream": "stdout",
       "text": [
        "\n",
        "hilbert 11 19 maxima 3 2 0.5 2 0"
       ]
      },
      {
       "output_type": "stream",
       "stream": "stdout",
       "text": [
        "\n",
        "hilbert 11 19 maxima 3 2 0.5 2 1"
       ]
      },
      {
       "output_type": "stream",
       "stream": "stdout",
       "text": [
        "\n",
        "hilbert 11 19 maxima 3 2 0.5 5 0"
       ]
      },
      {
       "output_type": "stream",
       "stream": "stdout",
       "text": [
        "\n",
        "hilbert 11 19 maxima 3 2 0.5 5 1"
       ]
      },
      {
       "output_type": "stream",
       "stream": "stdout",
       "text": [
        "\n",
        "hilbert 11 19 maxima 3 1.5 0.5 2 0"
       ]
      },
      {
       "output_type": "stream",
       "stream": "stdout",
       "text": [
        "\n",
        "hilbert 11 19 maxima 3 1.5 0.5 2 1"
       ]
      },
      {
       "output_type": "stream",
       "stream": "stdout",
       "text": [
        "\n",
        "hilbert 11 19 maxima 3 1.5 0.5 5 0"
       ]
      },
      {
       "output_type": "stream",
       "stream": "stdout",
       "text": [
        "\n",
        "hilbert 11 19 maxima 3 1.5 0.5 5 1"
       ]
      },
      {
       "output_type": "stream",
       "stream": "stdout",
       "text": [
        "\n",
        "hilbert 11 19 maxima 3 1 0.5 2 0"
       ]
      },
      {
       "output_type": "stream",
       "stream": "stdout",
       "text": [
        "\n",
        "hilbert 11 19 maxima 3 1 0.5 2 1"
       ]
      },
      {
       "output_type": "stream",
       "stream": "stdout",
       "text": [
        "\n",
        "hilbert 11 19 maxima 3 1 0.5 5 0"
       ]
      },
      {
       "output_type": "stream",
       "stream": "stdout",
       "text": [
        "\n",
        "hilbert 11 19 maxima 3 1 0.5 5 1"
       ]
      },
      {
       "output_type": "stream",
       "stream": "stdout",
       "text": [
        "\n",
        "hilbert 11 19 maxima 2 2 0.5 2 0"
       ]
      },
      {
       "output_type": "stream",
       "stream": "stdout",
       "text": [
        "\n",
        "hilbert 11 19 maxima 2 2 0.5 2 1"
       ]
      },
      {
       "output_type": "stream",
       "stream": "stdout",
       "text": [
        "\n",
        "hilbert 11 19 maxima 2 2 0.5 5 0"
       ]
      },
      {
       "output_type": "stream",
       "stream": "stdout",
       "text": [
        "\n",
        "hilbert 11 19 maxima 2 2 0.5 5 1"
       ]
      },
      {
       "output_type": "stream",
       "stream": "stdout",
       "text": [
        "\n",
        "hilbert 11 19 maxima 2 1.5 0.5 2 0"
       ]
      },
      {
       "output_type": "stream",
       "stream": "stdout",
       "text": [
        "\n",
        "hilbert 11 19 maxima 2 1.5 0.5 2 1"
       ]
      },
      {
       "output_type": "stream",
       "stream": "stdout",
       "text": [
        "\n",
        "hilbert 11 19 maxima 2 1.5 0.5 5 0"
       ]
      },
      {
       "output_type": "stream",
       "stream": "stdout",
       "text": [
        "\n",
        "hilbert 11 19 maxima 2 1.5 0.5 5 1"
       ]
      },
      {
       "output_type": "stream",
       "stream": "stdout",
       "text": [
        "\n",
        "hilbert 11 19 maxima 2 1 0.5 2 0"
       ]
      },
      {
       "output_type": "stream",
       "stream": "stdout",
       "text": [
        "\n",
        "hilbert 11 19 maxima 2 1 0.5 2 1"
       ]
      },
      {
       "output_type": "stream",
       "stream": "stdout",
       "text": [
        "\n",
        "hilbert 11 19 maxima 2 1 0.5 5 0"
       ]
      },
      {
       "output_type": "stream",
       "stream": "stdout",
       "text": [
        "\n",
        "hilbert 11 19 maxima 2 1 0.5 5 1"
       ]
      },
      {
       "output_type": "stream",
       "stream": "stdout",
       "text": [
        "\n",
        "hilbert 11 19 maxima 1 2 0.5 2 0"
       ]
      },
      {
       "output_type": "stream",
       "stream": "stdout",
       "text": [
        "\n",
        "hilbert 11 19 maxima 1 2 0.5 2 1"
       ]
      },
      {
       "output_type": "stream",
       "stream": "stdout",
       "text": [
        "\n",
        "hilbert 11 19 maxima 1 2 0.5 5 0"
       ]
      },
      {
       "output_type": "stream",
       "stream": "stdout",
       "text": [
        "\n",
        "hilbert 11 19 maxima 1 2 0.5 5 1"
       ]
      },
      {
       "output_type": "stream",
       "stream": "stdout",
       "text": [
        "\n",
        "hilbert 11 19 maxima 1 1.5 0.5 2 0"
       ]
      },
      {
       "output_type": "stream",
       "stream": "stdout",
       "text": [
        "\n",
        "hilbert 11 19 maxima 1 1.5 0.5 2 1"
       ]
      },
      {
       "output_type": "stream",
       "stream": "stdout",
       "text": [
        "\n",
        "hilbert 11 19 maxima 1 1.5 0.5 5 0"
       ]
      },
      {
       "output_type": "stream",
       "stream": "stdout",
       "text": [
        "\n",
        "hilbert 11 19 maxima 1 1.5 0.5 5 1"
       ]
      },
      {
       "output_type": "stream",
       "stream": "stdout",
       "text": [
        "\n",
        "hilbert 11 19 maxima 1 1 0.5 2 0"
       ]
      },
      {
       "output_type": "stream",
       "stream": "stdout",
       "text": [
        "\n",
        "hilbert 11 19 maxima 1 1 0.5 2 1"
       ]
      },
      {
       "output_type": "stream",
       "stream": "stdout",
       "text": [
        "\n",
        "hilbert 11 19 maxima 1 1 0.5 5 0"
       ]
      },
      {
       "output_type": "stream",
       "stream": "stdout",
       "text": [
        "\n",
        "hilbert 11 19 maxima 1 1 0.5 5 1"
       ]
      },
      {
       "output_type": "stream",
       "stream": "stdout",
       "text": [
        "\n",
        "hilbert 11 20 relative 3 2 0.5 2 0"
       ]
      },
      {
       "output_type": "stream",
       "stream": "stdout",
       "text": [
        "\n",
        "hilbert 11 20 relative 3 2 0.5 2 1"
       ]
      },
      {
       "output_type": "stream",
       "stream": "stdout",
       "text": [
        "\n",
        "hilbert 11 20 relative 3 2 0.5 5 0"
       ]
      },
      {
       "output_type": "stream",
       "stream": "stdout",
       "text": [
        "\n",
        "hilbert 11 20 relative 3 2 0.5 5 1"
       ]
      },
      {
       "output_type": "stream",
       "stream": "stdout",
       "text": [
        "\n",
        "hilbert 11 20 relative 3 1.5 0.5 2 0"
       ]
      },
      {
       "output_type": "stream",
       "stream": "stdout",
       "text": [
        "\n",
        "hilbert 11 20 relative 3 1.5 0.5 2 1"
       ]
      },
      {
       "output_type": "stream",
       "stream": "stdout",
       "text": [
        "\n",
        "hilbert 11 20 relative 3 1.5 0.5 5 0"
       ]
      },
      {
       "output_type": "stream",
       "stream": "stdout",
       "text": [
        "\n",
        "hilbert 11 20 relative 3 1.5 0.5 5 1"
       ]
      },
      {
       "output_type": "stream",
       "stream": "stdout",
       "text": [
        "\n",
        "hilbert 11 20 relative 3 1 0.5 2 0"
       ]
      },
      {
       "output_type": "stream",
       "stream": "stdout",
       "text": [
        "\n",
        "hilbert 11 20 relative 3 1 0.5 2 1"
       ]
      },
      {
       "output_type": "stream",
       "stream": "stdout",
       "text": [
        "\n",
        "hilbert 11 20 relative 3 1 0.5 5 0"
       ]
      },
      {
       "output_type": "stream",
       "stream": "stdout",
       "text": [
        "\n",
        "hilbert 11 20 relative 3 1 0.5 5 1"
       ]
      },
      {
       "output_type": "stream",
       "stream": "stdout",
       "text": [
        "\n",
        "hilbert 11 20 relative 2 2 0.5 2 0"
       ]
      },
      {
       "output_type": "stream",
       "stream": "stdout",
       "text": [
        "\n",
        "hilbert 11 20 relative 2 2 0.5 2 1"
       ]
      },
      {
       "output_type": "stream",
       "stream": "stdout",
       "text": [
        "\n",
        "hilbert 11 20 relative 2 2 0.5 5 0"
       ]
      },
      {
       "output_type": "stream",
       "stream": "stdout",
       "text": [
        "\n",
        "hilbert 11 20 relative 2 2 0.5 5 1"
       ]
      },
      {
       "output_type": "stream",
       "stream": "stdout",
       "text": [
        "\n",
        "hilbert 11 20 relative 2 1.5 0.5 2 0"
       ]
      },
      {
       "output_type": "stream",
       "stream": "stdout",
       "text": [
        "\n",
        "hilbert 11 20 relative 2 1.5 0.5 2 1"
       ]
      },
      {
       "output_type": "stream",
       "stream": "stdout",
       "text": [
        "\n",
        "hilbert 11 20 relative 2 1.5 0.5 5 0"
       ]
      },
      {
       "output_type": "stream",
       "stream": "stdout",
       "text": [
        "\n",
        "hilbert 11 20 relative 2 1.5 0.5 5 1"
       ]
      },
      {
       "output_type": "stream",
       "stream": "stdout",
       "text": [
        "\n",
        "hilbert 11 20 relative 2 1 0.5 2 0"
       ]
      },
      {
       "output_type": "stream",
       "stream": "stdout",
       "text": [
        "\n",
        "hilbert 11 20 relative 2 1 0.5 2 1"
       ]
      },
      {
       "output_type": "stream",
       "stream": "stdout",
       "text": [
        "\n",
        "hilbert 11 20 relative 2 1 0.5 5 0"
       ]
      },
      {
       "output_type": "stream",
       "stream": "stdout",
       "text": [
        "\n",
        "hilbert 11 20 relative 2 1 0.5 5 1"
       ]
      },
      {
       "output_type": "stream",
       "stream": "stdout",
       "text": [
        "\n",
        "hilbert 11 20 relative 1 2 0.5 2 0"
       ]
      },
      {
       "output_type": "stream",
       "stream": "stdout",
       "text": [
        "\n",
        "hilbert 11 20 relative 1 2 0.5 2 1"
       ]
      },
      {
       "output_type": "stream",
       "stream": "stdout",
       "text": [
        "\n",
        "hilbert 11 20 relative 1 2 0.5 5 0"
       ]
      },
      {
       "output_type": "stream",
       "stream": "stdout",
       "text": [
        "\n",
        "hilbert 11 20 relative 1 2 0.5 5 1"
       ]
      },
      {
       "output_type": "stream",
       "stream": "stdout",
       "text": [
        "\n",
        "hilbert 11 20 relative 1 1.5 0.5 2 0"
       ]
      },
      {
       "output_type": "stream",
       "stream": "stdout",
       "text": [
        "\n",
        "hilbert 11 20 relative 1 1.5 0.5 2 1"
       ]
      },
      {
       "output_type": "stream",
       "stream": "stdout",
       "text": [
        "\n",
        "hilbert 11 20 relative 1 1.5 0.5 5 0"
       ]
      },
      {
       "output_type": "stream",
       "stream": "stdout",
       "text": [
        "\n",
        "hilbert 11 20 relative 1 1.5 0.5 5 1"
       ]
      },
      {
       "output_type": "stream",
       "stream": "stdout",
       "text": [
        "\n",
        "hilbert 11 20 relative 1 1 0.5 2 0"
       ]
      },
      {
       "output_type": "stream",
       "stream": "stdout",
       "text": [
        "\n",
        "hilbert 11 20 relative 1 1 0.5 2 1"
       ]
      },
      {
       "output_type": "stream",
       "stream": "stdout",
       "text": [
        "\n",
        "hilbert 11 20 relative 1 1 0.5 5 0"
       ]
      },
      {
       "output_type": "stream",
       "stream": "stdout",
       "text": [
        "\n",
        "hilbert 11 20 relative 1 1 0.5 5 1"
       ]
      },
      {
       "output_type": "stream",
       "stream": "stdout",
       "text": [
        "\n",
        "hilbert 11 20 maxima 3 2 0.5 2 0"
       ]
      },
      {
       "output_type": "stream",
       "stream": "stdout",
       "text": [
        "\n",
        "hilbert 11 20 maxima 3 2 0.5 2 1"
       ]
      },
      {
       "output_type": "stream",
       "stream": "stdout",
       "text": [
        "\n",
        "hilbert 11 20 maxima 3 2 0.5 5 0"
       ]
      },
      {
       "output_type": "stream",
       "stream": "stdout",
       "text": [
        "\n",
        "hilbert 11 20 maxima 3 2 0.5 5 1"
       ]
      },
      {
       "output_type": "stream",
       "stream": "stdout",
       "text": [
        "\n",
        "hilbert 11 20 maxima 3 1.5 0.5 2 0"
       ]
      },
      {
       "output_type": "stream",
       "stream": "stdout",
       "text": [
        "\n",
        "hilbert 11 20 maxima 3 1.5 0.5 2 1"
       ]
      },
      {
       "output_type": "stream",
       "stream": "stdout",
       "text": [
        "\n",
        "hilbert 11 20 maxima 3 1.5 0.5 5 0"
       ]
      },
      {
       "output_type": "stream",
       "stream": "stdout",
       "text": [
        "\n",
        "hilbert 11 20 maxima 3 1.5 0.5 5 1"
       ]
      },
      {
       "output_type": "stream",
       "stream": "stdout",
       "text": [
        "\n",
        "hilbert 11 20 maxima 3 1 0.5 2 0"
       ]
      },
      {
       "output_type": "stream",
       "stream": "stdout",
       "text": [
        "\n",
        "hilbert 11 20 maxima 3 1 0.5 2 1"
       ]
      },
      {
       "output_type": "stream",
       "stream": "stdout",
       "text": [
        "\n",
        "hilbert 11 20 maxima 3 1 0.5 5 0"
       ]
      },
      {
       "output_type": "stream",
       "stream": "stdout",
       "text": [
        "\n",
        "hilbert 11 20 maxima 3 1 0.5 5 1"
       ]
      },
      {
       "output_type": "stream",
       "stream": "stdout",
       "text": [
        "\n",
        "hilbert 11 20 maxima 2 2 0.5 2 0"
       ]
      },
      {
       "output_type": "stream",
       "stream": "stdout",
       "text": [
        "\n",
        "hilbert 11 20 maxima 2 2 0.5 2 1"
       ]
      },
      {
       "output_type": "stream",
       "stream": "stdout",
       "text": [
        "\n",
        "hilbert 11 20 maxima 2 2 0.5 5 0"
       ]
      },
      {
       "output_type": "stream",
       "stream": "stdout",
       "text": [
        "\n",
        "hilbert 11 20 maxima 2 2 0.5 5 1"
       ]
      },
      {
       "output_type": "stream",
       "stream": "stdout",
       "text": [
        "\n",
        "hilbert 11 20 maxima 2 1.5 0.5 2 0"
       ]
      },
      {
       "output_type": "stream",
       "stream": "stdout",
       "text": [
        "\n",
        "hilbert 11 20 maxima 2 1.5 0.5 2 1"
       ]
      },
      {
       "output_type": "stream",
       "stream": "stdout",
       "text": [
        "\n",
        "hilbert 11 20 maxima 2 1.5 0.5 5 0"
       ]
      },
      {
       "output_type": "stream",
       "stream": "stdout",
       "text": [
        "\n",
        "hilbert 11 20 maxima 2 1.5 0.5 5 1"
       ]
      },
      {
       "output_type": "stream",
       "stream": "stdout",
       "text": [
        "\n",
        "hilbert 11 20 maxima 2 1 0.5 2 0"
       ]
      },
      {
       "output_type": "stream",
       "stream": "stdout",
       "text": [
        "\n",
        "hilbert 11 20 maxima 2 1 0.5 2 1"
       ]
      },
      {
       "output_type": "stream",
       "stream": "stdout",
       "text": [
        "\n",
        "hilbert 11 20 maxima 2 1 0.5 5 0"
       ]
      },
      {
       "output_type": "stream",
       "stream": "stdout",
       "text": [
        "\n",
        "hilbert 11 20 maxima 2 1 0.5 5 1"
       ]
      },
      {
       "output_type": "stream",
       "stream": "stdout",
       "text": [
        "\n",
        "hilbert 11 20 maxima 1 2 0.5 2 0"
       ]
      },
      {
       "output_type": "stream",
       "stream": "stdout",
       "text": [
        "\n",
        "hilbert 11 20 maxima 1 2 0.5 2 1"
       ]
      },
      {
       "output_type": "stream",
       "stream": "stdout",
       "text": [
        "\n",
        "hilbert 11 20 maxima 1 2 0.5 5 0"
       ]
      },
      {
       "output_type": "stream",
       "stream": "stdout",
       "text": [
        "\n",
        "hilbert 11 20 maxima 1 2 0.5 5 1"
       ]
      },
      {
       "output_type": "stream",
       "stream": "stdout",
       "text": [
        "\n",
        "hilbert 11 20 maxima 1 1.5 0.5 2 0"
       ]
      },
      {
       "output_type": "stream",
       "stream": "stdout",
       "text": [
        "\n",
        "hilbert 11 20 maxima 1 1.5 0.5 2 1"
       ]
      },
      {
       "output_type": "stream",
       "stream": "stdout",
       "text": [
        "\n",
        "hilbert 11 20 maxima 1 1.5 0.5 5 0"
       ]
      },
      {
       "output_type": "stream",
       "stream": "stdout",
       "text": [
        "\n",
        "hilbert 11 20 maxima 1 1.5 0.5 5 1"
       ]
      },
      {
       "output_type": "stream",
       "stream": "stdout",
       "text": [
        "\n",
        "hilbert 11 20 maxima 1 1 0.5 2 0"
       ]
      },
      {
       "output_type": "stream",
       "stream": "stdout",
       "text": [
        "\n",
        "hilbert 11 20 maxima 1 1 0.5 2 1"
       ]
      },
      {
       "output_type": "stream",
       "stream": "stdout",
       "text": [
        "\n",
        "hilbert 11 20 maxima 1 1 0.5 5 0"
       ]
      },
      {
       "output_type": "stream",
       "stream": "stdout",
       "text": [
        "\n",
        "hilbert 11 20 maxima 1 1 0.5 5 1"
       ]
      },
      {
       "output_type": "stream",
       "stream": "stdout",
       "text": [
        "\n",
        "hilbert 12 17 relative 3 2 0.5 2 0"
       ]
      },
      {
       "output_type": "stream",
       "stream": "stdout",
       "text": [
        "\n",
        "hilbert 12 17 relative 3 2 0.5 2 1"
       ]
      },
      {
       "output_type": "stream",
       "stream": "stdout",
       "text": [
        "\n",
        "hilbert 12 17 relative 3 2 0.5 5 0"
       ]
      },
      {
       "output_type": "stream",
       "stream": "stdout",
       "text": [
        "\n",
        "hilbert 12 17 relative 3 2 0.5 5 1"
       ]
      },
      {
       "output_type": "stream",
       "stream": "stdout",
       "text": [
        "\n",
        "hilbert 12 17 relative 3 1.5 0.5 2 0"
       ]
      },
      {
       "output_type": "stream",
       "stream": "stdout",
       "text": [
        "\n",
        "hilbert 12 17 relative 3 1.5 0.5 2 1"
       ]
      },
      {
       "output_type": "stream",
       "stream": "stdout",
       "text": [
        "\n",
        "hilbert 12 17 relative 3 1.5 0.5 5 0"
       ]
      },
      {
       "output_type": "stream",
       "stream": "stdout",
       "text": [
        "\n",
        "hilbert 12 17 relative 3 1.5 0.5 5 1"
       ]
      },
      {
       "output_type": "stream",
       "stream": "stdout",
       "text": [
        "\n",
        "hilbert 12 17 relative 3 1 0.5 2 0"
       ]
      },
      {
       "output_type": "stream",
       "stream": "stdout",
       "text": [
        "\n",
        "hilbert 12 17 relative 3 1 0.5 2 1"
       ]
      },
      {
       "output_type": "stream",
       "stream": "stdout",
       "text": [
        "\n",
        "hilbert 12 17 relative 3 1 0.5 5 0"
       ]
      },
      {
       "output_type": "stream",
       "stream": "stdout",
       "text": [
        "\n",
        "hilbert 12 17 relative 3 1 0.5 5 1"
       ]
      },
      {
       "output_type": "stream",
       "stream": "stdout",
       "text": [
        "\n",
        "hilbert 12 17 relative 2 2 0.5 2 0"
       ]
      },
      {
       "output_type": "stream",
       "stream": "stdout",
       "text": [
        "\n",
        "hilbert 12 17 relative 2 2 0.5 2 1"
       ]
      },
      {
       "output_type": "stream",
       "stream": "stdout",
       "text": [
        "\n",
        "hilbert 12 17 relative 2 2 0.5 5 0"
       ]
      },
      {
       "output_type": "stream",
       "stream": "stdout",
       "text": [
        "\n",
        "hilbert 12 17 relative 2 2 0.5 5 1"
       ]
      },
      {
       "output_type": "stream",
       "stream": "stdout",
       "text": [
        "\n",
        "hilbert 12 17 relative 2 1.5 0.5 2 0"
       ]
      },
      {
       "output_type": "stream",
       "stream": "stdout",
       "text": [
        "\n",
        "hilbert 12 17 relative 2 1.5 0.5 2 1"
       ]
      },
      {
       "output_type": "stream",
       "stream": "stdout",
       "text": [
        "\n",
        "hilbert 12 17 relative 2 1.5 0.5 5 0"
       ]
      },
      {
       "output_type": "stream",
       "stream": "stdout",
       "text": [
        "\n",
        "hilbert 12 17 relative 2 1.5 0.5 5 1"
       ]
      },
      {
       "output_type": "stream",
       "stream": "stdout",
       "text": [
        "\n",
        "hilbert 12 17 relative 2 1 0.5 2 0"
       ]
      },
      {
       "output_type": "stream",
       "stream": "stdout",
       "text": [
        "\n",
        "hilbert 12 17 relative 2 1 0.5 2 1"
       ]
      },
      {
       "output_type": "stream",
       "stream": "stdout",
       "text": [
        "\n",
        "hilbert 12 17 relative 2 1 0.5 5 0"
       ]
      },
      {
       "output_type": "stream",
       "stream": "stdout",
       "text": [
        "\n",
        "hilbert 12 17 relative 2 1 0.5 5 1"
       ]
      },
      {
       "output_type": "stream",
       "stream": "stdout",
       "text": [
        "\n",
        "hilbert 12 17 relative 1 2 0.5 2 0"
       ]
      },
      {
       "output_type": "stream",
       "stream": "stdout",
       "text": [
        "\n",
        "hilbert 12 17 relative 1 2 0.5 2 1"
       ]
      },
      {
       "output_type": "stream",
       "stream": "stdout",
       "text": [
        "\n",
        "hilbert 12 17 relative 1 2 0.5 5 0"
       ]
      },
      {
       "output_type": "stream",
       "stream": "stdout",
       "text": [
        "\n",
        "hilbert 12 17 relative 1 2 0.5 5 1"
       ]
      },
      {
       "output_type": "stream",
       "stream": "stdout",
       "text": [
        "\n",
        "hilbert 12 17 relative 1 1.5 0.5 2 0"
       ]
      },
      {
       "output_type": "stream",
       "stream": "stdout",
       "text": [
        "\n",
        "hilbert 12 17 relative 1 1.5 0.5 2 1"
       ]
      },
      {
       "output_type": "stream",
       "stream": "stdout",
       "text": [
        "\n",
        "hilbert 12 17 relative 1 1.5 0.5 5 0"
       ]
      },
      {
       "output_type": "stream",
       "stream": "stdout",
       "text": [
        "\n",
        "hilbert 12 17 relative 1 1.5 0.5 5 1"
       ]
      },
      {
       "output_type": "stream",
       "stream": "stdout",
       "text": [
        "\n",
        "hilbert 12 17 relative 1 1 0.5 2 0"
       ]
      },
      {
       "output_type": "stream",
       "stream": "stdout",
       "text": [
        "\n",
        "hilbert 12 17 relative 1 1 0.5 2 1"
       ]
      },
      {
       "output_type": "stream",
       "stream": "stdout",
       "text": [
        "\n",
        "hilbert 12 17 relative 1 1 0.5 5 0"
       ]
      },
      {
       "output_type": "stream",
       "stream": "stdout",
       "text": [
        "\n",
        "hilbert 12 17 relative 1 1 0.5 5 1"
       ]
      },
      {
       "output_type": "stream",
       "stream": "stdout",
       "text": [
        "\n",
        "hilbert 12 17 maxima 3 2 0.5 2 0"
       ]
      },
      {
       "output_type": "stream",
       "stream": "stdout",
       "text": [
        "\n",
        "hilbert 12 17 maxima 3 2 0.5 2 1"
       ]
      },
      {
       "output_type": "stream",
       "stream": "stdout",
       "text": [
        "\n",
        "hilbert 12 17 maxima 3 2 0.5 5 0"
       ]
      },
      {
       "output_type": "stream",
       "stream": "stdout",
       "text": [
        "\n",
        "hilbert 12 17 maxima 3 2 0.5 5 1"
       ]
      },
      {
       "output_type": "stream",
       "stream": "stdout",
       "text": [
        "\n",
        "hilbert 12 17 maxima 3 1.5 0.5 2 0"
       ]
      },
      {
       "output_type": "stream",
       "stream": "stdout",
       "text": [
        "\n",
        "hilbert 12 17 maxima 3 1.5 0.5 2 1"
       ]
      },
      {
       "output_type": "stream",
       "stream": "stdout",
       "text": [
        "\n",
        "hilbert 12 17 maxima 3 1.5 0.5 5 0"
       ]
      },
      {
       "output_type": "stream",
       "stream": "stdout",
       "text": [
        "\n",
        "hilbert 12 17 maxima 3 1.5 0.5 5 1"
       ]
      },
      {
       "output_type": "stream",
       "stream": "stdout",
       "text": [
        "\n",
        "hilbert 12 17 maxima 3 1 0.5 2 0"
       ]
      },
      {
       "output_type": "stream",
       "stream": "stdout",
       "text": [
        "\n",
        "hilbert 12 17 maxima 3 1 0.5 2 1"
       ]
      },
      {
       "output_type": "stream",
       "stream": "stdout",
       "text": [
        "\n",
        "hilbert 12 17 maxima 3 1 0.5 5 0"
       ]
      },
      {
       "output_type": "stream",
       "stream": "stdout",
       "text": [
        "\n",
        "hilbert 12 17 maxima 3 1 0.5 5 1"
       ]
      },
      {
       "output_type": "stream",
       "stream": "stdout",
       "text": [
        "\n",
        "hilbert 12 17 maxima 2 2 0.5 2 0"
       ]
      },
      {
       "output_type": "stream",
       "stream": "stdout",
       "text": [
        "\n",
        "hilbert 12 17 maxima 2 2 0.5 2 1"
       ]
      },
      {
       "output_type": "stream",
       "stream": "stdout",
       "text": [
        "\n",
        "hilbert 12 17 maxima 2 2 0.5 5 0"
       ]
      },
      {
       "output_type": "stream",
       "stream": "stdout",
       "text": [
        "\n",
        "hilbert 12 17 maxima 2 2 0.5 5 1"
       ]
      },
      {
       "output_type": "stream",
       "stream": "stdout",
       "text": [
        "\n",
        "hilbert 12 17 maxima 2 1.5 0.5 2 0"
       ]
      },
      {
       "output_type": "stream",
       "stream": "stdout",
       "text": [
        "\n",
        "hilbert 12 17 maxima 2 1.5 0.5 2 1"
       ]
      },
      {
       "output_type": "stream",
       "stream": "stdout",
       "text": [
        "\n",
        "hilbert 12 17 maxima 2 1.5 0.5 5 0"
       ]
      },
      {
       "output_type": "stream",
       "stream": "stdout",
       "text": [
        "\n",
        "hilbert 12 17 maxima 2 1.5 0.5 5 1"
       ]
      },
      {
       "output_type": "stream",
       "stream": "stdout",
       "text": [
        "\n",
        "hilbert 12 17 maxima 2 1 0.5 2 0"
       ]
      },
      {
       "output_type": "stream",
       "stream": "stdout",
       "text": [
        "\n",
        "hilbert 12 17 maxima 2 1 0.5 2 1"
       ]
      },
      {
       "output_type": "stream",
       "stream": "stdout",
       "text": [
        "\n",
        "hilbert 12 17 maxima 2 1 0.5 5 0"
       ]
      },
      {
       "output_type": "stream",
       "stream": "stdout",
       "text": [
        "\n",
        "hilbert 12 17 maxima 2 1 0.5 5 1"
       ]
      },
      {
       "output_type": "stream",
       "stream": "stdout",
       "text": [
        "\n",
        "hilbert 12 17 maxima 1 2 0.5 2 0"
       ]
      },
      {
       "output_type": "stream",
       "stream": "stdout",
       "text": [
        "\n",
        "hilbert 12 17 maxima 1 2 0.5 2 1"
       ]
      },
      {
       "output_type": "stream",
       "stream": "stdout",
       "text": [
        "\n",
        "hilbert 12 17 maxima 1 2 0.5 5 0"
       ]
      },
      {
       "output_type": "stream",
       "stream": "stdout",
       "text": [
        "\n",
        "hilbert 12 17 maxima 1 2 0.5 5 1"
       ]
      },
      {
       "output_type": "stream",
       "stream": "stdout",
       "text": [
        "\n",
        "hilbert 12 17 maxima 1 1.5 0.5 2 0"
       ]
      },
      {
       "output_type": "stream",
       "stream": "stdout",
       "text": [
        "\n",
        "hilbert 12 17 maxima 1 1.5 0.5 2 1"
       ]
      },
      {
       "output_type": "stream",
       "stream": "stdout",
       "text": [
        "\n",
        "hilbert 12 17 maxima 1 1.5 0.5 5 0"
       ]
      },
      {
       "output_type": "stream",
       "stream": "stdout",
       "text": [
        "\n",
        "hilbert 12 17 maxima 1 1.5 0.5 5 1"
       ]
      },
      {
       "output_type": "stream",
       "stream": "stdout",
       "text": [
        "\n",
        "hilbert 12 17 maxima 1 1 0.5 2 0"
       ]
      },
      {
       "output_type": "stream",
       "stream": "stdout",
       "text": [
        "\n",
        "hilbert 12 17 maxima 1 1 0.5 2 1"
       ]
      },
      {
       "output_type": "stream",
       "stream": "stdout",
       "text": [
        "\n",
        "hilbert 12 17 maxima 1 1 0.5 5 0"
       ]
      },
      {
       "output_type": "stream",
       "stream": "stdout",
       "text": [
        "\n",
        "hilbert 12 17 maxima 1 1 0.5 5 1"
       ]
      },
      {
       "output_type": "stream",
       "stream": "stdout",
       "text": [
        "\n",
        "hilbert 12 18 relative 3 2 0.5 2 0"
       ]
      },
      {
       "output_type": "stream",
       "stream": "stdout",
       "text": [
        "\n",
        "hilbert 12 18 relative 3 2 0.5 2 1"
       ]
      },
      {
       "output_type": "stream",
       "stream": "stdout",
       "text": [
        "\n",
        "hilbert 12 18 relative 3 2 0.5 5 0"
       ]
      },
      {
       "output_type": "stream",
       "stream": "stdout",
       "text": [
        "\n",
        "hilbert 12 18 relative 3 2 0.5 5 1"
       ]
      },
      {
       "output_type": "stream",
       "stream": "stdout",
       "text": [
        "\n",
        "hilbert 12 18 relative 3 1.5 0.5 2 0"
       ]
      },
      {
       "output_type": "stream",
       "stream": "stdout",
       "text": [
        "\n",
        "hilbert 12 18 relative 3 1.5 0.5 2 1"
       ]
      },
      {
       "output_type": "stream",
       "stream": "stdout",
       "text": [
        "\n",
        "hilbert 12 18 relative 3 1.5 0.5 5 0"
       ]
      },
      {
       "output_type": "stream",
       "stream": "stdout",
       "text": [
        "\n",
        "hilbert 12 18 relative 3 1.5 0.5 5 1"
       ]
      },
      {
       "output_type": "stream",
       "stream": "stdout",
       "text": [
        "\n",
        "hilbert 12 18 relative 3 1 0.5 2 0"
       ]
      },
      {
       "output_type": "stream",
       "stream": "stdout",
       "text": [
        "\n",
        "hilbert 12 18 relative 3 1 0.5 2 1"
       ]
      },
      {
       "output_type": "stream",
       "stream": "stdout",
       "text": [
        "\n",
        "hilbert 12 18 relative 3 1 0.5 5 0"
       ]
      },
      {
       "output_type": "stream",
       "stream": "stdout",
       "text": [
        "\n",
        "hilbert 12 18 relative 3 1 0.5 5 1"
       ]
      },
      {
       "output_type": "stream",
       "stream": "stdout",
       "text": [
        "\n",
        "hilbert 12 18 relative 2 2 0.5 2 0"
       ]
      },
      {
       "output_type": "stream",
       "stream": "stdout",
       "text": [
        "\n",
        "hilbert 12 18 relative 2 2 0.5 2 1"
       ]
      },
      {
       "output_type": "stream",
       "stream": "stdout",
       "text": [
        "\n",
        "hilbert 12 18 relative 2 2 0.5 5 0"
       ]
      },
      {
       "output_type": "stream",
       "stream": "stdout",
       "text": [
        "\n",
        "hilbert 12 18 relative 2 2 0.5 5 1"
       ]
      },
      {
       "output_type": "stream",
       "stream": "stdout",
       "text": [
        "\n",
        "hilbert 12 18 relative 2 1.5 0.5 2 0"
       ]
      },
      {
       "output_type": "stream",
       "stream": "stdout",
       "text": [
        "\n",
        "hilbert 12 18 relative 2 1.5 0.5 2 1"
       ]
      },
      {
       "output_type": "stream",
       "stream": "stdout",
       "text": [
        "\n",
        "hilbert 12 18 relative 2 1.5 0.5 5 0"
       ]
      },
      {
       "output_type": "stream",
       "stream": "stdout",
       "text": [
        "\n",
        "hilbert 12 18 relative 2 1.5 0.5 5 1"
       ]
      },
      {
       "output_type": "stream",
       "stream": "stdout",
       "text": [
        "\n",
        "hilbert 12 18 relative 2 1 0.5 2 0"
       ]
      },
      {
       "output_type": "stream",
       "stream": "stdout",
       "text": [
        "\n",
        "hilbert 12 18 relative 2 1 0.5 2 1"
       ]
      },
      {
       "output_type": "stream",
       "stream": "stdout",
       "text": [
        "\n",
        "hilbert 12 18 relative 2 1 0.5 5 0"
       ]
      },
      {
       "output_type": "stream",
       "stream": "stdout",
       "text": [
        "\n",
        "hilbert 12 18 relative 2 1 0.5 5 1"
       ]
      },
      {
       "output_type": "stream",
       "stream": "stdout",
       "text": [
        "\n",
        "hilbert 12 18 relative 1 2 0.5 2 0"
       ]
      },
      {
       "output_type": "stream",
       "stream": "stdout",
       "text": [
        "\n",
        "hilbert 12 18 relative 1 2 0.5 2 1"
       ]
      },
      {
       "output_type": "stream",
       "stream": "stdout",
       "text": [
        "\n",
        "hilbert 12 18 relative 1 2 0.5 5 0"
       ]
      },
      {
       "output_type": "stream",
       "stream": "stdout",
       "text": [
        "\n",
        "hilbert 12 18 relative 1 2 0.5 5 1"
       ]
      },
      {
       "output_type": "stream",
       "stream": "stdout",
       "text": [
        "\n",
        "hilbert 12 18 relative 1 1.5 0.5 2 0"
       ]
      },
      {
       "output_type": "stream",
       "stream": "stdout",
       "text": [
        "\n",
        "hilbert 12 18 relative 1 1.5 0.5 2 1"
       ]
      },
      {
       "output_type": "stream",
       "stream": "stdout",
       "text": [
        "\n",
        "hilbert 12 18 relative 1 1.5 0.5 5 0"
       ]
      },
      {
       "output_type": "stream",
       "stream": "stdout",
       "text": [
        "\n",
        "hilbert 12 18 relative 1 1.5 0.5 5 1"
       ]
      },
      {
       "output_type": "stream",
       "stream": "stdout",
       "text": [
        "\n",
        "hilbert 12 18 relative 1 1 0.5 2 0"
       ]
      },
      {
       "output_type": "stream",
       "stream": "stdout",
       "text": [
        "\n",
        "hilbert 12 18 relative 1 1 0.5 2 1"
       ]
      },
      {
       "output_type": "stream",
       "stream": "stdout",
       "text": [
        "\n",
        "hilbert 12 18 relative 1 1 0.5 5 0"
       ]
      },
      {
       "output_type": "stream",
       "stream": "stdout",
       "text": [
        "\n",
        "hilbert 12 18 relative 1 1 0.5 5 1"
       ]
      },
      {
       "output_type": "stream",
       "stream": "stdout",
       "text": [
        "\n",
        "hilbert 12 18 maxima 3 2 0.5 2 0"
       ]
      },
      {
       "output_type": "stream",
       "stream": "stdout",
       "text": [
        "\n",
        "hilbert 12 18 maxima 3 2 0.5 2 1"
       ]
      },
      {
       "output_type": "stream",
       "stream": "stdout",
       "text": [
        "\n",
        "hilbert 12 18 maxima 3 2 0.5 5 0"
       ]
      },
      {
       "output_type": "stream",
       "stream": "stdout",
       "text": [
        "\n",
        "hilbert 12 18 maxima 3 2 0.5 5 1"
       ]
      },
      {
       "output_type": "stream",
       "stream": "stdout",
       "text": [
        "\n",
        "hilbert 12 18 maxima 3 1.5 0.5 2 0"
       ]
      },
      {
       "output_type": "stream",
       "stream": "stdout",
       "text": [
        "\n",
        "hilbert 12 18 maxima 3 1.5 0.5 2 1"
       ]
      },
      {
       "output_type": "stream",
       "stream": "stdout",
       "text": [
        "\n",
        "hilbert 12 18 maxima 3 1.5 0.5 5 0"
       ]
      },
      {
       "output_type": "stream",
       "stream": "stdout",
       "text": [
        "\n",
        "hilbert 12 18 maxima 3 1.5 0.5 5 1"
       ]
      },
      {
       "output_type": "stream",
       "stream": "stdout",
       "text": [
        "\n",
        "hilbert 12 18 maxima 3 1 0.5 2 0"
       ]
      },
      {
       "output_type": "stream",
       "stream": "stdout",
       "text": [
        "\n",
        "hilbert 12 18 maxima 3 1 0.5 2 1"
       ]
      },
      {
       "output_type": "stream",
       "stream": "stdout",
       "text": [
        "\n",
        "hilbert 12 18 maxima 3 1 0.5 5 0"
       ]
      },
      {
       "output_type": "stream",
       "stream": "stdout",
       "text": [
        "\n",
        "hilbert 12 18 maxima 3 1 0.5 5 1"
       ]
      },
      {
       "output_type": "stream",
       "stream": "stdout",
       "text": [
        "\n",
        "hilbert 12 18 maxima 2 2 0.5 2 0"
       ]
      },
      {
       "output_type": "stream",
       "stream": "stdout",
       "text": [
        "\n",
        "hilbert 12 18 maxima 2 2 0.5 2 1"
       ]
      },
      {
       "output_type": "stream",
       "stream": "stdout",
       "text": [
        "\n",
        "hilbert 12 18 maxima 2 2 0.5 5 0"
       ]
      },
      {
       "output_type": "stream",
       "stream": "stdout",
       "text": [
        "\n",
        "hilbert 12 18 maxima 2 2 0.5 5 1"
       ]
      },
      {
       "output_type": "stream",
       "stream": "stdout",
       "text": [
        "\n",
        "hilbert 12 18 maxima 2 1.5 0.5 2 0"
       ]
      },
      {
       "output_type": "stream",
       "stream": "stdout",
       "text": [
        "\n",
        "hilbert 12 18 maxima 2 1.5 0.5 2 1"
       ]
      },
      {
       "output_type": "stream",
       "stream": "stdout",
       "text": [
        "\n",
        "hilbert 12 18 maxima 2 1.5 0.5 5 0"
       ]
      },
      {
       "output_type": "stream",
       "stream": "stdout",
       "text": [
        "\n",
        "hilbert 12 18 maxima 2 1.5 0.5 5 1"
       ]
      },
      {
       "output_type": "stream",
       "stream": "stdout",
       "text": [
        "\n",
        "hilbert 12 18 maxima 2 1 0.5 2 0"
       ]
      },
      {
       "output_type": "stream",
       "stream": "stdout",
       "text": [
        "\n",
        "hilbert 12 18 maxima 2 1 0.5 2 1"
       ]
      },
      {
       "output_type": "stream",
       "stream": "stdout",
       "text": [
        "\n",
        "hilbert 12 18 maxima 2 1 0.5 5 0"
       ]
      },
      {
       "output_type": "stream",
       "stream": "stdout",
       "text": [
        "\n",
        "hilbert 12 18 maxima 2 1 0.5 5 1"
       ]
      },
      {
       "output_type": "stream",
       "stream": "stdout",
       "text": [
        "\n",
        "hilbert 12 18 maxima 1 2 0.5 2 0"
       ]
      },
      {
       "output_type": "stream",
       "stream": "stdout",
       "text": [
        "\n",
        "hilbert 12 18 maxima 1 2 0.5 2 1"
       ]
      },
      {
       "output_type": "stream",
       "stream": "stdout",
       "text": [
        "\n",
        "hilbert 12 18 maxima 1 2 0.5 5 0"
       ]
      },
      {
       "output_type": "stream",
       "stream": "stdout",
       "text": [
        "\n",
        "hilbert 12 18 maxima 1 2 0.5 5 1"
       ]
      },
      {
       "output_type": "stream",
       "stream": "stdout",
       "text": [
        "\n",
        "hilbert 12 18 maxima 1 1.5 0.5 2 0"
       ]
      },
      {
       "output_type": "stream",
       "stream": "stdout",
       "text": [
        "\n",
        "hilbert 12 18 maxima 1 1.5 0.5 2 1"
       ]
      },
      {
       "output_type": "stream",
       "stream": "stdout",
       "text": [
        "\n",
        "hilbert 12 18 maxima 1 1.5 0.5 5 0"
       ]
      },
      {
       "output_type": "stream",
       "stream": "stdout",
       "text": [
        "\n",
        "hilbert 12 18 maxima 1 1.5 0.5 5 1"
       ]
      },
      {
       "output_type": "stream",
       "stream": "stdout",
       "text": [
        "\n",
        "hilbert 12 18 maxima 1 1 0.5 2 0"
       ]
      },
      {
       "output_type": "stream",
       "stream": "stdout",
       "text": [
        "\n",
        "hilbert 12 18 maxima 1 1 0.5 2 1"
       ]
      },
      {
       "output_type": "stream",
       "stream": "stdout",
       "text": [
        "\n",
        "hilbert 12 18 maxima 1 1 0.5 5 0"
       ]
      },
      {
       "output_type": "stream",
       "stream": "stdout",
       "text": [
        "\n",
        "hilbert 12 18 maxima 1 1 0.5 5 1"
       ]
      },
      {
       "output_type": "stream",
       "stream": "stdout",
       "text": [
        "\n",
        "hilbert 12 19 relative 3 2 0.5 2 0"
       ]
      },
      {
       "output_type": "stream",
       "stream": "stdout",
       "text": [
        "\n",
        "hilbert 12 19 relative 3 2 0.5 2 1"
       ]
      },
      {
       "output_type": "stream",
       "stream": "stdout",
       "text": [
        "\n",
        "hilbert 12 19 relative 3 2 0.5 5 0"
       ]
      },
      {
       "output_type": "stream",
       "stream": "stdout",
       "text": [
        "\n",
        "hilbert 12 19 relative 3 2 0.5 5 1"
       ]
      },
      {
       "output_type": "stream",
       "stream": "stdout",
       "text": [
        "\n",
        "hilbert 12 19 relative 3 1.5 0.5 2 0"
       ]
      },
      {
       "output_type": "stream",
       "stream": "stdout",
       "text": [
        "\n",
        "hilbert 12 19 relative 3 1.5 0.5 2 1"
       ]
      },
      {
       "output_type": "stream",
       "stream": "stdout",
       "text": [
        "\n",
        "hilbert 12 19 relative 3 1.5 0.5 5 0"
       ]
      },
      {
       "output_type": "stream",
       "stream": "stdout",
       "text": [
        "\n",
        "hilbert 12 19 relative 3 1.5 0.5 5 1"
       ]
      },
      {
       "output_type": "stream",
       "stream": "stdout",
       "text": [
        "\n",
        "hilbert 12 19 relative 3 1 0.5 2 0"
       ]
      },
      {
       "output_type": "stream",
       "stream": "stdout",
       "text": [
        "\n",
        "hilbert 12 19 relative 3 1 0.5 2 1"
       ]
      },
      {
       "output_type": "stream",
       "stream": "stdout",
       "text": [
        "\n",
        "hilbert 12 19 relative 3 1 0.5 5 0"
       ]
      },
      {
       "output_type": "stream",
       "stream": "stdout",
       "text": [
        "\n",
        "hilbert 12 19 relative 3 1 0.5 5 1"
       ]
      },
      {
       "output_type": "stream",
       "stream": "stdout",
       "text": [
        "\n",
        "hilbert 12 19 relative 2 2 0.5 2 0"
       ]
      },
      {
       "output_type": "stream",
       "stream": "stdout",
       "text": [
        "\n",
        "hilbert 12 19 relative 2 2 0.5 2 1"
       ]
      },
      {
       "output_type": "stream",
       "stream": "stdout",
       "text": [
        "\n",
        "hilbert 12 19 relative 2 2 0.5 5 0"
       ]
      },
      {
       "output_type": "stream",
       "stream": "stdout",
       "text": [
        "\n",
        "hilbert 12 19 relative 2 2 0.5 5 1"
       ]
      },
      {
       "output_type": "stream",
       "stream": "stdout",
       "text": [
        "\n",
        "hilbert 12 19 relative 2 1.5 0.5 2 0"
       ]
      },
      {
       "output_type": "stream",
       "stream": "stdout",
       "text": [
        "\n",
        "hilbert 12 19 relative 2 1.5 0.5 2 1"
       ]
      },
      {
       "output_type": "stream",
       "stream": "stdout",
       "text": [
        "\n",
        "hilbert 12 19 relative 2 1.5 0.5 5 0"
       ]
      },
      {
       "output_type": "stream",
       "stream": "stdout",
       "text": [
        "\n",
        "hilbert 12 19 relative 2 1.5 0.5 5 1"
       ]
      },
      {
       "output_type": "stream",
       "stream": "stdout",
       "text": [
        "\n",
        "hilbert 12 19 relative 2 1 0.5 2 0"
       ]
      },
      {
       "output_type": "stream",
       "stream": "stdout",
       "text": [
        "\n",
        "hilbert 12 19 relative 2 1 0.5 2 1"
       ]
      },
      {
       "output_type": "stream",
       "stream": "stdout",
       "text": [
        "\n",
        "hilbert 12 19 relative 2 1 0.5 5 0"
       ]
      },
      {
       "output_type": "stream",
       "stream": "stdout",
       "text": [
        "\n",
        "hilbert 12 19 relative 2 1 0.5 5 1"
       ]
      },
      {
       "output_type": "stream",
       "stream": "stdout",
       "text": [
        "\n",
        "hilbert 12 19 relative 1 2 0.5 2 0"
       ]
      },
      {
       "output_type": "stream",
       "stream": "stdout",
       "text": [
        "\n",
        "hilbert 12 19 relative 1 2 0.5 2 1"
       ]
      },
      {
       "output_type": "stream",
       "stream": "stdout",
       "text": [
        "\n",
        "hilbert 12 19 relative 1 2 0.5 5 0"
       ]
      },
      {
       "output_type": "stream",
       "stream": "stdout",
       "text": [
        "\n",
        "hilbert 12 19 relative 1 2 0.5 5 1"
       ]
      },
      {
       "output_type": "stream",
       "stream": "stdout",
       "text": [
        "\n",
        "hilbert 12 19 relative 1 1.5 0.5 2 0"
       ]
      },
      {
       "output_type": "stream",
       "stream": "stdout",
       "text": [
        "\n",
        "hilbert 12 19 relative 1 1.5 0.5 2 1"
       ]
      },
      {
       "output_type": "stream",
       "stream": "stdout",
       "text": [
        "\n",
        "hilbert 12 19 relative 1 1.5 0.5 5 0"
       ]
      },
      {
       "output_type": "stream",
       "stream": "stdout",
       "text": [
        "\n",
        "hilbert 12 19 relative 1 1.5 0.5 5 1"
       ]
      },
      {
       "output_type": "stream",
       "stream": "stdout",
       "text": [
        "\n",
        "hilbert 12 19 relative 1 1 0.5 2 0"
       ]
      },
      {
       "output_type": "stream",
       "stream": "stdout",
       "text": [
        "\n",
        "hilbert 12 19 relative 1 1 0.5 2 1"
       ]
      },
      {
       "output_type": "stream",
       "stream": "stdout",
       "text": [
        "\n",
        "hilbert 12 19 relative 1 1 0.5 5 0"
       ]
      },
      {
       "output_type": "stream",
       "stream": "stdout",
       "text": [
        "\n",
        "hilbert 12 19 relative 1 1 0.5 5 1"
       ]
      },
      {
       "output_type": "stream",
       "stream": "stdout",
       "text": [
        "\n",
        "hilbert 12 19 maxima 3 2 0.5 2 0"
       ]
      },
      {
       "output_type": "stream",
       "stream": "stdout",
       "text": [
        "\n",
        "hilbert 12 19 maxima 3 2 0.5 2 1"
       ]
      },
      {
       "output_type": "stream",
       "stream": "stdout",
       "text": [
        "\n",
        "hilbert 12 19 maxima 3 2 0.5 5 0"
       ]
      },
      {
       "output_type": "stream",
       "stream": "stdout",
       "text": [
        "\n",
        "hilbert 12 19 maxima 3 2 0.5 5 1"
       ]
      },
      {
       "output_type": "stream",
       "stream": "stdout",
       "text": [
        "\n",
        "hilbert 12 19 maxima 3 1.5 0.5 2 0"
       ]
      },
      {
       "output_type": "stream",
       "stream": "stdout",
       "text": [
        "\n",
        "hilbert 12 19 maxima 3 1.5 0.5 2 1"
       ]
      },
      {
       "output_type": "stream",
       "stream": "stdout",
       "text": [
        "\n",
        "hilbert 12 19 maxima 3 1.5 0.5 5 0"
       ]
      },
      {
       "output_type": "stream",
       "stream": "stdout",
       "text": [
        "\n",
        "hilbert 12 19 maxima 3 1.5 0.5 5 1"
       ]
      },
      {
       "output_type": "stream",
       "stream": "stdout",
       "text": [
        "\n",
        "hilbert 12 19 maxima 3 1 0.5 2 0"
       ]
      },
      {
       "output_type": "stream",
       "stream": "stdout",
       "text": [
        "\n",
        "hilbert 12 19 maxima 3 1 0.5 2 1"
       ]
      },
      {
       "output_type": "stream",
       "stream": "stdout",
       "text": [
        "\n",
        "hilbert 12 19 maxima 3 1 0.5 5 0"
       ]
      },
      {
       "output_type": "stream",
       "stream": "stdout",
       "text": [
        "\n",
        "hilbert 12 19 maxima 3 1 0.5 5 1"
       ]
      },
      {
       "output_type": "stream",
       "stream": "stdout",
       "text": [
        "\n",
        "hilbert 12 19 maxima 2 2 0.5 2 0"
       ]
      },
      {
       "output_type": "stream",
       "stream": "stdout",
       "text": [
        "\n",
        "hilbert 12 19 maxima 2 2 0.5 2 1"
       ]
      },
      {
       "output_type": "stream",
       "stream": "stdout",
       "text": [
        "\n",
        "hilbert 12 19 maxima 2 2 0.5 5 0"
       ]
      },
      {
       "output_type": "stream",
       "stream": "stdout",
       "text": [
        "\n",
        "hilbert 12 19 maxima 2 2 0.5 5 1"
       ]
      },
      {
       "output_type": "stream",
       "stream": "stdout",
       "text": [
        "\n",
        "hilbert 12 19 maxima 2 1.5 0.5 2 0"
       ]
      },
      {
       "output_type": "stream",
       "stream": "stdout",
       "text": [
        "\n",
        "hilbert 12 19 maxima 2 1.5 0.5 2 1"
       ]
      },
      {
       "output_type": "stream",
       "stream": "stdout",
       "text": [
        "\n",
        "hilbert 12 19 maxima 2 1.5 0.5 5 0"
       ]
      },
      {
       "output_type": "stream",
       "stream": "stdout",
       "text": [
        "\n",
        "hilbert 12 19 maxima 2 1.5 0.5 5 1"
       ]
      },
      {
       "output_type": "stream",
       "stream": "stdout",
       "text": [
        "\n",
        "hilbert 12 19 maxima 2 1 0.5 2 0"
       ]
      },
      {
       "output_type": "stream",
       "stream": "stdout",
       "text": [
        "\n",
        "hilbert 12 19 maxima 2 1 0.5 2 1"
       ]
      },
      {
       "output_type": "stream",
       "stream": "stdout",
       "text": [
        "\n",
        "hilbert 12 19 maxima 2 1 0.5 5 0"
       ]
      },
      {
       "output_type": "stream",
       "stream": "stdout",
       "text": [
        "\n",
        "hilbert 12 19 maxima 2 1 0.5 5 1"
       ]
      },
      {
       "output_type": "stream",
       "stream": "stdout",
       "text": [
        "\n",
        "hilbert 12 19 maxima 1 2 0.5 2 0"
       ]
      },
      {
       "output_type": "stream",
       "stream": "stdout",
       "text": [
        "\n",
        "hilbert 12 19 maxima 1 2 0.5 2 1"
       ]
      },
      {
       "output_type": "stream",
       "stream": "stdout",
       "text": [
        "\n",
        "hilbert 12 19 maxima 1 2 0.5 5 0"
       ]
      },
      {
       "output_type": "stream",
       "stream": "stdout",
       "text": [
        "\n",
        "hilbert 12 19 maxima 1 2 0.5 5 1"
       ]
      },
      {
       "output_type": "stream",
       "stream": "stdout",
       "text": [
        "\n",
        "hilbert 12 19 maxima 1 1.5 0.5 2 0"
       ]
      },
      {
       "output_type": "stream",
       "stream": "stdout",
       "text": [
        "\n",
        "hilbert 12 19 maxima 1 1.5 0.5 2 1"
       ]
      },
      {
       "output_type": "stream",
       "stream": "stdout",
       "text": [
        "\n",
        "hilbert 12 19 maxima 1 1.5 0.5 5 0"
       ]
      },
      {
       "output_type": "stream",
       "stream": "stdout",
       "text": [
        "\n",
        "hilbert 12 19 maxima 1 1.5 0.5 5 1"
       ]
      },
      {
       "output_type": "stream",
       "stream": "stdout",
       "text": [
        "\n",
        "hilbert 12 19 maxima 1 1 0.5 2 0"
       ]
      },
      {
       "output_type": "stream",
       "stream": "stdout",
       "text": [
        "\n",
        "hilbert 12 19 maxima 1 1 0.5 2 1"
       ]
      },
      {
       "output_type": "stream",
       "stream": "stdout",
       "text": [
        "\n",
        "hilbert 12 19 maxima 1 1 0.5 5 0"
       ]
      },
      {
       "output_type": "stream",
       "stream": "stdout",
       "text": [
        "\n",
        "hilbert 12 19 maxima 1 1 0.5 5 1"
       ]
      },
      {
       "output_type": "stream",
       "stream": "stdout",
       "text": [
        "\n",
        "hilbert 12 20 relative 3 2 0.5 2 0"
       ]
      },
      {
       "output_type": "stream",
       "stream": "stdout",
       "text": [
        "\n",
        "hilbert 12 20 relative 3 2 0.5 2 1"
       ]
      },
      {
       "output_type": "stream",
       "stream": "stdout",
       "text": [
        "\n",
        "hilbert 12 20 relative 3 2 0.5 5 0"
       ]
      },
      {
       "output_type": "stream",
       "stream": "stdout",
       "text": [
        "\n",
        "hilbert 12 20 relative 3 2 0.5 5 1"
       ]
      },
      {
       "output_type": "stream",
       "stream": "stdout",
       "text": [
        "\n",
        "hilbert 12 20 relative 3 1.5 0.5 2 0"
       ]
      },
      {
       "output_type": "stream",
       "stream": "stdout",
       "text": [
        "\n",
        "hilbert 12 20 relative 3 1.5 0.5 2 1"
       ]
      },
      {
       "output_type": "stream",
       "stream": "stdout",
       "text": [
        "\n",
        "hilbert 12 20 relative 3 1.5 0.5 5 0"
       ]
      },
      {
       "output_type": "stream",
       "stream": "stdout",
       "text": [
        "\n",
        "hilbert 12 20 relative 3 1.5 0.5 5 1"
       ]
      },
      {
       "output_type": "stream",
       "stream": "stdout",
       "text": [
        "\n",
        "hilbert 12 20 relative 3 1 0.5 2 0"
       ]
      },
      {
       "output_type": "stream",
       "stream": "stdout",
       "text": [
        "\n",
        "hilbert 12 20 relative 3 1 0.5 2 1"
       ]
      },
      {
       "output_type": "stream",
       "stream": "stdout",
       "text": [
        "\n",
        "hilbert 12 20 relative 3 1 0.5 5 0"
       ]
      },
      {
       "output_type": "stream",
       "stream": "stdout",
       "text": [
        "\n",
        "hilbert 12 20 relative 3 1 0.5 5 1"
       ]
      },
      {
       "output_type": "stream",
       "stream": "stdout",
       "text": [
        "\n",
        "hilbert 12 20 relative 2 2 0.5 2 0"
       ]
      },
      {
       "output_type": "stream",
       "stream": "stdout",
       "text": [
        "\n",
        "hilbert 12 20 relative 2 2 0.5 2 1"
       ]
      },
      {
       "output_type": "stream",
       "stream": "stdout",
       "text": [
        "\n",
        "hilbert 12 20 relative 2 2 0.5 5 0"
       ]
      },
      {
       "output_type": "stream",
       "stream": "stdout",
       "text": [
        "\n",
        "hilbert 12 20 relative 2 2 0.5 5 1"
       ]
      },
      {
       "output_type": "stream",
       "stream": "stdout",
       "text": [
        "\n",
        "hilbert 12 20 relative 2 1.5 0.5 2 0"
       ]
      },
      {
       "output_type": "stream",
       "stream": "stdout",
       "text": [
        "\n",
        "hilbert 12 20 relative 2 1.5 0.5 2 1"
       ]
      },
      {
       "output_type": "stream",
       "stream": "stdout",
       "text": [
        "\n",
        "hilbert 12 20 relative 2 1.5 0.5 5 0"
       ]
      },
      {
       "output_type": "stream",
       "stream": "stdout",
       "text": [
        "\n",
        "hilbert 12 20 relative 2 1.5 0.5 5 1"
       ]
      },
      {
       "output_type": "stream",
       "stream": "stdout",
       "text": [
        "\n",
        "hilbert 12 20 relative 2 1 0.5 2 0"
       ]
      },
      {
       "output_type": "stream",
       "stream": "stdout",
       "text": [
        "\n",
        "hilbert 12 20 relative 2 1 0.5 2 1"
       ]
      },
      {
       "output_type": "stream",
       "stream": "stdout",
       "text": [
        "\n",
        "hilbert 12 20 relative 2 1 0.5 5 0"
       ]
      },
      {
       "output_type": "stream",
       "stream": "stdout",
       "text": [
        "\n",
        "hilbert 12 20 relative 2 1 0.5 5 1"
       ]
      },
      {
       "output_type": "stream",
       "stream": "stdout",
       "text": [
        "\n",
        "hilbert 12 20 relative 1 2 0.5 2 0"
       ]
      },
      {
       "output_type": "stream",
       "stream": "stdout",
       "text": [
        "\n",
        "hilbert 12 20 relative 1 2 0.5 2 1"
       ]
      },
      {
       "output_type": "stream",
       "stream": "stdout",
       "text": [
        "\n",
        "hilbert 12 20 relative 1 2 0.5 5 0"
       ]
      },
      {
       "output_type": "stream",
       "stream": "stdout",
       "text": [
        "\n",
        "hilbert 12 20 relative 1 2 0.5 5 1"
       ]
      },
      {
       "output_type": "stream",
       "stream": "stdout",
       "text": [
        "\n",
        "hilbert 12 20 relative 1 1.5 0.5 2 0"
       ]
      },
      {
       "output_type": "stream",
       "stream": "stdout",
       "text": [
        "\n",
        "hilbert 12 20 relative 1 1.5 0.5 2 1"
       ]
      },
      {
       "output_type": "stream",
       "stream": "stdout",
       "text": [
        "\n",
        "hilbert 12 20 relative 1 1.5 0.5 5 0"
       ]
      },
      {
       "output_type": "stream",
       "stream": "stdout",
       "text": [
        "\n",
        "hilbert 12 20 relative 1 1.5 0.5 5 1"
       ]
      },
      {
       "output_type": "stream",
       "stream": "stdout",
       "text": [
        "\n",
        "hilbert 12 20 relative 1 1 0.5 2 0"
       ]
      },
      {
       "output_type": "stream",
       "stream": "stdout",
       "text": [
        "\n",
        "hilbert 12 20 relative 1 1 0.5 2 1"
       ]
      },
      {
       "output_type": "stream",
       "stream": "stdout",
       "text": [
        "\n",
        "hilbert 12 20 relative 1 1 0.5 5 0"
       ]
      },
      {
       "output_type": "stream",
       "stream": "stdout",
       "text": [
        "\n",
        "hilbert 12 20 relative 1 1 0.5 5 1"
       ]
      },
      {
       "output_type": "stream",
       "stream": "stdout",
       "text": [
        "\n",
        "hilbert 12 20 maxima 3 2 0.5 2 0"
       ]
      },
      {
       "output_type": "stream",
       "stream": "stdout",
       "text": [
        "\n",
        "hilbert 12 20 maxima 3 2 0.5 2 1"
       ]
      },
      {
       "output_type": "stream",
       "stream": "stdout",
       "text": [
        "\n",
        "hilbert 12 20 maxima 3 2 0.5 5 0"
       ]
      },
      {
       "output_type": "stream",
       "stream": "stdout",
       "text": [
        "\n",
        "hilbert 12 20 maxima 3 2 0.5 5 1"
       ]
      },
      {
       "output_type": "stream",
       "stream": "stdout",
       "text": [
        "\n",
        "hilbert 12 20 maxima 3 1.5 0.5 2 0"
       ]
      },
      {
       "output_type": "stream",
       "stream": "stdout",
       "text": [
        "\n",
        "hilbert 12 20 maxima 3 1.5 0.5 2 1"
       ]
      },
      {
       "output_type": "stream",
       "stream": "stdout",
       "text": [
        "\n",
        "hilbert 12 20 maxima 3 1.5 0.5 5 0"
       ]
      },
      {
       "output_type": "stream",
       "stream": "stdout",
       "text": [
        "\n",
        "hilbert 12 20 maxima 3 1.5 0.5 5 1"
       ]
      },
      {
       "output_type": "stream",
       "stream": "stdout",
       "text": [
        "\n",
        "hilbert 12 20 maxima 3 1 0.5 2 0"
       ]
      },
      {
       "output_type": "stream",
       "stream": "stdout",
       "text": [
        "\n",
        "hilbert 12 20 maxima 3 1 0.5 2 1"
       ]
      },
      {
       "output_type": "stream",
       "stream": "stdout",
       "text": [
        "\n",
        "hilbert 12 20 maxima 3 1 0.5 5 0"
       ]
      },
      {
       "output_type": "stream",
       "stream": "stdout",
       "text": [
        "\n",
        "hilbert 12 20 maxima 3 1 0.5 5 1"
       ]
      },
      {
       "output_type": "stream",
       "stream": "stdout",
       "text": [
        "\n",
        "hilbert 12 20 maxima 2 2 0.5 2 0"
       ]
      },
      {
       "output_type": "stream",
       "stream": "stdout",
       "text": [
        "\n",
        "hilbert 12 20 maxima 2 2 0.5 2 1"
       ]
      },
      {
       "output_type": "stream",
       "stream": "stdout",
       "text": [
        "\n",
        "hilbert 12 20 maxima 2 2 0.5 5 0"
       ]
      },
      {
       "output_type": "stream",
       "stream": "stdout",
       "text": [
        "\n",
        "hilbert 12 20 maxima 2 2 0.5 5 1"
       ]
      },
      {
       "output_type": "stream",
       "stream": "stdout",
       "text": [
        "\n",
        "hilbert 12 20 maxima 2 1.5 0.5 2 0"
       ]
      },
      {
       "output_type": "stream",
       "stream": "stdout",
       "text": [
        "\n",
        "hilbert 12 20 maxima 2 1.5 0.5 2 1"
       ]
      },
      {
       "output_type": "stream",
       "stream": "stdout",
       "text": [
        "\n",
        "hilbert 12 20 maxima 2 1.5 0.5 5 0"
       ]
      },
      {
       "output_type": "stream",
       "stream": "stdout",
       "text": [
        "\n",
        "hilbert 12 20 maxima 2 1.5 0.5 5 1"
       ]
      },
      {
       "output_type": "stream",
       "stream": "stdout",
       "text": [
        "\n",
        "hilbert 12 20 maxima 2 1 0.5 2 0"
       ]
      },
      {
       "output_type": "stream",
       "stream": "stdout",
       "text": [
        "\n",
        "hilbert 12 20 maxima 2 1 0.5 2 1"
       ]
      },
      {
       "output_type": "stream",
       "stream": "stdout",
       "text": [
        "\n",
        "hilbert 12 20 maxima 2 1 0.5 5 0"
       ]
      },
      {
       "output_type": "stream",
       "stream": "stdout",
       "text": [
        "\n",
        "hilbert 12 20 maxima 2 1 0.5 5 1"
       ]
      },
      {
       "output_type": "stream",
       "stream": "stdout",
       "text": [
        "\n",
        "hilbert 12 20 maxima 1 2 0.5 2 0"
       ]
      },
      {
       "output_type": "stream",
       "stream": "stdout",
       "text": [
        "\n",
        "hilbert 12 20 maxima 1 2 0.5 2 1"
       ]
      },
      {
       "output_type": "stream",
       "stream": "stdout",
       "text": [
        "\n",
        "hilbert 12 20 maxima 1 2 0.5 5 0"
       ]
      },
      {
       "output_type": "stream",
       "stream": "stdout",
       "text": [
        "\n",
        "hilbert 12 20 maxima 1 2 0.5 5 1"
       ]
      },
      {
       "output_type": "stream",
       "stream": "stdout",
       "text": [
        "\n",
        "hilbert 12 20 maxima 1 1.5 0.5 2 0"
       ]
      },
      {
       "output_type": "stream",
       "stream": "stdout",
       "text": [
        "\n",
        "hilbert 12 20 maxima 1 1.5 0.5 2 1"
       ]
      },
      {
       "output_type": "stream",
       "stream": "stdout",
       "text": [
        "\n",
        "hilbert 12 20 maxima 1 1.5 0.5 5 0"
       ]
      },
      {
       "output_type": "stream",
       "stream": "stdout",
       "text": [
        "\n",
        "hilbert 12 20 maxima 1 1.5 0.5 5 1"
       ]
      },
      {
       "output_type": "stream",
       "stream": "stdout",
       "text": [
        "\n",
        "hilbert 12 20 maxima 1 1 0.5 2 0"
       ]
      },
      {
       "output_type": "stream",
       "stream": "stdout",
       "text": [
        "\n",
        "hilbert 12 20 maxima 1 1 0.5 2 1"
       ]
      },
      {
       "output_type": "stream",
       "stream": "stdout",
       "text": [
        "\n",
        "hilbert 12 20 maxima 1 1 0.5 5 0"
       ]
      },
      {
       "output_type": "stream",
       "stream": "stdout",
       "text": [
        "\n",
        "hilbert 12 20 maxima 1 1 0.5 5 1"
       ]
      },
      {
       "output_type": "stream",
       "stream": "stdout",
       "text": [
        "\n",
        "hilbert 13 17 relative 3 2 0.5 2 0"
       ]
      },
      {
       "output_type": "stream",
       "stream": "stdout",
       "text": [
        "\n",
        "hilbert 13 17 relative 3 2 0.5 2 1"
       ]
      },
      {
       "output_type": "stream",
       "stream": "stdout",
       "text": [
        "\n",
        "hilbert 13 17 relative 3 2 0.5 5 0"
       ]
      },
      {
       "output_type": "stream",
       "stream": "stdout",
       "text": [
        "\n",
        "hilbert 13 17 relative 3 2 0.5 5 1"
       ]
      },
      {
       "output_type": "stream",
       "stream": "stdout",
       "text": [
        "\n",
        "hilbert 13 17 relative 3 1.5 0.5 2 0"
       ]
      },
      {
       "output_type": "stream",
       "stream": "stdout",
       "text": [
        "\n",
        "hilbert 13 17 relative 3 1.5 0.5 2 1"
       ]
      },
      {
       "output_type": "stream",
       "stream": "stdout",
       "text": [
        "\n",
        "hilbert 13 17 relative 3 1.5 0.5 5 0"
       ]
      },
      {
       "output_type": "stream",
       "stream": "stdout",
       "text": [
        "\n",
        "hilbert 13 17 relative 3 1.5 0.5 5 1"
       ]
      },
      {
       "output_type": "stream",
       "stream": "stdout",
       "text": [
        "\n",
        "hilbert 13 17 relative 3 1 0.5 2 0"
       ]
      },
      {
       "output_type": "stream",
       "stream": "stdout",
       "text": [
        "\n",
        "hilbert 13 17 relative 3 1 0.5 2 1"
       ]
      },
      {
       "output_type": "stream",
       "stream": "stdout",
       "text": [
        "\n",
        "hilbert 13 17 relative 3 1 0.5 5 0"
       ]
      },
      {
       "output_type": "stream",
       "stream": "stdout",
       "text": [
        "\n",
        "hilbert 13 17 relative 3 1 0.5 5 1"
       ]
      },
      {
       "output_type": "stream",
       "stream": "stdout",
       "text": [
        "\n",
        "hilbert 13 17 relative 2 2 0.5 2 0"
       ]
      },
      {
       "output_type": "stream",
       "stream": "stdout",
       "text": [
        "\n",
        "hilbert 13 17 relative 2 2 0.5 2 1"
       ]
      },
      {
       "output_type": "stream",
       "stream": "stdout",
       "text": [
        "\n",
        "hilbert 13 17 relative 2 2 0.5 5 0"
       ]
      },
      {
       "output_type": "stream",
       "stream": "stdout",
       "text": [
        "\n",
        "hilbert 13 17 relative 2 2 0.5 5 1"
       ]
      },
      {
       "output_type": "stream",
       "stream": "stdout",
       "text": [
        "\n",
        "hilbert 13 17 relative 2 1.5 0.5 2 0"
       ]
      },
      {
       "output_type": "stream",
       "stream": "stdout",
       "text": [
        "\n",
        "hilbert 13 17 relative 2 1.5 0.5 2 1"
       ]
      },
      {
       "output_type": "stream",
       "stream": "stdout",
       "text": [
        "\n",
        "hilbert 13 17 relative 2 1.5 0.5 5 0"
       ]
      },
      {
       "output_type": "stream",
       "stream": "stdout",
       "text": [
        "\n",
        "hilbert 13 17 relative 2 1.5 0.5 5 1"
       ]
      },
      {
       "output_type": "stream",
       "stream": "stdout",
       "text": [
        "\n",
        "hilbert 13 17 relative 2 1 0.5 2 0"
       ]
      },
      {
       "output_type": "stream",
       "stream": "stdout",
       "text": [
        "\n",
        "hilbert 13 17 relative 2 1 0.5 2 1"
       ]
      },
      {
       "output_type": "stream",
       "stream": "stdout",
       "text": [
        "\n",
        "hilbert 13 17 relative 2 1 0.5 5 0"
       ]
      },
      {
       "output_type": "stream",
       "stream": "stdout",
       "text": [
        "\n",
        "hilbert 13 17 relative 2 1 0.5 5 1"
       ]
      },
      {
       "output_type": "stream",
       "stream": "stdout",
       "text": [
        "\n",
        "hilbert 13 17 relative 1 2 0.5 2 0"
       ]
      },
      {
       "output_type": "stream",
       "stream": "stdout",
       "text": [
        "\n",
        "hilbert 13 17 relative 1 2 0.5 2 1"
       ]
      },
      {
       "output_type": "stream",
       "stream": "stdout",
       "text": [
        "\n",
        "hilbert 13 17 relative 1 2 0.5 5 0"
       ]
      },
      {
       "output_type": "stream",
       "stream": "stdout",
       "text": [
        "\n",
        "hilbert 13 17 relative 1 2 0.5 5 1"
       ]
      },
      {
       "output_type": "stream",
       "stream": "stdout",
       "text": [
        "\n",
        "hilbert 13 17 relative 1 1.5 0.5 2 0"
       ]
      },
      {
       "output_type": "stream",
       "stream": "stdout",
       "text": [
        "\n",
        "hilbert 13 17 relative 1 1.5 0.5 2 1"
       ]
      },
      {
       "output_type": "stream",
       "stream": "stdout",
       "text": [
        "\n",
        "hilbert 13 17 relative 1 1.5 0.5 5 0"
       ]
      },
      {
       "output_type": "stream",
       "stream": "stdout",
       "text": [
        "\n",
        "hilbert 13 17 relative 1 1.5 0.5 5 1"
       ]
      },
      {
       "output_type": "stream",
       "stream": "stdout",
       "text": [
        "\n",
        "hilbert 13 17 relative 1 1 0.5 2 0"
       ]
      },
      {
       "output_type": "stream",
       "stream": "stdout",
       "text": [
        "\n",
        "hilbert 13 17 relative 1 1 0.5 2 1"
       ]
      },
      {
       "output_type": "stream",
       "stream": "stdout",
       "text": [
        "\n",
        "hilbert 13 17 relative 1 1 0.5 5 0"
       ]
      },
      {
       "output_type": "stream",
       "stream": "stdout",
       "text": [
        "\n",
        "hilbert 13 17 relative 1 1 0.5 5 1"
       ]
      },
      {
       "output_type": "stream",
       "stream": "stdout",
       "text": [
        "\n",
        "hilbert 13 17 maxima 3 2 0.5 2 0"
       ]
      },
      {
       "output_type": "stream",
       "stream": "stdout",
       "text": [
        "\n",
        "hilbert 13 17 maxima 3 2 0.5 2 1"
       ]
      },
      {
       "output_type": "stream",
       "stream": "stdout",
       "text": [
        "\n",
        "hilbert 13 17 maxima 3 2 0.5 5 0"
       ]
      },
      {
       "output_type": "stream",
       "stream": "stdout",
       "text": [
        "\n",
        "hilbert 13 17 maxima 3 2 0.5 5 1"
       ]
      },
      {
       "output_type": "stream",
       "stream": "stdout",
       "text": [
        "\n",
        "hilbert 13 17 maxima 3 1.5 0.5 2 0"
       ]
      },
      {
       "output_type": "stream",
       "stream": "stdout",
       "text": [
        "\n",
        "hilbert 13 17 maxima 3 1.5 0.5 2 1"
       ]
      },
      {
       "output_type": "stream",
       "stream": "stdout",
       "text": [
        "\n",
        "hilbert 13 17 maxima 3 1.5 0.5 5 0"
       ]
      },
      {
       "output_type": "stream",
       "stream": "stdout",
       "text": [
        "\n",
        "hilbert 13 17 maxima 3 1.5 0.5 5 1"
       ]
      },
      {
       "output_type": "stream",
       "stream": "stdout",
       "text": [
        "\n",
        "hilbert 13 17 maxima 3 1 0.5 2 0"
       ]
      },
      {
       "output_type": "stream",
       "stream": "stdout",
       "text": [
        "\n",
        "hilbert 13 17 maxima 3 1 0.5 2 1"
       ]
      },
      {
       "output_type": "stream",
       "stream": "stdout",
       "text": [
        "\n",
        "hilbert 13 17 maxima 3 1 0.5 5 0"
       ]
      },
      {
       "output_type": "stream",
       "stream": "stdout",
       "text": [
        "\n",
        "hilbert 13 17 maxima 3 1 0.5 5 1"
       ]
      },
      {
       "output_type": "stream",
       "stream": "stdout",
       "text": [
        "\n",
        "hilbert 13 17 maxima 2 2 0.5 2 0"
       ]
      },
      {
       "output_type": "stream",
       "stream": "stdout",
       "text": [
        "\n",
        "hilbert 13 17 maxima 2 2 0.5 2 1"
       ]
      },
      {
       "output_type": "stream",
       "stream": "stdout",
       "text": [
        "\n",
        "hilbert 13 17 maxima 2 2 0.5 5 0"
       ]
      },
      {
       "output_type": "stream",
       "stream": "stdout",
       "text": [
        "\n",
        "hilbert 13 17 maxima 2 2 0.5 5 1"
       ]
      },
      {
       "output_type": "stream",
       "stream": "stdout",
       "text": [
        "\n",
        "hilbert 13 17 maxima 2 1.5 0.5 2 0"
       ]
      },
      {
       "output_type": "stream",
       "stream": "stdout",
       "text": [
        "\n",
        "hilbert 13 17 maxima 2 1.5 0.5 2 1"
       ]
      },
      {
       "output_type": "stream",
       "stream": "stdout",
       "text": [
        "\n",
        "hilbert 13 17 maxima 2 1.5 0.5 5 0"
       ]
      },
      {
       "output_type": "stream",
       "stream": "stdout",
       "text": [
        "\n",
        "hilbert 13 17 maxima 2 1.5 0.5 5 1"
       ]
      },
      {
       "output_type": "stream",
       "stream": "stdout",
       "text": [
        "\n",
        "hilbert 13 17 maxima 2 1 0.5 2 0"
       ]
      },
      {
       "output_type": "stream",
       "stream": "stdout",
       "text": [
        "\n",
        "hilbert 13 17 maxima 2 1 0.5 2 1"
       ]
      },
      {
       "output_type": "stream",
       "stream": "stdout",
       "text": [
        "\n",
        "hilbert 13 17 maxima 2 1 0.5 5 0"
       ]
      },
      {
       "output_type": "stream",
       "stream": "stdout",
       "text": [
        "\n",
        "hilbert 13 17 maxima 2 1 0.5 5 1"
       ]
      },
      {
       "output_type": "stream",
       "stream": "stdout",
       "text": [
        "\n",
        "hilbert 13 17 maxima 1 2 0.5 2 0"
       ]
      },
      {
       "output_type": "stream",
       "stream": "stdout",
       "text": [
        "\n",
        "hilbert 13 17 maxima 1 2 0.5 2 1"
       ]
      },
      {
       "output_type": "stream",
       "stream": "stdout",
       "text": [
        "\n",
        "hilbert 13 17 maxima 1 2 0.5 5 0"
       ]
      },
      {
       "output_type": "stream",
       "stream": "stdout",
       "text": [
        "\n",
        "hilbert 13 17 maxima 1 2 0.5 5 1"
       ]
      },
      {
       "output_type": "stream",
       "stream": "stdout",
       "text": [
        "\n",
        "hilbert 13 17 maxima 1 1.5 0.5 2 0"
       ]
      },
      {
       "output_type": "stream",
       "stream": "stdout",
       "text": [
        "\n",
        "hilbert 13 17 maxima 1 1.5 0.5 2 1"
       ]
      },
      {
       "output_type": "stream",
       "stream": "stdout",
       "text": [
        "\n",
        "hilbert 13 17 maxima 1 1.5 0.5 5 0"
       ]
      },
      {
       "output_type": "stream",
       "stream": "stdout",
       "text": [
        "\n",
        "hilbert 13 17 maxima 1 1.5 0.5 5 1"
       ]
      },
      {
       "output_type": "stream",
       "stream": "stdout",
       "text": [
        "\n",
        "hilbert 13 17 maxima 1 1 0.5 2 0"
       ]
      },
      {
       "output_type": "stream",
       "stream": "stdout",
       "text": [
        "\n",
        "hilbert 13 17 maxima 1 1 0.5 2 1"
       ]
      },
      {
       "output_type": "stream",
       "stream": "stdout",
       "text": [
        "\n",
        "hilbert 13 17 maxima 1 1 0.5 5 0"
       ]
      },
      {
       "output_type": "stream",
       "stream": "stdout",
       "text": [
        "\n",
        "hilbert 13 17 maxima 1 1 0.5 5 1"
       ]
      },
      {
       "output_type": "stream",
       "stream": "stdout",
       "text": [
        "\n",
        "hilbert 13 18 relative 3 2 0.5 2 0"
       ]
      },
      {
       "output_type": "stream",
       "stream": "stdout",
       "text": [
        "\n",
        "hilbert 13 18 relative 3 2 0.5 2 1"
       ]
      },
      {
       "output_type": "stream",
       "stream": "stdout",
       "text": [
        "\n",
        "hilbert 13 18 relative 3 2 0.5 5 0"
       ]
      },
      {
       "output_type": "stream",
       "stream": "stdout",
       "text": [
        "\n",
        "hilbert 13 18 relative 3 2 0.5 5 1"
       ]
      },
      {
       "output_type": "stream",
       "stream": "stdout",
       "text": [
        "\n",
        "hilbert 13 18 relative 3 1.5 0.5 2 0"
       ]
      },
      {
       "output_type": "stream",
       "stream": "stdout",
       "text": [
        "\n",
        "hilbert 13 18 relative 3 1.5 0.5 2 1"
       ]
      },
      {
       "output_type": "stream",
       "stream": "stdout",
       "text": [
        "\n",
        "hilbert 13 18 relative 3 1.5 0.5 5 0"
       ]
      },
      {
       "output_type": "stream",
       "stream": "stdout",
       "text": [
        "\n",
        "hilbert 13 18 relative 3 1.5 0.5 5 1"
       ]
      },
      {
       "output_type": "stream",
       "stream": "stdout",
       "text": [
        "\n",
        "hilbert 13 18 relative 3 1 0.5 2 0"
       ]
      },
      {
       "output_type": "stream",
       "stream": "stdout",
       "text": [
        "\n",
        "hilbert 13 18 relative 3 1 0.5 2 1"
       ]
      },
      {
       "output_type": "stream",
       "stream": "stdout",
       "text": [
        "\n",
        "hilbert 13 18 relative 3 1 0.5 5 0"
       ]
      },
      {
       "output_type": "stream",
       "stream": "stdout",
       "text": [
        "\n",
        "hilbert 13 18 relative 3 1 0.5 5 1"
       ]
      },
      {
       "output_type": "stream",
       "stream": "stdout",
       "text": [
        "\n",
        "hilbert 13 18 relative 2 2 0.5 2 0"
       ]
      },
      {
       "output_type": "stream",
       "stream": "stdout",
       "text": [
        "\n",
        "hilbert 13 18 relative 2 2 0.5 2 1"
       ]
      },
      {
       "output_type": "stream",
       "stream": "stdout",
       "text": [
        "\n",
        "hilbert 13 18 relative 2 2 0.5 5 0"
       ]
      },
      {
       "output_type": "stream",
       "stream": "stdout",
       "text": [
        "\n",
        "hilbert 13 18 relative 2 2 0.5 5 1"
       ]
      },
      {
       "output_type": "stream",
       "stream": "stdout",
       "text": [
        "\n",
        "hilbert 13 18 relative 2 1.5 0.5 2 0"
       ]
      },
      {
       "output_type": "stream",
       "stream": "stdout",
       "text": [
        "\n",
        "hilbert 13 18 relative 2 1.5 0.5 2 1"
       ]
      },
      {
       "output_type": "stream",
       "stream": "stdout",
       "text": [
        "\n",
        "hilbert 13 18 relative 2 1.5 0.5 5 0"
       ]
      },
      {
       "output_type": "stream",
       "stream": "stdout",
       "text": [
        "\n",
        "hilbert 13 18 relative 2 1.5 0.5 5 1"
       ]
      },
      {
       "output_type": "stream",
       "stream": "stdout",
       "text": [
        "\n",
        "hilbert 13 18 relative 2 1 0.5 2 0"
       ]
      },
      {
       "output_type": "stream",
       "stream": "stdout",
       "text": [
        "\n",
        "hilbert 13 18 relative 2 1 0.5 2 1"
       ]
      },
      {
       "output_type": "stream",
       "stream": "stdout",
       "text": [
        "\n",
        "hilbert 13 18 relative 2 1 0.5 5 0"
       ]
      },
      {
       "output_type": "stream",
       "stream": "stdout",
       "text": [
        "\n",
        "hilbert 13 18 relative 2 1 0.5 5 1"
       ]
      },
      {
       "output_type": "stream",
       "stream": "stdout",
       "text": [
        "\n",
        "hilbert 13 18 relative 1 2 0.5 2 0"
       ]
      },
      {
       "output_type": "stream",
       "stream": "stdout",
       "text": [
        "\n",
        "hilbert 13 18 relative 1 2 0.5 2 1"
       ]
      },
      {
       "output_type": "stream",
       "stream": "stdout",
       "text": [
        "\n",
        "hilbert 13 18 relative 1 2 0.5 5 0"
       ]
      },
      {
       "output_type": "stream",
       "stream": "stdout",
       "text": [
        "\n",
        "hilbert 13 18 relative 1 2 0.5 5 1"
       ]
      },
      {
       "output_type": "stream",
       "stream": "stdout",
       "text": [
        "\n",
        "hilbert 13 18 relative 1 1.5 0.5 2 0"
       ]
      },
      {
       "output_type": "stream",
       "stream": "stdout",
       "text": [
        "\n",
        "hilbert 13 18 relative 1 1.5 0.5 2 1"
       ]
      },
      {
       "output_type": "stream",
       "stream": "stdout",
       "text": [
        "\n",
        "hilbert 13 18 relative 1 1.5 0.5 5 0"
       ]
      },
      {
       "output_type": "stream",
       "stream": "stdout",
       "text": [
        "\n",
        "hilbert 13 18 relative 1 1.5 0.5 5 1"
       ]
      },
      {
       "output_type": "stream",
       "stream": "stdout",
       "text": [
        "\n",
        "hilbert 13 18 relative 1 1 0.5 2 0"
       ]
      },
      {
       "output_type": "stream",
       "stream": "stdout",
       "text": [
        "\n",
        "hilbert 13 18 relative 1 1 0.5 2 1"
       ]
      },
      {
       "output_type": "stream",
       "stream": "stdout",
       "text": [
        "\n",
        "hilbert 13 18 relative 1 1 0.5 5 0"
       ]
      },
      {
       "output_type": "stream",
       "stream": "stdout",
       "text": [
        "\n",
        "hilbert 13 18 relative 1 1 0.5 5 1"
       ]
      },
      {
       "output_type": "stream",
       "stream": "stdout",
       "text": [
        "\n",
        "hilbert 13 18 maxima 3 2 0.5 2 0"
       ]
      },
      {
       "output_type": "stream",
       "stream": "stdout",
       "text": [
        "\n",
        "hilbert 13 18 maxima 3 2 0.5 2 1"
       ]
      },
      {
       "output_type": "stream",
       "stream": "stdout",
       "text": [
        "\n",
        "hilbert 13 18 maxima 3 2 0.5 5 0"
       ]
      },
      {
       "output_type": "stream",
       "stream": "stdout",
       "text": [
        "\n",
        "hilbert 13 18 maxima 3 2 0.5 5 1"
       ]
      },
      {
       "output_type": "stream",
       "stream": "stdout",
       "text": [
        "\n",
        "hilbert 13 18 maxima 3 1.5 0.5 2 0"
       ]
      },
      {
       "output_type": "stream",
       "stream": "stdout",
       "text": [
        "\n",
        "hilbert 13 18 maxima 3 1.5 0.5 2 1"
       ]
      },
      {
       "output_type": "stream",
       "stream": "stdout",
       "text": [
        "\n",
        "hilbert 13 18 maxima 3 1.5 0.5 5 0"
       ]
      },
      {
       "output_type": "stream",
       "stream": "stdout",
       "text": [
        "\n",
        "hilbert 13 18 maxima 3 1.5 0.5 5 1"
       ]
      },
      {
       "output_type": "stream",
       "stream": "stdout",
       "text": [
        "\n",
        "hilbert 13 18 maxima 3 1 0.5 2 0"
       ]
      },
      {
       "output_type": "stream",
       "stream": "stdout",
       "text": [
        "\n",
        "hilbert 13 18 maxima 3 1 0.5 2 1"
       ]
      },
      {
       "output_type": "stream",
       "stream": "stdout",
       "text": [
        "\n",
        "hilbert 13 18 maxima 3 1 0.5 5 0"
       ]
      },
      {
       "output_type": "stream",
       "stream": "stdout",
       "text": [
        "\n",
        "hilbert 13 18 maxima 3 1 0.5 5 1"
       ]
      },
      {
       "output_type": "stream",
       "stream": "stdout",
       "text": [
        "\n",
        "hilbert 13 18 maxima 2 2 0.5 2 0"
       ]
      },
      {
       "output_type": "stream",
       "stream": "stdout",
       "text": [
        "\n",
        "hilbert 13 18 maxima 2 2 0.5 2 1"
       ]
      },
      {
       "output_type": "stream",
       "stream": "stdout",
       "text": [
        "\n",
        "hilbert 13 18 maxima 2 2 0.5 5 0"
       ]
      },
      {
       "output_type": "stream",
       "stream": "stdout",
       "text": [
        "\n",
        "hilbert 13 18 maxima 2 2 0.5 5 1"
       ]
      },
      {
       "output_type": "stream",
       "stream": "stdout",
       "text": [
        "\n",
        "hilbert 13 18 maxima 2 1.5 0.5 2 0"
       ]
      },
      {
       "output_type": "stream",
       "stream": "stdout",
       "text": [
        "\n",
        "hilbert 13 18 maxima 2 1.5 0.5 2 1"
       ]
      },
      {
       "output_type": "stream",
       "stream": "stdout",
       "text": [
        "\n",
        "hilbert 13 18 maxima 2 1.5 0.5 5 0"
       ]
      },
      {
       "output_type": "stream",
       "stream": "stdout",
       "text": [
        "\n",
        "hilbert 13 18 maxima 2 1.5 0.5 5 1"
       ]
      },
      {
       "output_type": "stream",
       "stream": "stdout",
       "text": [
        "\n",
        "hilbert 13 18 maxima 2 1 0.5 2 0"
       ]
      },
      {
       "output_type": "stream",
       "stream": "stdout",
       "text": [
        "\n",
        "hilbert 13 18 maxima 2 1 0.5 2 1"
       ]
      },
      {
       "output_type": "stream",
       "stream": "stdout",
       "text": [
        "\n",
        "hilbert 13 18 maxima 2 1 0.5 5 0"
       ]
      },
      {
       "output_type": "stream",
       "stream": "stdout",
       "text": [
        "\n",
        "hilbert 13 18 maxima 2 1 0.5 5 1"
       ]
      },
      {
       "output_type": "stream",
       "stream": "stdout",
       "text": [
        "\n",
        "hilbert 13 18 maxima 1 2 0.5 2 0"
       ]
      },
      {
       "output_type": "stream",
       "stream": "stdout",
       "text": [
        "\n",
        "hilbert 13 18 maxima 1 2 0.5 2 1"
       ]
      },
      {
       "output_type": "stream",
       "stream": "stdout",
       "text": [
        "\n",
        "hilbert 13 18 maxima 1 2 0.5 5 0"
       ]
      },
      {
       "output_type": "stream",
       "stream": "stdout",
       "text": [
        "\n",
        "hilbert 13 18 maxima 1 2 0.5 5 1"
       ]
      },
      {
       "output_type": "stream",
       "stream": "stdout",
       "text": [
        "\n",
        "hilbert 13 18 maxima 1 1.5 0.5 2 0"
       ]
      },
      {
       "output_type": "stream",
       "stream": "stdout",
       "text": [
        "\n",
        "hilbert 13 18 maxima 1 1.5 0.5 2 1"
       ]
      },
      {
       "output_type": "stream",
       "stream": "stdout",
       "text": [
        "\n",
        "hilbert 13 18 maxima 1 1.5 0.5 5 0"
       ]
      },
      {
       "output_type": "stream",
       "stream": "stdout",
       "text": [
        "\n",
        "hilbert 13 18 maxima 1 1.5 0.5 5 1"
       ]
      },
      {
       "output_type": "stream",
       "stream": "stdout",
       "text": [
        "\n",
        "hilbert 13 18 maxima 1 1 0.5 2 0"
       ]
      },
      {
       "output_type": "stream",
       "stream": "stdout",
       "text": [
        "\n",
        "hilbert 13 18 maxima 1 1 0.5 2 1"
       ]
      },
      {
       "output_type": "stream",
       "stream": "stdout",
       "text": [
        "\n",
        "hilbert 13 18 maxima 1 1 0.5 5 0"
       ]
      },
      {
       "output_type": "stream",
       "stream": "stdout",
       "text": [
        "\n",
        "hilbert 13 18 maxima 1 1 0.5 5 1"
       ]
      },
      {
       "output_type": "stream",
       "stream": "stdout",
       "text": [
        "\n",
        "hilbert 13 19 relative 3 2 0.5 2 0"
       ]
      },
      {
       "output_type": "stream",
       "stream": "stdout",
       "text": [
        "\n",
        "hilbert 13 19 relative 3 2 0.5 2 1"
       ]
      },
      {
       "output_type": "stream",
       "stream": "stdout",
       "text": [
        "\n",
        "hilbert 13 19 relative 3 2 0.5 5 0"
       ]
      },
      {
       "output_type": "stream",
       "stream": "stdout",
       "text": [
        "\n",
        "hilbert 13 19 relative 3 2 0.5 5 1"
       ]
      },
      {
       "output_type": "stream",
       "stream": "stdout",
       "text": [
        "\n",
        "hilbert 13 19 relative 3 1.5 0.5 2 0"
       ]
      },
      {
       "output_type": "stream",
       "stream": "stdout",
       "text": [
        "\n",
        "hilbert 13 19 relative 3 1.5 0.5 2 1"
       ]
      },
      {
       "output_type": "stream",
       "stream": "stdout",
       "text": [
        "\n",
        "hilbert 13 19 relative 3 1.5 0.5 5 0"
       ]
      },
      {
       "output_type": "stream",
       "stream": "stdout",
       "text": [
        "\n",
        "hilbert 13 19 relative 3 1.5 0.5 5 1"
       ]
      },
      {
       "output_type": "stream",
       "stream": "stdout",
       "text": [
        "\n",
        "hilbert 13 19 relative 3 1 0.5 2 0"
       ]
      },
      {
       "output_type": "stream",
       "stream": "stdout",
       "text": [
        "\n",
        "hilbert 13 19 relative 3 1 0.5 2 1"
       ]
      },
      {
       "output_type": "stream",
       "stream": "stdout",
       "text": [
        "\n",
        "hilbert 13 19 relative 3 1 0.5 5 0"
       ]
      },
      {
       "output_type": "stream",
       "stream": "stdout",
       "text": [
        "\n",
        "hilbert 13 19 relative 3 1 0.5 5 1"
       ]
      },
      {
       "output_type": "stream",
       "stream": "stdout",
       "text": [
        "\n",
        "hilbert 13 19 relative 2 2 0.5 2 0"
       ]
      },
      {
       "output_type": "stream",
       "stream": "stdout",
       "text": [
        "\n",
        "hilbert 13 19 relative 2 2 0.5 2 1"
       ]
      },
      {
       "output_type": "stream",
       "stream": "stdout",
       "text": [
        "\n",
        "hilbert 13 19 relative 2 2 0.5 5 0"
       ]
      },
      {
       "output_type": "stream",
       "stream": "stdout",
       "text": [
        "\n",
        "hilbert 13 19 relative 2 2 0.5 5 1"
       ]
      },
      {
       "output_type": "stream",
       "stream": "stdout",
       "text": [
        "\n",
        "hilbert 13 19 relative 2 1.5 0.5 2 0"
       ]
      },
      {
       "output_type": "stream",
       "stream": "stdout",
       "text": [
        "\n",
        "hilbert 13 19 relative 2 1.5 0.5 2 1"
       ]
      },
      {
       "output_type": "stream",
       "stream": "stdout",
       "text": [
        "\n",
        "hilbert 13 19 relative 2 1.5 0.5 5 0"
       ]
      },
      {
       "output_type": "stream",
       "stream": "stdout",
       "text": [
        "\n",
        "hilbert 13 19 relative 2 1.5 0.5 5 1"
       ]
      },
      {
       "output_type": "stream",
       "stream": "stdout",
       "text": [
        "\n",
        "hilbert 13 19 relative 2 1 0.5 2 0"
       ]
      },
      {
       "output_type": "stream",
       "stream": "stdout",
       "text": [
        "\n",
        "hilbert 13 19 relative 2 1 0.5 2 1"
       ]
      },
      {
       "output_type": "stream",
       "stream": "stdout",
       "text": [
        "\n",
        "hilbert 13 19 relative 2 1 0.5 5 0"
       ]
      },
      {
       "output_type": "stream",
       "stream": "stdout",
       "text": [
        "\n",
        "hilbert 13 19 relative 2 1 0.5 5 1"
       ]
      },
      {
       "output_type": "stream",
       "stream": "stdout",
       "text": [
        "\n",
        "hilbert 13 19 relative 1 2 0.5 2 0"
       ]
      },
      {
       "output_type": "stream",
       "stream": "stdout",
       "text": [
        "\n",
        "hilbert 13 19 relative 1 2 0.5 2 1"
       ]
      },
      {
       "output_type": "stream",
       "stream": "stdout",
       "text": [
        "\n",
        "hilbert 13 19 relative 1 2 0.5 5 0"
       ]
      },
      {
       "output_type": "stream",
       "stream": "stdout",
       "text": [
        "\n",
        "hilbert 13 19 relative 1 2 0.5 5 1"
       ]
      },
      {
       "output_type": "stream",
       "stream": "stdout",
       "text": [
        "\n",
        "hilbert 13 19 relative 1 1.5 0.5 2 0"
       ]
      },
      {
       "output_type": "stream",
       "stream": "stdout",
       "text": [
        "\n",
        "hilbert 13 19 relative 1 1.5 0.5 2 1"
       ]
      },
      {
       "output_type": "stream",
       "stream": "stdout",
       "text": [
        "\n",
        "hilbert 13 19 relative 1 1.5 0.5 5 0"
       ]
      },
      {
       "output_type": "stream",
       "stream": "stdout",
       "text": [
        "\n",
        "hilbert 13 19 relative 1 1.5 0.5 5 1"
       ]
      },
      {
       "output_type": "stream",
       "stream": "stdout",
       "text": [
        "\n",
        "hilbert 13 19 relative 1 1 0.5 2 0"
       ]
      },
      {
       "output_type": "stream",
       "stream": "stdout",
       "text": [
        "\n",
        "hilbert 13 19 relative 1 1 0.5 2 1"
       ]
      },
      {
       "output_type": "stream",
       "stream": "stdout",
       "text": [
        "\n",
        "hilbert 13 19 relative 1 1 0.5 5 0"
       ]
      },
      {
       "output_type": "stream",
       "stream": "stdout",
       "text": [
        "\n",
        "hilbert 13 19 relative 1 1 0.5 5 1"
       ]
      },
      {
       "output_type": "stream",
       "stream": "stdout",
       "text": [
        "\n",
        "hilbert 13 19 maxima 3 2 0.5 2 0"
       ]
      },
      {
       "output_type": "stream",
       "stream": "stdout",
       "text": [
        "\n",
        "hilbert 13 19 maxima 3 2 0.5 2 1"
       ]
      },
      {
       "output_type": "stream",
       "stream": "stdout",
       "text": [
        "\n",
        "hilbert 13 19 maxima 3 2 0.5 5 0"
       ]
      },
      {
       "output_type": "stream",
       "stream": "stdout",
       "text": [
        "\n",
        "hilbert 13 19 maxima 3 2 0.5 5 1"
       ]
      },
      {
       "output_type": "stream",
       "stream": "stdout",
       "text": [
        "\n",
        "hilbert 13 19 maxima 3 1.5 0.5 2 0"
       ]
      },
      {
       "output_type": "stream",
       "stream": "stdout",
       "text": [
        "\n",
        "hilbert 13 19 maxima 3 1.5 0.5 2 1"
       ]
      },
      {
       "output_type": "stream",
       "stream": "stdout",
       "text": [
        "\n",
        "hilbert 13 19 maxima 3 1.5 0.5 5 0"
       ]
      },
      {
       "output_type": "stream",
       "stream": "stdout",
       "text": [
        "\n",
        "hilbert 13 19 maxima 3 1.5 0.5 5 1"
       ]
      },
      {
       "output_type": "stream",
       "stream": "stdout",
       "text": [
        "\n",
        "hilbert 13 19 maxima 3 1 0.5 2 0"
       ]
      },
      {
       "output_type": "stream",
       "stream": "stdout",
       "text": [
        "\n",
        "hilbert 13 19 maxima 3 1 0.5 2 1"
       ]
      },
      {
       "output_type": "stream",
       "stream": "stdout",
       "text": [
        "\n",
        "hilbert 13 19 maxima 3 1 0.5 5 0"
       ]
      },
      {
       "output_type": "stream",
       "stream": "stdout",
       "text": [
        "\n",
        "hilbert 13 19 maxima 3 1 0.5 5 1"
       ]
      },
      {
       "output_type": "stream",
       "stream": "stdout",
       "text": [
        "\n",
        "hilbert 13 19 maxima 2 2 0.5 2 0"
       ]
      },
      {
       "output_type": "stream",
       "stream": "stdout",
       "text": [
        "\n",
        "hilbert 13 19 maxima 2 2 0.5 2 1"
       ]
      },
      {
       "output_type": "stream",
       "stream": "stdout",
       "text": [
        "\n",
        "hilbert 13 19 maxima 2 2 0.5 5 0"
       ]
      },
      {
       "output_type": "stream",
       "stream": "stdout",
       "text": [
        "\n",
        "hilbert 13 19 maxima 2 2 0.5 5 1"
       ]
      },
      {
       "output_type": "stream",
       "stream": "stdout",
       "text": [
        "\n",
        "hilbert 13 19 maxima 2 1.5 0.5 2 0"
       ]
      },
      {
       "output_type": "stream",
       "stream": "stdout",
       "text": [
        "\n",
        "hilbert 13 19 maxima 2 1.5 0.5 2 1"
       ]
      },
      {
       "output_type": "stream",
       "stream": "stdout",
       "text": [
        "\n",
        "hilbert 13 19 maxima 2 1.5 0.5 5 0"
       ]
      },
      {
       "output_type": "stream",
       "stream": "stdout",
       "text": [
        "\n",
        "hilbert 13 19 maxima 2 1.5 0.5 5 1"
       ]
      },
      {
       "output_type": "stream",
       "stream": "stdout",
       "text": [
        "\n",
        "hilbert 13 19 maxima 2 1 0.5 2 0"
       ]
      },
      {
       "output_type": "stream",
       "stream": "stdout",
       "text": [
        "\n",
        "hilbert 13 19 maxima 2 1 0.5 2 1"
       ]
      },
      {
       "output_type": "stream",
       "stream": "stdout",
       "text": [
        "\n",
        "hilbert 13 19 maxima 2 1 0.5 5 0"
       ]
      },
      {
       "output_type": "stream",
       "stream": "stdout",
       "text": [
        "\n",
        "hilbert 13 19 maxima 2 1 0.5 5 1"
       ]
      },
      {
       "output_type": "stream",
       "stream": "stdout",
       "text": [
        "\n",
        "hilbert 13 19 maxima 1 2 0.5 2 0"
       ]
      },
      {
       "output_type": "stream",
       "stream": "stdout",
       "text": [
        "\n",
        "hilbert 13 19 maxima 1 2 0.5 2 1"
       ]
      },
      {
       "output_type": "stream",
       "stream": "stdout",
       "text": [
        "\n",
        "hilbert 13 19 maxima 1 2 0.5 5 0"
       ]
      },
      {
       "output_type": "stream",
       "stream": "stdout",
       "text": [
        "\n",
        "hilbert 13 19 maxima 1 2 0.5 5 1"
       ]
      },
      {
       "output_type": "stream",
       "stream": "stdout",
       "text": [
        "\n",
        "hilbert 13 19 maxima 1 1.5 0.5 2 0"
       ]
      },
      {
       "output_type": "stream",
       "stream": "stdout",
       "text": [
        "\n",
        "hilbert 13 19 maxima 1 1.5 0.5 2 1"
       ]
      },
      {
       "output_type": "stream",
       "stream": "stdout",
       "text": [
        "\n",
        "hilbert 13 19 maxima 1 1.5 0.5 5 0"
       ]
      },
      {
       "output_type": "stream",
       "stream": "stdout",
       "text": [
        "\n",
        "hilbert 13 19 maxima 1 1.5 0.5 5 1"
       ]
      },
      {
       "output_type": "stream",
       "stream": "stdout",
       "text": [
        "\n",
        "hilbert 13 19 maxima 1 1 0.5 2 0"
       ]
      },
      {
       "output_type": "stream",
       "stream": "stdout",
       "text": [
        "\n",
        "hilbert 13 19 maxima 1 1 0.5 2 1"
       ]
      },
      {
       "output_type": "stream",
       "stream": "stdout",
       "text": [
        "\n",
        "hilbert 13 19 maxima 1 1 0.5 5 0"
       ]
      },
      {
       "output_type": "stream",
       "stream": "stdout",
       "text": [
        "\n",
        "hilbert 13 19 maxima 1 1 0.5 5 1"
       ]
      },
      {
       "output_type": "stream",
       "stream": "stdout",
       "text": [
        "\n",
        "hilbert 13 20 relative 3 2 0.5 2 0"
       ]
      },
      {
       "output_type": "stream",
       "stream": "stdout",
       "text": [
        "\n",
        "hilbert 13 20 relative 3 2 0.5 2 1"
       ]
      },
      {
       "output_type": "stream",
       "stream": "stdout",
       "text": [
        "\n",
        "hilbert 13 20 relative 3 2 0.5 5 0"
       ]
      },
      {
       "output_type": "stream",
       "stream": "stdout",
       "text": [
        "\n",
        "hilbert 13 20 relative 3 2 0.5 5 1"
       ]
      },
      {
       "output_type": "stream",
       "stream": "stdout",
       "text": [
        "\n",
        "hilbert 13 20 relative 3 1.5 0.5 2 0"
       ]
      },
      {
       "output_type": "stream",
       "stream": "stdout",
       "text": [
        "\n",
        "hilbert 13 20 relative 3 1.5 0.5 2 1"
       ]
      },
      {
       "output_type": "stream",
       "stream": "stdout",
       "text": [
        "\n",
        "hilbert 13 20 relative 3 1.5 0.5 5 0"
       ]
      },
      {
       "output_type": "stream",
       "stream": "stdout",
       "text": [
        "\n",
        "hilbert 13 20 relative 3 1.5 0.5 5 1"
       ]
      },
      {
       "output_type": "stream",
       "stream": "stdout",
       "text": [
        "\n",
        "hilbert 13 20 relative 3 1 0.5 2 0"
       ]
      },
      {
       "output_type": "stream",
       "stream": "stdout",
       "text": [
        "\n",
        "hilbert 13 20 relative 3 1 0.5 2 1"
       ]
      },
      {
       "output_type": "stream",
       "stream": "stdout",
       "text": [
        "\n",
        "hilbert 13 20 relative 3 1 0.5 5 0"
       ]
      },
      {
       "output_type": "stream",
       "stream": "stdout",
       "text": [
        "\n",
        "hilbert 13 20 relative 3 1 0.5 5 1"
       ]
      },
      {
       "output_type": "stream",
       "stream": "stdout",
       "text": [
        "\n",
        "hilbert 13 20 relative 2 2 0.5 2 0"
       ]
      },
      {
       "output_type": "stream",
       "stream": "stdout",
       "text": [
        "\n",
        "hilbert 13 20 relative 2 2 0.5 2 1"
       ]
      },
      {
       "output_type": "stream",
       "stream": "stdout",
       "text": [
        "\n",
        "hilbert 13 20 relative 2 2 0.5 5 0"
       ]
      },
      {
       "output_type": "stream",
       "stream": "stdout",
       "text": [
        "\n",
        "hilbert 13 20 relative 2 2 0.5 5 1"
       ]
      },
      {
       "output_type": "stream",
       "stream": "stdout",
       "text": [
        "\n",
        "hilbert 13 20 relative 2 1.5 0.5 2 0"
       ]
      },
      {
       "output_type": "stream",
       "stream": "stdout",
       "text": [
        "\n",
        "hilbert 13 20 relative 2 1.5 0.5 2 1"
       ]
      },
      {
       "output_type": "stream",
       "stream": "stdout",
       "text": [
        "\n",
        "hilbert 13 20 relative 2 1.5 0.5 5 0"
       ]
      },
      {
       "output_type": "stream",
       "stream": "stdout",
       "text": [
        "\n",
        "hilbert 13 20 relative 2 1.5 0.5 5 1"
       ]
      },
      {
       "output_type": "stream",
       "stream": "stdout",
       "text": [
        "\n",
        "hilbert 13 20 relative 2 1 0.5 2 0"
       ]
      },
      {
       "output_type": "stream",
       "stream": "stdout",
       "text": [
        "\n",
        "hilbert 13 20 relative 2 1 0.5 2 1"
       ]
      },
      {
       "output_type": "stream",
       "stream": "stdout",
       "text": [
        "\n",
        "hilbert 13 20 relative 2 1 0.5 5 0"
       ]
      },
      {
       "output_type": "stream",
       "stream": "stdout",
       "text": [
        "\n",
        "hilbert 13 20 relative 2 1 0.5 5 1"
       ]
      },
      {
       "output_type": "stream",
       "stream": "stdout",
       "text": [
        "\n",
        "hilbert 13 20 relative 1 2 0.5 2 0"
       ]
      },
      {
       "output_type": "stream",
       "stream": "stdout",
       "text": [
        "\n",
        "hilbert 13 20 relative 1 2 0.5 2 1"
       ]
      },
      {
       "output_type": "stream",
       "stream": "stdout",
       "text": [
        "\n",
        "hilbert 13 20 relative 1 2 0.5 5 0"
       ]
      },
      {
       "output_type": "stream",
       "stream": "stdout",
       "text": [
        "\n",
        "hilbert 13 20 relative 1 2 0.5 5 1"
       ]
      },
      {
       "output_type": "stream",
       "stream": "stdout",
       "text": [
        "\n",
        "hilbert 13 20 relative 1 1.5 0.5 2 0"
       ]
      },
      {
       "output_type": "stream",
       "stream": "stdout",
       "text": [
        "\n",
        "hilbert 13 20 relative 1 1.5 0.5 2 1"
       ]
      },
      {
       "output_type": "stream",
       "stream": "stdout",
       "text": [
        "\n",
        "hilbert 13 20 relative 1 1.5 0.5 5 0"
       ]
      },
      {
       "output_type": "stream",
       "stream": "stdout",
       "text": [
        "\n",
        "hilbert 13 20 relative 1 1.5 0.5 5 1"
       ]
      },
      {
       "output_type": "stream",
       "stream": "stdout",
       "text": [
        "\n",
        "hilbert 13 20 relative 1 1 0.5 2 0"
       ]
      },
      {
       "output_type": "stream",
       "stream": "stdout",
       "text": [
        "\n",
        "hilbert 13 20 relative 1 1 0.5 2 1"
       ]
      },
      {
       "output_type": "stream",
       "stream": "stdout",
       "text": [
        "\n",
        "hilbert 13 20 relative 1 1 0.5 5 0"
       ]
      },
      {
       "output_type": "stream",
       "stream": "stdout",
       "text": [
        "\n",
        "hilbert 13 20 relative 1 1 0.5 5 1"
       ]
      },
      {
       "output_type": "stream",
       "stream": "stdout",
       "text": [
        "\n",
        "hilbert 13 20 maxima 3 2 0.5 2 0"
       ]
      },
      {
       "output_type": "stream",
       "stream": "stdout",
       "text": [
        "\n",
        "hilbert 13 20 maxima 3 2 0.5 2 1"
       ]
      },
      {
       "output_type": "stream",
       "stream": "stdout",
       "text": [
        "\n",
        "hilbert 13 20 maxima 3 2 0.5 5 0"
       ]
<<<<<<< Updated upstream
      },
=======
      }
     ],
     "prompt_number": 2
    },
    {
     "cell_type": "code",
     "collapsed": false,
     "input": [
      "rec_dir = '/home/gio/recordings'\n",
      "score_path = 'doc/scores'\n",
      "sleep_stages = ('NREM2', 'NREM3')\n",
      "wake_stages = ('Wake', )\n",
      "\n",
      "data_dir = '/home/gio/projects/spgr/subjects'\n",
      "xltek_path = 'eeg/raw/xltek'\n",
      "MIN_EPOCHS = 40"
     ],
     "language": "python",
     "metadata": {},
     "outputs": [],
     "prompt_number": 3
    },
    {
     "cell_type": "code",
     "collapsed": false,
     "input": [
      "def save_wake_sleep_data(sleep_epochs, xltek_file, subj_dir):\n",
      "                         \n",
      "    d = Dataset(xltek_file)\n",
      "    start_time = [x['start_time'] for x in sleep_epochs]\n",
      "    end_time = [x['end_time'] for x in sleep_epochs]\n",
      "    gr_chan = d.header['chan_name'][:60]\n",
      "    sleep_data = d.read_data(begtime=start_time[:MIN_EPOCHS], endtime=end_time[:MIN_EPOCHS], chan=gr_chan)\n",
      "    start_time = [x['start_time'] for x in wake_epochs]\n",
      "    end_time = [x['end_time'] for x in wake_epochs]\n",
      "    wake_data = d.read_data(begtime=start_time[:MIN_EPOCHS], endtime=end_time[:MIN_EPOCHS], chan=gr_chan)\n",
      "\n",
      "    hp_filt = Filter(low_cut=1, s_freq=sleep_data.s_freq)\n",
      "    lp_filt = Filter(high_cut=40, s_freq=sleep_data.s_freq)\n",
      "        \n",
      "    if not isdir(subj_dir):\n",
      "        mkdir(subj_dir)\n",
      "    \n",
      "    sleep_file = join(subj_dir, 'sleep_data.pkl')\n",
      "    wake_file = join(subj_dir, 'wake_data.pkl')\n",
      "    \n",
      "    sleep_data = lp_filt(hp_filt(sleep_data))\n",
      "    wake_data = lp_filt(hp_filt(wake_data))\n",
      "    \n",
      "    dump(sleep_data, open(sleep_file, 'wb'))\n",
      "    dump(wake_data, open(wake_file, 'wb'))\n"
     ],
     "language": "python",
     "metadata": {},
     "outputs": [],
     "prompt_number": 4
    },
    {
     "cell_type": "code",
     "collapsed": false,
     "input": [
      "for subj in sorted(listdir(rec_dir)):\n",
      "    score_dir = join(rec_dir, subj, score_path)\n",
      "    all_xml = listdir(score_dir)\n",
      "    if all_xml:\n",
      "        for one_xml in all_xml:\n",
      "            score = Scores(join(score_dir, one_xml))\n",
      "            sleep_epochs = score.get_epochs(sleep_stages)\n",
      "            wake_epochs = score.get_epochs(wake_stages)\n",
      "\n",
      "            print('{0} has{1: 5.1f} minutes of {2} and{3: 5.1f} minutes of {4}.'\n",
      "                  ''.format(one_xml, len(sleep_epochs)/2, ', '.join(sleep_stages),\n",
      "                            len(wake_epochs)/2, ', '.join(wake_stages)))\n",
      "       \n",
      "            if len(sleep_epochs) >= MIN_EPOCHS and len(wake_epochs) >= MIN_EPOCHS:\n",
      "                print('saving data for ' + subj)\n",
      "                xltek_file = join(rec_dir, subj, xltek_path, one_xml[:-11])\n",
      "                subj_dir = join(data_dir, subj)\n",
      "                # save_wake_sleep_data(sleep_epochs, xltek_file, subj_dir)"
     ],
     "language": "python",
     "metadata": {},
     "outputs": [
      {
       "output_type": "stream",
       "stream": "stdout",
       "text": [
        "\n",
        "hilbert 13 20 maxima 2 2 0.5 5 0"
       ]
      },
      {
       "output_type": "stream",
       "stream": "stdout",
       "text": [
        "\n",
        "hilbert 13 20 maxima 2 2 0.5 5 1"
       ]
      },
      {
       "output_type": "stream",
       "stream": "stdout",
       "text": [
        "\n",
        "hilbert 13 20 maxima 2 1.5 0.5 2 0"
       ]
      },
      {
       "output_type": "stream",
       "stream": "stdout",
       "text": [
        "\n",
        "hilbert 13 20 maxima 2 1.5 0.5 2 1"
       ]
      },
      {
       "output_type": "stream",
       "stream": "stdout",
       "text": [
        "\n",
        "hilbert 13 20 maxima 2 1.5 0.5 5 0"
       ]
      },
      {
       "output_type": "stream",
       "stream": "stdout",
       "text": [
        "\n",
        "hilbert 13 20 maxima 2 1.5 0.5 5 1"
       ]
      },
      {
       "output_type": "stream",
       "stream": "stdout",
       "text": [
        "\n",
        "hilbert 13 20 maxima 2 1 0.5 2 0"
       ]
      },
      {
       "output_type": "stream",
       "stream": "stdout",
       "text": [
        "\n",
        "hilbert 13 20 maxima 2 1 0.5 2 1"
       ]
      },
      {
       "output_type": "stream",
       "stream": "stdout",
       "text": [
        "\n",
        "hilbert 13 20 maxima 2 1 0.5 5 0"
       ]
      },
      {
       "output_type": "stream",
       "stream": "stdout",
       "text": [
        "\n",
        "hilbert 13 20 maxima 2 1 0.5 5 1"
       ]
      },
      {
       "output_type": "stream",
       "stream": "stdout",
       "text": [
        "\n",
        "hilbert 13 20 maxima 1 2 0.5 2 0"
       ]
      },
      {
       "output_type": "stream",
       "stream": "stdout",
       "text": [
        "\n",
        "hilbert 13 20 maxima 1 2 0.5 2 1"
       ]
      },
      {
       "output_type": "stream",
       "stream": "stdout",
       "text": [
        "\n",
        "hilbert 13 20 maxima 1 2 0.5 5 0"
       ]
      },
      {
       "output_type": "stream",
       "stream": "stdout",
       "text": [
        "\n",
        "hilbert 13 20 maxima 1 2 0.5 5 1"
       ]
      },
      {
       "output_type": "stream",
       "stream": "stdout",
       "text": [
        "\n",
        "hilbert 13 20 maxima 1 1.5 0.5 2 0"
       ]
      },
      {
       "output_type": "stream",
       "stream": "stdout",
       "text": [
        "\n",
        "hilbert 13 20 maxima 1 1.5 0.5 2 1"
       ]
      },
      {
       "output_type": "stream",
       "stream": "stdout",
       "text": [
        "\n",
        "hilbert 13 20 maxima 1 1.5 0.5 5 0"
       ]
      },
      {
       "output_type": "stream",
       "stream": "stdout",
       "text": [
        "\n",
        "hilbert 13 20 maxima 1 1.5 0.5 5 1"
       ]
      },
      {
       "output_type": "stream",
       "stream": "stdout",
       "text": [
        "\n",
        "hilbert 13 20 maxima 1 1 0.5 2 0"
       ]
      },
      {
       "output_type": "stream",
       "stream": "stdout",
       "text": [
        "\n",
        "hilbert 13 20 maxima 1 1 0.5 2 1"
       ]
      },
      {
       "output_type": "stream",
       "stream": "stdout",
       "text": [
        "\n",
        "hilbert 13 20 maxima 1 1 0.5 5 0"
       ]
      },
      {
       "output_type": "stream",
       "stream": "stdout",
       "text": [
        "\n",
        "hilbert 13 20 maxima 1 1 0.5 5 1"
       ]
      },
      {
       "output_type": "stream",
       "stream": "stdout",
       "text": [
        "\n",
        "hilbert 14 17 relative 3 2 0.5 2 0"
       ]
      },
      {
       "output_type": "stream",
       "stream": "stdout",
       "text": [
        "\n",
        "hilbert 14 17 relative 3 2 0.5 2 1"
       ]
      },
      {
       "output_type": "stream",
       "stream": "stdout",
       "text": [
        "\n",
        "hilbert 14 17 relative 3 2 0.5 5 0"
       ]
      },
      {
       "output_type": "stream",
       "stream": "stdout",
       "text": [
        "\n",
        "hilbert 14 17 relative 3 2 0.5 5 1"
       ]
      },
      {
       "output_type": "stream",
       "stream": "stdout",
       "text": [
        "\n",
        "hilbert 14 17 relative 3 1.5 0.5 2 0"
       ]
      },
      {
       "output_type": "stream",
       "stream": "stdout",
       "text": [
        "\n",
        "hilbert 14 17 relative 3 1.5 0.5 2 1"
       ]
      },
      {
       "output_type": "stream",
       "stream": "stdout",
       "text": [
        "\n",
        "hilbert 14 17 relative 3 1.5 0.5 5 0"
       ]
      },
      {
       "output_type": "stream",
       "stream": "stdout",
       "text": [
        "\n",
        "hilbert 14 17 relative 3 1.5 0.5 5 1"
       ]
      },
      {
       "output_type": "stream",
       "stream": "stdout",
       "text": [
        "\n",
        "hilbert 14 17 relative 3 1 0.5 2 0"
       ]
      },
      {
       "output_type": "stream",
       "stream": "stdout",
       "text": [
        "\n",
        "hilbert 14 17 relative 3 1 0.5 2 1"
       ]
      },
      {
       "output_type": "stream",
       "stream": "stdout",
       "text": [
        "\n",
        "hilbert 14 17 relative 3 1 0.5 5 0"
       ]
      },
      {
       "output_type": "stream",
       "stream": "stdout",
       "text": [
        "\n",
        "hilbert 14 17 relative 3 1 0.5 5 1"
       ]
      },
      {
       "output_type": "stream",
       "stream": "stdout",
       "text": [
        "\n",
        "hilbert 14 17 relative 2 2 0.5 2 0"
       ]
      },
      {
       "output_type": "stream",
       "stream": "stdout",
       "text": [
        "\n",
        "hilbert 14 17 relative 2 2 0.5 2 1"
       ]
      },
      {
       "output_type": "stream",
       "stream": "stdout",
       "text": [
        "\n",
        "hilbert 14 17 relative 2 2 0.5 5 0"
       ]
      },
      {
       "output_type": "stream",
       "stream": "stdout",
       "text": [
        "\n",
        "hilbert 14 17 relative 2 2 0.5 5 1"
       ]
      },
      {
       "output_type": "stream",
       "stream": "stdout",
       "text": [
        "\n",
        "hilbert 14 17 relative 2 1.5 0.5 2 0"
       ]
      },
      {
       "output_type": "stream",
       "stream": "stdout",
       "text": [
        "\n",
        "hilbert 14 17 relative 2 1.5 0.5 2 1"
       ]
      },
      {
       "output_type": "stream",
       "stream": "stdout",
       "text": [
        "\n",
        "hilbert 14 17 relative 2 1.5 0.5 5 0"
       ]
      },
      {
       "output_type": "stream",
       "stream": "stdout",
       "text": [
        "\n",
        "hilbert 14 17 relative 2 1.5 0.5 5 1"
       ]
      },
      {
       "output_type": "stream",
       "stream": "stdout",
       "text": [
        "\n",
        "hilbert 14 17 relative 2 1 0.5 2 0"
       ]
      },
      {
       "output_type": "stream",
       "stream": "stdout",
       "text": [
        "\n",
        "hilbert 14 17 relative 2 1 0.5 2 1"
       ]
      },
      {
       "output_type": "stream",
       "stream": "stdout",
       "text": [
        "\n",
        "hilbert 14 17 relative 2 1 0.5 5 0"
       ]
      },
      {
       "output_type": "stream",
       "stream": "stdout",
       "text": [
        "\n",
        "hilbert 14 17 relative 2 1 0.5 5 1"
       ]
      },
      {
       "output_type": "stream",
       "stream": "stdout",
       "text": [
        "\n",
        "hilbert 14 17 relative 1 2 0.5 2 0"
       ]
      },
      {
       "output_type": "stream",
       "stream": "stdout",
       "text": [
        "\n",
        "hilbert 14 17 relative 1 2 0.5 2 1"
       ]
      },
      {
       "output_type": "stream",
       "stream": "stdout",
       "text": [
        "\n",
        "hilbert 14 17 relative 1 2 0.5 5 0"
       ]
      },
      {
       "output_type": "stream",
       "stream": "stdout",
       "text": [
        "\n",
        "hilbert 14 17 relative 1 2 0.5 5 1"
       ]
      },
      {
       "output_type": "stream",
       "stream": "stdout",
       "text": [
        "\n",
        "hilbert 14 17 relative 1 1.5 0.5 2 0"
       ]
      },
      {
       "output_type": "stream",
       "stream": "stdout",
       "text": [
        "\n",
        "hilbert 14 17 relative 1 1.5 0.5 2 1"
       ]
      },
      {
       "output_type": "stream",
       "stream": "stdout",
       "text": [
        "\n",
        "hilbert 14 17 relative 1 1.5 0.5 5 0"
       ]
      },
      {
       "output_type": "stream",
       "stream": "stdout",
       "text": [
        "\n",
        "hilbert 14 17 relative 1 1.5 0.5 5 1"
       ]
      },
      {
       "output_type": "stream",
       "stream": "stdout",
       "text": [
        "\n",
        "hilbert 14 17 relative 1 1 0.5 2 0"
       ]
      },
      {
       "output_type": "stream",
       "stream": "stdout",
       "text": [
        "\n",
        "hilbert 14 17 relative 1 1 0.5 2 1"
       ]
      },
      {
       "output_type": "stream",
       "stream": "stdout",
       "text": [
        "\n",
        "hilbert 14 17 relative 1 1 0.5 5 0"
       ]
      },
      {
       "output_type": "stream",
       "stream": "stdout",
       "text": [
        "\n",
        "hilbert 14 17 relative 1 1 0.5 5 1"
       ]
      },
      {
       "output_type": "stream",
       "stream": "stdout",
       "text": [
        "\n",
        "hilbert 14 17 maxima 3 2 0.5 2 0"
       ]
      },
      {
       "output_type": "stream",
       "stream": "stdout",
       "text": [
        "\n",
        "hilbert 14 17 maxima 3 2 0.5 2 1"
       ]
      },
      {
       "output_type": "stream",
       "stream": "stdout",
       "text": [
        "\n",
        "hilbert 14 17 maxima 3 2 0.5 5 0"
       ]
      },
      {
       "output_type": "stream",
       "stream": "stdout",
       "text": [
        "\n",
        "hilbert 14 17 maxima 3 2 0.5 5 1"
       ]
      },
      {
       "output_type": "stream",
       "stream": "stdout",
       "text": [
        "\n",
        "hilbert 14 17 maxima 3 1.5 0.5 2 0"
       ]
      },
      {
       "output_type": "stream",
       "stream": "stdout",
       "text": [
        "\n",
        "hilbert 14 17 maxima 3 1.5 0.5 2 1"
       ]
      },
      {
       "output_type": "stream",
       "stream": "stdout",
       "text": [
        "\n",
        "hilbert 14 17 maxima 3 1.5 0.5 5 0"
       ]
      },
      {
       "output_type": "stream",
       "stream": "stdout",
       "text": [
        "\n",
        "hilbert 14 17 maxima 3 1.5 0.5 5 1"
       ]
      },
      {
       "output_type": "stream",
       "stream": "stdout",
       "text": [
        "\n",
        "hilbert 14 17 maxima 3 1 0.5 2 0"
       ]
      },
      {
       "output_type": "stream",
       "stream": "stdout",
       "text": [
        "\n",
        "hilbert 14 17 maxima 3 1 0.5 2 1"
       ]
      },
      {
       "output_type": "stream",
       "stream": "stdout",
       "text": [
        "\n",
        "hilbert 14 17 maxima 3 1 0.5 5 0"
       ]
      },
      {
       "output_type": "stream",
       "stream": "stdout",
       "text": [
        "\n",
        "hilbert 14 17 maxima 3 1 0.5 5 1"
       ]
      },
      {
       "output_type": "stream",
       "stream": "stdout",
       "text": [
        "\n",
        "hilbert 14 17 maxima 2 2 0.5 2 0"
       ]
      },
      {
       "output_type": "stream",
       "stream": "stdout",
       "text": [
        "\n",
        "hilbert 14 17 maxima 2 2 0.5 2 1"
       ]
      },
      {
       "output_type": "stream",
       "stream": "stdout",
       "text": [
        "\n",
        "hilbert 14 17 maxima 2 2 0.5 5 0"
       ]
      },
      {
       "output_type": "stream",
       "stream": "stdout",
       "text": [
        "\n",
        "hilbert 14 17 maxima 2 2 0.5 5 1"
       ]
      },
      {
       "output_type": "stream",
       "stream": "stdout",
       "text": [
        "\n",
        "hilbert 14 17 maxima 2 1.5 0.5 2 0"
       ]
      },
      {
       "output_type": "stream",
       "stream": "stdout",
       "text": [
        "\n",
        "hilbert 14 17 maxima 2 1.5 0.5 2 1"
       ]
      },
      {
       "output_type": "stream",
       "stream": "stdout",
       "text": [
        "\n",
        "hilbert 14 17 maxima 2 1.5 0.5 5 0"
       ]
      },
      {
       "output_type": "stream",
       "stream": "stdout",
       "text": [
        "\n",
        "hilbert 14 17 maxima 2 1.5 0.5 5 1"
       ]
      },
      {
       "output_type": "stream",
       "stream": "stdout",
       "text": [
        "\n",
        "hilbert 14 17 maxima 2 1 0.5 2 0"
       ]
      },
      {
       "output_type": "stream",
       "stream": "stdout",
       "text": [
        "\n",
        "hilbert 14 17 maxima 2 1 0.5 2 1"
       ]
      },
      {
       "output_type": "stream",
       "stream": "stdout",
       "text": [
        "\n",
        "hilbert 14 17 maxima 2 1 0.5 5 0"
       ]
      },
      {
       "output_type": "stream",
       "stream": "stdout",
       "text": [
        "\n",
        "hilbert 14 17 maxima 2 1 0.5 5 1"
       ]
      },
      {
       "output_type": "stream",
       "stream": "stdout",
       "text": [
        "\n",
        "hilbert 14 17 maxima 1 2 0.5 2 0"
       ]
      },
      {
       "output_type": "stream",
       "stream": "stdout",
       "text": [
        "\n",
        "hilbert 14 17 maxima 1 2 0.5 2 1"
       ]
      },
      {
       "output_type": "stream",
       "stream": "stdout",
       "text": [
        "\n",
        "hilbert 14 17 maxima 1 2 0.5 5 0"
       ]
      },
      {
       "output_type": "stream",
       "stream": "stdout",
       "text": [
        "\n",
        "hilbert 14 17 maxima 1 2 0.5 5 1"
       ]
      },
      {
       "output_type": "stream",
       "stream": "stdout",
       "text": [
        "\n",
        "hilbert 14 17 maxima 1 1.5 0.5 2 0"
       ]
      },
      {
       "output_type": "stream",
       "stream": "stdout",
       "text": [
        "\n",
        "hilbert 14 17 maxima 1 1.5 0.5 2 1"
       ]
      },
      {
       "output_type": "stream",
       "stream": "stdout",
       "text": [
        "\n",
        "hilbert 14 17 maxima 1 1.5 0.5 5 0"
       ]
      },
      {
       "output_type": "stream",
       "stream": "stdout",
       "text": [
        "\n",
        "hilbert 14 17 maxima 1 1.5 0.5 5 1"
       ]
      },
      {
       "output_type": "stream",
       "stream": "stdout",
       "text": [
        "\n",
        "hilbert 14 17 maxima 1 1 0.5 2 0"
       ]
      },
      {
       "output_type": "stream",
       "stream": "stdout",
       "text": [
        "\n",
        "hilbert 14 17 maxima 1 1 0.5 2 1"
       ]
      },
      {
       "output_type": "stream",
       "stream": "stdout",
       "text": [
        "\n",
        "hilbert 14 17 maxima 1 1 0.5 5 0"
       ]
      },
      {
       "output_type": "stream",
       "stream": "stdout",
       "text": [
        "\n",
        "hilbert 14 17 maxima 1 1 0.5 5 1"
       ]
      },
      {
       "output_type": "stream",
       "stream": "stdout",
       "text": [
        "\n",
        "hilbert 14 18 relative 3 2 0.5 2 0"
       ]
      },
      {
       "output_type": "stream",
       "stream": "stdout",
       "text": [
        "\n",
        "hilbert 14 18 relative 3 2 0.5 2 1"
       ]
      },
      {
       "output_type": "stream",
       "stream": "stdout",
       "text": [
        "\n",
        "hilbert 14 18 relative 3 2 0.5 5 0"
       ]
      },
      {
       "output_type": "stream",
       "stream": "stdout",
       "text": [
        "\n",
        "hilbert 14 18 relative 3 2 0.5 5 1"
       ]
      },
      {
       "output_type": "stream",
       "stream": "stdout",
       "text": [
        "\n",
        "hilbert 14 18 relative 3 1.5 0.5 2 0"
       ]
      },
      {
       "output_type": "stream",
       "stream": "stdout",
       "text": [
        "\n",
        "hilbert 14 18 relative 3 1.5 0.5 2 1"
       ]
      },
      {
       "output_type": "stream",
       "stream": "stdout",
       "text": [
        "\n",
        "hilbert 14 18 relative 3 1.5 0.5 5 0"
       ]
      },
      {
       "output_type": "stream",
       "stream": "stdout",
       "text": [
        "\n",
        "hilbert 14 18 relative 3 1.5 0.5 5 1"
       ]
      },
      {
       "output_type": "stream",
       "stream": "stdout",
       "text": [
        "\n",
        "hilbert 14 18 relative 3 1 0.5 2 0"
       ]
      },
      {
       "output_type": "stream",
       "stream": "stdout",
       "text": [
        "\n",
        "hilbert 14 18 relative 3 1 0.5 2 1"
       ]
      },
      {
       "output_type": "stream",
       "stream": "stdout",
       "text": [
        "\n",
        "hilbert 14 18 relative 3 1 0.5 5 0"
       ]
      },
      {
       "output_type": "stream",
       "stream": "stdout",
       "text": [
        "\n",
        "hilbert 14 18 relative 3 1 0.5 5 1"
       ]
      },
      {
       "output_type": "stream",
       "stream": "stdout",
       "text": [
        "\n",
        "hilbert 14 18 relative 2 2 0.5 2 0"
       ]
      },
      {
       "output_type": "stream",
       "stream": "stdout",
       "text": [
        "\n",
        "hilbert 14 18 relative 2 2 0.5 2 1"
       ]
      },
      {
       "output_type": "stream",
       "stream": "stdout",
       "text": [
        "\n",
        "hilbert 14 18 relative 2 2 0.5 5 0"
       ]
      },
      {
       "output_type": "stream",
       "stream": "stdout",
       "text": [
        "\n",
        "hilbert 14 18 relative 2 2 0.5 5 1"
       ]
      },
      {
       "output_type": "stream",
       "stream": "stdout",
       "text": [
        "\n",
        "hilbert 14 18 relative 2 1.5 0.5 2 0"
       ]
      },
      {
       "output_type": "stream",
       "stream": "stdout",
       "text": [
        "\n",
        "hilbert 14 18 relative 2 1.5 0.5 2 1"
       ]
      },
      {
       "output_type": "stream",
       "stream": "stdout",
       "text": [
        "\n",
        "hilbert 14 18 relative 2 1.5 0.5 5 0"
       ]
      },
      {
       "output_type": "stream",
       "stream": "stdout",
       "text": [
        "\n",
        "hilbert 14 18 relative 2 1.5 0.5 5 1"
       ]
      },
      {
       "output_type": "stream",
       "stream": "stdout",
       "text": [
        "\n",
        "hilbert 14 18 relative 2 1 0.5 2 0"
       ]
      },
      {
       "output_type": "stream",
       "stream": "stdout",
       "text": [
        "\n",
        "hilbert 14 18 relative 2 1 0.5 2 1"
       ]
      },
      {
       "output_type": "stream",
       "stream": "stdout",
       "text": [
        "\n",
        "hilbert 14 18 relative 2 1 0.5 5 0"
       ]
      },
      {
       "output_type": "stream",
       "stream": "stdout",
       "text": [
        "\n",
        "hilbert 14 18 relative 2 1 0.5 5 1"
       ]
      },
      {
       "output_type": "stream",
       "stream": "stdout",
       "text": [
        "\n",
        "hilbert 14 18 relative 1 2 0.5 2 0"
       ]
      },
      {
       "output_type": "stream",
       "stream": "stdout",
       "text": [
        "\n",
        "hilbert 14 18 relative 1 2 0.5 2 1"
       ]
      },
      {
       "output_type": "stream",
       "stream": "stdout",
       "text": [
        "\n",
        "hilbert 14 18 relative 1 2 0.5 5 0"
       ]
      },
      {
       "output_type": "stream",
       "stream": "stdout",
       "text": [
        "\n",
        "hilbert 14 18 relative 1 2 0.5 5 1"
       ]
      },
      {
       "output_type": "stream",
       "stream": "stdout",
       "text": [
        "\n",
        "hilbert 14 18 relative 1 1.5 0.5 2 0"
       ]
      },
      {
       "output_type": "stream",
       "stream": "stdout",
       "text": [
        "\n",
        "hilbert 14 18 relative 1 1.5 0.5 2 1"
       ]
      },
      {
       "output_type": "stream",
       "stream": "stdout",
       "text": [
        "\n",
        "hilbert 14 18 relative 1 1.5 0.5 5 0"
       ]
      },
      {
       "output_type": "stream",
       "stream": "stdout",
       "text": [
        "\n",
        "hilbert 14 18 relative 1 1.5 0.5 5 1"
       ]
      },
      {
       "output_type": "stream",
       "stream": "stdout",
       "text": [
        "\n",
        "hilbert 14 18 relative 1 1 0.5 2 0"
       ]
      },
      {
       "output_type": "stream",
       "stream": "stdout",
       "text": [
        "\n",
        "hilbert 14 18 relative 1 1 0.5 2 1"
       ]
      },
      {
       "output_type": "stream",
       "stream": "stdout",
       "text": [
        "\n",
        "hilbert 14 18 relative 1 1 0.5 5 0"
       ]
      },
      {
       "output_type": "stream",
       "stream": "stdout",
       "text": [
        "\n",
        "hilbert 14 18 relative 1 1 0.5 5 1"
       ]
      },
      {
       "output_type": "stream",
       "stream": "stdout",
       "text": [
        "\n",
        "hilbert 14 18 maxima 3 2 0.5 2 0"
       ]
      },
      {
       "output_type": "stream",
       "stream": "stdout",
       "text": [
        "\n",
        "hilbert 14 18 maxima 3 2 0.5 2 1"
       ]
      },
      {
       "output_type": "stream",
       "stream": "stdout",
       "text": [
        "\n",
        "hilbert 14 18 maxima 3 2 0.5 5 0"
       ]
      },
      {
       "output_type": "stream",
       "stream": "stdout",
       "text": [
        "\n",
        "hilbert 14 18 maxima 3 2 0.5 5 1"
       ]
      },
      {
       "output_type": "stream",
       "stream": "stdout",
       "text": [
        "\n",
        "hilbert 14 18 maxima 3 1.5 0.5 2 0"
       ]
      },
      {
       "output_type": "stream",
       "stream": "stdout",
       "text": [
        "\n",
        "hilbert 14 18 maxima 3 1.5 0.5 2 1"
       ]
      },
      {
       "output_type": "stream",
       "stream": "stdout",
       "text": [
        "\n",
        "hilbert 14 18 maxima 3 1.5 0.5 5 0"
       ]
      },
      {
       "output_type": "stream",
       "stream": "stdout",
       "text": [
        "\n",
        "hilbert 14 18 maxima 3 1.5 0.5 5 1"
       ]
      },
      {
       "output_type": "stream",
       "stream": "stdout",
       "text": [
        "\n",
        "hilbert 14 18 maxima 3 1 0.5 2 0"
       ]
      },
      {
       "output_type": "stream",
       "stream": "stdout",
       "text": [
        "\n",
        "hilbert 14 18 maxima 3 1 0.5 2 1"
       ]
      },
      {
       "output_type": "stream",
       "stream": "stdout",
       "text": [
        "\n",
        "hilbert 14 18 maxima 3 1 0.5 5 0"
       ]
      },
      {
       "output_type": "stream",
       "stream": "stdout",
       "text": [
        "\n",
        "hilbert 14 18 maxima 3 1 0.5 5 1"
       ]
      },
      {
       "output_type": "stream",
       "stream": "stdout",
       "text": [
        "\n",
        "hilbert 14 18 maxima 2 2 0.5 2 0"
       ]
      },
      {
       "output_type": "stream",
       "stream": "stdout",
       "text": [
        "\n",
        "hilbert 14 18 maxima 2 2 0.5 2 1"
       ]
      },
      {
       "output_type": "stream",
       "stream": "stdout",
       "text": [
        "\n",
        "hilbert 14 18 maxima 2 2 0.5 5 0"
       ]
      },
      {
       "output_type": "stream",
       "stream": "stdout",
       "text": [
        "\n",
        "hilbert 14 18 maxima 2 2 0.5 5 1"
       ]
      },
      {
       "output_type": "stream",
       "stream": "stdout",
       "text": [
        "\n",
        "hilbert 14 18 maxima 2 1.5 0.5 2 0"
       ]
      },
      {
       "output_type": "stream",
       "stream": "stdout",
       "text": [
        "\n",
        "hilbert 14 18 maxima 2 1.5 0.5 2 1"
       ]
      },
      {
       "output_type": "stream",
       "stream": "stdout",
       "text": [
        "\n",
        "hilbert 14 18 maxima 2 1.5 0.5 5 0"
       ]
      },
      {
       "output_type": "stream",
       "stream": "stdout",
       "text": [
        "\n",
        "hilbert 14 18 maxima 2 1.5 0.5 5 1"
       ]
      },
      {
       "output_type": "stream",
       "stream": "stdout",
       "text": [
        "\n",
        "hilbert 14 18 maxima 2 1 0.5 2 0"
       ]
      },
      {
       "output_type": "stream",
       "stream": "stdout",
       "text": [
        "\n",
        "hilbert 14 18 maxima 2 1 0.5 2 1"
       ]
      },
      {
       "output_type": "stream",
       "stream": "stdout",
       "text": [
        "\n",
        "hilbert 14 18 maxima 2 1 0.5 5 0"
       ]
      },
      {
       "output_type": "stream",
       "stream": "stdout",
       "text": [
        "\n",
        "hilbert 14 18 maxima 2 1 0.5 5 1"
       ]
      },
      {
       "output_type": "stream",
       "stream": "stdout",
       "text": [
        "\n",
        "hilbert 14 18 maxima 1 2 0.5 2 0"
       ]
      },
      {
       "output_type": "stream",
       "stream": "stdout",
       "text": [
        "\n",
        "hilbert 14 18 maxima 1 2 0.5 2 1"
       ]
      },
      {
       "output_type": "stream",
       "stream": "stdout",
       "text": [
        "\n",
        "hilbert 14 18 maxima 1 2 0.5 5 0"
       ]
      },
      {
       "output_type": "stream",
       "stream": "stdout",
       "text": [
        "\n",
        "hilbert 14 18 maxima 1 2 0.5 5 1"
       ]
      },
      {
       "output_type": "stream",
       "stream": "stdout",
       "text": [
        "\n",
        "hilbert 14 18 maxima 1 1.5 0.5 2 0"
       ]
      },
      {
       "output_type": "stream",
       "stream": "stdout",
       "text": [
        "\n",
        "hilbert 14 18 maxima 1 1.5 0.5 2 1"
       ]
      },
      {
       "output_type": "stream",
       "stream": "stdout",
       "text": [
        "\n",
        "hilbert 14 18 maxima 1 1.5 0.5 5 0"
       ]
      },
      {
       "output_type": "stream",
       "stream": "stdout",
       "text": [
        "\n",
        "hilbert 14 18 maxima 1 1.5 0.5 5 1"
       ]
      },
      {
       "output_type": "stream",
       "stream": "stdout",
       "text": [
        "\n",
        "hilbert 14 18 maxima 1 1 0.5 2 0"
       ]
      },
      {
       "output_type": "stream",
       "stream": "stdout",
       "text": [
        "\n",
        "hilbert 14 18 maxima 1 1 0.5 2 1"
       ]
      },
      {
       "output_type": "stream",
       "stream": "stdout",
       "text": [
        "\n",
        "hilbert 14 18 maxima 1 1 0.5 5 0"
       ]
      },
      {
       "output_type": "stream",
       "stream": "stdout",
       "text": [
        "\n",
        "hilbert 14 18 maxima 1 1 0.5 5 1"
       ]
      },
      {
       "output_type": "stream",
       "stream": "stdout",
       "text": [
        "\n",
        "hilbert 14 19 relative 3 2 0.5 2 0"
       ]
      },
      {
       "output_type": "stream",
       "stream": "stdout",
       "text": [
        "\n",
        "hilbert 14 19 relative 3 2 0.5 2 1"
       ]
      },
      {
       "output_type": "stream",
       "stream": "stdout",
       "text": [
        "\n",
        "hilbert 14 19 relative 3 2 0.5 5 0"
       ]
      },
      {
       "output_type": "stream",
       "stream": "stdout",
       "text": [
        "\n",
        "hilbert 14 19 relative 3 2 0.5 5 1"
       ]
      },
      {
       "output_type": "stream",
       "stream": "stdout",
       "text": [
        "\n",
        "hilbert 14 19 relative 3 1.5 0.5 2 0"
       ]
      },
      {
       "output_type": "stream",
       "stream": "stdout",
       "text": [
        "\n",
        "hilbert 14 19 relative 3 1.5 0.5 2 1"
       ]
      },
      {
       "output_type": "stream",
       "stream": "stdout",
       "text": [
        "\n",
        "hilbert 14 19 relative 3 1.5 0.5 5 0"
       ]
      },
      {
       "output_type": "stream",
       "stream": "stdout",
       "text": [
        "\n",
        "hilbert 14 19 relative 3 1.5 0.5 5 1"
       ]
      },
      {
       "output_type": "stream",
       "stream": "stdout",
       "text": [
        "\n",
        "hilbert 14 19 relative 3 1 0.5 2 0"
       ]
      },
      {
       "output_type": "stream",
       "stream": "stdout",
       "text": [
        "\n",
        "hilbert 14 19 relative 3 1 0.5 2 1"
       ]
      },
      {
       "output_type": "stream",
       "stream": "stdout",
       "text": [
        "\n",
        "hilbert 14 19 relative 3 1 0.5 5 0"
       ]
      },
      {
       "output_type": "stream",
       "stream": "stdout",
       "text": [
        "\n",
        "hilbert 14 19 relative 3 1 0.5 5 1"
       ]
      },
      {
       "output_type": "stream",
       "stream": "stdout",
       "text": [
        "\n",
        "hilbert 14 19 relative 2 2 0.5 2 0"
       ]
      },
      {
       "output_type": "stream",
       "stream": "stdout",
       "text": [
        "\n",
        "hilbert 14 19 relative 2 2 0.5 2 1"
       ]
      },
      {
       "output_type": "stream",
       "stream": "stdout",
       "text": [
        "\n",
        "hilbert 14 19 relative 2 2 0.5 5 0"
       ]
      },
      {
       "output_type": "stream",
       "stream": "stdout",
       "text": [
        "\n",
        "hilbert 14 19 relative 2 2 0.5 5 1"
       ]
      },
      {
       "output_type": "stream",
       "stream": "stdout",
       "text": [
        "\n",
        "hilbert 14 19 relative 2 1.5 0.5 2 0"
       ]
      },
      {
       "output_type": "stream",
       "stream": "stdout",
       "text": [
        "\n",
        "hilbert 14 19 relative 2 1.5 0.5 2 1"
       ]
      },
      {
       "output_type": "stream",
       "stream": "stdout",
       "text": [
        "\n",
        "hilbert 14 19 relative 2 1.5 0.5 5 0"
       ]
      },
      {
       "output_type": "stream",
       "stream": "stdout",
       "text": [
        "\n",
        "hilbert 14 19 relative 2 1.5 0.5 5 1"
       ]
      },
      {
       "output_type": "stream",
       "stream": "stdout",
       "text": [
        "\n",
        "hilbert 14 19 relative 2 1 0.5 2 0"
       ]
      },
      {
       "output_type": "stream",
       "stream": "stdout",
       "text": [
        "\n",
        "hilbert 14 19 relative 2 1 0.5 2 1"
       ]
      },
      {
       "output_type": "stream",
       "stream": "stdout",
       "text": [
        "\n",
        "hilbert 14 19 relative 2 1 0.5 5 0"
       ]
      },
      {
       "output_type": "stream",
       "stream": "stdout",
       "text": [
        "\n",
        "hilbert 14 19 relative 2 1 0.5 5 1"
       ]
      },
      {
       "output_type": "stream",
       "stream": "stdout",
       "text": [
        "\n",
        "hilbert 14 19 relative 1 2 0.5 2 0"
       ]
      },
      {
       "output_type": "stream",
       "stream": "stdout",
       "text": [
        "\n",
        "hilbert 14 19 relative 1 2 0.5 2 1"
       ]
      },
      {
       "output_type": "stream",
       "stream": "stdout",
       "text": [
        "\n",
        "hilbert 14 19 relative 1 2 0.5 5 0"
       ]
      },
      {
       "output_type": "stream",
       "stream": "stdout",
       "text": [
        "\n",
        "hilbert 14 19 relative 1 2 0.5 5 1"
       ]
      },
      {
       "output_type": "stream",
       "stream": "stdout",
       "text": [
        "\n",
        "hilbert 14 19 relative 1 1.5 0.5 2 0"
       ]
      },
      {
       "output_type": "stream",
       "stream": "stdout",
       "text": [
        "\n",
        "hilbert 14 19 relative 1 1.5 0.5 2 1"
       ]
      },
      {
       "output_type": "stream",
       "stream": "stdout",
       "text": [
        "\n",
        "hilbert 14 19 relative 1 1.5 0.5 5 0"
       ]
      },
      {
       "output_type": "stream",
       "stream": "stdout",
       "text": [
        "\n",
        "hilbert 14 19 relative 1 1.5 0.5 5 1"
       ]
      },
      {
       "output_type": "stream",
       "stream": "stdout",
       "text": [
        "\n",
        "hilbert 14 19 relative 1 1 0.5 2 0"
       ]
      },
      {
       "output_type": "stream",
       "stream": "stdout",
       "text": [
        "\n",
        "hilbert 14 19 relative 1 1 0.5 2 1"
       ]
      },
      {
       "output_type": "stream",
       "stream": "stdout",
       "text": [
        "\n",
        "hilbert 14 19 relative 1 1 0.5 5 0"
       ]
      },
      {
       "output_type": "stream",
       "stream": "stdout",
       "text": [
        "\n",
        "hilbert 14 19 relative 1 1 0.5 5 1"
       ]
      },
      {
       "output_type": "stream",
       "stream": "stdout",
       "text": [
        "\n",
        "hilbert 14 19 maxima 3 2 0.5 2 0"
       ]
      },
      {
       "output_type": "stream",
       "stream": "stdout",
       "text": [
        "\n",
        "hilbert 14 19 maxima 3 2 0.5 2 1"
       ]
      },
      {
       "output_type": "stream",
       "stream": "stdout",
       "text": [
        "\n",
        "hilbert 14 19 maxima 3 2 0.5 5 0"
       ]
      },
      {
       "output_type": "stream",
       "stream": "stdout",
       "text": [
        "\n",
        "hilbert 14 19 maxima 3 2 0.5 5 1"
       ]
      },
      {
       "output_type": "stream",
       "stream": "stdout",
       "text": [
        "\n",
        "hilbert 14 19 maxima 3 1.5 0.5 2 0"
       ]
      },
      {
       "output_type": "stream",
       "stream": "stdout",
       "text": [
        "\n",
        "hilbert 14 19 maxima 3 1.5 0.5 2 1"
       ]
      },
      {
       "output_type": "stream",
       "stream": "stdout",
       "text": [
        "\n",
        "hilbert 14 19 maxima 3 1.5 0.5 5 0"
       ]
      },
      {
       "output_type": "stream",
       "stream": "stdout",
       "text": [
        "\n",
        "hilbert 14 19 maxima 3 1.5 0.5 5 1"
       ]
      },
      {
       "output_type": "stream",
       "stream": "stdout",
       "text": [
        "\n",
        "hilbert 14 19 maxima 3 1 0.5 2 0"
       ]
      },
      {
       "output_type": "stream",
       "stream": "stdout",
       "text": [
        "\n",
        "hilbert 14 19 maxima 3 1 0.5 2 1"
       ]
      },
      {
       "output_type": "stream",
       "stream": "stdout",
       "text": [
        "\n",
        "hilbert 14 19 maxima 3 1 0.5 5 0"
       ]
      },
      {
       "output_type": "stream",
       "stream": "stdout",
       "text": [
        "\n",
        "hilbert 14 19 maxima 3 1 0.5 5 1"
       ]
      },
      {
       "output_type": "stream",
       "stream": "stdout",
       "text": [
        "\n",
        "hilbert 14 19 maxima 2 2 0.5 2 0"
       ]
      },
      {
       "output_type": "stream",
       "stream": "stdout",
       "text": [
        "\n",
        "hilbert 14 19 maxima 2 2 0.5 2 1"
       ]
      },
      {
       "output_type": "stream",
       "stream": "stdout",
       "text": [
        "\n",
        "hilbert 14 19 maxima 2 2 0.5 5 0"
       ]
      },
      {
       "output_type": "stream",
       "stream": "stdout",
       "text": [
        "\n",
        "hilbert 14 19 maxima 2 2 0.5 5 1"
       ]
      },
      {
       "output_type": "stream",
       "stream": "stdout",
       "text": [
        "\n",
        "hilbert 14 19 maxima 2 1.5 0.5 2 0"
       ]
      },
      {
       "output_type": "stream",
       "stream": "stdout",
       "text": [
        "\n",
        "hilbert 14 19 maxima 2 1.5 0.5 2 1"
       ]
      },
      {
       "output_type": "stream",
       "stream": "stdout",
       "text": [
        "\n",
        "hilbert 14 19 maxima 2 1.5 0.5 5 0"
       ]
      },
      {
       "output_type": "stream",
       "stream": "stdout",
       "text": [
        "\n",
        "hilbert 14 19 maxima 2 1.5 0.5 5 1"
       ]
      },
      {
       "output_type": "stream",
       "stream": "stdout",
       "text": [
        "\n",
        "hilbert 14 19 maxima 2 1 0.5 2 0"
       ]
      },
      {
       "output_type": "stream",
       "stream": "stdout",
       "text": [
        "\n",
        "hilbert 14 19 maxima 2 1 0.5 2 1"
       ]
      },
      {
       "output_type": "stream",
       "stream": "stdout",
       "text": [
        "\n",
        "hilbert 14 19 maxima 2 1 0.5 5 0"
       ]
      },
      {
       "output_type": "stream",
       "stream": "stdout",
       "text": [
        "\n",
        "hilbert 14 19 maxima 2 1 0.5 5 1"
       ]
      },
      {
       "output_type": "stream",
       "stream": "stdout",
       "text": [
        "\n",
        "hilbert 14 19 maxima 1 2 0.5 2 0"
       ]
      },
      {
       "output_type": "stream",
       "stream": "stdout",
       "text": [
        "\n",
        "hilbert 14 19 maxima 1 2 0.5 2 1"
       ]
      },
      {
       "output_type": "stream",
       "stream": "stdout",
       "text": [
        "\n",
        "hilbert 14 19 maxima 1 2 0.5 5 0"
       ]
      },
      {
       "output_type": "stream",
       "stream": "stdout",
       "text": [
        "\n",
        "hilbert 14 19 maxima 1 2 0.5 5 1"
       ]
      },
      {
       "output_type": "stream",
       "stream": "stdout",
       "text": [
        "\n",
        "hilbert 14 19 maxima 1 1.5 0.5 2 0"
       ]
      },
      {
       "output_type": "stream",
       "stream": "stdout",
       "text": [
        "\n",
        "hilbert 14 19 maxima 1 1.5 0.5 2 1"
       ]
      },
      {
       "output_type": "stream",
       "stream": "stdout",
       "text": [
        "\n",
        "hilbert 14 19 maxima 1 1.5 0.5 5 0"
       ]
      },
      {
       "output_type": "stream",
       "stream": "stdout",
       "text": [
        "\n",
        "hilbert 14 19 maxima 1 1.5 0.5 5 1"
       ]
      },
      {
       "output_type": "stream",
       "stream": "stdout",
       "text": [
        "\n",
        "hilbert 14 19 maxima 1 1 0.5 2 0"
       ]
      },
      {
       "output_type": "stream",
       "stream": "stdout",
       "text": [
        "\n",
        "hilbert 14 19 maxima 1 1 0.5 2 1"
       ]
      },
      {
       "output_type": "stream",
       "stream": "stdout",
       "text": [
        "\n",
        "hilbert 14 19 maxima 1 1 0.5 5 0"
       ]
      },
      {
       "output_type": "stream",
       "stream": "stdout",
       "text": [
        "\n",
        "hilbert 14 19 maxima 1 1 0.5 5 1"
       ]
      },
      {
       "output_type": "stream",
       "stream": "stdout",
       "text": [
        "\n",
        "hilbert 14 20 relative 3 2 0.5 2 0"
       ]
      },
      {
       "output_type": "stream",
       "stream": "stdout",
       "text": [
        "\n",
        "hilbert 14 20 relative 3 2 0.5 2 1"
       ]
      },
      {
       "output_type": "stream",
       "stream": "stdout",
       "text": [
        "\n",
        "hilbert 14 20 relative 3 2 0.5 5 0"
       ]
      },
      {
       "output_type": "stream",
       "stream": "stdout",
       "text": [
        "\n",
        "hilbert 14 20 relative 3 2 0.5 5 1"
       ]
      },
      {
       "output_type": "stream",
       "stream": "stdout",
       "text": [
        "\n",
        "hilbert 14 20 relative 3 1.5 0.5 2 0"
       ]
      },
      {
       "output_type": "stream",
       "stream": "stdout",
       "text": [
        "\n",
        "hilbert 14 20 relative 3 1.5 0.5 2 1"
       ]
      },
      {
       "output_type": "stream",
       "stream": "stdout",
       "text": [
        "\n",
        "hilbert 14 20 relative 3 1.5 0.5 5 0"
       ]
      },
      {
       "output_type": "stream",
       "stream": "stdout",
       "text": [
        "\n",
        "hilbert 14 20 relative 3 1.5 0.5 5 1"
       ]
      },
      {
       "output_type": "stream",
       "stream": "stdout",
       "text": [
        "\n",
        "hilbert 14 20 relative 3 1 0.5 2 0"
       ]
      },
      {
       "output_type": "stream",
       "stream": "stdout",
       "text": [
        "\n",
        "hilbert 14 20 relative 3 1 0.5 2 1"
       ]
      },
      {
       "output_type": "stream",
       "stream": "stdout",
       "text": [
        "\n",
        "hilbert 14 20 relative 3 1 0.5 5 0"
       ]
      },
      {
       "output_type": "stream",
       "stream": "stdout",
       "text": [
        "\n",
        "hilbert 14 20 relative 3 1 0.5 5 1"
       ]
      },
      {
       "output_type": "stream",
       "stream": "stdout",
       "text": [
        "\n",
        "hilbert 14 20 relative 2 2 0.5 2 0"
       ]
      },
      {
       "output_type": "stream",
       "stream": "stdout",
       "text": [
        "\n",
        "hilbert 14 20 relative 2 2 0.5 2 1"
       ]
      },
      {
       "output_type": "stream",
       "stream": "stdout",
       "text": [
        "\n",
        "hilbert 14 20 relative 2 2 0.5 5 0"
       ]
      },
      {
       "output_type": "stream",
       "stream": "stdout",
       "text": [
        "\n",
        "hilbert 14 20 relative 2 2 0.5 5 1"
       ]
      },
      {
       "output_type": "stream",
       "stream": "stdout",
       "text": [
        "\n",
        "hilbert 14 20 relative 2 1.5 0.5 2 0"
       ]
      },
      {
       "output_type": "stream",
       "stream": "stdout",
       "text": [
        "\n",
        "hilbert 14 20 relative 2 1.5 0.5 2 1"
       ]
      },
      {
       "output_type": "stream",
       "stream": "stdout",
       "text": [
        "\n",
        "hilbert 14 20 relative 2 1.5 0.5 5 0"
       ]
      },
      {
       "output_type": "stream",
       "stream": "stdout",
       "text": [
        "\n",
        "hilbert 14 20 relative 2 1.5 0.5 5 1"
       ]
      },
      {
       "output_type": "stream",
       "stream": "stdout",
       "text": [
        "\n",
        "hilbert 14 20 relative 2 1 0.5 2 0"
       ]
      },
      {
       "output_type": "stream",
       "stream": "stdout",
       "text": [
        "\n",
        "hilbert 14 20 relative 2 1 0.5 2 1"
       ]
      },
      {
       "output_type": "stream",
       "stream": "stdout",
       "text": [
        "\n",
        "hilbert 14 20 relative 2 1 0.5 5 0"
       ]
      },
      {
       "output_type": "stream",
       "stream": "stdout",
       "text": [
        "\n",
        "hilbert 14 20 relative 2 1 0.5 5 1"
       ]
      },
      {
       "output_type": "stream",
       "stream": "stdout",
       "text": [
        "\n",
        "hilbert 14 20 relative 1 2 0.5 2 0"
       ]
      },
      {
       "output_type": "stream",
       "stream": "stdout",
       "text": [
        "\n",
        "hilbert 14 20 relative 1 2 0.5 2 1"
       ]
      },
      {
       "output_type": "stream",
       "stream": "stdout",
       "text": [
        "\n",
        "hilbert 14 20 relative 1 2 0.5 5 0"
       ]
      },
      {
       "output_type": "stream",
       "stream": "stdout",
       "text": [
        "\n",
        "hilbert 14 20 relative 1 2 0.5 5 1"
       ]
      },
      {
       "output_type": "stream",
       "stream": "stdout",
       "text": [
        "\n",
        "hilbert 14 20 relative 1 1.5 0.5 2 0"
       ]
      },
      {
       "output_type": "stream",
       "stream": "stdout",
       "text": [
        "\n",
        "hilbert 14 20 relative 1 1.5 0.5 2 1"
       ]
      },
      {
       "output_type": "stream",
       "stream": "stdout",
       "text": [
        "\n",
        "hilbert 14 20 relative 1 1.5 0.5 5 0"
       ]
      },
      {
       "output_type": "stream",
       "stream": "stdout",
       "text": [
        "\n",
        "hilbert 14 20 relative 1 1.5 0.5 5 1"
       ]
      },
      {
       "output_type": "stream",
       "stream": "stdout",
       "text": [
        "\n",
        "hilbert 14 20 relative 1 1 0.5 2 0"
       ]
      },
      {
       "output_type": "stream",
       "stream": "stdout",
       "text": [
        "\n",
        "hilbert 14 20 relative 1 1 0.5 2 1"
       ]
      },
      {
       "output_type": "stream",
       "stream": "stdout",
       "text": [
        "\n",
        "hilbert 14 20 relative 1 1 0.5 5 0"
       ]
      },
      {
       "output_type": "stream",
       "stream": "stdout",
       "text": [
        "\n",
        "hilbert 14 20 relative 1 1 0.5 5 1"
       ]
      },
      {
       "output_type": "stream",
       "stream": "stdout",
       "text": [
        "\n",
        "hilbert 14 20 maxima 3 2 0.5 2 0"
       ]
      },
      {
       "output_type": "stream",
       "stream": "stdout",
       "text": [
        "\n",
        "hilbert 14 20 maxima 3 2 0.5 2 1"
       ]
      },
      {
       "output_type": "stream",
       "stream": "stdout",
       "text": [
        "\n",
        "hilbert 14 20 maxima 3 2 0.5 5 0"
       ]
      },
      {
       "output_type": "stream",
       "stream": "stdout",
       "text": [
        "\n",
        "hilbert 14 20 maxima 3 2 0.5 5 1"
       ]
      },
      {
       "output_type": "stream",
       "stream": "stdout",
       "text": [
        "\n",
        "hilbert 14 20 maxima 3 1.5 0.5 2 0"
       ]
      },
      {
       "output_type": "stream",
       "stream": "stdout",
       "text": [
        "\n",
        "hilbert 14 20 maxima 3 1.5 0.5 2 1"
       ]
      },
      {
       "output_type": "stream",
       "stream": "stdout",
       "text": [
        "\n",
        "hilbert 14 20 maxima 3 1.5 0.5 5 0"
       ]
      },
      {
       "output_type": "stream",
       "stream": "stdout",
       "text": [
        "\n",
        "hilbert 14 20 maxima 3 1.5 0.5 5 1"
       ]
      },
      {
       "output_type": "stream",
       "stream": "stdout",
       "text": [
        "\n",
        "hilbert 14 20 maxima 3 1 0.5 2 0"
       ]
      },
      {
       "output_type": "stream",
       "stream": "stdout",
       "text": [
        "\n",
        "hilbert 14 20 maxima 3 1 0.5 2 1"
       ]
      },
      {
       "output_type": "stream",
       "stream": "stdout",
       "text": [
        "\n",
        "hilbert 14 20 maxima 3 1 0.5 5 0"
       ]
      },
      {
       "output_type": "stream",
       "stream": "stdout",
       "text": [
        "\n",
        "hilbert 14 20 maxima 3 1 0.5 5 1"
       ]
      },
      {
       "output_type": "stream",
       "stream": "stdout",
       "text": [
        "\n",
        "hilbert 14 20 maxima 2 2 0.5 2 0"
       ]
      },
      {
       "output_type": "stream",
       "stream": "stdout",
       "text": [
        "\n",
        "hilbert 14 20 maxima 2 2 0.5 2 1"
       ]
      },
      {
       "output_type": "stream",
       "stream": "stdout",
       "text": [
        "\n",
        "hilbert 14 20 maxima 2 2 0.5 5 0"
       ]
      },
      {
       "output_type": "stream",
       "stream": "stdout",
       "text": [
        "\n",
        "hilbert 14 20 maxima 2 2 0.5 5 1"
       ]
      },
      {
       "output_type": "stream",
       "stream": "stdout",
       "text": [
        "\n",
        "hilbert 14 20 maxima 2 1.5 0.5 2 0"
       ]
      },
      {
       "output_type": "stream",
       "stream": "stdout",
       "text": [
        "\n",
        "hilbert 14 20 maxima 2 1.5 0.5 2 1"
       ]
      },
      {
       "output_type": "stream",
       "stream": "stdout",
       "text": [
        "\n",
        "hilbert 14 20 maxima 2 1.5 0.5 5 0"
       ]
      },
      {
       "output_type": "stream",
       "stream": "stdout",
       "text": [
        "\n",
        "hilbert 14 20 maxima 2 1.5 0.5 5 1"
       ]
      },
      {
       "output_type": "stream",
       "stream": "stdout",
       "text": [
        "\n",
        "hilbert 14 20 maxima 2 1 0.5 2 0"
       ]
      },
      {
       "output_type": "stream",
       "stream": "stdout",
       "text": [
        "\n",
        "hilbert 14 20 maxima 2 1 0.5 2 1"
       ]
      },
      {
       "output_type": "stream",
       "stream": "stdout",
       "text": [
        "\n",
        "hilbert 14 20 maxima 2 1 0.5 5 0"
       ]
      },
      {
       "output_type": "stream",
       "stream": "stdout",
       "text": [
        "\n",
        "hilbert 14 20 maxima 2 1 0.5 5 1"
       ]
      },
      {
       "output_type": "stream",
       "stream": "stdout",
       "text": [
        "\n",
        "hilbert 14 20 maxima 1 2 0.5 2 0"
       ]
      },
      {
       "output_type": "stream",
       "stream": "stdout",
       "text": [
        "\n",
        "hilbert 14 20 maxima 1 2 0.5 2 1"
       ]
      },
      {
       "output_type": "stream",
       "stream": "stdout",
       "text": [
        "\n",
        "hilbert 14 20 maxima 1 2 0.5 5 0"
       ]
      },
      {
       "output_type": "stream",
       "stream": "stdout",
       "text": [
        "\n",
        "hilbert 14 20 maxima 1 2 0.5 5 1"
       ]
      },
      {
       "output_type": "stream",
       "stream": "stdout",
       "text": [
        "\n",
        "hilbert 14 20 maxima 1 1.5 0.5 2 0"
       ]
      },
      {
       "output_type": "stream",
       "stream": "stdout",
       "text": [
        "\n",
        "hilbert 14 20 maxima 1 1.5 0.5 2 1"
       ]
      },
      {
       "output_type": "stream",
       "stream": "stdout",
       "text": [
        "\n",
        "hilbert 14 20 maxima 1 1.5 0.5 5 0"
       ]
      },
      {
       "output_type": "stream",
       "stream": "stdout",
       "text": [
        "\n",
        "hilbert 14 20 maxima 1 1.5 0.5 5 1"
       ]
      },
      {
       "output_type": "stream",
       "stream": "stdout",
       "text": [
        "\n",
        "hilbert 14 20 maxima 1 1 0.5 2 0"
       ]
      },
      {
       "output_type": "stream",
       "stream": "stdout",
       "text": [
        "\n",
        "hilbert 14 20 maxima 1 1 0.5 2 1"
       ]
      },
      {
       "output_type": "stream",
       "stream": "stdout",
       "text": [
        "\n",
        "hilbert 14 20 maxima 1 1 0.5 5 0"
       ]
      },
      {
       "output_type": "stream",
       "stream": "stdout",
       "text": [
        "\n",
        "hilbert 14 20 maxima 1 1 0.5 5 1"
       ]
      },
      {
       "output_type": "stream",
       "stream": "stdout",
       "text": [
        "\n"
       ]
      }
     ],
     "prompt_number": 2
    },
    {
     "cell_type": "code",
     "collapsed": false,
     "input": [],
     "language": "python",
     "metadata": {},
     "outputs": []
    },
    {
     "cell_type": "code",
     "collapsed": false,
     "input": [
      "from subprocess import Popen\n",
      "Popen([script, ' '.join(options)])"
     ],
     "language": "python",
     "metadata": {},
     "outputs": []
    },
    {
     "cell_type": "code",
     "collapsed": false,
     "input": [
      "from json import load\n",
      "from numpy import asarray\n",
      "\n",
      "\n",
      "def test_sp_det(log_file):\n",
      "    if log_file[-6] == '0':\n",
      "        return 0\n",
      "    with open(log_file, 'r') as f:\n",
      "        j = load(f)\n",
      "    sp_in_w = []\n",
      "    sp_in_s = []\n",
      "\n",
      "    for one_subj in j['spindles']:\n",
      "        sp_in_w.append(one_subj['wake']['number'])\n",
      "        sp_in_s.append(one_subj['sleep']['number'])\n",
      "\n",
      "    return sum(asarray(sp_in_s) - asarray(sp_in_w) > 10) # + sum(asarray(sp_in_s) > 100)\n"
     ],
     "language": "python",
     "metadata": {},
     "outputs": [],
     "prompt_number": 15
    },
    {
     "cell_type": "code",
     "collapsed": false,
     "input": [
      "log_dir = '/PHShome/gp902/projects/spgr/group/log_detect_spindle'\n",
      "from os import listdir\n",
      "from os.path import join\n",
      "\n",
      "all_points = {}\n",
      "for one_log in listdir(log_dir):\n",
      "    log_file = join(log_dir, one_log)\n",
      "    all_points[one_log] = test_sp_det(log_file)"
     ],
     "language": "python",
     "metadata": {},
     "outputs": [],
     "prompt_number": 16
    },
    {
     "cell_type": "code",
     "collapsed": false,
     "input": [
      "for l, p in all_points.items():\n",
      "    if p >= 3:\n",
      "        print(l)"
     ],
     "language": "python",
     "metadata": {},
     "outputs": [
      {
       "output_type": "stream",
       "stream": "stdout",
       "text": [
        "log_hilbert_13_17_maxima_3_1.5_0.5_2_1.json\n",
        "log_hilbert_13_17_maxima_3_2_0.5_2_1.json\n",
        "log_hilbert_13_17_maxima_3_2_0.5_5_1.json\n",
        "log_hilbert_13_17_maxima_3_1.5_0.5_5_1.json\n",
        "log_hilbert_12_18_maxima_3_1.5_0.5_2_1.json\n",
        "log_hilbert_13_18_maxima_3_1_0.5_5_1.json\n",
        "log_hilbert_13_18_maxima_3_1.5_0.5_5_1.json\n",
        "log_hilbert_13_17_maxima_3_1_0.5_5_1.json\n",
        "log_hilbert_13_17_maxima_3_1_0.5_2_1.json\n",
        "log_hilbert_13_19_maxima_3_1_0.5_5_1.json\n",
        "log_hilbert_13_19_maxima_3_2_0.5_5_1.json\n",
        "log_hilbert_13_20_maxima_3_1_0.5_5_1.json\n",
        "log_hilbert_13_18_maxima_3_1_0.5_2_1.json\n",
        "log_hilbert_11_17_relative_2_1.5_0.5_2_1.json\n",
        "log_hilbert_13_18_maxima_3_2_0.5_5_1.json\n",
        "log_hilbert_13_20_maxima_3_1.5_0.5_5_1.json\n",
        "log_hilbert_13_19_maxima_3_1_0.5_2_1.json\n",
        "log_hilbert_13_20_maxima_3_1_0.5_2_1.json\n",
        "log_hilbert_11_17_relative_2_1.5_0.5_5_1.json\n",
        "log_hilbert_13_20_maxima_3_2_0.5_5_1.json\n",
        "log_hilbert_13_19_maxima_3_1.5_0.5_5_1.json\n"
       ]
      }
     ],
     "prompt_number": 18
    },
    {
     "cell_type": "code",
     "collapsed": false,
     "input": [],
     "language": "python",
     "metadata": {},
     "outputs": []
    },
    {
     "cell_type": "code",
     "collapsed": false,
     "input": [
      "\n"
     ],
     "language": "python",
     "metadata": {},
     "outputs": []
    },
    {
     "cell_type": "code",
     "collapsed": false,
     "input": [],
     "language": "python",
     "metadata": {},
     "outputs": []
    }
   ],
   "metadata": {}
  }
 ]
}