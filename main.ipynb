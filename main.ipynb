{
 "metadata": {
  "name": "",
  "signature": "sha256:6b0eda98a9bcbaf4faabf0b7d31f2f7388b3312fb1fea5b7ece2e12964a64900"
 },
 "nbformat": 3,
 "nbformat_minor": 0,
 "worksheets": [
  {
   "cells": [
    {
     "cell_type": "heading",
     "level": 1,
     "metadata": {
      "slideshow": {
       "slide_type": "-"
      }
     },
     "source": [
      "SPGR"
     ]
    },
    {
     "cell_type": "heading",
     "level": 3,
     "metadata": {},
     "source": [
      "RGS03"
     ]
    },
    {
     "cell_type": "code",
     "collapsed": false,
     "input": [
      "import version_control"
     ],
     "language": "python",
     "metadata": {},
     "outputs": [
      {
       "output_type": "stream",
       "stream": "stdout",
       "text": [
        "Last run on 2014-04-21 16:05:42.180741\n",
        "\n",
        "Phypno Version: fb5d384e834e3d5a2a6c34aedfb1259fb8a27d43\n",
        "\n",
        "Jinja2==2.7.2, MarkupSafe==0.19, PyOpenGL==3.0.2, astroid==1.0.1, flake8==2.1.0, ipython==2.0.0, joblib==0.7.1, logilab-common==0.61.0, matplotlib==1.3.1, mccabe==0.2.1, nose==1.3.1, numpy==1.8.1, pep8==1.5.6, pyflakes==0.8.1, pylint==1.1.0, pyparsing==2.0.2, python-dateutil==2.2, pyzmq==14.1.1, scipy==0.13.3, six==1.6.1, tornado==3.2, "
       ]
      },
      {
       "output_type": "stream",
       "stream": "stdout",
       "text": [
        "\n"
       ]
      }
     ],
     "prompt_number": 1
    },
    {
     "cell_type": "code",
     "collapsed": false,
     "input": [
      "if False:\n",
      "    all_subj = sorted(listdir(rec_dir), reverse=True)\n",
      "else:\n",
      "    subj_with_grid_scalp = ('EM03', 'EM09', 'MG07', 'MG11', 'MG12', 'MG15', 'MG17', \n",
      "                            'MG29', 'MG31', 'MG32', 'MG33', 'MG37', 'MG42', 'MG45', \n",
      "                            'MG48', 'MG49', 'MG51', 'MG56', 'MG61', 'MG63', 'MG65', 'MG72')\n",
      "    not_in_rec = ('MG12', )\n",
      "    all_subj = set(subj_with_grid_scalp) - set(not_in_rec)"
     ],
     "language": "python",
     "metadata": {},
     "outputs": [],
     "prompt_number": 2
    },
    {
     "cell_type": "code",
     "collapsed": false,
     "input": [
      "from spgr.read_data import read_score_per_subj\n",
      "\n",
      "output = list(filter(None.__ne__, map(read_score_per_subj, all_subj)))\n",
      "output"
     ],
     "language": "python",
     "metadata": {},
     "outputs": [
      {
       "output_type": "stream",
       "stream": "stderr",
       "text": [
        "WARNING:phypno.attr.anat:nibabel (optional dependency) is not installed. You will not be able to read Freesurfer annotations and segmentations.\n"
       ]
      },
      {
       "metadata": {},
       "output_type": "pyout",
       "prompt_number": 3,
       "text": [
        "['/PHShome/gp902/recordings/MG37/eeg/raw/xltek/MG37_eeg_xltek_sessA_d03_12_18_14',\n",
        " '/PHShome/gp902/recordings/MG72/eeg/raw/xltek/MG72_eeg_xltek_sessA_d09_07_47_00',\n",
        " '/PHShome/gp902/recordings/MG51/eeg/raw/xltek/MG51_eeg_xltek_sessA_d08_06_41_13',\n",
        " '/PHShome/gp902/recordings/MG63/eeg/raw/xltek/MG63_eeg_xltek_sessA_d06_15_55_12',\n",
        " '/PHShome/gp902/recordings/MG65/eeg/raw/xltek/MG65_eeg_xltek_sessA_d01_19_23_24',\n",
        " '/PHShome/gp902/recordings/EM09/eeg/raw/xltek/EM09_eeg_xltek_sessA_d05_11_53_38']"
       ]
      }
     ],
     "prompt_number": 3
    },
    {
     "cell_type": "code",
     "collapsed": false,
     "input": [
      "from logging import getLogger, INFO, DEBUG\n",
      "lg = getLogger('spgr')\n",
      "lg.setLevel(INFO)"
     ],
     "language": "python",
     "metadata": {},
     "outputs": []
    },
    {
     "cell_type": "code",
     "collapsed": false,
     "input": [
      "for subj in ('MG65', 'MG51', 'MG37', 'EM09', 'MG63', 'MG72'):\n",
      "    read_score_per_subj(subj, True)"
     ],
     "language": "python",
     "metadata": {},
     "outputs": []
    },
    {
     "cell_type": "markdown",
     "metadata": {},
     "source": [
      "Remember that **MG72** has flat channels (in the subfrontal grid) for part of the night"
     ]
    },
    {
     "cell_type": "code",
     "collapsed": false,
     "input": [
      "from phypno.detect import DetectSpindle\n",
      "\n",
      "detsp = DetectSpindle(frequency=(11, 18),\n",
      "                      method='hilbert', \n",
      "                      threshold='maxima', threshold_options={'peak_width': 2, 'select_width': 1},\n",
      "                      criteria={'duration': (0.5, 2), 'peak_in_fft': {'length': 1}}\n",
      "                      )\n",
      "\n",
      "#                      threshold='relative', threshold_options={'detection_value': 3, 'selection_value': 1},"
     ],
     "language": "python",
     "metadata": {},
     "outputs": [],
     "prompt_number": 4
    },
    {
     "cell_type": "code",
     "collapsed": true,
     "input": [
      "from phypno.trans import Select, Math\n",
      "from lsf import map_lsf\n",
      "\n",
      "def det_sp_in_one_epoch(one_trial_data):\n",
      "    calc_std = Math(operator_name='std', axis='time')\n",
      "    std_per_chan = calc_std(one_trial_data)\n",
      "    good_chan = where((std_per_chan(trial=0) > .001) & (std_per_chan(trial=0) < thresh))[0]\n",
      "    normal_chan = Select(chan=one_trial_data.axis['chan'][0][good_chan])\n",
      "\n",
      "    spindles = detsp(one_trial_data)\n",
      "    return spindles.spindle"
     ],
     "language": "python",
     "metadata": {},
     "outputs": [],
     "prompt_number": 5
    },
    {
     "cell_type": "code",
     "collapsed": false,
     "input": [
      "from pickle import load, dump\n",
      "from glob import glob\n",
      "from os import mkdir\n",
      "from os.path import join, exists\n",
      "from spgr.read_data import DATA_DIR, REC_FOLDER, STAGES\n",
      "\n",
      "\n",
      "def calc_spindle_values(subj):\n",
      "\n",
      "    stage = 'sleep'\n",
      "    assert stage in STAGES.keys()\n",
      "\n",
      "    subj_dir = join(DATA_DIR, subj, REC_FOLDER)\n",
      "    data_file = glob(join(subj_dir, '*_' + stage + '.pkl'))[0]  # possible multiple files\n",
      "\n",
      "    with open(data_file, 'rb') as f:\n",
      "        data = load(f)\n",
      "        \n",
      "    few_trials = Select(trial=(0, 1, 2, 3))\n",
      "    data = few_trials(data)\n",
      "    \n",
      "    all_sp = map_lsf(det_sp_in_one_epoch, iter(data),\n",
      "                     queue='short', \n",
      "                     variables={'detsp': detsp, 'thresh': 2}, \n",
      "                     imports={'phypno.trans': ('Math', 'Select'), 'numpy': 'where'})\n",
      "\n",
      "    spindles = [x for sp in all_sp for x in sp]\n",
      "    # spindles = list(filter(lambda x: x['peak_val'] < 10, spindles))\n",
      "    \n",
      "    return spindles\n"
     ],
     "language": "python",
     "metadata": {},
     "outputs": [],
     "prompt_number": 6
    },
    {
     "cell_type": "code",
     "collapsed": false,
     "input": [
      "all_subj = ('MG65', 'MG51', 'MG37', 'EM09', 'MG63', 'MG72')\n",
      "all_spindles = list(map(calc_spindle_values, all_subj))"
     ],
     "language": "python",
     "metadata": {},
     "outputs": []
    },
    {
     "cell_type": "markdown",
     "metadata": {},
     "source": [
      "multiprocessing does not work, or better, it does work, but it doesn't return the results, very annoying, but I don't know how to fix it.\n",
      "\n",
      "from multiprocessing import Pool\n",
      "\n",
      "p = Pool(6)\n",
      "out = p.map_async(calc_spindle_values, all_subj)\n",
      "out.ready()"
     ]
    },
    {
     "cell_type": "code",
     "collapsed": true,
     "input": [
      "try:\n",
      "    from visvis import hist, plot, imshow\n",
      "except ImportError:\n",
      "    from matplotlib.pyplot import hist, plot, imshow, figure\n",
      "    %matplotlib inline\n",
      "    from matplotlib.pyplot import gca\n",
      "\n"
     ],
     "language": "python",
     "metadata": {},
     "outputs": []
    },
    {
     "cell_type": "code",
     "collapsed": false,
     "input": [
      "for spindles in all_spindles:\n",
      "    dur = [x['end_time'] - x['start_time'] for x in spindles]\n",
      "    figure()\n",
      "    x_lim = (0, 2)\n",
      "    hist(dur, range=x_lim, bins=50)\n",
      "    gca().set_xlim(x_lim);"
     ],
     "language": "python",
     "metadata": {},
     "outputs": []
    },
    {
     "cell_type": "code",
     "collapsed": false,
     "input": [
      "for spindles in all_spindles:\n",
      "    auc = [x['area_under_curve'] for x in spindles]\n",
      "    figure()\n",
      "    x_lim = (0, 500)\n",
      "    hist(auc, range=x_lim, bins=50)\n",
      "    gca().set_xlim(x_lim);\n",
      "\n",
      "\n",
      "\n",
      "\n"
     ],
     "language": "python",
     "metadata": {},
     "outputs": []
    },
    {
     "cell_type": "code",
     "collapsed": false,
     "input": [
      "\n",
      "auc = [x['area_under_curve'] for x in spindles]\n",
      "    peak = [x['peak_val'] for x in spindles]"
     ],
     "language": "python",
     "metadata": {},
     "outputs": []
    },
    {
     "cell_type": "code",
     "collapsed": false,
     "input": [
      "x_lim = (0, 2)\n",
      "hist(dur, range=x_lim, bins=50)\n",
      "gca().set_xlim(x_lim);"
     ],
     "language": "python",
     "metadata": {},
     "outputs": []
    },
    {
     "cell_type": "code",
     "collapsed": false,
     "input": [
      "x_lim = (0, 5)\n",
      "hist(peak, range=x_lim, bins=50)\n",
      "gca().set_xlim(x_lim);"
     ],
     "language": "python",
     "metadata": {},
     "outputs": []
    },
    {
     "cell_type": "code",
     "collapsed": true,
     "input": [
      "x_lim = (0, 500)\n",
      "hist(auc, range=x_lim, bins=50)\n",
      "gca().set_xlim(x_lim);\n"
     ],
     "language": "python",
     "metadata": {},
     "outputs": []
    },
    {
     "cell_type": "code",
     "collapsed": false,
     "input": [
      "from numpy.random import uniform\n"
     ],
     "language": "python",
     "metadata": {},
     "outputs": []
    },
    {
     "cell_type": "code",
     "collapsed": false,
     "input": [
      "def estimate_overlap(s, e):\n",
      "    idx_sort = argsort(s)\n",
      "    s = s[idx_sort]\n",
      "    e = e[idx_sort]\n",
      "\n",
      "    s = expand_dims(asarray(s), 1)\n",
      "    e = expand_dims(asarray(e), 1)\n",
      "    overlap = (s <= e.T) & (s.T <= e)\n",
      "    return sum(overlap)"
     ],
     "language": "python",
     "metadata": {},
     "outputs": []
    },
    {
     "cell_type": "code",
     "collapsed": false,
     "input": [
      "s = asarray([x['start_time'] for x in spindles])\n",
      "e = asarray([x['end_time'] for x in spindles])\n",
      "\n",
      "# estimate_overlap(s, e)\n",
      "\n",
      "from os.path import basename, join\n",
      "savez(join(home, basename(xltek_file)), s, e)"
     ],
     "language": "python",
     "metadata": {},
     "outputs": []
    },
    {
     "cell_type": "code",
     "collapsed": false,
     "input": [
      "\n",
      "from joblib import Parallel, delayed\n",
      "\n",
      "def fake_dist(s, e, total_duration, i)\n",
      "    fake_s = uniform(0, total_duration, len(s))\n",
      "    fake_e = fake_s + (e - s)\n",
      "    return estimate_overlap(fake_s, fake_e)\n",
      "    \n",
      "dist = Parallel(n_jobs=12)(delayed(test)(10, i ** 2) for i in range(n_rpt))"
     ],
     "language": "python",
     "metadata": {},
     "outputs": []
    },
    {
     "cell_type": "code",
     "collapsed": false,
     "input": [
      "total_duration = sum([ptp(x) for x in sleep_data.axis['time']])    \n",
      "n_rpt = 10\n",
      "\n",
      "dist = zeros(n_rpt)\n",
      "for i in range(n_rpt):\n",
      "    fake_s = uniform(0, total_duration, len(spindles))\n",
      "    fake_e = fake_s + (e - s)\n",
      "    dist[i] = estimate_overlap(fake_s, fake_e)\n",
      "\n",
      "hist(dist)\n",
      "sum(estimate_overlap(s, e) <= dist) / n_rpt\n"
     ],
     "language": "python",
     "metadata": {},
     "outputs": []
    },
    {
     "cell_type": "code",
     "collapsed": false,
     "input": [
      "estimate_overlap(s, e)"
     ],
     "language": "python",
     "metadata": {},
     "outputs": []
    },
    {
     "cell_type": "code",
     "collapsed": false,
     "input": [
      "\n",
      "\n",
      "idx_sort = argsort(s)\n",
      "s = s[idx_sort]\n",
      "e = e[idx_sort]\n",
      "\n",
      "s = expand_dims(asarray(s), 1)\n",
      "e = expand_dims(asarray(e), 1)"
     ],
     "language": "python",
     "metadata": {},
     "outputs": []
    },
    {
     "cell_type": "code",
     "collapsed": false,
     "input": [
      "overlap = triu(((s <= e.T) & (s.T <= e)), 1)\n",
      "\n",
      "imshow(overlap)"
     ],
     "language": "python",
     "metadata": {},
     "outputs": []
    },
    {
     "cell_type": "code",
     "collapsed": false,
     "input": [
      "n_sp = overlap.shape[0]\n",
      "possible_overlap = (n_sp ** 2 - n_sp) / 2\n",
      "\n",
      "sum(overlap) / possible_overlap"
     ],
     "language": "python",
     "metadata": {},
     "outputs": []
    },
    {
     "cell_type": "code",
     "collapsed": false,
     "input": [
      "h= plot(s)\n",
      "h= plot(e)"
     ],
     "language": "python",
     "metadata": {},
     "outputs": []
    },
    {
     "cell_type": "code",
     "collapsed": false,
     "input": [
      "def a(input1):\n",
      "    \n",
      "    def b(input2):\n",
      "        return input2 + 10\n",
      "    \n",
      "    return b(input1) * 2\n",
      "\n",
      "a(10)"
     ],
     "language": "python",
     "metadata": {},
     "outputs": []
    },
    {
     "cell_type": "code",
     "collapsed": false,
     "input": [
      "hist(sum(overlap, 1), range(0, 20))\n",
      "\n"
     ],
     "language": "python",
     "metadata": {},
     "outputs": []
    },
    {
     "cell_type": "code",
     "collapsed": false,
     "input": [],
     "language": "python",
     "metadata": {},
     "outputs": []
    },
    {
     "cell_type": "code",
     "collapsed": false,
     "input": [
      "Select?\n"
     ],
     "language": "python",
     "metadata": {},
     "outputs": []
    },
    {
     "cell_type": "code",
     "collapsed": false,
     "input": [
      "def calc(x):\n",
      "    return getpid()\n",
      "\n",
      "\n",
      "def calc_parallel(n_tests):\n",
      "    return map_lsf(calc, range(n_tests), queue='vshort', imports={'os': 'getpid'})\n"
     ],
     "language": "python",
     "metadata": {},
     "outputs": []
    }
   ],
   "metadata": {}
  }
 ]
}