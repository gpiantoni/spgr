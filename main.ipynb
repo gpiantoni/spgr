{
 "metadata": {
  "name": "",
  "signature": "sha256:f7edab8725d34965aef55d8fc46650eb16a7aa404c84ebaab2723d1296f306cf"
 },
 "nbformat": 3,
 "nbformat_minor": 0,
 "worksheets": [
  {
   "cells": [
    {
     "cell_type": "heading",
     "level": 1,
     "metadata": {
      "slideshow": {
       "slide_type": "-"
      }
     },
     "source": [
      "SPGR"
     ]
    },
    {
     "cell_type": "markdown",
     "metadata": {},
     "source": [
      "Detection of spindles on grid recordings"
     ]
    },
    {
     "cell_type": "heading",
     "level": 2,
     "metadata": {},
     "source": [
      "Selection of Patients and Read Data"
     ]
    },
    {
     "cell_type": "markdown",
     "metadata": {},
     "source": [
      "[Selection of 10 patients and save one hour of sleep at least](read_data.ipynb)"
     ]
    },
    {
     "cell_type": "heading",
     "level": 2,
     "metadata": {},
     "source": [
      "Detect Spindles"
     ]
    },
    {
     "cell_type": "markdown",
     "metadata": {},
     "source": [
      "There are multiple ways to [detect spindles](compare_spindle_detection.ipynb). \n",
      "The methods have not been compared systematically"
     ]
    },
    {
     "cell_type": "markdown",
     "metadata": {},
     "source": [
      "While some spindles are easy to detect, it's hard to define when they start and when they end. In fact, it seems that the spindling continues for some time."
     ]
    },
    {
     "cell_type": "heading",
     "level": 2,
     "metadata": {},
     "source": [
      "Peak Frequency"
     ]
    },
    {
     "cell_type": "markdown",
     "metadata": {},
     "source": [
      "Instead of detecting spindles as discrete events, we can look at the power in spindle frequency, by detecting its [peak_frequency](peak_frequency.ipynb)"
     ]
    },
    {
     "cell_type": "markdown",
     "metadata": {},
     "source": [
      "Some patients have very clear peaks in the power spectrum, most electrodes seem to have the same peak frequency. However, quite a few patients have peaks outside of the spindle band."
     ]
    },
    {
     "cell_type": "heading",
     "level": 2,
     "metadata": {},
     "source": [
      "Spindling Time"
     ]
    },
    {
     "cell_type": "markdown",
     "metadata": {},
     "source": [
      "How much time/percentage of time does each electrode [spend spindling](spindling_time.ipynb)"
     ]
    },
    {
     "cell_type": "markdown",
     "metadata": {},
     "source": [
      "Some channels have lots of spindling going on, but they are large differences between patients. Some electrodes have very few spindles, sleep was defined based on other factors as well, such as k-complex and slow wave"
     ]
    },
    {
     "cell_type": "code",
     "collapsed": false,
     "input": [],
     "language": "python",
     "metadata": {},
     "outputs": []
    }
   ],
   "metadata": {}
  }
 ]
}