{
 "metadata": {
  "name": "",
  "signature": "sha256:66a051ea9b6291716ebb4f1c07462338f224297f1f6214ac51ee472499627bd4"
 },
 "nbformat": 3,
 "nbformat_minor": 0,
 "worksheets": [
  {
   "cells": [
    {
     "cell_type": "heading",
     "level": 1,
     "metadata": {
      "slideshow": {
       "slide_type": "-"
      }
     },
     "source": [
      "SPGR"
     ]
    },
    {
     "cell_type": "heading",
     "level": 3,
     "metadata": {},
     "source": [
      "CASHLAB03-deb"
     ]
    },
    {
     "cell_type": "code",
     "collapsed": false,
     "input": [
      "from datetime import datetime\n",
      "print('Last run on ' + str(datetime.now()) + '\\n')\n",
      "\n",
      "import phypno\n",
      "phypno_path = phypno.__path__[0] + '/../.git'\n",
      "\n",
      "phypno_ver = !git -C $phypno_path rev-parse HEAD\n",
      "print('Phypno Version: ' + phypno_ver[0])\n",
      "!pip freeze"
     ],
     "language": "python",
     "metadata": {},
     "outputs": [
      {
       "output_type": "stream",
       "stream": "stdout",
       "text": [
        "Last run on 2014-04-16 08:40:58.545847\n",
        "\n"
       ]
      },
      {
       "output_type": "stream",
       "stream": "stdout",
       "text": [
        "Phypno Version: 6e53289cfe465bf3df91fc0340bf957f7fff345a\n"
       ]
      },
      {
       "output_type": "stream",
       "stream": "stdout",
       "text": [
        "Jinja2==2.7.2\r\n",
        "MarkupSafe==0.19\r\n",
        "PyOpenGL==3.0.2\r\n",
        "PySide==1.2.1\r\n",
        "Pygments==1.6\r\n",
        "Sphinx==1.2.2\r\n",
        "docutils==0.11\r\n",
        "ipython==2.0.0\r\n",
        "joblib==0.7.1\r\n",
        "nose==1.3.1\r\n",
        "numpy==1.8.1\r\n",
        "numpydoc==0.4\r\n",
        "pyzmq==14.1.1\r\n",
        "scipy==0.13.3\r\n",
        "tornado==3.2\r\n",
        "visvis==1.9\r\n"
       ]
      }
     ],
     "prompt_number": 2
    },
    {
     "cell_type": "code",
     "collapsed": false,
     "input": [
      "from os import listdir, mkdir\n",
      "from os.path import isdir, join\n",
      "from pickle import dump\n",
      "\n",
      "from phypno import Dataset\n",
      "from phypno.attr import Scores\n",
      "from phypno.trans import Filter"
     ],
     "language": "python",
     "metadata": {},
     "outputs": [
      {
       "output_type": "stream",
       "stream": "stderr",
       "text": [
        "WARNING:phypno.attr.anat:nibabel (optional dependency) is not installed. You will not be able to read Freesurfer annotations and segmentations.\n"
       ]
      }
     ],
     "prompt_number": 3
    },
    {
     "cell_type": "code",
     "collapsed": false,
     "input": [
      "rec_dir = '/home/gio/recordings'\n",
      "score_path = 'doc/scores'\n",
      "sleep_stages = ('NREM2', 'NREM3')\n",
      "wake_stages = ('Wake', )\n",
      "\n",
      "data_dir = '/home/gio/projects/spgr/subjects'\n",
      "xltek_path = 'eeg/raw/xltek'\n",
      "MIN_EPOCHS = 60"
     ],
     "language": "python",
     "metadata": {},
     "outputs": [],
     "prompt_number": 4
    },
    {
     "cell_type": "code",
     "collapsed": false,
     "input": [
      "def save_wake_sleep_data(sleep_epochs, xltek_file, subj_dir):\n",
      "                         \n",
      "    d = Dataset(xltek_file)\n",
      "    start_time = [x['start_time'] for x in sleep_epochs]\n",
      "    end_time = [x['end_time'] for x in sleep_epochs]\n",
      "    gr_chan = d.header['chan_name'][:60]\n",
      "    sleep_data = d.read_data(begtime=start_time[:MIN_EPOCHS], endtime=end_time[:MIN_EPOCHS], chan=gr_chan)\n",
      "    start_time = [x['start_time'] for x in wake_epochs]\n",
      "    end_time = [x['end_time'] for x in wake_epochs]\n",
      "    wake_data = d.read_data(begtime=start_time[:MIN_EPOCHS], endtime=end_time[:MIN_EPOCHS], chan=gr_chan)\n",
      "\n",
      "    hp_filt = Filter(low_cut=1, s_freq=sleep_data.s_freq)\n",
      "    lp_filt = Filter(high_cut=40, s_freq=sleep_data.s_freq)\n",
      "        \n",
      "    if not isdir(subj_dir):\n",
      "        mkdir(subj_dir)\n",
      "    \n",
      "    sleep_file = join(subj_dir, 'sleep_data.pkl')\n",
      "    wake_file = join(subj_dir, 'wake_data.pkl')\n",
      "    \n",
      "    sleep_data = lp_filt(hp_filt(sleep_data))\n",
      "    wake_data = lp_filt(hp_filt(wake_data))\n",
      "    \n",
      "    dump(sleep_data, open(sleep_file, 'wb'))\n",
      "    dump(wake_data, open(wake_file, 'wb'))\n",
      "\n",
      "    "
     ],
     "language": "python",
     "metadata": {},
     "outputs": [],
     "prompt_number": 5
    },
    {
     "cell_type": "code",
     "collapsed": false,
     "input": [
      "if True:\n",
      "    all_subj = sorted(listdir(rec_dir), reverse=True)\n",
      "else:\n",
      "    subj_with_grid_scalp = ('EM03', 'EM09', 'MG07', 'MG11', 'MG12', 'MG15', 'MG17', \n",
      "                            'MG29', 'MG31', 'MG32', 'MG33', 'MG37', 'MG42', 'MG45', \n",
      "                            'MG48', 'MG49', 'MG51', 'MG56', 'MG61', 'MG63', 'MG65', 'MG72')\n",
      "    not_in_rec = ('MG12', )\n",
      "    all_subj = set(subj_with_grid_scalp) - set(not_in_rec)\n",
      "\n",
      "    \n",
      "good_xltek = []    \n",
      "for subj in sorted(all_subj):\n",
      "    score_dir = join(rec_dir, subj, score_path)\n",
      "    all_xml = listdir(score_dir)\n",
      "    if all_xml:\n",
      "        ok_sleep = True  # save only one dataset per subject\n",
      "        for one_xml in all_xml:\n",
      "            score = Scores(join(score_dir, one_xml))\n",
      "            sleep_epochs = score.get_epochs(sleep_stages)\n",
      "            wake_epochs = score.get_epochs(wake_stages)\n",
      "\n",
      "            print('{0} has{1: 5.1f} minutes of {2} and{3: 5.1f} minutes of {4}.'\n",
      "                  ''.format(one_xml, len(sleep_epochs)/2, ', '.join(sleep_stages),\n",
      "                            len(wake_epochs)/2, ', '.join(wake_stages)))\n",
      "       \n",
      "            if len(sleep_epochs) >= MIN_EPOCHS and len(wake_epochs) >= MIN_EPOCHS and ok_sleep:\n",
      "                print('enough data for ' + subj)\n",
      "                xltek_file = join(rec_dir, subj, xltek_path, one_xml[:-11])\n",
      "                subj_dir = join(data_dir, subj)\n",
      "                # save_wake_sleep_data(sleep_epochs, xltek_file, subj_dir)\n",
      "                ok_sleep = False\n",
      "                good_xltek.append(xltek_file)"
     ],
     "language": "python",
     "metadata": {},
     "outputs": [
      {
       "output_type": "stream",
       "stream": "stdout",
       "text": [
        "EM09_eeg_xltek_sessA_d05_11_53_38_scores.xml has 62.0 minutes of NREM2, NREM3 and 60.0 minutes of Wake.\n",
        "enough data for EM09\n",
        "EM09_eeg_xltek_sessA_d06_08_05_47_scores.xml has 71.0 minutes of NREM2, NREM3 and 44.5 minutes of Wake."
       ]
      },
      {
       "output_type": "stream",
       "stream": "stdout",
       "text": [
        "\n",
        "MG28_eeg_xltek_sessA_d12_08_40_21_scores.xml has 60.5 minutes of NREM2, NREM3 and 60.0 minutes of Wake."
       ]
      },
      {
       "output_type": "stream",
       "stream": "stdout",
       "text": [
        "\n",
        "enough data for MG28\n",
        "MG33_eeg_xltek_sessA_d09_09_01_22_scores.xml has  0.0 minutes of NREM2, NREM3 and  0.0 minutes of Wake."
       ]
      },
      {
       "output_type": "stream",
       "stream": "stdout",
       "text": [
        "\n",
        "MG33_eeg_xltek_sessA_d07_09_46_30_scores.xml has  0.0 minutes of NREM2, NREM3 and  0.0 minutes of Wake.\n",
        "MG37_eeg_xltek_sessA_d04_10_18_31_scores.xml has  0.0 minutes of NREM2, NREM3 and 62.5 minutes of Wake."
       ]
      },
      {
       "output_type": "stream",
       "stream": "stdout",
       "text": [
        "\n",
        "MG37_eeg_xltek_sessA_d03_12_18_14_scores.xml has 38.0 minutes of NREM2, NREM3 and 35.5 minutes of Wake."
       ]
      },
      {
       "output_type": "stream",
       "stream": "stdout",
       "text": [
        "\n",
        "enough data for MG37\n",
        "MG49_eeg_xltek_sessA_d02_06_34_58_scores.xml has  0.0 minutes of NREM2, NREM3 and  0.0 minutes of Wake."
       ]
      },
      {
       "output_type": "stream",
       "stream": "stdout",
       "text": [
        "\n",
        "MG51_eeg_xltek_sessA_d09_06_39_53_scores.xml has  0.0 minutes of NREM2, NREM3 and  0.0 minutes of Wake.\n",
        "MG51_eeg_xltek_sessA_d08_06_41_13_scores.xml has 83.5 minutes of NREM2, NREM3 and 62.0 minutes of Wake."
       ]
      },
      {
       "output_type": "stream",
       "stream": "stdout",
       "text": [
        "\n",
        "enough data for MG51\n",
        "MG56_eeg_xltek_sessA_d08_06_38_19_scores.xml has  0.0 minutes of NREM2, NREM3 and  0.0 minutes of Wake.\n",
        "MG56_eeg_xltek_sessA_d02_16_09_47_scores.xml has  3.5 minutes of NREM2, NREM3 and  0.0 minutes of Wake."
       ]
      },
      {
       "output_type": "stream",
       "stream": "stdout",
       "text": [
        "\n",
        "MG61_eeg_xltek_sessA_d02_17_28_06_scores.xml has  0.0 minutes of NREM2, NREM3 and  0.0 minutes of Wake.\n",
        "MG61_eeg_xltek_sessA_d03_07_58_11_scores.xml has  0.0 minutes of NREM2, NREM3 and  0.0 minutes of Wake."
       ]
      },
      {
       "output_type": "stream",
       "stream": "stdout",
       "text": [
        "\n",
        "MG63_eeg_xltek_sessA_d00_17_38_33_scores.xml has  0.0 minutes of NREM2, NREM3 and  0.0 minutes of Wake.\n",
        "MG63_eeg_xltek_sessA_d06_15_55_12_scores.xml has 44.5 minutes of NREM2, NREM3 and 104.5 minutes of Wake."
       ]
      },
      {
       "output_type": "stream",
       "stream": "stdout",
       "text": [
        "\n",
        "enough data for MG63\n",
        "MG65_eeg_xltek_sessA_d06_13_23_20_scores.xml has  0.0 minutes of NREM2, NREM3 and  0.0 minutes of Wake.\n",
        "MG65_eeg_xltek_sessA_d01_19_23_24_scores.xml has 69.5 minutes of NREM2, NREM3 and 53.0 minutes of Wake."
       ]
      },
      {
       "output_type": "stream",
       "stream": "stdout",
       "text": [
        "\n",
        "enough data for MG65\n",
        "MG67_eeg_xltek_sessA_d12_08_04_03_scores.xml has 75.5 minutes of NREM2, NREM3 and 36.5 minutes of Wake."
       ]
      },
      {
       "output_type": "stream",
       "stream": "stdout",
       "text": [
        "\n",
        "enough data for MG67\n",
        "MG72_eeg_xltek_sessA_d08_12_08_30_scores.xml has 12.0 minutes of NREM2, NREM3 and  0.0 minutes of Wake."
       ]
      },
      {
       "output_type": "stream",
       "stream": "stdout",
       "text": [
        "\n",
        "MG72_eeg_xltek_sessA_d09_07_47_00_scores.xml has 59.5 minutes of NREM2, NREM3 and 30.5 minutes of Wake."
       ]
      },
      {
       "output_type": "stream",
       "stream": "stdout",
       "text": [
        "\n",
        "enough data for MG72\n",
        "MG72_eeg_xltek_sessA_d13_11_18_02_scores.xml has 18.5 minutes of NREM2, NREM3 and  5.5 minutes of Wake.\n"
       ]
      }
     ],
     "prompt_number": 6
    },
    {
     "cell_type": "code",
     "collapsed": false,
     "input": [
      "xltek_file = good_xltek[-3]\n",
      "d = Dataset(xltek_file)"
     ],
     "language": "python",
     "metadata": {},
     "outputs": [],
     "prompt_number": 101
    },
    {
     "cell_type": "code",
     "collapsed": false,
     "input": [
      "from os import sep\n",
      "\n",
      "def from_xltek_path_to_scores(xltek_file):\n",
      "    \"\"\"input is the xltek path and you get the full path to scores xml.\"\"\"\n",
      "    xltek_path = xltek_file.split(sep)\n",
      "    xltek_path[5] = 'doc'\n",
      "    xltek_path[6] = 'scores'\n",
      "    xltek_path[8] = xltek_path[8] + '_scores.xml'\n",
      "    del xltek_path[7]\n",
      "\n",
      "    return sep.join(xltek_path)"
     ],
     "language": "python",
     "metadata": {},
     "outputs": [],
     "prompt_number": 102
    },
    {
     "cell_type": "code",
     "collapsed": false,
     "input": [
      "score = Scores(from_xltek_path_to_scores(xltek_file))\n",
      "sleep_epochs = score.get_epochs(sleep_stages)\n"
     ],
     "language": "python",
     "metadata": {},
     "outputs": [],
     "prompt_number": 103
    },
    {
     "cell_type": "code",
     "collapsed": false,
     "input": [
      "from re import match\n",
      "def is_grid(label):\n",
      "    G1 = match('.*G[0-9]{1,2}$', label)\n",
      "    CING1 = match('.*CING[0-9]$', label)\n",
      "    EMG1 = match('.*EMG[0-9]$', label)\n",
      "    GR1 = match('.*GR[0-9]{1,2}$', label.upper())\n",
      "    return (G1 and not CING1 and not EMG1) or GR1"
     ],
     "language": "python",
     "metadata": {},
     "outputs": [],
     "prompt_number": 104
    },
    {
     "cell_type": "code",
     "collapsed": false,
     "input": [
      "gr_chan = [x for x in d.header['chan_name'] if is_grid(x)]"
     ],
     "language": "python",
     "metadata": {},
     "outputs": [],
     "prompt_number": 105
    },
    {
     "cell_type": "code",
     "collapsed": false,
     "input": [],
     "language": "python",
     "metadata": {},
     "outputs": [],
     "prompt_number": 105
    },
    {
     "cell_type": "code",
     "collapsed": false,
     "input": [
      "\n",
      "start_time = [x['start_time'] for x in sleep_epochs]\n",
      "end_time = [x['end_time'] for x in sleep_epochs]\n",
      "sleep_data = d.read_data(begtime=start_time[:MIN_EPOCHS], endtime=end_time[:MIN_EPOCHS], chan=gr_chan)\n",
      "        \n",
      "hp_filt = Filter(low_cut=1, s_freq=sleep_data.s_freq)\n",
      "lp_filt = Filter(high_cut=40, s_freq=sleep_data.s_freq)\n",
      "sleep_data = lp_filt(hp_filt(sleep_data))"
     ],
     "language": "python",
     "metadata": {},
     "outputs": [],
     "prompt_number": 106
    },
    {
     "cell_type": "code",
     "collapsed": false,
     "input": [
      "from phypno.detect import DetectSpindle\n",
      "\n",
      "\n",
      "detsp = DetectSpindle(frequency=(11, 18),\n",
      "                      method='hilbert', \n",
      "                      threshold='maxima', threshold_options={'peak_width': 2, 'select_width': 2},\n",
      "                      criteria={'duration': (0.5, 2), 'peak_in_fft': {'length': 1}}\n",
      "                      )\n",
      "\n",
      "#                      threshold='relative', threshold_options={'detection_value': 3, 'selection_value': 1},\n"
     ],
     "language": "python",
     "metadata": {},
     "outputs": [],
     "prompt_number": 107
    },
    {
     "cell_type": "code",
     "collapsed": false,
     "input": [
      "from phypno.trans import Select\n",
      "\n",
      "all_sp = []\n",
      "for one_trial in range(sleep_data.number_of('trial')):\n",
      "    print('{}/{}'.format(one_trial, sleep_data.number_of('trial') ))\n",
      "    \n",
      "def \n",
      "    s = Select(trial=[one_trial])\n",
      "    data1 = s(sleep_data)\n",
      "    sp1 = detsp(data1)\n",
      "    all_sp.append(sp1.spindle)"
     ],
     "language": "python",
     "metadata": {},
     "outputs": [
      {
       "output_type": "stream",
       "stream": "stdout",
       "text": [
        "0/60\n",
        "1/60"
       ]
      },
      {
       "output_type": "stream",
       "stream": "stdout",
       "text": [
        "\n",
        "2/60"
       ]
      },
      {
       "output_type": "stream",
       "stream": "stdout",
       "text": [
        "\n",
        "3/60"
       ]
      },
      {
       "output_type": "stream",
       "stream": "stdout",
       "text": [
        "\n",
        "4/60"
       ]
      },
      {
       "output_type": "stream",
       "stream": "stdout",
       "text": [
        "\n",
        "5/60"
       ]
      },
      {
       "output_type": "stream",
       "stream": "stdout",
       "text": [
        "\n",
        "6/60"
       ]
      },
      {
       "output_type": "stream",
       "stream": "stdout",
       "text": [
        "\n",
        "7/60"
       ]
      },
      {
       "output_type": "stream",
       "stream": "stdout",
       "text": [
        "\n",
        "8/60"
       ]
      },
      {
       "output_type": "stream",
       "stream": "stdout",
       "text": [
        "\n",
        "9/60"
       ]
      },
      {
       "output_type": "stream",
       "stream": "stdout",
       "text": [
        "\n",
        "10/60"
       ]
      },
      {
       "output_type": "stream",
       "stream": "stdout",
       "text": [
        "\n",
        "11/60"
       ]
      },
      {
       "output_type": "stream",
       "stream": "stdout",
       "text": [
        "\n",
        "12/60"
       ]
      },
      {
       "output_type": "stream",
       "stream": "stdout",
       "text": [
        "\n",
        "13/60"
       ]
      },
      {
       "output_type": "stream",
       "stream": "stdout",
       "text": [
        "\n",
        "14/60"
       ]
      },
      {
       "output_type": "stream",
       "stream": "stdout",
       "text": [
        "\n",
        "15/60"
       ]
      },
      {
       "output_type": "stream",
       "stream": "stdout",
       "text": [
        "\n",
        "16/60"
       ]
      },
      {
       "output_type": "stream",
       "stream": "stdout",
       "text": [
        "\n",
        "17/60"
       ]
      },
      {
       "output_type": "stream",
       "stream": "stdout",
       "text": [
        "\n",
        "18/60"
       ]
      },
      {
       "output_type": "stream",
       "stream": "stdout",
       "text": [
        "\n",
        "19/60"
       ]
      },
      {
       "output_type": "stream",
       "stream": "stdout",
       "text": [
        "\n",
        "20/60"
       ]
      },
      {
       "output_type": "stream",
       "stream": "stdout",
       "text": [
        "\n",
        "21/60"
       ]
      },
      {
       "output_type": "stream",
       "stream": "stdout",
       "text": [
        "\n",
        "22/60"
       ]
      },
      {
       "output_type": "stream",
       "stream": "stdout",
       "text": [
        "\n",
        "23/60"
       ]
      },
      {
       "output_type": "stream",
       "stream": "stdout",
       "text": [
        "\n",
        "24/60"
       ]
      },
      {
       "output_type": "stream",
       "stream": "stdout",
       "text": [
        "\n",
        "25/60"
       ]
      },
      {
       "output_type": "stream",
       "stream": "stdout",
       "text": [
        "\n",
        "26/60"
       ]
      },
      {
       "output_type": "stream",
       "stream": "stdout",
       "text": [
        "\n",
        "27/60"
       ]
      },
      {
       "output_type": "stream",
       "stream": "stdout",
       "text": [
        "\n",
        "28/60"
       ]
      },
      {
       "output_type": "stream",
       "stream": "stdout",
       "text": [
        "\n",
        "29/60"
       ]
      },
      {
       "output_type": "stream",
       "stream": "stdout",
       "text": [
        "\n",
        "30/60"
       ]
      },
      {
       "output_type": "stream",
       "stream": "stdout",
       "text": [
        "\n",
        "31/60"
       ]
      },
      {
       "output_type": "stream",
       "stream": "stdout",
       "text": [
        "\n",
        "32/60"
       ]
      },
      {
       "output_type": "stream",
       "stream": "stdout",
       "text": [
        "\n",
        "33/60"
       ]
      },
      {
       "output_type": "stream",
       "stream": "stdout",
       "text": [
        "\n",
        "34/60"
       ]
      },
      {
       "output_type": "stream",
       "stream": "stdout",
       "text": [
        "\n",
        "35/60"
       ]
      },
      {
       "output_type": "stream",
       "stream": "stdout",
       "text": [
        "\n",
        "36/60"
       ]
      },
      {
       "output_type": "stream",
       "stream": "stdout",
       "text": [
        "\n",
        "37/60"
       ]
      },
      {
       "output_type": "stream",
       "stream": "stdout",
       "text": [
        "\n",
        "38/60"
       ]
      },
      {
       "output_type": "stream",
       "stream": "stdout",
       "text": [
        "\n",
        "39/60"
       ]
      },
      {
       "output_type": "stream",
       "stream": "stdout",
       "text": [
        "\n",
        "40/60"
       ]
      },
      {
       "output_type": "stream",
       "stream": "stdout",
       "text": [
        "\n",
        "41/60"
       ]
      },
      {
       "output_type": "stream",
       "stream": "stdout",
       "text": [
        "\n",
        "42/60"
       ]
      },
      {
       "output_type": "stream",
       "stream": "stdout",
       "text": [
        "\n",
        "43/60"
       ]
      },
      {
       "output_type": "stream",
       "stream": "stdout",
       "text": [
        "\n",
        "44/60"
       ]
      },
      {
       "output_type": "stream",
       "stream": "stdout",
       "text": [
        "\n",
        "45/60"
       ]
      },
      {
       "output_type": "stream",
       "stream": "stdout",
       "text": [
        "\n",
        "46/60"
       ]
      },
      {
       "output_type": "stream",
       "stream": "stdout",
       "text": [
        "\n",
        "47/60"
       ]
      },
      {
       "output_type": "stream",
       "stream": "stdout",
       "text": [
        "\n",
        "48/60"
       ]
      },
      {
       "output_type": "stream",
       "stream": "stdout",
       "text": [
        "\n",
        "49/60"
       ]
      },
      {
       "output_type": "stream",
       "stream": "stdout",
       "text": [
        "\n",
        "50/60"
       ]
      },
      {
       "output_type": "stream",
       "stream": "stdout",
       "text": [
        "\n",
        "51/60"
       ]
      },
      {
       "output_type": "stream",
       "stream": "stdout",
       "text": [
        "\n",
        "52/60"
       ]
      },
      {
       "output_type": "stream",
       "stream": "stdout",
       "text": [
        "\n",
        "53/60"
       ]
      },
      {
       "output_type": "stream",
       "stream": "stdout",
       "text": [
        "\n",
        "54/60"
       ]
      },
      {
       "output_type": "stream",
       "stream": "stdout",
       "text": [
        "\n",
        "55/60"
       ]
      },
      {
       "output_type": "stream",
       "stream": "stdout",
       "text": [
        "\n",
        "56/60"
       ]
      },
      {
       "output_type": "stream",
       "stream": "stdout",
       "text": [
        "\n",
        "57/60"
       ]
      },
      {
       "output_type": "stream",
       "stream": "stdout",
       "text": [
        "\n",
        "58/60"
       ]
      },
      {
       "output_type": "stream",
       "stream": "stdout",
       "text": [
        "\n",
        "59/60"
       ]
      },
      {
       "output_type": "stream",
       "stream": "stdout",
       "text": [
        "\n"
       ]
      }
     ],
     "prompt_number": 108
    },
    {
     "cell_type": "code",
     "collapsed": false,
     "input": [
      "spindles = [x for sp in all_sp for x in sp]"
     ],
     "language": "python",
     "metadata": {},
     "outputs": [],
     "prompt_number": 110
    },
    {
     "cell_type": "code",
     "collapsed": false,
     "input": [],
     "language": "python",
     "metadata": {},
     "outputs": []
    },
    {
     "cell_type": "code",
     "collapsed": false,
     "input": [
      "auc = [x['area_under_curve'] for x in spindles]\n",
      "\n",
      "dur = [x['end_time'] - x['start_time'] for x in spindles]\n",
      "peak = [x['peak_val'] for x in spindles]"
     ],
     "language": "python",
     "metadata": {},
     "outputs": [],
     "prompt_number": 111
    },
    {
     "cell_type": "code",
     "collapsed": false,
     "input": [
      "from visvis import hist, plot, imshow"
     ],
     "language": "python",
     "metadata": {},
     "outputs": [],
     "prompt_number": 24
    },
    {
     "cell_type": "code",
     "collapsed": false,
     "input": [
      "hist(auc)"
     ],
     "language": "python",
     "metadata": {},
     "outputs": [
      {
       "metadata": {},
       "output_type": "pyout",
       "prompt_number": 113,
       "text": [
        "<visvis.functions.bar.Bars2D at 0x7fd0ae5c5750>"
       ]
      }
     ],
     "prompt_number": 113
    },
    {
     "cell_type": "code",
     "collapsed": true,
     "input": [
      "from numpy import *\n"
     ],
     "language": "python",
     "metadata": {},
     "outputs": [],
     "prompt_number": 28
    },
    {
     "cell_type": "code",
     "collapsed": false,
     "input": [
      "from numpy.random import uniform\n"
     ],
     "language": "python",
     "metadata": {},
     "outputs": [],
     "prompt_number": 29
    },
    {
     "cell_type": "code",
     "collapsed": false,
     "input": [
      "def estimate_overlap(s, e):\n",
      "    idx_sort = argsort(s)\n",
      "    s = s[idx_sort]\n",
      "    e = e[idx_sort]\n",
      "\n",
      "    s = expand_dims(asarray(s), 1)\n",
      "    e = expand_dims(asarray(e), 1)\n",
      "    overlap = (s <= e.T) & (s.T <= e)\n",
      "    return sum(overlap)"
     ],
     "language": "python",
     "metadata": {},
     "outputs": [],
     "prompt_number": 84
    },
    {
     "cell_type": "code",
     "collapsed": false,
     "input": [
      "s = asarray([x['start_time'] for x in spindles])\n",
      "e = asarray([x['end_time'] for x in spindles])\n",
      "\n",
      "# estimate_overlap(s, e)\n",
      "\n",
      "from os.path import basename, join\n",
      "savez(join('/home', 'gio', basename(xltek_file)), s, e)"
     ],
     "language": "python",
     "metadata": {},
     "outputs": [],
     "prompt_number": 114
    },
    {
     "cell_type": "code",
     "collapsed": false,
     "input": [
      "total_duration = sum([ptp(x) for x in sleep_data.axis['time']])    \n",
      "n_rpt = 10000\n",
      "dist = zeros(n_rpt)\n",
      "for i in range(n_rpt):\n",
      "    fake_s = uniform(0, total_duration, len(spindles))\n",
      "    fake_e = fake_s + (e - s)\n",
      "    dist[i] = estimate_overlap(fake_s, fake_e)\n",
      "\n",
      "hist(dist)\n",
      "sum(estimate_overlap(s, e) <= dist) / n_rpt\n"
     ],
     "language": "python",
     "metadata": {},
     "outputs": [
      {
       "metadata": {},
       "output_type": "pyout",
       "prompt_number": 115,
       "text": [
        "0.0"
       ]
      }
     ],
     "prompt_number": 115
    },
    {
     "cell_type": "code",
     "collapsed": false,
     "input": [
      "estimate_overlap(s, e)"
     ],
     "language": "python",
     "metadata": {},
     "outputs": [
      {
       "metadata": {},
       "output_type": "pyout",
       "prompt_number": 116,
       "text": [
        "950"
       ]
      }
     ],
     "prompt_number": 116
    },
    {
     "cell_type": "code",
     "collapsed": false,
     "input": [
      "\n",
      "\n",
      "idx_sort = argsort(s)\n",
      "s = s[idx_sort]\n",
      "e = e[idx_sort]\n",
      "\n",
      "s = expand_dims(asarray(s), 1)\n",
      "e = expand_dims(asarray(e), 1)"
     ],
     "language": "python",
     "metadata": {},
     "outputs": [],
     "prompt_number": 96
    },
    {
     "cell_type": "code",
     "collapsed": false,
     "input": [
      "overlap = triu(((s <= e.T) & (s.T <= e)), 1)\n",
      "\n",
      "imshow(overlap)"
     ],
     "language": "python",
     "metadata": {},
     "outputs": [
      {
       "metadata": {},
       "output_type": "pyout",
       "prompt_number": 99,
       "text": [
        "<visvis.wobjects.textures.Texture2D at 0x7fd0ae4fd790>"
       ]
      }
     ],
     "prompt_number": 99
    },
    {
     "cell_type": "code",
     "collapsed": false,
     "input": [
      "n_sp = overlap.shape[0]\n",
      "possible_overlap = (n_sp ** 2 - n_sp) / 2\n",
      "\n",
      "sum(overlap) / possible_overlap"
     ],
     "language": "python",
     "metadata": {},
     "outputs": [
      {
       "metadata": {},
       "output_type": "pyout",
       "prompt_number": 98,
       "text": [
        "0.0023524633816469544"
       ]
      }
     ],
     "prompt_number": 98
    },
    {
     "cell_type": "code",
     "collapsed": false,
     "input": [
      "h= plot(s)\n",
      "h= plot(e)"
     ],
     "language": "python",
     "metadata": {},
     "outputs": [],
     "prompt_number": 42
    },
    {
     "cell_type": "code",
     "collapsed": false,
     "input": [],
     "language": "python",
     "metadata": {},
     "outputs": []
    },
    {
     "cell_type": "code",
     "collapsed": false,
     "input": [
      "\n"
     ],
     "language": "python",
     "metadata": {},
     "outputs": [
      {
       "metadata": {},
       "output_type": "pyout",
       "prompt_number": 67,
       "text": [
        "'MG72_eeg_xltek_sessA_d09_07_47_00'"
       ]
      }
     ],
     "prompt_number": 67
    },
    {
     "cell_type": "code",
     "collapsed": false,
     "input": [],
     "language": "python",
     "metadata": {},
     "outputs": []
    },
    {
     "cell_type": "code",
     "collapsed": false,
     "input": [
      "hist(sum(overlap, 1), range(0, 20))\n",
      "\n"
     ],
     "language": "python",
     "metadata": {},
     "outputs": [
      {
       "metadata": {},
       "output_type": "pyout",
       "prompt_number": 100,
       "text": [
        "<visvis.functions.bar.Bars2D at 0x7fd0ae42b2d0>"
       ]
      }
     ],
     "prompt_number": 100
    },
    {
     "cell_type": "code",
     "collapsed": false,
     "input": [
      "\n"
     ],
     "language": "python",
     "metadata": {},
     "outputs": [
      {
       "metadata": {},
       "output_type": "pyout",
       "prompt_number": 93,
       "text": [
        "1799.8828125"
       ]
      }
     ],
     "prompt_number": 93
    },
    {
     "cell_type": "code",
     "collapsed": false,
     "input": [
      "def one_variable(x):\n",
      "    return x ** 2\n",
      "\n",
      "list(map(one_variable, range(10)))\n",
      "\n"
     ],
     "language": "python",
     "metadata": {},
     "outputs": [
      {
       "metadata": {},
       "output_type": "pyout",
       "prompt_number": 1,
       "text": [
        "[0, 1, 4, 9, 16, 25, 36, 49, 64, 81]"
       ]
      }
     ],
     "prompt_number": 1
    },
    {
     "cell_type": "code",
     "collapsed": false,
     "input": [],
     "language": "python",
     "metadata": {},
     "outputs": []
    }
   ],
   "metadata": {}
  }
 ]
}