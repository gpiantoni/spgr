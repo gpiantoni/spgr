{
 "metadata": {
  "name": "",
  "signature": "sha256:088f4835d2367bdc3526ecbd314287ac3bb5ab58ab27ee68316fdc8e8a1c3787"
 },
 "nbformat": 3,
 "nbformat_minor": 0,
 "worksheets": [
  {
   "cells": [
    {
     "cell_type": "heading",
     "level": 1,
     "metadata": {
      "slideshow": {
       "slide_type": "-"
      }
     },
     "source": [
      "SPGR"
     ]
    },
    {
     "cell_type": "code",
     "collapsed": false,
     "input": [
      "from datetime import datetime\n",
      "print('Last run on ' + str(datetime.now()) + '\\n')\n",
      "\n",
      "import phypno\n",
      "phypno_path = phypno.__path__[0] + '/../.git'\n",
      "\n",
      "phypno_ver = !git -C $phypno_path rev-parse HEAD\n",
      "print('Phypno Version: ' + phypno_ver[0])"
     ],
     "language": "python",
     "metadata": {},
     "outputs": [
      {
       "output_type": "stream",
       "stream": "stdout",
       "text": [
        "Last run on 2014-04-03 10:59:14.855764\n",
        "\n"
       ]
      },
      {
       "output_type": "stream",
       "stream": "stdout",
       "text": [
        "Phypno Version: e151161af4d67c9277043dc5ee710676c6395fd6\n"
       ]
      }
     ],
     "prompt_number": 3
    },
    {
     "cell_type": "code",
     "collapsed": false,
     "input": [
      "!pip freeze"
     ],
     "language": "python",
     "metadata": {},
     "outputs": [
      {
       "output_type": "stream",
       "stream": "stdout",
       "text": [
        "Jinja2==2.7.2\r\n",
        "MarkupSafe==0.19\r\n",
        "PySide==1.2.1\r\n",
        "Pygments==1.6\r\n",
        "Sphinx==1.2.2\r\n",
        "docutils==0.11\r\n",
        "ipython==2.0.0\r\n",
        "nose==1.3.1\r\n",
        "numpy==1.8.1\r\n",
        "numpydoc==0.4\r\n",
        "pyzmq==14.1.1\r\n",
        "scipy==0.13.3\r\n",
        "tornado==3.2\r\n"
       ]
      }
     ],
     "prompt_number": 4
    },
    {
     "cell_type": "code",
     "collapsed": false,
     "input": [
      "from os import listdir, mkdir\n",
      "from os.path import isdir, join\n",
      "from pickle import dump\n",
      "\n",
      "from phypno import Dataset\n",
      "from phypno.attr import Scores\n",
      "from phypno.trans import Filter"
     ],
     "language": "python",
     "metadata": {},
     "outputs": [
      {
       "output_type": "stream",
       "stream": "stderr",
       "text": [
        "WARNING:phypno.attr.anat:nibabel (optional dependency) is not installed. You will not be able to read Freesurfer annotations and segmentations.\n"
       ]
      }
     ],
     "prompt_number": 5
    },
    {
     "cell_type": "code",
     "collapsed": false,
     "input": [
      "rec_dir = '/home/gio/recordings'\n",
      "score_path = 'doc/scores'\n",
      "sleep_stages = ('NREM2', 'NREM3')\n",
      "wake_stages = ('Wake', )\n",
      "\n",
      "data_dir = '/home/gio/projects/spgr/subjects'\n",
      "xltek_path = 'eeg/raw/xltek'\n",
      "MIN_EPOCHS = 60"
     ],
     "language": "python",
     "metadata": {},
     "outputs": [],
     "prompt_number": 6
    },
    {
     "cell_type": "code",
     "collapsed": false,
     "input": [
      "def save_wake_sleep_data(sleep_epochs, xltek_file, subj_dir):\n",
      "                         \n",
      "    d = Dataset(xltek_file)\n",
      "    start_time = [x['start_time'] for x in sleep_epochs]\n",
      "    end_time = [x['end_time'] for x in sleep_epochs]\n",
      "    gr_chan = d.header['chan_name'][:60]\n",
      "    sleep_data = d.read_data(begtime=start_time[:MIN_EPOCHS], endtime=end_time[:MIN_EPOCHS], chan=gr_chan)\n",
      "    start_time = [x['start_time'] for x in wake_epochs]\n",
      "    end_time = [x['end_time'] for x in wake_epochs]\n",
      "    wake_data = d.read_data(begtime=start_time[:MIN_EPOCHS], endtime=end_time[:MIN_EPOCHS], chan=gr_chan)\n",
      "\n",
      "    hp_filt = Filter(low_cut=1, s_freq=sleep_data.s_freq)\n",
      "    lp_filt = Filter(high_cut=40, s_freq=sleep_data.s_freq)\n",
      "        \n",
      "    if not isdir(subj_dir):\n",
      "        mkdir(subj_dir)\n",
      "    \n",
      "    sleep_file = join(subj_dir, 'sleep_data.pkl')\n",
      "    wake_file = join(subj_dir, 'wake_data.pkl')\n",
      "    \n",
      "    sleep_data = lp_filt(hp_filt(sleep_data))\n",
      "    wake_data = lp_filt(hp_filt(wake_data))\n",
      "    \n",
      "    dump(sleep_data, open(sleep_file, 'wb'))\n",
      "    dump(wake_data, open(wake_file, 'wb'))\n"
     ],
     "language": "python",
     "metadata": {},
     "outputs": [],
     "prompt_number": 7
    },
    {
     "cell_type": "code",
     "collapsed": false,
     "input": [
      "for subj in sorted(listdir(rec_dir)):\n",
      "    score_dir = join(rec_dir, subj, score_path)\n",
      "    all_xml = listdir(score_dir)\n",
      "    if all_xml:\n",
      "        for one_xml in all_xml:\n",
      "            score = Scores(join(score_dir, one_xml))\n",
      "            sleep_epochs = score.get_epochs(sleep_stages)\n",
      "            wake_epochs = score.get_epochs(wake_stages)\n",
      "\n",
      "            print('{0} has{1: 5.1f} minutes of {2} and{3: 5.1f} minutes of {4}.'\n",
      "                  ''.format(one_xml, len(sleep_epochs)/2, ', '.join(sleep_stages),\n",
      "                            len(wake_epochs)/2, ', '.join(wake_stages)))\n",
      "       \n",
      "            if len(sleep_epochs) >= MIN_EPOCHS and len(wake_epochs) >= MIN_EPOCHS:\n",
      "                print('saving data for ' + subj)\n",
      "                xltek_file = join(rec_dir, subj, xltek_path, one_xml[:-11])\n",
      "                subj_dir = join(data_dir, subj)\n",
      "                # save_wake_sleep_data(sleep_epochs, xltek_file, subj_dir)"
     ],
     "language": "python",
     "metadata": {},
     "outputs": [
      {
       "output_type": "stream",
       "stream": "stdout",
       "text": [
        "MG28_eeg_xltek_sessA_d12_08_40_21_scores.xml has 60.5 minutes of NREM2, NREM3 and 60.0 minutes of Wake.\n",
        "saving data for MG28\n",
        "MG37_eeg_xltek_sessA_d04_10_18_31_scores.xml has  0.0 minutes of NREM2, NREM3 and 62.5 minutes of Wake.\n",
        "MG37_eeg_xltek_sessA_d03_12_18_14_scores.xml has 38.0 minutes of NREM2, NREM3 and 20.5 minutes of Wake."
       ]
      },
      {
       "output_type": "stream",
       "stream": "stdout",
       "text": [
        "\n",
        "MG51_eeg_xltek_sessA_d08_06_41_13_scores.xml has 83.5 minutes of NREM2, NREM3 and 62.0 minutes of Wake.\n",
        "saving data for MG51\n",
        "MG63_eeg_xltek_sessA_d06_15_55_12_scores.xml has 44.5 minutes of NREM2, NREM3 and 104.5 minutes of Wake.\n",
        "saving data for MG63\n",
        "MG67_eeg_xltek_sessA_d12_08_04_03_scores.xml has 75.5 minutes of NREM2, NREM3 and 36.5 minutes of Wake."
       ]
      },
      {
       "output_type": "stream",
       "stream": "stdout",
       "text": [
        "\n",
        "saving data for MG67\n",
        "MG72_eeg_xltek_sessA_d08_12_08_30_scores.xml has 12.0 minutes of NREM2, NREM3 and  0.0 minutes of Wake.\n",
        "MG72_eeg_xltek_sessA_d09_07_47_00_scores.xml has 59.5 minutes of NREM2, NREM3 and 21.0 minutes of Wake."
       ]
      },
      {
       "output_type": "stream",
       "stream": "stdout",
       "text": [
        "\n",
        "MG72_eeg_xltek_sessA_d13_11_18_02_scores.xml has 18.5 minutes of NREM2, NREM3 and  5.5 minutes of Wake.\n"
       ]
      }
     ],
     "prompt_number": 13
    },
    {
     "cell_type": "code",
     "collapsed": false,
     "input": [
      "!tar -cvf spgr.tar.gz /home/gio/projects/spgr/subjects"
     ],
     "language": "python",
     "metadata": {},
     "outputs": []
    },
    {
     "cell_type": "code",
     "collapsed": false,
     "input": [
      "!scp spgr.tar.gz gp902@rgs03.research.partners.org:"
     ],
     "language": "python",
     "metadata": {},
     "outputs": []
    },
    {
     "cell_type": "code",
     "collapsed": false,
     "input": [
      "!scp methods_to_detect_spindle.py gp902@rgs03.research.partners.org:"
     ],
     "language": "python",
     "metadata": {},
     "outputs": []
    },
    {
     "cell_type": "code",
     "collapsed": false,
     "input": [
      "from subprocess import Popen\n",
      "\n",
      "script = '/home/gio/projects/spgr/scripts/methods_to_detect_spindle.py'\n",
      "\n",
      "for method in ('hilbert', ):\n",
      "    for freq0 in ('10', ):\n",
      "        for freq1 in ('17', '18'):\n",
      "            for thres_type in ('relative', ):\n",
      "                for thres_det in ('3', ):\n",
      "                    for thres_sel in ('2', ):\n",
      "                        for dur0 in ('0.5', ):\n",
      "                            for dur1 in ('2', ):\n",
      "                                for fft in ('0', ):\n",
      "                                    options = (method, freq0, freq1, thres_type, thres_det, thres_sel, dur0, dur1, fft)\n",
      "                                    # Popen(script + ' ' + ' '.join(options), shell=True)\n"
     ],
     "language": "python",
     "metadata": {},
     "outputs": [],
     "prompt_number": 14
    },
    {
     "cell_type": "code",
     "collapsed": false,
     "input": [
      "options"
     ],
     "language": "python",
     "metadata": {},
     "outputs": [
      {
       "metadata": {},
       "output_type": "pyout",
       "prompt_number": 15,
       "text": [
        "('hilbert', '10', '18', 'relative', '3', '2', '0.5', '2', '0')"
       ]
      }
     ],
     "prompt_number": 15
    },
    {
     "cell_type": "code",
     "collapsed": false,
     "input": [],
     "language": "python",
     "metadata": {},
     "outputs": []
    }
   ],
   "metadata": {}
  }
 ]
}