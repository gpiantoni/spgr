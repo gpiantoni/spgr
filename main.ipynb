{
 "metadata": {
  "name": "",
  "signature": "sha256:b766b0e11161a210b4f02ab9252811c4e65aab53d96be83c384886204cb28c3d"
 },
 "nbformat": 3,
 "nbformat_minor": 0,
 "worksheets": [
  {
   "cells": [
    {
     "cell_type": "heading",
     "level": 1,
     "metadata": {
      "slideshow": {
       "slide_type": "-"
      }
     },
     "source": [
      "SPGR"
     ]
    },
    {
     "cell_type": "markdown",
     "metadata": {},
     "source": [
      "Running on **CASHLAB03**"
     ]
    },
    {
     "cell_type": "code",
     "collapsed": false,
     "input": [
      "import version_control"
     ],
     "language": "python",
     "metadata": {},
     "outputs": [
      {
       "output_type": "stream",
       "stream": "stdout",
       "text": [
        "Last run on 2014-07-01 15:06:16.896612\n",
        "\n",
        "Phypno Version: 9c6b5ff9685a2b756dfd1c1d81653048ac851385\n",
        "\n",
        "Jinja2==2.7.3, MarkupSafe==0.23, Pillow==2.4.0, PyOpenGL==3.1.0, PySide==1.2.2, Pygments==1.6, Sphinx==1.2.2, citeproc-py==0.1.0-12-g5539, coverage==3.7.1, docutils==0.11, imageio==0.5.1, ipython==2.1.0, leo==4.11-final, lxml==3.3.5, matplotlib==1.3.1, nibabel==1.3.0, nose==1.3.3, numpy==1.8.1, pep8==1.5.7, pyflakes==0.8.1, pyparsing==2.0.2, pyqtgraph==0.9.8, python-dateutil==2.2, python-docx==0.7.0, pyzmq==14.3.1, rope-py3k==0.9.4-1, rpy2==2.4.2, scikit-learn==0.15-git, scipy==0.14.0, six==1.7.3, sphinxcontrib-napoleon==0.2.8, -e hg+https://bitbucket.org/spyder-ide/spyderlib@322acad67d8cfd87a39482333220ccf399c9674b#egg=spyder-dev, sympy==0.7.5, tornado==3.2.2, visvis==1.9.1, "
       ]
      },
      {
       "output_type": "stream",
       "stream": "stdout",
       "text": [
        "\n"
       ]
      }
     ],
     "prompt_number": 1
    },
    {
     "cell_type": "heading",
     "level": 2,
     "metadata": {},
     "source": [
      "Selection of Patients"
     ]
    },
    {
     "cell_type": "markdown",
     "metadata": {},
     "source": [
      "Select potential patients (because have grid electrodes and one scalp electrode), but not all the patients have their sleep scored."
     ]
    },
    {
     "cell_type": "code",
     "collapsed": false,
     "input": [
      "if False:\n",
      "    all_subj = sorted(listdir(rec_dir), reverse=True)\n",
      "else:\n",
      "    subj_with_grid_scalp = ('EM03', 'EM09', 'MG07', 'MG11', 'MG12', 'MG15', 'MG17', \n",
      "                            'MG29', 'MG31', 'MG32', 'MG33', 'MG37', 'MG42', 'MG45', \n",
      "                            'MG48', 'MG49', 'MG51', 'MG56', 'MG61', 'MG63', 'MG65', 'MG72')\n",
      "    not_in_rec = ('MG12', )\n",
      "    all_subj = set(subj_with_grid_scalp) - set(not_in_rec)"
     ],
     "language": "python",
     "metadata": {},
     "outputs": [],
     "prompt_number": 2
    },
    {
     "cell_type": "markdown",
     "metadata": {},
     "source": [
      "Check which sleep recordings have been scored, so select patients that have some scored sleep."
     ]
    },
    {
     "cell_type": "code",
     "collapsed": true,
     "input": [
      "from spgr.read_data import read_score_per_subj, get_chan_used_in_analysis, get_data\n",
      "\n",
      "recordings_with_scores = list(filter(None.__ne__, map(read_score_per_subj, sorted(all_subj))))\n",
      "\n",
      "all_subj = sorted([one_scored_file.split('/')[4] for one_scored_file in recordings_with_scores])\n",
      "print('\\t'.join(all_subj))"
     ],
     "language": "python",
     "metadata": {},
     "outputs": [
      {
       "output_type": "stream",
       "stream": "stdout",
       "text": [
        "EM09\tMG17\tMG33\tMG37\tMG49\tMG51\tMG61\tMG63\tMG65\tMG72\n"
       ]
      }
     ],
     "prompt_number": 3
    },
    {
     "cell_type": "code",
     "collapsed": false,
     "input": [
      "from logging import getLogger, INFO, DEBUG\n",
      "lg = getLogger('spgr')\n",
      "lg.setLevel(DEBUG)"
     ],
     "language": "python",
     "metadata": {},
     "outputs": [],
     "prompt_number": 4
    },
    {
     "cell_type": "heading",
     "level": 2,
     "metadata": {},
     "source": [
      "Read Data"
     ]
    },
    {
     "cell_type": "markdown",
     "metadata": {},
     "source": [
      "Read only the periods containing sleep from the original data and store them in an accessible format for further analysis."
     ]
    },
    {
     "cell_type": "code",
     "collapsed": false,
     "input": [
      "for subj in reversed(all_subj):\n",
      "    read_score_per_subj(subj, True)"
     ],
     "language": "python",
     "metadata": {},
     "outputs": [
      {
       "output_type": "stream",
       "stream": "stderr",
       "text": [
        "INFO:spgr:MG72_eeg_xltek_sessA_d08_12_08_30_scores.xml\n"
       ]
      },
      {
       "output_type": "stream",
       "stream": "stderr",
       "text": [
        "INFO:spgr:    sleep has  12.0 min\n"
       ]
      },
      {
       "output_type": "stream",
       "stream": "stderr",
       "text": [
        "INFO:spgr:MG72_eeg_xltek_sessA_d09_07_47_00_scores.xml\n"
       ]
      },
      {
       "output_type": "stream",
       "stream": "stderr",
       "text": [
        "INFO:spgr:    sleep has  94.5 min\n"
       ]
      },
      {
       "output_type": "stream",
       "stream": "stderr",
       "text": [
        "INFO:spgr:Enough epochs, saving data\n"
       ]
      },
      {
       "output_type": "stream",
       "stream": "stderr",
       "text": [
        "DEBUG:spgr:Channels values: m 111.043792, std 193.571859, min 0.000000, max 1304.682953\n"
       ]
      },
      {
       "output_type": "stream",
       "stream": "stderr",
       "text": [
        "INFO:spgr:MG72_eeg_xltek_sessA_d13_11_18_02_scores.xml\n"
       ]
      },
      {
       "output_type": "stream",
       "stream": "stderr",
       "text": [
        "INFO:spgr:    sleep has  18.5 min\n"
       ]
      },
      {
       "output_type": "stream",
       "stream": "stderr",
       "text": [
        "INFO:spgr:MG65_eeg_xltek_sessA_d06_13_23_20_scores.xml\n"
       ]
      },
      {
       "output_type": "stream",
       "stream": "stderr",
       "text": [
        "INFO:spgr:    sleep has   0.0 min\n"
       ]
      },
      {
       "output_type": "stream",
       "stream": "stderr",
       "text": [
        "INFO:spgr:MG65_eeg_xltek_sessA_d01_19_23_24_scores.xml\n"
       ]
      },
      {
       "output_type": "stream",
       "stream": "stderr",
       "text": [
        "INFO:spgr:    sleep has  75.5 min\n"
       ]
      },
      {
       "output_type": "stream",
       "stream": "stderr",
       "text": [
        "INFO:spgr:Enough epochs, saving data\n"
       ]
      },
      {
       "output_type": "stream",
       "stream": "stderr",
       "text": [
        "DEBUG:spgr:Channels values: m 119.118198, std 41.802571, min 20.577916, max 232.687150\n"
       ]
      },
      {
       "output_type": "stream",
       "stream": "stderr",
       "text": [
        "INFO:spgr:MG63_eeg_xltek_sessA_d00_17_38_33_scores.xml\n"
       ]
      },
      {
       "output_type": "stream",
       "stream": "stderr",
       "text": [
        "INFO:spgr:    sleep has   0.0 min\n"
       ]
      },
      {
       "output_type": "stream",
       "stream": "stderr",
       "text": [
        "INFO:spgr:MG63_eeg_xltek_sessA_d06_15_55_12_scores.xml\n"
       ]
      },
      {
       "output_type": "stream",
       "stream": "stderr",
       "text": [
        "INFO:spgr:    sleep has  102.0 min\n"
       ]
      },
      {
       "output_type": "stream",
       "stream": "stderr",
       "text": [
        "INFO:spgr:Enough epochs, saving data\n"
       ]
      },
      {
       "output_type": "stream",
       "stream": "stderr",
       "text": [
        "DEBUG:spgr:Channels values: m 48.309045, std 16.378369, min 19.209740, max 134.438727\n"
       ]
      },
      {
       "output_type": "stream",
       "stream": "stderr",
       "text": [
        "INFO:spgr:MG61_eeg_xltek_sessA_d02_17_28_06_scores.xml\n"
       ]
      },
      {
       "output_type": "stream",
       "stream": "stderr",
       "text": [
        "INFO:spgr:    sleep has   0.0 min\n"
       ]
      },
      {
       "output_type": "stream",
       "stream": "stderr",
       "text": [
        "INFO:spgr:MG61_eeg_xltek_sessA_d03_07_58_11_scores.xml\n"
       ]
      },
      {
       "output_type": "stream",
       "stream": "stderr",
       "text": [
        "INFO:spgr:    sleep has  97.0 min\n"
       ]
      },
      {
       "output_type": "stream",
       "stream": "stderr",
       "text": [
        "INFO:spgr:Enough epochs, saving data\n"
       ]
      },
      {
       "output_type": "stream",
       "stream": "stderr",
       "text": [
        "DEBUG:spgr:Channels values: m 50.943950, std 14.569270, min 24.802638, max 109.315284\n"
       ]
      },
      {
       "output_type": "stream",
       "stream": "stderr",
       "text": [
        "INFO:spgr:MG51_eeg_xltek_sessA_d09_06_39_53_scores.xml\n"
       ]
      },
      {
       "output_type": "stream",
       "stream": "stderr",
       "text": [
        "INFO:spgr:    sleep has   0.0 min\n"
       ]
      },
      {
       "output_type": "stream",
       "stream": "stderr",
       "text": [
        "INFO:spgr:MG51_eeg_xltek_sessA_d08_06_41_13_scores.xml\n"
       ]
      },
      {
       "output_type": "stream",
       "stream": "stderr",
       "text": [
        "INFO:spgr:    sleep has  83.5 min\n"
       ]
      },
      {
       "output_type": "stream",
       "stream": "stderr",
       "text": [
        "INFO:spgr:Enough epochs, saving data\n"
       ]
      },
      {
       "output_type": "stream",
       "stream": "stderr",
       "text": [
        "DEBUG:spgr:Channels values: m 120.077353, std 21.540564, min 52.657624, max 194.920160\n"
       ]
      },
      {
       "output_type": "stream",
       "stream": "stderr",
       "text": [
        "INFO:spgr:MG49_eeg_xltek_sessA_d02_06_34_58_scores.xml\n"
       ]
      },
      {
       "output_type": "stream",
       "stream": "stderr",
       "text": [
        "INFO:spgr:    sleep has  121.5 min\n"
       ]
      },
      {
       "output_type": "stream",
       "stream": "stderr",
       "text": [
        "INFO:spgr:Enough epochs, saving data\n"
       ]
      },
      {
       "output_type": "stream",
       "stream": "stderr",
       "text": [
        "DEBUG:spgr:Channels values: m 37.603658, std 11.783351, min 23.039958, max 77.217974\n"
       ]
      },
      {
       "output_type": "stream",
       "stream": "stderr",
       "text": [
        "INFO:spgr:MG37_eeg_xltek_sessA_d04_10_18_31_scores.xml\n"
       ]
      },
      {
       "output_type": "stream",
       "stream": "stderr",
       "text": [
        "INFO:spgr:    sleep has   0.0 min\n"
       ]
      },
      {
       "output_type": "stream",
       "stream": "stderr",
       "text": [
        "INFO:spgr:MG37_eeg_xltek_sessA_d03_12_18_14_scores.xml\n"
       ]
      },
      {
       "output_type": "stream",
       "stream": "stderr",
       "text": [
        "INFO:spgr:    sleep has  91.5 min\n"
       ]
      },
      {
       "output_type": "stream",
       "stream": "stderr",
       "text": [
        "INFO:spgr:Enough epochs, saving data\n"
       ]
      },
      {
       "output_type": "stream",
       "stream": "stderr",
       "text": [
        "DEBUG:spgr:Channels values: m 89.285173, std 24.350166, min 61.584690, max 201.519645\n"
       ]
      },
      {
       "output_type": "stream",
       "stream": "stderr",
       "text": [
        "INFO:spgr:MG33_eeg_xltek_sessA_d09_09_01_22_scores.xml\n"
       ]
      },
      {
       "output_type": "stream",
       "stream": "stderr",
       "text": [
        "INFO:spgr:    sleep has  94.5 min\n"
       ]
      },
      {
       "output_type": "stream",
       "stream": "stderr",
       "text": [
        "INFO:spgr:Enough epochs, saving data\n"
       ]
      },
      {
       "output_type": "stream",
       "stream": "stderr",
       "text": [
        "DEBUG:spgr:Channels values: m 51.895099, std 17.457212, min 29.295497, max 114.053409\n"
       ]
      },
      {
       "output_type": "stream",
       "stream": "stderr",
       "text": [
        "INFO:spgr:MG33_eeg_xltek_sessA_d07_09_46_30_scores.xml\n"
       ]
      },
      {
       "output_type": "stream",
       "stream": "stderr",
       "text": [
        "INFO:spgr:    sleep has   0.0 min\n"
       ]
      },
      {
       "output_type": "stream",
       "stream": "stderr",
       "text": [
        "INFO:spgr:MG17_eeg_xltek_sessA_d03_17_48_30_scores.xml\n"
       ]
      },
      {
       "output_type": "stream",
       "stream": "stderr",
       "text": [
        "INFO:spgr:    sleep has  90.0 min\n"
       ]
      },
      {
       "output_type": "stream",
       "stream": "stderr",
       "text": [
        "INFO:spgr:Enough epochs, saving data\n"
       ]
      },
      {
       "output_type": "stream",
       "stream": "stderr",
       "text": [
        "DEBUG:spgr:Channels values: m 68.119125, std 16.183011, min 42.494123, max 111.259042\n"
       ]
      },
      {
       "output_type": "stream",
       "stream": "stderr",
       "text": [
        "INFO:spgr:EM09_eeg_xltek_sessA_d05_11_53_38_scores.xml\n"
       ]
      },
      {
       "output_type": "stream",
       "stream": "stderr",
       "text": [
        "INFO:spgr:    sleep has  62.0 min\n"
       ]
      },
      {
       "output_type": "stream",
       "stream": "stderr",
       "text": [
        "INFO:spgr:Enough epochs, saving data\n"
       ]
      },
      {
       "output_type": "stream",
       "stream": "stderr",
       "text": [
        "DEBUG:spgr:Channels values: m 45.259793, std 17.385739, min 4.671236, max 96.808208\n"
       ]
      },
      {
       "output_type": "stream",
       "stream": "stderr",
       "text": [
        "INFO:spgr:EM09_eeg_xltek_sessA_d06_08_05_47_scores.xml\n"
       ]
      },
      {
       "output_type": "stream",
       "stream": "stderr",
       "text": [
        "INFO:spgr:    sleep has  71.0 min\n"
       ]
      }
     ],
     "prompt_number": 5
    },
    {
     "cell_type": "markdown",
     "metadata": {},
     "source": [
      "Load channel information for only the channels that were used in the analysis (grid channels)"
     ]
    },
    {
     "cell_type": "code",
     "collapsed": false,
     "input": [
      "all_chan = get_chan_used_in_analysis(all_subj)"
     ],
     "language": "python",
     "metadata": {},
     "outputs": []
    },
    {
     "cell_type": "code",
     "collapsed": false,
     "input": [],
     "language": "python",
     "metadata": {},
     "outputs": []
    },
    {
     "cell_type": "markdown",
     "metadata": {},
     "source": [
      "Remember that **MG72** has flat channels (in the subfrontal grid) for part of the night"
     ]
    },
    {
     "cell_type": "code",
     "collapsed": false,
     "input": [
      "from numpy import *\n",
      "from pickle import load\n",
      "from phypno.trans import Math\n",
      "from phypno.viz.plot_2d import plot_topo\n",
      "from scipy.signal import welch\n",
      "from visvis import hist, subplot, plot, colorbar, figure"
     ],
     "language": "python",
     "metadata": {},
     "outputs": []
    },
    {
     "cell_type": "code",
     "collapsed": false,
     "input": [
      "subj = 'EM09'"
     ],
     "language": "python",
     "metadata": {},
     "outputs": []
    },
    {
     "cell_type": "code",
     "collapsed": false,
     "input": [
      "data = get_data(subj)"
     ],
     "language": "python",
     "metadata": {},
     "outputs": []
    },
    {
     "cell_type": "code",
     "collapsed": false,
     "input": [
      "m_diff = Math(operator_name='diff', axis='time')\n",
      "dat = m_diff(data)"
     ],
     "language": "python",
     "metadata": {},
     "outputs": []
    },
    {
     "cell_type": "code",
     "collapsed": false,
     "input": [
      "val = zeros(all_chan[subj].n_chan)\n",
      "\n",
      "for i, chan in enumerate(all_chan[subj].return_label()):\n",
      "    x = hstack(dat(chan=chan)[:1])\n",
      "    f, Pxx = welch(x, fs=data.s_freq, nperseg=data.s_freq*5)\n",
      "    val[i] = f[Pxx[f < 40].argmax()]"
     ],
     "language": "python",
     "metadata": {},
     "outputs": []
    },
    {
     "cell_type": "code",
     "collapsed": false,
     "input": [
      "x = hstack(dat(chan=chan)[:1])\n",
      "f, Pxx = welch(x, fs=data.s_freq, nperseg=data.s_freq*2)\n",
      "plot(f, Pxx)"
     ],
     "language": "python",
     "metadata": {},
     "outputs": []
    },
    {
     "cell_type": "code",
     "collapsed": false,
     "input": [
      "chan"
     ],
     "language": "python",
     "metadata": {},
     "outputs": []
    },
    {
     "cell_type": "code",
     "collapsed": false,
     "input": [
      "from phypno.trans import Freq, Math, Peaks, Merge"
     ],
     "language": "python",
     "metadata": {},
     "outputs": []
    },
    {
     "cell_type": "code",
     "collapsed": false,
     "input": [
      "concat = Merge('time')\n",
      "dat = concat(dat)"
     ],
     "language": "python",
     "metadata": {},
     "outputs": []
    },
    {
     "cell_type": "code",
     "collapsed": false,
     "input": [
      "\n",
      "fr = Freq(duration=2)\n"
     ],
     "language": "python",
     "metadata": {},
     "outputs": []
    },
    {
     "cell_type": "code",
     "collapsed": false,
     "input": [
      "freq = fr(dat)\n",
      "m_fr = max_freq(freq)\n"
     ],
     "language": "python",
     "metadata": {},
     "outputs": []
    },
    {
     "cell_type": "code",
     "collapsed": false,
     "input": [
      "m_fr(trial=0)"
     ],
     "language": "python",
     "metadata": {},
     "outputs": []
    },
    {
     "cell_type": "code",
     "collapsed": false,
     "input": [],
     "language": "python",
     "metadata": {},
     "outputs": []
    },
    {
     "cell_type": "code",
     "collapsed": false,
     "input": [
      "plot(freq.axis['freq'][0], freq(trial=0, chan=chan))"
     ],
     "language": "python",
     "metadata": {},
     "outputs": []
    },
    {
     "cell_type": "code",
     "collapsed": false,
     "input": [],
     "language": "python",
     "metadata": {},
     "outputs": []
    },
    {
     "cell_type": "code",
     "collapsed": false,
     "input": [
      "idx_time = data.index_of('time')\n",
      "idx_time"
     ],
     "language": "python",
     "metadata": {},
     "outputs": []
    },
    {
     "cell_type": "code",
     "collapsed": false,
     "input": [
      "nanmax?"
     ],
     "language": "python",
     "metadata": {},
     "outputs": []
    },
    {
     "cell_type": "code",
     "collapsed": false,
     "input": [
      "def func(x, axis, keepdims=True):\n",
      "    return nanargmax(x, axis=axis)\n",
      "\n",
      "max_math = Math(operator=func, axis='freq')"
     ],
     "language": "python",
     "metadata": {},
     "outputs": []
    },
    {
     "cell_type": "code",
     "collapsed": false,
     "input": [
      "max_math.operations"
     ],
     "language": "python",
     "metadata": {},
     "outputs": []
    },
    {
     "cell_type": "code",
     "collapsed": false,
     "input": [
      "b = max_math(freq)"
     ],
     "language": "python",
     "metadata": {},
     "outputs": []
    },
    {
     "cell_type": "code",
     "collapsed": false,
     "input": [
      "b.data[0]"
     ],
     "language": "python",
     "metadata": {},
     "outputs": []
    },
    {
     "cell_type": "code",
     "collapsed": false,
     "input": [
      "peak_over_time = zeros(freq.number_of('trial'))\n",
      "chan_name = 'GR11'\n",
      "\n",
      "FREQ_MIN = 5\n",
      "FREQ_MAX = 20\n",
      "\n",
      "for i, trl in enumerate(range(freq.number_of('trial'))):\n",
      "    freq_val = freq.axis['freq'][trl]\n",
      "    freq_lim = (FREQ_MIN <= freq_val) & (freq_val < FREQ_MAX)\n",
      "\n",
      "    x = freq(trial=trl, chan=chan_name)\n",
      "    x[~freq_lim] = NaN\n",
      "    peak_over_time[i] = freq_val[nanargmax(x)]\n",
      "\n",
      "figure()\n",
      "plot(peak_over_time)"
     ],
     "language": "python",
     "metadata": {},
     "outputs": []
    },
    {
     "cell_type": "code",
     "collapsed": false,
     "input": [],
     "language": "python",
     "metadata": {},
     "outputs": []
    },
    {
     "cell_type": "code",
     "collapsed": false,
     "input": [],
     "language": "python",
     "metadata": {},
     "outputs": []
    },
    {
     "cell_type": "code",
     "collapsed": false,
     "input": [
      "plot(freq.axis['freq'][trl], freq(trial=trl, chan=chan_name))"
     ],
     "language": "python",
     "metadata": {},
     "outputs": []
    }
   ],
   "metadata": {}
  }
 ]
}