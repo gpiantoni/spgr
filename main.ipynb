{
 "metadata": {
  "name": "",
  "signature": "sha256:236c778e5a5aeea8b39a3eefa17a4ec78d7ba39329a31a34c16714e7f46a88bc"
 },
 "nbformat": 3,
 "nbformat_minor": 0,
 "worksheets": [
  {
   "cells": [
    {
     "cell_type": "heading",
     "level": 1,
     "metadata": {
      "slideshow": {
       "slide_type": "-"
      }
     },
     "source": [
      "SPGR"
     ]
    },
    {
     "cell_type": "code",
     "collapsed": false,
     "input": [
      "from datetime import datetime\n",
      "print('Last run on ' + str(datetime.now()) + '\\n')\n",
      "\n",
      "import phypno\n",
      "phypno_path = phypno.__path__[0] + '/../.git'\n",
      "\n",
      "phypno_ver = !git -C $phypno_path rev-parse HEAD\n",
      "print('Phypno Version: ' + phypno_ver[0])\n",
      "!pip freeze"
     ],
     "language": "python",
     "metadata": {},
     "outputs": [
      {
       "output_type": "stream",
       "stream": "stdout",
       "text": [
        "Last run on 2014-04-03 14:34:34.290706\n",
        "\n"
       ]
      },
      {
       "output_type": "stream",
       "stream": "stdout",
       "text": [
        "Phypno Version: e151161af4d67c9277043dc5ee710676c6395fd6\n"
       ]
      },
      {
       "output_type": "stream",
       "stream": "stdout",
       "text": [
        "Jinja2==2.7.2\r\n",
        "MarkupSafe==0.19\r\n",
        "PySide==1.2.1\r\n",
        "Pygments==1.6\r\n",
        "Sphinx==1.2.2\r\n",
        "docutils==0.11\r\n",
        "ipython==2.0.0\r\n",
        "nose==1.3.1\r\n",
        "numpy==1.8.1\r\n",
        "numpydoc==0.4\r\n",
        "pyzmq==14.1.1\r\n",
        "scipy==0.13.3\r\n",
        "tornado==3.2\r\n"
       ]
      }
     ],
     "prompt_number": 1
    },
    {
     "cell_type": "code",
     "collapsed": false,
     "input": [
      "from os import listdir, mkdir\n",
      "from os.path import isdir, join\n",
      "from pickle import dump\n",
      "\n",
      "from phypno import Dataset\n",
      "from phypno.attr import Scores\n",
      "from phypno.trans import Filter"
     ],
     "language": "python",
     "metadata": {},
     "outputs": [
      {
       "output_type": "stream",
       "stream": "stderr",
       "text": [
        "WARNING:phypno.attr.anat:nibabel (optional dependency) is not installed. You will not be able to read Freesurfer annotations and segmentations.\n"
       ]
      }
     ],
     "prompt_number": 2
    },
    {
     "cell_type": "code",
     "collapsed": false,
     "input": [
      "rec_dir = '/home/gio/recordings'\n",
      "score_path = 'doc/scores'\n",
      "sleep_stages = ('NREM2', 'NREM3')\n",
      "wake_stages = ('Wake', )\n",
      "\n",
      "data_dir = '/home/gio/projects/spgr/subjects'\n",
      "xltek_path = 'eeg/raw/xltek'\n",
      "MIN_EPOCHS = 40"
     ],
     "language": "python",
     "metadata": {},
     "outputs": [],
     "prompt_number": 6
    },
    {
     "cell_type": "code",
     "collapsed": false,
     "input": [
      "def save_wake_sleep_data(sleep_epochs, xltek_file, subj_dir):\n",
      "                         \n",
      "    d = Dataset(xltek_file)\n",
      "    start_time = [x['start_time'] for x in sleep_epochs]\n",
      "    end_time = [x['end_time'] for x in sleep_epochs]\n",
      "    gr_chan = d.header['chan_name'][:60]\n",
      "    sleep_data = d.read_data(begtime=start_time[:MIN_EPOCHS], endtime=end_time[:MIN_EPOCHS], chan=gr_chan)\n",
      "    start_time = [x['start_time'] for x in wake_epochs]\n",
      "    end_time = [x['end_time'] for x in wake_epochs]\n",
      "    wake_data = d.read_data(begtime=start_time[:MIN_EPOCHS], endtime=end_time[:MIN_EPOCHS], chan=gr_chan)\n",
      "\n",
      "    hp_filt = Filter(low_cut=1, s_freq=sleep_data.s_freq)\n",
      "    lp_filt = Filter(high_cut=40, s_freq=sleep_data.s_freq)\n",
      "        \n",
      "    if not isdir(subj_dir):\n",
      "        mkdir(subj_dir)\n",
      "    \n",
      "    sleep_file = join(subj_dir, 'sleep_data.pkl')\n",
      "    wake_file = join(subj_dir, 'wake_data.pkl')\n",
      "    \n",
      "    sleep_data = lp_filt(hp_filt(sleep_data))\n",
      "    wake_data = lp_filt(hp_filt(wake_data))\n",
      "    \n",
      "    dump(sleep_data, open(sleep_file, 'wb'))\n",
      "    dump(wake_data, open(wake_file, 'wb'))\n"
     ],
     "language": "python",
     "metadata": {},
     "outputs": [],
     "prompt_number": 7
    },
    {
     "cell_type": "code",
     "collapsed": false,
     "input": [
      "for subj in sorted(listdir(rec_dir)):\n",
      "    score_dir = join(rec_dir, subj, score_path)\n",
      "    all_xml = listdir(score_dir)\n",
      "    if all_xml:\n",
      "        for one_xml in all_xml:\n",
      "            score = Scores(join(score_dir, one_xml))\n",
      "            sleep_epochs = score.get_epochs(sleep_stages)\n",
      "            wake_epochs = score.get_epochs(wake_stages)\n",
      "\n",
      "            print('{0} has{1: 5.1f} minutes of {2} and{3: 5.1f} minutes of {4}.'\n",
      "                  ''.format(one_xml, len(sleep_epochs)/2, ', '.join(sleep_stages),\n",
      "                            len(wake_epochs)/2, ', '.join(wake_stages)))\n",
      "       \n",
      "            if len(sleep_epochs) >= MIN_EPOCHS and len(wake_epochs) >= MIN_EPOCHS:\n",
      "                print('saving data for ' + subj)\n",
      "                xltek_file = join(rec_dir, subj, xltek_path, one_xml[:-11])\n",
      "                subj_dir = join(data_dir, subj)\n",
      "                save_wake_sleep_data(sleep_epochs, xltek_file, subj_dir)"
     ],
     "language": "python",
     "metadata": {},
     "outputs": [
      {
       "output_type": "stream",
       "stream": "stdout",
       "text": [
        "MG72_eeg_xltek_sessA_d08_12_08_30_scores.xml has 12.0 minutes of NREM2, NREM3 and  0.0 minutes of Wake.\n",
        "MG72_eeg_xltek_sessA_d09_07_47_00_scores.xml has 59.5 minutes of NREM2, NREM3 and 21.0 minutes of Wake."
       ]
      },
      {
       "output_type": "stream",
       "stream": "stdout",
       "text": [
        "\n",
        "saving data for MG72\n",
        "MG72_eeg_xltek_sessA_d13_11_18_02_scores.xml has 18.5 minutes of NREM2, NREM3 and  5.5 minutes of Wake."
       ]
      },
      {
       "output_type": "stream",
       "stream": "stdout",
       "text": [
        "\n",
        "MG67_eeg_xltek_sessA_d12_08_04_03_scores.xml has 75.5 minutes of NREM2, NREM3 and 36.5 minutes of Wake."
       ]
      },
      {
       "output_type": "stream",
       "stream": "stdout",
       "text": [
        "\n",
        "saving data for MG67\n"
       ]
      },
      {
       "ename": "OSError",
       "evalue": "[Errno 22] Invalid argument: '/home/gio/recordings/MG67/eeg/raw/xltek/MG67_eeg_xltek_sessA_d12_08_04_03'",
       "output_type": "pyerr",
       "traceback": [
        "\u001b[1;31m---------------------------------------------------------------------------\u001b[0m\n\u001b[1;31mOSError\u001b[0m                                   Traceback (most recent call last)",
        "\u001b[1;32m<ipython-input-10-240c98e5ff66>\u001b[0m in \u001b[0;36m<module>\u001b[1;34m()\u001b[0m\n\u001b[0;32m     16\u001b[0m                 \u001b[0mxltek_file\u001b[0m \u001b[1;33m=\u001b[0m \u001b[0mjoin\u001b[0m\u001b[1;33m(\u001b[0m\u001b[0mrec_dir\u001b[0m\u001b[1;33m,\u001b[0m \u001b[0msubj\u001b[0m\u001b[1;33m,\u001b[0m \u001b[0mxltek_path\u001b[0m\u001b[1;33m,\u001b[0m \u001b[0mone_xml\u001b[0m\u001b[1;33m[\u001b[0m\u001b[1;33m:\u001b[0m\u001b[1;33m-\u001b[0m\u001b[1;36m11\u001b[0m\u001b[1;33m]\u001b[0m\u001b[1;33m)\u001b[0m\u001b[1;33m\u001b[0m\u001b[0m\n\u001b[0;32m     17\u001b[0m                 \u001b[0msubj_dir\u001b[0m \u001b[1;33m=\u001b[0m \u001b[0mjoin\u001b[0m\u001b[1;33m(\u001b[0m\u001b[0mdata_dir\u001b[0m\u001b[1;33m,\u001b[0m \u001b[0msubj\u001b[0m\u001b[1;33m)\u001b[0m\u001b[1;33m\u001b[0m\u001b[0m\n\u001b[1;32m---> 18\u001b[1;33m                 \u001b[0msave_wake_sleep_data\u001b[0m\u001b[1;33m(\u001b[0m\u001b[0msleep_epochs\u001b[0m\u001b[1;33m,\u001b[0m \u001b[0mxltek_file\u001b[0m\u001b[1;33m,\u001b[0m \u001b[0msubj_dir\u001b[0m\u001b[1;33m)\u001b[0m\u001b[1;33m\u001b[0m\u001b[0m\n\u001b[0m",
        "\u001b[1;32m<ipython-input-7-862cc86f5e50>\u001b[0m in \u001b[0;36msave_wake_sleep_data\u001b[1;34m(sleep_epochs, xltek_file, subj_dir)\u001b[0m\n\u001b[0;32m      1\u001b[0m \u001b[1;32mdef\u001b[0m \u001b[0msave_wake_sleep_data\u001b[0m\u001b[1;33m(\u001b[0m\u001b[0msleep_epochs\u001b[0m\u001b[1;33m,\u001b[0m \u001b[0mxltek_file\u001b[0m\u001b[1;33m,\u001b[0m \u001b[0msubj_dir\u001b[0m\u001b[1;33m)\u001b[0m\u001b[1;33m:\u001b[0m\u001b[1;33m\u001b[0m\u001b[0m\n\u001b[0;32m      2\u001b[0m \u001b[1;33m\u001b[0m\u001b[0m\n\u001b[1;32m----> 3\u001b[1;33m     \u001b[0md\u001b[0m \u001b[1;33m=\u001b[0m \u001b[0mDataset\u001b[0m\u001b[1;33m(\u001b[0m\u001b[0mxltek_file\u001b[0m\u001b[1;33m)\u001b[0m\u001b[1;33m\u001b[0m\u001b[0m\n\u001b[0m\u001b[0;32m      4\u001b[0m     \u001b[0mstart_time\u001b[0m \u001b[1;33m=\u001b[0m \u001b[1;33m[\u001b[0m\u001b[0mx\u001b[0m\u001b[1;33m[\u001b[0m\u001b[1;34m'start_time'\u001b[0m\u001b[1;33m]\u001b[0m \u001b[1;32mfor\u001b[0m \u001b[0mx\u001b[0m \u001b[1;32min\u001b[0m \u001b[0msleep_epochs\u001b[0m\u001b[1;33m]\u001b[0m\u001b[1;33m\u001b[0m\u001b[0m\n\u001b[0;32m      5\u001b[0m     \u001b[0mend_time\u001b[0m \u001b[1;33m=\u001b[0m \u001b[1;33m[\u001b[0m\u001b[0mx\u001b[0m\u001b[1;33m[\u001b[0m\u001b[1;34m'end_time'\u001b[0m\u001b[1;33m]\u001b[0m \u001b[1;32mfor\u001b[0m \u001b[0mx\u001b[0m \u001b[1;32min\u001b[0m \u001b[0msleep_epochs\u001b[0m\u001b[1;33m]\u001b[0m\u001b[1;33m\u001b[0m\u001b[0m\n",
        "\u001b[1;32m/home/gio/tools/phypno/phypno/dataset.py\u001b[0m in \u001b[0;36m__init__\u001b[1;34m(self, filename, IOClass, memmap)\u001b[0m\n\u001b[0;32m    138\u001b[0m             \u001b[0mself\u001b[0m\u001b[1;33m.\u001b[0m\u001b[0mIOClass\u001b[0m \u001b[1;33m=\u001b[0m \u001b[0mIOClass\u001b[0m\u001b[1;33m\u001b[0m\u001b[0m\n\u001b[0;32m    139\u001b[0m         \u001b[1;32melse\u001b[0m\u001b[1;33m:\u001b[0m\u001b[1;33m\u001b[0m\u001b[0m\n\u001b[1;32m--> 140\u001b[1;33m             \u001b[0mself\u001b[0m\u001b[1;33m.\u001b[0m\u001b[0mIOClass\u001b[0m \u001b[1;33m=\u001b[0m \u001b[0mdetect_format\u001b[0m\u001b[1;33m(\u001b[0m\u001b[0mfilename\u001b[0m\u001b[1;33m)\u001b[0m\u001b[1;33m\u001b[0m\u001b[0m\n\u001b[0m\u001b[0;32m    141\u001b[0m \u001b[1;33m\u001b[0m\u001b[0m\n\u001b[0;32m    142\u001b[0m         \u001b[0mself\u001b[0m\u001b[1;33m.\u001b[0m\u001b[0mdataset\u001b[0m \u001b[1;33m=\u001b[0m \u001b[0mself\u001b[0m\u001b[1;33m.\u001b[0m\u001b[0mIOClass\u001b[0m\u001b[1;33m(\u001b[0m\u001b[0mself\u001b[0m\u001b[1;33m.\u001b[0m\u001b[0mfilename\u001b[0m\u001b[1;33m)\u001b[0m\u001b[1;33m\u001b[0m\u001b[0m\n",
        "\u001b[1;32m/home/gio/tools/phypno/phypno/dataset.py\u001b[0m in \u001b[0;36mdetect_format\u001b[1;34m(filename)\u001b[0m\n\u001b[0;32m     68\u001b[0m     \u001b[1;32melse\u001b[0m\u001b[1;33m:\u001b[0m\u001b[1;33m\u001b[0m\u001b[0m\n\u001b[0;32m     69\u001b[0m \u001b[1;33m\u001b[0m\u001b[0m\n\u001b[1;32m---> 70\u001b[1;33m         \u001b[1;32mwith\u001b[0m \u001b[0mopen\u001b[0m\u001b[1;33m(\u001b[0m\u001b[0mfilename\u001b[0m\u001b[1;33m,\u001b[0m \u001b[1;34m'rb'\u001b[0m\u001b[1;33m)\u001b[0m \u001b[1;32mas\u001b[0m \u001b[0mf\u001b[0m\u001b[1;33m:\u001b[0m\u001b[1;33m\u001b[0m\u001b[0m\n\u001b[0m\u001b[0;32m     71\u001b[0m             \u001b[0mfile_header\u001b[0m \u001b[1;33m=\u001b[0m \u001b[0mf\u001b[0m\u001b[1;33m.\u001b[0m\u001b[0mread\u001b[0m\u001b[1;33m(\u001b[0m\u001b[1;36m8\u001b[0m\u001b[1;33m)\u001b[0m\u001b[1;33m\u001b[0m\u001b[0m\n\u001b[0;32m     72\u001b[0m             \u001b[1;32mif\u001b[0m \u001b[0mfile_header\u001b[0m \u001b[1;33m==\u001b[0m \u001b[1;34mb'0       '\u001b[0m\u001b[1;33m:\u001b[0m\u001b[1;33m\u001b[0m\u001b[0m\n",
        "\u001b[1;31mOSError\u001b[0m: [Errno 22] Invalid argument: '/home/gio/recordings/MG67/eeg/raw/xltek/MG67_eeg_xltek_sessA_d12_08_04_03'"
       ]
      }
     ],
     "prompt_number": 10
    },
    {
     "cell_type": "code",
     "collapsed": false,
     "input": [
      "!cd /home/gio/projects/spgr/subjects; tar -cvf spgr.tar.gz ."
     ],
     "language": "python",
     "metadata": {},
     "outputs": [
      {
       "output_type": "stream",
       "stream": "stdout",
       "text": [
        "./\r\n",
        "./MG63/\r\n",
        "./MG63/wake_data.pkl\r\n"
       ]
      },
      {
       "output_type": "stream",
       "stream": "stdout",
       "text": [
        "./MG63/sleep_data.pkl\r\n"
       ]
      },
      {
       "output_type": "stream",
       "stream": "stdout",
       "text": [
        "./MG37/\r\n",
        "./MG37/wake_data.pkl\r\n"
       ]
      },
      {
       "output_type": "stream",
       "stream": "stdout",
       "text": [
        "./MG37/sleep_data.pkl\r\n"
       ]
      },
      {
       "output_type": "stream",
       "stream": "stdout",
       "text": [
        "./MG72/\r\n",
        "./MG72/wake_data.pkl\r\n"
       ]
      },
      {
       "output_type": "stream",
       "stream": "stdout",
       "text": [
        "./MG72/sleep_data.pkl\r\n"
       ]
      },
      {
       "output_type": "stream",
       "stream": "stdout",
       "text": [
        "tar: ./spgr.tar.gz: file is the archive; not dumped\r\n",
        "./MG51/\r\n",
        "./MG51/wake_data.pkl\r\n"
       ]
      },
      {
       "output_type": "stream",
       "stream": "stdout",
       "text": [
        "./MG51/sleep_data.pkl\r\n"
       ]
      },
      {
       "output_type": "stream",
       "stream": "stdout",
       "text": [
        "./MG28/\r\n",
        "./MG28/wake_data.pkl\r\n"
       ]
      },
      {
       "output_type": "stream",
       "stream": "stdout",
       "text": [
        "./MG28/sleep_data.pkl\r\n"
       ]
      }
     ],
     "prompt_number": 12
    },
    {
     "cell_type": "code",
     "collapsed": false,
     "input": [
      "!scp /home/gio/projects/spgr/subjects/spgr.tar.gz gp902@rgs03.research.partners.org:projects/spgr/subjects"
     ],
     "language": "python",
     "metadata": {},
     "outputs": [
      {
       "output_type": "stream",
       "stream": "stdout",
       "text": [
        "xset:  unable to open display \"\"\r\n"
       ]
      },
      {
       "output_type": "stream",
       "stream": "stdout",
       "text": [
        "\r",
        "spgr.tar.gz                                     0%    0     0.0KB/s   --:-- ETA"
       ]
      },
      {
       "output_type": "stream",
       "stream": "stdout",
       "text": [
        "\r",
        "spgr.tar.gz                                     0%   13MB  13.2MB/s   04:16 ETA"
       ]
      },
      {
       "output_type": "stream",
       "stream": "stdout",
       "text": [
        "\r",
        "spgr.tar.gz                                     0%   24MB  13.0MB/s   04:19 ETA"
       ]
      },
      {
       "output_type": "stream",
       "stream": "stdout",
       "text": [
        "\r",
        "spgr.tar.gz                                     1%   36MB  12.8MB/s   04:22 ETA"
       ]
      },
      {
       "output_type": "stream",
       "stream": "stdout",
       "text": [
        "\r",
        "spgr.tar.gz                                     1%   47MB  12.6MB/s   04:24 ETA"
       ]
      },
      {
       "output_type": "stream",
       "stream": "stdout",
       "text": [
        "\r",
        "spgr.tar.gz                                     1%   58MB  12.5MB/s   04:26 ETA"
       ]
      },
      {
       "output_type": "stream",
       "stream": "stdout",
       "text": [
        "\r",
        "spgr.tar.gz                                     2%   69MB  12.4MB/s   04:28 ETA"
       ]
      },
      {
       "output_type": "stream",
       "stream": "stdout",
       "text": [
        "\r",
        "spgr.tar.gz                                     2%   80MB  12.2MB/s   04:32 ETA"
       ]
      },
      {
       "output_type": "stream",
       "stream": "stdout",
       "text": [
        "\r",
        "spgr.tar.gz                                     2%   91MB  12.1MB/s   04:33 ETA"
       ]
      },
      {
       "output_type": "stream",
       "stream": "stdout",
       "text": [
        "\r",
        "spgr.tar.gz                                     2%  101MB  11.9MB/s   04:36 ETA"
       ]
      },
      {
       "output_type": "stream",
       "stream": "stdout",
       "text": [
        "\r",
        "spgr.tar.gz                                     3%  113MB  11.8MB/s   04:37 ETA"
       ]
      },
      {
       "output_type": "stream",
       "stream": "stdout",
       "text": [
        "\r",
        "spgr.tar.gz                                     3%  124MB  11.8MB/s   04:37 ETA"
       ]
      },
      {
       "output_type": "stream",
       "stream": "stdout",
       "text": [
        "\r",
        "spgr.tar.gz                                     3%  135MB  11.7MB/s   04:37 ETA"
       ]
      },
      {
       "output_type": "stream",
       "stream": "stdout",
       "text": [
        "\r",
        "spgr.tar.gz                                     4%  146MB  11.7MB/s   04:38 ETA"
       ]
      },
      {
       "output_type": "stream",
       "stream": "stdout",
       "text": [
        "\r",
        "spgr.tar.gz                                     4%  157MB  11.6MB/s   04:38 ETA"
       ]
      },
      {
       "output_type": "stream",
       "stream": "stdout",
       "text": [
        "\r",
        "spgr.tar.gz                                     4%  169MB  11.6MB/s   04:38 ETA"
       ]
      },
      {
       "output_type": "stream",
       "stream": "stdout",
       "text": [
        "\r",
        "spgr.tar.gz                                     5%  180MB  11.5MB/s   04:38 ETA"
       ]
      },
      {
       "output_type": "stream",
       "stream": "stdout",
       "text": [
        "\r",
        "spgr.tar.gz                                     5%  191MB  11.5MB/s   04:37 ETA"
       ]
      },
      {
       "output_type": "stream",
       "stream": "stdout",
       "text": [
        "\r",
        "spgr.tar.gz                                     5%  202MB  11.5MB/s   04:37 ETA"
       ]
      },
      {
       "output_type": "stream",
       "stream": "stdout",
       "text": [
        "\r",
        "spgr.tar.gz                                     6%  213MB  11.5MB/s   04:37 ETA"
       ]
      },
      {
       "output_type": "stream",
       "stream": "stdout",
       "text": [
        "\r",
        "spgr.tar.gz                                     6%  225MB  11.4MB/s   04:37 ETA"
       ]
      },
      {
       "output_type": "stream",
       "stream": "stdout",
       "text": [
        "\r",
        "spgr.tar.gz                                     6%  236MB  11.4MB/s   04:36 ETA"
       ]
      },
      {
       "output_type": "stream",
       "stream": "stdout",
       "text": [
        "\r",
        "spgr.tar.gz                                     7%  247MB  11.4MB/s   04:36 ETA"
       ]
      },
      {
       "output_type": "stream",
       "stream": "stdout",
       "text": [
        "\r",
        "spgr.tar.gz                                     7%  258MB  11.4MB/s   04:36 ETA"
       ]
      },
      {
       "output_type": "stream",
       "stream": "stdout",
       "text": [
        "\r",
        "spgr.tar.gz                                     7%  269MB  11.3MB/s   04:35 ETA"
       ]
      },
      {
       "output_type": "stream",
       "stream": "stdout",
       "text": [
        "\r",
        "spgr.tar.gz                                     8%  280MB  11.3MB/s   04:35 ETA"
       ]
      },
      {
       "output_type": "stream",
       "stream": "stdout",
       "text": [
        "\r",
        "spgr.tar.gz                                     8%  291MB  11.3MB/s   04:34 ETA"
       ]
      },
      {
       "output_type": "stream",
       "stream": "stdout",
       "text": [
        "\r",
        "spgr.tar.gz                                     8%  303MB  11.3MB/s   04:33 ETA"
       ]
      },
      {
       "output_type": "stream",
       "stream": "stdout",
       "text": [
        "\r",
        "spgr.tar.gz                                     9%  314MB  11.3MB/s   04:33 ETA"
       ]
      },
      {
       "output_type": "stream",
       "stream": "stdout",
       "text": [
        "\r",
        "spgr.tar.gz                                     9%  325MB  11.3MB/s   04:32 ETA"
       ]
      },
      {
       "output_type": "stream",
       "stream": "stdout",
       "text": [
        "\r",
        "spgr.tar.gz                                     9%  336MB  11.3MB/s   04:31 ETA"
       ]
      },
      {
       "output_type": "stream",
       "stream": "stdout",
       "text": [
        "\r",
        "spgr.tar.gz                                    10%  347MB  11.2MB/s   04:30 ETA"
       ]
      },
      {
       "output_type": "stream",
       "stream": "stdout",
       "text": [
        "\r",
        "spgr.tar.gz                                    10%  358MB  11.2MB/s   04:29 ETA"
       ]
      },
      {
       "output_type": "stream",
       "stream": "stdout",
       "text": [
        "\r",
        "spgr.tar.gz                                    10%  370MB  11.2MB/s   04:29 ETA"
       ]
      },
      {
       "output_type": "stream",
       "stream": "stdout",
       "text": [
        "\r",
        "spgr.tar.gz                                    11%  381MB  11.2MB/s   04:28 ETA"
       ]
      },
      {
       "output_type": "stream",
       "stream": "stdout",
       "text": [
        "\r",
        "spgr.tar.gz                                    11%  392MB  11.2MB/s   04:27 ETA"
       ]
      },
      {
       "output_type": "stream",
       "stream": "stdout",
       "text": [
        "\r",
        "spgr.tar.gz                                    11%  403MB  11.2MB/s   04:26 ETA"
       ]
      },
      {
       "output_type": "stream",
       "stream": "stdout",
       "text": [
        "\r",
        "spgr.tar.gz                                    12%  414MB  11.2MB/s   04:25 ETA"
       ]
      },
      {
       "output_type": "stream",
       "stream": "stdout",
       "text": [
        "\r",
        "spgr.tar.gz                                    12%  426MB  11.2MB/s   04:24 ETA"
       ]
      },
      {
       "output_type": "stream",
       "stream": "stdout",
       "text": [
        "\r",
        "spgr.tar.gz                                    12%  437MB  11.2MB/s   04:23 ETA"
       ]
      },
      {
       "output_type": "stream",
       "stream": "stdout",
       "text": [
        "\r",
        "spgr.tar.gz                                    13%  448MB  11.2MB/s   04:22 ETA"
       ]
      },
      {
       "output_type": "stream",
       "stream": "stdout",
       "text": [
        "\r",
        "spgr.tar.gz                                    13%  459MB  11.2MB/s   04:21 ETA"
       ]
      },
      {
       "output_type": "stream",
       "stream": "stdout",
       "text": [
        "\r",
        "spgr.tar.gz                                    13%  471MB  11.2MB/s   04:20 ETA"
       ]
      },
      {
       "output_type": "stream",
       "stream": "stdout",
       "text": [
        "\r",
        "spgr.tar.gz                                    14%  482MB  11.2MB/s   04:19 ETA"
       ]
      },
      {
       "output_type": "stream",
       "stream": "stdout",
       "text": [
        "\r",
        "spgr.tar.gz                                    14%  493MB  11.2MB/s   04:18 ETA"
       ]
      },
      {
       "output_type": "stream",
       "stream": "stdout",
       "text": [
        "\r",
        "spgr.tar.gz                                    14%  504MB  11.2MB/s   04:17 ETA"
       ]
      },
      {
       "output_type": "stream",
       "stream": "stdout",
       "text": [
        "\r",
        "spgr.tar.gz                                    15%  515MB  11.2MB/s   04:17 ETA"
       ]
      },
      {
       "output_type": "stream",
       "stream": "stdout",
       "text": [
        "\r",
        "spgr.tar.gz                                    15%  526MB  11.2MB/s   04:16 ETA"
       ]
      },
      {
       "output_type": "stream",
       "stream": "stdout",
       "text": [
        "\r",
        "spgr.tar.gz                                    15%  537MB  11.2MB/s   04:15 ETA"
       ]
      },
      {
       "output_type": "stream",
       "stream": "stdout",
       "text": [
        "\r",
        "spgr.tar.gz                                    16%  548MB  11.2MB/s   04:14 ETA"
       ]
      },
      {
       "output_type": "stream",
       "stream": "stdout",
       "text": [
        "\r",
        "spgr.tar.gz                                    16%  560MB  11.2MB/s   04:13 ETA"
       ]
      },
      {
       "output_type": "stream",
       "stream": "stdout",
       "text": [
        "\r",
        "spgr.tar.gz                                    16%  571MB  11.2MB/s   04:12 ETA"
       ]
      },
      {
       "output_type": "stream",
       "stream": "stdout",
       "text": [
        "\r",
        "spgr.tar.gz                                    17%  582MB  11.2MB/s   04:11 ETA"
       ]
      },
      {
       "output_type": "stream",
       "stream": "stdout",
       "text": [
        "\r",
        "spgr.tar.gz                                    17%  593MB  11.2MB/s   04:10 ETA"
       ]
      },
      {
       "output_type": "stream",
       "stream": "stdout",
       "text": [
        "\r",
        "spgr.tar.gz                                    17%  604MB  11.2MB/s   04:09 ETA"
       ]
      },
      {
       "output_type": "stream",
       "stream": "stdout",
       "text": [
        "\r",
        "spgr.tar.gz                                    18%  615MB  11.2MB/s   04:08 ETA"
       ]
      },
      {
       "output_type": "stream",
       "stream": "stdout",
       "text": [
        "\r",
        "spgr.tar.gz                                    18%  626MB  11.2MB/s   04:07 ETA"
       ]
      },
      {
       "output_type": "stream",
       "stream": "stdout",
       "text": [
        "\r",
        "spgr.tar.gz                                    18%  638MB  11.2MB/s   04:06 ETA"
       ]
      },
      {
       "output_type": "stream",
       "stream": "stdout",
       "text": [
        "\r",
        "spgr.tar.gz                                    19%  649MB  11.2MB/s   04:05 ETA"
       ]
      },
      {
       "output_type": "stream",
       "stream": "stdout",
       "text": [
        "\r",
        "spgr.tar.gz                                    19%  660MB  11.2MB/s   04:04 ETA"
       ]
      },
      {
       "output_type": "stream",
       "stream": "stdout",
       "text": [
        "\r",
        "spgr.tar.gz                                    19%  671MB  11.2MB/s   04:03 ETA"
       ]
      },
      {
       "output_type": "stream",
       "stream": "stdout",
       "text": [
        "\r",
        "spgr.tar.gz                                    20%  682MB  11.2MB/s   04:02 ETA"
       ]
      },
      {
       "output_type": "stream",
       "stream": "stdout",
       "text": [
        "\r",
        "spgr.tar.gz                                    20%  694MB  11.2MB/s   04:01 ETA"
       ]
      },
      {
       "output_type": "stream",
       "stream": "stdout",
       "text": [
        "\r",
        "spgr.tar.gz                                    20%  705MB  11.2MB/s   04:00 ETA"
       ]
      },
      {
       "output_type": "stream",
       "stream": "stdout",
       "text": [
        "\r",
        "spgr.tar.gz                                    21%  716MB  11.2MB/s   03:59 ETA"
       ]
      },
      {
       "output_type": "stream",
       "stream": "stdout",
       "text": [
        "\r",
        "spgr.tar.gz                                    21%  727MB  11.2MB/s   03:58 ETA"
       ]
      },
      {
       "output_type": "stream",
       "stream": "stdout",
       "text": [
        "\r",
        "spgr.tar.gz                                    21%  738MB  11.2MB/s   03:57 ETA"
       ]
      },
      {
       "output_type": "stream",
       "stream": "stdout",
       "text": [
        "\r",
        "spgr.tar.gz                                    22%  750MB  11.2MB/s   03:56 ETA"
       ]
      },
      {
       "output_type": "stream",
       "stream": "stdout",
       "text": [
        "\r",
        "spgr.tar.gz                                    22%  761MB  11.2MB/s   03:54 ETA"
       ]
      },
      {
       "output_type": "stream",
       "stream": "stdout",
       "text": [
        "\r",
        "spgr.tar.gz                                    22%  772MB  11.2MB/s   03:54 ETA"
       ]
      },
      {
       "output_type": "stream",
       "stream": "stdout",
       "text": [
        "\r",
        "spgr.tar.gz                                    23%  783MB  11.2MB/s   03:52 ETA"
       ]
      },
      {
       "output_type": "stream",
       "stream": "stdout",
       "text": [
        "\r",
        "spgr.tar.gz                                    23%  794MB  11.2MB/s   03:51 ETA"
       ]
      },
      {
       "output_type": "stream",
       "stream": "stdout",
       "text": [
        "\r",
        "spgr.tar.gz                                    23%  806MB  11.2MB/s   03:50 ETA"
       ]
      },
      {
       "output_type": "stream",
       "stream": "stdout",
       "text": [
        "\r",
        "spgr.tar.gz                                    24%  817MB  11.2MB/s   03:50 ETA"
       ]
      },
      {
       "output_type": "stream",
       "stream": "stdout",
       "text": [
        "\r",
        "spgr.tar.gz                                    24%  828MB  11.2MB/s   03:48 ETA"
       ]
      },
      {
       "output_type": "stream",
       "stream": "stdout",
       "text": [
        "\r",
        "spgr.tar.gz                                    24%  839MB  11.2MB/s   03:47 ETA"
       ]
      },
      {
       "output_type": "stream",
       "stream": "stdout",
       "text": [
        "\r",
        "spgr.tar.gz                                    25%  850MB  11.2MB/s   03:46 ETA"
       ]
      },
      {
       "output_type": "stream",
       "stream": "stdout",
       "text": [
        "\r",
        "spgr.tar.gz                                    25%  862MB  11.2MB/s   03:45 ETA"
       ]
      },
      {
       "output_type": "stream",
       "stream": "stdout",
       "text": [
        "\r",
        "spgr.tar.gz                                    25%  873MB  11.2MB/s   03:44 ETA"
       ]
      },
      {
       "output_type": "stream",
       "stream": "stdout",
       "text": [
        "\r",
        "spgr.tar.gz                                    26%  884MB  11.2MB/s   03:43 ETA"
       ]
      },
      {
       "output_type": "stream",
       "stream": "stdout",
       "text": [
        "\r",
        "spgr.tar.gz                                    26%  895MB  11.2MB/s   03:42 ETA"
       ]
      },
      {
       "output_type": "stream",
       "stream": "stdout",
       "text": [
        "\r",
        "spgr.tar.gz                                    26%  907MB  11.2MB/s   03:41 ETA"
       ]
      },
      {
       "output_type": "stream",
       "stream": "stdout",
       "text": [
        "\r",
        "spgr.tar.gz                                    27%  918MB  11.2MB/s   03:40 ETA"
       ]
      },
      {
       "output_type": "stream",
       "stream": "stdout",
       "text": [
        "\r",
        "spgr.tar.gz                                    27%  929MB  11.2MB/s   03:39 ETA"
       ]
      },
      {
       "output_type": "stream",
       "stream": "stdout",
       "text": [
        "\r",
        "spgr.tar.gz                                    27%  940MB  11.2MB/s   03:38 ETA"
       ]
      },
      {
       "output_type": "stream",
       "stream": "stdout",
       "text": [
        "\r",
        "spgr.tar.gz                                    28%  951MB  11.2MB/s   03:37 ETA"
       ]
      },
      {
       "output_type": "stream",
       "stream": "stdout",
       "text": [
        "\r",
        "spgr.tar.gz                                    28%  963MB  11.2MB/s   03:36 ETA"
       ]
      },
      {
       "output_type": "stream",
       "stream": "stdout",
       "text": [
        "\r",
        "spgr.tar.gz                                    28%  974MB  11.2MB/s   03:35 ETA"
       ]
      },
      {
       "output_type": "stream",
       "stream": "stdout",
       "text": [
        "\r",
        "spgr.tar.gz                                    29%  985MB  11.2MB/s   03:34 ETA"
       ]
      },
      {
       "output_type": "stream",
       "stream": "stdout",
       "text": [
        "\r",
        "spgr.tar.gz                                    29%  996MB  11.2MB/s   03:33 ETA"
       ]
      },
      {
       "output_type": "stream",
       "stream": "stdout",
       "text": [
        "\r",
        "spgr.tar.gz                                    29% 1007MB  11.2MB/s   03:32 ETA"
       ]
      },
      {
       "output_type": "stream",
       "stream": "stdout",
       "text": [
        "\r",
        "spgr.tar.gz                                    30% 1019MB  11.2MB/s   03:31 ETA"
       ]
      },
      {
       "output_type": "stream",
       "stream": "stdout",
       "text": [
        "\r",
        "spgr.tar.gz                                    30% 1030MB  11.2MB/s   03:30 ETA"
       ]
      },
      {
       "output_type": "stream",
       "stream": "stdout",
       "text": [
        "\r",
        "spgr.tar.gz                                    30% 1041MB  11.2MB/s   03:29 ETA"
       ]
      },
      {
       "output_type": "stream",
       "stream": "stdout",
       "text": [
        "\r",
        "spgr.tar.gz                                    31% 1052MB  11.2MB/s   03:28 ETA"
       ]
      },
      {
       "output_type": "stream",
       "stream": "stdout",
       "text": [
        "\r",
        "spgr.tar.gz                                    31% 1063MB  11.2MB/s   03:27 ETA"
       ]
      },
      {
       "output_type": "stream",
       "stream": "stdout",
       "text": [
        "\r",
        "spgr.tar.gz                                    31% 1075MB  11.2MB/s   03:26 ETA"
       ]
      },
      {
       "output_type": "stream",
       "stream": "stdout",
       "text": [
        "\r",
        "spgr.tar.gz                                    32% 1086MB  11.2MB/s   03:25 ETA"
       ]
      },
      {
       "output_type": "stream",
       "stream": "stdout",
       "text": [
        "\r",
        "spgr.tar.gz                                    32% 1097MB  11.2MB/s   03:24 ETA"
       ]
      },
      {
       "output_type": "stream",
       "stream": "stdout",
       "text": [
        "\r",
        "spgr.tar.gz                                    32% 1108MB  11.2MB/s   03:23 ETA"
       ]
      },
      {
       "output_type": "stream",
       "stream": "stdout",
       "text": [
        "\r",
        "spgr.tar.gz                                    33% 1119MB  11.2MB/s   03:22 ETA"
       ]
      },
      {
       "output_type": "stream",
       "stream": "stdout",
       "text": [
        "\r",
        "spgr.tar.gz                                    33% 1131MB  11.2MB/s   03:21 ETA"
       ]
      },
      {
       "output_type": "stream",
       "stream": "stdout",
       "text": [
        "\r",
        "spgr.tar.gz                                    33% 1142MB  11.2MB/s   03:20 ETA"
       ]
      },
      {
       "output_type": "stream",
       "stream": "stdout",
       "text": [
        "\r",
        "spgr.tar.gz                                    33% 1153MB  11.2MB/s   03:19 ETA"
       ]
      },
      {
       "output_type": "stream",
       "stream": "stdout",
       "text": [
        "\r",
        "spgr.tar.gz                                    34% 1164MB  11.2MB/s   03:18 ETA"
       ]
      },
      {
       "output_type": "stream",
       "stream": "stdout",
       "text": [
        "\r",
        "spgr.tar.gz                                    34% 1175MB  11.2MB/s   03:17 ETA"
       ]
      },
      {
       "output_type": "stream",
       "stream": "stdout",
       "text": [
        "\r",
        "spgr.tar.gz                                    34% 1187MB  11.2MB/s   03:16 ETA"
       ]
      },
      {
       "output_type": "stream",
       "stream": "stdout",
       "text": [
        "\r",
        "spgr.tar.gz                                    35% 1198MB  11.2MB/s   03:15 ETA"
       ]
      },
      {
       "output_type": "stream",
       "stream": "stdout",
       "text": [
        "\r",
        "spgr.tar.gz                                    35% 1209MB  11.2MB/s   03:14 ETA"
       ]
      },
      {
       "output_type": "stream",
       "stream": "stdout",
       "text": [
        "\r",
        "spgr.tar.gz                                    35% 1220MB  11.2MB/s   03:13 ETA"
       ]
      },
      {
       "output_type": "stream",
       "stream": "stdout",
       "text": [
        "\r",
        "spgr.tar.gz                                    36% 1231MB  11.2MB/s   03:12 ETA"
       ]
      },
      {
       "output_type": "stream",
       "stream": "stdout",
       "text": [
        "\r",
        "spgr.tar.gz                                    36% 1243MB  11.2MB/s   03:11 ETA"
       ]
      },
      {
       "output_type": "stream",
       "stream": "stdout",
       "text": [
        "\r",
        "spgr.tar.gz                                    36% 1254MB  11.2MB/s   03:10 ETA"
       ]
      },
      {
       "output_type": "stream",
       "stream": "stdout",
       "text": [
        "\r",
        "spgr.tar.gz                                    37% 1265MB  11.2MB/s   03:09 ETA"
       ]
      },
      {
       "output_type": "stream",
       "stream": "stdout",
       "text": [
        "\r",
        "spgr.tar.gz                                    37% 1276MB  11.2MB/s   03:08 ETA"
       ]
      },
      {
       "output_type": "stream",
       "stream": "stdout",
       "text": [
        "\r",
        "spgr.tar.gz                                    37% 1287MB  11.2MB/s   03:07 ETA"
       ]
      },
      {
       "output_type": "stream",
       "stream": "stdout",
       "text": [
        "\r",
        "spgr.tar.gz                                    38% 1299MB  11.2MB/s   03:06 ETA"
       ]
      },
      {
       "output_type": "stream",
       "stream": "stdout",
       "text": [
        "\r",
        "spgr.tar.gz                                    38% 1310MB  11.2MB/s   03:05 ETA"
       ]
      },
      {
       "output_type": "stream",
       "stream": "stdout",
       "text": [
        "\r",
        "spgr.tar.gz                                    38% 1321MB  11.2MB/s   03:04 ETA"
       ]
      },
      {
       "output_type": "stream",
       "stream": "stdout",
       "text": [
        "\r",
        "spgr.tar.gz                                    39% 1332MB  11.2MB/s   03:03 ETA"
       ]
      },
      {
       "output_type": "stream",
       "stream": "stdout",
       "text": [
        "\r",
        "spgr.tar.gz                                    39% 1343MB  11.2MB/s   03:02 ETA"
       ]
      },
      {
       "output_type": "stream",
       "stream": "stdout",
       "text": [
        "\r",
        "spgr.tar.gz                                    39% 1355MB  11.2MB/s   03:01 ETA"
       ]
      },
      {
       "output_type": "stream",
       "stream": "stdout",
       "text": [
        "\r",
        "spgr.tar.gz                                    40% 1366MB  11.2MB/s   03:00 ETA"
       ]
      },
      {
       "output_type": "stream",
       "stream": "stdout",
       "text": [
        "\r",
        "spgr.tar.gz                                    40% 1377MB  11.2MB/s   02:59 ETA"
       ]
      },
      {
       "output_type": "stream",
       "stream": "stdout",
       "text": [
        "\r",
        "spgr.tar.gz                                    40% 1388MB  11.2MB/s   02:58 ETA"
       ]
      },
      {
       "output_type": "stream",
       "stream": "stdout",
       "text": [
        "\r",
        "spgr.tar.gz                                    41% 1400MB  11.2MB/s   02:57 ETA"
       ]
      },
      {
       "output_type": "stream",
       "stream": "stdout",
       "text": [
        "\r",
        "spgr.tar.gz                                    41% 1411MB  11.2MB/s   02:56 ETA"
       ]
      },
      {
       "output_type": "stream",
       "stream": "stdout",
       "text": [
        "\r",
        "spgr.tar.gz                                    41% 1422MB  11.2MB/s   02:55 ETA"
       ]
      },
      {
       "output_type": "stream",
       "stream": "stdout",
       "text": [
        "\r",
        "spgr.tar.gz                                    42% 1433MB  11.2MB/s   02:54 ETA"
       ]
      },
      {
       "output_type": "stream",
       "stream": "stdout",
       "text": [
        "\r",
        "spgr.tar.gz                                    42% 1444MB  11.2MB/s   02:53 ETA"
       ]
      },
      {
       "output_type": "stream",
       "stream": "stdout",
       "text": [
        "\r",
        "spgr.tar.gz                                    42% 1456MB  11.2MB/s   02:52 ETA"
       ]
      },
      {
       "output_type": "stream",
       "stream": "stdout",
       "text": [
        "\r",
        "spgr.tar.gz                                    43% 1467MB  11.2MB/s   02:51 ETA"
       ]
      },
      {
       "output_type": "stream",
       "stream": "stdout",
       "text": [
        "\r",
        "spgr.tar.gz                                    43% 1478MB  11.2MB/s   02:50 ETA"
       ]
      },
      {
       "output_type": "stream",
       "stream": "stdout",
       "text": [
        "\r",
        "spgr.tar.gz                                    43% 1489MB  11.2MB/s   02:49 ETA"
       ]
      },
      {
       "output_type": "stream",
       "stream": "stdout",
       "text": [
        "\r",
        "spgr.tar.gz                                    44% 1500MB  11.2MB/s   02:48 ETA"
       ]
      },
      {
       "output_type": "stream",
       "stream": "stdout",
       "text": [
        "\r",
        "spgr.tar.gz                                    44% 1512MB  11.2MB/s   02:47 ETA"
       ]
      },
      {
       "output_type": "stream",
       "stream": "stdout",
       "text": [
        "\r",
        "spgr.tar.gz                                    44% 1523MB  11.2MB/s   02:46 ETA"
       ]
      },
      {
       "output_type": "stream",
       "stream": "stdout",
       "text": [
        "\r",
        "spgr.tar.gz                                    45% 1534MB  11.2MB/s   02:45 ETA"
       ]
      },
      {
       "output_type": "stream",
       "stream": "stdout",
       "text": [
        "\r",
        "spgr.tar.gz                                    45% 1545MB  11.2MB/s   02:44 ETA"
       ]
      },
      {
       "output_type": "stream",
       "stream": "stdout",
       "text": [
        "\r",
        "spgr.tar.gz                                    45% 1556MB  11.2MB/s   02:43 ETA"
       ]
      },
      {
       "output_type": "stream",
       "stream": "stdout",
       "text": [
        "\r",
        "spgr.tar.gz                                    46% 1568MB  11.2MB/s   02:42 ETA"
       ]
      },
      {
       "output_type": "stream",
       "stream": "stdout",
       "text": [
        "\r",
        "spgr.tar.gz                                    46% 1579MB  11.2MB/s   02:41 ETA"
       ]
      },
      {
       "output_type": "stream",
       "stream": "stdout",
       "text": [
        "\r",
        "spgr.tar.gz                                    46% 1590MB  11.2MB/s   02:40 ETA"
       ]
      },
      {
       "output_type": "stream",
       "stream": "stdout",
       "text": [
        "\r",
        "spgr.tar.gz                                    47% 1601MB  11.2MB/s   02:39 ETA"
       ]
      },
      {
       "output_type": "stream",
       "stream": "stdout",
       "text": [
        "\r",
        "spgr.tar.gz                                    47% 1612MB  11.2MB/s   02:38 ETA"
       ]
      },
      {
       "output_type": "stream",
       "stream": "stdout",
       "text": [
        "\r",
        "spgr.tar.gz                                    47% 1624MB  11.2MB/s   02:37 ETA"
       ]
      },
      {
       "output_type": "stream",
       "stream": "stdout",
       "text": [
        "\r",
        "spgr.tar.gz                                    48% 1635MB  11.2MB/s   02:36 ETA"
       ]
      },
      {
       "output_type": "stream",
       "stream": "stdout",
       "text": [
        "\r",
        "spgr.tar.gz                                    48% 1646MB  11.2MB/s   02:35 ETA"
       ]
      },
      {
       "output_type": "stream",
       "stream": "stdout",
       "text": [
        "\r",
        "spgr.tar.gz                                    48% 1657MB  11.2MB/s   02:34 ETA"
       ]
      },
      {
       "output_type": "stream",
       "stream": "stdout",
       "text": [
        "\r",
        "spgr.tar.gz                                    49% 1669MB  11.2MB/s   02:33 ETA"
       ]
      },
      {
       "output_type": "stream",
       "stream": "stdout",
       "text": [
        "\r",
        "spgr.tar.gz                                    49% 1680MB  11.2MB/s   02:32 ETA"
       ]
      },
      {
       "output_type": "stream",
       "stream": "stdout",
       "text": [
        "\r",
        "spgr.tar.gz                                    49% 1691MB  11.2MB/s   02:31 ETA"
       ]
      },
      {
       "output_type": "stream",
       "stream": "stdout",
       "text": [
        "\r",
        "spgr.tar.gz                                    50% 1702MB  11.2MB/s   02:30 ETA"
       ]
      },
      {
       "output_type": "stream",
       "stream": "stdout",
       "text": [
        "\r",
        "spgr.tar.gz                                    50% 1713MB  11.2MB/s   02:29 ETA"
       ]
      },
      {
       "output_type": "stream",
       "stream": "stdout",
       "text": [
        "\r",
        "spgr.tar.gz                                    50% 1725MB  11.2MB/s   02:28 ETA"
       ]
      },
      {
       "output_type": "stream",
       "stream": "stdout",
       "text": [
        "\r",
        "spgr.tar.gz                                    51% 1736MB  11.2MB/s   02:27 ETA"
       ]
      },
      {
       "output_type": "stream",
       "stream": "stdout",
       "text": [
        "\r",
        "spgr.tar.gz                                    51% 1747MB  11.2MB/s   02:26 ETA"
       ]
      },
      {
       "output_type": "stream",
       "stream": "stdout",
       "text": [
        "\r",
        "spgr.tar.gz                                    51% 1758MB  11.2MB/s   02:25 ETA"
       ]
      },
      {
       "output_type": "stream",
       "stream": "stdout",
       "text": [
        "\r",
        "spgr.tar.gz                                    52% 1769MB  11.2MB/s   02:24 ETA"
       ]
      },
      {
       "output_type": "stream",
       "stream": "stdout",
       "text": [
        "\r",
        "spgr.tar.gz                                    52% 1781MB  11.2MB/s   02:23 ETA"
       ]
      },
      {
       "output_type": "stream",
       "stream": "stdout",
       "text": [
        "\r",
        "spgr.tar.gz                                    52% 1792MB  11.2MB/s   02:22 ETA"
       ]
      },
      {
       "output_type": "stream",
       "stream": "stdout",
       "text": [
        "\r",
        "spgr.tar.gz                                    53% 1803MB  11.2MB/s   02:21 ETA"
       ]
      },
      {
       "output_type": "stream",
       "stream": "stdout",
       "text": [
        "\r",
        "spgr.tar.gz                                    53% 1814MB  11.2MB/s   02:20 ETA"
       ]
      },
      {
       "output_type": "stream",
       "stream": "stdout",
       "text": [
        "\r",
        "spgr.tar.gz                                    53% 1825MB  11.2MB/s   02:19 ETA"
       ]
      },
      {
       "output_type": "stream",
       "stream": "stdout",
       "text": [
        "\r",
        "spgr.tar.gz                                    54% 1837MB  11.2MB/s   02:18 ETA"
       ]
      },
      {
       "output_type": "stream",
       "stream": "stdout",
       "text": [
        "\r",
        "spgr.tar.gz                                    54% 1848MB  11.2MB/s   02:17 ETA"
       ]
      },
      {
       "output_type": "stream",
       "stream": "stdout",
       "text": [
        "\r",
        "spgr.tar.gz                                    54% 1859MB  11.2MB/s   02:16 ETA"
       ]
      },
      {
       "output_type": "stream",
       "stream": "stdout",
       "text": [
        "\r",
        "spgr.tar.gz                                    55% 1870MB  11.2MB/s   02:15 ETA"
       ]
      },
      {
       "output_type": "stream",
       "stream": "stdout",
       "text": [
        "\r",
        "spgr.tar.gz                                    55% 1881MB  11.2MB/s   02:14 ETA"
       ]
      },
      {
       "output_type": "stream",
       "stream": "stdout",
       "text": [
        "\r",
        "spgr.tar.gz                                    55% 1893MB  11.2MB/s   02:13 ETA"
       ]
      },
      {
       "output_type": "stream",
       "stream": "stdout",
       "text": [
        "\r",
        "spgr.tar.gz                                    56% 1904MB  11.2MB/s   02:12 ETA"
       ]
      },
      {
       "output_type": "stream",
       "stream": "stdout",
       "text": [
        "\r",
        "spgr.tar.gz                                    56% 1915MB  11.2MB/s   02:11 ETA"
       ]
      },
      {
       "output_type": "stream",
       "stream": "stdout",
       "text": [
        "\r",
        "spgr.tar.gz                                    56% 1926MB  11.2MB/s   02:10 ETA"
       ]
      },
      {
       "output_type": "stream",
       "stream": "stdout",
       "text": [
        "\r",
        "spgr.tar.gz                                    57% 1937MB  11.2MB/s   02:09 ETA"
       ]
      },
      {
       "output_type": "stream",
       "stream": "stdout",
       "text": [
        "\r",
        "spgr.tar.gz                                    57% 1949MB  11.2MB/s   02:08 ETA"
       ]
      },
      {
       "output_type": "stream",
       "stream": "stdout",
       "text": [
        "\r",
        "spgr.tar.gz                                    57% 1960MB  11.2MB/s   02:07 ETA"
       ]
      },
      {
       "output_type": "stream",
       "stream": "stdout",
       "text": [
        "\r",
        "spgr.tar.gz                                    58% 1971MB  11.2MB/s   02:06 ETA"
       ]
      },
      {
       "output_type": "stream",
       "stream": "stdout",
       "text": [
        "\r",
        "spgr.tar.gz                                    58% 1982MB  11.2MB/s   02:05 ETA"
       ]
      },
      {
       "output_type": "stream",
       "stream": "stdout",
       "text": [
        "\r",
        "spgr.tar.gz                                    58% 1993MB  11.2MB/s   02:04 ETA"
       ]
      },
      {
       "output_type": "stream",
       "stream": "stdout",
       "text": [
        "\r",
        "spgr.tar.gz                                    59% 2005MB  11.2MB/s   02:03 ETA"
       ]
      },
      {
       "output_type": "stream",
       "stream": "stdout",
       "text": [
        "\r",
        "spgr.tar.gz                                    59% 2016MB  11.2MB/s   02:02 ETA"
       ]
      },
      {
       "output_type": "stream",
       "stream": "stdout",
       "text": [
        "\r",
        "spgr.tar.gz                                    59% 2027MB  11.2MB/s   02:01 ETA"
       ]
      },
      {
       "output_type": "stream",
       "stream": "stdout",
       "text": [
        "\r",
        "spgr.tar.gz                                    60% 2038MB  11.2MB/s   02:00 ETA"
       ]
      },
      {
       "output_type": "stream",
       "stream": "stdout",
       "text": [
        "\r",
        "spgr.tar.gz                                    60% 2050MB  11.2MB/s   01:59 ETA"
       ]
      },
      {
       "output_type": "stream",
       "stream": "stdout",
       "text": [
        "\r",
        "spgr.tar.gz                                    60% 2061MB  11.2MB/s   01:58 ETA"
       ]
      },
      {
       "output_type": "stream",
       "stream": "stdout",
       "text": [
        "\r",
        "spgr.tar.gz                                    61% 2072MB  11.2MB/s   01:57 ETA"
       ]
      },
      {
       "output_type": "stream",
       "stream": "stdout",
       "text": [
        "\r",
        "spgr.tar.gz                                    61% 2083MB  11.2MB/s   01:56 ETA"
       ]
      },
      {
       "output_type": "stream",
       "stream": "stdout",
       "text": [
        "\r",
        "spgr.tar.gz                                    61% 2094MB  11.2MB/s   01:55 ETA"
       ]
      },
      {
       "output_type": "stream",
       "stream": "stdout",
       "text": [
        "\r",
        "spgr.tar.gz                                    62% 2106MB  11.2MB/s   01:54 ETA"
       ]
      },
      {
       "output_type": "stream",
       "stream": "stdout",
       "text": [
        "\r",
        "spgr.tar.gz                                    62% 2117MB  11.2MB/s   01:53 ETA"
       ]
      },
      {
       "output_type": "stream",
       "stream": "stdout",
       "text": [
        "\r",
        "spgr.tar.gz                                    62% 2128MB  11.2MB/s   01:52 ETA"
       ]
      },
      {
       "output_type": "stream",
       "stream": "stdout",
       "text": [
        "\r",
        "spgr.tar.gz                                    63% 2139MB  11.2MB/s   01:51 ETA"
       ]
      },
      {
       "output_type": "stream",
       "stream": "stdout",
       "text": [
        "\r",
        "spgr.tar.gz                                    63% 2150MB  11.2MB/s   01:50 ETA"
       ]
      },
      {
       "output_type": "stream",
       "stream": "stdout",
       "text": [
        "\r",
        "spgr.tar.gz                                    63% 2162MB  11.2MB/s   01:49 ETA"
       ]
      },
      {
       "output_type": "stream",
       "stream": "stdout",
       "text": [
        "\r",
        "spgr.tar.gz                                    64% 2173MB  11.2MB/s   01:48 ETA"
       ]
      },
      {
       "output_type": "stream",
       "stream": "stdout",
       "text": [
        "\r",
        "spgr.tar.gz                                    64% 2184MB  11.2MB/s   01:47 ETA"
       ]
      },
      {
       "output_type": "stream",
       "stream": "stdout",
       "text": [
        "\r",
        "spgr.tar.gz                                    64% 2195MB  11.2MB/s   01:46 ETA"
       ]
      },
      {
       "output_type": "stream",
       "stream": "stdout",
       "text": [
        "\r",
        "spgr.tar.gz                                    65% 2206MB  11.2MB/s   01:45 ETA"
       ]
      },
      {
       "output_type": "stream",
       "stream": "stdout",
       "text": [
        "\r",
        "spgr.tar.gz                                    65% 2218MB  11.2MB/s   01:44 ETA"
       ]
      },
      {
       "output_type": "stream",
       "stream": "stdout",
       "text": [
        "\r",
        "spgr.tar.gz                                    65% 2229MB  11.2MB/s   01:43 ETA"
       ]
      },
      {
       "output_type": "stream",
       "stream": "stdout",
       "text": [
        "\r",
        "spgr.tar.gz                                    66% 2240MB  11.2MB/s   01:42 ETA"
       ]
      },
      {
       "output_type": "stream",
       "stream": "stdout",
       "text": [
        "\r",
        "spgr.tar.gz                                    66% 2251MB  11.2MB/s   01:41 ETA"
       ]
      },
      {
       "output_type": "stream",
       "stream": "stdout",
       "text": [
        "\r",
        "spgr.tar.gz                                    66% 2262MB  11.2MB/s   01:40 ETA"
       ]
      },
      {
       "output_type": "stream",
       "stream": "stdout",
       "text": [
        "\r",
        "spgr.tar.gz                                    67% 2274MB  11.2MB/s   01:39 ETA"
       ]
      },
      {
       "output_type": "stream",
       "stream": "stdout",
       "text": [
        "\r",
        "spgr.tar.gz                                    67% 2285MB  11.2MB/s   01:38 ETA"
       ]
      },
      {
       "output_type": "stream",
       "stream": "stdout",
       "text": [
        "\r",
        "spgr.tar.gz                                    67% 2296MB  11.2MB/s   01:37 ETA"
       ]
      },
      {
       "output_type": "stream",
       "stream": "stdout",
       "text": [
        "\r",
        "spgr.tar.gz                                    68% 2307MB  11.2MB/s   01:36 ETA"
       ]
      },
      {
       "output_type": "stream",
       "stream": "stdout",
       "text": [
        "\r",
        "spgr.tar.gz                                    68% 2318MB  11.2MB/s   01:35 ETA"
       ]
      },
      {
       "output_type": "stream",
       "stream": "stdout",
       "text": [
        "\r",
        "spgr.tar.gz                                    68% 2330MB  11.2MB/s   01:34 ETA"
       ]
      },
      {
       "output_type": "stream",
       "stream": "stdout",
       "text": [
        "\r",
        "spgr.tar.gz                                    69% 2341MB  11.2MB/s   01:33 ETA"
       ]
      },
      {
       "output_type": "stream",
       "stream": "stdout",
       "text": [
        "\r",
        "spgr.tar.gz                                    69% 2352MB  11.2MB/s   01:32 ETA"
       ]
      },
      {
       "output_type": "stream",
       "stream": "stdout",
       "text": [
        "\r",
        "spgr.tar.gz                                    69% 2363MB  11.2MB/s   01:31 ETA"
       ]
      },
      {
       "output_type": "stream",
       "stream": "stdout",
       "text": [
        "\r",
        "spgr.tar.gz                                    70% 2374MB  11.2MB/s   01:30 ETA"
       ]
      },
      {
       "output_type": "stream",
       "stream": "stdout",
       "text": [
        "\r",
        "spgr.tar.gz                                    70% 2386MB  11.2MB/s   01:29 ETA"
       ]
      },
      {
       "output_type": "stream",
       "stream": "stdout",
       "text": [
        "\r",
        "spgr.tar.gz                                    70% 2397MB  11.2MB/s   01:28 ETA"
       ]
      },
      {
       "output_type": "stream",
       "stream": "stdout",
       "text": [
        "\r",
        "spgr.tar.gz                                    71% 2408MB  11.2MB/s   01:27 ETA"
       ]
      },
      {
       "output_type": "stream",
       "stream": "stdout",
       "text": [
        "\r",
        "spgr.tar.gz                                    71% 2419MB  11.2MB/s   01:26 ETA"
       ]
      },
      {
       "output_type": "stream",
       "stream": "stdout",
       "text": [
        "\r",
        "spgr.tar.gz                                    71% 2431MB  11.2MB/s   01:25 ETA"
       ]
      },
      {
       "output_type": "stream",
       "stream": "stdout",
       "text": [
        "\r",
        "spgr.tar.gz                                    71% 2442MB  11.2MB/s   01:24 ETA"
       ]
      },
      {
       "output_type": "stream",
       "stream": "stdout",
       "text": [
        "\r",
        "spgr.tar.gz                                    72% 2453MB  11.2MB/s   01:23 ETA"
       ]
      },
      {
       "output_type": "stream",
       "stream": "stdout",
       "text": [
        "\r",
        "spgr.tar.gz                                    72% 2464MB  11.2MB/s   01:22 ETA"
       ]
      },
      {
       "output_type": "stream",
       "stream": "stdout",
       "text": [
        "\r",
        "spgr.tar.gz                                    72% 2475MB  11.2MB/s   01:21 ETA"
       ]
      },
      {
       "output_type": "stream",
       "stream": "stdout",
       "text": [
        "\r",
        "spgr.tar.gz                                    73% 2487MB  11.2MB/s   01:20 ETA"
       ]
      },
      {
       "output_type": "stream",
       "stream": "stdout",
       "text": [
        "\r",
        "spgr.tar.gz                                    73% 2498MB  11.2MB/s   01:19 ETA"
       ]
      },
      {
       "output_type": "stream",
       "stream": "stdout",
       "text": [
        "\r",
        "spgr.tar.gz                                    73% 2509MB  11.2MB/s   01:18 ETA"
       ]
      },
      {
       "output_type": "stream",
       "stream": "stdout",
       "text": [
        "\r",
        "spgr.tar.gz                                    74% 2520MB  11.2MB/s   01:17 ETA"
       ]
      },
      {
       "output_type": "stream",
       "stream": "stdout",
       "text": [
        "\r",
        "spgr.tar.gz                                    74% 2531MB  11.2MB/s   01:16 ETA"
       ]
      },
      {
       "output_type": "stream",
       "stream": "stdout",
       "text": [
        "\r",
        "spgr.tar.gz                                    74% 2543MB  11.2MB/s   01:15 ETA"
       ]
      },
      {
       "output_type": "stream",
       "stream": "stdout",
       "text": [
        "\r",
        "spgr.tar.gz                                    75% 2554MB  11.2MB/s   01:14 ETA"
       ]
      },
      {
       "output_type": "stream",
       "stream": "stdout",
       "text": [
        "\r",
        "spgr.tar.gz                                    75% 2565MB  11.2MB/s   01:13 ETA"
       ]
      },
      {
       "output_type": "stream",
       "stream": "stdout",
       "text": [
        "\r",
        "spgr.tar.gz                                    75% 2576MB  11.2MB/s   01:12 ETA"
       ]
      },
      {
       "output_type": "stream",
       "stream": "stdout",
       "text": [
        "\r",
        "spgr.tar.gz                                    76% 2587MB  11.2MB/s   01:11 ETA"
       ]
      },
      {
       "output_type": "stream",
       "stream": "stdout",
       "text": [
        "\r",
        "spgr.tar.gz                                    76% 2599MB  11.2MB/s   01:10 ETA"
       ]
      },
      {
       "output_type": "stream",
       "stream": "stdout",
       "text": [
        "\r",
        "spgr.tar.gz                                    76% 2610MB  11.2MB/s   01:09 ETA"
       ]
      },
      {
       "output_type": "stream",
       "stream": "stdout",
       "text": [
        "\r",
        "spgr.tar.gz                                    77% 2621MB  11.2MB/s   01:08 ETA"
       ]
      },
      {
       "output_type": "stream",
       "stream": "stdout",
       "text": [
        "\r",
        "spgr.tar.gz                                    77% 2632MB  11.2MB/s   01:07 ETA"
       ]
      },
      {
       "output_type": "stream",
       "stream": "stdout",
       "text": [
        "\r",
        "spgr.tar.gz                                    77% 2643MB  11.2MB/s   01:06 ETA"
       ]
      },
      {
       "output_type": "stream",
       "stream": "stdout",
       "text": [
        "\r",
        "spgr.tar.gz                                    78% 2655MB  11.2MB/s   01:05 ETA"
       ]
      },
      {
       "output_type": "stream",
       "stream": "stdout",
       "text": [
        "\r",
        "spgr.tar.gz                                    78% 2666MB  11.2MB/s   01:04 ETA"
       ]
      },
      {
       "output_type": "stream",
       "stream": "stdout",
       "text": [
        "\r",
        "spgr.tar.gz                                    78% 2677MB  11.2MB/s   01:03 ETA"
       ]
      },
      {
       "output_type": "stream",
       "stream": "stdout",
       "text": [
        "\r",
        "spgr.tar.gz                                    79% 2688MB  11.2MB/s   01:02 ETA"
       ]
      },
      {
       "output_type": "stream",
       "stream": "stdout",
       "text": [
        "\r",
        "spgr.tar.gz                                    79% 2699MB  11.2MB/s   01:01 ETA"
       ]
      },
      {
       "output_type": "stream",
       "stream": "stdout",
       "text": [
        "\r",
        "spgr.tar.gz                                    79% 2711MB  11.2MB/s   01:00 ETA"
       ]
      },
      {
       "output_type": "stream",
       "stream": "stdout",
       "text": [
        "\r",
        "spgr.tar.gz                                    80% 2722MB  11.2MB/s   00:59 ETA"
       ]
      },
      {
       "output_type": "stream",
       "stream": "stdout",
       "text": [
        "\r",
        "spgr.tar.gz                                    80% 2733MB  11.2MB/s   00:58 ETA"
       ]
      },
      {
       "output_type": "stream",
       "stream": "stdout",
       "text": [
        "\r",
        "spgr.tar.gz                                    80% 2744MB  11.2MB/s   00:57 ETA"
       ]
      },
      {
       "output_type": "stream",
       "stream": "stdout",
       "text": [
        "\r",
        "spgr.tar.gz                                    81% 2755MB  11.2MB/s   00:56 ETA"
       ]
      },
      {
       "output_type": "stream",
       "stream": "stdout",
       "text": [
        "\r",
        "spgr.tar.gz                                    81% 2767MB  11.2MB/s   00:55 ETA"
       ]
      },
      {
       "output_type": "stream",
       "stream": "stdout",
       "text": [
        "\r",
        "spgr.tar.gz                                    81% 2778MB  11.2MB/s   00:54 ETA"
       ]
      },
      {
       "output_type": "stream",
       "stream": "stdout",
       "text": [
        "\r",
        "spgr.tar.gz                                    82% 2789MB  11.2MB/s   00:53 ETA"
       ]
      },
      {
       "output_type": "stream",
       "stream": "stdout",
       "text": [
        "\r",
        "spgr.tar.gz                                    82% 2800MB  11.2MB/s   00:52 ETA"
       ]
      },
      {
       "output_type": "stream",
       "stream": "stdout",
       "text": [
        "\r",
        "spgr.tar.gz                                    82% 2811MB  11.2MB/s   00:51 ETA"
       ]
      },
      {
       "output_type": "stream",
       "stream": "stdout",
       "text": [
        "\r",
        "spgr.tar.gz                                    83% 2823MB  11.2MB/s   00:50 ETA"
       ]
      },
      {
       "output_type": "stream",
       "stream": "stdout",
       "text": [
        "\r",
        "spgr.tar.gz                                    83% 2834MB  11.2MB/s   00:49 ETA"
       ]
      },
      {
       "output_type": "stream",
       "stream": "stdout",
       "text": [
        "\r",
        "spgr.tar.gz                                    83% 2845MB  11.2MB/s   00:48 ETA"
       ]
      },
      {
       "output_type": "stream",
       "stream": "stdout",
       "text": [
        "\r",
        "spgr.tar.gz                                    84% 2856MB  11.2MB/s   00:47 ETA"
       ]
      },
      {
       "output_type": "stream",
       "stream": "stdout",
       "text": [
        "\r",
        "spgr.tar.gz                                    84% 2867MB  11.2MB/s   00:46 ETA"
       ]
      },
      {
       "output_type": "stream",
       "stream": "stdout",
       "text": [
        "\r",
        "spgr.tar.gz                                    84% 2879MB  11.2MB/s   00:45 ETA"
       ]
      },
      {
       "output_type": "stream",
       "stream": "stdout",
       "text": [
        "\r",
        "spgr.tar.gz                                    85% 2890MB  11.2MB/s   00:44 ETA"
       ]
      },
      {
       "output_type": "stream",
       "stream": "stdout",
       "text": [
        "\r",
        "spgr.tar.gz                                    85% 2901MB  11.2MB/s   00:43 ETA"
       ]
      },
      {
       "output_type": "stream",
       "stream": "stdout",
       "text": [
        "\r",
        "spgr.tar.gz                                    85% 2912MB  11.2MB/s   00:42 ETA"
       ]
      },
      {
       "output_type": "stream",
       "stream": "stdout",
       "text": [
        "\r",
        "spgr.tar.gz                                    86% 2923MB  11.2MB/s   00:41 ETA"
       ]
      },
      {
       "output_type": "stream",
       "stream": "stdout",
       "text": [
        "\r",
        "spgr.tar.gz                                    86% 2935MB  11.2MB/s   00:40 ETA"
       ]
      },
      {
       "output_type": "stream",
       "stream": "stdout",
       "text": [
        "\r",
        "spgr.tar.gz                                    86% 2946MB  11.2MB/s   00:39 ETA"
       ]
      },
      {
       "output_type": "stream",
       "stream": "stdout",
       "text": [
        "\r",
        "spgr.tar.gz                                    87% 2957MB  11.2MB/s   00:38 ETA"
       ]
      },
      {
       "output_type": "stream",
       "stream": "stdout",
       "text": [
        "\r",
        "spgr.tar.gz                                    87% 2968MB  11.2MB/s   00:37 ETA"
       ]
      },
      {
       "output_type": "stream",
       "stream": "stdout",
       "text": [
        "\r",
        "spgr.tar.gz                                    87% 2980MB  11.2MB/s   00:36 ETA"
       ]
      },
      {
       "output_type": "stream",
       "stream": "stdout",
       "text": [
        "\r",
        "spgr.tar.gz                                    88% 2991MB  11.2MB/s   00:35 ETA"
       ]
      },
      {
       "output_type": "stream",
       "stream": "stdout",
       "text": [
        "\r",
        "spgr.tar.gz                                    88% 3002MB  11.2MB/s   00:34 ETA"
       ]
      },
      {
       "output_type": "stream",
       "stream": "stdout",
       "text": [
        "\r",
        "spgr.tar.gz                                    88% 3013MB  11.2MB/s   00:33 ETA"
       ]
      },
      {
       "output_type": "stream",
       "stream": "stdout",
       "text": [
        "\r",
        "spgr.tar.gz                                    89% 3024MB  11.2MB/s   00:32 ETA"
       ]
      },
      {
       "output_type": "stream",
       "stream": "stdout",
       "text": [
        "\r",
        "spgr.tar.gz                                    89% 3036MB  11.2MB/s   00:31 ETA"
       ]
      },
      {
       "output_type": "stream",
       "stream": "stdout",
       "text": [
        "\r",
        "spgr.tar.gz                                    89% 3047MB  11.2MB/s   00:30 ETA"
       ]
      },
      {
       "output_type": "stream",
       "stream": "stdout",
       "text": [
        "\r",
        "spgr.tar.gz                                    90% 3058MB  11.2MB/s   00:29 ETA"
       ]
      },
      {
       "output_type": "stream",
       "stream": "stdout",
       "text": [
        "\r",
        "spgr.tar.gz                                    90% 3069MB  11.2MB/s   00:28 ETA"
       ]
      },
      {
       "output_type": "stream",
       "stream": "stdout",
       "text": [
        "\r",
        "spgr.tar.gz                                    90% 3080MB  11.2MB/s   00:27 ETA"
       ]
      },
      {
       "output_type": "stream",
       "stream": "stdout",
       "text": [
        "\r",
        "spgr.tar.gz                                    91% 3092MB  11.2MB/s   00:26 ETA"
       ]
      },
      {
       "output_type": "stream",
       "stream": "stdout",
       "text": [
        "\r",
        "spgr.tar.gz                                    91% 3103MB  11.2MB/s   00:25 ETA"
       ]
      },
      {
       "output_type": "stream",
       "stream": "stdout",
       "text": [
        "\r",
        "spgr.tar.gz                                    91% 3114MB  11.2MB/s   00:24 ETA"
       ]
      },
      {
       "output_type": "stream",
       "stream": "stdout",
       "text": [
        "\r",
        "spgr.tar.gz                                    92% 3125MB  11.2MB/s   00:23 ETA"
       ]
      },
      {
       "output_type": "stream",
       "stream": "stdout",
       "text": [
        "\r",
        "spgr.tar.gz                                    92% 3136MB  11.2MB/s   00:22 ETA"
       ]
      },
      {
       "output_type": "stream",
       "stream": "stdout",
       "text": [
        "\r",
        "spgr.tar.gz                                    92% 3148MB  11.2MB/s   00:21 ETA"
       ]
      },
      {
       "output_type": "stream",
       "stream": "stdout",
       "text": [
        "\r",
        "spgr.tar.gz                                    93% 3159MB  11.2MB/s   00:20 ETA"
       ]
      },
      {
       "output_type": "stream",
       "stream": "stdout",
       "text": [
        "\r",
        "spgr.tar.gz                                    93% 3170MB  11.2MB/s   00:19 ETA"
       ]
      },
      {
       "output_type": "stream",
       "stream": "stdout",
       "text": [
        "\r",
        "spgr.tar.gz                                    93% 3181MB  11.2MB/s   00:18 ETA"
       ]
      },
      {
       "output_type": "stream",
       "stream": "stdout",
       "text": [
        "\r",
        "spgr.tar.gz                                    94% 3192MB  11.2MB/s   00:17 ETA"
       ]
      },
      {
       "output_type": "stream",
       "stream": "stdout",
       "text": [
        "\r",
        "spgr.tar.gz                                    94% 3204MB  11.2MB/s   00:16 ETA"
       ]
      },
      {
       "output_type": "stream",
       "stream": "stdout",
       "text": [
        "\r",
        "spgr.tar.gz                                    94% 3215MB  11.2MB/s   00:15 ETA"
       ]
      },
      {
       "output_type": "stream",
       "stream": "stdout",
       "text": [
        "\r",
        "spgr.tar.gz                                    95% 3226MB  11.2MB/s   00:14 ETA"
       ]
      },
      {
       "output_type": "stream",
       "stream": "stdout",
       "text": [
        "\r",
        "spgr.tar.gz                                    95% 3237MB  11.2MB/s   00:13 ETA"
       ]
      },
      {
       "output_type": "stream",
       "stream": "stdout",
       "text": [
        "\r",
        "spgr.tar.gz                                    95% 3248MB  11.2MB/s   00:12 ETA"
       ]
      },
      {
       "output_type": "stream",
       "stream": "stdout",
       "text": [
        "\r",
        "spgr.tar.gz                                    96% 3260MB  11.2MB/s   00:11 ETA"
       ]
      },
      {
       "output_type": "stream",
       "stream": "stdout",
       "text": [
        "\r",
        "spgr.tar.gz                                    96% 3271MB  11.2MB/s   00:10 ETA"
       ]
      },
      {
       "output_type": "stream",
       "stream": "stdout",
       "text": [
        "\r",
        "spgr.tar.gz                                    96% 3282MB  11.2MB/s   00:09 ETA"
       ]
      },
      {
       "output_type": "stream",
       "stream": "stdout",
       "text": [
        "\r",
        "spgr.tar.gz                                    97% 3293MB  11.2MB/s   00:08 ETA"
       ]
      },
      {
       "output_type": "stream",
       "stream": "stdout",
       "text": [
        "\r",
        "spgr.tar.gz                                    97% 3304MB  11.2MB/s   00:07 ETA"
       ]
      },
      {
       "output_type": "stream",
       "stream": "stdout",
       "text": [
        "\r",
        "spgr.tar.gz                                    97% 3316MB  11.2MB/s   00:06 ETA"
       ]
      },
      {
       "output_type": "stream",
       "stream": "stdout",
       "text": [
        "\r",
        "spgr.tar.gz                                    98% 3327MB  11.2MB/s   00:05 ETA"
       ]
      },
      {
       "output_type": "stream",
       "stream": "stdout",
       "text": [
        "\r",
        "spgr.tar.gz                                    98% 3338MB  11.2MB/s   00:04 ETA"
       ]
      },
      {
       "output_type": "stream",
       "stream": "stdout",
       "text": [
        "\r",
        "spgr.tar.gz                                    98% 3349MB  11.2MB/s   00:03 ETA"
       ]
      },
      {
       "output_type": "stream",
       "stream": "stdout",
       "text": [
        "\r",
        "spgr.tar.gz                                    99% 3360MB  11.2MB/s   00:02 ETA"
       ]
      },
      {
       "output_type": "stream",
       "stream": "stdout",
       "text": [
        "\r",
        "spgr.tar.gz                                    99% 3372MB  11.2MB/s   00:01 ETA"
       ]
      },
      {
       "output_type": "stream",
       "stream": "stdout",
       "text": [
        "\r",
        "spgr.tar.gz                                    99% 3383MB  11.2MB/s   00:00 ETA"
       ]
      },
      {
       "output_type": "stream",
       "stream": "stdout",
       "text": [
        "\r",
        "spgr.tar.gz                                   100% 3392MB  11.2MB/s   05:02    \r\n"
       ]
      }
     ],
     "prompt_number": 14
    },
    {
     "cell_type": "code",
     "collapsed": false,
     "input": [
      "from subprocess import Popen\n",
      "\n",
      "script = '/home/gio/projects/spgr/scripts/methods_to_detect_spindle.py'\n",
      "\n",
      "for method in ('hilbert', ):\n",
      "    for freq0 in ('10', ):\n",
      "        for freq1 in ('17', '18'):\n",
      "            for thres_type in ('relative', ):\n",
      "                for thres_det in ('3', ):\n",
      "                    for thres_sel in ('2', ):\n",
      "                        for dur0 in ('0.5', ):\n",
      "                            for dur1 in ('2', ):\n",
      "                                for fft in ('0', ):\n",
      "                                    options = (method, freq0, freq1, thres_type, thres_det, thres_sel, dur0, dur1, fft)\n",
      "                                    # Popen(script + ' ' + ' '.join(options), shell=True)\n"
     ],
     "language": "python",
     "metadata": {},
     "outputs": []
    },
    {
     "cell_type": "code",
     "collapsed": false,
     "input": [
      "options"
     ],
     "language": "python",
     "metadata": {},
     "outputs": []
    },
    {
     "cell_type": "code",
     "collapsed": false,
     "input": [],
     "language": "python",
     "metadata": {},
     "outputs": []
    }
   ],
   "metadata": {}
  }
 ]
}