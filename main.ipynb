{
 "metadata": {
  "name": "",
  "signature": "sha256:f0f630dd530eaa7c88617951ca9a7f91958db837e60e542e64921085b7d42240"
 },
 "nbformat": 3,
 "nbformat_minor": 0,
 "worksheets": [
  {
   "cells": [
    {
     "cell_type": "heading",
     "level": 1,
     "metadata": {
      "slideshow": {
       "slide_type": "-"
      }
     },
     "source": [
      "SPGR"
     ]
    },
    {
     "cell_type": "markdown",
     "metadata": {},
     "source": [
      "Running on **RGS03**"
     ]
    },
    {
     "cell_type": "code",
     "collapsed": false,
     "input": [
      "import version_control"
     ],
     "language": "python",
     "metadata": {},
     "outputs": [
      {
       "output_type": "stream",
       "stream": "stdout",
       "text": [
        "Last run on 2014-05-15 12:22:52.691784\n",
        "\n",
        "Phypno Version: 1e1ad67dd5d103fdd4a1747e9191b2a904877749\n",
        "\n",
        "Jinja2==2.7.2, MarkupSafe==0.21, PyOpenGL==3.0.2, astroid==1.1.0, flake8==2.1.0, ipython==2.0.0, joblib==0.7.1, logilab-common==0.61.0, matplotlib==1.3.1, mccabe==0.2.1, nose==1.3.1, numpy==1.8.1, pep8==1.5.6, pyflakes==0.8.1, pylint==1.2.0, pyparsing==2.0.2, python-dateutil==2.2, pyzmq==14.2.0, scipy==0.13.3, six==1.6.1, tornado==3.2, "
       ]
      },
      {
       "output_type": "stream",
       "stream": "stdout",
       "text": [
        "\n"
       ]
      }
     ],
     "prompt_number": 1
    },
    {
     "cell_type": "heading",
     "level": 2,
     "metadata": {},
     "source": [
      "Selection of Patients"
     ]
    },
    {
     "cell_type": "markdown",
     "metadata": {},
     "source": [
      "Select potential patients (because have grid electrodes and one scalp electrode), but not all the patients have their sleep scored."
     ]
    },
    {
     "cell_type": "code",
     "collapsed": false,
     "input": [
      "if False:\n",
      "    all_subj = sorted(listdir(rec_dir), reverse=True)\n",
      "else:\n",
      "    subj_with_grid_scalp = ('EM03', 'EM09', 'MG07', 'MG11', 'MG12', 'MG15', 'MG17', \n",
      "                            'MG29', 'MG31', 'MG32', 'MG33', 'MG37', 'MG42', 'MG45', \n",
      "                            'MG48', 'MG49', 'MG51', 'MG56', 'MG61', 'MG63', 'MG65', 'MG72')\n",
      "    not_in_rec = ('MG12', )\n",
      "    all_subj = set(subj_with_grid_scalp) - set(not_in_rec)"
     ],
     "language": "python",
     "metadata": {},
     "outputs": [],
     "prompt_number": 2
    },
    {
     "cell_type": "markdown",
     "metadata": {},
     "source": [
      "Check which sleep recordings have been scored, so select patients that have some scored sleep."
     ]
    },
    {
     "cell_type": "code",
     "collapsed": true,
     "input": [
      "from spgr.read_data import read_score_per_subj, get_chan_used_in_analysis\n",
      "\n",
      "recordings_with_scores = list(filter(None.__ne__, map(read_score_per_subj, all_subj)))\n",
      "\n",
      "all_subj = sorted([one_scored_file.split('/')[4] for one_scored_file in recordings_with_scores])\n",
      "print('\\t'.join(all_subj))"
     ],
     "language": "python",
     "metadata": {},
     "outputs": [
      {
       "output_type": "stream",
       "stream": "stderr",
       "text": [
        "WARNING:phypno.attr.anat:nibabel (optional dependency) is not installed. You will not be able to read Freesurfer annotations and segmentations.\n"
       ]
      },
      {
       "output_type": "stream",
       "stream": "stdout",
       "text": [
        "EM09\tMG37\tMG51\tMG63\tMG65\tMG72\n"
       ]
      }
     ],
     "prompt_number": 3
    },
    {
     "cell_type": "code",
     "collapsed": false,
     "input": [
      "from logging import getLogger, INFO, DEBUG\n",
      "lg = getLogger('spgr')\n",
      "lg.setLevel(INFO)"
     ],
     "language": "python",
     "metadata": {},
     "outputs": [],
     "prompt_number": 4
    },
    {
     "cell_type": "heading",
     "level": 2,
     "metadata": {},
     "source": [
      "Read Data"
     ]
    },
    {
     "cell_type": "markdown",
     "metadata": {},
     "source": [
      "Read only the periods containing sleep from the original data and store them in an accessible format for further analysis."
     ]
    },
    {
     "cell_type": "code",
     "collapsed": false,
     "input": [
      "# for subj in all_subj:\n",
      "#     read_score_per_subj(subj, True)"
     ],
     "language": "python",
     "metadata": {},
     "outputs": [],
     "prompt_number": 5
    },
    {
     "cell_type": "markdown",
     "metadata": {},
     "source": [
      "Load channel information for only the channels that were used in the analysis (grid channels), but this does not exclude artifactual channels, because channels with artifacts are considered on a trial-by-trial basis"
     ]
    },
    {
     "cell_type": "code",
     "collapsed": false,
     "input": [
      "all_chan = get_chan_used_in_analysis(all_subj)"
     ],
     "language": "python",
     "metadata": {},
     "outputs": [
      {
       "output_type": "stream",
       "stream": "stderr",
       "text": [
        "INFO:spgr:EM09 analysis chan 72, with location 72\n"
       ]
      },
      {
       "output_type": "stream",
       "stream": "stderr",
       "text": [
        "INFO:spgr:MG37 analysis chan 80, with location 80\n"
       ]
      },
      {
       "output_type": "stream",
       "stream": "stderr",
       "text": [
        "INFO:spgr:MG51 analysis chan 64, with location 64\n"
       ]
      },
      {
       "output_type": "stream",
       "stream": "stderr",
       "text": [
        "INFO:spgr:MG63 analysis chan 96, with location 96\n"
       ]
      },
      {
       "output_type": "stream",
       "stream": "stderr",
       "text": [
        "INFO:spgr:MG65 analysis chan 64, with location 64\n"
       ]
      },
      {
       "output_type": "stream",
       "stream": "stderr",
       "text": [
        "INFO:spgr:MG72 analysis chan 63, with location 63\n"
       ]
      }
     ],
     "prompt_number": 6
    },
    {
     "cell_type": "markdown",
     "metadata": {},
     "source": [
      "Remember that **MG72** has flat channels (in the subfrontal grid) for part of the night"
     ]
    },
    {
     "cell_type": "heading",
     "level": 2,
     "metadata": {},
     "source": [
      "Detect Spindles"
     ]
    },
    {
     "cell_type": "code",
     "collapsed": true,
     "input": [
      "from multiprocessing import Pool"
     ],
     "language": "python",
     "metadata": {},
     "outputs": [],
     "prompt_number": 7
    },
    {
     "cell_type": "markdown",
     "metadata": {},
     "source": [
      "Detect spindles with a hybrid method: filter the data between 11 and 18 Hz, then take the envelope of the Hilbert transform. From this envelope, detect the peaks (\"maxima\"). In order to avoid to have multiple peaks close to each other, detect peaks every 3s (\"peak_width\"). To define the beginning of a spindle, start from the peak, and move backwards and find the trough (minimal value in the interval between the peak and peak-select_width, in this case 1s).\n",
      "\n",
      "To confirm that these are spindles, take the original signal, compute the power spectrum over a 1s window ('length', 1s because so we have 1Hz frequency resolution). The peak has to be between the frequency of interest (between 11 and 18 Hz)."
     ]
    },
    {
     "cell_type": "markdown",
     "metadata": {},
     "source": [
      "These recordings use the original reference (not referenced to the average, see \"ref_to_avg\")"
     ]
    },
    {
     "cell_type": "code",
     "collapsed": false,
     "input": [
      "from phypno.detect import DetectSpindle\n",
      "from pickle import load\n",
      "with open('/PHShome/gp902/projects/spgr/subjects_good_chan/EM09/rec/EM09_eeg_xltek_sessA_d05_11_53_38_sleep.pkl', 'rb') as f:\n",
      "    data = load(f)\n"
     ],
     "language": "python",
     "metadata": {},
     "outputs": []
    },
    {
     "cell_type": "code",
     "collapsed": false,
     "input": [
      "detsp = DetectSpindle(method='Ferrarelli2007', frequency=(11, 18), duration=(0.5, 2))\n",
      "detsp.detect['value'] = 3\n",
      "detsp.select['value'] = 1\n",
      "sp = detsp(data)"
     ],
     "language": "python",
     "metadata": {},
     "outputs": []
    },
    {
     "cell_type": "code",
     "collapsed": false,
     "input": [
      "from phypno.detect import DetectSpindle\n",
      "from spgr.detect_spindles import calc_spindle_values\n",
      "\n",
      "detection_options = {'method': 'Nir2011', \n",
      "                     'frequency': (11, 18), \n",
      "                     'duration': (0.5, 2),\n",
      "                     }\n",
      "\n",
      "detsp = DetectSpindle(**detection_options)\n",
      "# detsp.psd_peak['use'] = False"
     ],
     "language": "python",
     "metadata": {},
     "outputs": [],
     "prompt_number": 8
    },
    {
     "cell_type": "code",
     "collapsed": false,
     "input": [
      "all_sp = calc_spindle_values(all_subj[0], detsp=detsp, ref_to_avg=False, lsf=True)"
     ],
     "language": "python",
     "metadata": {},
     "outputs": []
    },
    {
     "cell_type": "code",
     "collapsed": false,
     "input": [
      "def calc_spindle(subj):\n",
      "    return calc_spindle_values(subj,\n",
      "                               detsp=detsp, \n",
      "                               ref_to_avg=False,\n",
      "                               lsf=True)\n",
      "\n",
      "# run analysis in parallel\n",
      "with Pool(6) as pool:\n",
      "    all_spindles = pool.map(calc_spindle, all_subj)"
     ],
     "language": "python",
     "metadata": {},
     "outputs": [
      {
       "output_type": "stream",
       "stream": "stderr",
       "text": [
        "INFO:spgr:Subj EM09, reading data: /PHShome/gp902/projects/spgr/subjects/EM09/rec/EM09_eeg_xltek_sessA_d05_11_53_38_sleep.pkl\n",
        "INFO:spgr:Subj MG51, reading data: /PHShome/gp902/projects/spgr/subjects/MG51/rec/MG51_eeg_xltek_sessA_d08_06_41_13_sleep.pkl\n",
        "INFO:spgr:Subj MG37, reading data: /PHShome/gp902/projects/spgr/subjects/MG37/rec/MG37_eeg_xltek_sessA_d03_12_18_14_sleep.pkl\n",
        "INFO:spgr:Subj MG63, reading data: /PHShome/gp902/projects/spgr/subjects/MG63/rec/MG63_eeg_xltek_sessA_d06_15_55_12_sleep.pkl\n",
        "INFO:spgr:Subj MG65, reading data: /PHShome/gp902/projects/spgr/subjects/MG65/rec/MG65_eeg_xltek_sessA_d01_19_23_24_sleep.pkl\n",
        "INFO:spgr:Subj MG72, reading data: /PHShome/gp902/projects/spgr/subjects/MG72/rec/MG72_eeg_xltek_sessA_d09_07_47_00_sleep.pkl\n",
        "INFO:spgr:Subj EM09, ready to submit 72 jobs\n",
        "INFO:spgr:Subj MG51, ready to submit 64 jobs\n",
        "INFO:spgr:Subj MG37, ready to submit 80 jobs\n",
        "INFO:spgr:Subj MG63, ready to submit 96 jobs\n",
        "INFO:spgr:Subj MG65, ready to submit 64 jobs\n",
        "INFO:spgr:Subj MG72, ready to submit 63 jobs\n",
        "WARNING:lsf:Wall Time: 319.49s, CPU time: 47.88s, speed-up: 0.15X\n",
        "WARNING:lsf:Wall Time: 288.33s, CPU time: 43.38s, speed-up: 0.15X\n",
        "WARNING:lsf:Wall Time: 321.77s, CPU time: 53.40s, speed-up: 0.17X\n",
        "WARNING:lsf:Wall Time: 338.82s, CPU time: 62.28s, speed-up: 0.18X\n",
        "WARNING:lsf:Wall Time: 306.90s, CPU time: 38.94s, speed-up: 0.13X\n",
        "WARNING:lsf:Wall Time: 269.64s, CPU time: 40.94s, speed-up: 0.15X\n"
       ]
      }
     ],
     "prompt_number": 9
    },
    {
     "cell_type": "heading",
     "level": 3,
     "metadata": {},
     "source": [
      "Plot Spindle Characteristics"
     ]
    },
    {
     "cell_type": "code",
     "collapsed": true,
     "input": [
      "%matplotlib inline\n",
      "from spgr.plot_spindles import hist_values, topo_values"
     ],
     "language": "python",
     "metadata": {},
     "outputs": [],
     "prompt_number": 10
    },
    {
     "cell_type": "code",
     "collapsed": false,
     "input": [
      "from copy import deepcopy\n",
      "all_info = deepcopy(all_spindles)\n",
      "all_spindles = [x['spindles'] for x in all_info]"
     ],
     "language": "python",
     "metadata": {},
     "outputs": [],
     "prompt_number": 23
    },
    {
     "cell_type": "code",
     "collapsed": false,
     "input": [],
     "language": "python",
     "metadata": {},
     "outputs": [],
     "prompt_number": 24
    },
    {
     "cell_type": "code",
     "collapsed": false,
     "input": [
      "hist_values(all_subj, all_info, lambda x: x['mean'], x_lim=(0, 50), nbin=2)"
     ],
     "language": "python",
     "metadata": {},
     "outputs": [
      {
       "metadata": {},
       "output_type": "display_data",
       "png": "[encoded data removed]",
       "text": [
        "<matplotlib.figure.Figure at 0x7f797143ee50>"
       ]
      }
     ],
     "prompt_number": 25
    },
    {
     "cell_type": "heading",
     "level": 4,
     "metadata": {},
     "source": [
      "Duration"
     ]
    },
    {
     "cell_type": "markdown",
     "metadata": {},
     "source": [
      "Plot the distribution of spindles based on their duration. Because of the \"select_width\" parameter above, spindles cannot be longer than 2s (because the troughs can be max one second on each side of the peak).\n",
      "\n",
      "X-label is the duration in seconds, Y-label is the number of spindles. Each plot per patient."
     ]
    },
    {
     "cell_type": "code",
     "collapsed": false,
     "input": [
      "hist_values(all_subj, all_spindles, \n",
      "            lambda x: x['end_time'] - x['start_time'], x_lim=(0, 3), nbin=10)"
     ],
     "language": "python",
     "metadata": {},
     "outputs": [
      {
       "metadata": {},
       "output_type": "display_data",
       "png": "[encoded data removed]",
       "text": [
        "<matplotlib.figure.Figure at 0x7f797128ff10>"
       ]
      }
     ],
     "prompt_number": 26
    },
    {
     "cell_type": "heading",
     "level": 4,
     "metadata": {},
     "source": [
      "Area Under Curve"
     ]
    },
    {
     "cell_type": "markdown",
     "metadata": {},
     "source": [
      "Plot the distribution of spindles based on the area under of the curve of the envelope of the hilbert transform. The units are <i>uV * s</i>."
     ]
    },
    {
     "cell_type": "code",
     "collapsed": true,
     "input": [
      "hist_values(all_subj, all_spindles, \n",
      "            lambda x: x['area_under_curve'], x_lim=(0, 200), nbin=1/2)"
     ],
     "language": "python",
     "metadata": {},
     "outputs": []
    },
    {
     "cell_type": "heading",
     "level": 4,
     "metadata": {},
     "source": [
      "Peak Value"
     ]
    },
    {
     "cell_type": "markdown",
     "metadata": {},
     "source": [
      "Plot the distribution of spindles based on the maximum value. Units are <i>uV</i>"
     ]
    },
    {
     "cell_type": "code",
     "collapsed": true,
     "input": [
      "hist_values(all_subj, all_spindles, \n",
      "            lambda x: x['peak_val'], x_lim=(0, 300), nbin=1/3)"
     ],
     "language": "python",
     "metadata": {},
     "outputs": []
    },
    {
     "cell_type": "heading",
     "level": 4,
     "metadata": {},
     "source": [
      "Peak Frequency"
     ]
    },
    {
     "cell_type": "markdown",
     "metadata": {},
     "source": [
      "Plot the distribution of spindles based on the peak frequency on a 1s long window, after removing 1/f noise by taking the first derivative. We excluded spindles that had a peak frequency outside of the frequency band of interest. Note that in most patients the peak forms a nice \"normal\" distribution. The exception is MG65, where the peak frequency of all the detected spindles was more widely distributed.\n",
      "\n",
      "Units should be uV^2 / Hz^2 (instead of uV^2 / Hz, because of the first derivative)"
     ]
    },
    {
     "cell_type": "code",
     "collapsed": false,
     "input": [
      "hist_values(all_subj, all_spindles, \n",
      "            lambda x: x['peak_freq'], x_lim=(0, 25), nbin=1)"
     ],
     "language": "python",
     "metadata": {},
     "outputs": []
    },
    {
     "cell_type": "heading",
     "level": 4,
     "metadata": {},
     "source": [
      "Distribution over Channels"
     ]
    },
    {
     "cell_type": "markdown",
     "metadata": {},
     "source": [
      "Show the distribution of the number of spindles on electrodes, based on their location on the cortex. This is very much work in progress. Based on MRI/CT and manual reconstruction, we have the 3D RAS coordinates of all the channels on the cortex. For the purposes of this visualization, I ignored the Right-Left coordinates. On the X-axis, you have the anterior-posterior values and on the Y-axis, you have the superior-inferior coordinates. If the X-axis goes from negative to positive values, it means that the grid was on the right hemisphere (such as EM09), and if the X-axis goes from positive to negative values, it means that the grid is on the left hemisphere (such as MG37).\n",
      "\n",
      "At the moment, this image does not show the anatomical landmarks, especially because the 3d projection of the cortical surface is not pretty at the moment. I'm working on it."
     ]
    },
    {
     "cell_type": "code",
     "collapsed": false,
     "input": [
      "topo_values(all_subj, all_chan, all_spindles,\n",
      "            lambda x: 1, take_mean=False)"
     ],
     "language": "python",
     "metadata": {},
     "outputs": []
    },
    {
     "cell_type": "markdown",
     "metadata": {},
     "source": [
      "Below we plot the mean duration of spindles for each electrode. Colors are between 0.5 and 2s. \"Holes\" in the plots indicate that some channels had no spindles.\n",
      "\n",
      "I understand that these plots are not really informative at the moment, but I thought it was interesting to show what I'm working on."
     ]
    },
    {
     "cell_type": "code",
     "collapsed": false,
     "input": [
      "topo_values(all_subj, all_chan, all_spindles,\n",
      "            lambda x: x['end_time'] - x['start_time'], take_mean=True, v_lim=(0.5, 2))"
     ],
     "language": "python",
     "metadata": {},
     "outputs": []
    },
    {
     "cell_type": "heading",
     "level": 3,
     "metadata": {},
     "source": [
      "Synchrony"
     ]
    },
    {
     "cell_type": "markdown",
     "metadata": {},
     "source": [
      "Here we consider whether spindles are synchronous over multiple electrodes. It's a very simple measure of synchrony. The beginning of spindle A has to be before the end of spindle B, and the beginning of spindle B has to be before the end of spindle A."
     ]
    },
    {
     "cell_type": "heading",
     "level": 4,
     "metadata": {},
     "source": [
      "Bootstrap over the overlap"
     ]
    },
    {
     "cell_type": "markdown",
     "metadata": {},
     "source": [
      "We then ran a simple bootstrap test: we keep the duration of the spindle constant, but we shuffled the start times of all the spindles. The total duration of the recording session was also kept constant (in other words, the probably of finding a spindle did not change, what changed was the probability of finding multiple spindles at the same time). \n",
      "\n",
      "The results are highly significant (You need to believe me on this. Because the bootstrap is not parallelized at the moment, it'd take too much time to run it again for this summary). However, the explanation might be trivial: channels might be recording the same signal."
     ]
    },
    {
     "cell_type": "markdown",
     "metadata": {},
     "source": [
      "This is how it's described in the abstract:\n",
      "\n",
      "<i>Spindles were considered synchronous when two spindles on separate channels overlapped in time. We observed that spindles were more likely than expected by chance to appear at the same time over multiple cortical locations. </i>"
     ]
    },
    {
     "cell_type": "code",
     "collapsed": false,
     "input": [
      "from spgr.stats_on_spindles import estimate_overlap, bootstrap_overlap\n",
      "\n",
      "# bootstrap_overlap(all_subj, all_spindles)"
     ],
     "language": "python",
     "metadata": {},
     "outputs": []
    },
    {
     "cell_type": "heading",
     "level": 4,
     "metadata": {},
     "source": [
      "Distribution of spindles based on number of electrodes"
     ]
    },
    {
     "cell_type": "markdown",
     "metadata": {},
     "source": [
      "Then, we estimated the number of channels that recorded the \"same\" spindle. The plots show for each patients the histograms of spindles based on the number of channels. X-axis is number of channels and the Y-axis is the spindle count. You can see that for most patients, most of the spindles are present in a few channels, but some spindles are present in multiple channels.\n",
      "\n",
      "The exception seems to be MG65 (as above, MG65 was the odd one out). I'm currently investigating why the results are different in this patient."
     ]
    },
    {
     "cell_type": "markdown",
     "metadata": {},
     "source": [
      "This is how it's described in the abstract:\n",
      "\n",
      "<i>However, when we  estimated the distribution of spindles in relation to the number of active electrodes, we observed that there was  a strong positive skew. This indicates that most spindles were synchronous only in one or a few channels at the same time but some spindles were widely distributed.</i>"
     ]
    },
    {
     "cell_type": "code",
     "collapsed": false,
     "input": [
      "from spgr.plot_spindles import hist_overlap\n",
      "\n",
      "hist_overlap(all_subj, all_spindles)"
     ],
     "language": "python",
     "metadata": {},
     "outputs": []
    }
   ],
   "metadata": {}
  }
 ]
}