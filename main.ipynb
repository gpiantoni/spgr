{
 "metadata": {
  "name": "",
  "signature": "sha256:b849ef088553e935386a8f998158f56e012004e48e063df41c528782519c51ae"
 },
 "nbformat": 3,
 "nbformat_minor": 0,
 "worksheets": [
  {
   "cells": [
    {
     "cell_type": "heading",
     "level": 1,
     "metadata": {
      "slideshow": {
       "slide_type": "-"
      }
     },
     "source": [
      "SPGR"
     ]
    },
    {
     "cell_type": "heading",
     "level": 3,
     "metadata": {},
     "source": [
      "RGS03"
     ]
    },
    {
     "cell_type": "code",
     "collapsed": false,
     "input": [
      "import version_control"
     ],
     "language": "python",
     "metadata": {},
     "outputs": [
      {
       "output_type": "stream",
       "stream": "stdout",
       "text": [
        "Last run on 2014-04-18 14:41:36.553733\n",
        "\n",
        "Phypno Version: 6e53289cfe465bf3df91fc0340bf957f7fff345a\n",
        "\n",
        "Jinja2==2.7.2, MarkupSafe==0.19, PyOpenGL==3.0.2, astroid==1.0.1, flake8==2.1.0, ipython==2.0.0, joblib==0.7.1, logilab-common==0.61.0, matplotlib==1.3.1, mccabe==0.2.1, nose==1.3.1, numpy==1.8.1, pep8==1.5.6, pyflakes==0.8.1, pylint==1.1.0, pyparsing==2.0.2, python-dateutil==2.2, pyzmq==14.1.1, scipy==0.13.3, six==1.6.1, tornado==3.2, visvis==1.9, "
       ]
      },
      {
       "output_type": "stream",
       "stream": "stdout",
       "text": [
        "\n"
       ]
      }
     ],
     "prompt_number": 1
    },
    {
     "cell_type": "code",
     "collapsed": false,
     "input": [
      "if False:\n",
      "    all_subj = sorted(listdir(rec_dir), reverse=True)\n",
      "else:\n",
      "    subj_with_grid_scalp = ('EM03', 'EM09', 'MG07', 'MG11', 'MG12', 'MG15', 'MG17', \n",
      "                            'MG29', 'MG31', 'MG32', 'MG33', 'MG37', 'MG42', 'MG45', \n",
      "                            'MG48', 'MG49', 'MG51', 'MG56', 'MG61', 'MG63', 'MG65', 'MG72')\n",
      "    not_in_rec = ('MG12', )\n",
      "    all_subj = set(subj_with_grid_scalp) - set(not_in_rec)"
     ],
     "language": "python",
     "metadata": {},
     "outputs": [],
     "prompt_number": 6
    },
    {
     "cell_type": "code",
     "collapsed": false,
     "input": [
      "from spgr.read_data import read_score_per_subj\n",
      "\n",
      "output = list(filter(None.__ne__, map(read_score_per_subj, all_subj)))\n",
      "output"
     ],
     "language": "python",
     "metadata": {},
     "outputs": [
      {
       "output_type": "stream",
       "stream": "stderr",
       "text": [
        "INFO:phypno.attr.scores:Loading /PHShome/gp902/recordings/MG63/doc/scores/MG63_eeg_xltek_sessA_d00_17_38_33_scores.xml\n"
       ]
      },
      {
       "output_type": "stream",
       "stream": "stderr",
       "text": [
        "INFO:phypno.attr.scores:Loading /PHShome/gp902/recordings/MG63/doc/scores/MG63_eeg_xltek_sessA_d06_15_55_12_scores.xml\n"
       ]
      },
      {
       "output_type": "stream",
       "stream": "stderr",
       "text": [
        "INFO:phypno.attr.scores:Loading /PHShome/gp902/recordings/MG49/doc/scores/MG49_eeg_xltek_sessA_d02_06_34_58_scores.xml\n"
       ]
      },
      {
       "output_type": "stream",
       "stream": "stderr",
       "text": [
        "INFO:phypno.attr.scores:Loading /PHShome/gp902/recordings/EM09/doc/scores/EM09_eeg_xltek_sessA_d05_11_53_38_scores.xml\n"
       ]
      },
      {
       "output_type": "stream",
       "stream": "stderr",
       "text": [
        "INFO:phypno.attr.scores:Loading /PHShome/gp902/recordings/EM09/doc/scores/EM09_eeg_xltek_sessA_d06_08_05_47_scores.xml\n"
       ]
      },
      {
       "output_type": "stream",
       "stream": "stderr",
       "text": [
        "INFO:phypno.attr.scores:Loading /PHShome/gp902/recordings/MG37/doc/scores/MG37_eeg_xltek_sessA_d04_10_18_31_scores.xml\n"
       ]
      },
      {
       "output_type": "stream",
       "stream": "stderr",
       "text": [
        "INFO:phypno.attr.scores:Loading /PHShome/gp902/recordings/MG37/doc/scores/MG37_eeg_xltek_sessA_d03_12_18_14_scores.xml\n"
       ]
      },
      {
       "output_type": "stream",
       "stream": "stderr",
       "text": [
        "INFO:phypno.attr.scores:Loading /PHShome/gp902/recordings/MG56/doc/scores/MG56_eeg_xltek_sessA_d08_06_38_19_scores.xml\n"
       ]
      },
      {
       "output_type": "stream",
       "stream": "stderr",
       "text": [
        "INFO:phypno.attr.scores:Loading /PHShome/gp902/recordings/MG56/doc/scores/MG56_eeg_xltek_sessA_d02_16_09_47_scores.xml\n"
       ]
      },
      {
       "output_type": "stream",
       "stream": "stderr",
       "text": [
        "INFO:phypno.attr.scores:Loading /PHShome/gp902/recordings/MG33/doc/scores/MG33_eeg_xltek_sessA_d09_09_01_22_scores.xml\n"
       ]
      },
      {
       "output_type": "stream",
       "stream": "stderr",
       "text": [
        "INFO:phypno.attr.scores:Loading /PHShome/gp902/recordings/MG33/doc/scores/MG33_eeg_xltek_sessA_d07_09_46_30_scores.xml\n"
       ]
      },
      {
       "output_type": "stream",
       "stream": "stderr",
       "text": [
        "INFO:phypno.attr.scores:Loading /PHShome/gp902/recordings/MG61/doc/scores/MG61_eeg_xltek_sessA_d02_17_28_06_scores.xml\n"
       ]
      },
      {
       "output_type": "stream",
       "stream": "stderr",
       "text": [
        "INFO:phypno.attr.scores:Loading /PHShome/gp902/recordings/MG61/doc/scores/MG61_eeg_xltek_sessA_d03_07_58_11_scores.xml\n"
       ]
      },
      {
       "output_type": "stream",
       "stream": "stderr",
       "text": [
        "INFO:phypno.attr.scores:Loading /PHShome/gp902/recordings/MG51/doc/scores/MG51_eeg_xltek_sessA_d09_06_39_53_scores.xml\n"
       ]
      },
      {
       "output_type": "stream",
       "stream": "stderr",
       "text": [
        "INFO:phypno.attr.scores:Loading /PHShome/gp902/recordings/MG51/doc/scores/MG51_eeg_xltek_sessA_d08_06_41_13_scores.xml\n"
       ]
      },
      {
       "output_type": "stream",
       "stream": "stderr",
       "text": [
        "INFO:phypno.attr.scores:Loading /PHShome/gp902/recordings/MG65/doc/scores/MG65_eeg_xltek_sessA_d06_13_23_20_scores.xml\n"
       ]
      },
      {
       "output_type": "stream",
       "stream": "stderr",
       "text": [
        "INFO:phypno.attr.scores:Loading /PHShome/gp902/recordings/MG65/doc/scores/MG65_eeg_xltek_sessA_d01_19_23_24_scores.xml\n"
       ]
      },
      {
       "output_type": "stream",
       "stream": "stderr",
       "text": [
        "INFO:phypno.attr.scores:Loading /PHShome/gp902/recordings/MG72/doc/scores/MG72_eeg_xltek_sessA_d08_12_08_30_scores.xml\n"
       ]
      },
      {
       "output_type": "stream",
       "stream": "stderr",
       "text": [
        "INFO:phypno.attr.scores:Loading /PHShome/gp902/recordings/MG72/doc/scores/MG72_eeg_xltek_sessA_d09_07_47_00_scores.xml\n"
       ]
      },
      {
       "output_type": "stream",
       "stream": "stderr",
       "text": [
        "INFO:phypno.attr.scores:Loading /PHShome/gp902/recordings/MG72/doc/scores/MG72_eeg_xltek_sessA_d13_11_18_02_scores.xml\n"
       ]
      },
      {
       "metadata": {},
       "output_type": "pyout",
       "prompt_number": 109,
       "text": [
        "['/PHShome/gp902/recordings/MG63/eeg/raw/xltek/MG63_eeg_xltek_sessA_d06_15_55_12',\n",
        " '/PHShome/gp902/recordings/EM09/eeg/raw/xltek/EM09_eeg_xltek_sessA_d05_11_53_38',\n",
        " '/PHShome/gp902/recordings/MG37/eeg/raw/xltek/MG37_eeg_xltek_sessA_d03_12_18_14',\n",
        " '/PHShome/gp902/recordings/MG51/eeg/raw/xltek/MG51_eeg_xltek_sessA_d08_06_41_13',\n",
        " '/PHShome/gp902/recordings/MG65/eeg/raw/xltek/MG65_eeg_xltek_sessA_d01_19_23_24',\n",
        " '/PHShome/gp902/recordings/MG72/eeg/raw/xltek/MG72_eeg_xltek_sessA_d09_07_47_00']"
       ]
      }
     ],
     "prompt_number": 109
    },
    {
     "cell_type": "code",
     "collapsed": false,
     "input": [
      "from logging import getLogger, INFO, DEBUG\n",
      "lg = getLogger('spgr')\n",
      "lg.setLevel(INFO)"
     ],
     "language": "python",
     "metadata": {},
     "outputs": [],
     "prompt_number": 47
    },
    {
     "cell_type": "code",
     "collapsed": false,
     "input": [
      "\n",
      "for subj in ('MG65', 'MG51', 'MG37', 'EM09', 'MG63'):\n",
      "    read_score_per_subj(subj, True)"
     ],
     "language": "python",
     "metadata": {},
     "outputs": [
      {
       "output_type": "stream",
       "stream": "stderr",
       "text": [
        "INFO:phypno.attr.scores:Loading /PHShome/gp902/recordings/MG72/doc/scores/MG72_eeg_xltek_sessA_d08_12_08_30_scores.xml\n"
       ]
      },
      {
       "output_type": "stream",
       "stream": "stderr",
       "text": [
        "INFO:phypno.attr.scores:Loading /PHShome/gp902/recordings/MG72/doc/scores/MG72_eeg_xltek_sessA_d09_07_47_00_scores.xml\n"
       ]
      },
      {
       "output_type": "stream",
       "stream": "stderr",
       "text": [
        "INFO:phypno.ioeeg.ktlx:Reading /PHShome/gp902/recordings/MG72/eeg/raw/xltek/MG72_eeg_xltek_sessA_d09_07_47_00\n"
       ]
      },
      {
       "output_type": "stream",
       "stream": "stderr",
       "text": [
        "INFO:phypno.ioeeg.ktlx:Reading existing file: /PHShome/gp902/projects/temp/Xxxxx~ Xxxxxx_e4323163-9106-4615-abdc-8b54b0d644b8_111.erd\n"
       ]
      },
      {
       "output_type": "stream",
       "stream": "stderr",
       "text": [
        "INFO:phypno.ioeeg.ktlx:Reading existing file: /PHShome/gp902/projects/temp/Xxxxx~ Xxxxxx_e4323163-9106-4615-abdc-8b54b0d644b8_111.erd\n"
       ]
      },
      {
       "output_type": "stream",
       "stream": "stderr",
       "text": [
        "INFO:phypno.ioeeg.ktlx:Reading existing file: /PHShome/gp902/projects/temp/Xxxxx~ Xxxxxx_e4323163-9106-4615-abdc-8b54b0d644b8_111.erd\n"
       ]
      },
      {
       "output_type": "stream",
       "stream": "stderr",
       "text": [
        "INFO:phypno.ioeeg.ktlx:Reading existing file: /PHShome/gp902/projects/temp/Xxxxx~ Xxxxxx_e4323163-9106-4615-abdc-8b54b0d644b8_111.erd\n"
       ]
      },
      {
       "output_type": "stream",
       "stream": "stderr",
       "text": [
        "INFO:phypno.ioeeg.ktlx:Reading existing file: /PHShome/gp902/projects/temp/Xxxxx~ Xxxxxx_e4323163-9106-4615-abdc-8b54b0d644b8_111.erd\n"
       ]
      },
      {
       "output_type": "stream",
       "stream": "stderr",
       "text": [
        "INFO:phypno.ioeeg.ktlx:Reading existing file: /PHShome/gp902/projects/temp/Xxxxx~ Xxxxxx_e4323163-9106-4615-abdc-8b54b0d644b8_111.erd\n"
       ]
      },
      {
       "output_type": "stream",
       "stream": "stderr",
       "text": [
        "INFO:phypno.ioeeg.ktlx:Reading existing file: /PHShome/gp902/projects/temp/Xxxxx~ Xxxxxx_e4323163-9106-4615-abdc-8b54b0d644b8_111.erd\n"
       ]
      },
      {
       "output_type": "stream",
       "stream": "stderr",
       "text": [
        "INFO:phypno.ioeeg.ktlx:Reading existing file: /PHShome/gp902/projects/temp/Xxxxx~ Xxxxxx_e4323163-9106-4615-abdc-8b54b0d644b8_111.erd\n"
       ]
      },
      {
       "output_type": "stream",
       "stream": "stderr",
       "text": [
        "INFO:phypno.ioeeg.ktlx:Reading existing file: /PHShome/gp902/projects/temp/Xxxxx~ Xxxxxx_e4323163-9106-4615-abdc-8b54b0d644b8_111.erd\n"
       ]
      },
      {
       "output_type": "stream",
       "stream": "stderr",
       "text": [
        "INFO:phypno.ioeeg.ktlx:Reading existing file: /PHShome/gp902/projects/temp/Xxxxx~ Xxxxxx_e4323163-9106-4615-abdc-8b54b0d644b8_111.erd\n"
       ]
      },
      {
       "output_type": "stream",
       "stream": "stderr",
       "text": [
        "INFO:phypno.ioeeg.ktlx:Reading existing file: /PHShome/gp902/projects/temp/Xxxxx~ Xxxxxx_e4323163-9106-4615-abdc-8b54b0d644b8_111.erd\n"
       ]
      },
      {
       "output_type": "stream",
       "stream": "stderr",
       "text": [
        "INFO:phypno.ioeeg.ktlx:Reading existing file: /PHShome/gp902/projects/temp/Xxxxx~ Xxxxxx_e4323163-9106-4615-abdc-8b54b0d644b8_111.erd\n"
       ]
      },
      {
       "output_type": "stream",
       "stream": "stderr",
       "text": [
        "INFO:phypno.ioeeg.ktlx:Reading existing file: /PHShome/gp902/projects/temp/Xxxxx~ Xxxxxx_e4323163-9106-4615-abdc-8b54b0d644b8_111.erd\n"
       ]
      },
      {
       "output_type": "stream",
       "stream": "stderr",
       "text": [
        "INFO:phypno.ioeeg.ktlx:Reading existing file: /PHShome/gp902/projects/temp/Xxxxx~ Xxxxxx_e4323163-9106-4615-abdc-8b54b0d644b8_111.erd\n"
       ]
      },
      {
       "output_type": "stream",
       "stream": "stderr",
       "text": [
        "INFO:phypno.ioeeg.ktlx:Reading existing file: /PHShome/gp902/projects/temp/Xxxxx~ Xxxxxx_e4323163-9106-4615-abdc-8b54b0d644b8_111.erd\n"
       ]
      },
      {
       "output_type": "stream",
       "stream": "stderr",
       "text": [
        "INFO:phypno.ioeeg.ktlx:Reading existing file: /PHShome/gp902/projects/temp/Xxxxx~ Xxxxxx_e4323163-9106-4615-abdc-8b54b0d644b8_111.erd\n"
       ]
      },
      {
       "output_type": "stream",
       "stream": "stderr",
       "text": [
        "INFO:phypno.ioeeg.ktlx:Reading existing file: /PHShome/gp902/projects/temp/Xxxxx~ Xxxxxx_e4323163-9106-4615-abdc-8b54b0d644b8_112.erd\n"
       ]
      },
      {
       "output_type": "stream",
       "stream": "stderr",
       "text": [
        "INFO:phypno.ioeeg.ktlx:Reading existing file: /PHShome/gp902/projects/temp/Xxxxx~ Xxxxxx_e4323163-9106-4615-abdc-8b54b0d644b8_112.erd\n"
       ]
      },
      {
       "output_type": "stream",
       "stream": "stderr",
       "text": [
        "INFO:phypno.ioeeg.ktlx:Reading existing file: /PHShome/gp902/projects/temp/Xxxxx~ Xxxxxx_e4323163-9106-4615-abdc-8b54b0d644b8_112.erd\n"
       ]
      },
      {
       "output_type": "stream",
       "stream": "stderr",
       "text": [
        "INFO:phypno.ioeeg.ktlx:Reading existing file: /PHShome/gp902/projects/temp/Xxxxx~ Xxxxxx_e4323163-9106-4615-abdc-8b54b0d644b8_112.erd\n"
       ]
      },
      {
       "output_type": "stream",
       "stream": "stderr",
       "text": [
        "INFO:phypno.ioeeg.ktlx:Reading existing file: /PHShome/gp902/projects/temp/Xxxxx~ Xxxxxx_e4323163-9106-4615-abdc-8b54b0d644b8_112.erd\n"
       ]
      },
      {
       "output_type": "stream",
       "stream": "stderr",
       "text": [
        "INFO:phypno.ioeeg.ktlx:Reading existing file: /PHShome/gp902/projects/temp/Xxxxx~ Xxxxxx_e4323163-9106-4615-abdc-8b54b0d644b8_112.erd\n"
       ]
      },
      {
       "output_type": "stream",
       "stream": "stderr",
       "text": [
        "INFO:phypno.ioeeg.ktlx:Reading existing file: /PHShome/gp902/projects/temp/Xxxxx~ Xxxxxx_e4323163-9106-4615-abdc-8b54b0d644b8_112.erd\n"
       ]
      },
      {
       "output_type": "stream",
       "stream": "stderr",
       "text": [
        "INFO:phypno.ioeeg.ktlx:Reading existing file: /PHShome/gp902/projects/temp/Xxxxx~ Xxxxxx_e4323163-9106-4615-abdc-8b54b0d644b8_112.erd\n"
       ]
      },
      {
       "output_type": "stream",
       "stream": "stderr",
       "text": [
        "INFO:phypno.ioeeg.ktlx:Reading existing file: /PHShome/gp902/projects/temp/Xxxxx~ Xxxxxx_e4323163-9106-4615-abdc-8b54b0d644b8_112.erd\n"
       ]
      },
      {
       "output_type": "stream",
       "stream": "stderr",
       "text": [
        "INFO:phypno.ioeeg.ktlx:Reading existing file: /PHShome/gp902/projects/temp/Xxxxx~ Xxxxxx_e4323163-9106-4615-abdc-8b54b0d644b8_112.erd\n"
       ]
      },
      {
       "output_type": "stream",
       "stream": "stderr",
       "text": [
        "INFO:phypno.ioeeg.ktlx:Reading existing file: /PHShome/gp902/projects/temp/Xxxxx~ Xxxxxx_e4323163-9106-4615-abdc-8b54b0d644b8_112.erd\n"
       ]
      },
      {
       "output_type": "stream",
       "stream": "stderr",
       "text": [
        "INFO:phypno.ioeeg.ktlx:Reading existing file: /PHShome/gp902/projects/temp/Xxxxx~ Xxxxxx_e4323163-9106-4615-abdc-8b54b0d644b8_112.erd\n"
       ]
      },
      {
       "output_type": "stream",
       "stream": "stderr",
       "text": [
        "INFO:phypno.ioeeg.ktlx:Reading existing file: /PHShome/gp902/projects/temp/Xxxxx~ Xxxxxx_e4323163-9106-4615-abdc-8b54b0d644b8_112.erd\n"
       ]
      },
      {
       "output_type": "stream",
       "stream": "stderr",
       "text": [
        "INFO:phypno.ioeeg.ktlx:Reading existing file: /PHShome/gp902/projects/temp/Xxxxx~ Xxxxxx_e4323163-9106-4615-abdc-8b54b0d644b8_112.erd\n"
       ]
      },
      {
       "output_type": "stream",
       "stream": "stderr",
       "text": [
        "INFO:phypno.ioeeg.ktlx:Reading existing file: /PHShome/gp902/projects/temp/Xxxxx~ Xxxxxx_e4323163-9106-4615-abdc-8b54b0d644b8_112.erd\n"
       ]
      },
      {
       "output_type": "stream",
       "stream": "stderr",
       "text": [
        "INFO:phypno.ioeeg.ktlx:Reading existing file: /PHShome/gp902/projects/temp/Xxxxx~ Xxxxxx_e4323163-9106-4615-abdc-8b54b0d644b8_112.erd\n"
       ]
      },
      {
       "output_type": "stream",
       "stream": "stderr",
       "text": [
        "INFO:phypno.ioeeg.ktlx:Reading existing file: /PHShome/gp902/projects/temp/Xxxxx~ Xxxxxx_e4323163-9106-4615-abdc-8b54b0d644b8_112.erd\n"
       ]
      },
      {
       "output_type": "stream",
       "stream": "stderr",
       "text": [
        "INFO:phypno.ioeeg.ktlx:Reading existing file: /PHShome/gp902/projects/temp/Xxxxx~ Xxxxxx_e4323163-9106-4615-abdc-8b54b0d644b8_112.erd\n"
       ]
      },
      {
       "output_type": "stream",
       "stream": "stderr",
       "text": [
        "INFO:phypno.ioeeg.ktlx:Reading existing file: /PHShome/gp902/projects/temp/Xxxxx~ Xxxxxx_e4323163-9106-4615-abdc-8b54b0d644b8_112.erd\n"
       ]
      },
      {
       "output_type": "stream",
       "stream": "stderr",
       "text": [
        "INFO:phypno.ioeeg.ktlx:Reading existing file: /PHShome/gp902/projects/temp/Xxxxx~ Xxxxxx_e4323163-9106-4615-abdc-8b54b0d644b8_112.erd\n"
       ]
      },
      {
       "output_type": "stream",
       "stream": "stderr",
       "text": [
        "INFO:phypno.ioeeg.ktlx:Reading existing file: /PHShome/gp902/projects/temp/Xxxxx~ Xxxxxx_e4323163-9106-4615-abdc-8b54b0d644b8_112.erd\n"
       ]
      },
      {
       "output_type": "stream",
       "stream": "stderr",
       "text": [
        "INFO:phypno.ioeeg.ktlx:Reading existing file: /PHShome/gp902/projects/temp/Xxxxx~ Xxxxxx_e4323163-9106-4615-abdc-8b54b0d644b8_112.erd\n"
       ]
      },
      {
       "output_type": "stream",
       "stream": "stderr",
       "text": [
        "INFO:phypno.ioeeg.ktlx:Reading existing file: /PHShome/gp902/projects/temp/Xxxxx~ Xxxxxx_e4323163-9106-4615-abdc-8b54b0d644b8_112.erd\n"
       ]
      },
      {
       "output_type": "stream",
       "stream": "stderr",
       "text": [
        "INFO:phypno.ioeeg.ktlx:Reading existing file: /PHShome/gp902/projects/temp/Xxxxx~ Xxxxxx_e4323163-9106-4615-abdc-8b54b0d644b8_112.erd\n"
       ]
      },
      {
       "output_type": "stream",
       "stream": "stderr",
       "text": [
        "INFO:phypno.ioeeg.ktlx:Reading existing file: /PHShome/gp902/projects/temp/Xxxxx~ Xxxxxx_e4323163-9106-4615-abdc-8b54b0d644b8_112.erd\n"
       ]
      },
      {
       "output_type": "stream",
       "stream": "stderr",
       "text": [
        "INFO:phypno.ioeeg.ktlx:Reading existing file: /PHShome/gp902/projects/temp/Xxxxx~ Xxxxxx_e4323163-9106-4615-abdc-8b54b0d644b8_113.erd\n"
       ]
      },
      {
       "output_type": "stream",
       "stream": "stderr",
       "text": [
        "INFO:phypno.ioeeg.ktlx:Reading existing file: /PHShome/gp902/projects/temp/Xxxxx~ Xxxxxx_e4323163-9106-4615-abdc-8b54b0d644b8_113.erd\n"
       ]
      },
      {
       "output_type": "stream",
       "stream": "stderr",
       "text": [
        "INFO:phypno.ioeeg.ktlx:Reading existing file: /PHShome/gp902/projects/temp/Xxxxx~ Xxxxxx_e4323163-9106-4615-abdc-8b54b0d644b8_113.erd\n"
       ]
      },
      {
       "output_type": "stream",
       "stream": "stderr",
       "text": [
        "INFO:phypno.ioeeg.ktlx:Reading existing file: /PHShome/gp902/projects/temp/Xxxxx~ Xxxxxx_e4323163-9106-4615-abdc-8b54b0d644b8_113.erd\n"
       ]
      },
      {
       "output_type": "stream",
       "stream": "stderr",
       "text": [
        "INFO:phypno.ioeeg.ktlx:Reading existing file: /PHShome/gp902/projects/temp/Xxxxx~ Xxxxxx_e4323163-9106-4615-abdc-8b54b0d644b8_113.erd\n"
       ]
      },
      {
       "output_type": "stream",
       "stream": "stderr",
       "text": [
        "INFO:phypno.ioeeg.ktlx:Reading existing file: /PHShome/gp902/projects/temp/Xxxxx~ Xxxxxx_e4323163-9106-4615-abdc-8b54b0d644b8_113.erd\n"
       ]
      },
      {
       "output_type": "stream",
       "stream": "stderr",
       "text": [
        "INFO:phypno.ioeeg.ktlx:Reading existing file: /PHShome/gp902/projects/temp/Xxxxx~ Xxxxxx_e4323163-9106-4615-abdc-8b54b0d644b8_113.erd\n"
       ]
      },
      {
       "output_type": "stream",
       "stream": "stderr",
       "text": [
        "INFO:phypno.ioeeg.ktlx:Reading existing file: /PHShome/gp902/projects/temp/Xxxxx~ Xxxxxx_e4323163-9106-4615-abdc-8b54b0d644b8_113.erd\n"
       ]
      },
      {
       "output_type": "stream",
       "stream": "stderr",
       "text": [
        "INFO:phypno.ioeeg.ktlx:Reading existing file: /PHShome/gp902/projects/temp/Xxxxx~ Xxxxxx_e4323163-9106-4615-abdc-8b54b0d644b8_113.erd\n"
       ]
      },
      {
       "output_type": "stream",
       "stream": "stderr",
       "text": [
        "INFO:phypno.ioeeg.ktlx:Reading existing file: /PHShome/gp902/projects/temp/Xxxxx~ Xxxxxx_e4323163-9106-4615-abdc-8b54b0d644b8_113.erd\n"
       ]
      },
      {
       "output_type": "stream",
       "stream": "stderr",
       "text": [
        "INFO:phypno.ioeeg.ktlx:Reading existing file: /PHShome/gp902/projects/temp/Xxxxx~ Xxxxxx_e4323163-9106-4615-abdc-8b54b0d644b8_113.erd\n"
       ]
      },
      {
       "output_type": "stream",
       "stream": "stderr",
       "text": [
        "INFO:phypno.ioeeg.ktlx:Reading existing file: /PHShome/gp902/projects/temp/Xxxxx~ Xxxxxx_e4323163-9106-4615-abdc-8b54b0d644b8_113.erd\n"
       ]
      },
      {
       "output_type": "stream",
       "stream": "stderr",
       "text": [
        "INFO:phypno.ioeeg.ktlx:Reading existing file: /PHShome/gp902/projects/temp/Xxxxx~ Xxxxxx_e4323163-9106-4615-abdc-8b54b0d644b8_113.erd\n"
       ]
      },
      {
       "output_type": "stream",
       "stream": "stderr",
       "text": [
        "INFO:phypno.ioeeg.ktlx:Reading existing file: /PHShome/gp902/projects/temp/Xxxxx~ Xxxxxx_e4323163-9106-4615-abdc-8b54b0d644b8_113.erd\n"
       ]
      },
      {
       "output_type": "stream",
       "stream": "stderr",
       "text": [
        "INFO:phypno.ioeeg.ktlx:Reading existing file: /PHShome/gp902/projects/temp/Xxxxx~ Xxxxxx_e4323163-9106-4615-abdc-8b54b0d644b8_113.erd\n"
       ]
      },
      {
       "output_type": "stream",
       "stream": "stderr",
       "text": [
        "INFO:phypno.ioeeg.ktlx:Reading existing file: /PHShome/gp902/projects/temp/Xxxxx~ Xxxxxx_e4323163-9106-4615-abdc-8b54b0d644b8_113.erd\n"
       ]
      },
      {
       "output_type": "stream",
       "stream": "stderr",
       "text": [
        "INFO:phypno.ioeeg.ktlx:Reading existing file: /PHShome/gp902/projects/temp/Xxxxx~ Xxxxxx_e4323163-9106-4615-abdc-8b54b0d644b8_113.erd\n"
       ]
      },
      {
       "output_type": "stream",
       "stream": "stderr",
       "text": [
        "INFO:phypno.ioeeg.ktlx:Reading existing file: /PHShome/gp902/projects/temp/Xxxxx~ Xxxxxx_e4323163-9106-4615-abdc-8b54b0d644b8_113.erd\n"
       ]
      },
      {
       "output_type": "stream",
       "stream": "stderr",
       "text": [
        "INFO:phypno.ioeeg.ktlx:Reading existing file: /PHShome/gp902/projects/temp/Xxxxx~ Xxxxxx_e4323163-9106-4615-abdc-8b54b0d644b8_113.erd\n"
       ]
      },
      {
       "output_type": "stream",
       "stream": "stderr",
       "text": [
        "INFO:phypno.ioeeg.ktlx:Reading existing file: /PHShome/gp902/projects/temp/Xxxxx~ Xxxxxx_e4323163-9106-4615-abdc-8b54b0d644b8_113.erd\n"
       ]
      },
      {
       "output_type": "stream",
       "stream": "stderr",
       "text": [
        "INFO:phypno.ioeeg.ktlx:Reading existing file: /PHShome/gp902/projects/temp/Xxxxx~ Xxxxxx_e4323163-9106-4615-abdc-8b54b0d644b8_113.erd\n"
       ]
      },
      {
       "output_type": "stream",
       "stream": "stderr",
       "text": [
        "INFO:phypno.ioeeg.ktlx:Reading existing file: /PHShome/gp902/projects/temp/Xxxxx~ Xxxxxx_e4323163-9106-4615-abdc-8b54b0d644b8_001.erd\n"
       ]
      },
      {
       "output_type": "stream",
       "stream": "stderr",
       "text": [
        "INFO:phypno.ioeeg.ktlx:Reading existing file: /PHShome/gp902/projects/temp/Xxxxx~ Xxxxxx_e4323163-9106-4615-abdc-8b54b0d644b8_001.erd\n"
       ]
      },
      {
       "output_type": "stream",
       "stream": "stderr",
       "text": [
        "INFO:phypno.ioeeg.ktlx:Reading existing file: /PHShome/gp902/projects/temp/Xxxxx~ Xxxxxx_e4323163-9106-4615-abdc-8b54b0d644b8_001.erd\n"
       ]
      },
      {
       "output_type": "stream",
       "stream": "stderr",
       "text": [
        "INFO:phypno.ioeeg.ktlx:Reading existing file: /PHShome/gp902/projects/temp/Xxxxx~ Xxxxxx_e4323163-9106-4615-abdc-8b54b0d644b8_001.erd\n"
       ]
      },
      {
       "output_type": "stream",
       "stream": "stderr",
       "text": [
        "INFO:phypno.ioeeg.ktlx:Reading existing file: /PHShome/gp902/projects/temp/Xxxxx~ Xxxxxx_e4323163-9106-4615-abdc-8b54b0d644b8_001.erd\n"
       ]
      },
      {
       "output_type": "stream",
       "stream": "stderr",
       "text": [
        "INFO:phypno.ioeeg.ktlx:Reading existing file: /PHShome/gp902/projects/temp/Xxxxx~ Xxxxxx_e4323163-9106-4615-abdc-8b54b0d644b8_001.erd\n"
       ]
      },
      {
       "output_type": "stream",
       "stream": "stderr",
       "text": [
        "INFO:phypno.ioeeg.ktlx:Reading existing file: /PHShome/gp902/projects/temp/Xxxxx~ Xxxxxx_e4323163-9106-4615-abdc-8b54b0d644b8_001.erd\n"
       ]
      },
      {
       "output_type": "stream",
       "stream": "stderr",
       "text": [
        "INFO:phypno.ioeeg.ktlx:Reading existing file: /PHShome/gp902/projects/temp/Xxxxx~ Xxxxxx_e4323163-9106-4615-abdc-8b54b0d644b8_001.erd\n"
       ]
      },
      {
       "output_type": "stream",
       "stream": "stderr",
       "text": [
        "INFO:phypno.ioeeg.ktlx:Reading existing file: /PHShome/gp902/projects/temp/Xxxxx~ Xxxxxx_e4323163-9106-4615-abdc-8b54b0d644b8_001.erd\n"
       ]
      },
      {
       "output_type": "stream",
       "stream": "stderr",
       "text": [
        "INFO:phypno.ioeeg.ktlx:Reading existing file: /PHShome/gp902/projects/temp/Xxxxx~ Xxxxxx_e4323163-9106-4615-abdc-8b54b0d644b8_001.erd\n"
       ]
      },
      {
       "output_type": "stream",
       "stream": "stderr",
       "text": [
        "INFO:phypno.ioeeg.ktlx:Reading existing file: /PHShome/gp902/projects/temp/Xxxxx~ Xxxxxx_e4323163-9106-4615-abdc-8b54b0d644b8_001.erd\n"
       ]
      },
      {
       "output_type": "stream",
       "stream": "stderr",
       "text": [
        "INFO:phypno.ioeeg.ktlx:Reading existing file: /PHShome/gp902/projects/temp/Xxxxx~ Xxxxxx_e4323163-9106-4615-abdc-8b54b0d644b8_002.erd\n"
       ]
      },
      {
       "output_type": "stream",
       "stream": "stderr",
       "text": [
        "INFO:phypno.ioeeg.ktlx:Reading existing file: /PHShome/gp902/projects/temp/Xxxxx~ Xxxxxx_e4323163-9106-4615-abdc-8b54b0d644b8_002.erd\n"
       ]
      },
      {
       "output_type": "stream",
       "stream": "stderr",
       "text": [
        "INFO:phypno.ioeeg.ktlx:Reading existing file: /PHShome/gp902/projects/temp/Xxxxx~ Xxxxxx_e4323163-9106-4615-abdc-8b54b0d644b8_002.erd\n"
       ]
      },
      {
       "output_type": "stream",
       "stream": "stderr",
       "text": [
        "INFO:phypno.ioeeg.ktlx:Reading existing file: /PHShome/gp902/projects/temp/Xxxxx~ Xxxxxx_e4323163-9106-4615-abdc-8b54b0d644b8_002.erd\n"
       ]
      },
      {
       "output_type": "stream",
       "stream": "stderr",
       "text": [
        "INFO:phypno.ioeeg.ktlx:Reading existing file: /PHShome/gp902/projects/temp/Xxxxx~ Xxxxxx_e4323163-9106-4615-abdc-8b54b0d644b8_002.erd\n"
       ]
      },
      {
       "output_type": "stream",
       "stream": "stderr",
       "text": [
        "INFO:phypno.ioeeg.ktlx:Reading existing file: /PHShome/gp902/projects/temp/Xxxxx~ Xxxxxx_e4323163-9106-4615-abdc-8b54b0d644b8_002.erd\n"
       ]
      },
      {
       "output_type": "stream",
       "stream": "stderr",
       "text": [
        "INFO:phypno.ioeeg.ktlx:Reading existing file: /PHShome/gp902/projects/temp/Xxxxx~ Xxxxxx_e4323163-9106-4615-abdc-8b54b0d644b8_002.erd\n"
       ]
      },
      {
       "output_type": "stream",
       "stream": "stderr",
       "text": [
        "INFO:phypno.ioeeg.ktlx:Reading existing file: /PHShome/gp902/projects/temp/Xxxxx~ Xxxxxx_e4323163-9106-4615-abdc-8b54b0d644b8_002.erd\n"
       ]
      },
      {
       "output_type": "stream",
       "stream": "stderr",
       "text": [
        "INFO:phypno.ioeeg.ktlx:Reading existing file: /PHShome/gp902/projects/temp/Xxxxx~ Xxxxxx_e4323163-9106-4615-abdc-8b54b0d644b8_002.erd\n"
       ]
      },
      {
       "output_type": "stream",
       "stream": "stderr",
       "text": [
        "INFO:phypno.ioeeg.ktlx:Reading existing file: /PHShome/gp902/projects/temp/Xxxxx~ Xxxxxx_e4323163-9106-4615-abdc-8b54b0d644b8_002.erd\n"
       ]
      },
      {
       "output_type": "stream",
       "stream": "stderr",
       "text": [
        "INFO:phypno.ioeeg.ktlx:Reading existing file: /PHShome/gp902/projects/temp/Xxxxx~ Xxxxxx_e4323163-9106-4615-abdc-8b54b0d644b8_002.erd\n"
       ]
      },
      {
       "output_type": "stream",
       "stream": "stderr",
       "text": [
        "INFO:phypno.ioeeg.ktlx:Reading existing file: /PHShome/gp902/projects/temp/Xxxxx~ Xxxxxx_e4323163-9106-4615-abdc-8b54b0d644b8_002.erd\n"
       ]
      },
      {
       "output_type": "stream",
       "stream": "stderr",
       "text": [
        "INFO:phypno.ioeeg.ktlx:Reading existing file: /PHShome/gp902/projects/temp/Xxxxx~ Xxxxxx_e4323163-9106-4615-abdc-8b54b0d644b8_002.erd\n"
       ]
      },
      {
       "output_type": "stream",
       "stream": "stderr",
       "text": [
        "INFO:phypno.ioeeg.ktlx:Reading existing file: /PHShome/gp902/projects/temp/Xxxxx~ Xxxxxx_e4323163-9106-4615-abdc-8b54b0d644b8_002.erd\n"
       ]
      },
      {
       "output_type": "stream",
       "stream": "stderr",
       "text": [
        "INFO:phypno.ioeeg.ktlx:Reading existing file: /PHShome/gp902/projects/temp/Xxxxx~ Xxxxxx_e4323163-9106-4615-abdc-8b54b0d644b8_002.erd\n"
       ]
      },
      {
       "output_type": "stream",
       "stream": "stderr",
       "text": [
        "INFO:phypno.ioeeg.ktlx:Reading existing file: /PHShome/gp902/projects/temp/Xxxxx~ Xxxxxx_e4323163-9106-4615-abdc-8b54b0d644b8_002.erd\n"
       ]
      },
      {
       "output_type": "stream",
       "stream": "stderr",
       "text": [
        "INFO:phypno.ioeeg.ktlx:Reading existing file: /PHShome/gp902/projects/temp/Xxxxx~ Xxxxxx_e4323163-9106-4615-abdc-8b54b0d644b8_002.erd\n"
       ]
      },
      {
       "output_type": "stream",
       "stream": "stderr",
       "text": [
        "INFO:phypno.ioeeg.ktlx:Reading existing file: /PHShome/gp902/projects/temp/Xxxxx~ Xxxxxx_e4323163-9106-4615-abdc-8b54b0d644b8_002.erd\n"
       ]
      },
      {
       "output_type": "stream",
       "stream": "stderr",
       "text": [
        "INFO:phypno.ioeeg.ktlx:Reading existing file: /PHShome/gp902/projects/temp/Xxxxx~ Xxxxxx_e4323163-9106-4615-abdc-8b54b0d644b8_002.erd\n"
       ]
      },
      {
       "output_type": "stream",
       "stream": "stderr",
       "text": [
        "INFO:phypno.ioeeg.ktlx:Reading existing file: /PHShome/gp902/projects/temp/Xxxxx~ Xxxxxx_e4323163-9106-4615-abdc-8b54b0d644b8_003.erd\n"
       ]
      },
      {
       "output_type": "stream",
       "stream": "stderr",
       "text": [
        "INFO:phypno.ioeeg.ktlx:Reading existing file: /PHShome/gp902/projects/temp/Xxxxx~ Xxxxxx_e4323163-9106-4615-abdc-8b54b0d644b8_003.erd\n"
       ]
      },
      {
       "output_type": "stream",
       "stream": "stderr",
       "text": [
        "INFO:phypno.ioeeg.ktlx:Reading existing file: /PHShome/gp902/projects/temp/Xxxxx~ Xxxxxx_e4323163-9106-4615-abdc-8b54b0d644b8_003.erd\n"
       ]
      },
      {
       "output_type": "stream",
       "stream": "stderr",
       "text": [
        "INFO:phypno.ioeeg.ktlx:Reading existing file: /PHShome/gp902/projects/temp/Xxxxx~ Xxxxxx_e4323163-9106-4615-abdc-8b54b0d644b8_003.erd\n"
       ]
      },
      {
       "output_type": "stream",
       "stream": "stderr",
       "text": [
        "INFO:phypno.ioeeg.ktlx:Reading existing file: /PHShome/gp902/projects/temp/Xxxxx~ Xxxxxx_e4323163-9106-4615-abdc-8b54b0d644b8_003.erd\n"
       ]
      },
      {
       "output_type": "stream",
       "stream": "stderr",
       "text": [
        "INFO:phypno.ioeeg.ktlx:Reading existing file: /PHShome/gp902/projects/temp/Xxxxx~ Xxxxxx_e4323163-9106-4615-abdc-8b54b0d644b8_003.erd\n"
       ]
      },
      {
       "output_type": "stream",
       "stream": "stderr",
       "text": [
        "INFO:phypno.ioeeg.ktlx:Reading existing file: /PHShome/gp902/projects/temp/Xxxxx~ Xxxxxx_e4323163-9106-4615-abdc-8b54b0d644b8_003.erd\n"
       ]
      },
      {
       "output_type": "stream",
       "stream": "stderr",
       "text": [
        "INFO:phypno.ioeeg.ktlx:Reading existing file: /PHShome/gp902/projects/temp/Xxxxx~ Xxxxxx_e4323163-9106-4615-abdc-8b54b0d644b8_003.erd\n"
       ]
      },
      {
       "output_type": "stream",
       "stream": "stderr",
       "text": [
        "INFO:phypno.ioeeg.ktlx:Reading existing file: /PHShome/gp902/projects/temp/Xxxxx~ Xxxxxx_e4323163-9106-4615-abdc-8b54b0d644b8_003.erd\n"
       ]
      },
      {
       "output_type": "stream",
       "stream": "stderr",
       "text": [
        "INFO:phypno.ioeeg.ktlx:Reading existing file: /PHShome/gp902/projects/temp/Xxxxx~ Xxxxxx_e4323163-9106-4615-abdc-8b54b0d644b8_003.erd\n"
       ]
      },
      {
       "output_type": "stream",
       "stream": "stderr",
       "text": [
        "INFO:phypno.ioeeg.ktlx:Reading existing file: /PHShome/gp902/projects/temp/Xxxxx~ Xxxxxx_e4323163-9106-4615-abdc-8b54b0d644b8_003.erd\n"
       ]
      },
      {
       "output_type": "stream",
       "stream": "stderr",
       "text": [
        "INFO:phypno.ioeeg.ktlx:Reading existing file: /PHShome/gp902/projects/temp/Xxxxx~ Xxxxxx_e4323163-9106-4615-abdc-8b54b0d644b8_003.erd\n"
       ]
      },
      {
       "output_type": "stream",
       "stream": "stderr",
       "text": [
        "INFO:phypno.ioeeg.ktlx:Reading existing file: /PHShome/gp902/projects/temp/Xxxxx~ Xxxxxx_e4323163-9106-4615-abdc-8b54b0d644b8_003.erd\n"
       ]
      },
      {
       "output_type": "stream",
       "stream": "stderr",
       "text": [
        "INFO:phypno.ioeeg.ktlx:Reading existing file: /PHShome/gp902/projects/temp/Xxxxx~ Xxxxxx_e4323163-9106-4615-abdc-8b54b0d644b8_003.erd\n"
       ]
      },
      {
       "output_type": "stream",
       "stream": "stderr",
       "text": [
        "INFO:phypno.ioeeg.ktlx:Reading existing file: /PHShome/gp902/projects/temp/Xxxxx~ Xxxxxx_e4323163-9106-4615-abdc-8b54b0d644b8_003.erd\n"
       ]
      },
      {
       "output_type": "stream",
       "stream": "stderr",
       "text": [
        "INFO:phypno.ioeeg.ktlx:Reading existing file: /PHShome/gp902/projects/temp/Xxxxx~ Xxxxxx_e4323163-9106-4615-abdc-8b54b0d644b8_003.erd\n"
       ]
      },
      {
       "output_type": "stream",
       "stream": "stderr",
       "text": [
        "INFO:phypno.ioeeg.ktlx:Reading existing file: /PHShome/gp902/projects/temp/Xxxxx~ Xxxxxx_e4323163-9106-4615-abdc-8b54b0d644b8_003.erd\n"
       ]
      },
      {
       "output_type": "stream",
       "stream": "stderr",
       "text": [
        "INFO:phypno.ioeeg.ktlx:Reading existing file: /PHShome/gp902/projects/temp/Xxxxx~ Xxxxxx_e4323163-9106-4615-abdc-8b54b0d644b8_003.erd\n"
       ]
      },
      {
       "output_type": "stream",
       "stream": "stderr",
       "text": [
        "INFO:phypno.ioeeg.ktlx:Reading existing file: /PHShome/gp902/projects/temp/Xxxxx~ Xxxxxx_e4323163-9106-4615-abdc-8b54b0d644b8_111.erd\n"
       ]
      },
      {
       "output_type": "stream",
       "stream": "stderr",
       "text": [
        "INFO:phypno.ioeeg.ktlx:Reading existing file: /PHShome/gp902/projects/temp/Xxxxx~ Xxxxxx_e4323163-9106-4615-abdc-8b54b0d644b8_114.erd\n"
       ]
      },
      {
       "output_type": "stream",
       "stream": "stderr",
       "text": [
        "INFO:phypno.ioeeg.ktlx:Reading existing file: /PHShome/gp902/projects/temp/Xxxxx~ Xxxxxx_e4323163-9106-4615-abdc-8b54b0d644b8_114.erd\n"
       ]
      },
      {
       "output_type": "stream",
       "stream": "stderr",
       "text": [
        "INFO:phypno.ioeeg.ktlx:Reading existing file: /PHShome/gp902/projects/temp/Xxxxx~ Xxxxxx_e4323163-9106-4615-abdc-8b54b0d644b8_114.erd\n"
       ]
      },
      {
       "output_type": "stream",
       "stream": "stderr",
       "text": [
        "INFO:phypno.ioeeg.ktlx:Reading existing file: /PHShome/gp902/projects/temp/Xxxxx~ Xxxxxx_e4323163-9106-4615-abdc-8b54b0d644b8_115.erd\n"
       ]
      },
      {
       "output_type": "stream",
       "stream": "stderr",
       "text": [
        "INFO:phypno.ioeeg.ktlx:Reading existing file: /PHShome/gp902/projects/temp/Xxxxx~ Xxxxxx_e4323163-9106-4615-abdc-8b54b0d644b8_115.erd\n"
       ]
      },
      {
       "output_type": "stream",
       "stream": "stderr",
       "text": [
        "INFO:phypno.ioeeg.ktlx:Reading existing file: /PHShome/gp902/projects/temp/Xxxxx~ Xxxxxx_e4323163-9106-4615-abdc-8b54b0d644b8_116.erd\n"
       ]
      },
      {
       "output_type": "stream",
       "stream": "stderr",
       "text": [
        "INFO:phypno.ioeeg.ktlx:Reading existing file: /PHShome/gp902/projects/temp/Xxxxx~ Xxxxxx_e4323163-9106-4615-abdc-8b54b0d644b8_116.erd\n"
       ]
      },
      {
       "output_type": "stream",
       "stream": "stderr",
       "text": [
        "INFO:phypno.ioeeg.ktlx:Reading existing file: /PHShome/gp902/projects/temp/Xxxxx~ Xxxxxx_e4323163-9106-4615-abdc-8b54b0d644b8_116.erd\n"
       ]
      },
      {
       "output_type": "stream",
       "stream": "stderr",
       "text": [
        "INFO:phypno.ioeeg.ktlx:Reading existing file: /PHShome/gp902/projects/temp/Xxxxx~ Xxxxxx_e4323163-9106-4615-abdc-8b54b0d644b8_116.erd\n"
       ]
      },
      {
       "output_type": "stream",
       "stream": "stderr",
       "text": [
        "INFO:phypno.ioeeg.ktlx:Reading existing file: /PHShome/gp902/projects/temp/Xxxxx~ Xxxxxx_e4323163-9106-4615-abdc-8b54b0d644b8_116.erd\n"
       ]
      },
      {
       "output_type": "stream",
       "stream": "stderr",
       "text": [
        "INFO:phypno.ioeeg.ktlx:Reading existing file: /PHShome/gp902/projects/temp/Xxxxx~ Xxxxxx_e4323163-9106-4615-abdc-8b54b0d644b8_116.erd\n"
       ]
      },
      {
       "output_type": "stream",
       "stream": "stderr",
       "text": [
        "INFO:phypno.ioeeg.ktlx:Reading existing file: /PHShome/gp902/projects/temp/Xxxxx~ Xxxxxx_e4323163-9106-4615-abdc-8b54b0d644b8_116.erd\n"
       ]
      },
      {
       "output_type": "stream",
       "stream": "stderr",
       "text": [
        "INFO:phypno.ioeeg.ktlx:Reading existing file: /PHShome/gp902/projects/temp/Xxxxx~ Xxxxxx_e4323163-9106-4615-abdc-8b54b0d644b8_116.erd\n"
       ]
      },
      {
       "output_type": "stream",
       "stream": "stderr",
       "text": [
        "INFO:phypno.ioeeg.ktlx:Reading existing file: /PHShome/gp902/projects/temp/Xxxxx~ Xxxxxx_e4323163-9106-4615-abdc-8b54b0d644b8_116.erd\n"
       ]
      },
      {
       "output_type": "stream",
       "stream": "stderr",
       "text": [
        "INFO:phypno.attr.scores:Loading /PHShome/gp902/recordings/MG72/doc/scores/MG72_eeg_xltek_sessA_d13_11_18_02_scores.xml\n"
       ]
      },
      {
       "metadata": {},
       "output_type": "pyout",
       "prompt_number": 29,
       "text": [
        "'/PHShome/gp902/recordings/MG72/eeg/raw/xltek/MG72_eeg_xltek_sessA_d09_07_47_00'"
       ]
      }
     ],
     "prompt_number": 29
    },
    {
     "cell_type": "markdown",
     "metadata": {},
     "source": [
      "Remember that **MG72** has flat channels (in the subfrontal grid) for part of the night"
     ]
    },
    {
     "cell_type": "code",
     "collapsed": false,
     "input": [
      "subj = 'MG72'\n",
      "\n",
      "from pickle import load\n",
      "from glob import glob\n",
      "from os.path import join\n",
      "from spgr.read_data import DATA_DIR, REC_FOLDER, STAGES\n",
      "\n",
      "stage = 'sleep'\n",
      "assert stage in STAGES.keys()\n",
      "\n",
      "subj_dir = join(DATA_DIR, subj, REC_FOLDER)\n",
      "filename = glob(join(subj_dir, '*_' + stage + '.pkl'))[0]  # possible multiple files\n",
      "\n",
      "with open(filename, 'rb') as f:\n",
      "    data = load(f)"
     ],
     "language": "python",
     "metadata": {},
     "outputs": [],
     "prompt_number": 32
    },
    {
     "cell_type": "code",
     "collapsed": false,
     "input": [
      "from phypno.detect import DetectSpindle\n",
      "\n",
      "detsp = DetectSpindle(frequency=(11, 18),\n",
      "                      method='hilbert', \n",
      "                      threshold='maxima', threshold_options={'peak_width': 2, 'select_width': 1},\n",
      "                      criteria={'duration': (0.5, 2)}\n",
      "                      )\n",
      "\n",
      "#                      criteria={'duration': (0.5, 2), 'peak_in_fft': {'length': 1}}\n",
      "#                      threshold='relative', threshold_options={'detection_value': 3, 'selection_value': 1},\n"
     ],
     "language": "python",
     "metadata": {},
     "outputs": [],
     "prompt_number": 33
    },
    {
     "cell_type": "code",
     "collapsed": false,
     "input": [
      "from phypno.trans import Select, Math\n",
      "\n",
      "select_one_trial = Select(trial=[1])\n",
      "one_trial_data = select_one_trial(data)"
     ],
     "language": "python",
     "metadata": {},
     "outputs": [],
     "prompt_number": 64
    },
    {
     "cell_type": "code",
     "collapsed": true,
     "input": [
      "from lsf import map_lsf\n",
      "\n",
      "lg = getLogger('lsf')\n",
      "lg.setLevel(INFO)\n",
      "\n",
      "def det_sp_in_one_epoch(one_trial):\n",
      "    select_one_trial = Select(trial=[one_trial])\n",
      "    one_trial_data = select_one_trial(data)\n",
      "    \n",
      "    calc_std = Math(operator_name='std', axis='time')\n",
      "    std_per_chan = calc_std(one_trial_data)\n",
      "    good_chan = where((std_per_chan(trial=0) > .001) & (std_per_chan(trial=0) < thresh))[0]\n",
      "    normal_chan = Select(chan=data.axis['chan'][0][good_chan])\n",
      "    \n",
      "    spindles = detsp(one_trial_data)\n",
      "    return spindles.spindle"
     ],
     "language": "python",
     "metadata": {},
     "outputs": [],
     "prompt_number": 65
    },
    {
     "cell_type": "code",
     "collapsed": false,
     "input": [
      "all_sp = map_lsf(det_sp_in_one_epoch, range(data.number_of('trial')), queue='short', \n",
      "                 variables={'data': data, 'detsp': detsp, 'thresh': 2}, \n",
      "                 imports={'phypno.trans': ('Math', 'Select'), 'numpy': 'where'})"
     ],
     "language": "python",
     "metadata": {},
     "outputs": [
      {
       "output_type": "stream",
       "stream": "stderr",
       "text": [
        "INFO:lsf:funct_gp902_p27836_b000003_det_sp_in_one_epoch_j000017 has finished\n"
       ]
      },
      {
       "output_type": "stream",
       "stream": "stderr",
       "text": [
        "INFO:lsf:funct_gp902_p27836_b000003_det_sp_in_one_epoch_j000021 has finished\n"
       ]
      },
      {
       "output_type": "stream",
       "stream": "stderr",
       "text": [
        "INFO:lsf:funct_gp902_p27836_b000003_det_sp_in_one_epoch_j000023 has finished\n"
       ]
      },
      {
       "output_type": "stream",
       "stream": "stderr",
       "text": [
        "INFO:lsf:funct_gp902_p27836_b000003_det_sp_in_one_epoch_j000027 has finished\n"
       ]
      },
      {
       "output_type": "stream",
       "stream": "stderr",
       "text": [
        "INFO:lsf:funct_gp902_p27836_b000003_det_sp_in_one_epoch_j000030 has finished\n"
       ]
      },
      {
       "output_type": "stream",
       "stream": "stderr",
       "text": [
        "INFO:lsf:funct_gp902_p27836_b000003_det_sp_in_one_epoch_j000034 has finished\n"
       ]
      },
      {
       "output_type": "stream",
       "stream": "stderr",
       "text": [
        "INFO:lsf:funct_gp902_p27836_b000003_det_sp_in_one_epoch_j000001 has finished\n"
       ]
      },
      {
       "output_type": "stream",
       "stream": "stderr",
       "text": [
        "INFO:lsf:funct_gp902_p27836_b000003_det_sp_in_one_epoch_j000003 has finished\n"
       ]
      },
      {
       "output_type": "stream",
       "stream": "stderr",
       "text": [
        "INFO:lsf:funct_gp902_p27836_b000003_det_sp_in_one_epoch_j000007 has finished\n"
       ]
      },
      {
       "output_type": "stream",
       "stream": "stderr",
       "text": [
        "INFO:lsf:funct_gp902_p27836_b000003_det_sp_in_one_epoch_j000009 has finished\n"
       ]
      },
      {
       "output_type": "stream",
       "stream": "stderr",
       "text": [
        "INFO:lsf:funct_gp902_p27836_b000003_det_sp_in_one_epoch_j000011 has finished\n"
       ]
      },
      {
       "output_type": "stream",
       "stream": "stderr",
       "text": [
        "INFO:lsf:funct_gp902_p27836_b000003_det_sp_in_one_epoch_j000013 has finished\n"
       ]
      },
      {
       "output_type": "stream",
       "stream": "stderr",
       "text": [
        "INFO:lsf:funct_gp902_p27836_b000003_det_sp_in_one_epoch_j000015 has finished\n"
       ]
      },
      {
       "output_type": "stream",
       "stream": "stderr",
       "text": [
        "INFO:lsf:funct_gp902_p27836_b000003_det_sp_in_one_epoch_j000018 has finished\n"
       ]
      },
      {
       "output_type": "stream",
       "stream": "stderr",
       "text": [
        "INFO:lsf:funct_gp902_p27836_b000003_det_sp_in_one_epoch_j000020 has finished\n"
       ]
      },
      {
       "output_type": "stream",
       "stream": "stderr",
       "text": [
        "INFO:lsf:funct_gp902_p27836_b000003_det_sp_in_one_epoch_j000024 has finished\n"
       ]
      },
      {
       "output_type": "stream",
       "stream": "stderr",
       "text": [
        "INFO:lsf:funct_gp902_p27836_b000003_det_sp_in_one_epoch_j000026 has finished\n"
       ]
      },
      {
       "output_type": "stream",
       "stream": "stderr",
       "text": [
        "INFO:lsf:funct_gp902_p27836_b000003_det_sp_in_one_epoch_j000029 has finished\n"
       ]
      },
      {
       "output_type": "stream",
       "stream": "stderr",
       "text": [
        "INFO:lsf:funct_gp902_p27836_b000003_det_sp_in_one_epoch_j000032 has finished\n"
       ]
      },
      {
       "output_type": "stream",
       "stream": "stderr",
       "text": [
        "INFO:lsf:funct_gp902_p27836_b000003_det_sp_in_one_epoch_j000035 has finished\n"
       ]
      },
      {
       "output_type": "stream",
       "stream": "stderr",
       "text": [
        "INFO:lsf:funct_gp902_p27836_b000003_det_sp_in_one_epoch_j000037 has finished\n"
       ]
      },
      {
       "output_type": "stream",
       "stream": "stderr",
       "text": [
        "INFO:lsf:funct_gp902_p27836_b000003_det_sp_in_one_epoch_j000039 has finished\n"
       ]
      },
      {
       "output_type": "stream",
       "stream": "stderr",
       "text": [
        "INFO:lsf:funct_gp902_p27836_b000003_det_sp_in_one_epoch_j000041 has finished\n"
       ]
      },
      {
       "output_type": "stream",
       "stream": "stderr",
       "text": [
        "INFO:lsf:funct_gp902_p27836_b000003_det_sp_in_one_epoch_j000043 has finished\n"
       ]
      },
      {
       "output_type": "stream",
       "stream": "stderr",
       "text": [
        "INFO:lsf:funct_gp902_p27836_b000003_det_sp_in_one_epoch_j000045 has finished\n"
       ]
      },
      {
       "output_type": "stream",
       "stream": "stderr",
       "text": [
        "INFO:lsf:funct_gp902_p27836_b000003_det_sp_in_one_epoch_j000047 has finished\n"
       ]
      },
      {
       "output_type": "stream",
       "stream": "stderr",
       "text": [
        "INFO:lsf:funct_gp902_p27836_b000003_det_sp_in_one_epoch_j000049 has finished\n"
       ]
      },
      {
       "output_type": "stream",
       "stream": "stderr",
       "text": [
        "INFO:lsf:funct_gp902_p27836_b000003_det_sp_in_one_epoch_j000051 has finished\n"
       ]
      },
      {
       "output_type": "stream",
       "stream": "stderr",
       "text": [
        "INFO:lsf:funct_gp902_p27836_b000003_det_sp_in_one_epoch_j000053 has finished\n"
       ]
      },
      {
       "output_type": "stream",
       "stream": "stderr",
       "text": [
        "INFO:lsf:funct_gp902_p27836_b000003_det_sp_in_one_epoch_j000055 has finished\n"
       ]
      },
      {
       "output_type": "stream",
       "stream": "stderr",
       "text": [
        "INFO:lsf:funct_gp902_p27836_b000003_det_sp_in_one_epoch_j000057 has finished\n"
       ]
      },
      {
       "output_type": "stream",
       "stream": "stderr",
       "text": [
        "INFO:lsf:funct_gp902_p27836_b000003_det_sp_in_one_epoch_j000059 has finished\n"
       ]
      },
      {
       "output_type": "stream",
       "stream": "stderr",
       "text": [
        "INFO:lsf:funct_gp902_p27836_b000003_det_sp_in_one_epoch_j000000 has finished\n"
       ]
      },
      {
       "output_type": "stream",
       "stream": "stderr",
       "text": [
        "INFO:lsf:funct_gp902_p27836_b000003_det_sp_in_one_epoch_j000004 has finished\n"
       ]
      },
      {
       "output_type": "stream",
       "stream": "stderr",
       "text": [
        "INFO:lsf:funct_gp902_p27836_b000003_det_sp_in_one_epoch_j000006 has finished\n"
       ]
      },
      {
       "output_type": "stream",
       "stream": "stderr",
       "text": [
        "INFO:lsf:funct_gp902_p27836_b000003_det_sp_in_one_epoch_j000010 has finished\n"
       ]
      },
      {
       "output_type": "stream",
       "stream": "stderr",
       "text": [
        "INFO:lsf:funct_gp902_p27836_b000003_det_sp_in_one_epoch_j000014 has finished\n"
       ]
      },
      {
       "output_type": "stream",
       "stream": "stderr",
       "text": [
        "INFO:lsf:funct_gp902_p27836_b000003_det_sp_in_one_epoch_j000019 has finished\n"
       ]
      },
      {
       "output_type": "stream",
       "stream": "stderr",
       "text": [
        "INFO:lsf:funct_gp902_p27836_b000003_det_sp_in_one_epoch_j000025 has finished\n"
       ]
      },
      {
       "output_type": "stream",
       "stream": "stderr",
       "text": [
        "INFO:lsf:funct_gp902_p27836_b000003_det_sp_in_one_epoch_j000031 has finished\n"
       ]
      },
      {
       "output_type": "stream",
       "stream": "stderr",
       "text": [
        "INFO:lsf:funct_gp902_p27836_b000003_det_sp_in_one_epoch_j000036 has finished\n"
       ]
      },
      {
       "output_type": "stream",
       "stream": "stderr",
       "text": [
        "INFO:lsf:funct_gp902_p27836_b000003_det_sp_in_one_epoch_j000040 has finished\n"
       ]
      },
      {
       "output_type": "stream",
       "stream": "stderr",
       "text": [
        "INFO:lsf:funct_gp902_p27836_b000003_det_sp_in_one_epoch_j000044 has finished\n"
       ]
      },
      {
       "output_type": "stream",
       "stream": "stderr",
       "text": [
        "INFO:lsf:funct_gp902_p27836_b000003_det_sp_in_one_epoch_j000048 has finished\n"
       ]
      },
      {
       "output_type": "stream",
       "stream": "stderr",
       "text": [
        "INFO:lsf:funct_gp902_p27836_b000003_det_sp_in_one_epoch_j000052 has finished\n"
       ]
      },
      {
       "output_type": "stream",
       "stream": "stderr",
       "text": [
        "INFO:lsf:funct_gp902_p27836_b000003_det_sp_in_one_epoch_j000056 has finished\n"
       ]
      },
      {
       "output_type": "stream",
       "stream": "stderr",
       "text": [
        "INFO:lsf:funct_gp902_p27836_b000003_det_sp_in_one_epoch_j000002 has finished\n"
       ]
      },
      {
       "output_type": "stream",
       "stream": "stderr",
       "text": [
        "INFO:lsf:funct_gp902_p27836_b000003_det_sp_in_one_epoch_j000008 has finished\n"
       ]
      },
      {
       "output_type": "stream",
       "stream": "stderr",
       "text": [
        "INFO:lsf:funct_gp902_p27836_b000003_det_sp_in_one_epoch_j000022 has finished\n"
       ]
      },
      {
       "output_type": "stream",
       "stream": "stderr",
       "text": [
        "INFO:lsf:funct_gp902_p27836_b000003_det_sp_in_one_epoch_j000033 has finished\n"
       ]
      },
      {
       "output_type": "stream",
       "stream": "stderr",
       "text": [
        "INFO:lsf:funct_gp902_p27836_b000003_det_sp_in_one_epoch_j000042 has finished\n"
       ]
      },
      {
       "output_type": "stream",
       "stream": "stderr",
       "text": [
        "INFO:lsf:funct_gp902_p27836_b000003_det_sp_in_one_epoch_j000050 has finished\n"
       ]
      },
      {
       "output_type": "stream",
       "stream": "stderr",
       "text": [
        "INFO:lsf:funct_gp902_p27836_b000003_det_sp_in_one_epoch_j000058 has finished\n"
       ]
      },
      {
       "output_type": "stream",
       "stream": "stderr",
       "text": [
        "INFO:lsf:funct_gp902_p27836_b000003_det_sp_in_one_epoch_j000005 has finished\n"
       ]
      },
      {
       "output_type": "stream",
       "stream": "stderr",
       "text": [
        "INFO:lsf:funct_gp902_p27836_b000003_det_sp_in_one_epoch_j000028 has finished\n"
       ]
      },
      {
       "output_type": "stream",
       "stream": "stderr",
       "text": [
        "INFO:lsf:funct_gp902_p27836_b000003_det_sp_in_one_epoch_j000046 has finished\n"
       ]
      },
      {
       "output_type": "stream",
       "stream": "stderr",
       "text": [
        "INFO:lsf:funct_gp902_p27836_b000003_det_sp_in_one_epoch_j000012 has finished\n"
       ]
      },
      {
       "output_type": "stream",
       "stream": "stderr",
       "text": [
        "INFO:lsf:funct_gp902_p27836_b000003_det_sp_in_one_epoch_j000038 has finished\n"
       ]
      },
      {
       "output_type": "stream",
       "stream": "stderr",
       "text": [
        "INFO:lsf:funct_gp902_p27836_b000003_det_sp_in_one_epoch_j000054 has finished\n"
       ]
      },
      {
       "output_type": "stream",
       "stream": "stderr",
       "text": [
        "INFO:lsf:funct_gp902_p27836_b000003_det_sp_in_one_epoch_j000016 has finished\n"
       ]
      },
      {
       "output_type": "stream",
       "stream": "stderr",
       "text": [
        "INFO:lsf:Wall Time: 69.09s, CPU time: 830.82s, speed-up: 12.03X\n"
       ]
      }
     ],
     "prompt_number": 66
    },
    {
     "cell_type": "code",
     "collapsed": false,
     "input": [
      "spindles = [x for sp in all_sp for x in sp]"
     ],
     "language": "python",
     "metadata": {},
     "outputs": [],
     "prompt_number": 84
    },
    {
     "cell_type": "code",
     "collapsed": false,
     "input": [
      "spindles = list(filter(lambda x: x['peak_val'] < 10, spindles))"
     ],
     "language": "python",
     "metadata": {},
     "outputs": [],
     "prompt_number": 85
    },
    {
     "cell_type": "code",
     "collapsed": false,
     "input": [
      "auc = [x['area_under_curve'] for x in spindles]\n",
      "\n",
      "dur = [x['end_time'] - x['start_time'] for x in spindles]\n",
      "peak = [x['peak_val'] for x in spindles]"
     ],
     "language": "python",
     "metadata": {},
     "outputs": [],
     "prompt_number": 86
    },
    {
     "cell_type": "code",
     "collapsed": false,
     "input": [
      "try:\n",
      "    from visvis import hist, plot, imshow\n",
      "except ImportError:\n",
      "    from matplotlib.pyplot import hist, plot, imshow\n",
      "    %matplotlib inline "
     ],
     "language": "python",
     "metadata": {},
     "outputs": [],
     "prompt_number": 43
    },
    {
     "cell_type": "code",
     "collapsed": false,
     "input": [
      "from matplotlib.pyplot import gca\n"
     ],
     "language": "python",
     "metadata": {},
     "outputs": [],
     "prompt_number": 100
    },
    {
     "cell_type": "code",
     "collapsed": false,
     "input": [
      "x_lim = (0, 2)\n",
      "hist(dur, range=x_lim, bins=50)\n",
      "gca().set_xlim(x_lim);"
     ],
     "language": "python",
     "metadata": {},
     "outputs": [
      {
       "metadata": {},
       "output_type": "display_data",
       "png": "[encoded data removed]",
       "text": [
        "<matplotlib.figure.Figure at 0x7f5b8b9a7310>"
       ]
      }
     ],
     "prompt_number": 102
    },
    {
     "cell_type": "code",
     "collapsed": false,
     "input": [
      "x_lim = (0, 5)\n",
      "hist(peak, range=x_lim, bins=50)\n",
      "gca().set_xlim(x_lim);"
     ],
     "language": "python",
     "metadata": {},
     "outputs": [
      {
       "metadata": {},
       "output_type": "display_data",
       "png": "[encoded data removed]",
       "text": [
        "<matplotlib.figure.Figure at 0x7f5b8c96b5d0>"
       ]
      }
     ],
     "prompt_number": 103
    },
    {
     "cell_type": "code",
     "collapsed": true,
     "input": [
      "x_lim = (0, 500)\n",
      "hist(auc, range=x_lim, bins=50)\n",
      "gca().set_xlim(x_lim);\n"
     ],
     "language": "python",
     "metadata": {},
     "outputs": [
      {
       "metadata": {},
       "output_type": "display_data",
       "png": "[encoded data removed]",
       "text": [
        "<matplotlib.figure.Figure at 0x7f5b8c44e390>"
       ]
      }
     ],
     "prompt_number": 104
    },
    {
     "cell_type": "code",
     "collapsed": false,
     "input": [
      "from numpy.random import uniform\n"
     ],
     "language": "python",
     "metadata": {},
     "outputs": []
    },
    {
     "cell_type": "code",
     "collapsed": false,
     "input": [
      "def estimate_overlap(s, e):\n",
      "    idx_sort = argsort(s)\n",
      "    s = s[idx_sort]\n",
      "    e = e[idx_sort]\n",
      "\n",
      "    s = expand_dims(asarray(s), 1)\n",
      "    e = expand_dims(asarray(e), 1)\n",
      "    overlap = (s <= e.T) & (s.T <= e)\n",
      "    return sum(overlap)"
     ],
     "language": "python",
     "metadata": {},
     "outputs": []
    },
    {
     "cell_type": "code",
     "collapsed": false,
     "input": [
      "s = asarray([x['start_time'] for x in spindles])\n",
      "e = asarray([x['end_time'] for x in spindles])\n",
      "\n",
      "# estimate_overlap(s, e)\n",
      "\n",
      "from os.path import basename, join\n",
      "savez(join(home, basename(xltek_file)), s, e)"
     ],
     "language": "python",
     "metadata": {},
     "outputs": []
    },
    {
     "cell_type": "code",
     "collapsed": false,
     "input": [
      "\n",
      "from joblib import Parallel, delayed\n",
      "\n",
      "def fake_dist(s, e, total_duration, i)\n",
      "    fake_s = uniform(0, total_duration, len(s))\n",
      "    fake_e = fake_s + (e - s)\n",
      "    return estimate_overlap(fake_s, fake_e)\n",
      "    \n",
      "dist = Parallel(n_jobs=12)(delayed(test)(10, i ** 2) for i in range(n_rpt))"
     ],
     "language": "python",
     "metadata": {},
     "outputs": []
    },
    {
     "cell_type": "code",
     "collapsed": false,
     "input": [
      "total_duration = sum([ptp(x) for x in sleep_data.axis['time']])    \n",
      "n_rpt = 10\n",
      "\n",
      "dist = zeros(n_rpt)\n",
      "for i in range(n_rpt):\n",
      "    fake_s = uniform(0, total_duration, len(spindles))\n",
      "    fake_e = fake_s + (e - s)\n",
      "    dist[i] = estimate_overlap(fake_s, fake_e)\n",
      "\n",
      "hist(dist)\n",
      "sum(estimate_overlap(s, e) <= dist) / n_rpt\n"
     ],
     "language": "python",
     "metadata": {},
     "outputs": []
    },
    {
     "cell_type": "code",
     "collapsed": false,
     "input": [
      "estimate_overlap(s, e)"
     ],
     "language": "python",
     "metadata": {},
     "outputs": []
    },
    {
     "cell_type": "code",
     "collapsed": false,
     "input": [
      "\n",
      "\n",
      "idx_sort = argsort(s)\n",
      "s = s[idx_sort]\n",
      "e = e[idx_sort]\n",
      "\n",
      "s = expand_dims(asarray(s), 1)\n",
      "e = expand_dims(asarray(e), 1)"
     ],
     "language": "python",
     "metadata": {},
     "outputs": []
    },
    {
     "cell_type": "code",
     "collapsed": false,
     "input": [
      "overlap = triu(((s <= e.T) & (s.T <= e)), 1)\n",
      "\n",
      "imshow(overlap)"
     ],
     "language": "python",
     "metadata": {},
     "outputs": []
    },
    {
     "cell_type": "code",
     "collapsed": false,
     "input": [
      "n_sp = overlap.shape[0]\n",
      "possible_overlap = (n_sp ** 2 - n_sp) / 2\n",
      "\n",
      "sum(overlap) / possible_overlap"
     ],
     "language": "python",
     "metadata": {},
     "outputs": []
    },
    {
     "cell_type": "code",
     "collapsed": false,
     "input": [
      "h= plot(s)\n",
      "h= plot(e)"
     ],
     "language": "python",
     "metadata": {},
     "outputs": []
    },
    {
     "cell_type": "code",
     "collapsed": false,
     "input": [],
     "language": "python",
     "metadata": {},
     "outputs": []
    },
    {
     "cell_type": "code",
     "collapsed": false,
     "input": [
      "hist(sum(overlap, 1), range(0, 20))\n",
      "\n"
     ],
     "language": "python",
     "metadata": {},
     "outputs": []
    }
   ],
   "metadata": {}
  }
 ]
}