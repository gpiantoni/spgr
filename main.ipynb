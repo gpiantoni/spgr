{
 "metadata": {
  "name": "",
  "signature": "sha256:b234023be30b305abdb6a161b0c141fd224e2310313a98c2c11e77bb9856416d"
 },
 "nbformat": 3,
 "nbformat_minor": 0,
 "worksheets": [
  {
   "cells": [
    {
     "cell_type": "heading",
     "level": 1,
     "metadata": {
      "slideshow": {
       "slide_type": "-"
      }
     },
     "source": [
      "SPGR"
     ]
    },
    {
     "cell_type": "heading",
     "level": 2,
     "metadata": {},
     "source": [
      "Introduction"
     ]
    },
    {
     "cell_type": "markdown",
     "metadata": {},
     "source": [
      "Detection of spindles on grid recordings TODO"
     ]
    },
    {
     "cell_type": "heading",
     "level": 2,
     "metadata": {},
     "source": [
      "Participants and Methods"
     ]
    },
    {
     "cell_type": "heading",
     "level": 3,
     "metadata": {},
     "source": [
      "[Selection of Patients and Read Data](read_sleep.ipynb)"
     ]
    },
    {
     "cell_type": "markdown",
     "metadata": {},
     "source": [
      "We selected patients with grid electrodes only from the MGH cohort.\n",
      "We excluded patients in which there was no period of sleep separated by at least 12 hours from a seizure."
     ]
    },
    {
     "cell_type": "markdown",
     "metadata": {},
     "source": [
      "We visually scored the recordings based on AASM2007, using information from the intracranial electrodes as well (f.e. if a spindle appeared in intracranial electrodes only but not in the scalp EEG, it was marked as NREM2).\n",
      "We made sure that we had at least one hour of recording for each patient.\n",
      "The hour didn't have to be uninterrupted, but it was always in the same night."
     ]
    },
    {
     "cell_type": "markdown",
     "metadata": {},
     "source": [
      "We selected recordings in NREM2.\n",
      "Bad channels (or channels with much noise) were visually rejected and excluded from the subsequent analysis.\n",
      "\n",
      "After removing noisy channels, we re-referenced to the average of the same electrode type.\n",
      "We then applied a high-pass filter at 1 Hz and a low-pass filter at 40 Hz.\n",
      "The recodings were resampled at 256 Hz.\n",
      "\n",
      "Data were then stored for further analysis."
     ]
    },
    {
     "cell_type": "code",
     "collapsed": false,
     "input": [],
     "language": "python",
     "metadata": {},
     "outputs": []
    },
    {
     "cell_type": "code",
     "collapsed": false,
     "input": [],
     "language": "python",
     "metadata": {},
     "outputs": []
    },
    {
     "cell_type": "heading",
     "level": 2,
     "metadata": {},
     "source": [
      "Additional Analyses"
     ]
    },
    {
     "cell_type": "heading",
     "level": 2,
     "metadata": {},
     "source": [
      "Selection of Patients and Read Data"
     ]
    },
    {
     "cell_type": "markdown",
     "metadata": {},
     "source": [
      "[Selection of 10 patients and save one hour of sleep at least](read_data.ipynb)"
     ]
    },
    {
     "cell_type": "heading",
     "level": 2,
     "metadata": {},
     "source": [
      "Detect Spindles"
     ]
    },
    {
     "cell_type": "markdown",
     "metadata": {},
     "source": [
      "There are multiple ways to [detect spindles](compare_spindle_detection.ipynb). \n",
      "The methods have not been compared systematically"
     ]
    },
    {
     "cell_type": "markdown",
     "metadata": {},
     "source": [
      "While some spindles are easy to detect, it's hard to define when they start and when they end. In fact, it seems that the spindling continues for some time."
     ]
    },
    {
     "cell_type": "heading",
     "level": 2,
     "metadata": {},
     "source": [
      "Peak Frequency"
     ]
    },
    {
     "cell_type": "markdown",
     "metadata": {},
     "source": [
      "Instead of detecting spindles as discrete events, we can look at the power in spindle frequency, by detecting its [peak_frequency](peak_frequency.ipynb)"
     ]
    },
    {
     "cell_type": "markdown",
     "metadata": {},
     "source": [
      "Some patients have very clear peaks in the power spectrum, most electrodes seem to have the same peak frequency. However, quite a few patients have peaks outside of the spindle band."
     ]
    },
    {
     "cell_type": "heading",
     "level": 2,
     "metadata": {},
     "source": [
      "Spindling Time"
     ]
    },
    {
     "cell_type": "markdown",
     "metadata": {},
     "source": [
      "How much time/percentage of time does each electrode [spend spindling](spindling_time.ipynb)"
     ]
    },
    {
     "cell_type": "markdown",
     "metadata": {},
     "source": [
      "Some channels have lots of spindling going on, but they are large differences between patients. Some electrodes have very few spindles, sleep was defined based on other factors as well, such as k-complex and slow wave"
     ]
    },
    {
     "cell_type": "heading",
     "level": 2,
     "metadata": {},
     "source": [
      "Cluster Similarity"
     ]
    },
    {
     "cell_type": "markdown",
     "metadata": {},
     "source": [
      "Create clusters based on cross-correlation similarities, and check how the [similarity within a cluster](cluster_similarity.ipynb) changes over time"
     ]
    }
   ],
   "metadata": {}
  }
 ]
}