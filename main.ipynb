{
 "metadata": {
  "name": "",
  "signature": "sha256:1b75811a51fc753b152cbdac024ad548fd2beaf262536b819ddc4253c2e856e8"
 },
 "nbformat": 3,
 "nbformat_minor": 0,
 "worksheets": [
  {
   "cells": [
    {
     "cell_type": "heading",
     "level": 1,
     "metadata": {
      "slideshow": {
       "slide_type": "-"
      }
     },
     "source": [
      "SPGR"
     ]
    },
    {
     "cell_type": "markdown",
     "metadata": {},
     "source": [
      "Running on **RGS03**"
     ]
    },
    {
     "cell_type": "code",
     "collapsed": false,
     "input": [
      "import version_control"
     ],
     "language": "python",
     "metadata": {},
     "outputs": [
      {
       "output_type": "stream",
       "stream": "stdout",
       "text": [
        "Last run on 2014-06-20 17:37:49.926332\n",
        "\n",
        "Phypno Version: f9a11275e24074ff922922b315a14fd30514c381\n",
        "\n",
        "Jinja2==2.7.2, MarkupSafe==0.18, Pillow==2.4.0, PyOpenGL==3.0.2, PyYAML==3.11, Pygments==1.6, backports.ssl-match-hostname==3.4.0.2, conda==3.5.5, ipython==2.1.0, nose==1.3.3, numpy==1.8.1, pycosat==0.6.1, pyzmq==14.3.0, requests==2.3.0, scipy==0.14.0, tornado==3.2.1, visvis==1.9, "
       ]
      },
      {
       "output_type": "stream",
       "stream": "stdout",
       "text": [
        "\n"
       ]
      }
     ],
     "prompt_number": 1
    },
    {
     "cell_type": "heading",
     "level": 2,
     "metadata": {},
     "source": [
      "Selection of Patients"
     ]
    },
    {
     "cell_type": "markdown",
     "metadata": {},
     "source": [
      "Select potential patients (because have grid electrodes and one scalp electrode), but not all the patients have their sleep scored."
     ]
    },
    {
     "cell_type": "code",
     "collapsed": false,
     "input": [
      "if False:\n",
      "    all_subj = sorted(listdir(rec_dir), reverse=True)\n",
      "else:\n",
      "    subj_with_grid_scalp = ('EM03', 'EM09', 'MG07', 'MG11', 'MG12', 'MG15', 'MG17', \n",
      "                            'MG29', 'MG31', 'MG32', 'MG33', 'MG37', 'MG42', 'MG45', \n",
      "                            'MG48', 'MG49', 'MG51', 'MG56', 'MG61', 'MG63', 'MG65', 'MG72')\n",
      "    not_in_rec = ('MG12', )\n",
      "    all_subj = set(subj_with_grid_scalp) - set(not_in_rec)"
     ],
     "language": "python",
     "metadata": {},
     "outputs": [],
     "prompt_number": 2
    },
    {
     "cell_type": "markdown",
     "metadata": {},
     "source": [
      "Check which sleep recordings have been scored, so select patients that have some scored sleep."
     ]
    },
    {
     "cell_type": "code",
     "collapsed": true,
     "input": [
      "from spgr.read_data import read_score_per_subj, get_chan_used_in_analysis\n",
      "\n",
      "recordings_with_scores = list(filter(None.__ne__, map(read_score_per_subj, sorted(all_subj))))\n",
      "\n",
      "all_subj = sorted([one_scored_file.split('/')[4] for one_scored_file in recordings_with_scores])\n",
      "print('\\t'.join(all_subj))"
     ],
     "language": "python",
     "metadata": {},
     "outputs": [
      {
       "output_type": "stream",
       "stream": "stderr",
       "text": [
        "WARNING:phypno.attr.anat:nibabel (optional dependency) is not installed. You will not be able to read Freesurfer annotations and segmentations.\n"
       ]
      },
      {
       "output_type": "stream",
       "stream": "stdout",
       "text": [
        "EM09\tMG17\tMG33\tMG37\tMG49\tMG51\tMG61\tMG63\tMG65\tMG72\n"
       ]
      }
     ],
     "prompt_number": 3
    },
    {
     "cell_type": "code",
     "collapsed": false,
     "input": [
      "from logging import getLogger, INFO, DEBUG\n",
      "lg = getLogger('spgr')\n",
      "lg.setLevel(DEBUG)"
     ],
     "language": "python",
     "metadata": {},
     "outputs": [],
     "prompt_number": 4
    },
    {
     "cell_type": "heading",
     "level": 2,
     "metadata": {},
     "source": [
      "Read Data"
     ]
    },
    {
     "cell_type": "markdown",
     "metadata": {},
     "source": [
      "Read only the periods containing sleep from the original data and store them in an accessible format for further analysis."
     ]
    },
    {
     "cell_type": "code",
     "collapsed": false,
     "input": [
      "for subj in all_subj:\n",
      "    read_score_per_subj(subj, True)"
     ],
     "language": "python",
     "metadata": {},
     "outputs": [
      {
       "output_type": "stream",
       "stream": "stderr",
       "text": [
        "INFO:spgr:EM09_eeg_xltek_sessA_d05_11_53_38_scores.xml\n"
       ]
      },
      {
       "output_type": "stream",
       "stream": "stderr",
       "text": [
        "INFO:spgr:    sleep has  62.0 min\n"
       ]
      },
      {
       "output_type": "stream",
       "stream": "stderr",
       "text": [
        "INFO:spgr:Enough epochs, saving data\n"
       ]
      },
      {
       "output_type": "stream",
       "stream": "stderr",
       "text": [
        "DEBUG:spgr:Channels values: m 45.257426, std 17.385318, min 4.670940, max 96.793045\n"
       ]
      },
      {
       "output_type": "stream",
       "stream": "stderr",
       "text": [
        "INFO:spgr:EM09_eeg_xltek_sessA_d06_08_05_47_scores.xml\n"
       ]
      },
      {
       "output_type": "stream",
       "stream": "stderr",
       "text": [
        "INFO:spgr:    sleep has  71.0 min\n"
       ]
      },
      {
       "output_type": "stream",
       "stream": "stderr",
       "text": [
        "INFO:spgr:MG17_eeg_xltek_sessA_d03_17_48_30_scores.xml\n"
       ]
      },
      {
       "output_type": "stream",
       "stream": "stderr",
       "text": [
        "INFO:spgr:    sleep has  90.0 min\n"
       ]
      },
      {
       "output_type": "stream",
       "stream": "stderr",
       "text": [
        "INFO:spgr:Enough epochs, saving data\n"
       ]
      },
      {
       "output_type": "stream",
       "stream": "stderr",
       "text": [
        "DEBUG:spgr:Channels values: m 83.383769, std 163.375161, min 2.524092, max 1666.655719\n"
       ]
      },
      {
       "output_type": "stream",
       "stream": "stderr",
       "text": [
        "INFO:spgr:MG33_eeg_xltek_sessA_d09_09_01_22_scores.xml\n"
       ]
      },
      {
       "output_type": "stream",
       "stream": "stderr",
       "text": [
        "INFO:spgr:    sleep has  94.5 min\n"
       ]
      },
      {
       "output_type": "stream",
       "stream": "stderr",
       "text": [
        "INFO:spgr:Enough epochs, saving data\n"
       ]
      },
      {
       "output_type": "stream",
       "stream": "stderr",
       "text": [
        "DEBUG:spgr:Channels values: m 51.468427, std 16.714514, min 29.196926, max 110.769930\n"
       ]
      },
      {
       "output_type": "stream",
       "stream": "stderr",
       "text": [
        "INFO:spgr:MG33_eeg_xltek_sessA_d07_09_46_30_scores.xml\n"
       ]
      },
      {
       "output_type": "stream",
       "stream": "stderr",
       "text": [
        "INFO:spgr:    sleep has   0.0 min\n"
       ]
      },
      {
       "output_type": "stream",
       "stream": "stderr",
       "text": [
        "INFO:spgr:MG37_eeg_xltek_sessA_d04_10_18_31_scores.xml\n"
       ]
      },
      {
       "output_type": "stream",
       "stream": "stderr",
       "text": [
        "INFO:spgr:    sleep has   0.0 min\n"
       ]
      },
      {
       "output_type": "stream",
       "stream": "stderr",
       "text": [
        "INFO:spgr:MG37_eeg_xltek_sessA_d03_12_18_14_scores.xml\n"
       ]
      },
      {
       "output_type": "stream",
       "stream": "stderr",
       "text": [
        "INFO:spgr:    sleep has  91.5 min\n"
       ]
      },
      {
       "output_type": "stream",
       "stream": "stderr",
       "text": [
        "INFO:spgr:Enough epochs, saving data\n"
       ]
      },
      {
       "output_type": "stream",
       "stream": "stderr",
       "text": [
        "DEBUG:spgr:Channels values: m 89.275219, std 24.355961, min 61.579447, max 201.517217\n"
       ]
      },
      {
       "output_type": "stream",
       "stream": "stderr",
       "text": [
        "INFO:spgr:MG49_eeg_xltek_sessA_d02_06_34_58_scores.xml\n"
       ]
      },
      {
       "output_type": "stream",
       "stream": "stderr",
       "text": [
        "INFO:spgr:    sleep has  121.5 min\n"
       ]
      },
      {
       "output_type": "stream",
       "stream": "stderr",
       "text": [
        "INFO:spgr:Enough epochs, saving data\n"
       ]
      },
      {
       "output_type": "stream",
       "stream": "stderr",
       "text": [
        "DEBUG:spgr:Channels values: m 37.459518, std 11.860972, min 23.030859, max 77.214883\n"
       ]
      },
      {
       "output_type": "stream",
       "stream": "stderr",
       "text": [
        "INFO:spgr:MG51_eeg_xltek_sessA_d09_06_39_53_scores.xml\n"
       ]
      },
      {
       "output_type": "stream",
       "stream": "stderr",
       "text": [
        "INFO:spgr:    sleep has   0.0 min\n"
       ]
      },
      {
       "output_type": "stream",
       "stream": "stderr",
       "text": [
        "INFO:spgr:MG51_eeg_xltek_sessA_d08_06_41_13_scores.xml\n"
       ]
      },
      {
       "output_type": "stream",
       "stream": "stderr",
       "text": [
        "INFO:spgr:    sleep has  83.5 min\n"
       ]
      },
      {
       "output_type": "stream",
       "stream": "stderr",
       "text": [
        "INFO:spgr:Enough epochs, saving data\n"
       ]
      },
      {
       "output_type": "stream",
       "stream": "stderr",
       "text": [
        "DEBUG:spgr:Channels values: m 120.048448, std 21.610510, min 51.808294, max 194.918286\n"
       ]
      },
      {
       "output_type": "stream",
       "stream": "stderr",
       "text": [
        "INFO:spgr:MG61_eeg_xltek_sessA_d02_17_28_06_scores.xml\n"
       ]
      },
      {
       "output_type": "stream",
       "stream": "stderr",
       "text": [
        "INFO:spgr:    sleep has   0.0 min\n"
       ]
      },
      {
       "output_type": "stream",
       "stream": "stderr",
       "text": [
        "INFO:spgr:MG61_eeg_xltek_sessA_d03_07_58_11_scores.xml\n"
       ]
      },
      {
       "output_type": "stream",
       "stream": "stderr",
       "text": [
        "INFO:spgr:    sleep has  97.0 min\n"
       ]
      },
      {
       "output_type": "stream",
       "stream": "stderr",
       "text": [
        "INFO:spgr:Enough epochs, saving data\n"
       ]
      },
      {
       "output_type": "stream",
       "stream": "stderr",
       "text": [
        "DEBUG:spgr:Channels values: m 50.906976, std 14.586662, min 24.783840, max 109.310444\n"
       ]
      },
      {
       "output_type": "stream",
       "stream": "stderr",
       "text": [
        "INFO:spgr:MG63_eeg_xltek_sessA_d00_17_38_33_scores.xml\n"
       ]
      },
      {
       "output_type": "stream",
       "stream": "stderr",
       "text": [
        "INFO:spgr:    sleep has   0.0 min\n"
       ]
      },
      {
       "output_type": "stream",
       "stream": "stderr",
       "text": [
        "INFO:spgr:MG63_eeg_xltek_sessA_d06_15_55_12_scores.xml\n"
       ]
      },
      {
       "output_type": "stream",
       "stream": "stderr",
       "text": [
        "INFO:spgr:    sleep has  102.0 min\n"
       ]
      },
      {
       "output_type": "stream",
       "stream": "stderr",
       "text": [
        "INFO:spgr:Enough epochs, saving data\n"
       ]
      },
      {
       "output_type": "stream",
       "stream": "stderr",
       "text": [
        "DEBUG:spgr:Channels values: m 48.069179, std 16.352318, min 17.441623, max 133.117276\n"
       ]
      },
      {
       "output_type": "stream",
       "stream": "stderr",
       "text": [
        "INFO:spgr:MG65_eeg_xltek_sessA_d06_13_23_20_scores.xml\n"
       ]
      },
      {
       "output_type": "stream",
       "stream": "stderr",
       "text": [
        "INFO:spgr:    sleep has   0.0 min\n"
       ]
      },
      {
       "output_type": "stream",
       "stream": "stderr",
       "text": [
        "INFO:spgr:MG65_eeg_xltek_sessA_d01_19_23_24_scores.xml\n"
       ]
      },
      {
       "output_type": "stream",
       "stream": "stderr",
       "text": [
        "INFO:spgr:    sleep has  75.5 min\n"
       ]
      },
      {
       "output_type": "stream",
       "stream": "stderr",
       "text": [
        "INFO:spgr:Enough epochs, saving data\n"
       ]
      },
      {
       "output_type": "stream",
       "stream": "stderr",
       "text": [
        "DEBUG:spgr:Channels values: m 119.085907, std 41.836661, min 20.565674, max 232.675700\n"
       ]
      },
      {
       "output_type": "stream",
       "stream": "stderr",
       "text": [
        "INFO:spgr:MG72_eeg_xltek_sessA_d08_12_08_30_scores.xml\n"
       ]
      },
      {
       "output_type": "stream",
       "stream": "stderr",
       "text": [
        "INFO:spgr:    sleep has  12.0 min\n"
       ]
      },
      {
       "output_type": "stream",
       "stream": "stderr",
       "text": [
        "INFO:spgr:MG72_eeg_xltek_sessA_d09_07_47_00_scores.xml\n"
       ]
      },
      {
       "output_type": "stream",
       "stream": "stderr",
       "text": [
        "INFO:spgr:    sleep has  94.5 min\n"
       ]
      },
      {
       "output_type": "stream",
       "stream": "stderr",
       "text": [
        "INFO:spgr:Enough epochs, saving data\n"
       ]
      },
      {
       "output_type": "stream",
       "stream": "stderr",
       "text": [
        "DEBUG:spgr:Channels values: m 111.031983, std 193.516041, min 0.000000, max 1304.407673\n"
       ]
      },
      {
       "output_type": "stream",
       "stream": "stderr",
       "text": [
        "INFO:spgr:MG72_eeg_xltek_sessA_d13_11_18_02_scores.xml\n"
       ]
      },
      {
       "output_type": "stream",
       "stream": "stderr",
       "text": [
        "INFO:spgr:    sleep has  18.5 min\n"
       ]
      }
     ],
     "prompt_number": 5
    },
    {
     "cell_type": "markdown",
     "metadata": {},
     "source": [
      "Load channel information for only the channels that were used in the analysis (grid channels)"
     ]
    },
    {
     "cell_type": "code",
     "collapsed": false,
     "input": [
      "all_chan = get_chan_used_in_analysis(all_subj)"
     ],
     "language": "python",
     "metadata": {},
     "outputs": []
    },
    {
     "cell_type": "markdown",
     "metadata": {},
     "source": [
      "Remember that **MG72** has flat channels (in the subfrontal grid) for part of the night"
     ]
    },
    {
     "cell_type": "heading",
     "level": 2,
     "metadata": {},
     "source": [
      "Detect Spindles"
     ]
    },
    {
     "cell_type": "code",
     "collapsed": true,
     "input": [
      "from multiprocessing import Pool"
     ],
     "language": "python",
     "metadata": {},
     "outputs": []
    },
    {
     "cell_type": "markdown",
     "metadata": {},
     "source": [
      "Detect spindles with a hybrid method: filter the data between 11 and 18 Hz, then take the envelope of the Hilbert transform. From this envelope, detect the peaks (\"maxima\"). In order to avoid to have multiple peaks close to each other, detect peaks every 3s (\"peak_width\"). To define the beginning of a spindle, start from the peak, and move backwards and find the trough (minimal value in the interval between the peak and peak-select_width, in this case 1s).\n",
      "\n",
      "To confirm that these are spindles, take the original signal, compute the power spectrum over a 1s window ('length', 1s because so we have 1Hz frequency resolution). The peak has to be between the frequency of interest (between 11 and 18 Hz)."
     ]
    },
    {
     "cell_type": "markdown",
     "metadata": {},
     "source": [
      "These recordings use the original reference (not referenced to the average, see \"ref_to_avg\")"
     ]
    },
    {
     "cell_type": "code",
     "collapsed": false,
     "input": [
      "from phypno.detect import DetectSpindle\n",
      "from spgr.detect_spindles import calc_spindle_values\n",
      "\n",
      "detsp = DetectSpindle(method='housestyle', frequency=(11, 18), duration=(0.5, 2))\n",
      "# detsp.psd_peak['use'] = False"
     ],
     "language": "python",
     "metadata": {},
     "outputs": []
    },
    {
     "cell_type": "code",
     "collapsed": false,
     "input": [
      "def calc_spindle(subj):\n",
      "    return calc_spindle_values(subj, detsp=detsp, ref_to_avg=False, lsf=True)\n",
      "\n",
      "with Pool(10) as pool:\n",
      "    all_info = pool.map(calc_spindle, all_subj)"
     ],
     "language": "python",
     "metadata": {},
     "outputs": []
    },
    {
     "cell_type": "heading",
     "level": 3,
     "metadata": {},
     "source": [
      "Plot Spindle Characteristics"
     ]
    },
    {
     "cell_type": "code",
     "collapsed": false,
     "input": [
      "%gui qt\n",
      "from spgr.plot_spindles import hist_values, plot_inline\n",
      "from IPython.display import Image\n",
      "all_spindles = [x['spindles'] for x in all_info]"
     ],
     "language": "python",
     "metadata": {},
     "outputs": []
    },
    {
     "cell_type": "code",
     "collapsed": false,
     "input": [
      "Image(hist_values(all_subj, all_info, lambda x: x['mean'], x_lim=(0, 30)))"
     ],
     "language": "python",
     "metadata": {},
     "outputs": []
    },
    {
     "cell_type": "code",
     "collapsed": false,
     "input": [
      "Image(hist_values(all_subj, all_spindles, lambda x: x['peak_val'], x_lim=(0, 300)))"
     ],
     "language": "python",
     "metadata": {},
     "outputs": []
    },
    {
     "cell_type": "heading",
     "level": 4,
     "metadata": {},
     "source": [
      "Duration"
     ]
    },
    {
     "cell_type": "markdown",
     "metadata": {},
     "source": [
      "Plot the distribution of spindles based on their duration. Because of the \"select_width\" parameter above, spindles cannot be longer than 2s (because the troughs can be max one second on each side of the peak).\n",
      "\n",
      "X-label is the duration in seconds, Y-label is the number of spindles. Each plot per patient."
     ]
    },
    {
     "cell_type": "code",
     "collapsed": false,
     "input": [
      "Image(hist_values(all_subj, all_spindles, lambda x: x['end_time'] - x['start_time'], x_lim=(0, 3)))"
     ],
     "language": "python",
     "metadata": {},
     "outputs": []
    },
    {
     "cell_type": "heading",
     "level": 4,
     "metadata": {},
     "source": [
      "Area Under Curve"
     ]
    },
    {
     "cell_type": "markdown",
     "metadata": {},
     "source": [
      "Plot the distribution of spindles based on the area under of the curve of the envelope of the hilbert transform. The units are <i>uV * s</i>."
     ]
    },
    {
     "cell_type": "code",
     "collapsed": true,
     "input": [
      "hist_values(all_subj, all_spindles, \n",
      "            lambda x: x['area_under_curve'], x_lim=(0, 200), nbin=1/2)"
     ],
     "language": "python",
     "metadata": {},
     "outputs": []
    },
    {
     "cell_type": "heading",
     "level": 4,
     "metadata": {},
     "source": [
      "Peak Value"
     ]
    },
    {
     "cell_type": "markdown",
     "metadata": {},
     "source": [
      "Plot the distribution of spindles based on the maximum value. Units are <i>uV</i>"
     ]
    },
    {
     "cell_type": "code",
     "collapsed": true,
     "input": [
      "hist_values(all_subj, all_spindles, \n",
      "            lambda x: x['peak_val'], x_lim=(0, 300), nbin=1/3)"
     ],
     "language": "python",
     "metadata": {},
     "outputs": []
    },
    {
     "cell_type": "heading",
     "level": 4,
     "metadata": {},
     "source": [
      "Peak Frequency"
     ]
    },
    {
     "cell_type": "markdown",
     "metadata": {},
     "source": [
      "Plot the distribution of spindles based on the peak frequency on a 1s long window, after removing 1/f noise by taking the first derivative. We excluded spindles that had a peak frequency outside of the frequency band of interest. Note that in most patients the peak forms a nice \"normal\" distribution. The exception is MG65, where the peak frequency of all the detected spindles was more widely distributed.\n",
      "\n",
      "Units should be uV^2 / Hz^2 (instead of uV^2 / Hz, because of the first derivative)"
     ]
    },
    {
     "cell_type": "code",
     "collapsed": false,
     "input": [
      "hist_values(all_subj, all_spindles, \n",
      "            lambda x: x['peak_freq'], x_lim=(0, 25), nbin=1)"
     ],
     "language": "python",
     "metadata": {},
     "outputs": []
    },
    {
     "cell_type": "heading",
     "level": 4,
     "metadata": {},
     "source": [
      "Distribution over Channels"
     ]
    },
    {
     "cell_type": "markdown",
     "metadata": {},
     "source": [
      "Show the distribution of the number of spindles on electrodes, based on their location on the cortex. This is very much work in progress. Based on MRI/CT and manual reconstruction, we have the 3D RAS coordinates of all the channels on the cortex. For the purposes of this visualization, I ignored the Right-Left coordinates. On the X-axis, you have the anterior-posterior values and on the Y-axis, you have the superior-inferior coordinates. If the X-axis goes from negative to positive values, it means that the grid was on the right hemisphere (such as EM09), and if the X-axis goes from positive to negative values, it means that the grid is on the left hemisphere (such as MG37).\n",
      "\n",
      "At the moment, this image does not show the anatomical landmarks, especially because the 3d projection of the cortical surface is not pretty at the moment. I'm working on it."
     ]
    },
    {
     "cell_type": "code",
     "collapsed": false,
     "input": [
      "topo_values(all_subj, all_chan, all_spindles,\n",
      "            lambda x: 1, take_mean=False)"
     ],
     "language": "python",
     "metadata": {},
     "outputs": []
    },
    {
     "cell_type": "markdown",
     "metadata": {},
     "source": [
      "Below we plot the mean duration of spindles for each electrode. Colors are between 0.5 and 2s. \"Holes\" in the plots indicate that some channels had no spindles.\n",
      "\n",
      "I understand that these plots are not really informative at the moment, but I thought it was interesting to show what I'm working on."
     ]
    },
    {
     "cell_type": "code",
     "collapsed": false,
     "input": [
      "topo_values(all_subj, all_chan, all_spindles,\n",
      "            lambda x: x['end_time'] - x['start_time'], take_mean=True, v_lim=(0.5, 2))"
     ],
     "language": "python",
     "metadata": {},
     "outputs": []
    },
    {
     "cell_type": "code",
     "collapsed": false,
     "input": [],
     "language": "python",
     "metadata": {},
     "outputs": []
    }
   ],
   "metadata": {}
  }
 ]
}