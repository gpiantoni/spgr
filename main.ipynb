{
 "metadata": {
  "name": "",
  "signature": "sha256:e53363636329be30793ebbfb38a14a12dbeb043e592e543a5682744e58960d1d"
 },
 "nbformat": 3,
 "nbformat_minor": 0,
 "worksheets": [
  {
   "cells": [
    {
     "cell_type": "heading",
     "level": 1,
     "metadata": {
      "slideshow": {
       "slide_type": "-"
      }
     },
     "source": [
      "SPGR"
     ]
    },
    {
     "cell_type": "heading",
     "level": 2,
     "metadata": {},
     "source": [
      "Methods"
     ]
    },
    {
     "cell_type": "heading",
     "level": 3,
     "metadata": {},
     "source": [
      "[ECoG Recordings](read_sleep.ipynb)"
     ]
    },
    {
     "cell_type": "heading",
     "level": 3,
     "metadata": {},
     "source": [
      "[Electrode Locations](electrode_locations.ipynb)"
     ]
    },
    {
     "cell_type": "heading",
     "level": 3,
     "metadata": {},
     "source": [
      "[Spindle Detection](spindle_detection_method.ipynb)"
     ]
    },
    {
     "cell_type": "heading",
     "level": 2,
     "metadata": {},
     "source": [
      "Results"
     ]
    },
    {
     "cell_type": "heading",
     "level": 3,
     "metadata": {},
     "source": [
      "[Spindle Properties: Descriptive](spindle_property.ipynb)"
     ]
    },
    {
     "cell_type": "heading",
     "level": 3,
     "metadata": {},
     "source": [
      "[Spindle Properties: Statistics](spindle_lmem.ipynb)"
     ]
    },
    {
     "cell_type": "heading",
     "level": 3,
     "metadata": {},
     "source": [
      "[Spatial Extent of Spindles](spindle_overlap.ipynb)"
     ]
    },
    {
     "cell_type": "heading",
     "level": 2,
     "metadata": {},
     "source": [
      "Additional Analyses"
     ]
    },
    {
     "cell_type": "heading",
     "level": 3,
     "metadata": {},
     "source": [
      "[Linear Mixed-Effect Models to ECoG](lmem_theory.ipynb)"
     ]
    },
    {
     "cell_type": "heading",
     "level": 3,
     "metadata": {},
     "source": [
      "[Wavelet Transform](wavelet.ipynb)"
     ]
    },
    {
     "cell_type": "heading",
     "level": 3,
     "metadata": {},
     "source": [
      "[Phase-Amplitude Movies](phase-ampl_movies.ipynb)"
     ]
    },
    {
     "cell_type": "heading",
     "level": 3,
     "metadata": {},
     "source": [
      "[Peak Frequency](peak_frequency.ipynb)"
     ]
    },
    {
     "cell_type": "heading",
     "level": 3,
     "metadata": {},
     "source": [
      "[Spindling Time](spindling_time.ipynb)"
     ]
    },
    {
     "cell_type": "heading",
     "level": 3,
     "metadata": {},
     "source": [
      "Probability"
     ]
    },
    {
     "cell_type": "markdown",
     "metadata": {},
     "source": [
      "Detect spindles, then see which spindles are together.\n",
      "When spindles are together, check for each channel if another channel has also a spindle. In this way, we can have a matrix of probability that another channels has a spindle."
     ]
    }
   ],
   "metadata": {}
  }
 ]
}