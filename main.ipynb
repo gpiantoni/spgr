{
 "metadata": {
  "name": "",
  "signature": "sha256:1136febca14c816c4f46fa2f0e67028f393b4d2d6b8be6de09b9c89c4b926d91"
 },
 "nbformat": 3,
 "nbformat_minor": 0,
 "worksheets": [
  {
   "cells": [
    {
     "cell_type": "heading",
     "level": 1,
     "metadata": {
      "slideshow": {
       "slide_type": "-"
      }
     },
     "source": [
      "SPGR"
     ]
    },
    {
     "cell_type": "markdown",
     "metadata": {},
     "source": [
      "Running on **RGS03**"
     ]
    },
    {
     "cell_type": "heading",
     "level": 2,
     "metadata": {},
     "source": [
      "Choose Good Patients"
     ]
    },
    {
     "cell_type": "code",
     "collapsed": false,
     "input": [
      "import version_control"
     ],
     "language": "python",
     "metadata": {},
     "outputs": [
      {
       "output_type": "stream",
       "stream": "stdout",
       "text": [
        "Last run on 2014-04-22 16:40:25.080341\n",
        "\n",
        "Phypno Version: d9de39ee0d4810ce48658f9d656f0a247346c290\n",
        "\n",
        "Jinja2==2.7.2, MarkupSafe==0.21, PyOpenGL==3.0.2, astroid==1.1.0, flake8==2.1.0, ipython==2.0.0, joblib==0.7.1, logilab-common==0.61.0, matplotlib==1.3.1, mccabe==0.2.1, nose==1.3.1, numpy==1.8.1, pep8==1.5.6, pyflakes==0.8.1, pylint==1.2.0, pyparsing==2.0.2, python-dateutil==2.2, pyzmq==14.2.0, scipy==0.13.3, six==1.6.1, tornado==3.2, visvis==1.9, "
       ]
      },
      {
       "output_type": "stream",
       "stream": "stdout",
       "text": [
        "\n"
       ]
      }
     ],
     "prompt_number": 1
    },
    {
     "cell_type": "code",
     "collapsed": false,
     "input": [
      "if False:\n",
      "    all_subj = sorted(listdir(rec_dir), reverse=True)\n",
      "else:\n",
      "    subj_with_grid_scalp = ('EM03', 'EM09', 'MG07', 'MG11', 'MG12', 'MG15', 'MG17', \n",
      "                            'MG29', 'MG31', 'MG32', 'MG33', 'MG37', 'MG42', 'MG45', \n",
      "                            'MG48', 'MG49', 'MG51', 'MG56', 'MG61', 'MG63', 'MG65', 'MG72')\n",
      "    not_in_rec = ('MG12', )\n",
      "    all_subj = set(subj_with_grid_scalp) - set(not_in_rec)"
     ],
     "language": "python",
     "metadata": {},
     "outputs": [],
     "prompt_number": 2
    },
    {
     "cell_type": "code",
     "collapsed": false,
     "input": [
      "from spgr.read_data import read_score_per_subj\n",
      "\n",
      "output = list(filter(None.__ne__, map(read_score_per_subj, all_subj)))\n",
      "print('\\n'.join(output))\n",
      "\n",
      "all_subj = ('EM09', 'MG37', 'MG51', 'MG63', 'MG65', 'MG72')"
     ],
     "language": "python",
     "metadata": {},
     "outputs": [
      {
       "output_type": "stream",
       "stream": "stderr",
       "text": [
        "WARNING:phypno.attr.anat:nibabel (optional dependency) is not installed. You will not be able to read Freesurfer annotations and segmentations.\n"
       ]
      },
      {
       "output_type": "stream",
       "stream": "stdout",
       "text": [
        "/PHShome/gp902/recordings/EM09/eeg/raw/xltek/EM09_eeg_xltek_sessA_d05_11_53_38\n",
        "/PHShome/gp902/recordings/MG37/eeg/raw/xltek/MG37_eeg_xltek_sessA_d03_12_18_14\n",
        "/PHShome/gp902/recordings/MG65/eeg/raw/xltek/MG65_eeg_xltek_sessA_d01_19_23_24\n",
        "/PHShome/gp902/recordings/MG72/eeg/raw/xltek/MG72_eeg_xltek_sessA_d09_07_47_00\n",
        "/PHShome/gp902/recordings/MG63/eeg/raw/xltek/MG63_eeg_xltek_sessA_d06_15_55_12\n",
        "/PHShome/gp902/recordings/MG51/eeg/raw/xltek/MG51_eeg_xltek_sessA_d08_06_41_13\n"
       ]
      }
     ],
     "prompt_number": 3
    },
    {
     "cell_type": "code",
     "collapsed": false,
     "input": [
      "from logging import getLogger, INFO, DEBUG\n",
      "lg = getLogger('spgr')\n",
      "lg.setLevel(INFO)"
     ],
     "language": "python",
     "metadata": {},
     "outputs": [],
     "prompt_number": 4
    },
    {
     "cell_type": "heading",
     "level": 2,
     "metadata": {},
     "source": [
      "Read Data"
     ]
    },
    {
     "cell_type": "code",
     "collapsed": false,
     "input": [
      "# for subj in all_subj:\n",
      "#    read_score_per_subj(subj, True)"
     ],
     "language": "python",
     "metadata": {},
     "outputs": [],
     "prompt_number": 5
    },
    {
     "cell_type": "markdown",
     "metadata": {},
     "source": [
      "Remember that **MG72** has flat channels (in the subfrontal grid) for part of the night"
     ]
    },
    {
     "cell_type": "heading",
     "level": 2,
     "metadata": {},
     "source": [
      "Detect Spindles"
     ]
    },
    {
     "cell_type": "code",
     "collapsed": true,
     "input": [
      "from multiprocessing import Pool\n",
      "from spgr.detect_spindles import calc_spindle_values\n",
      "from functools import partial"
     ],
     "language": "python",
     "metadata": {},
     "outputs": [],
     "prompt_number": 6
    },
    {
     "cell_type": "code",
     "collapsed": true,
     "input": [
      "%matplotlib inline\n",
      "from spgr.plot_spindles import hist_values"
     ],
     "language": "python",
     "metadata": {},
     "outputs": [],
     "prompt_number": 7
    },
    {
     "cell_type": "heading",
     "level": 3,
     "metadata": {},
     "source": [
      "Basic Parameters"
     ]
    },
    {
     "cell_type": "code",
     "collapsed": false,
     "input": [
      "detection_options = {'frequency': (11, 18),\n",
      "                      'method': 'hilbert',\n",
      "                      'threshold': 'maxima', \n",
      "                      'threshold_options': {'peak_width': 3, 'select_width': 1}\n",
      "                     } \n",
      "#                      criteria={'duration': (0.5, 2), 'peak_in_fft': {'length': 1}}\n",
      "#                      threshold='relative', threshold_options={'detection_value': 3, 'selection_value': 1},\n",
      "#                      'criteria': {'peak_in_fft': {'length': 1, 'dryrun': True}}\n",
      "\n",
      "\n",
      "calc_spindle = partial(calc_spindle_values, detection_options=detection_options)\n",
      "\n",
      "p = Pool(6)\n",
      "all_spindles = p.map(calc_spindle, all_subj)\n",
      "p.close()"
     ],
     "language": "python",
     "metadata": {},
     "outputs": []
    },
    {
     "cell_type": "heading",
     "level": 4,
     "metadata": {},
     "source": [
      "Duration"
     ]
    },
    {
     "cell_type": "code",
     "collapsed": false,
     "input": [
      "hist_values(all_subj, all_spindles, \n",
      "            lambda x: x['end_time'] - x['start_time'], x_lim=(0, 3), nbin=10)"
     ],
     "language": "python",
     "metadata": {},
     "outputs": []
    },
    {
     "cell_type": "heading",
     "level": 4,
     "metadata": {},
     "source": [
      "Area Under Curve"
     ]
    },
    {
     "cell_type": "code",
     "collapsed": true,
     "input": [
      "hist_values(all_subj, all_spindles, \n",
      "            lambda x: x['area_under_curve'], x_lim=(0, 500), nbin=1/10)"
     ],
     "language": "python",
     "metadata": {},
     "outputs": []
    },
    {
     "cell_type": "heading",
     "level": 4,
     "metadata": {},
     "source": [
      "Peak Value"
     ]
    },
    {
     "cell_type": "code",
     "collapsed": true,
     "input": [
      "hist_values(all_subj, all_spindles, \n",
      "            lambda x: x['peak_val'], x_lim=(0, 3), nbin=10)"
     ],
     "language": "python",
     "metadata": {},
     "outputs": []
    },
    {
     "cell_type": "heading",
     "level": 4,
     "metadata": {},
     "source": [
      "Peak Frequency"
     ]
    },
    {
     "cell_type": "code",
     "collapsed": false,
     "input": [
      "hist_values(all_subj, all_spindles, \n",
      "            lambda x: x['peak_freq'], x_lim=(0, 25), nbin=1)"
     ],
     "language": "python",
     "metadata": {},
     "outputs": []
    }
   ],
   "metadata": {}
  }
 ]
}