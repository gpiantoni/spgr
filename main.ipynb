{
 "metadata": {
  "name": "",
  "signature": "sha256:1b6b40ca35171078c5203e728869083fea7569557d74fec290a2c697bec5f59c"
 },
 "nbformat": 3,
 "nbformat_minor": 0,
 "worksheets": [
  {
   "cells": [
    {
     "cell_type": "heading",
     "level": 1,
     "metadata": {
      "slideshow": {
       "slide_type": "-"
      }
     },
     "source": [
      "SPGR"
     ]
    },
    {
     "cell_type": "heading",
     "level": 3,
     "metadata": {},
     "source": [
      "RGS03"
     ]
    },
    {
     "cell_type": "code",
     "collapsed": false,
     "input": [
      "import version_control"
     ],
     "language": "python",
     "metadata": {},
     "outputs": [
      {
       "output_type": "stream",
       "stream": "stdout",
       "text": [
        "Last run on 2014-04-21 12:09:14.860158\n",
        "\n",
        "Phypno Version: fb5d384e834e3d5a2a6c34aedfb1259fb8a27d43\n",
        "\n",
        "Jinja2==2.7.2, MarkupSafe==0.19, PyOpenGL==3.0.2, astroid==1.0.1, flake8==2.1.0, ipython==2.0.0, joblib==0.7.1, logilab-common==0.61.0, matplotlib==1.3.1, mccabe==0.2.1, nose==1.3.1, numpy==1.8.1, pep8==1.5.6, pyflakes==0.8.1, pylint==1.1.0, pyparsing==2.0.2, python-dateutil==2.2, pyzmq==14.1.1, scipy==0.13.3, six==1.6.1, tornado==3.2, "
       ]
      },
      {
       "output_type": "stream",
       "stream": "stdout",
       "text": [
        "\n"
       ]
      }
     ],
     "prompt_number": 1
    },
    {
     "cell_type": "code",
     "collapsed": false,
     "input": [
      "if False:\n",
      "    all_subj = sorted(listdir(rec_dir), reverse=True)\n",
      "else:\n",
      "    subj_with_grid_scalp = ('EM03', 'EM09', 'MG07', 'MG11', 'MG12', 'MG15', 'MG17', \n",
      "                            'MG29', 'MG31', 'MG32', 'MG33', 'MG37', 'MG42', 'MG45', \n",
      "                            'MG48', 'MG49', 'MG51', 'MG56', 'MG61', 'MG63', 'MG65', 'MG72')\n",
      "    not_in_rec = ('MG12', )\n",
      "    all_subj = set(subj_with_grid_scalp) - set(not_in_rec)"
     ],
     "language": "python",
     "metadata": {},
     "outputs": []
    },
    {
     "cell_type": "code",
     "collapsed": false,
     "input": [
      "from spgr.read_data import read_score_per_subj\n",
      "\n",
      "output = list(filter(None.__ne__, map(read_score_per_subj, all_subj)))\n",
      "output"
     ],
     "language": "python",
     "metadata": {},
     "outputs": []
    },
    {
     "cell_type": "code",
     "collapsed": false,
     "input": [
      "from logging import getLogger, INFO, DEBUG\n",
      "lg = getLogger('spgr')\n",
      "lg.setLevel(INFO)"
     ],
     "language": "python",
     "metadata": {},
     "outputs": []
    },
    {
     "cell_type": "code",
     "collapsed": false,
     "input": [
      "for subj in ('MG65', 'MG51', 'MG37', 'EM09', 'MG63', 'MG72'):\n",
      "    read_score_per_subj(subj, True)"
     ],
     "language": "python",
     "metadata": {},
     "outputs": []
    },
    {
     "cell_type": "markdown",
     "metadata": {},
     "source": [
      "Remember that **MG72** has flat channels (in the subfrontal grid) for part of the night"
     ]
    },
    {
     "cell_type": "code",
     "collapsed": false,
     "input": [
      "from phypno.detect import DetectSpindle\n",
      "\n",
      "detsp = DetectSpindle(frequency=(11, 18),\n",
      "                      method='hilbert', \n",
      "                      threshold='maxima', threshold_options={'peak_width': 2, 'select_width': 1},\n",
      "                      criteria={'duration': (0.5, 2)}\n",
      "                      )\n",
      "#                      criteria={'duration': (0.5, 2), 'peak_in_fft': {'length': 1}}\n",
      "#                      threshold='relative', threshold_options={'detection_value': 3, 'selection_value': 1},"
     ],
     "language": "python",
     "metadata": {},
     "outputs": [],
     "prompt_number": 2
    },
    {
     "cell_type": "code",
     "collapsed": true,
     "input": [
      "from phypno.trans import Select, Math\n",
      "from lsf import map_lsf\n",
      "\n",
      "\n",
      "\n",
      "   \"\"\"\n",
      "    SPINDLE_FOLDER = 'spindle'\n",
      "    spindle_dir = join(DATA_DIR, subj, SPINDLE_FOLDER)\n",
      "    if not exists(spindle_dir):\n",
      "        mkdir(spindle_dir)\n",
      "    spindle_file = join(spindle_dir, str(detsp) + '.pkl')\n",
      "    \"\"\"\n"
     ],
     "language": "python",
     "metadata": {},
     "outputs": [],
     "prompt_number": 6
    },
    {
     "cell_type": "code",
     "collapsed": false,
     "input": [
      "from pickle import load, dump\n",
      "from glob import glob\n",
      "from os import mkdir\n",
      "from os.path import join, exists\n",
      "from spgr.read_data import DATA_DIR, REC_FOLDER, STAGES\n",
      "\n",
      "\n",
      "def calc_spindle_values(subj):\n",
      "    \n",
      "    def det_sp_in_one_epoch(one_trial_data):\n",
      "        calc_std = Math(operator_name='std', axis='time')\n",
      "        std_per_chan = calc_std(one_trial_data)\n",
      "        good_chan = where((std_per_chan(trial=0) > .001) & (std_per_chan(trial=0) < thresh))[0]\n",
      "        normal_chan = Select(chan=one_trial_data.axis['chan'][0][good_chan])\n",
      "\n",
      "        spindles = detsp(one_trial_data)\n",
      "        return spindles.spindle\n",
      "\n",
      "    stage = 'sleep'\n",
      "    assert stage in STAGES.keys()\n",
      "\n",
      "    subj_dir = join(DATA_DIR, subj, REC_FOLDER)\n",
      "    data_file = glob(join(subj_dir, '*_' + stage + '.pkl'))[0]  # possible multiple files\n",
      "\n",
      "    with open(data_file, 'rb') as f:\n",
      "        data = load(f)\n",
      "    \n",
      "    all_sp = map_lsf(det_sp_in_one_epoch, iter(data),\n",
      "                     queue='vshort', \n",
      "                     variables={'detsp': detsp, 'thresh': 2}, \n",
      "                     imports={'phypno.trans': ('Math', 'Select'), 'numpy': 'where'})\n",
      "\n",
      "    spindles = [x for sp in all_sp for x in sp]\n",
      "    # spindles = list(filter(lambda x: x['peak_val'] < 10, spindles))\n",
      "    \n",
      "    return spindles\n"
     ],
     "language": "python",
     "metadata": {},
     "outputs": [],
     "prompt_number": 31
    },
    {
     "cell_type": "code",
     "collapsed": false,
     "input": [
      "from os import environ, pathsep, getcwd\n",
      "environ['PYTHONPATH'] = environ['PYTHONPATH'] + pathsep + getcwd()\n",
      "\n"
     ],
     "language": "python",
     "metadata": {},
     "outputs": [],
     "prompt_number": 25
    },
    {
     "cell_type": "code",
     "collapsed": false,
     "input": [
      "all_subj = ('MG65', 'MG51', 'MG37', 'EM09', 'MG63', 'MG72')\n",
      "\n",
      "from pickle import load, dump\n",
      "from glob import glob\n",
      "from os.path import join\n",
      "from spgr.read_data import DATA_DIR, REC_FOLDER, STAGES\n",
      "\n",
      "all_spindles1 = map_lsf(calc_spindle_values, all_subj,\n",
      "                     queue='short', \n",
      "                     variables={'detsp': detsp, 'thresh': 2}, \n",
      "                     imports={'glob': 'glob', 'os.path': 'join', 'spgr.read_data': ('DATA_DIR', 'REC_FOLDER', 'STAGES'),\n",
      "                              'phypno.trans': ('Math', 'Select'), 'numpy': 'where', 'lsf': 'map_lsf'})"
     ],
     "language": "python",
     "metadata": {},
     "outputs": [
      {
       "output_type": "stream",
       "stream": "stderr",
       "text": [
        "ERROR:lsf:funct_gp902_p33403_b000000_calc_spindle_values_j000005 has finished with error:\n",
        "nibabel (optional dependency) is not installed. You will not be able to read Freesurfer annotations and segmentations.\n",
        "Wall Time: 147.87s, CPU time: 690.27s, speed-up: 4.67X\n",
        "\n"
       ]
      },
      {
       "output_type": "stream",
       "stream": "stderr",
       "text": [
        "ERROR:lsf:funct_gp902_p33403_b000000_calc_spindle_values_j000001 has finished with error:\n",
        "nibabel (optional dependency) is not installed. You will not be able to read Freesurfer annotations and segmentations.\n",
        "Wall Time: 147.60s, CPU time: 655.92s, speed-up: 4.44X\n",
        "\n"
       ]
      },
      {
       "output_type": "stream",
       "stream": "stderr",
       "text": [
        "ERROR:lsf:funct_gp902_p33403_b000000_calc_spindle_values_j000000 has finished with error:\n",
        "nibabel (optional dependency) is not installed. You will not be able to read Freesurfer annotations and segmentations.\n",
        "Wall Time: 152.95s, CPU time: 708.80s, speed-up: 4.63X\n",
        "\n"
       ]
      },
      {
       "output_type": "stream",
       "stream": "stderr",
       "text": [
        "ERROR:lsf:funct_gp902_p33403_b000000_calc_spindle_values_j000003 has finished with error:\n",
        "nibabel (optional dependency) is not installed. You will not be able to read Freesurfer annotations and segmentations.\n",
        "Wall Time: 154.51s, CPU time: 775.35s, speed-up: 5.02X\n",
        "\n"
       ]
      },
      {
       "output_type": "stream",
       "stream": "stderr",
       "text": [
        "ERROR:lsf:funct_gp902_p33403_b000000_calc_spindle_values_j000002 has finished with error:\n",
        "nibabel (optional dependency) is not installed. You will not be able to read Freesurfer annotations and segmentations.\n",
        "Wall Time: 171.44s, CPU time: 784.39s, speed-up: 4.58X\n",
        "\n"
       ]
      },
      {
       "output_type": "stream",
       "stream": "stderr",
       "text": [
        "ERROR:lsf:funct_gp902_p33403_b000000_calc_spindle_values_j000004 has finished with error:\n",
        "nibabel (optional dependency) is not installed. You will not be able to read Freesurfer annotations and segmentations.\n",
        "Wall Time: 388.18s, CPU time: 3419.55s, speed-up: 8.81X\n",
        "\n"
       ]
      },
      {
       "output_type": "stream",
       "stream": "stderr",
       "text": [
        "WARNING:lsf:Wall Time: 405.10s, CPU time: 204.85s, speed-up: 0.51X\n"
       ]
      }
     ],
     "prompt_number": 35
    },
    {
     "cell_type": "code",
     "collapsed": false,
     "input": [
      "\n",
      "\n",
      "all_spindles = list(map(calc_spindle_values, all_subj))"
     ],
     "language": "python",
     "metadata": {},
     "outputs": [
      {
       "output_type": "stream",
       "stream": "stderr",
       "text": [
        "WARNING:lsf:Wall Time: 54.83s, CPU time: 659.15s, speed-up: 12.02X\n"
       ]
      },
      {
       "output_type": "stream",
       "stream": "stderr",
       "text": [
        "WARNING:lsf:Wall Time: 44.96s, CPU time: 627.26s, speed-up: 13.95X\n"
       ]
      },
      {
       "output_type": "stream",
       "stream": "stderr",
       "text": [
        "WARNING:lsf:Wall Time: 50.57s, CPU time: 810.64s, speed-up: 16.03X\n"
       ]
      },
      {
       "output_type": "stream",
       "stream": "stderr",
       "text": [
        "WARNING:lsf:Wall Time: 52.02s, CPU time: 754.07s, speed-up: 14.49X\n"
       ]
      },
      {
       "output_type": "stream",
       "stream": "stderr",
       "text": [
        "WARNING:lsf:Wall Time: 115.36s, CPU time: 3303.55s, speed-up: 28.64X\n"
       ]
      },
      {
       "output_type": "stream",
       "stream": "stderr",
       "text": [
        "WARNING:lsf:Wall Time: 50.14s, CPU time: 697.98s, speed-up: 13.92X\n"
       ]
      }
     ],
     "prompt_number": 11
    },
    {
     "cell_type": "code",
     "collapsed": true,
     "input": [
      "try:\n",
      "    from visvis import hist, plot, imshow\n",
      "except ImportError:\n",
      "    from matplotlib.pyplot import hist, plot, imshow, figure\n",
      "    %matplotlib inline\n",
      "    from matplotlib.pyplot import gca\n",
      "\n"
     ],
     "language": "python",
     "metadata": {},
     "outputs": [],
     "prompt_number": 16
    },
    {
     "cell_type": "code",
     "collapsed": false,
     "input": [
      "for spindles in all_spindles:\n",
      "    dur = [x['end_time'] - x['start_time'] for x in spindles]\n",
      "    figure()\n",
      "    x_lim = (0, 2)\n",
      "    hist(dur, range=x_lim, bins=50)\n",
      "    gca().set_xlim(x_lim);"
     ],
     "language": "python",
     "metadata": {},
     "outputs": [
      {
       "metadata": {},
       "output_type": "display_data",
       "png": "[encoded data removed]",
       "text": [
        "<matplotlib.figure.Figure at 0x7f0e6b4b4690>"
       ]
      },
      {
       "metadata": {},
       "output_type": "display_data",
       "png": "[encoded data removed]",
       "text": [
        "<matplotlib.figure.Figure at 0x7f0e6b4a39d0>"
       ]
      },
      {
       "metadata": {},
       "output_type": "display_data",
       "png": "[encoded data removed]",
       "text": [
        "<matplotlib.figure.Figure at 0x7f0e69cac3d0>"
       ]
      },
      {
       "metadata": {},
       "output_type": "display_data",
       "png": "[encoded data removed]",
       "text": [
        "<matplotlib.figure.Figure at 0x7f0e69cfd710>"
       ]
      },
      {
       "metadata": {},
       "output_type": "display_data",
       "png": "[encoded data removed]",
       "text": [
        "<matplotlib.figure.Figure at 0x7f0e6b45a590>"
       ]
      },
      {
       "metadata": {},
       "output_type": "display_data",
       "png": "[encoded data removed]",
       "text": [
        "<matplotlib.figure.Figure at 0x7f0e69e1e950>"
       ]
      }
     ],
     "prompt_number": 17
    },
    {
     "cell_type": "code",
     "collapsed": false,
     "input": [
      "for spindles in all_spindles:\n",
      "    auc = [x['area_under_curve'] for x in spindles]\n",
      "    figure()\n",
      "    x_lim = (0, 500)\n",
      "    hist(auc, range=x_lim, bins=50)\n",
      "    gca().set_xlim(x_lim);\n",
      "\n",
      "\n",
      "\n",
      "\n"
     ],
     "language": "python",
     "metadata": {},
     "outputs": [
      {
       "metadata": {},
       "output_type": "display_data",
       "png": "[encoded data removed]",
       "text": [
        "<matplotlib.figure.Figure at 0x7f0e69d3f890>"
       ]
      },
      {
       "metadata": {},
       "output_type": "display_data",
       "png": "[encoded data removed]",
       "text": [
        "<matplotlib.figure.Figure at 0x7f0e69dc0590>"
       ]
      },
      {
       "metadata": {},
       "output_type": "display_data",
       "png": "[encoded data removed]",
       "text": [
        "<matplotlib.figure.Figure at 0x7f0e69a38a90>"
       ]
      },
      {
       "metadata": {},
       "output_type": "display_data",
       "png": "[encoded data removed]",
       "text": [
        "<matplotlib.figure.Figure at 0x7f0e69d67450>"
       ]
      },
      {
       "metadata": {},
       "output_type": "display_data",
       "png": "[encoded data removed]",
       "text": [
        "<matplotlib.figure.Figure at 0x7f0e69b1ffd0>"
       ]
      },
      {
       "metadata": {},
       "output_type": "display_data",
       "png": "[encoded data removed]",
       "text": [
        "<matplotlib.figure.Figure at 0x7f0e69bd3b50>"
       ]
      }
     ],
     "prompt_number": 19
    },
    {
     "cell_type": "code",
     "collapsed": false,
     "input": [
      "\n",
      "auc = [x['area_under_curve'] for x in spindles]\n",
      "    peak = [x['peak_val'] for x in spindles]"
     ],
     "language": "python",
     "metadata": {},
     "outputs": []
    },
    {
     "cell_type": "code",
     "collapsed": false,
     "input": [
      "x_lim = (0, 2)\n",
      "hist(dur, range=x_lim, bins=50)\n",
      "gca().set_xlim(x_lim);"
     ],
     "language": "python",
     "metadata": {},
     "outputs": []
    },
    {
     "cell_type": "code",
     "collapsed": false,
     "input": [
      "x_lim = (0, 5)\n",
      "hist(peak, range=x_lim, bins=50)\n",
      "gca().set_xlim(x_lim);"
     ],
     "language": "python",
     "metadata": {},
     "outputs": []
    },
    {
     "cell_type": "code",
     "collapsed": true,
     "input": [
      "x_lim = (0, 500)\n",
      "hist(auc, range=x_lim, bins=50)\n",
      "gca().set_xlim(x_lim);\n"
     ],
     "language": "python",
     "metadata": {},
     "outputs": []
    },
    {
     "cell_type": "code",
     "collapsed": false,
     "input": [
      "from numpy.random import uniform\n"
     ],
     "language": "python",
     "metadata": {},
     "outputs": []
    },
    {
     "cell_type": "code",
     "collapsed": false,
     "input": [
      "def estimate_overlap(s, e):\n",
      "    idx_sort = argsort(s)\n",
      "    s = s[idx_sort]\n",
      "    e = e[idx_sort]\n",
      "\n",
      "    s = expand_dims(asarray(s), 1)\n",
      "    e = expand_dims(asarray(e), 1)\n",
      "    overlap = (s <= e.T) & (s.T <= e)\n",
      "    return sum(overlap)"
     ],
     "language": "python",
     "metadata": {},
     "outputs": []
    },
    {
     "cell_type": "code",
     "collapsed": false,
     "input": [
      "s = asarray([x['start_time'] for x in spindles])\n",
      "e = asarray([x['end_time'] for x in spindles])\n",
      "\n",
      "# estimate_overlap(s, e)\n",
      "\n",
      "from os.path import basename, join\n",
      "savez(join(home, basename(xltek_file)), s, e)"
     ],
     "language": "python",
     "metadata": {},
     "outputs": []
    },
    {
     "cell_type": "code",
     "collapsed": false,
     "input": [
      "\n",
      "from joblib import Parallel, delayed\n",
      "\n",
      "def fake_dist(s, e, total_duration, i)\n",
      "    fake_s = uniform(0, total_duration, len(s))\n",
      "    fake_e = fake_s + (e - s)\n",
      "    return estimate_overlap(fake_s, fake_e)\n",
      "    \n",
      "dist = Parallel(n_jobs=12)(delayed(test)(10, i ** 2) for i in range(n_rpt))"
     ],
     "language": "python",
     "metadata": {},
     "outputs": []
    },
    {
     "cell_type": "code",
     "collapsed": false,
     "input": [
      "total_duration = sum([ptp(x) for x in sleep_data.axis['time']])    \n",
      "n_rpt = 10\n",
      "\n",
      "dist = zeros(n_rpt)\n",
      "for i in range(n_rpt):\n",
      "    fake_s = uniform(0, total_duration, len(spindles))\n",
      "    fake_e = fake_s + (e - s)\n",
      "    dist[i] = estimate_overlap(fake_s, fake_e)\n",
      "\n",
      "hist(dist)\n",
      "sum(estimate_overlap(s, e) <= dist) / n_rpt\n"
     ],
     "language": "python",
     "metadata": {},
     "outputs": []
    },
    {
     "cell_type": "code",
     "collapsed": false,
     "input": [
      "estimate_overlap(s, e)"
     ],
     "language": "python",
     "metadata": {},
     "outputs": []
    },
    {
     "cell_type": "code",
     "collapsed": false,
     "input": [
      "\n",
      "\n",
      "idx_sort = argsort(s)\n",
      "s = s[idx_sort]\n",
      "e = e[idx_sort]\n",
      "\n",
      "s = expand_dims(asarray(s), 1)\n",
      "e = expand_dims(asarray(e), 1)"
     ],
     "language": "python",
     "metadata": {},
     "outputs": []
    },
    {
     "cell_type": "code",
     "collapsed": false,
     "input": [
      "overlap = triu(((s <= e.T) & (s.T <= e)), 1)\n",
      "\n",
      "imshow(overlap)"
     ],
     "language": "python",
     "metadata": {},
     "outputs": []
    },
    {
     "cell_type": "code",
     "collapsed": false,
     "input": [
      "n_sp = overlap.shape[0]\n",
      "possible_overlap = (n_sp ** 2 - n_sp) / 2\n",
      "\n",
      "sum(overlap) / possible_overlap"
     ],
     "language": "python",
     "metadata": {},
     "outputs": []
    },
    {
     "cell_type": "code",
     "collapsed": false,
     "input": [
      "h= plot(s)\n",
      "h= plot(e)"
     ],
     "language": "python",
     "metadata": {},
     "outputs": []
    },
    {
     "cell_type": "code",
     "collapsed": false,
     "input": [
      "def a(input1):\n",
      "    \n",
      "    def b(input2):\n",
      "        return input2 + 10\n",
      "    \n",
      "    return b(input1) * 2\n",
      "\n",
      "a(10)"
     ],
     "language": "python",
     "metadata": {},
     "outputs": [
      {
       "metadata": {},
       "output_type": "pyout",
       "prompt_number": 30,
       "text": [
        "40"
       ]
      }
     ],
     "prompt_number": 30
    },
    {
     "cell_type": "code",
     "collapsed": false,
     "input": [
      "hist(sum(overlap, 1), range(0, 20))\n",
      "\n"
     ],
     "language": "python",
     "metadata": {},
     "outputs": []
    }
   ],
   "metadata": {}
  }
 ]
}