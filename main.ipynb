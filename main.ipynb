{
 "metadata": {
  "name": "",
  "signature": "sha256:c3a11102f9039a6270d6d4db3bd36e4a3601a5f8524d4bf3b25511785ce8affc"
 },
 "nbformat": 3,
 "nbformat_minor": 0,
 "worksheets": [
  {
   "cells": [
    {
     "cell_type": "heading",
     "level": 1,
     "metadata": {
      "slideshow": {
       "slide_type": "-"
      }
     },
     "source": [
      "SPGR"
     ]
    },
    {
     "cell_type": "heading",
     "level": 3,
     "metadata": {},
     "source": [
      "CASHLAB03-deb"
     ]
    },
    {
     "cell_type": "code",
     "collapsed": false,
     "input": [
      "from datetime import datetime\n",
      "print('Last run on ' + str(datetime.now()) + '\\n')\n",
      "\n",
      "import phypno\n",
      "phypno_path = phypno.__path__[0] + '/../.git'\n",
      "\n",
      "phypno_ver = !git -C $phypno_path rev-parse HEAD\n",
      "print('Phypno Version: ' + phypno_ver[0])\n",
      "!pip freeze"
     ],
     "language": "python",
     "metadata": {},
     "outputs": [
      {
       "output_type": "stream",
       "stream": "stdout",
       "text": [
        "Last run on 2014-04-15 10:29:29.812070\n",
        "\n"
       ]
      },
      {
       "output_type": "stream",
       "stream": "stdout",
       "text": [
        "Phypno Version: f3679e76f31b8a685f23495e3a63388cfa057fd5\n"
       ]
      },
      {
       "output_type": "stream",
       "stream": "stdout",
       "text": [
        "Jinja2==2.7.2\r\n",
        "MarkupSafe==0.19\r\n",
        "PySide==1.2.1\r\n",
        "Pygments==1.6\r\n",
        "Sphinx==1.2.2\r\n",
        "docutils==0.11\r\n",
        "ipython==2.0.0\r\n",
        "nose==1.3.1\r\n",
        "numpy==1.8.1\r\n",
        "numpydoc==0.4\r\n",
        "pyzmq==14.1.1\r\n",
        "scipy==0.13.3\r\n",
        "tornado==3.2\r\n"
       ]
      }
     ],
     "prompt_number": 1
    },
    {
     "cell_type": "code",
     "collapsed": false,
     "input": [
      "from os import listdir, mkdir\n",
      "from os.path import isdir, join\n",
      "from pickle import dump\n",
      "\n",
      "from phypno import Dataset\n",
      "from phypno.attr import Scores\n",
      "from phypno.trans import Filter"
     ],
     "language": "python",
     "metadata": {},
     "outputs": [
      {
       "output_type": "stream",
       "stream": "stderr",
       "text": [
        "WARNING:phypno.attr.anat:nibabel (optional dependency) is not installed. You will not be able to read Freesurfer annotations and segmentations.\n"
       ]
      }
     ],
     "prompt_number": 2
    },
    {
     "cell_type": "code",
     "collapsed": false,
     "input": [
      "rec_dir = '/home/gio/recordings'\n",
      "score_path = 'doc/scores'\n",
      "sleep_stages = ('NREM2', 'NREM3')\n",
      "wake_stages = ('Wake', )\n",
      "\n",
      "data_dir = '/home/gio/projects/spgr/subjects'\n",
      "xltek_path = 'eeg/raw/xltek'\n",
      "MIN_EPOCHS = 60"
     ],
     "language": "python",
     "metadata": {},
     "outputs": [],
     "prompt_number": 9
    },
    {
     "cell_type": "code",
     "collapsed": false,
     "input": [
      "def save_wake_sleep_data(sleep_epochs, xltek_file, subj_dir):\n",
      "                         \n",
      "    d = Dataset(xltek_file)\n",
      "    start_time = [x['start_time'] for x in sleep_epochs]\n",
      "    end_time = [x['end_time'] for x in sleep_epochs]\n",
      "    gr_chan = d.header['chan_name'][:60]\n",
      "    sleep_data = d.read_data(begtime=start_time[:MIN_EPOCHS], endtime=end_time[:MIN_EPOCHS], chan=gr_chan)\n",
      "    start_time = [x['start_time'] for x in wake_epochs]\n",
      "    end_time = [x['end_time'] for x in wake_epochs]\n",
      "    wake_data = d.read_data(begtime=start_time[:MIN_EPOCHS], endtime=end_time[:MIN_EPOCHS], chan=gr_chan)\n",
      "\n",
      "    hp_filt = Filter(low_cut=1, s_freq=sleep_data.s_freq)\n",
      "    lp_filt = Filter(high_cut=40, s_freq=sleep_data.s_freq)\n",
      "        \n",
      "    if not isdir(subj_dir):\n",
      "        mkdir(subj_dir)\n",
      "    \n",
      "    sleep_file = join(subj_dir, 'sleep_data.pkl')\n",
      "    wake_file = join(subj_dir, 'wake_data.pkl')\n",
      "    \n",
      "    sleep_data = lp_filt(hp_filt(sleep_data))\n",
      "    wake_data = lp_filt(hp_filt(wake_data))\n",
      "    \n",
      "    dump(sleep_data, open(sleep_file, 'wb'))\n",
      "    dump(wake_data, open(wake_file, 'wb'))\n"
     ],
     "language": "python",
     "metadata": {},
     "outputs": [],
     "prompt_number": 7
    },
    {
     "cell_type": "code",
     "collapsed": false,
     "input": [
      "MG72\n",
      "MG65\t8x8\t7\t no\t MG65_eeg_xltek_sessA_d01_19_23_24\t no\n",
      "MG65_eeg_xltek_sessA_d06_13_23_20\t no\n",
      "MG63\t8x8, 8x4\tFpz\t no\t MG63_eeg_xltek_sessA_d00_17_38_33\t no\n",
      "MG63_eeg_xltek_sessA_d06_15_55_12\t yes\n",
      "MG61\t8x8, 8x4\t2\t\t MG61_eeg_xltek_sessA_d02_17_28_06\t no\n",
      "MG61_eeg_xltek_sessA_d03_07_58_11\t no\n",
      "MG56\t8x8\t3\t no\t MG56_eeg_xltek_sessA_d02_16_09_47\t no\n",
      "MG56_eeg_xltek_sessA_d08_06_38_19\t no\n",
      "MG51\t8x8\t7\t\t MG51_eeg_xltek_sessA_d08_06_41_13\t yes\n",
      "MG51_eeg_xltek_sessA_d09_06_39_53\t no\n",
      "MG49\t8x8\t9\t no\t MG49_eeg_xltek_sessA_d02_06_34_58\t no\n",
      "MG48\t8x8\t11\t\tmany SZ\n",
      "MG45\t8x8, 4x4\t7\t\tmany SZ\n",
      "MG42\t8x8\t12\t\tmany SZ\n",
      "MG37\t8x8, 4x5\t10/20\t\t MG37_eeg_xltek_sessA_d04_10_18_31\t yes\n",
      "MG37_eeg_xltek_sessA_d03_12_18_14\t yes\n",
      "MG33\t8x8\t6\t\t MG33_eeg_xltek_sessA_d07_09_46_30\t no\n",
      "MG33_eeg_xltek_sessA_d09_09_01_22\t no\n",
      "MG32\t8x8\t6\t\t\t\n",
      "MG31\t8x8\t7\t\t\t\n",
      "MG29\t8x8\t7\t\tmany SZ\n",
      "MG17\t8x8, 4x8\t3\t\t\t\n",
      "MG15\t grid\t 2\t\t\t\n",
      "MG12\t 2 grids?\t 2\t\t\t\n",
      "MG11\t 2 grids?\t 2\t\t\t\n",
      "MG07\t grid?\t 2?\t\t\t\n",
      "EM09\t8x8, 4x4\t7\t\t EM09_eeg_xltek_sessA_d05_11_53_38\t yes\n",
      "EM09_eeg_xltek_sessA_d06_08_05_47\t no\n",
      "EM03\t8x8\t3"
     ],
     "language": "python",
     "metadata": {},
     "outputs": []
    },
    {
     "cell_type": "code",
     "collapsed": false,
     "input": [
      "all_subj = sorted(listdir(rec_dir), reverse=True)\n",
      "subj_with_grid_scalp = ('EM03', 'EM09', 'MG07', 'MG11', 'MG12', 'MG15', 'MG17', \n",
      "                        'MG29', 'MG31', 'MG32', 'MG33', 'MG37', 'MG42', 'MG45', \n",
      "                        'MG48', 'MG49', 'MG51', 'MG56', 'MG61', 'MG63', 'MG65', 'MG72')\n",
      "not_in_rec = ('MG12', )\n",
      "\n",
      "\n",
      "all_subj = set(subj_with_grid_scalp) - set(not_in_rec)\n",
      "for subj in sorted(all_subj):\n",
      "    score_dir = join(rec_dir, subj, score_path)\n",
      "    all_xml = listdir(score_dir)\n",
      "    if all_xml:\n",
      "        ok_sleep = True  # save only one dataset per subject\n",
      "        for one_xml in all_xml:\n",
      "            score = Scores(join(score_dir, one_xml))\n",
      "            sleep_epochs = score.get_epochs(sleep_stages)\n",
      "            wake_epochs = score.get_epochs(wake_stages)\n",
      "\n",
      "            print('{0} has{1: 5.1f} minutes of {2} and{3: 5.1f} minutes of {4}.'\n",
      "                  ''.format(one_xml, len(sleep_epochs)/2, ', '.join(sleep_stages),\n",
      "                            len(wake_epochs)/2, ', '.join(wake_stages)))\n",
      "       \n",
      "            if len(sleep_epochs) >= MIN_EPOCHS and len(wake_epochs) >= MIN_EPOCHS and ok_sleep:\n",
      "                print('saving data for ' + subj)\n",
      "                xltek_file = join(rec_dir, subj, xltek_path, one_xml[:-11])\n",
      "                subj_dir = join(data_dir, subj)\n",
      "                # save_wake_sleep_data(sleep_epochs, xltek_file, subj_dir)\n",
      "                ok_sleep = False"
     ],
     "language": "python",
     "metadata": {},
     "outputs": [
      {
       "output_type": "stream",
       "stream": "stdout",
       "text": [
        "EM09_eeg_xltek_sessA_d05_11_53_38_scores.xml has 62.0 minutes of NREM2, NREM3 and 60.0 minutes of Wake.\n",
        "saving data for EM09\n",
        "EM09_eeg_xltek_sessA_d06_08_05_47_scores.xml has 71.0 minutes of NREM2, NREM3 and 44.5 minutes of Wake."
       ]
      },
      {
       "output_type": "stream",
       "stream": "stdout",
       "text": [
        "\n",
        "MG33_eeg_xltek_sessA_d09_09_01_22_scores.xml has  0.0 minutes of NREM2, NREM3 and  0.0 minutes of Wake."
       ]
      },
      {
       "output_type": "stream",
       "stream": "stdout",
       "text": [
        "\n",
        "MG33_eeg_xltek_sessA_d07_09_46_30_scores.xml has  0.0 minutes of NREM2, NREM3 and  0.0 minutes of Wake."
       ]
      },
      {
       "output_type": "stream",
       "stream": "stdout",
       "text": [
        "\n",
        "MG37_eeg_xltek_sessA_d04_10_18_31_scores.xml has  0.0 minutes of NREM2, NREM3 and 62.5 minutes of Wake.\n",
        "MG37_eeg_xltek_sessA_d03_12_18_14_scores.xml has 38.0 minutes of NREM2, NREM3 and 35.5 minutes of Wake."
       ]
      },
      {
       "output_type": "stream",
       "stream": "stdout",
       "text": [
        "\n",
        "saving data for MG37\n",
        "MG49_eeg_xltek_sessA_d02_06_34_58_scores.xml has  0.0 minutes of NREM2, NREM3 and  0.0 minutes of Wake."
       ]
      },
      {
       "output_type": "stream",
       "stream": "stdout",
       "text": [
        "\n",
        "MG51_eeg_xltek_sessA_d09_06_39_53_scores.xml has  0.0 minutes of NREM2, NREM3 and  0.0 minutes of Wake.\n",
        "MG51_eeg_xltek_sessA_d08_06_41_13_scores.xml has 83.5 minutes of NREM2, NREM3 and 62.0 minutes of Wake."
       ]
      },
      {
       "output_type": "stream",
       "stream": "stdout",
       "text": [
        "\n",
        "saving data for MG51\n",
        "MG56_eeg_xltek_sessA_d08_06_38_19_scores.xml has  0.0 minutes of NREM2, NREM3 and  0.0 minutes of Wake."
       ]
      },
      {
       "output_type": "stream",
       "stream": "stdout",
       "text": [
        "\n",
        "MG56_eeg_xltek_sessA_d02_16_09_47_scores.xml has  3.5 minutes of NREM2, NREM3 and  0.0 minutes of Wake.\n",
        "MG61_eeg_xltek_sessA_d02_17_28_06_scores.xml has  0.0 minutes of NREM2, NREM3 and  0.0 minutes of Wake."
       ]
      },
      {
       "output_type": "stream",
       "stream": "stdout",
       "text": [
        "\n",
        "MG61_eeg_xltek_sessA_d03_07_58_11_scores.xml has  0.0 minutes of NREM2, NREM3 and  0.0 minutes of Wake."
       ]
      },
      {
       "output_type": "stream",
       "stream": "stdout",
       "text": [
        "\n",
        "MG63_eeg_xltek_sessA_d00_17_38_33_scores.xml has  0.0 minutes of NREM2, NREM3 and  0.0 minutes of Wake.\n",
        "MG63_eeg_xltek_sessA_d06_15_55_12_scores.xml has 44.5 minutes of NREM2, NREM3 and 104.5 minutes of Wake."
       ]
      },
      {
       "output_type": "stream",
       "stream": "stdout",
       "text": [
        "\n",
        "saving data for MG63\n",
        "MG65_eeg_xltek_sessA_d06_13_23_20_scores.xml has  0.0 minutes of NREM2, NREM3 and  0.0 minutes of Wake.\n",
        "MG65_eeg_xltek_sessA_d01_19_23_24_scores.xml has  0.0 minutes of NREM2, NREM3 and  2.5 minutes of Wake."
       ]
      },
      {
       "output_type": "stream",
       "stream": "stdout",
       "text": [
        "\n",
        "MG72_eeg_xltek_sessA_d08_12_08_30_scores.xml has 12.0 minutes of NREM2, NREM3 and  0.0 minutes of Wake."
       ]
      },
      {
       "output_type": "stream",
       "stream": "stdout",
       "text": [
        "\n",
        "MG72_eeg_xltek_sessA_d09_07_47_00_scores.xml has 59.5 minutes of NREM2, NREM3 and 30.5 minutes of Wake.\n",
        "saving data for MG72\n",
        "MG72_eeg_xltek_sessA_d13_11_18_02_scores.xml has 18.5 minutes of NREM2, NREM3 and  5.5 minutes of Wake."
       ]
      },
      {
       "output_type": "stream",
       "stream": "stdout",
       "text": [
        "\n"
       ]
      }
     ],
     "prompt_number": 20
    },
    {
     "cell_type": "code",
     "collapsed": false,
     "input": [
      "!cd /home/gio/projects/spgr/subjects; tar -cvf spgr.tar.gz ."
     ],
     "language": "python",
     "metadata": {},
     "outputs": []
    },
    {
     "cell_type": "code",
     "collapsed": false,
     "input": [
      "!scp /home/gio/projects/spgr/subjects/spgr.tar.gz gp902@rgs03.research.partners.org:projects/spgr/subjects"
     ],
     "language": "python",
     "metadata": {},
     "outputs": []
    },
    {
     "cell_type": "code",
     "collapsed": false,
     "input": [
      "from subprocess import Popen\n",
      "\n",
      "script = '/home/gio/projects/spgr/scripts/methods_to_detect_spindle.py'\n",
      "\n",
      "for method in ('hilbert', ):\n",
      "    for freq0 in ('10', ):\n",
      "        for freq1 in ('17', '18'):\n",
      "            for thres_type in ('relative', ):\n",
      "                for thres_det in ('3', ):\n",
      "                    for thres_sel in ('2', ):\n",
      "                        for dur0 in ('0.5', ):\n",
      "                            for dur1 in ('2', ):\n",
      "                                for fft in ('0', ):\n",
      "                                    options = (method, freq0, freq1, thres_type, thres_det, thres_sel, dur0, dur1, fft)\n",
      "                                    # Popen(script + ' ' + ' '.join(options), shell=True)\n"
     ],
     "language": "python",
     "metadata": {},
     "outputs": []
    },
    {
     "cell_type": "heading",
     "level": 2,
     "metadata": {},
     "source": [
      "RGS03"
     ]
    },
    {
     "cell_type": "code",
     "collapsed": false,
     "input": [
      "from os import remove\n",
      "from os.path import join\n",
      "from subprocess import Popen as Popen_local\n",
      "from subprocess import PIPE\n",
      "from tempfile import mkdtemp\n",
      "from time import sleep\n",
      "\n",
      "output_dir = mkdtemp()\n",
      "output_dir = '/PHShome/gp902'\n",
      "\n",
      "class Popen():\n",
      "    \"\"\"\n",
      "    \n",
      "    Parameters\n",
      "    ----------\n",
      "    args, OK\n",
      "    \n",
      "    stdin=None\n",
      "    stdout=None\n",
      "    stderr=None, \n",
      "    \n",
      "    shell=False, \n",
      "    cwd=None, \n",
      "    env=None\n",
      "    \n",
      "    start_new_session=False\n",
      "    \n",
      "    # any other parameters will probably mess up Popen\n",
      "    memlim : memory limit in MB \n",
      "    queue : vshort\n",
      "    \n",
      "    Methods\n",
      "    -------\n",
      "    'args' \n",
      "    'communicate' : OK\n",
      "     'kill' : OK\n",
      "     'pid' : OK\n",
      "     'poll' : OK (I think)\n",
      "     'returncode',\n",
      "     'send_signal',\n",
      "     'stderr',\n",
      "     'stdin',\n",
      "     'stdout',\n",
      "     'terminate',\n",
      "     'universal_newlines',\n",
      "     'wait' : OK\n",
      " \n",
      "     \"\"\"\n",
      "    def __init__(self, args, queue='vshort', **kwargs):\n",
      "        self.pid = None\n",
      "        \n",
      "        #remove bad characters from jobname\n",
      "        self._jobname = ''.join([x if x.isalnum() else '_' for x in args])\n",
      "        \n",
      "        self._stdout = join(output_dir, 'stdout.txt')\n",
      "        self._stderr = join(output_dir, 'stderr.txt')\n",
      "\n",
      "        try:\n",
      "            remove(self._stdout)\n",
      "        except FileNotFoundError:\n",
      "            pass\n",
      "        try:\n",
      "            remove(self._stderr)\n",
      "        except FileNotFoundError:\n",
      "            pass\n",
      "        \n",
      "        cmd = []\n",
      "        cmd.append('bsub')\n",
      "        cmd.append('-q ' + queue)\n",
      "        cmd.append('-J ' + self._jobname)\n",
      "        cmd.append('-o ' + self._stdout)\n",
      "        cmd.append('-e ' + self._stderr)\n",
      "        self._cmd = ' '.join(cmd) + ' ' + args\n",
      "        \n",
      "        # use standard input\n",
      "        kwargs.update({'stdout': PIPE, 'stderr': PIPE})\n",
      "        self._kwargs = kwargs\n",
      "        \n",
      "        self._submit()\n",
      "        \n",
      "    def _submit(self):\n",
      "        pid_submit = Popen_local(self._cmd, shell=True, **self._kwargs)\n",
      "        \n",
      "        stdout, stderr = pid_submit.communicate()\n",
      "        # if stderr, raise exception\n",
      "        stdout = stdout.decode('utf-8')\n",
      "        self.pid = stdout[stdout.find('<')+1:stdout.find('>')]\n",
      "        \n",
      "    def communicate(self):\n",
      "        self.wait()\n",
      "        try:\n",
      "            with open(self._stdout, 'r') as f:\n",
      "                stdout = f.read()  # TODO: clean it up\n",
      "            with open(self._stderr, 'r') as f:\n",
      "                stderr = f.read()\n",
      "    \n",
      "            remove(self._stdout)\n",
      "            remove(self._stderr)\n",
      "        except FileNotFoundError:\n",
      "            stdout = stderr = None\n",
      "            \n",
      "        return stdout, stderr\n",
      "    \n",
      "    def poll(self):\n",
      "        poll = Popen_local('bjobs ' + self.pid, shell=True, stdout=PIPE)\n",
      "        status = poll.communicate()[0].decode('utf-8')\n",
      "        status = status[status.find('\\n')+1:]\n",
      "        return status.split()[2]\n",
      "            \n",
      "    def wait(self):\n",
      "        while True:\n",
      "            try:\n",
      "                sleep(0.1)\n",
      "                if self.poll() in ('DONE', 'EXIT'):\n",
      "                    break            \n",
      "            except KeyboardInterrupt:\n",
      "                self.kill()\n",
      "                break\n",
      "    \n",
      "    def kill(self):\n",
      "        Popen_local('bkill ' + self.pid, shell=True)\n",
      "        return self.communicate()\n"
     ],
     "language": "python",
     "metadata": {},
     "outputs": []
    },
    {
     "cell_type": "code",
     "collapsed": false,
     "input": [
      "# from subprocess import Popen\n",
      "\n",
      "script = '/PHShome/gp902/projects/spgr/scripts/detect_spindles.sh'\n",
      "\n",
      "all_p = []\n",
      "for method in ('hilbert', ):\n",
      "    for freq0 in ('8', '11', '12', '13', '14' ):\n",
      "        for freq1 in ('17', '18', '19', '20'):\n",
      "            for thres_type in ('relative', 'maxima'):\n",
      "                for thres_det in ('3', '2', '1'):\n",
      "                    for thres_sel in ('2', '1.5', '1', ):\n",
      "                        for dur0 in ('0.5', ):\n",
      "                            for dur1 in ('2', '5'):\n",
      "                                for fft in ('0', '1'):\n",
      "                                    options = (method, freq0, freq1, thres_type, thres_det, thres_sel, dur0, dur1, fft)\n",
      "                                    print(' '.join(options))\n",
      "                                    p = Popen(script + ' ' + ' '.join(options), queue='medium')\n",
      "                                    all_p.append(p)\n",
      "               "
     ],
     "language": "python",
     "metadata": {},
     "outputs": []
    },
    {
     "cell_type": "code",
     "collapsed": false,
     "input": [],
     "language": "python",
     "metadata": {},
     "outputs": []
    },
    {
     "cell_type": "code",
     "collapsed": false,
     "input": [
      "from subprocess import Popen\n",
      "Popen([script, ' '.join(options)])"
     ],
     "language": "python",
     "metadata": {},
     "outputs": []
    },
    {
     "cell_type": "code",
     "collapsed": false,
     "input": [
      "from json import load\n",
      "from numpy import asarray\n",
      "\n",
      "\n",
      "def test_sp_det(log_file):\n",
      "    if log_file[-6] == '0':\n",
      "        return 0\n",
      "    with open(log_file, 'r') as f:\n",
      "        j = load(f)\n",
      "    sp_in_w = []\n",
      "    sp_in_s = []\n",
      "\n",
      "    for one_subj in j['spindles']:\n",
      "        sp_in_w.append(one_subj['wake']['number'])\n",
      "        sp_in_s.append(one_subj['sleep']['number'])\n",
      "\n",
      "    return sum(asarray(sp_in_s) - asarray(sp_in_w) > 10) # + sum(asarray(sp_in_s) > 100)\n"
     ],
     "language": "python",
     "metadata": {},
     "outputs": []
    },
    {
     "cell_type": "code",
     "collapsed": false,
     "input": [
      "log_dir = '/PHShome/gp902/projects/spgr/group/log_detect_spindle'\n",
      "from os import listdir\n",
      "from os.path import join\n",
      "\n",
      "all_points = {}\n",
      "for one_log in listdir(log_dir):\n",
      "    log_file = join(log_dir, one_log)\n",
      "    all_points[one_log] = test_sp_det(log_file)"
     ],
     "language": "python",
     "metadata": {},
     "outputs": []
    },
    {
     "cell_type": "code",
     "collapsed": false,
     "input": [
      "for l, p in all_points.items():\n",
      "    if p >= 3:\n",
      "        print(l)"
     ],
     "language": "python",
     "metadata": {},
     "outputs": []
    },
    {
     "cell_type": "code",
     "collapsed": false,
     "input": [],
     "language": "python",
     "metadata": {},
     "outputs": []
    },
    {
     "cell_type": "code",
     "collapsed": false,
     "input": [
      "\n"
     ],
     "language": "python",
     "metadata": {},
     "outputs": []
    },
    {
     "cell_type": "code",
     "collapsed": false,
     "input": [],
     "language": "python",
     "metadata": {},
     "outputs": []
    }
   ],
   "metadata": {}
  }
 ]
}