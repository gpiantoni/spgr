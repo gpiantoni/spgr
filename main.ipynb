{
 "metadata": {
  "name": "",
  "signature": "sha256:3e66306b6cbeb82f6644e01800e742bf9144fb97d8c99382108e8ab6fdbde8d6"
 },
 "nbformat": 3,
 "nbformat_minor": 0,
 "worksheets": [
  {
   "cells": [
    {
     "cell_type": "heading",
     "level": 1,
     "metadata": {
      "slideshow": {
       "slide_type": "-"
      }
     },
     "source": [
      "SPGR"
     ]
    },
    {
     "cell_type": "heading",
     "level": 2,
     "metadata": {},
     "source": [
      "Introduction"
     ]
    },
    {
     "cell_type": "markdown",
     "metadata": {},
     "source": [
      "Sleep spindles are generated in the cortico-thalamic loop.\n",
      "But it is not clear where the thalamus generates spindles in specific regions at the time or if spindles appear on large parts of the cortex.\n",
      "Multiple EEG studies have tried to characterize the spatial extent of spindle activity but the spatial resolution is limited by the skull conductivity."
     ]
    },
    {
     "cell_type": "markdown",
     "metadata": {},
     "source": [
      "MEG recordings of spindles identified multiple generators of spindle activity, suggesting that spindles are heterogeneous phenomena that might affect different areas at the time [@Dehghani2010_generators]"
     ]
    },
    {
     "cell_type": "heading",
     "level": 2,
     "metadata": {},
     "source": [
      "Participants and Methods"
     ]
    },
    {
     "cell_type": "heading",
     "level": 3,
     "metadata": {},
     "source": [
      "[Selection of Patients and Read Data](read_sleep.ipynb)"
     ]
    },
    {
     "cell_type": "markdown",
     "metadata": {},
     "source": [
      "We selected patients with grid electrodes only from the MGH cohort.\n",
      "We excluded patients in which there was no period of sleep separated by at least 12 hours from a seizure."
     ]
    },
    {
     "cell_type": "markdown",
     "metadata": {},
     "source": [
      "We visually scored the recordings based on AASM2007, using information from the intracranial electrodes as well (f.e. if a spindle appeared in intracranial electrodes only but not in the scalp EEG, it was marked as NREM2).\n",
      "We made sure that we had at least one hour of recording for each patient.\n",
      "The hour didn't have to be uninterrupted, but it was always in the same night."
     ]
    },
    {
     "cell_type": "markdown",
     "metadata": {},
     "source": [
      "We selected recordings in NREM2.\n",
      "Bad channels (or channels with much noise) were visually rejected and excluded from the subsequent analysis.\n",
      "\n",
      "After removing noisy channels, we re-referenced to the average of the same electrode type.\n",
      "We then applied a high-pass filter at 1 Hz and a low-pass filter at 40 Hz.\n",
      "\n",
      "The sampling frequency was different for each patient, but in most cases it was 512 Hz (check this for all the patients).\n",
      "\n",
      "Data were then stored for further analysis."
     ]
    },
    {
     "cell_type": "heading",
     "level": 3,
     "metadata": {},
     "source": [
      "[Wavelet Transform](wavelet.ipynb)"
     ]
    },
    {
     "cell_type": "markdown",
     "metadata": {},
     "source": [
      "Recordings on the grid provide information with high spatial resolution.\n",
      "\n",
      "To obtain information of spindles in the time and frequency domains, we transformed the data using the wavelet transformation. \n",
      "The wavelets are clearly localized in time and frequency."
     ]
    },
    {
     "cell_type": "markdown",
     "metadata": {},
     "source": [
      "The wavelet had center frequency at 13 Hz (but maybe we need to adapt it to each electrode / patient after detecting the peak in spectrogram).\n",
      "The standard deviation in the frequency domain was 2 Hz, so that 95% of the power is concentrated between 9 and 17 Hz.\n",
      "The standard deviation in the time domain was conversevely 80 ms, so that 95% of the energy was in the window 320ms.\n",
      "Wavelets were normalized to have energy equal to 1."
     ]
    },
    {
     "cell_type": "markdown",
     "metadata": {},
     "source": [
      "Wavelets are localized in the spindle band in the frequency domain"
     ]
    },
    {
     "cell_type": "markdown",
     "metadata": {},
     "source": [
      "Recordings were scored on 30s epochs and the analysis was conducted on each epoch.\n",
      "Consecutive epochs were not concatenated (but maybe they should be)."
     ]
    },
    {
     "cell_type": "markdown",
     "metadata": {},
     "source": [
      "The wavelet transform transforms the signal into its real and imaginary part."
     ]
    },
    {
     "cell_type": "markdown",
     "metadata": {},
     "source": [
      "From the complex signal, we can obtain the absolute value (which is the instantenuous power) and the instantenous phase."
     ]
    },
    {
     "cell_type": "markdown",
     "metadata": {},
     "source": [
      "By taking the first derivative of the instaneous phase (which for a discrete signal is equal to taking the difference between consecutive points), we obtain the instaneous frequency.\n",
      "Discontinuities in the instaneous frequency indicates a phase reset."
     ]
    },
    {
     "cell_type": "markdown",
     "metadata": {},
     "source": [
      "It appears that the choice of the wavelet parameters can influence the position and charateristics of the discontinuities."
     ]
    },
    {
     "cell_type": "heading",
     "level": 2,
     "metadata": {},
     "source": [
      "Additional Analyses"
     ]
    },
    {
     "cell_type": "code",
     "collapsed": false,
     "input": [],
     "language": "python",
     "metadata": {},
     "outputs": []
    },
    {
     "cell_type": "heading",
     "level": 2,
     "metadata": {},
     "source": [
      "Detect Spindles"
     ]
    },
    {
     "cell_type": "markdown",
     "metadata": {},
     "source": [
      "There are multiple ways to [detect spindles](compare_spindle_detection.ipynb). \n",
      "The methods have not been compared systematically"
     ]
    },
    {
     "cell_type": "markdown",
     "metadata": {},
     "source": [
      "While some spindles are easy to detect, it's hard to define when they start and when they end. In fact, it seems that the spindling continues for some time."
     ]
    },
    {
     "cell_type": "heading",
     "level": 2,
     "metadata": {},
     "source": [
      "Peak Frequency"
     ]
    },
    {
     "cell_type": "markdown",
     "metadata": {},
     "source": [
      "Instead of detecting spindles as discrete events, we can look at the power in spindle frequency, by detecting its [peak_frequency](peak_frequency.ipynb)"
     ]
    },
    {
     "cell_type": "markdown",
     "metadata": {},
     "source": [
      "Some patients have very clear peaks in the power spectrum, most electrodes seem to have the same peak frequency. However, quite a few patients have peaks outside of the spindle band."
     ]
    },
    {
     "cell_type": "heading",
     "level": 2,
     "metadata": {},
     "source": [
      "Spindling Time"
     ]
    },
    {
     "cell_type": "markdown",
     "metadata": {},
     "source": [
      "How much time/percentage of time does each electrode [spend spindling](spindling_time.ipynb)"
     ]
    },
    {
     "cell_type": "markdown",
     "metadata": {},
     "source": [
      "Some channels have lots of spindling going on, but they are large differences between patients. Some electrodes have very few spindles, sleep was defined based on other factors as well, such as k-complex and slow wave"
     ]
    },
    {
     "cell_type": "heading",
     "level": 2,
     "metadata": {},
     "source": [
      "Cluster Similarity"
     ]
    },
    {
     "cell_type": "markdown",
     "metadata": {},
     "source": [
      "Create clusters based on cross-correlation similarities, and check how the [similarity within a cluster](cluster_similarity.ipynb) changes over time"
     ]
    }
   ],
   "metadata": {}
  }
 ]
}