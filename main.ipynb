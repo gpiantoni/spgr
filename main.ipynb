{
 "metadata": {
  "name": "",
  "signature": "sha256:2ea5d08135ce99eb1c0ce44f818e48b9453ff3c1716f25d6c6151391bade77f1"
 },
 "nbformat": 3,
 "nbformat_minor": 0,
 "worksheets": [
  {
   "cells": [
    {
     "cell_type": "heading",
     "level": 1,
     "metadata": {
      "slideshow": {
       "slide_type": "-"
      }
     },
     "source": [
      "SPGR"
     ]
    },
    {
     "cell_type": "markdown",
     "metadata": {},
     "source": [
      "Running on **RGS03**"
     ]
    },
    {
     "cell_type": "heading",
     "level": 2,
     "metadata": {},
     "source": [
      "Choose Good Patients"
     ]
    },
    {
     "cell_type": "code",
     "collapsed": false,
     "input": [
      "import version_control"
     ],
     "language": "python",
     "metadata": {},
     "outputs": []
    },
    {
     "cell_type": "code",
     "collapsed": false,
     "input": [
      "if False:\n",
      "    all_subj = sorted(listdir(rec_dir), reverse=True)\n",
      "else:\n",
      "    subj_with_grid_scalp = ('EM03', 'EM09', 'MG07', 'MG11', 'MG12', 'MG15', 'MG17', \n",
      "                            'MG29', 'MG31', 'MG32', 'MG33', 'MG37', 'MG42', 'MG45', \n",
      "                            'MG48', 'MG49', 'MG51', 'MG56', 'MG61', 'MG63', 'MG65', 'MG72')\n",
      "    not_in_rec = ('MG12', )\n",
      "    all_subj = set(subj_with_grid_scalp) - set(not_in_rec)"
     ],
     "language": "python",
     "metadata": {},
     "outputs": []
    },
    {
     "cell_type": "code",
     "collapsed": false,
     "input": [
      "from spgr.read_data import read_score_per_subj\n",
      "\n",
      "output = list(filter(None.__ne__, map(read_score_per_subj, all_subj)))\n",
      "print('\\n'.join(output))\n",
      "\n",
      "all_subj = ('EM09', 'MG37', 'MG51', 'MG63', 'MG65', 'MG72')"
     ],
     "language": "python",
     "metadata": {},
     "outputs": []
    },
    {
     "cell_type": "code",
     "collapsed": false,
     "input": [
      "from logging import getLogger, INFO, DEBUG\n",
      "lg = getLogger('spgr')\n",
      "lg.setLevel(INFO)"
     ],
     "language": "python",
     "metadata": {},
     "outputs": []
    },
    {
     "cell_type": "heading",
     "level": 2,
     "metadata": {},
     "source": [
      "Read Data"
     ]
    },
    {
     "cell_type": "code",
     "collapsed": false,
     "input": [
      "# for subj in all_subj:\n",
      "#    read_score_per_subj(subj, True)"
     ],
     "language": "python",
     "metadata": {},
     "outputs": []
    },
    {
     "cell_type": "heading",
     "level": 2,
     "metadata": {},
     "source": [
      "Detect Spindles"
     ]
    },
    {
     "cell_type": "code",
     "collapsed": false,
     "input": [
      "from multiprocessing import Pool\n",
      "from spgr.detect_spindles import calc_spindle_values"
     ],
     "language": "python",
     "metadata": {},
     "outputs": []
    },
    {
     "cell_type": "code",
     "collapsed": true,
     "input": [
      "%matplotlib inline\n",
      "from spgr.plot_spindles import hist_values"
     ],
     "language": "python",
     "metadata": {},
     "outputs": []
    },
    {
     "cell_type": "heading",
     "level": 3,
     "metadata": {},
     "source": [
      "Parameters to detect spindles"
     ]
    },
    {
     "cell_type": "code",
     "collapsed": false,
     "input": [
      "detection_options = {'frequency': (7, 23),\n",
      "                      'method': 'hilbert',\n",
      "                      'threshold': 'maxima', \n",
      "                      'threshold_options': {'peak_width': 4, 'select_width': 1},\n",
      "                      'criteria': {'peak_in_fft': {'length': 1, 'dryrun': False}}\n",
      "                     } \n",
      "\n",
      "#                      method='hilbert', \n",
      "#                      criteria={'duration': (0.5, 2), 'peak_in_fft': {'length': 1}}\n",
      "#                      threshold='relative', threshold_options={'detection_value': 3, 'selection_value': 1},\n",
      "\n",
      "p = Pool(6)\n",
      "all_spindles = p.map(calc_spindle_values, all_subj)\n",
      "p.close()"
     ],
     "language": "python",
     "metadata": {},
     "outputs": []
    },
    {
     "cell_type": "markdown",
     "metadata": {},
     "source": [
      "Remember that **MG72** has flat channels (in the subfrontal grid) for part of the night"
     ]
    },
    {
     "cell_type": "heading",
     "level": 4,
     "metadata": {},
     "source": [
      "Duration"
     ]
    },
    {
     "cell_type": "code",
     "collapsed": false,
     "input": [
      "hist_values(all_subj, all_spindles, \n",
      "            lambda x: x['end_time'] - x['start_time'], x_lim=(0, 3), nbin=10)"
     ],
     "language": "python",
     "metadata": {},
     "outputs": []
    },
    {
     "cell_type": "heading",
     "level": 4,
     "metadata": {},
     "source": [
      "Area Under Curve"
     ]
    },
    {
     "cell_type": "code",
     "collapsed": true,
     "input": [
      "hist_values(all_subj, all_spindles, \n",
      "            lambda x: x['area_under_curve'], x_lim=(0, 500), nbin=1/10)"
     ],
     "language": "python",
     "metadata": {},
     "outputs": []
    },
    {
     "cell_type": "heading",
     "level": 4,
     "metadata": {},
     "source": [
      "Peak Value"
     ]
    },
    {
     "cell_type": "code",
     "collapsed": true,
     "input": [
      "hist_values(all_subj, all_spindles, \n",
      "            lambda x: x['peak_val'], x_lim=(0, 3), nbin=10)"
     ],
     "language": "python",
     "metadata": {},
     "outputs": []
    },
    {
     "cell_type": "heading",
     "level": 4,
     "metadata": {},
     "source": [
      "Peak Frequency"
     ]
    },
    {
     "cell_type": "code",
     "collapsed": false,
     "input": [
      "hist_values(all_subj, all_spindles, \n",
      "            lambda x: x['peak_freq'], x_lim=(0, 25), nbin=1)"
     ],
     "language": "python",
     "metadata": {},
     "outputs": []
    }
   ],
   "metadata": {}
  }
 ]
}