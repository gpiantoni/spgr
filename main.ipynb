{
 "metadata": {
  "name": "",
  "signature": "sha256:9cc1fe4c45d4a49f6abe826b535d5aeb5d663d00f63a03ccdea0aff64885f618"
 },
 "nbformat": 3,
 "nbformat_minor": 0,
 "worksheets": [
  {
   "cells": [
    {
     "cell_type": "heading",
     "level": 1,
     "metadata": {
      "slideshow": {
       "slide_type": "-"
      }
     },
     "source": [
      "SPGR"
     ]
    },
    {
     "cell_type": "markdown",
     "metadata": {},
     "source": [
      "Running on **CASHLAB03**"
     ]
    },
    {
     "cell_type": "heading",
     "level": 2,
     "metadata": {},
     "source": [
      "Choose Good Patients"
     ]
    },
    {
     "cell_type": "code",
     "collapsed": false,
     "input": [
      "import version_control"
     ],
     "language": "python",
     "metadata": {},
     "outputs": []
    },
    {
     "cell_type": "code",
     "collapsed": false,
     "input": [
      "if False:\n",
      "    all_subj = sorted(listdir(rec_dir), reverse=True)\n",
      "else:\n",
      "    subj_with_grid_scalp = ('EM03', 'EM09', 'MG07', 'MG11', 'MG12', 'MG15', 'MG17', \n",
      "                            'MG29', 'MG31', 'MG32', 'MG33', 'MG37', 'MG42', 'MG45', \n",
      "                            'MG48', 'MG49', 'MG51', 'MG56', 'MG61', 'MG63', 'MG65', 'MG72')\n",
      "    not_in_rec = ('MG12', )\n",
      "    all_subj = set(subj_with_grid_scalp) - set(not_in_rec)"
     ],
     "language": "python",
     "metadata": {},
     "outputs": []
    },
    {
     "cell_type": "code",
     "collapsed": false,
     "input": [
      "from spgr.read_data import read_score_per_subj, get_chan_used_in_analysis\n",
      "\n",
      "output = list(filter(None.__ne__, map(read_score_per_subj, all_subj)))\n",
      "print('\\n'.join(output))\n",
      "\n",
      "all_subj = ('EM09', 'MG37', 'MG51', 'MG63', 'MG65', 'MG72')"
     ],
     "language": "python",
     "metadata": {},
     "outputs": []
    },
    {
     "cell_type": "code",
     "collapsed": false,
     "input": [
      "from logging import getLogger, INFO, DEBUG\n",
      "lg = getLogger('spgr')\n",
      "lg.setLevel(INFO)\n",
      "\n",
      "lg = getLogger('phypno')\n",
      "lg.setLevel(INFO)"
     ],
     "language": "python",
     "metadata": {},
     "outputs": []
    },
    {
     "cell_type": "heading",
     "level": 2,
     "metadata": {},
     "source": [
      "Read Data"
     ]
    },
    {
     "cell_type": "code",
     "collapsed": false,
     "input": [
      "# for subj in all_subj:\n",
      "#    read_score_per_subj(subj, True)"
     ],
     "language": "python",
     "metadata": {},
     "outputs": []
    },
    {
     "cell_type": "markdown",
     "metadata": {},
     "source": [
      "Load channel information for only the channels that were used in the analysis (grid channels), but this does not exclude artifactual channels, because channels with artifacts are considered on a trial-by-trial basis"
     ]
    },
    {
     "cell_type": "code",
     "collapsed": false,
     "input": [
      "all_chan = get_chan_used_in_analysis(all_subj)"
     ],
     "language": "python",
     "metadata": {},
     "outputs": []
    },
    {
     "cell_type": "markdown",
     "metadata": {},
     "source": [
      "Remember that **MG72** has flat channels (in the subfrontal grid) for part of the night"
     ]
    },
    {
     "cell_type": "heading",
     "level": 2,
     "metadata": {},
     "source": [
      "Detect Spindles"
     ]
    },
    {
     "cell_type": "code",
     "collapsed": true,
     "input": [
      "from multiprocessing import Pool\n",
      "from spgr.detect_spindles import calc_spindle_values"
     ],
     "language": "python",
     "metadata": {},
     "outputs": []
    },
    {
     "cell_type": "code",
     "collapsed": false,
     "input": [
      "detection_options = {'frequency': (11, 18),\n",
      "                      'method': 'Nir2011',\n",
      "                     } \n",
      "\n",
      "def calc_spindle(subj):\n",
      "    return calc_spindle_values(subj,\n",
      "                               detection_options=detection_options, \n",
      "                               ref_to_avg=False)\n",
      "\n",
      "\n",
      "all_spindles = map(calc_spindle, all_subj)"
     ],
     "language": "python",
     "metadata": {},
     "outputs": []
    },
    {
     "cell_type": "code",
     "collapsed": false,
     "input": [
      "one_sp = calc_spindle_values('EM09',\n",
      "                               detection_options=detection_options, \n",
      "                               ref_to_avg=False)"
     ],
     "language": "python",
     "metadata": {},
     "outputs": []
    },
    {
     "cell_type": "heading",
     "level": 5,
     "metadata": {},
     "source": [
      "Transfer Spindles to cashlab03 for further analysis"
     ]
    },
    {
     "cell_type": "raw",
     "metadata": {},
     "source": [
      "from pickle import dump\n",
      "\n",
      "spindle_file = '/PHShome/gp902/projects/spgr/group/all_spindles.pkl'\n",
      "with open(spindle_file, 'wb') as f:\n",
      "    dump(all_spindles, f)   \n",
      "!scp $spindle_file gio@cashlab03-deb:projects/spgr/group/"
     ]
    },
    {
     "cell_type": "heading",
     "level": 2,
     "metadata": {},
     "source": [
      "Plot Spindle Characteristics"
     ]
    },
    {
     "cell_type": "code",
     "collapsed": false,
     "input": [
      "all_spindles = [sp.spindle for sp in all_spindles]"
     ],
     "language": "python",
     "metadata": {},
     "outputs": []
    },
    {
     "cell_type": "code",
     "collapsed": true,
     "input": [
      "%matplotlib inline\n",
      "from spgr.plot_spindles import hist_values, topo_values"
     ],
     "language": "python",
     "metadata": {},
     "outputs": []
    },
    {
     "cell_type": "heading",
     "level": 4,
     "metadata": {},
     "source": [
      "Duration"
     ]
    },
    {
     "cell_type": "code",
     "collapsed": false,
     "input": [
      "hist_values(all_subj, all_spindles, \n",
      "            lambda x: x['end_time'] - x['start_time'], x_lim=(0, 3), nbin=10)"
     ],
     "language": "python",
     "metadata": {},
     "outputs": []
    },
    {
     "cell_type": "heading",
     "level": 4,
     "metadata": {},
     "source": [
      "Area Under Curve"
     ]
    },
    {
     "cell_type": "code",
     "collapsed": true,
     "input": [
      "hist_values(all_subj, all_spindles, \n",
      "            lambda x: x['area_under_curve'], x_lim=(0, 80000), nbin=1/800)"
     ],
     "language": "python",
     "metadata": {},
     "outputs": []
    },
    {
     "cell_type": "heading",
     "level": 4,
     "metadata": {},
     "source": [
      "Peak Value"
     ]
    },
    {
     "cell_type": "code",
     "collapsed": true,
     "input": [
      "hist_values(all_subj, all_spindles, \n",
      "            lambda x: x['peak_val'], x_lim=(0, 300), nbin=1/3)"
     ],
     "language": "python",
     "metadata": {},
     "outputs": []
    },
    {
     "cell_type": "heading",
     "level": 4,
     "metadata": {},
     "source": [
      "Peak Frequency"
     ]
    },
    {
     "cell_type": "code",
     "collapsed": false,
     "input": [
      "hist_values(all_subj, all_spindles, \n",
      "            lambda x: x['peak_freq'], x_lim=(0, 25), nbin=1)"
     ],
     "language": "python",
     "metadata": {},
     "outputs": []
    },
    {
     "cell_type": "heading",
     "level": 4,
     "metadata": {},
     "source": [
      "Distribution over Channels"
     ]
    },
    {
     "cell_type": "code",
     "collapsed": false,
     "input": [
      "topo_values(all_subj, all_chan, all_spindles,\n",
      "            lambda x: 1, take_mean=False)"
     ],
     "language": "python",
     "metadata": {},
     "outputs": []
    },
    {
     "cell_type": "code",
     "collapsed": false,
     "input": [
      "topo_values(all_subj, all_chan, all_spindles,\n",
      "            lambda x: x['end_time'] - x['start_time'], take_mean=True, v_lim=(0.5, 2))"
     ],
     "language": "python",
     "metadata": {},
     "outputs": []
    },
    {
     "cell_type": "heading",
     "level": 3,
     "metadata": {},
     "source": [
      "Synchrony"
     ]
    },
    {
     "cell_type": "code",
     "collapsed": false,
     "input": [
      "from numpy import expand_dims, argsort, asarray, sum, triu\n",
      "from numpy.random import uniform, seed\n",
      "\n",
      "from spgr.read_data import MIN_EPOCHS  # it should also be MAX_EPOCHS\n",
      "DUR_EPOCHS = 30\n",
      "total_duration = MIN_EPOCHS * DUR_EPOCHS\n",
      "\n",
      "n_rpt = 10000"
     ],
     "language": "python",
     "metadata": {},
     "outputs": []
    },
    {
     "cell_type": "code",
     "collapsed": false,
     "input": [
      "def estimate_overlap(s, e):\n",
      "    idx_sort = argsort(s)\n",
      "    s = s[idx_sort]\n",
      "    e = e[idx_sort]\n",
      "\n",
      "    s = expand_dims(asarray(s), 1)\n",
      "    e = expand_dims(asarray(e), 1)\n",
      "    overlap = (s <= e.T) & (s.T <= e)\n",
      "    return triu(overlap)\n",
      "\n",
      "def fake_dist(i, s, e):\n",
      "    seed(i)\n",
      "    fake_s = uniform(0, total_duration, len(s))\n",
      "    fake_e = fake_s + (e - s)\n",
      "    return sum(estimate_overlap(fake_s, fake_e))"
     ],
     "language": "python",
     "metadata": {},
     "outputs": []
    },
    {
     "cell_type": "code",
     "collapsed": false,
     "input": [
      "from matplotlib.pyplot import subplots"
     ],
     "language": "python",
     "metadata": {},
     "outputs": []
    },
    {
     "cell_type": "heading",
     "level": 4,
     "metadata": {},
     "source": [
      "Compute Probability of observing overlap"
     ]
    },
    {
     "cell_type": "code",
     "collapsed": false,
     "input": [
      "f, subp = subplots(3, 2, figsize=(18, 12))\n",
      "\n",
      "for ax, subj, spindles in zip(subp.flatten(), all_subj, all_spindles):\n",
      "    print(subj)\n",
      "    s = asarray([x['start_time'] for x in spindles])\n",
      "    e = asarray([x['end_time'] for x in spindles])\n",
      "    ov = sum(estimate_overlap(s, e))\n",
      "    \n",
      "    def fake_dist_subj(x):\n",
      "        return fake_dist(x, s, e)\n",
      "    \n",
      "    with Pool(12) as pool:\n",
      "        dist = pool.map(fake_dist_subj, range(n_rpt))\n",
      "    ax.hist(dist, bins=100, align='left')\n",
      "    ax.set_title(subj)\n",
      "    print('probability: {0:.9f}'.format(sum(ov <= dist) / n_rpt))"
     ],
     "language": "python",
     "metadata": {},
     "outputs": []
    },
    {
     "cell_type": "code",
     "collapsed": false,
     "input": [
      "f, subp = subplots(3, 2, figsize=(18, 12))\n",
      "\n",
      "x_lim = (0, 60)\n",
      "\n",
      "for ax, subj, spindles in zip(subp.flatten(), all_subj, all_spindles):\n",
      "    s = asarray([x['start_time'] for x in spindles])\n",
      "    e = asarray([x['end_time'] for x in spindles])\n",
      "    ov = estimate_overlap(s, e)\n",
      "    ax.hist(sum(ov, axis=1), bins=(x_lim[1] - x_lim[0]), \n",
      "            range=x_lim, align='left')\n",
      "    ax.set_title(subj)\n",
      "    ax.set_xlim(x_lim)\n"
     ],
     "language": "python",
     "metadata": {},
     "outputs": []
    },
    {
     "cell_type": "heading",
     "level": 3,
     "metadata": {},
     "source": [
      "Use common reference"
     ]
    },
    {
     "cell_type": "code",
     "collapsed": false,
     "input": [
      "detection_options = {'frequency': (11, 18),\n",
      "                      'method': 'hilbert',\n",
      "                      'threshold': 'maxima', \n",
      "                      'threshold_options': {'peak_width': 3, 'select_width': 1},\n",
      "                      'criteria': {'peak_in_fft': {'length': 1, 'dryrun': False}}\n",
      "                     } \n",
      "\n",
      "def calc_spindle(subj):\n",
      "    return calc_spindle_values(subj,\n",
      "                               detection_options=detection_options, \n",
      "                               ref_to_avg=True)\n",
      "\n",
      "with Pool(6) as pool:\n",
      "    all_spindles = pool.map(calc_spindle, all_subj)"
     ],
     "language": "python",
     "metadata": {},
     "outputs": []
    },
    {
     "cell_type": "code",
     "collapsed": false,
     "input": [
      "f, subp = subplots(3, 2, figsize=(18, 12))\n",
      "\n",
      "x_lim = (0, 60)\n",
      "\n",
      "for ax, subj, spindles in zip(subp.flatten(), all_subj, all_spindles):\n",
      "    s = asarray([x['start_time'] for x in spindles])\n",
      "    e = asarray([x['end_time'] for x in spindles])\n",
      "    ov = estimate_overlap(s, e)\n",
      "    ax.hist(sum(ov, axis=1), bins=(x_lim[1] - x_lim[0]), \n",
      "            range=x_lim, align='left')\n",
      "    ax.set_title(subj)\n",
      "    ax.set_xlim(x_lim)"
     ],
     "language": "python",
     "metadata": {},
     "outputs": []
    },
    {
     "cell_type": "code",
     "collapsed": false,
     "input": [],
     "language": "python",
     "metadata": {},
     "outputs": []
    }
   ],
   "metadata": {}
  }
 ]
}