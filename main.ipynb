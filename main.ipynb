{
 "metadata": {
  "name": "",
  "signature": "sha256:60ae877afe24b6796be5fe39873744f6cd3cf10ed20e05e9898a94b3b2fc28ed"
 },
 "nbformat": 3,
 "nbformat_minor": 0,
 "worksheets": [
  {
   "cells": [
    {
     "cell_type": "heading",
     "level": 1,
     "metadata": {
      "slideshow": {
       "slide_type": "-"
      }
     },
     "source": [
      "SPGR"
     ]
    },
    {
     "cell_type": "heading",
     "level": 2,
     "metadata": {},
     "source": [
      "Introduction"
     ]
    },
    {
     "cell_type": "markdown",
     "metadata": {},
     "source": [
      "MEG recordings of spindles identified multiple generators of spindle activity, suggesting that spindles are heterogeneous phenomena that might affect different areas at the time [@Dehghani2010_generators]"
     ]
    },
    {
     "cell_type": "heading",
     "level": 2,
     "metadata": {},
     "source": [
      "Participants and Methods"
     ]
    },
    {
     "cell_type": "heading",
     "level": 3,
     "metadata": {},
     "source": [
      "[Selection of Patients and Read Data](read_sleep.ipynb)"
     ]
    },
    {
     "cell_type": "heading",
     "level": 3,
     "metadata": {},
     "source": [
      "[Electrode Locations](electrode_locations.ipynb)"
     ]
    },
    {
     "cell_type": "heading",
     "level": 3,
     "metadata": {},
     "source": [
      "[Spindle Detection Method](spindle_detection_method.ipynb)"
     ]
    },
    {
     "cell_type": "heading",
     "level": 3,
     "metadata": {},
     "source": [
      "[Linear Mixed-Effect Models to ECoG](lmem_theory.ipynb)"
     ]
    },
    {
     "cell_type": "heading",
     "level": 3,
     "metadata": {},
     "source": [
      "[Wavelet Transform](wavelet.ipynb)"
     ]
    },
    {
     "cell_type": "heading",
     "level": 2,
     "metadata": {},
     "source": [
      "Results"
     ]
    },
    {
     "cell_type": "heading",
     "level": 3,
     "metadata": {},
     "source": [
      "[Spindle Detection](spindle_detection.ipynb)"
     ]
    },
    {
     "cell_type": "markdown",
     "metadata": {},
     "source": [
      "Spindles were detected using previously described methods [@Nir2011].\n",
      "The signal was filtered between 9 and 15 Hz and the duration was between 0.5 and 2s.\n",
      "For each putative spindle, we computed the power spectrum and identified the peak.\n",
      "The peak had to be between 9 and 15 Hz, to avoid transient activity with power in multiple frequency bands."
     ]
    },
    {
     "cell_type": "markdown",
     "metadata": {},
     "source": [
      "For each electrode and each participant, we computed the number of spindles in that electrode.\n",
      "In addition, we computed the average peak in the frequency domain for all the spindles at one electrode."
     ]
    },
    {
     "cell_type": "markdown",
     "metadata": {},
     "source": [
      "Activity was projected onto the cortical surface calculated with Freesurfer.\n",
      "Using freesurfer utilities, the activity was averaged on the cortical surface.\n",
      "Activity on the left side was flipped over to the right side, so that the summary is shown on one hemisphere."
     ]
    },
    {
     "cell_type": "heading",
     "level": 3,
     "metadata": {},
     "source": [
      "[Spindle Analysis using Linear Mixed-Effect Models](spindle_lmem.ipynb)"
     ]
    },
    {
     "cell_type": "heading",
     "level": 3,
     "metadata": {},
     "source": [
      "[Spindle Cooccurrence](spindle_cooccurrence.ipynb)"
     ]
    },
    {
     "cell_type": "heading",
     "level": 3,
     "metadata": {},
     "source": [
      "[Phase-Amplitude Movies](phase-ampl_movies.ipynb)"
     ]
    },
    {
     "cell_type": "markdown",
     "metadata": {},
     "source": [
      "We investigated the phase and amplitude in the spindle band over a representative 30s window."
     ]
    },
    {
     "cell_type": "markdown",
     "metadata": {},
     "source": [
      "We performed a wavelet analysis, with center frequency at 13 Hz and 2Hz-wide standard deviation in the frequency domain."
     ]
    },
    {
     "cell_type": "markdown",
     "metadata": {},
     "source": [
      "We only plotted channels that did not show any clear artifact or epilopsy-related activity."
     ]
    },
    {
     "cell_type": "markdown",
     "metadata": {},
     "source": [
      "Because channels might have different baseline power, we simply normalized the amplitude by the average of the amplitude over the 30s window, in the second movie."
     ]
    },
    {
     "cell_type": "markdown",
     "metadata": {},
     "source": [
      "Because the phase keeps on rotating at the same frequency and it's hard to visualize, we tested the differences in phase between a constant sinuouid. \n",
      "If the phase rotates at a constant rate, we'd expect no change in color.\n",
      "Different colors at the same time means that channels have different phases.\n",
      "\n",
      "So, in movie 3, we normalized by a sinuouid with the same frequency as the central wavelet frequency."
     ]
    },
    {
     "cell_type": "heading",
     "level": 2,
     "metadata": {},
     "source": [
      "Additional Analyses"
     ]
    },
    {
     "cell_type": "heading",
     "level": 3,
     "metadata": {},
     "source": [
      "Peak Frequency"
     ]
    },
    {
     "cell_type": "markdown",
     "metadata": {},
     "source": [
      "Instead of detecting spindles as discrete events, we can look at the power in spindle frequency, by detecting its [peak_frequency](peak_frequency.ipynb)"
     ]
    },
    {
     "cell_type": "markdown",
     "metadata": {},
     "source": [
      "Some patients have very clear peaks in the power spectrum, most electrodes seem to have the same peak frequency. However, quite a few patients have peaks outside of the spindle band."
     ]
    },
    {
     "cell_type": "heading",
     "level": 3,
     "metadata": {},
     "source": [
      "Spindling Time"
     ]
    },
    {
     "cell_type": "markdown",
     "metadata": {},
     "source": [
      "How much time/percentage of time does each electrode [spend spindling](spindling_time.ipynb)"
     ]
    },
    {
     "cell_type": "markdown",
     "metadata": {},
     "source": [
      "Some channels have lots of spindling going on, but they are large differences between patients. Some electrodes have very few spindles, sleep was defined based on other factors as well, such as k-complex and slow wave"
     ]
    },
    {
     "cell_type": "heading",
     "level": 3,
     "metadata": {},
     "source": [
      "Cluster Similarity"
     ]
    },
    {
     "cell_type": "markdown",
     "metadata": {},
     "source": [
      "Create clusters based on cross-correlation similarities, and check how the [similarity within a cluster](cluster_similarity.ipynb) changes over time"
     ]
    },
    {
     "cell_type": "heading",
     "level": 3,
     "metadata": {},
     "source": [
      "Probability"
     ]
    },
    {
     "cell_type": "markdown",
     "metadata": {},
     "source": [
      "Detect spindles, then see which spindles are together.\n",
      "When spindles are together, check for each channel if another channel has also a spindle. In this way, we can have a matrix of probability that another channels has a spindle."
     ]
    },
    {
     "cell_type": "code",
     "collapsed": false,
     "input": [],
     "language": "python",
     "metadata": {},
     "outputs": []
    }
   ],
   "metadata": {}
  }
 ]
}