{
 "metadata": {
  "name": "",
  "signature": "sha256:3d7ac83eb313429b0e5751d37c0a90ed298910518ce5bdedb1a38e5bf5bb98cb"
 },
 "nbformat": 3,
 "nbformat_minor": 0,
 "worksheets": [
  {
   "cells": [
    {
     "cell_type": "heading",
     "level": 1,
     "metadata": {},
     "source": [
      "SPGR"
     ]
    },
    {
     "cell_type": "code",
     "collapsed": false,
     "input": [
      "import version_control"
     ],
     "language": "python",
     "metadata": {},
     "outputs": [
      {
       "output_type": "stream",
       "stream": "stdout",
       "text": [
        "Last run on cashlab03-deb at 2015-01-28 14:28:39.309986\n",
        "\n",
        "Phypno Version: 25a4d9bd98a21493421fa0eea826edbc73b68ea3\n",
        "\n",
        "Cython==0.21.2, Jinja2==2.7.3, Markdown==2.5.2, MarkupSafe==0.23, Pillow==2.7.0, PyOpenGL==3.1.0, Pygments==2.0.2, Sphinx==1.2.3, certifi==14.05.14, coverage==3.7.1, decorator==3.4.0, docutils==0.12, easydev==0.8.2, ipython==2.3.1, matplotlib==1.4.2, memory-profiler==0.32, networkx==1.9.1, nibabel==2.0.0, nitime==0.5, nose==1.3.4, numpy==1.9.1, numpydoc==0.5, ordereddict==1.1, pandas==0.15.2, pep8==1.5.7, psutil==2.2.0, pycurl==7.19.5.1, pyflakes==0.8.1, pyparsing==2.0.3, pyqtgraph==0.9.10, python-dateutil==2.4.0, python-igraph==0.7, pytz==2014.10, pyzmq==14.5.0, rope-py3k==0.9.4-1, rpy2==2.5.4, scikit-learn==0.15.2, scipy==0.15.1, six==1.9.0, sphinxcontrib-napoleon==0.2.9, spyder==2.3.2, tornado==4.0.2, visvis==1.9.1, xmltodict==0.9.1, "
       ]
      },
      {
       "output_type": "stream",
       "stream": "stdout",
       "text": [
        "\n"
       ]
      }
     ],
     "prompt_number": 1
    },
    {
     "cell_type": "code",
     "collapsed": false,
     "input": [
      "from spgr import lg"
     ],
     "language": "python",
     "metadata": {},
     "outputs": [],
     "prompt_number": 2
    },
    {
     "cell_type": "heading",
     "level": 2,
     "metadata": {},
     "source": [
      "Spindle Properties"
     ]
    },
    {
     "cell_type": "heading",
     "level": 3,
     "metadata": {},
     "source": [
      "Parameters"
     ]
    },
    {
     "cell_type": "code",
     "collapsed": false,
     "input": [
      "hemi_subj = {'EM09': 'rh', \n",
      "             'MG17': 'rh',\n",
      "             'MG33': 'lh',\n",
      "             'MG37': 'lh',\n",
      "             'MG61': 'lh',\n",
      "             'MG63': 'rh',\n",
      "             }\n",
      "all_subj = sorted(hemi_subj.keys())"
     ],
     "language": "python",
     "metadata": {},
     "outputs": [],
     "prompt_number": 3
    },
    {
     "cell_type": "code",
     "collapsed": false,
     "input": [
      "options = {'reref': 'avg',\n",
      "           'resample_freq': 256,\n",
      "           'hp_filter': 0.5,\n",
      "           'lp_filter': 50,\n",
      "           }\n",
      "chan_type = ('grid', )"
     ],
     "language": "python",
     "metadata": {},
     "outputs": [],
     "prompt_number": 4
    },
    {
     "cell_type": "code",
     "collapsed": false,
     "input": [
      "spindles_options = {'method': 'Nir2011', \n",
      "                    'frequency': (9, 16), \n",
      "                    'duration':(0.5, 2),\n",
      "                    }\n",
      "options.update(spindles_options)"
     ],
     "language": "python",
     "metadata": {},
     "outputs": [],
     "prompt_number": 5
    },
    {
     "cell_type": "code",
     "collapsed": false,
     "input": [
      "STD = 10\n",
      "THRESHOLD = 20"
     ],
     "language": "python",
     "metadata": {},
     "outputs": []
    },
    {
     "cell_type": "heading",
     "level": 3,
     "metadata": {},
     "source": [
      "Code"
     ]
    },
    {
     "cell_type": "code",
     "collapsed": false,
     "input": [
      "from spgr.detect_spindles import get_spindles"
     ],
     "language": "python",
     "metadata": {},
     "outputs": [],
     "prompt_number": 7
    },
    {
     "cell_type": "code",
     "collapsed": false,
     "input": [],
     "language": "python",
     "metadata": {},
     "outputs": [],
     "prompt_number": 8
    },
    {
     "cell_type": "code",
     "collapsed": false,
     "input": [
      "spindles"
     ],
     "language": "python",
     "metadata": {},
     "outputs": [
      {
       "metadata": {},
       "output_type": "pyout",
       "prompt_number": 9,
       "text": [
        "<phypno.graphoelement.Spindles at 0x7ff4f1e71240>"
       ]
      }
     ],
     "prompt_number": 9
    },
    {
     "cell_type": "code",
     "collapsed": false,
     "input": [
      "\n",
      "\n",
      "for subj in all_subj:\n",
      "\n",
      "    chan = get_chan_used_in_analysis(subj, 'sleep', ('grid', ), reref='avg', resample_freq=None)[1]\n",
      "    fs = Freesurfer(join(REC_DIR, subj, FS_PATH))\n",
      "    surf = fs.read_surf(hemi_subj[subj])\n",
      "    l = Linear(surf, chan, std=STD, threshold=THRESHOLD)\n",
      "    \n",
      "    \n",
      "    spindles = get_spindles(subj, **options)\n",
      "    dat_count = spindles.to_data('count')\n",
      "    dat_count.data[0] = dat_count.data[0] / data.number_of('trial') * (data.axis['time'][0][-1] - data.axis['time'][0][0])\n",
      "    dat_freq = spindles.to_data('peak_freq')\n",
      "    \n",
      "    if hemi_subj[subj] == 'lh':\n",
      "        for one_chan in chan.chan:\n",
      "            one_chan.xyz *= (-1, 1, 1)\n",
      "    surf = fs.read_surf('rh')\n",
      "    l = Linear(surf, chan, std=STD, threshold=THRESHOLD)\n",
      "    m = Morph(surf)\n",
      "\n",
      "    all_count.append(m(l(dat_count)))\n",
      "    all_freq.append(m(l(dat_freq)))"
     ],
     "language": "python",
     "metadata": {},
     "outputs": []
    },
    {
     "cell_type": "code",
     "collapsed": false,
     "input": [],
     "language": "python",
     "metadata": {},
     "outputs": []
    },
    {
     "cell_type": "code",
     "collapsed": false,
     "input": [],
     "language": "python",
     "metadata": {},
     "outputs": []
    },
    {
     "cell_type": "code",
     "collapsed": false,
     "input": [],
     "language": "python",
     "metadata": {},
     "outputs": []
    },
    {
     "cell_type": "code",
     "collapsed": false,
     "input": [],
     "language": "python",
     "metadata": {},
     "outputs": []
    },
    {
     "cell_type": "code",
     "collapsed": false,
     "input": [],
     "language": "python",
     "metadata": {},
     "outputs": []
    },
    {
     "cell_type": "code",
     "collapsed": false,
     "input": [],
     "language": "python",
     "metadata": {},
     "outputs": []
    },
    {
     "cell_type": "code",
     "collapsed": false,
     "input": [
      "from phypno.attr import Freesurfer, Channels\n",
      "from phypno.detect import DetectSpindle\n",
      "from phypno.source import Linear, Morph\n",
      "\n",
      "from phypno.viz import Viz3"
     ],
     "language": "python",
     "metadata": {},
     "outputs": []
    },
    {
     "cell_type": "code",
     "collapsed": false,
     "input": [
      "from spgr.read_data import DATA_DIR, REC_DIR, FS_PATH, ELEC_PATH, get_data, GROUP_DIR, get_chan_used_in_analysis\n",
      "from spgr.detect_spindles import calc_spindle_values\n",
      "from spgr.plot_spindles import show_movies"
     ],
     "language": "python",
     "metadata": {},
     "outputs": []
    },
    {
     "cell_type": "code",
     "collapsed": false,
     "input": [
      "count_dir = join(GROUP_DIR, 'detected_count')\n",
      "freq_dir = join(GROUP_DIR, 'detected_frequency')"
     ],
     "language": "python",
     "metadata": {},
     "outputs": []
    },
    {
     "cell_type": "code",
     "collapsed": false,
     "input": [
      "all_count = []\n",
      "all_freq = []\n",
      "\n",
      "for subj in all_subj:\n",
      "    data = get_data(subj, 'sleep', ('grid', ), reref='avg', resample_freq=128)\n",
      "    chan = get_chan_used_in_analysis(subj, 'sleep', ('grid', ), reref='avg', resample_freq=None)[1]\n",
      "    fs = Freesurfer(join(REC_DIR, subj, FS_PATH))\n",
      "    surf = fs.read_surf(hemi_subj[subj])\n",
      "    l = Linear(surf, chan, std=STD, threshold=THRESHOLD)\n",
      "    \n",
      "    spindles = calc_spindle_values(data, detsp, parallel='pool')\n",
      "    spindles = spindles(lambda x: LIMITS[0] <= x['peak_freq'] <= LIMITS[1])\n",
      "    dat_count = spindles.to_data('count')\n",
      "    dat_count.data[0] = dat_count.data[0] / data.number_of('trial') * (data.axis['time'][0][-1] - data.axis['time'][0][0])\n",
      "    dat_freq = spindles.to_data('peak_freq')\n",
      "    \n",
      "    if hemi_subj[subj] == 'lh':\n",
      "        for one_chan in chan.chan:\n",
      "            one_chan.xyz *= (-1, 1, 1)\n",
      "    surf = fs.read_surf('rh')\n",
      "    l = Linear(surf, chan, std=STD, threshold=THRESHOLD)\n",
      "    m = Morph(surf)\n",
      "\n",
      "    all_count.append(m(l(dat_count)))\n",
      "    all_freq.append(m(l(dat_freq)))"
     ],
     "language": "python",
     "metadata": {},
     "outputs": []
    },
    {
     "cell_type": "heading",
     "level": 3,
     "metadata": {},
     "source": [
      "Spindle Density"
     ]
    },
    {
     "cell_type": "code",
     "collapsed": false,
     "input": [
      "from numpy import asarray, NaN, nanmean"
     ],
     "language": "python",
     "metadata": {},
     "outputs": []
    },
    {
     "cell_type": "code",
     "collapsed": false,
     "input": [
      "for x in all_count:\n",
      "    x.data[0][x.data[0] < 0.001] = NaN\n",
      "avg_count = deepcopy(all_count[0])\n",
      "avg_count.data[0] = nanmean(asarray([x.data[0] for x in all_count]), axis=0)"
     ],
     "language": "python",
     "metadata": {},
     "outputs": []
    },
    {
     "cell_type": "markdown",
     "metadata": {},
     "source": [
      "The highest number of spindles was concentrated over prefrontal regions.\n",
      "Temporal and occipital regions were relatively quiet."
     ]
    },
    {
     "cell_type": "code",
     "collapsed": false,
     "input": [
      "fs_avg = Freesurfer('/opt/freesurfer/subjects/fsaverage')\n",
      "surf_avg = fs_avg.read_surf('rh', surf_type='pial')"
     ],
     "language": "python",
     "metadata": {},
     "outputs": []
    },
    {
     "cell_type": "code",
     "collapsed": false,
     "input": [
      "v = Viz3()\n",
      "v.add_surf(surf_avg, values=avg_count(trial=0)[163842:], limits=(0, 20))\n",
      "v._ax.camera.loc = camera['loc']\n",
      "v._ax.camera.elevation = camera['elevation']\n",
      "v._ax.camera.zoom = camera['zoom']\n",
      "v._ax.camera.azimuth = camera['azimuth']\n",
      "v._fig.DrawNow()\n",
      "screenshot(join(count_dir, 'fsaverage.png'), v._ax, sf=2)"
     ],
     "language": "python",
     "metadata": {},
     "outputs": []
    },
    {
     "cell_type": "code",
     "collapsed": false,
     "input": [
      "from visvis import colorbar\n",
      "from subprocess import call"
     ],
     "language": "python",
     "metadata": {},
     "outputs": []
    },
    {
     "cell_type": "code",
     "collapsed": false,
     "input": [
      "c = colorbar()\n",
      "\n",
      "png_name = join(count_dir, 'fsaverage_colorbar.png')\n",
      "screenshot(png_name, v._fig, sf=2)\n",
      "call('convert ' + png_name + ' -crop 60x800+909+21 ' + png_name, shell=True)\n",
      "v._fig.Destroy()"
     ],
     "language": "python",
     "metadata": {},
     "outputs": []
    },
    {
     "cell_type": "heading",
     "level": 3,
     "metadata": {},
     "source": [
      "Frequency"
     ]
    },
    {
     "cell_type": "markdown",
     "metadata": {},
     "source": [
      "Spindle frequency was higher over the parietal regions (fast spindles) than over the frontal regions (slow spindle).\n",
      "In addition, we found that the slowest spindles are over the occipital cortices."
     ]
    },
    {
     "cell_type": "code",
     "collapsed": false,
     "input": [
      "for x in all_freq:\n",
      "    x.data[0][x.data[0] < LIMITS[0]] = NaN\n",
      "    x.data[0][x.data[0] > LIMITS[1]] = NaN\n",
      "avg_freq = deepcopy(all_freq[0])\n",
      "avg_freq.data[0] = nanmean(asarray([x.data[0] for x in all_freq]), axis=0)"
     ],
     "language": "python",
     "metadata": {},
     "outputs": []
    },
    {
     "cell_type": "code",
     "collapsed": false,
     "input": [
      "v = Viz3()\n",
      "v.add_surf(surf_avg, values=avg_freq(trial=0)[163842:], limits=(10, 14))\n",
      "v._ax.camera.loc = camera['loc']\n",
      "v._ax.camera.elevation = camera['elevation']\n",
      "v._ax.camera.zoom = camera['zoom']\n",
      "v._ax.camera.azimuth = camera['azimuth']\n",
      "v._fig.DrawNow()\n",
      "screenshot(join(freq_dir, 'fsaverage.png'), v._ax, sf=2)\n",
      "v._fig.Destroy()"
     ],
     "language": "python",
     "metadata": {},
     "outputs": []
    }
   ],
   "metadata": {}
  }
 ]
}