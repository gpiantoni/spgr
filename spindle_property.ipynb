{
 "metadata": {
  "name": "",
  "signature": "sha256:d85eb246e9430efc082be444a39e610d1749c5434c900f393811a8a91e601725"
 },
 "nbformat": 3,
 "nbformat_minor": 0,
 "worksheets": [
  {
   "cells": [
    {
     "cell_type": "heading",
     "level": 1,
     "metadata": {},
     "source": [
      "SPGR"
     ]
    },
    {
     "cell_type": "code",
     "collapsed": false,
     "input": [
      "import version_control\n",
      "%gui qt"
     ],
     "language": "python",
     "metadata": {},
     "outputs": [
      {
       "output_type": "stream",
       "stream": "stdout",
       "text": [
        "Last run on ip94.ucsd.edu at 2015-02-23 12:11:04.530268\n",
        "\n",
        "Phypno Version: bc30375ab7f5d97f1f20c8d556394c1667455dbd\n",
        "\n",
        "astroid==1.3.4, conda==3.9.0, conda-env==2.1.3, docutils==0.12, ipython==2.4.1, Jinja2==2.7.3, logilab-common==0.63.2, MarkupSafe==0.23, matplotlib==1.4.3, nose==1.3.4, numpy==1.9.1, pep8==1.6.2, psutil==2.2.1, pycosat==0.6.1, pyflakes==0.8.1, Pygments==2.0.1, pylint==1.4.1, PyOpenGL==3.1.0, pyparsing==2.0.3, pyqtgraph==0.9.10, python-dateutil==2.1, pytz==2014.9, PyYAML==3.11, pyzmq==14.5.0, requests==2.5.1, rope-py3k==0.9.4.post1, scikit-learn==0.15.2, scipy==0.15.1, six==1.9.0, Sphinx==1.2.3, spyder==2.3.2, tornado==4.1, "
       ]
      },
      {
       "output_type": "stream",
       "stream": "stdout",
       "text": [
        "\n"
       ]
      }
     ],
     "prompt_number": 1
    },
    {
     "cell_type": "code",
     "collapsed": false,
     "input": [
      "from spgr import lg"
     ],
     "language": "python",
     "metadata": {},
     "outputs": [
      {
       "output_type": "stream",
       "stream": "stderr",
       "text": [
        "/home/gpiantoni/miniconda3/lib/python3.4/site-packages/IPython/external/qt_loaders.py:118: ResourceWarning: unclosed file <_io.BufferedReader name='/home/gpiantoni/miniconda3/lib/python3.4/site-packages/PyQt4/QtCore.so'>\n",
        "  imp.find_module('QtCore', mod.__path__)\n",
        "/home/gpiantoni/miniconda3/lib/python3.4/site-packages/IPython/external/qt_loaders.py:119: ResourceWarning: unclosed file <_io.BufferedReader name='/home/gpiantoni/miniconda3/lib/python3.4/site-packages/PyQt4/QtGui.so'>\n",
        "  imp.find_module('QtGui', mod.__path__)\n",
        "/home/gpiantoni/miniconda3/lib/python3.4/site-packages/IPython/external/qt_loaders.py:120: ResourceWarning: unclosed file <_io.BufferedReader name='/home/gpiantoni/miniconda3/lib/python3.4/site-packages/PyQt4/QtSvg.so'>\n",
        "  imp.find_module('QtSvg', mod.__path__)\n",
        "WARNING:phypno.attr.anat:nibabel (optional dependency) is not installed. You will not be able to read Freesurfer annotations and segmentations."
       ]
      },
      {
       "output_type": "stream",
       "stream": "stderr",
       "text": [
        "\n"
       ]
      }
     ],
     "prompt_number": 2
    },
    {
     "cell_type": "heading",
     "level": 2,
     "metadata": {},
     "source": [
      "Spindle Properties: Descriptive"
     ]
    },
    {
     "cell_type": "heading",
     "level": 3,
     "metadata": {},
     "source": [
      "Parameters"
     ]
    },
    {
     "cell_type": "code",
     "collapsed": false,
     "input": [
      "hemi_subj = {'EM09': 'rh', \n",
      "             'MG17': 'rh',\n",
      "             'MG33': 'lh',\n",
      "             'MG37': 'lh',\n",
      "             'MG61': 'lh',\n",
      "             'MG63': 'rh',\n",
      "             }\n",
      "all_subj = sorted(hemi_subj.keys())"
     ],
     "language": "python",
     "metadata": {},
     "outputs": [],
     "prompt_number": 3
    },
    {
     "cell_type": "code",
     "collapsed": false,
     "input": [
      "options = {'reref': 'avg',\n",
      "           'resample_freq': 256,\n",
      "           'hp_filter': 0.5,\n",
      "           'lp_filter': 50,\n",
      "           }\n",
      "chan_type = ('grid', )"
     ],
     "language": "python",
     "metadata": {},
     "outputs": [],
     "prompt_number": 4
    },
    {
     "cell_type": "code",
     "collapsed": false,
     "input": [
      "spindles_options = {'method': 'Nir2011', \n",
      "                    'frequency': (9, 16), \n",
      "                    'duration':(0.5, 2),\n",
      "                    }\n",
      "spindles_options.update(options)"
     ],
     "language": "python",
     "metadata": {},
     "outputs": [],
     "prompt_number": 5
    },
    {
     "cell_type": "code",
     "collapsed": false,
     "input": [
      "STD = 10\n",
      "THRESHOLD = 30"
     ],
     "language": "python",
     "metadata": {},
     "outputs": [],
     "prompt_number": 6
    },
    {
     "cell_type": "heading",
     "level": 3,
     "metadata": {},
     "source": [
      "Code"
     ]
    },
    {
     "cell_type": "code",
     "collapsed": false,
     "input": [
      "from os import makedirs\n",
      "from os.path import join\n",
      "from phypno.attr import Freesurfer\n",
      "from phypno.source import Linear, Morph\n",
      "from spgr.detect_spindles import get_spindles\n",
      "from spgr.read_data import FS_PATH, GROUP_DIR, REC_DIR, get_chan_used_in_analysis, get_data"
     ],
     "language": "python",
     "metadata": {},
     "outputs": [],
     "prompt_number": 7
    },
    {
     "cell_type": "code",
     "collapsed": false,
     "input": [
      "OUTPUT_DIR = join(GROUP_DIR, 'property_descriptive')\n",
      "makedirs(OUTPUT_DIR, exist_ok=True)"
     ],
     "language": "python",
     "metadata": {},
     "outputs": [],
     "prompt_number": 8
    },
    {
     "cell_type": "code",
     "collapsed": false,
     "input": [
      "from numpy import diff, histogram, arange, argmax, median, mean, max, sum"
     ],
     "language": "python",
     "metadata": {},
     "outputs": [],
     "prompt_number": 9
    },
    {
     "cell_type": "code",
     "collapsed": false,
     "input": [
      "def hist_diff(x, steps=1):\n",
      "    v1, v0 = histogram(diff(x), arange(0, 30, steps))\n",
      "    return max(v1) / sum(v1)"
     ],
     "language": "python",
     "metadata": {},
     "outputs": [],
     "prompt_number": 10
    },
    {
     "cell_type": "code",
     "collapsed": false,
     "input": [
      "def peak_hist_diff(x, steps=1):\n",
      "    v1, v0 = histogram(diff(x), arange(0, 30, steps))\n",
      "    return v0[argmax(v1)]"
     ],
     "language": "python",
     "metadata": {},
     "outputs": [],
     "prompt_number": 11
    },
    {
     "cell_type": "code",
     "collapsed": false,
     "input": [
      "%load_ext autoreload\n",
      "%autoreload 2"
     ],
     "language": "python",
     "metadata": {},
     "outputs": [],
     "prompt_number": 12
    },
    {
     "cell_type": "code",
     "collapsed": false,
     "input": [
      "all_count = []\n",
      "all_freq = []\n",
      "all_val = []\n",
      "all_dur = []\n",
      "all_hist = []\n",
      "all_peak_hist = []\n",
      "\n",
      "for subj in all_subj:\n",
      "    chan = get_chan_used_in_analysis(subj, 'sleep', chan_type, **options)[1]\n",
      "    fs = Freesurfer(join(REC_DIR, subj, FS_PATH))\n",
      "    surf = fs.read_surf(hemi_subj[subj])\n",
      "\n",
      "    data = get_data(subj, 'sleep', chan_type, **options)\n",
      "    spindles = get_spindles(subj, **spindles_options)\n",
      "    for one_spindle in spindles.spindle:\n",
      "        one_spindle['duration'] = one_spindle['end_time'] - one_spindle['start_time']\n",
      "    \n",
      "    dat_count = spindles.to_data('count')\n",
      "    n_min = (data.number_of('trial') * (data.axis['time'][0][-1] - data.axis['time'][0][0])) / 60\n",
      "    dat_count.data[0] = dat_count.data[0] / n_min\n",
      "    dat_freq = spindles.to_data('peak_freq')\n",
      "    dat_val = spindles.to_data('peak_val')\n",
      "    dat_dur = spindles.to_data('duration')\n",
      "    \n",
      "    dat_hist = spindles.to_data('peak_time', hist_diff)\n",
      "    dat_peak_hist = spindles.to_data('peak_time', peak_hist_diff)\n",
      "    \n",
      "    if hemi_subj[subj] == 'lh':\n",
      "        for one_chan in chan.chan:\n",
      "            one_chan.xyz *= (-1, 1, 1)\n",
      "    surf = fs.read_surf('rh')\n",
      "    l = Linear(surf, chan, std=STD, threshold=THRESHOLD)\n",
      "    m = Morph(surf)\n",
      "\n",
      "    all_count.append(m(l(dat_count)))\n",
      "    all_freq.append(m(l(dat_freq)))\n",
      "    all_val.append(m(l(dat_val)))\n",
      "    all_dur.append(m(l(dat_dur)))\n",
      "    all_hist.append(m(l(dat_hist)))\n",
      "    all_peak_hist.append(m(l(dat_peak_hist)))"
     ],
     "language": "python",
     "metadata": {},
     "outputs": [
      {
       "output_type": "stream",
       "stream": "stderr",
       "text": [
        "INFO:/home/gpiantoni/projects/spgr/scripts/spgr/read_data.py:EM09 analysis chan 69, with location 69\n"
       ]
      },
      {
       "output_type": "stream",
       "stream": "stderr",
       "text": [
        "WARNING:phypno.attr.anat:Could not find lookup table, some functions that rely on it might complain or crash.\n"
       ]
      },
      {
       "output_type": "stream",
       "stream": "stderr",
       "text": [
        "INFO:/home/gpiantoni/projects/spgr/scripts/spgr/read_data.py:Subj EM09, reading data: EM09_sleep_grid_hp005_lp500_rs256.pkl\n"
       ]
      },
      {
       "output_type": "stream",
       "stream": "stderr",
       "text": [
        "INFO:/home/gpiantoni/projects/spgr/scripts/spgr/read_data.py:EM09 analysis chan 69, with location 69\n"
       ]
      },
      {
       "output_type": "stream",
       "stream": "stdout",
       "text": [
        "Morphing data...\n"
       ]
      },
      {
       "output_type": "stream",
       "stream": "stdout",
       "text": [
        "Triangle file: b'created by greve on Thu Jun  8 19:17:51 2006' nvert = 163842 ntri = 327680\n"
       ]
      },
      {
       "output_type": "stream",
       "stream": "stdout",
       "text": [
        "Triangle file: b'created by greve on Thu Jun  8 19:17:51 2006' nvert = 163842 ntri = 327680\n"
       ]
      },
      {
       "output_type": "stream",
       "stream": "stdout",
       "text": [
        "Triangle file: b'created by gio on Fri Apr  4 19:00:54 2014' nvert = 171672 ntri = 343340\n"
       ]
      },
      {
       "output_type": "stream",
       "stream": "stdout",
       "text": [
        "Triangle file: b'created by gio on Fri Apr  4 21:09:46 2014' nvert = 158992 ntri = 317980\n"
       ]
      },
      {
       "output_type": "stream",
       "stream": "stdout",
       "text": [
        "    Left-hemisphere map read.\n"
       ]
      },
      {
       "output_type": "stream",
       "stream": "stdout",
       "text": [
        "    Right-hemisphere map read.\n"
       ]
      },
      {
       "output_type": "stream",
       "stream": "stdout",
       "text": [
        "    1 smooth iterations done.\n"
       ]
      },
      {
       "output_type": "stream",
       "stream": "stdout",
       "text": [
        "[done]\n"
       ]
      },
      {
       "output_type": "stream",
       "stream": "stdout",
       "text": [
        "Morphing data...\n"
       ]
      },
      {
       "output_type": "stream",
       "stream": "stdout",
       "text": [
        "Triangle file: b'created by greve on Thu Jun  8 19:17:51 2006' nvert = 163842 ntri = 327680\n"
       ]
      },
      {
       "output_type": "stream",
       "stream": "stdout",
       "text": [
        "Triangle file: b'created by greve on Thu Jun  8 19:17:51 2006' nvert = 163842 ntri = 327680\n"
       ]
      },
      {
       "output_type": "stream",
       "stream": "stdout",
       "text": [
        "Triangle file: b'created by gio on Fri Apr  4 19:00:54 2014' nvert = 171672 ntri = 343340\n"
       ]
      },
      {
       "output_type": "stream",
       "stream": "stdout",
       "text": [
        "Triangle file: b'created by gio on Fri Apr  4 21:09:46 2014' nvert = 158992 ntri = 317980\n"
       ]
      },
      {
       "output_type": "stream",
       "stream": "stdout",
       "text": [
        "    Left-hemisphere map read.\n"
       ]
      },
      {
       "output_type": "stream",
       "stream": "stdout",
       "text": [
        "    Right-hemisphere map read.\n"
       ]
      },
      {
       "output_type": "stream",
       "stream": "stdout",
       "text": [
        "    1 smooth iterations done.\n"
       ]
      },
      {
       "output_type": "stream",
       "stream": "stdout",
       "text": [
        "[done]\n"
       ]
      },
      {
       "output_type": "stream",
       "stream": "stdout",
       "text": [
        "Morphing data...\n"
       ]
      },
      {
       "output_type": "stream",
       "stream": "stdout",
       "text": [
        "Triangle file: b'created by greve on Thu Jun  8 19:17:51 2006' nvert = 163842 ntri = 327680\n"
       ]
      },
      {
       "output_type": "stream",
       "stream": "stdout",
       "text": [
        "Triangle file: b'created by greve on Thu Jun  8 19:17:51 2006' nvert = 163842 ntri = 327680\n"
       ]
      },
      {
       "output_type": "stream",
       "stream": "stdout",
       "text": [
        "Triangle file: b'created by gio on Fri Apr  4 19:00:54 2014' nvert = 171672 ntri = 343340\n"
       ]
      },
      {
       "output_type": "stream",
       "stream": "stdout",
       "text": [
        "Triangle file: b'created by gio on Fri Apr  4 21:09:46 2014' nvert = 158992 ntri = 317980\n"
       ]
      },
      {
       "output_type": "stream",
       "stream": "stdout",
       "text": [
        "    Left-hemisphere map read.\n"
       ]
      },
      {
       "output_type": "stream",
       "stream": "stdout",
       "text": [
        "    Right-hemisphere map read.\n"
       ]
      },
      {
       "output_type": "stream",
       "stream": "stdout",
       "text": [
        "    1 smooth iterations done.\n"
       ]
      },
      {
       "output_type": "stream",
       "stream": "stdout",
       "text": [
        "[done]\n"
       ]
      },
      {
       "output_type": "stream",
       "stream": "stdout",
       "text": [
        "Morphing data...\n"
       ]
      },
      {
       "output_type": "stream",
       "stream": "stdout",
       "text": [
        "Triangle file: b'created by greve on Thu Jun  8 19:17:51 2006' nvert = 163842 ntri = 327680\n"
       ]
      },
      {
       "output_type": "stream",
       "stream": "stdout",
       "text": [
        "Triangle file: b'created by greve on Thu Jun  8 19:17:51 2006' nvert = 163842 ntri = 327680\n"
       ]
      },
      {
       "output_type": "stream",
       "stream": "stdout",
       "text": [
        "Triangle file: b'created by gio on Fri Apr  4 19:00:54 2014' nvert = 171672 ntri = 343340\n"
       ]
      },
      {
       "output_type": "stream",
       "stream": "stdout",
       "text": [
        "Triangle file: b'created by gio on Fri Apr  4 21:09:46 2014' nvert = 158992 ntri = 317980\n"
       ]
      },
      {
       "output_type": "stream",
       "stream": "stdout",
       "text": [
        "    Left-hemisphere map read.\n"
       ]
      },
      {
       "output_type": "stream",
       "stream": "stdout",
       "text": [
        "    Right-hemisphere map read.\n"
       ]
      },
      {
       "output_type": "stream",
       "stream": "stdout",
       "text": [
        "    1 smooth iterations done.\n"
       ]
      },
      {
       "output_type": "stream",
       "stream": "stdout",
       "text": [
        "[done]\n"
       ]
      },
      {
       "output_type": "stream",
       "stream": "stdout",
       "text": [
        "Morphing data...\n"
       ]
      },
      {
       "output_type": "stream",
       "stream": "stdout",
       "text": [
        "Triangle file: b'created by greve on Thu Jun  8 19:17:51 2006' nvert = 163842 ntri = 327680\n"
       ]
      },
      {
       "output_type": "stream",
       "stream": "stdout",
       "text": [
        "Triangle file: b'created by greve on Thu Jun  8 19:17:51 2006' nvert = 163842 ntri = 327680\n"
       ]
      },
      {
       "output_type": "stream",
       "stream": "stdout",
       "text": [
        "Triangle file: b'created by gio on Fri Apr  4 19:00:54 2014' nvert = 171672 ntri = 343340\n"
       ]
      },
      {
       "output_type": "stream",
       "stream": "stdout",
       "text": [
        "Triangle file: b'created by gio on Fri Apr  4 21:09:46 2014' nvert = 158992 ntri = 317980\n"
       ]
      },
      {
       "output_type": "stream",
       "stream": "stdout",
       "text": [
        "    Left-hemisphere map read.\n"
       ]
      },
      {
       "output_type": "stream",
       "stream": "stdout",
       "text": [
        "    Right-hemisphere map read.\n"
       ]
      },
      {
       "output_type": "stream",
       "stream": "stdout",
       "text": [
        "    1 smooth iterations done.\n"
       ]
      },
      {
       "output_type": "stream",
       "stream": "stdout",
       "text": [
        "[done]\n"
       ]
      },
      {
       "output_type": "stream",
       "stream": "stdout",
       "text": [
        "Morphing data...\n"
       ]
      },
      {
       "output_type": "stream",
       "stream": "stdout",
       "text": [
        "Triangle file: b'created by greve on Thu Jun  8 19:17:51 2006' nvert = 163842 ntri = 327680\n"
       ]
      },
      {
       "output_type": "stream",
       "stream": "stdout",
       "text": [
        "Triangle file: b'created by greve on Thu Jun  8 19:17:51 2006' nvert = 163842 ntri = 327680\n"
       ]
      },
      {
       "output_type": "stream",
       "stream": "stdout",
       "text": [
        "Triangle file: b'created by gio on Fri Apr  4 19:00:54 2014' nvert = 171672 ntri = 343340\n"
       ]
      },
      {
       "output_type": "stream",
       "stream": "stdout",
       "text": [
        "Triangle file: b'created by gio on Fri Apr  4 21:09:46 2014' nvert = 158992 ntri = 317980\n"
       ]
      },
      {
       "output_type": "stream",
       "stream": "stdout",
       "text": [
        "    Left-hemisphere map read.\n"
       ]
      },
      {
       "output_type": "stream",
       "stream": "stdout",
       "text": [
        "    Right-hemisphere map read.\n"
       ]
      },
      {
       "output_type": "stream",
       "stream": "stdout",
       "text": [
        "    1 smooth iterations done.\n"
       ]
      },
      {
       "output_type": "stream",
       "stream": "stdout",
       "text": [
        "[done]\n"
       ]
      },
      {
       "output_type": "stream",
       "stream": "stderr",
       "text": [
        "INFO:/home/gpiantoni/projects/spgr/scripts/spgr/read_data.py:MG17 analysis chan 93, with location 93\n"
       ]
      },
      {
       "output_type": "stream",
       "stream": "stderr",
       "text": [
        "WARNING:phypno.attr.anat:Could not find lookup table, some functions that rely on it might complain or crash.\n"
       ]
      },
      {
       "output_type": "stream",
       "stream": "stderr",
       "text": [
        "INFO:/home/gpiantoni/projects/spgr/scripts/spgr/read_data.py:Subj MG17, reading data: MG17_sleep_grid_hp005_lp500_rs256.pkl\n"
       ]
      },
      {
       "output_type": "stream",
       "stream": "stderr",
       "text": [
        "INFO:/home/gpiantoni/projects/spgr/scripts/spgr/read_data.py:MG17 analysis chan 93, with location 93\n"
       ]
      },
      {
       "output_type": "stream",
       "stream": "stderr",
       "text": [
        "-c:3: RuntimeWarning: invalid value encountered in long_scalars\n"
       ]
      },
      {
       "output_type": "stream",
       "stream": "stdout",
       "text": [
        "Morphing data...\n"
       ]
      },
      {
       "output_type": "stream",
       "stream": "stdout",
       "text": [
        "Triangle file: b'created by greve on Thu Jun  8 19:17:51 2006' nvert = 163842 ntri = 327680\n"
       ]
      },
      {
       "output_type": "stream",
       "stream": "stdout",
       "text": [
        "Triangle file: b'created by greve on Thu Jun  8 19:17:51 2006' nvert = 163842 ntri = 327680\n"
       ]
      },
      {
       "output_type": "stream",
       "stream": "stdout",
       "text": [
        "Triangle file: b'created by gio on Wed Dec  4 10:58:01 2013' nvert = 118351 ntri = 236698\n"
       ]
      },
      {
       "output_type": "stream",
       "stream": "stdout",
       "text": [
        "Triangle file: b'created by gio on Wed Dec  4 13:03:36 2013' nvert = 107919 ntri = 215834\n"
       ]
      },
      {
       "output_type": "stream",
       "stream": "stdout",
       "text": [
        "    Left-hemisphere map read.\n"
       ]
      },
      {
       "output_type": "stream",
       "stream": "stdout",
       "text": [
        "    Right-hemisphere map read.\n"
       ]
      },
      {
       "output_type": "stream",
       "stream": "stdout",
       "text": [
        "    1 smooth iterations done.\n"
       ]
      },
      {
       "output_type": "stream",
       "stream": "stdout",
       "text": [
        "[done]\n"
       ]
      },
      {
       "output_type": "stream",
       "stream": "stdout",
       "text": [
        "Morphing data...\n"
       ]
      },
      {
       "output_type": "stream",
       "stream": "stdout",
       "text": [
        "Triangle file: b'created by greve on Thu Jun  8 19:17:51 2006' nvert = 163842 ntri = 327680\n"
       ]
      },
      {
       "output_type": "stream",
       "stream": "stdout",
       "text": [
        "Triangle file: b'created by greve on Thu Jun  8 19:17:51 2006' nvert = 163842 ntri = 327680\n"
       ]
      },
      {
       "output_type": "stream",
       "stream": "stdout",
       "text": [
        "Triangle file: b'created by gio on Wed Dec  4 10:58:01 2013' nvert = 118351 ntri = 236698\n"
       ]
      },
      {
       "output_type": "stream",
       "stream": "stdout",
       "text": [
        "Triangle file: b'created by gio on Wed Dec  4 13:03:36 2013' nvert = 107919 ntri = 215834\n"
       ]
      },
      {
       "output_type": "stream",
       "stream": "stdout",
       "text": [
        "    Left-hemisphere map read.\n"
       ]
      },
      {
       "output_type": "stream",
       "stream": "stdout",
       "text": [
        "    Right-hemisphere map read.\n"
       ]
      },
      {
       "output_type": "stream",
       "stream": "stdout",
       "text": [
        "    1 smooth iterations done.\n"
       ]
      },
      {
       "output_type": "stream",
       "stream": "stdout",
       "text": [
        "[done]\n"
       ]
      },
      {
       "output_type": "stream",
       "stream": "stdout",
       "text": [
        "Morphing data...\n"
       ]
      },
      {
       "output_type": "stream",
       "stream": "stdout",
       "text": [
        "Triangle file: b'created by greve on Thu Jun  8 19:17:51 2006' nvert = 163842 ntri = 327680\n"
       ]
      },
      {
       "output_type": "stream",
       "stream": "stdout",
       "text": [
        "Triangle file: b'created by greve on Thu Jun  8 19:17:51 2006' nvert = 163842 ntri = 327680\n"
       ]
      },
      {
       "output_type": "stream",
       "stream": "stdout",
       "text": [
        "Triangle file: b'created by gio on Wed Dec  4 10:58:01 2013' nvert = 118351 ntri = 236698\n"
       ]
      },
      {
       "output_type": "stream",
       "stream": "stdout",
       "text": [
        "Triangle file: b'created by gio on Wed Dec  4 13:03:36 2013' nvert = 107919 ntri = 215834\n"
       ]
      },
      {
       "output_type": "stream",
       "stream": "stdout",
       "text": [
        "    Left-hemisphere map read.\n"
       ]
      },
      {
       "output_type": "stream",
       "stream": "stdout",
       "text": [
        "    Right-hemisphere map read.\n"
       ]
      },
      {
       "output_type": "stream",
       "stream": "stdout",
       "text": [
        "    1 smooth iterations done.\n"
       ]
      },
      {
       "output_type": "stream",
       "stream": "stdout",
       "text": [
        "[done]\n"
       ]
      },
      {
       "output_type": "stream",
       "stream": "stdout",
       "text": [
        "Morphing data...\n"
       ]
      },
      {
       "output_type": "stream",
       "stream": "stdout",
       "text": [
        "Triangle file: b'created by greve on Thu Jun  8 19:17:51 2006' nvert = 163842 ntri = 327680\n"
       ]
      },
      {
       "output_type": "stream",
       "stream": "stdout",
       "text": [
        "Triangle file: b'created by greve on Thu Jun  8 19:17:51 2006' nvert = 163842 ntri = 327680\n"
       ]
      },
      {
       "output_type": "stream",
       "stream": "stdout",
       "text": [
        "Triangle file: b'created by gio on Wed Dec  4 10:58:01 2013' nvert = 118351 ntri = 236698\n"
       ]
      },
      {
       "output_type": "stream",
       "stream": "stdout",
       "text": [
        "Triangle file: b'created by gio on Wed Dec  4 13:03:36 2013' nvert = 107919 ntri = 215834\n"
       ]
      },
      {
       "output_type": "stream",
       "stream": "stdout",
       "text": [
        "    Left-hemisphere map read.\n"
       ]
      },
      {
       "output_type": "stream",
       "stream": "stdout",
       "text": [
        "    Right-hemisphere map read.\n"
       ]
      },
      {
       "output_type": "stream",
       "stream": "stdout",
       "text": [
        "    1 smooth iterations done.\n"
       ]
      },
      {
       "output_type": "stream",
       "stream": "stdout",
       "text": [
        "[done]\n"
       ]
      },
      {
       "output_type": "stream",
       "stream": "stdout",
       "text": [
        "Morphing data...\n"
       ]
      },
      {
       "output_type": "stream",
       "stream": "stdout",
       "text": [
        "Triangle file: b'created by greve on Thu Jun  8 19:17:51 2006' nvert = 163842 ntri = 327680\n"
       ]
      },
      {
       "output_type": "stream",
       "stream": "stdout",
       "text": [
        "Triangle file: b'created by greve on Thu Jun  8 19:17:51 2006' nvert = 163842 ntri = 327680\n"
       ]
      },
      {
       "output_type": "stream",
       "stream": "stdout",
       "text": [
        "Triangle file: b'created by gio on Wed Dec  4 10:58:01 2013' nvert = 118351 ntri = 236698\n"
       ]
      },
      {
       "output_type": "stream",
       "stream": "stdout",
       "text": [
        "Triangle file: b'created by gio on Wed Dec  4 13:03:36 2013' nvert = 107919 ntri = 215834\n"
       ]
      },
      {
       "output_type": "stream",
       "stream": "stdout",
       "text": [
        "    Left-hemisphere map read.\n"
       ]
      },
      {
       "output_type": "stream",
       "stream": "stdout",
       "text": [
        "    Right-hemisphere map read.\n"
       ]
      },
      {
       "output_type": "stream",
       "stream": "stdout",
       "text": [
        "    1 smooth iterations done.\n"
       ]
      },
      {
       "output_type": "stream",
       "stream": "stdout",
       "text": [
        "[done]\n"
       ]
      },
      {
       "output_type": "stream",
       "stream": "stdout",
       "text": [
        "Morphing data...\n"
       ]
      },
      {
       "output_type": "stream",
       "stream": "stdout",
       "text": [
        "Triangle file: b'created by greve on Thu Jun  8 19:17:51 2006' nvert = 163842 ntri = 327680\n"
       ]
      },
      {
       "output_type": "stream",
       "stream": "stdout",
       "text": [
        "Triangle file: b'created by greve on Thu Jun  8 19:17:51 2006' nvert = 163842 ntri = 327680\n"
       ]
      },
      {
       "output_type": "stream",
       "stream": "stdout",
       "text": [
        "Triangle file: b'created by gio on Wed Dec  4 10:58:01 2013' nvert = 118351 ntri = 236698\n"
       ]
      },
      {
       "output_type": "stream",
       "stream": "stdout",
       "text": [
        "Triangle file: b'created by gio on Wed Dec  4 13:03:36 2013' nvert = 107919 ntri = 215834\n"
       ]
      },
      {
       "output_type": "stream",
       "stream": "stdout",
       "text": [
        "    Left-hemisphere map read.\n"
       ]
      },
      {
       "output_type": "stream",
       "stream": "stdout",
       "text": [
        "    Right-hemisphere map read.\n"
       ]
      },
      {
       "output_type": "stream",
       "stream": "stdout",
       "text": [
        "    1 smooth iterations done.\n"
       ]
      },
      {
       "output_type": "stream",
       "stream": "stdout",
       "text": [
        "[done]\n"
       ]
      },
      {
       "output_type": "stream",
       "stream": "stderr",
       "text": [
        "INFO:/home/gpiantoni/projects/spgr/scripts/spgr/read_data.py:MG33 analysis chan 64, with location 64\n"
       ]
      },
      {
       "output_type": "stream",
       "stream": "stderr",
       "text": [
        "WARNING:phypno.attr.anat:Could not find lookup table, some functions that rely on it might complain or crash.\n"
       ]
      },
      {
       "output_type": "stream",
       "stream": "stderr",
       "text": [
        "INFO:/home/gpiantoni/projects/spgr/scripts/spgr/read_data.py:Subj MG33, reading data: MG33_sleep_grid_hp005_lp500_rs256.pkl\n"
       ]
      },
      {
       "output_type": "stream",
       "stream": "stderr",
       "text": [
        "INFO:/home/gpiantoni/projects/spgr/scripts/spgr/read_data.py:MG33 analysis chan 64, with location 64\n"
       ]
      },
      {
       "output_type": "stream",
       "stream": "stdout",
       "text": [
        "Morphing data...\n"
       ]
      },
      {
       "output_type": "stream",
       "stream": "stdout",
       "text": [
        "Triangle file: b'created by greve on Thu Jun  8 19:17:51 2006' nvert = 163842 ntri = 327680\n"
       ]
      },
      {
       "output_type": "stream",
       "stream": "stdout",
       "text": [
        "Triangle file: b'created by greve on Thu Jun  8 19:17:51 2006' nvert = 163842 ntri = 327680\n"
       ]
      },
      {
       "output_type": "stream",
       "stream": "stdout",
       "text": [
        "Triangle file: b'created by gio on Thu Dec  5 10:36:24 2013' nvert = 125574 ntri = 251144\n"
       ]
      },
      {
       "output_type": "stream",
       "stream": "stdout",
       "text": [
        "Triangle file: b'created by gio on Thu Dec  5 13:17:36 2013' nvert = 138978 ntri = 277952\n"
       ]
      },
      {
       "output_type": "stream",
       "stream": "stdout",
       "text": [
        "    Left-hemisphere map read.\n"
       ]
      },
      {
       "output_type": "stream",
       "stream": "stdout",
       "text": [
        "    Right-hemisphere map read.\n"
       ]
      },
      {
       "output_type": "stream",
       "stream": "stdout",
       "text": [
        "    1 smooth iterations done.\n"
       ]
      },
      {
       "output_type": "stream",
       "stream": "stdout",
       "text": [
        "[done]\n"
       ]
      },
      {
       "output_type": "stream",
       "stream": "stdout",
       "text": [
        "Morphing data...\n"
       ]
      },
      {
       "output_type": "stream",
       "stream": "stdout",
       "text": [
        "Triangle file: b'created by greve on Thu Jun  8 19:17:51 2006' nvert = 163842 ntri = 327680\n"
       ]
      },
      {
       "output_type": "stream",
       "stream": "stdout",
       "text": [
        "Triangle file: b'created by greve on Thu Jun  8 19:17:51 2006' nvert = 163842 ntri = 327680\n"
       ]
      },
      {
       "output_type": "stream",
       "stream": "stdout",
       "text": [
        "Triangle file: b'created by gio on Thu Dec  5 10:36:24 2013' nvert = 125574 ntri = 251144\n"
       ]
      },
      {
       "output_type": "stream",
       "stream": "stdout",
       "text": [
        "Triangle file: b'created by gio on Thu Dec  5 13:17:36 2013' nvert = 138978 ntri = 277952\n"
       ]
      },
      {
       "output_type": "stream",
       "stream": "stdout",
       "text": [
        "    Left-hemisphere map read.\n"
       ]
      },
      {
       "output_type": "stream",
       "stream": "stdout",
       "text": [
        "    Right-hemisphere map read.\n"
       ]
      },
      {
       "output_type": "stream",
       "stream": "stdout",
       "text": [
        "    1 smooth iterations done.\n"
       ]
      },
      {
       "output_type": "stream",
       "stream": "stdout",
       "text": [
        "[done]\n"
       ]
      },
      {
       "output_type": "stream",
       "stream": "stdout",
       "text": [
        "Morphing data...\n"
       ]
      },
      {
       "output_type": "stream",
       "stream": "stdout",
       "text": [
        "Triangle file: b'created by greve on Thu Jun  8 19:17:51 2006' nvert = 163842 ntri = 327680\n"
       ]
      },
      {
       "output_type": "stream",
       "stream": "stdout",
       "text": [
        "Triangle file: b'created by greve on Thu Jun  8 19:17:51 2006' nvert = 163842 ntri = 327680\n"
       ]
      },
      {
       "output_type": "stream",
       "stream": "stdout",
       "text": [
        "Triangle file: b'created by gio on Thu Dec  5 10:36:24 2013' nvert = 125574 ntri = 251144\n"
       ]
      },
      {
       "output_type": "stream",
       "stream": "stdout",
       "text": [
        "Triangle file: b'created by gio on Thu Dec  5 13:17:36 2013' nvert = 138978 ntri = 277952\n"
       ]
      },
      {
       "output_type": "stream",
       "stream": "stdout",
       "text": [
        "    Left-hemisphere map read.\n"
       ]
      },
      {
       "output_type": "stream",
       "stream": "stdout",
       "text": [
        "    Right-hemisphere map read.\n"
       ]
      },
      {
       "output_type": "stream",
       "stream": "stdout",
       "text": [
        "    1 smooth iterations done.\n"
       ]
      },
      {
       "output_type": "stream",
       "stream": "stdout",
       "text": [
        "[done]\n"
       ]
      },
      {
       "output_type": "stream",
       "stream": "stdout",
       "text": [
        "Morphing data...\n"
       ]
      },
      {
       "output_type": "stream",
       "stream": "stdout",
       "text": [
        "Triangle file: b'created by greve on Thu Jun  8 19:17:51 2006' nvert = 163842 ntri = 327680\n"
       ]
      },
      {
       "output_type": "stream",
       "stream": "stdout",
       "text": [
        "Triangle file: b'created by greve on Thu Jun  8 19:17:51 2006' nvert = 163842 ntri = 327680\n"
       ]
      },
      {
       "output_type": "stream",
       "stream": "stdout",
       "text": [
        "Triangle file: b'created by gio on Thu Dec  5 10:36:24 2013' nvert = 125574 ntri = 251144\n"
       ]
      },
      {
       "output_type": "stream",
       "stream": "stdout",
       "text": [
        "Triangle file: b'created by gio on Thu Dec  5 13:17:36 2013' nvert = 138978 ntri = 277952\n"
       ]
      },
      {
       "output_type": "stream",
       "stream": "stdout",
       "text": [
        "    Left-hemisphere map read.\n"
       ]
      },
      {
       "output_type": "stream",
       "stream": "stdout",
       "text": [
        "    Right-hemisphere map read.\n"
       ]
      },
      {
       "output_type": "stream",
       "stream": "stdout",
       "text": [
        "    1 smooth iterations done.\n"
       ]
      },
      {
       "output_type": "stream",
       "stream": "stdout",
       "text": [
        "[done]\n"
       ]
      },
      {
       "output_type": "stream",
       "stream": "stdout",
       "text": [
        "Morphing data...\n"
       ]
      },
      {
       "output_type": "stream",
       "stream": "stdout",
       "text": [
        "Triangle file: b'created by greve on Thu Jun  8 19:17:51 2006' nvert = 163842 ntri = 327680\n"
       ]
      },
      {
       "output_type": "stream",
       "stream": "stdout",
       "text": [
        "Triangle file: b'created by greve on Thu Jun  8 19:17:51 2006' nvert = 163842 ntri = 327680\n"
       ]
      },
      {
       "output_type": "stream",
       "stream": "stdout",
       "text": [
        "Triangle file: b'created by gio on Thu Dec  5 10:36:24 2013' nvert = 125574 ntri = 251144\n"
       ]
      },
      {
       "output_type": "stream",
       "stream": "stdout",
       "text": [
        "Triangle file: b'created by gio on Thu Dec  5 13:17:36 2013' nvert = 138978 ntri = 277952\n"
       ]
      },
      {
       "output_type": "stream",
       "stream": "stdout",
       "text": [
        "    Left-hemisphere map read.\n"
       ]
      },
      {
       "output_type": "stream",
       "stream": "stdout",
       "text": [
        "    Right-hemisphere map read.\n"
       ]
      },
      {
       "output_type": "stream",
       "stream": "stdout",
       "text": [
        "    1 smooth iterations done.\n"
       ]
      },
      {
       "output_type": "stream",
       "stream": "stdout",
       "text": [
        "[done]\n"
       ]
      },
      {
       "output_type": "stream",
       "stream": "stdout",
       "text": [
        "Morphing data...\n"
       ]
      },
      {
       "output_type": "stream",
       "stream": "stdout",
       "text": [
        "Triangle file: b'created by greve on Thu Jun  8 19:17:51 2006' nvert = 163842 ntri = 327680\n"
       ]
      },
      {
       "output_type": "stream",
       "stream": "stdout",
       "text": [
        "Triangle file: b'created by greve on Thu Jun  8 19:17:51 2006' nvert = 163842 ntri = 327680\n"
       ]
      },
      {
       "output_type": "stream",
       "stream": "stdout",
       "text": [
        "Triangle file: b'created by gio on Thu Dec  5 10:36:24 2013' nvert = 125574 ntri = 251144\n"
       ]
      },
      {
       "output_type": "stream",
       "stream": "stdout",
       "text": [
        "Triangle file: b'created by gio on Thu Dec  5 13:17:36 2013' nvert = 138978 ntri = 277952\n"
       ]
      },
      {
       "output_type": "stream",
       "stream": "stdout",
       "text": [
        "    Left-hemisphere map read.\n"
       ]
      },
      {
       "output_type": "stream",
       "stream": "stdout",
       "text": [
        "    Right-hemisphere map read.\n"
       ]
      },
      {
       "output_type": "stream",
       "stream": "stdout",
       "text": [
        "    1 smooth iterations done.\n"
       ]
      },
      {
       "output_type": "stream",
       "stream": "stdout",
       "text": [
        "[done]\n"
       ]
      },
      {
       "output_type": "stream",
       "stream": "stderr",
       "text": [
        "INFO:/home/gpiantoni/projects/spgr/scripts/spgr/read_data.py:MG37 analysis chan 78, with location 78\n"
       ]
      },
      {
       "output_type": "stream",
       "stream": "stderr",
       "text": [
        "WARNING:phypno.attr.anat:Could not find lookup table, some functions that rely on it might complain or crash.\n"
       ]
      },
      {
       "output_type": "stream",
       "stream": "stderr",
       "text": [
        "INFO:/home/gpiantoni/projects/spgr/scripts/spgr/read_data.py:Subj MG37, reading data: MG37_sleep_grid_hp005_lp500_rs256.pkl\n"
       ]
      },
      {
       "output_type": "stream",
       "stream": "stderr",
       "text": [
        "INFO:/home/gpiantoni/projects/spgr/scripts/spgr/read_data.py:MG37 analysis chan 78, with location 78\n"
       ]
      },
      {
       "output_type": "stream",
       "stream": "stdout",
       "text": [
        "Morphing data...\n"
       ]
      },
      {
       "output_type": "stream",
       "stream": "stdout",
       "text": [
        "Triangle file: b'created by greve on Thu Jun  8 19:17:51 2006' nvert = 163842 ntri = 327680\n"
       ]
      },
      {
       "output_type": "stream",
       "stream": "stdout",
       "text": [
        "Triangle file: b'created by greve on Thu Jun  8 19:17:51 2006' nvert = 163842 ntri = 327680\n"
       ]
      },
      {
       "output_type": "stream",
       "stream": "stdout",
       "text": [
        "Triangle file: b'created by gio on Thu Mar 13 17:44:21 2014' nvert = 151279 ntri = 302554\n"
       ]
      },
      {
       "output_type": "stream",
       "stream": "stdout",
       "text": [
        "Triangle file: b'created by gio on Thu Mar 13 18:54:03 2014' nvert = 154198 ntri = 308392\n"
       ]
      },
      {
       "output_type": "stream",
       "stream": "stdout",
       "text": [
        "    Left-hemisphere map read.\n"
       ]
      },
      {
       "output_type": "stream",
       "stream": "stdout",
       "text": [
        "    Right-hemisphere map read.\n"
       ]
      },
      {
       "output_type": "stream",
       "stream": "stdout",
       "text": [
        "    1 smooth iterations done.\n"
       ]
      },
      {
       "output_type": "stream",
       "stream": "stdout",
       "text": [
        "[done]\n"
       ]
      },
      {
       "output_type": "stream",
       "stream": "stdout",
       "text": [
        "Morphing data...\n"
       ]
      },
      {
       "output_type": "stream",
       "stream": "stdout",
       "text": [
        "Triangle file: b'created by greve on Thu Jun  8 19:17:51 2006' nvert = 163842 ntri = 327680\n"
       ]
      },
      {
       "output_type": "stream",
       "stream": "stdout",
       "text": [
        "Triangle file: b'created by greve on Thu Jun  8 19:17:51 2006' nvert = 163842 ntri = 327680\n"
       ]
      },
      {
       "output_type": "stream",
       "stream": "stdout",
       "text": [
        "Triangle file: b'created by gio on Thu Mar 13 17:44:21 2014' nvert = 151279 ntri = 302554\n"
       ]
      },
      {
       "output_type": "stream",
       "stream": "stdout",
       "text": [
        "Triangle file: b'created by gio on Thu Mar 13 18:54:03 2014' nvert = 154198 ntri = 308392\n"
       ]
      },
      {
       "output_type": "stream",
       "stream": "stdout",
       "text": [
        "    Left-hemisphere map read.\n"
       ]
      },
      {
       "output_type": "stream",
       "stream": "stdout",
       "text": [
        "    Right-hemisphere map read.\n"
       ]
      },
      {
       "output_type": "stream",
       "stream": "stdout",
       "text": [
        "    1 smooth iterations done.\n"
       ]
      },
      {
       "output_type": "stream",
       "stream": "stdout",
       "text": [
        "[done]\n"
       ]
      },
      {
       "output_type": "stream",
       "stream": "stdout",
       "text": [
        "Morphing data...\n"
       ]
      },
      {
       "output_type": "stream",
       "stream": "stdout",
       "text": [
        "Triangle file: b'created by greve on Thu Jun  8 19:17:51 2006' nvert = 163842 ntri = 327680\n"
       ]
      },
      {
       "output_type": "stream",
       "stream": "stdout",
       "text": [
        "Triangle file: b'created by greve on Thu Jun  8 19:17:51 2006' nvert = 163842 ntri = 327680\n"
       ]
      },
      {
       "output_type": "stream",
       "stream": "stdout",
       "text": [
        "Triangle file: b'created by gio on Thu Mar 13 17:44:21 2014' nvert = 151279 ntri = 302554\n"
       ]
      },
      {
       "output_type": "stream",
       "stream": "stdout",
       "text": [
        "Triangle file: b'created by gio on Thu Mar 13 18:54:03 2014' nvert = 154198 ntri = 308392\n"
       ]
      },
      {
       "output_type": "stream",
       "stream": "stdout",
       "text": [
        "    Left-hemisphere map read.\n"
       ]
      },
      {
       "output_type": "stream",
       "stream": "stdout",
       "text": [
        "    Right-hemisphere map read.\n"
       ]
      },
      {
       "output_type": "stream",
       "stream": "stdout",
       "text": [
        "    1 smooth iterations done.\n"
       ]
      },
      {
       "output_type": "stream",
       "stream": "stdout",
       "text": [
        "[done]\n"
       ]
      },
      {
       "output_type": "stream",
       "stream": "stdout",
       "text": [
        "Morphing data...\n"
       ]
      },
      {
       "output_type": "stream",
       "stream": "stdout",
       "text": [
        "Triangle file: b'created by greve on Thu Jun  8 19:17:51 2006' nvert = 163842 ntri = 327680\n"
       ]
      },
      {
       "output_type": "stream",
       "stream": "stdout",
       "text": [
        "Triangle file: b'created by greve on Thu Jun  8 19:17:51 2006' nvert = 163842 ntri = 327680\n"
       ]
      },
      {
       "output_type": "stream",
       "stream": "stdout",
       "text": [
        "Triangle file: b'created by gio on Thu Mar 13 17:44:21 2014' nvert = 151279 ntri = 302554\n"
       ]
      },
      {
       "output_type": "stream",
       "stream": "stdout",
       "text": [
        "Triangle file: b'created by gio on Thu Mar 13 18:54:03 2014' nvert = 154198 ntri = 308392\n"
       ]
      },
      {
       "output_type": "stream",
       "stream": "stdout",
       "text": [
        "    Left-hemisphere map read.\n"
       ]
      },
      {
       "output_type": "stream",
       "stream": "stdout",
       "text": [
        "    Right-hemisphere map read.\n"
       ]
      },
      {
       "output_type": "stream",
       "stream": "stdout",
       "text": [
        "    1 smooth iterations done.\n"
       ]
      },
      {
       "output_type": "stream",
       "stream": "stdout",
       "text": [
        "[done]\n"
       ]
      },
      {
       "output_type": "stream",
       "stream": "stdout",
       "text": [
        "Morphing data...\n"
       ]
      },
      {
       "output_type": "stream",
       "stream": "stdout",
       "text": [
        "Triangle file: b'created by greve on Thu Jun  8 19:17:51 2006' nvert = 163842 ntri = 327680\n"
       ]
      },
      {
       "output_type": "stream",
       "stream": "stdout",
       "text": [
        "Triangle file: b'created by greve on Thu Jun  8 19:17:51 2006' nvert = 163842 ntri = 327680\n"
       ]
      },
      {
       "output_type": "stream",
       "stream": "stdout",
       "text": [
        "Triangle file: b'created by gio on Thu Mar 13 17:44:21 2014' nvert = 151279 ntri = 302554\n"
       ]
      },
      {
       "output_type": "stream",
       "stream": "stdout",
       "text": [
        "Triangle file: b'created by gio on Thu Mar 13 18:54:03 2014' nvert = 154198 ntri = 308392\n"
       ]
      },
      {
       "output_type": "stream",
       "stream": "stdout",
       "text": [
        "    Left-hemisphere map read.\n"
       ]
      },
      {
       "output_type": "stream",
       "stream": "stdout",
       "text": [
        "    Right-hemisphere map read.\n"
       ]
      },
      {
       "output_type": "stream",
       "stream": "stdout",
       "text": [
        "    1 smooth iterations done.\n"
       ]
      },
      {
       "output_type": "stream",
       "stream": "stdout",
       "text": [
        "[done]\n"
       ]
      },
      {
       "output_type": "stream",
       "stream": "stdout",
       "text": [
        "Morphing data...\n"
       ]
      },
      {
       "output_type": "stream",
       "stream": "stdout",
       "text": [
        "Triangle file: b'created by greve on Thu Jun  8 19:17:51 2006' nvert = 163842 ntri = 327680\n"
       ]
      },
      {
       "output_type": "stream",
       "stream": "stdout",
       "text": [
        "Triangle file: b'created by greve on Thu Jun  8 19:17:51 2006' nvert = 163842 ntri = 327680\n"
       ]
      },
      {
       "output_type": "stream",
       "stream": "stdout",
       "text": [
        "Triangle file: b'created by gio on Thu Mar 13 17:44:21 2014' nvert = 151279 ntri = 302554\n"
       ]
      },
      {
       "output_type": "stream",
       "stream": "stdout",
       "text": [
        "Triangle file: b'created by gio on Thu Mar 13 18:54:03 2014' nvert = 154198 ntri = 308392\n"
       ]
      },
      {
       "output_type": "stream",
       "stream": "stdout",
       "text": [
        "    Left-hemisphere map read.\n"
       ]
      },
      {
       "output_type": "stream",
       "stream": "stdout",
       "text": [
        "    Right-hemisphere map read.\n"
       ]
      },
      {
       "output_type": "stream",
       "stream": "stdout",
       "text": [
        "    1 smooth iterations done.\n"
       ]
      },
      {
       "output_type": "stream",
       "stream": "stdout",
       "text": [
        "[done]\n"
       ]
      },
      {
       "output_type": "stream",
       "stream": "stderr",
       "text": [
        "INFO:/home/gpiantoni/projects/spgr/scripts/spgr/read_data.py:MG61 analysis chan 93, with location 93\n"
       ]
      },
      {
       "output_type": "stream",
       "stream": "stderr",
       "text": [
        "WARNING:phypno.attr.anat:Could not find lookup table, some functions that rely on it might complain or crash.\n"
       ]
      },
      {
       "output_type": "stream",
       "stream": "stderr",
       "text": [
        "INFO:/home/gpiantoni/projects/spgr/scripts/spgr/read_data.py:Subj MG61, reading data: MG61_sleep_grid_hp005_lp500_rs256.pkl\n"
       ]
      },
      {
       "output_type": "stream",
       "stream": "stderr",
       "text": [
        "INFO:/home/gpiantoni/projects/spgr/scripts/spgr/read_data.py:MG61 analysis chan 93, with location 93\n"
       ]
      },
      {
       "output_type": "stream",
       "stream": "stdout",
       "text": [
        "Morphing data...\n"
       ]
      },
      {
       "output_type": "stream",
       "stream": "stdout",
       "text": [
        "Triangle file: b'created by greve on Thu Jun  8 19:17:51 2006' nvert = 163842 ntri = 327680\n"
       ]
      },
      {
       "output_type": "stream",
       "stream": "stdout",
       "text": [
        "Triangle file: b'created by greve on Thu Jun  8 19:17:51 2006' nvert = 163842 ntri = 327680\n"
       ]
      },
      {
       "output_type": "stream",
       "stream": "stdout",
       "text": [
        "Triangle file: b'created by gio on Wed Dec  4 10:53:47 2013' nvert = 104599 ntri = 209194\n"
       ]
      },
      {
       "output_type": "stream",
       "stream": "stdout",
       "text": [
        "Triangle file: b'created by gio on Wed Dec  4 13:15:03 2013' nvert = 135906 ntri = 271808\n"
       ]
      },
      {
       "output_type": "stream",
       "stream": "stdout",
       "text": [
        "    Left-hemisphere map read.\n"
       ]
      },
      {
       "output_type": "stream",
       "stream": "stdout",
       "text": [
        "    Right-hemisphere map read.\n"
       ]
      },
      {
       "output_type": "stream",
       "stream": "stdout",
       "text": [
        "    1 smooth iterations done.\n"
       ]
      },
      {
       "output_type": "stream",
       "stream": "stdout",
       "text": [
        "[done]\n"
       ]
      },
      {
       "output_type": "stream",
       "stream": "stdout",
       "text": [
        "Morphing data...\n"
       ]
      },
      {
       "output_type": "stream",
       "stream": "stdout",
       "text": [
        "Triangle file: b'created by greve on Thu Jun  8 19:17:51 2006' nvert = 163842 ntri = 327680\n"
       ]
      },
      {
       "output_type": "stream",
       "stream": "stdout",
       "text": [
        "Triangle file: b'created by greve on Thu Jun  8 19:17:51 2006' nvert = 163842 ntri = 327680\n"
       ]
      },
      {
       "output_type": "stream",
       "stream": "stdout",
       "text": [
        "Triangle file: b'created by gio on Wed Dec  4 10:53:47 2013' nvert = 104599 ntri = 209194\n"
       ]
      },
      {
       "output_type": "stream",
       "stream": "stdout",
       "text": [
        "Triangle file: b'created by gio on Wed Dec  4 13:15:03 2013' nvert = 135906 ntri = 271808\n"
       ]
      },
      {
       "output_type": "stream",
       "stream": "stdout",
       "text": [
        "    Left-hemisphere map read.\n"
       ]
      },
      {
       "output_type": "stream",
       "stream": "stdout",
       "text": [
        "    Right-hemisphere map read.\n"
       ]
      },
      {
       "output_type": "stream",
       "stream": "stdout",
       "text": [
        "    1 smooth iterations done.\n"
       ]
      },
      {
       "output_type": "stream",
       "stream": "stdout",
       "text": [
        "[done]\n"
       ]
      },
      {
       "output_type": "stream",
       "stream": "stdout",
       "text": [
        "Morphing data...\n"
       ]
      },
      {
       "output_type": "stream",
       "stream": "stdout",
       "text": [
        "Triangle file: b'created by greve on Thu Jun  8 19:17:51 2006' nvert = 163842 ntri = 327680\n"
       ]
      },
      {
       "output_type": "stream",
       "stream": "stdout",
       "text": [
        "Triangle file: b'created by greve on Thu Jun  8 19:17:51 2006' nvert = 163842 ntri = 327680\n"
       ]
      },
      {
       "output_type": "stream",
       "stream": "stdout",
       "text": [
        "Triangle file: b'created by gio on Wed Dec  4 10:53:47 2013' nvert = 104599 ntri = 209194\n"
       ]
      },
      {
       "output_type": "stream",
       "stream": "stdout",
       "text": [
        "Triangle file: b'created by gio on Wed Dec  4 13:15:03 2013' nvert = 135906 ntri = 271808\n"
       ]
      },
      {
       "output_type": "stream",
       "stream": "stdout",
       "text": [
        "    Left-hemisphere map read.\n"
       ]
      },
      {
       "output_type": "stream",
       "stream": "stdout",
       "text": [
        "    Right-hemisphere map read.\n"
       ]
      },
      {
       "output_type": "stream",
       "stream": "stdout",
       "text": [
        "    1 smooth iterations done.\n"
       ]
      },
      {
       "output_type": "stream",
       "stream": "stdout",
       "text": [
        "[done]\n"
       ]
      },
      {
       "output_type": "stream",
       "stream": "stdout",
       "text": [
        "Morphing data...\n"
       ]
      },
      {
       "output_type": "stream",
       "stream": "stdout",
       "text": [
        "Triangle file: b'created by greve on Thu Jun  8 19:17:51 2006' nvert = 163842 ntri = 327680\n"
       ]
      },
      {
       "output_type": "stream",
       "stream": "stdout",
       "text": [
        "Triangle file: b'created by greve on Thu Jun  8 19:17:51 2006' nvert = 163842 ntri = 327680\n"
       ]
      },
      {
       "output_type": "stream",
       "stream": "stdout",
       "text": [
        "Triangle file: b'created by gio on Wed Dec  4 10:53:47 2013' nvert = 104599 ntri = 209194\n"
       ]
      },
      {
       "output_type": "stream",
       "stream": "stdout",
       "text": [
        "Triangle file: b'created by gio on Wed Dec  4 13:15:03 2013' nvert = 135906 ntri = 271808\n"
       ]
      },
      {
       "output_type": "stream",
       "stream": "stdout",
       "text": [
        "    Left-hemisphere map read.\n"
       ]
      },
      {
       "output_type": "stream",
       "stream": "stdout",
       "text": [
        "    Right-hemisphere map read.\n"
       ]
      },
      {
       "output_type": "stream",
       "stream": "stdout",
       "text": [
        "    1 smooth iterations done.\n"
       ]
      },
      {
       "output_type": "stream",
       "stream": "stdout",
       "text": [
        "[done]\n"
       ]
      },
      {
       "output_type": "stream",
       "stream": "stdout",
       "text": [
        "Morphing data...\n"
       ]
      },
      {
       "output_type": "stream",
       "stream": "stdout",
       "text": [
        "Triangle file: b'created by greve on Thu Jun  8 19:17:51 2006' nvert = 163842 ntri = 327680\n"
       ]
      },
      {
       "output_type": "stream",
       "stream": "stdout",
       "text": [
        "Triangle file: b'created by greve on Thu Jun  8 19:17:51 2006' nvert = 163842 ntri = 327680\n"
       ]
      },
      {
       "output_type": "stream",
       "stream": "stdout",
       "text": [
        "Triangle file: b'created by gio on Wed Dec  4 10:53:47 2013' nvert = 104599 ntri = 209194\n"
       ]
      },
      {
       "output_type": "stream",
       "stream": "stdout",
       "text": [
        "Triangle file: b'created by gio on Wed Dec  4 13:15:03 2013' nvert = 135906 ntri = 271808\n"
       ]
      },
      {
       "output_type": "stream",
       "stream": "stdout",
       "text": [
        "    Left-hemisphere map read.\n"
       ]
      },
      {
       "output_type": "stream",
       "stream": "stdout",
       "text": [
        "    Right-hemisphere map read.\n"
       ]
      },
      {
       "output_type": "stream",
       "stream": "stdout",
       "text": [
        "    1 smooth iterations done.\n"
       ]
      },
      {
       "output_type": "stream",
       "stream": "stdout",
       "text": [
        "[done]\n"
       ]
      },
      {
       "output_type": "stream",
       "stream": "stdout",
       "text": [
        "Morphing data...\n"
       ]
      },
      {
       "output_type": "stream",
       "stream": "stdout",
       "text": [
        "Triangle file: b'created by greve on Thu Jun  8 19:17:51 2006' nvert = 163842 ntri = 327680\n"
       ]
      },
      {
       "output_type": "stream",
       "stream": "stdout",
       "text": [
        "Triangle file: b'created by greve on Thu Jun  8 19:17:51 2006' nvert = 163842 ntri = 327680\n"
       ]
      },
      {
       "output_type": "stream",
       "stream": "stdout",
       "text": [
        "Triangle file: b'created by gio on Wed Dec  4 10:53:47 2013' nvert = 104599 ntri = 209194\n"
       ]
      },
      {
       "output_type": "stream",
       "stream": "stdout",
       "text": [
        "Triangle file: b'created by gio on Wed Dec  4 13:15:03 2013' nvert = 135906 ntri = 271808\n"
       ]
      },
      {
       "output_type": "stream",
       "stream": "stdout",
       "text": [
        "    Left-hemisphere map read.\n"
       ]
      },
      {
       "output_type": "stream",
       "stream": "stdout",
       "text": [
        "    Right-hemisphere map read.\n"
       ]
      },
      {
       "output_type": "stream",
       "stream": "stdout",
       "text": [
        "    1 smooth iterations done.\n"
       ]
      },
      {
       "output_type": "stream",
       "stream": "stdout",
       "text": [
        "[done]\n"
       ]
      },
      {
       "output_type": "stream",
       "stream": "stderr",
       "text": [
        "INFO:/home/gpiantoni/projects/spgr/scripts/spgr/read_data.py:MG63 analysis chan 93, with location 93\n"
       ]
      },
      {
       "output_type": "stream",
       "stream": "stderr",
       "text": [
        "WARNING:phypno.attr.anat:Could not find lookup table, some functions that rely on it might complain or crash.\n"
       ]
      },
      {
       "output_type": "stream",
       "stream": "stderr",
       "text": [
        "INFO:/home/gpiantoni/projects/spgr/scripts/spgr/read_data.py:Subj MG63, reading data: MG63_sleep_grid_hp005_lp500_rs256.pkl\n"
       ]
      },
      {
       "output_type": "stream",
       "stream": "stderr",
       "text": [
        "INFO:/home/gpiantoni/projects/spgr/scripts/spgr/read_data.py:MG63 analysis chan 93, with location 93\n"
       ]
      },
      {
       "output_type": "stream",
       "stream": "stdout",
       "text": [
        "Morphing data...\n"
       ]
      },
      {
       "output_type": "stream",
       "stream": "stdout",
       "text": [
        "Triangle file: b'created by greve on Thu Jun  8 19:17:51 2006' nvert = 163842 ntri = 327680\n"
       ]
      },
      {
       "output_type": "stream",
       "stream": "stdout",
       "text": [
        "Triangle file: b'created by greve on Thu Jun  8 19:17:51 2006' nvert = 163842 ntri = 327680\n"
       ]
      },
      {
       "output_type": "stream",
       "stream": "stdout",
       "text": [
        "Triangle file: b'created by gio on Fri Dec  6 17:49:39 2013' nvert = 136748 ntri = 273492\n"
       ]
      },
      {
       "output_type": "stream",
       "stream": "stdout",
       "text": [
        "Triangle file: b'created by gio on Fri Dec  6 18:59:10 2013' nvert = 134194 ntri = 268384\n"
       ]
      },
      {
       "output_type": "stream",
       "stream": "stdout",
       "text": [
        "    Left-hemisphere map read.\n"
       ]
      },
      {
       "output_type": "stream",
       "stream": "stdout",
       "text": [
        "    Right-hemisphere map read.\n"
       ]
      },
      {
       "output_type": "stream",
       "stream": "stdout",
       "text": [
        "    1 smooth iterations done.\n"
       ]
      },
      {
       "output_type": "stream",
       "stream": "stdout",
       "text": [
        "[done]\n"
       ]
      },
      {
       "output_type": "stream",
       "stream": "stdout",
       "text": [
        "Morphing data...\n"
       ]
      },
      {
       "output_type": "stream",
       "stream": "stdout",
       "text": [
        "Triangle file: b'created by greve on Thu Jun  8 19:17:51 2006' nvert = 163842 ntri = 327680\n"
       ]
      },
      {
       "output_type": "stream",
       "stream": "stdout",
       "text": [
        "Triangle file: b'created by greve on Thu Jun  8 19:17:51 2006' nvert = 163842 ntri = 327680\n"
       ]
      },
      {
       "output_type": "stream",
       "stream": "stdout",
       "text": [
        "Triangle file: b'created by gio on Fri Dec  6 17:49:39 2013' nvert = 136748 ntri = 273492\n"
       ]
      },
      {
       "output_type": "stream",
       "stream": "stdout",
       "text": [
        "Triangle file: b'created by gio on Fri Dec  6 18:59:10 2013' nvert = 134194 ntri = 268384\n"
       ]
      },
      {
       "output_type": "stream",
       "stream": "stdout",
       "text": [
        "    Left-hemisphere map read.\n"
       ]
      },
      {
       "output_type": "stream",
       "stream": "stdout",
       "text": [
        "    Right-hemisphere map read.\n"
       ]
      },
      {
       "output_type": "stream",
       "stream": "stdout",
       "text": [
        "    1 smooth iterations done.\n"
       ]
      },
      {
       "output_type": "stream",
       "stream": "stdout",
       "text": [
        "[done]\n"
       ]
      },
      {
       "output_type": "stream",
       "stream": "stdout",
       "text": [
        "Morphing data...\n"
       ]
      },
      {
       "output_type": "stream",
       "stream": "stdout",
       "text": [
        "Triangle file: b'created by greve on Thu Jun  8 19:17:51 2006' nvert = 163842 ntri = 327680\n"
       ]
      },
      {
       "output_type": "stream",
       "stream": "stdout",
       "text": [
        "Triangle file: b'created by greve on Thu Jun  8 19:17:51 2006' nvert = 163842 ntri = 327680\n"
       ]
      },
      {
       "output_type": "stream",
       "stream": "stdout",
       "text": [
        "Triangle file: b'created by gio on Fri Dec  6 17:49:39 2013' nvert = 136748 ntri = 273492\n"
       ]
      },
      {
       "output_type": "stream",
       "stream": "stdout",
       "text": [
        "Triangle file: b'created by gio on Fri Dec  6 18:59:10 2013' nvert = 134194 ntri = 268384\n"
       ]
      },
      {
       "output_type": "stream",
       "stream": "stdout",
       "text": [
        "    Left-hemisphere map read.\n"
       ]
      },
      {
       "output_type": "stream",
       "stream": "stdout",
       "text": [
        "    Right-hemisphere map read.\n"
       ]
      },
      {
       "output_type": "stream",
       "stream": "stdout",
       "text": [
        "    1 smooth iterations done.\n"
       ]
      },
      {
       "output_type": "stream",
       "stream": "stdout",
       "text": [
        "[done]\n"
       ]
      },
      {
       "output_type": "stream",
       "stream": "stdout",
       "text": [
        "Morphing data...\n"
       ]
      },
      {
       "output_type": "stream",
       "stream": "stdout",
       "text": [
        "Triangle file: b'created by greve on Thu Jun  8 19:17:51 2006' nvert = 163842 ntri = 327680\n"
       ]
      },
      {
       "output_type": "stream",
       "stream": "stdout",
       "text": [
        "Triangle file: b'created by greve on Thu Jun  8 19:17:51 2006' nvert = 163842 ntri = 327680\n"
       ]
      },
      {
       "output_type": "stream",
       "stream": "stdout",
       "text": [
        "Triangle file: b'created by gio on Fri Dec  6 17:49:39 2013' nvert = 136748 ntri = 273492\n"
       ]
      },
      {
       "output_type": "stream",
       "stream": "stdout",
       "text": [
        "Triangle file: b'created by gio on Fri Dec  6 18:59:10 2013' nvert = 134194 ntri = 268384\n"
       ]
      },
      {
       "output_type": "stream",
       "stream": "stdout",
       "text": [
        "    Left-hemisphere map read.\n"
       ]
      },
      {
       "output_type": "stream",
       "stream": "stdout",
       "text": [
        "    Right-hemisphere map read.\n"
       ]
      },
      {
       "output_type": "stream",
       "stream": "stdout",
       "text": [
        "    1 smooth iterations done.\n"
       ]
      },
      {
       "output_type": "stream",
       "stream": "stdout",
       "text": [
        "[done]\n"
       ]
      },
      {
       "output_type": "stream",
       "stream": "stdout",
       "text": [
        "Morphing data...\n"
       ]
      },
      {
       "output_type": "stream",
       "stream": "stdout",
       "text": [
        "Triangle file: b'created by greve on Thu Jun  8 19:17:51 2006' nvert = 163842 ntri = 327680\n"
       ]
      },
      {
       "output_type": "stream",
       "stream": "stdout",
       "text": [
        "Triangle file: b'created by greve on Thu Jun  8 19:17:51 2006' nvert = 163842 ntri = 327680\n"
       ]
      },
      {
       "output_type": "stream",
       "stream": "stdout",
       "text": [
        "Triangle file: b'created by gio on Fri Dec  6 17:49:39 2013' nvert = 136748 ntri = 273492\n"
       ]
      },
      {
       "output_type": "stream",
       "stream": "stdout",
       "text": [
        "Triangle file: b'created by gio on Fri Dec  6 18:59:10 2013' nvert = 134194 ntri = 268384\n"
       ]
      },
      {
       "output_type": "stream",
       "stream": "stdout",
       "text": [
        "    Left-hemisphere map read.\n"
       ]
      },
      {
       "output_type": "stream",
       "stream": "stdout",
       "text": [
        "    Right-hemisphere map read.\n"
       ]
      },
      {
       "output_type": "stream",
       "stream": "stdout",
       "text": [
        "    1 smooth iterations done.\n"
       ]
      },
      {
       "output_type": "stream",
       "stream": "stdout",
       "text": [
        "[done]\n"
       ]
      },
      {
       "output_type": "stream",
       "stream": "stdout",
       "text": [
        "Morphing data...\n"
       ]
      },
      {
       "output_type": "stream",
       "stream": "stdout",
       "text": [
        "Triangle file: b'created by greve on Thu Jun  8 19:17:51 2006' nvert = 163842 ntri = 327680\n"
       ]
      },
      {
       "output_type": "stream",
       "stream": "stdout",
       "text": [
        "Triangle file: b'created by greve on Thu Jun  8 19:17:51 2006' nvert = 163842 ntri = 327680\n"
       ]
      },
      {
       "output_type": "stream",
       "stream": "stdout",
       "text": [
        "Triangle file: b'created by gio on Fri Dec  6 17:49:39 2013' nvert = 136748 ntri = 273492\n"
       ]
      },
      {
       "output_type": "stream",
       "stream": "stdout",
       "text": [
        "Triangle file: b'created by gio on Fri Dec  6 18:59:10 2013' nvert = 134194 ntri = 268384\n"
       ]
      },
      {
       "output_type": "stream",
       "stream": "stdout",
       "text": [
        "    Left-hemisphere map read.\n"
       ]
      },
      {
       "output_type": "stream",
       "stream": "stdout",
       "text": [
        "    Right-hemisphere map read.\n"
       ]
      },
      {
       "output_type": "stream",
       "stream": "stdout",
       "text": [
        "    1 smooth iterations done.\n"
       ]
      },
      {
       "output_type": "stream",
       "stream": "stdout",
       "text": [
        "[done]\n"
       ]
      }
     ],
     "prompt_number": 13
    },
    {
     "cell_type": "heading",
     "level": 3,
     "metadata": {},
     "source": [
      "Spindle Density"
     ]
    },
    {
     "cell_type": "code",
     "collapsed": false,
     "input": [
      "from copy import deepcopy\n",
      "from subprocess import call\n",
      "\n",
      "from numpy import asarray, NaN, nanmean\n",
      "\n",
      "from phypno.viz import Viz3\n",
      "# from visvis import colorbar, screenshot"
     ],
     "language": "python",
     "metadata": {},
     "outputs": [],
     "prompt_number": 14
    },
    {
     "cell_type": "code",
     "collapsed": false,
     "input": [
      "# fs = Freesurfer('/opt/freesurfer/subjects/fsaverage')\n",
      "fs = Freesurfer('/home/gpiantoni/projects/spgr/subjects/EM09/mri/proc/fsaverage')\n",
      "surf_avg = fs.read_surf('rh', 'pial')"
     ],
     "language": "python",
     "metadata": {},
     "outputs": [
      {
       "output_type": "stream",
       "stream": "stderr",
       "text": [
        "WARNING:phypno.attr.anat:Could not find lookup table, some functions that rely on it might complain or crash.\n"
       ]
      }
     ],
     "prompt_number": 20
    },
    {
     "cell_type": "code",
     "collapsed": false,
     "input": [
      "for x in all_count:\n",
      "    x.data[0][x.data[0] < 0.001] = NaN\n",
      "avg_count = deepcopy(all_count[0])\n",
      "avg_count.data[0] = nanmean(asarray([x.data[0] for x in all_count]), axis=0)"
     ],
     "language": "python",
     "metadata": {},
     "outputs": [
      {
       "output_type": "stream",
       "stream": "stderr",
       "text": [
        "-c:2: RuntimeWarning: invalid value encountered in less\n",
        "/home/gpiantoni/miniconda3/lib/python3.4/site-packages/numpy/lib/nanfunctions.py:598: RuntimeWarning: Mean of empty slice\n",
        "  warnings.warn(\"Mean of empty slice\", RuntimeWarning)\n"
       ]
      }
     ],
     "prompt_number": 16
    },
    {
     "cell_type": "code",
     "collapsed": false,
     "input": [
      "v = Viz3()\n",
      "v.add_surf(surf_avg, values=avg_count(trial=0)[163842:], limits_c=(0, 2))\n",
      "v"
     ],
     "language": "python",
     "metadata": {},
     "outputs": [
      {
       "output_type": "stream",
       "stream": "stdout",
       "text": [
        "b\n"
       ]
      },
      {
       "metadata": {},
       "output_type": "pyout",
       "png": "[encoded data removed]",
       "prompt_number": 31,
       "text": [
        "<phypno.viz.plot_3d.Viz3 at 0x7fde9be50a20>"
       ]
      }
     ],
     "prompt_number": 31
    },
    {
     "cell_type": "markdown",
     "metadata": {},
     "source": [
      "The highest number of spindles was concentrated over prefrontal regions.\n",
      "Temporal and occipital regions were relatively quiet (Fig. +[spgr_descriptive]A)."
     ]
    },
    {
     "cell_type": "code",
     "collapsed": false,
     "input": [
      "v = Viz3()\n",
      "v.add_surf(surf_avg, values=avg_count(trial=0)[163842:], limits_c=(0, 2))\n",
      "c = colorbar()\n",
      "v._canvas.DrawNow()\n",
      "\n",
      "png_name = join(OUTPUT_DIR, 'fsaverage_colorbar.png')\n",
      "screenshot(png_name, v._canvas, sf=2)\n",
      "call('convert ' + png_name + ' -crop 60x800+910+21 ' + png_name, shell=True)\n",
      "v._canvas.Destroy()"
     ],
     "language": "python",
     "metadata": {},
     "outputs": []
    },
    {
     "cell_type": "heading",
     "level": 3,
     "metadata": {},
     "source": [
      "Frequency"
     ]
    },
    {
     "cell_type": "markdown",
     "metadata": {},
     "source": [
      "Spindle frequency was higher over the parietal regions (fast spindles) than over the frontal regions (slow spindle).\n",
      "In addition, we found that the slowest spindles are over the occipital cortices (Fig. +[spgr_descriptive]A)."
     ]
    },
    {
     "cell_type": "code",
     "collapsed": false,
     "input": [
      "for x in all_freq:\n",
      "    x.data[0][x.data[0] < spindles_options['frequency'][0]] = NaN\n",
      "    x.data[0][x.data[0] > spindles_options['frequency'][1]] = NaN\n",
      "avg_freq = deepcopy(all_freq[0])\n",
      "avg_freq.data[0] = nanmean(asarray([x.data[0] for x in all_freq]), axis=0)"
     ],
     "language": "python",
     "metadata": {},
     "outputs": []
    },
    {
     "cell_type": "code",
     "collapsed": false,
     "input": [
      "v = Viz3()\n",
      "v.add_surf(surf_avg, values=avg_freq(trial=0)[163842:], limits_c=(10, 14))\n",
      "v._canvas.DrawNow()\n",
      "screenshot(join(OUTPUT_DIR, 'frequency.png'), v._viewbox, sf=2)\n",
      "v"
     ],
     "language": "python",
     "metadata": {},
     "outputs": []
    },
    {
     "cell_type": "code",
     "collapsed": false,
     "input": [
      "for x in all_val:\n",
      "    x.data[0][x.data[0] < 0.001] = NaN\n",
      "avg_map = deepcopy(all_val[0])\n",
      "avg_map.data[0] = nanmean(asarray([x.data[0] for x in all_val]), axis=0)\n",
      "v = Viz3()\n",
      "v.add_surf(surf_avg, values=avg_map(trial=0)[163842:], limits_c=(0, 70))\n",
      "v._canvas.DrawNow()\n",
      "screenshot(join(OUTPUT_DIR, 'amplitude.png'), v._viewbox, sf=2)\n",
      "v"
     ],
     "language": "python",
     "metadata": {},
     "outputs": []
    },
    {
     "cell_type": "code",
     "collapsed": false,
     "input": [
      "for x in all_dur:\n",
      "    x.data[0][x.data[0] < 0.001] = NaN\n",
      "avg_map = deepcopy(all_dur[0])\n",
      "avg_map.data[0] = nanmean(asarray([x.data[0] for x in all_dur]), axis=0)\n",
      "v = Viz3()\n",
      "v.add_surf(surf_avg, values=avg_map(trial=0)[163842:], limits_c=(1, 1.5))\n",
      "v._canvas.DrawNow()\n",
      "screenshot(join(OUTPUT_DIR, 'duration.png'), v._viewbox, sf=2)\n",
      "v"
     ],
     "language": "python",
     "metadata": {},
     "outputs": []
    },
    {
     "cell_type": "code",
     "collapsed": false,
     "input": [
      "for x in all_hist:\n",
      "    x.data[0][x.data[0] < 0.001] = NaN\n",
      "avg_map = deepcopy(all_hist[0])\n",
      "avg_map.data[0] = nanmean(asarray([x.data[0] for x in all_hist]), axis=0)\n",
      "v = Viz3()\n",
      "v.add_surf(surf_avg, values=avg_map(trial=0)[163842:], limits_c=(0, .2))\n",
      "v._canvas.DrawNow()\n",
      "screenshot(join(OUTPUT_DIR, 'periodicity.png'), v._viewbox, sf=2)\n",
      "v"
     ],
     "language": "python",
     "metadata": {},
     "outputs": []
    },
    {
     "cell_type": "code",
     "collapsed": false,
     "input": [
      "for x in all_peak_hist:\n",
      "    x.data[0][x.data[0] < 0.001] = NaN\n",
      "avg_map = deepcopy(all_peak_hist[0])\n",
      "avg_map.data[0] = nanmean(asarray([x.data[0] for x in all_peak_hist]), axis=0)\n",
      "v = Viz3()\n",
      "v.add_surf(surf_avg, values=avg_map(trial=0)[163842:], limits_c=(0, 10))\n",
      "v._canvas.DrawNow()\n",
      "screenshot(join(OUTPUT_DIR, 'peak_periodicity.png'), v._viewbox, sf=2)\n",
      "v"
     ],
     "language": "python",
     "metadata": {},
     "outputs": []
    },
    {
     "cell_type": "code",
     "collapsed": false,
     "input": [
      "for x in all_peak_hist:\n",
      "    x.data[0][x.data[0] < 0.001] = NaN\n",
      "avg_map_1 = deepcopy(all_peak_hist[0])\n",
      "avg_map_1.data[0] = nanmean(asarray([x.data[0] for x in all_peak_hist]), axis=0)\n",
      "\n",
      "avg_map_1.data[0][avg_map.data[0] < 0.15] = NaN\n",
      "\n",
      "v = Viz3()\n",
      "v.add_surf(surf_avg, values=avg_map_1(trial=0)[163842:], limits_c=(0, 10))\n",
      "v._canvas.DrawNow()\n",
      "screenshot(join(OUTPUT_DIR, 'peak_periodicity.png'), v._viewbox, sf=2)\n",
      "v"
     ],
     "language": "python",
     "metadata": {},
     "outputs": []
    }
   ],
   "metadata": {}
  }
 ]
}