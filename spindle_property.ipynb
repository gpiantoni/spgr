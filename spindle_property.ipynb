{
 "metadata": {
  "name": "",
  "signature": "sha256:b4f65c58b3bce52e7a7dee602f0dc84905ea54a0deb07ffea2a1fbf0f0eb867a"
 },
 "nbformat": 3,
 "nbformat_minor": 0,
 "worksheets": [
  {
   "cells": [
    {
     "cell_type": "heading",
     "level": 1,
     "metadata": {},
     "source": [
      "SPGR"
     ]
    },
    {
     "cell_type": "code",
     "collapsed": false,
     "input": [
      "import version_control"
     ],
     "language": "python",
     "metadata": {},
     "outputs": [
      {
       "output_type": "stream",
       "stream": "stdout",
       "text": [
        "Last run on cashlab03-deb at 2014-12-16 13:42:21.606272\n",
        "\n",
        "Phypno Version: 3f478339d5aedefbf73a2cd86ada93efb4e5b734\n",
        "\n",
        "Jinja2==2.7.3, Markdown==2.5.2, MarkupSafe==0.23, Pillow==2.6.1, PyOpenGL==3.1.0, Pygments==2.0.1, Sphinx==1.2.3, certifi==14.05.14, coverage==3.7.1, decorator==3.4.0, docutils==0.12, easydev==0.8.1, h5py==2.3.1, ipython==2.3.1, matplotlib==1.4.2, memory-profiler==0.32, mne==0.8.6, networkx==1.9.1, nibabel==2.0.0, nitime==0.5, nose==1.3.4, numpy==1.9.1, numpydoc==0.5, ordereddict==1.1, pep8==1.5.7, psutil==2.1.3, pycurl==7.19.5, pyflakes==0.8.1, pyparsing==2.0.3, python-dateutil==2.3, python-igraph==0.7, pytz==2014.10, pyzmq==14.4.1, rope-py3k==0.9.4-1, rpy2==2.5.3, scikit-learn==0.15.2, scipy==0.14.0, six==1.8.0, sphinxcontrib-napoleon==0.2.8, spyder==2.3.2, tornado==4.0.2, -e git+git@github.com:vispy/vispy.git@6ee85e2c05fbd095dddccf6ffd7c402f3147105b#egg=vispy-origin/HEAD, visvis==1.9.1, xmltodict==0.9.0, "
       ]
      },
      {
       "output_type": "stream",
       "stream": "stdout",
       "text": [
        "\n"
       ]
      }
     ],
     "prompt_number": 1
    },
    {
     "cell_type": "code",
     "collapsed": false,
     "input": [
      "from spgr import lg\n",
      "lg.setLevel(10)\n",
      "from multiprocessing import set_start_method\n",
      "set_start_method('forkserver')"
     ],
     "language": "python",
     "metadata": {},
     "outputs": [],
     "prompt_number": 2
    },
    {
     "cell_type": "heading",
     "level": 2,
     "metadata": {},
     "source": [
      "Spindle Density"
     ]
    },
    {
     "cell_type": "code",
     "collapsed": false,
     "input": [
      "from os import listdir\n",
      "from spgr.read_data import DATA_DIR\n",
      "\n",
      "all_subj = sorted(listdir(DATA_DIR))\n",
      "print('\\t'.join(all_subj))"
     ],
     "language": "python",
     "metadata": {},
     "outputs": [
      {
       "output_type": "stream",
       "stream": "stdout",
       "text": [
        "EM09\tMG17\tMG33\tMG37\tMG61\tMG63\n"
       ]
      }
     ],
     "prompt_number": 3
    },
    {
     "cell_type": "code",
     "collapsed": false,
     "input": [
      "hemi_subj = {'EM09': 'rh', \n",
      "             'MG17': 'rh',\n",
      "             'MG33': 'lh',\n",
      "             'MG37': 'lh',\n",
      "             'MG61': 'lh',\n",
      "             'MG63': 'rh',\n",
      "             }"
     ],
     "language": "python",
     "metadata": {},
     "outputs": [],
     "prompt_number": 4
    },
    {
     "cell_type": "code",
     "collapsed": false,
     "input": [
      "from copy import deepcopy\n",
      "from os.path import join\n",
      "\n",
      "from IPython.display import HTML, Image"
     ],
     "language": "python",
     "metadata": {},
     "outputs": [],
     "prompt_number": 5
    },
    {
     "cell_type": "code",
     "collapsed": false,
     "input": [
      "from phypno.attr import Freesurfer, Channels\n",
      "from phypno.detect import DetectSpindle\n",
      "from phypno.source import Linear, Morph\n",
      "\n",
      "from phypno.viz import Viz3"
     ],
     "language": "python",
     "metadata": {},
     "outputs": [],
     "prompt_number": 6
    },
    {
     "cell_type": "code",
     "collapsed": false,
     "input": [
      "from spgr.read_data import DATA_DIR, REC_DIR, FS_PATH, ELEC_PATH, get_data, GROUP_DIR, get_chan_used_in_analysis\n",
      "from spgr.detect_spindles import calc_spindle_values\n",
      "from spgr.plot_spindles import show_movies"
     ],
     "language": "python",
     "metadata": {},
     "outputs": [],
     "prompt_number": 7
    },
    {
     "cell_type": "code",
     "collapsed": false,
     "input": [
      "LIMITS = (9, 16)\n",
      "\n",
      "detsp = DetectSpindle(method='Nir2011', frequency=LIMITS, duration=(0.5, 2))"
     ],
     "language": "python",
     "metadata": {},
     "outputs": [],
     "prompt_number": 12
    },
    {
     "cell_type": "code",
     "collapsed": false,
     "input": [
      "count_dir = join(GROUP_DIR, 'detected_count')\n",
      "freq_dir = join(GROUP_DIR, 'detected_frequency')"
     ],
     "language": "python",
     "metadata": {},
     "outputs": [],
     "prompt_number": 9
    },
    {
     "cell_type": "code",
     "collapsed": false,
     "input": [
      "STD = 10\n",
      "THRESHOLD = 20"
     ],
     "language": "python",
     "metadata": {},
     "outputs": [],
     "prompt_number": 10
    },
    {
     "cell_type": "code",
     "collapsed": false,
     "input": [
      "all_count = []\n",
      "all_freq = []\n",
      "\n",
      "for subj in all_subj:\n",
      "    data = get_data(subj, 'sleep', ('grid', ), reref='avg', resample_freq=128)\n",
      "    chan = get_chan_used_in_analysis(subj, 'sleep', ('grid', ), reref='avg', resample_freq=None)[1]\n",
      "    fs = Freesurfer(join(REC_DIR, subj, FS_PATH))\n",
      "    surf = fs.read_surf(hemi_subj[subj])\n",
      "    l = Linear(surf, chan, std=STD, threshold=THRESHOLD)\n",
      "    \n",
      "    spindles = calc_spindle_values(data, detsp, parallel='pool')\n",
      "    spindles = spindles(lambda x: LIMITS[0] <= x['peak_freq'] <= LIMITS[1])\n",
      "    dat_count = spindles.to_data('count')\n",
      "    dat_count.data[0] = dat_count.data[0] / data.number_of('trial') * (data.axis['time'][0][-1] - data.axis['time'][0][0])\n",
      "    dat_freq = spindles.to_data('peak_freq')\n",
      "    \n",
      "    if hemi_subj[subj] == 'lh':\n",
      "        for one_chan in chan.chan:\n",
      "            one_chan.xyz *= (-1, 1, 1)\n",
      "    surf = fs.read_surf('rh')\n",
      "    l = Linear(surf, chan, std=STD, threshold=THRESHOLD)\n",
      "    m = Morph(surf)\n",
      "\n",
      "    all_count.append(m(l(dat_count)))\n",
      "    all_freq.append(m(l(dat_freq)))"
     ],
     "language": "python",
     "metadata": {},
     "outputs": [
      {
       "output_type": "stream",
       "stream": "stderr",
       "text": [
        "INFO:/home/gio/projects/spgr/scripts/spgr/read_data.py:Subj EM09, reading data: EM09_sleep_grid_hp010_lp400_avg_rs128.pkl\n"
       ]
      },
      {
       "output_type": "stream",
       "stream": "stderr",
       "text": [
        "/home/gio/tools/phypno/phypno/attr/chan.py:81: ResourceWarning: unclosed file <_io.TextIOWrapper name='/home/gio/recordings/EM09/doc/elec/EM09_elec_pos-names_sessA.csv' mode='r' encoding='UTF-8'>\n",
        "  num_lines = sum(1 for line in open(elec_file))\n",
        "INFO:/home/gio/projects/spgr/scripts/spgr/read_data.py:EM09 analysis chan 69, with location 69\n"
       ]
      },
      {
       "output_type": "stream",
       "stream": "stdout",
       "text": [
        "Morphing data...\n"
       ]
      },
      {
       "output_type": "stream",
       "stream": "stdout",
       "text": [
        "Triangle file: b'created by greve on Thu Jun  8 19:17:51 2006' nvert = 163842 ntri = 327680\n"
       ]
      },
      {
       "output_type": "stream",
       "stream": "stdout",
       "text": [
        "Triangle file: b'created by greve on Thu Jun  8 19:17:51 2006' nvert = 163842 ntri = 327680\n"
       ]
      },
      {
       "output_type": "stream",
       "stream": "stdout",
       "text": [
        "Triangle file: b'created by gio on Fri Apr  4 19:00:54 2014' nvert = 171672 ntri = 343340\n"
       ]
      },
      {
       "output_type": "stream",
       "stream": "stdout",
       "text": [
        "Triangle file: b'created by gio on Fri Apr  4 21:09:46 2014' nvert = 158992 ntri = 317980\n"
       ]
      },
      {
       "output_type": "stream",
       "stream": "stdout",
       "text": [
        "    Left-hemisphere map read.\n"
       ]
      },
      {
       "output_type": "stream",
       "stream": "stdout",
       "text": [
        "    Right-hemisphere map read.\n"
       ]
      },
      {
       "output_type": "stream",
       "stream": "stdout",
       "text": [
        "    1 smooth iterations done.\n"
       ]
      },
      {
       "output_type": "stream",
       "stream": "stdout",
       "text": [
        "[done]\n"
       ]
      },
      {
       "output_type": "stream",
       "stream": "stdout",
       "text": [
        "Morphing data...\n"
       ]
      },
      {
       "output_type": "stream",
       "stream": "stdout",
       "text": [
        "Triangle file: b'created by greve on Thu Jun  8 19:17:51 2006' nvert = 163842 ntri = 327680\n"
       ]
      },
      {
       "output_type": "stream",
       "stream": "stdout",
       "text": [
        "Triangle file: b'created by greve on Thu Jun  8 19:17:51 2006' nvert = 163842 ntri = 327680\n"
       ]
      },
      {
       "output_type": "stream",
       "stream": "stdout",
       "text": [
        "Triangle file: b'created by gio on Fri Apr  4 19:00:54 2014' nvert = 171672 ntri = 343340\n"
       ]
      },
      {
       "output_type": "stream",
       "stream": "stdout",
       "text": [
        "Triangle file: b'created by gio on Fri Apr  4 21:09:46 2014' nvert = 158992 ntri = 317980\n"
       ]
      },
      {
       "output_type": "stream",
       "stream": "stdout",
       "text": [
        "    Left-hemisphere map read.\n"
       ]
      },
      {
       "output_type": "stream",
       "stream": "stdout",
       "text": [
        "    Right-hemisphere map read.\n"
       ]
      },
      {
       "output_type": "stream",
       "stream": "stdout",
       "text": [
        "    1 smooth iterations done.\n"
       ]
      },
      {
       "output_type": "stream",
       "stream": "stdout",
       "text": [
        "[done]\n"
       ]
      },
      {
       "output_type": "stream",
       "stream": "stderr",
       "text": [
        "INFO:/home/gio/projects/spgr/scripts/spgr/read_data.py:Subj MG17, reading data: MG17_sleep_grid_hp010_lp400_avg_rs128.pkl\n"
       ]
      },
      {
       "output_type": "stream",
       "stream": "stderr",
       "text": [
        "/home/gio/tools/phypno/phypno/attr/chan.py:81: ResourceWarning: unclosed file <_io.TextIOWrapper name='/home/gio/recordings/MG17/doc/elec/MG17_elec_pos-names_sessA.csv' mode='r' encoding='UTF-8'>\n",
        "  num_lines = sum(1 for line in open(elec_file))\n",
        "INFO:/home/gio/projects/spgr/scripts/spgr/read_data.py:MG17 analysis chan 93, with location 93\n"
       ]
      },
      {
       "output_type": "stream",
       "stream": "stdout",
       "text": [
        "Morphing data...\n"
       ]
      },
      {
       "output_type": "stream",
       "stream": "stdout",
       "text": [
        "Triangle file: b'created by greve on Thu Jun  8 19:17:51 2006' nvert = 163842 ntri = 327680\n"
       ]
      },
      {
       "output_type": "stream",
       "stream": "stdout",
       "text": [
        "Triangle file: b'created by greve on Thu Jun  8 19:17:51 2006' nvert = 163842 ntri = 327680\n"
       ]
      },
      {
       "output_type": "stream",
       "stream": "stdout",
       "text": [
        "Triangle file: b'created by gio on Wed Dec  4 10:58:01 2013' nvert = 118351 ntri = 236698\n"
       ]
      },
      {
       "output_type": "stream",
       "stream": "stdout",
       "text": [
        "Triangle file: b'created by gio on Wed Dec  4 13:03:36 2013' nvert = 107919 ntri = 215834\n"
       ]
      },
      {
       "output_type": "stream",
       "stream": "stdout",
       "text": [
        "    Left-hemisphere map read.\n"
       ]
      },
      {
       "output_type": "stream",
       "stream": "stdout",
       "text": [
        "    Right-hemisphere map read.\n"
       ]
      },
      {
       "output_type": "stream",
       "stream": "stdout",
       "text": [
        "    1 smooth iterations done.\n"
       ]
      },
      {
       "output_type": "stream",
       "stream": "stdout",
       "text": [
        "[done]\n"
       ]
      },
      {
       "output_type": "stream",
       "stream": "stdout",
       "text": [
        "Morphing data...\n"
       ]
      },
      {
       "output_type": "stream",
       "stream": "stdout",
       "text": [
        "Triangle file: b'created by greve on Thu Jun  8 19:17:51 2006' nvert = 163842 ntri = 327680\n"
       ]
      },
      {
       "output_type": "stream",
       "stream": "stdout",
       "text": [
        "Triangle file: b'created by greve on Thu Jun  8 19:17:51 2006' nvert = 163842 ntri = 327680\n"
       ]
      },
      {
       "output_type": "stream",
       "stream": "stdout",
       "text": [
        "Triangle file: b'created by gio on Wed Dec  4 10:58:01 2013' nvert = 118351 ntri = 236698\n"
       ]
      },
      {
       "output_type": "stream",
       "stream": "stdout",
       "text": [
        "Triangle file: b'created by gio on Wed Dec  4 13:03:36 2013' nvert = 107919 ntri = 215834\n"
       ]
      },
      {
       "output_type": "stream",
       "stream": "stdout",
       "text": [
        "    Left-hemisphere map read.\n"
       ]
      },
      {
       "output_type": "stream",
       "stream": "stdout",
       "text": [
        "    Right-hemisphere map read.\n"
       ]
      },
      {
       "output_type": "stream",
       "stream": "stdout",
       "text": [
        "    1 smooth iterations done.\n"
       ]
      },
      {
       "output_type": "stream",
       "stream": "stdout",
       "text": [
        "[done]\n"
       ]
      },
      {
       "output_type": "stream",
       "stream": "stderr",
       "text": [
        "INFO:/home/gio/projects/spgr/scripts/spgr/read_data.py:Subj MG33, reading data: MG33_sleep_grid_hp010_lp400_avg_rs128.pkl\n"
       ]
      },
      {
       "output_type": "stream",
       "stream": "stderr",
       "text": [
        "/home/gio/tools/phypno/phypno/attr/chan.py:81: ResourceWarning: unclosed file <_io.TextIOWrapper name='/home/gio/recordings/MG33/doc/elec/MG33_elec_pos-names_sessA.csv' mode='r' encoding='UTF-8'>\n",
        "  num_lines = sum(1 for line in open(elec_file))\n",
        "INFO:/home/gio/projects/spgr/scripts/spgr/read_data.py:MG33 analysis chan 64, with location 64\n"
       ]
      },
      {
       "output_type": "stream",
       "stream": "stdout",
       "text": [
        "Morphing data...\n"
       ]
      },
      {
       "output_type": "stream",
       "stream": "stdout",
       "text": [
        "Triangle file: b'created by greve on Thu Jun  8 19:17:51 2006' nvert = 163842 ntri = 327680\n"
       ]
      },
      {
       "output_type": "stream",
       "stream": "stdout",
       "text": [
        "Triangle file: b'created by greve on Thu Jun  8 19:17:51 2006' nvert = 163842 ntri = 327680\n"
       ]
      },
      {
       "output_type": "stream",
       "stream": "stdout",
       "text": [
        "Triangle file: b'created by gio on Thu Dec  5 10:36:24 2013' nvert = 125574 ntri = 251144\n"
       ]
      },
      {
       "output_type": "stream",
       "stream": "stdout",
       "text": [
        "Triangle file: b'created by gio on Thu Dec  5 13:17:36 2013' nvert = 138978 ntri = 277952\n"
       ]
      },
      {
       "output_type": "stream",
       "stream": "stdout",
       "text": [
        "    Left-hemisphere map read.\n"
       ]
      },
      {
       "output_type": "stream",
       "stream": "stdout",
       "text": [
        "    Right-hemisphere map read.\n"
       ]
      },
      {
       "output_type": "stream",
       "stream": "stdout",
       "text": [
        "    1 smooth iterations done.\n"
       ]
      },
      {
       "output_type": "stream",
       "stream": "stdout",
       "text": [
        "[done]\n"
       ]
      },
      {
       "output_type": "stream",
       "stream": "stdout",
       "text": [
        "Morphing data...\n"
       ]
      },
      {
       "output_type": "stream",
       "stream": "stdout",
       "text": [
        "Triangle file: b'created by greve on Thu Jun  8 19:17:51 2006' nvert = 163842 ntri = 327680\n"
       ]
      },
      {
       "output_type": "stream",
       "stream": "stdout",
       "text": [
        "Triangle file: b'created by greve on Thu Jun  8 19:17:51 2006' nvert = 163842 ntri = 327680\n"
       ]
      },
      {
       "output_type": "stream",
       "stream": "stdout",
       "text": [
        "Triangle file: b'created by gio on Thu Dec  5 10:36:24 2013' nvert = 125574 ntri = 251144\n"
       ]
      },
      {
       "output_type": "stream",
       "stream": "stdout",
       "text": [
        "Triangle file: b'created by gio on Thu Dec  5 13:17:36 2013' nvert = 138978 ntri = 277952\n"
       ]
      },
      {
       "output_type": "stream",
       "stream": "stdout",
       "text": [
        "    Left-hemisphere map read.\n"
       ]
      },
      {
       "output_type": "stream",
       "stream": "stdout",
       "text": [
        "    Right-hemisphere map read.\n"
       ]
      },
      {
       "output_type": "stream",
       "stream": "stdout",
       "text": [
        "    1 smooth iterations done.\n"
       ]
      },
      {
       "output_type": "stream",
       "stream": "stdout",
       "text": [
        "[done]\n"
       ]
      },
      {
       "output_type": "stream",
       "stream": "stderr",
       "text": [
        "INFO:/home/gio/projects/spgr/scripts/spgr/read_data.py:Subj MG37, reading data: MG37_sleep_grid_hp010_lp400_avg_rs128.pkl\n"
       ]
      },
      {
       "output_type": "stream",
       "stream": "stderr",
       "text": [
        "/home/gio/tools/phypno/phypno/attr/chan.py:81: ResourceWarning: unclosed file <_io.TextIOWrapper name='/home/gio/recordings/MG37/doc/elec/MG37_elec_pos-names_sessA.csv' mode='r' encoding='UTF-8'>\n",
        "  num_lines = sum(1 for line in open(elec_file))\n",
        "INFO:/home/gio/projects/spgr/scripts/spgr/read_data.py:MG37 analysis chan 78, with location 78\n"
       ]
      },
      {
       "output_type": "stream",
       "stream": "stdout",
       "text": [
        "Morphing data...\n"
       ]
      },
      {
       "output_type": "stream",
       "stream": "stdout",
       "text": [
        "Triangle file: b'created by greve on Thu Jun  8 19:17:51 2006' nvert = 163842 ntri = 327680\n"
       ]
      },
      {
       "output_type": "stream",
       "stream": "stdout",
       "text": [
        "Triangle file: b'created by greve on Thu Jun  8 19:17:51 2006' nvert = 163842 ntri = 327680\n"
       ]
      },
      {
       "output_type": "stream",
       "stream": "stdout",
       "text": [
        "Triangle file: b'created by gio on Thu Mar 13 17:44:21 2014' nvert = 151279 ntri = 302554\n"
       ]
      },
      {
       "output_type": "stream",
       "stream": "stdout",
       "text": [
        "Triangle file: b'created by gio on Thu Mar 13 18:54:03 2014' nvert = 154198 ntri = 308392\n"
       ]
      },
      {
       "output_type": "stream",
       "stream": "stdout",
       "text": [
        "    Left-hemisphere map read.\n"
       ]
      },
      {
       "output_type": "stream",
       "stream": "stdout",
       "text": [
        "    Right-hemisphere map read.\n"
       ]
      },
      {
       "output_type": "stream",
       "stream": "stdout",
       "text": [
        "    1 smooth iterations done.\n"
       ]
      },
      {
       "output_type": "stream",
       "stream": "stdout",
       "text": [
        "[done]\n"
       ]
      },
      {
       "output_type": "stream",
       "stream": "stdout",
       "text": [
        "Morphing data...\n"
       ]
      },
      {
       "output_type": "stream",
       "stream": "stdout",
       "text": [
        "Triangle file: b'created by greve on Thu Jun  8 19:17:51 2006' nvert = 163842 ntri = 327680\n"
       ]
      },
      {
       "output_type": "stream",
       "stream": "stdout",
       "text": [
        "Triangle file: b'created by greve on Thu Jun  8 19:17:51 2006' nvert = 163842 ntri = 327680\n"
       ]
      },
      {
       "output_type": "stream",
       "stream": "stdout",
       "text": [
        "Triangle file: b'created by gio on Thu Mar 13 17:44:21 2014' nvert = 151279 ntri = 302554\n"
       ]
      },
      {
       "output_type": "stream",
       "stream": "stdout",
       "text": [
        "Triangle file: b'created by gio on Thu Mar 13 18:54:03 2014' nvert = 154198 ntri = 308392\n"
       ]
      },
      {
       "output_type": "stream",
       "stream": "stdout",
       "text": [
        "    Left-hemisphere map read.\n"
       ]
      },
      {
       "output_type": "stream",
       "stream": "stdout",
       "text": [
        "    Right-hemisphere map read.\n"
       ]
      },
      {
       "output_type": "stream",
       "stream": "stdout",
       "text": [
        "    1 smooth iterations done.\n"
       ]
      },
      {
       "output_type": "stream",
       "stream": "stdout",
       "text": [
        "[done]\n"
       ]
      },
      {
       "output_type": "stream",
       "stream": "stderr",
       "text": [
        "INFO:/home/gio/projects/spgr/scripts/spgr/read_data.py:Subj MG61, reading data: MG61_sleep_grid_hp010_lp400_avg_rs128.pkl\n"
       ]
      },
      {
       "output_type": "stream",
       "stream": "stderr",
       "text": [
        "/home/gio/tools/phypno/phypno/attr/chan.py:81: ResourceWarning: unclosed file <_io.TextIOWrapper name='/home/gio/recordings/MG61/doc/elec/MG61_elec_pos-names_sessA.csv' mode='r' encoding='UTF-8'>\n",
        "  num_lines = sum(1 for line in open(elec_file))\n",
        "INFO:/home/gio/projects/spgr/scripts/spgr/read_data.py:MG61 analysis chan 93, with location 93\n"
       ]
      },
      {
       "ename": "KeyboardInterrupt",
       "evalue": "",
       "output_type": "pyerr",
       "traceback": [
        "\u001b[1;31m---------------------------------------------------------------------------\u001b[0m\n\u001b[1;31mKeyboardInterrupt\u001b[0m                         Traceback (most recent call last)",
        "\u001b[1;32m<ipython-input-11-af139d4e5859>\u001b[0m in \u001b[0;36m<module>\u001b[1;34m()\u001b[0m\n\u001b[0;32m     19\u001b[0m             \u001b[0mone_chan\u001b[0m\u001b[1;33m.\u001b[0m\u001b[0mxyz\u001b[0m \u001b[1;33m*=\u001b[0m \u001b[1;33m(\u001b[0m\u001b[1;33m-\u001b[0m\u001b[1;36m1\u001b[0m\u001b[1;33m,\u001b[0m \u001b[1;36m1\u001b[0m\u001b[1;33m,\u001b[0m \u001b[1;36m1\u001b[0m\u001b[1;33m)\u001b[0m\u001b[1;33m\u001b[0m\u001b[0m\n\u001b[0;32m     20\u001b[0m     \u001b[0msurf\u001b[0m \u001b[1;33m=\u001b[0m \u001b[0mfs\u001b[0m\u001b[1;33m.\u001b[0m\u001b[0mread_surf\u001b[0m\u001b[1;33m(\u001b[0m\u001b[1;34m'rh'\u001b[0m\u001b[1;33m)\u001b[0m\u001b[1;33m\u001b[0m\u001b[0m\n\u001b[1;32m---> 21\u001b[1;33m     \u001b[0ml\u001b[0m \u001b[1;33m=\u001b[0m \u001b[0mLinear\u001b[0m\u001b[1;33m(\u001b[0m\u001b[0msurf\u001b[0m\u001b[1;33m,\u001b[0m \u001b[0mchan\u001b[0m\u001b[1;33m,\u001b[0m \u001b[0mstd\u001b[0m\u001b[1;33m=\u001b[0m\u001b[0mSTD\u001b[0m\u001b[1;33m,\u001b[0m \u001b[0mthreshold\u001b[0m\u001b[1;33m=\u001b[0m\u001b[0mTHRESHOLD\u001b[0m\u001b[1;33m)\u001b[0m\u001b[1;33m\u001b[0m\u001b[0m\n\u001b[0m\u001b[0;32m     22\u001b[0m     \u001b[0mm\u001b[0m \u001b[1;33m=\u001b[0m \u001b[0mMorph\u001b[0m\u001b[1;33m(\u001b[0m\u001b[0msurf\u001b[0m\u001b[1;33m)\u001b[0m\u001b[1;33m\u001b[0m\u001b[0m\n\u001b[0;32m     23\u001b[0m \u001b[1;33m\u001b[0m\u001b[0m\n",
        "\u001b[1;32m/home/gio/tools/phypno/phypno/source/linear.py\u001b[0m in \u001b[0;36m__init__\u001b[1;34m(self, surf, chan, threshold, exponent, std)\u001b[0m\n\u001b[0;32m     22\u001b[0m         \u001b[1;34m\"\"\"TODO: specify method explicitly.\"\"\"\u001b[0m\u001b[1;33m\u001b[0m\u001b[0m\n\u001b[0;32m     23\u001b[0m         self.inv = calc_xyz2surf(surf, chan.return_xyz(), threshold=threshold,\n\u001b[1;32m---> 24\u001b[1;33m                                  exponent=exponent, std=std)\n\u001b[0m\u001b[0;32m     25\u001b[0m         \u001b[0mself\u001b[0m\u001b[1;33m.\u001b[0m\u001b[0mchan\u001b[0m \u001b[1;33m=\u001b[0m \u001b[0mchan\u001b[0m\u001b[1;33m.\u001b[0m\u001b[0mreturn_label\u001b[0m\u001b[1;33m(\u001b[0m\u001b[1;33m)\u001b[0m\u001b[1;33m\u001b[0m\u001b[0m\n\u001b[0;32m     26\u001b[0m \u001b[1;33m\u001b[0m\u001b[0m\n",
        "\u001b[1;32m/home/gio/tools/phypno/phypno/source/linear.py\u001b[0m in \u001b[0;36mcalc_xyz2surf\u001b[1;34m(surf, xyz, threshold, exponent, std)\u001b[0m\n\u001b[0;32m     95\u001b[0m \u001b[1;33m\u001b[0m\u001b[0m\n\u001b[0;32m     96\u001b[0m     \u001b[1;32mwith\u001b[0m \u001b[0mPool\u001b[0m\u001b[1;33m(\u001b[0m\u001b[1;33m)\u001b[0m \u001b[1;32mas\u001b[0m \u001b[0mp\u001b[0m\u001b[1;33m:\u001b[0m\u001b[1;33m\u001b[0m\u001b[0m\n\u001b[1;32m---> 97\u001b[1;33m         \u001b[0mxyz2surf\u001b[0m \u001b[1;33m=\u001b[0m \u001b[0mp\u001b[0m\u001b[1;33m.\u001b[0m\u001b[0mmap\u001b[0m\u001b[1;33m(\u001b[0m\u001b[0mfunct\u001b[0m\u001b[1;33m,\u001b[0m \u001b[0msurf\u001b[0m\u001b[1;33m.\u001b[0m\u001b[0mvert\u001b[0m\u001b[1;33m)\u001b[0m\u001b[1;33m\u001b[0m\u001b[0m\n\u001b[0m\u001b[0;32m     98\u001b[0m \u001b[1;33m\u001b[0m\u001b[0m\n\u001b[0;32m     99\u001b[0m     \u001b[0mxyz2surf\u001b[0m \u001b[1;33m=\u001b[0m \u001b[0masarray\u001b[0m\u001b[1;33m(\u001b[0m\u001b[0mxyz2surf\u001b[0m\u001b[1;33m)\u001b[0m\u001b[1;33m\u001b[0m\u001b[0m\n",
        "\u001b[1;32m/usr/lib/python3.4/multiprocessing/pool.py\u001b[0m in \u001b[0;36mmap\u001b[1;34m(self, func, iterable, chunksize)\u001b[0m\n\u001b[0;32m    258\u001b[0m         \u001b[1;32min\u001b[0m \u001b[0ma\u001b[0m \u001b[0mlist\u001b[0m \u001b[0mthat\u001b[0m \u001b[1;32mis\u001b[0m \u001b[0mreturned\u001b[0m\u001b[1;33m.\u001b[0m\u001b[1;33m\u001b[0m\u001b[0m\n\u001b[0;32m    259\u001b[0m         '''\n\u001b[1;32m--> 260\u001b[1;33m         \u001b[1;32mreturn\u001b[0m \u001b[0mself\u001b[0m\u001b[1;33m.\u001b[0m\u001b[0m_map_async\u001b[0m\u001b[1;33m(\u001b[0m\u001b[0mfunc\u001b[0m\u001b[1;33m,\u001b[0m \u001b[0miterable\u001b[0m\u001b[1;33m,\u001b[0m \u001b[0mmapstar\u001b[0m\u001b[1;33m,\u001b[0m \u001b[0mchunksize\u001b[0m\u001b[1;33m)\u001b[0m\u001b[1;33m.\u001b[0m\u001b[0mget\u001b[0m\u001b[1;33m(\u001b[0m\u001b[1;33m)\u001b[0m\u001b[1;33m\u001b[0m\u001b[0m\n\u001b[0m\u001b[0;32m    261\u001b[0m \u001b[1;33m\u001b[0m\u001b[0m\n\u001b[0;32m    262\u001b[0m     \u001b[1;32mdef\u001b[0m \u001b[0mstarmap\u001b[0m\u001b[1;33m(\u001b[0m\u001b[0mself\u001b[0m\u001b[1;33m,\u001b[0m \u001b[0mfunc\u001b[0m\u001b[1;33m,\u001b[0m \u001b[0miterable\u001b[0m\u001b[1;33m,\u001b[0m \u001b[0mchunksize\u001b[0m\u001b[1;33m=\u001b[0m\u001b[1;32mNone\u001b[0m\u001b[1;33m)\u001b[0m\u001b[1;33m:\u001b[0m\u001b[1;33m\u001b[0m\u001b[0m\n",
        "\u001b[1;32m/usr/lib/python3.4/multiprocessing/pool.py\u001b[0m in \u001b[0;36mget\u001b[1;34m(self, timeout)\u001b[0m\n\u001b[0;32m    591\u001b[0m \u001b[1;33m\u001b[0m\u001b[0m\n\u001b[0;32m    592\u001b[0m     \u001b[1;32mdef\u001b[0m \u001b[0mget\u001b[0m\u001b[1;33m(\u001b[0m\u001b[0mself\u001b[0m\u001b[1;33m,\u001b[0m \u001b[0mtimeout\u001b[0m\u001b[1;33m=\u001b[0m\u001b[1;32mNone\u001b[0m\u001b[1;33m)\u001b[0m\u001b[1;33m:\u001b[0m\u001b[1;33m\u001b[0m\u001b[0m\n\u001b[1;32m--> 593\u001b[1;33m         \u001b[0mself\u001b[0m\u001b[1;33m.\u001b[0m\u001b[0mwait\u001b[0m\u001b[1;33m(\u001b[0m\u001b[0mtimeout\u001b[0m\u001b[1;33m)\u001b[0m\u001b[1;33m\u001b[0m\u001b[0m\n\u001b[0m\u001b[0;32m    594\u001b[0m         \u001b[1;32mif\u001b[0m \u001b[1;32mnot\u001b[0m \u001b[0mself\u001b[0m\u001b[1;33m.\u001b[0m\u001b[0mready\u001b[0m\u001b[1;33m(\u001b[0m\u001b[1;33m)\u001b[0m\u001b[1;33m:\u001b[0m\u001b[1;33m\u001b[0m\u001b[0m\n\u001b[0;32m    595\u001b[0m             \u001b[1;32mraise\u001b[0m \u001b[0mTimeoutError\u001b[0m\u001b[1;33m\u001b[0m\u001b[0m\n",
        "\u001b[1;32m/usr/lib/python3.4/multiprocessing/pool.py\u001b[0m in \u001b[0;36mwait\u001b[1;34m(self, timeout)\u001b[0m\n\u001b[0;32m    588\u001b[0m \u001b[1;33m\u001b[0m\u001b[0m\n\u001b[0;32m    589\u001b[0m     \u001b[1;32mdef\u001b[0m \u001b[0mwait\u001b[0m\u001b[1;33m(\u001b[0m\u001b[0mself\u001b[0m\u001b[1;33m,\u001b[0m \u001b[0mtimeout\u001b[0m\u001b[1;33m=\u001b[0m\u001b[1;32mNone\u001b[0m\u001b[1;33m)\u001b[0m\u001b[1;33m:\u001b[0m\u001b[1;33m\u001b[0m\u001b[0m\n\u001b[1;32m--> 590\u001b[1;33m         \u001b[0mself\u001b[0m\u001b[1;33m.\u001b[0m\u001b[0m_event\u001b[0m\u001b[1;33m.\u001b[0m\u001b[0mwait\u001b[0m\u001b[1;33m(\u001b[0m\u001b[0mtimeout\u001b[0m\u001b[1;33m)\u001b[0m\u001b[1;33m\u001b[0m\u001b[0m\n\u001b[0m\u001b[0;32m    591\u001b[0m \u001b[1;33m\u001b[0m\u001b[0m\n\u001b[0;32m    592\u001b[0m     \u001b[1;32mdef\u001b[0m \u001b[0mget\u001b[0m\u001b[1;33m(\u001b[0m\u001b[0mself\u001b[0m\u001b[1;33m,\u001b[0m \u001b[0mtimeout\u001b[0m\u001b[1;33m=\u001b[0m\u001b[1;32mNone\u001b[0m\u001b[1;33m)\u001b[0m\u001b[1;33m:\u001b[0m\u001b[1;33m\u001b[0m\u001b[0m\n",
        "\u001b[1;32m/usr/lib/python3.4/threading.py\u001b[0m in \u001b[0;36mwait\u001b[1;34m(self, timeout)\u001b[0m\n\u001b[0;32m    551\u001b[0m             \u001b[0msignaled\u001b[0m \u001b[1;33m=\u001b[0m \u001b[0mself\u001b[0m\u001b[1;33m.\u001b[0m\u001b[0m_flag\u001b[0m\u001b[1;33m\u001b[0m\u001b[0m\n\u001b[0;32m    552\u001b[0m             \u001b[1;32mif\u001b[0m \u001b[1;32mnot\u001b[0m \u001b[0msignaled\u001b[0m\u001b[1;33m:\u001b[0m\u001b[1;33m\u001b[0m\u001b[0m\n\u001b[1;32m--> 553\u001b[1;33m                 \u001b[0msignaled\u001b[0m \u001b[1;33m=\u001b[0m \u001b[0mself\u001b[0m\u001b[1;33m.\u001b[0m\u001b[0m_cond\u001b[0m\u001b[1;33m.\u001b[0m\u001b[0mwait\u001b[0m\u001b[1;33m(\u001b[0m\u001b[0mtimeout\u001b[0m\u001b[1;33m)\u001b[0m\u001b[1;33m\u001b[0m\u001b[0m\n\u001b[0m\u001b[0;32m    554\u001b[0m             \u001b[1;32mreturn\u001b[0m \u001b[0msignaled\u001b[0m\u001b[1;33m\u001b[0m\u001b[0m\n\u001b[0;32m    555\u001b[0m         \u001b[1;32mfinally\u001b[0m\u001b[1;33m:\u001b[0m\u001b[1;33m\u001b[0m\u001b[0m\n",
        "\u001b[1;32m/usr/lib/python3.4/threading.py\u001b[0m in \u001b[0;36mwait\u001b[1;34m(self, timeout)\u001b[0m\n\u001b[0;32m    288\u001b[0m         \u001b[1;32mtry\u001b[0m\u001b[1;33m:\u001b[0m    \u001b[1;31m# restore state no matter what (e.g., KeyboardInterrupt)\u001b[0m\u001b[1;33m\u001b[0m\u001b[0m\n\u001b[0;32m    289\u001b[0m             \u001b[1;32mif\u001b[0m \u001b[0mtimeout\u001b[0m \u001b[1;32mis\u001b[0m \u001b[1;32mNone\u001b[0m\u001b[1;33m:\u001b[0m\u001b[1;33m\u001b[0m\u001b[0m\n\u001b[1;32m--> 290\u001b[1;33m                 \u001b[0mwaiter\u001b[0m\u001b[1;33m.\u001b[0m\u001b[0macquire\u001b[0m\u001b[1;33m(\u001b[0m\u001b[1;33m)\u001b[0m\u001b[1;33m\u001b[0m\u001b[0m\n\u001b[0m\u001b[0;32m    291\u001b[0m                 \u001b[0mgotit\u001b[0m \u001b[1;33m=\u001b[0m \u001b[1;32mTrue\u001b[0m\u001b[1;33m\u001b[0m\u001b[0m\n\u001b[0;32m    292\u001b[0m             \u001b[1;32melse\u001b[0m\u001b[1;33m:\u001b[0m\u001b[1;33m\u001b[0m\u001b[0m\n",
        "\u001b[1;31mKeyboardInterrupt\u001b[0m: "
       ]
      }
     ],
     "prompt_number": 11
    },
    {
     "cell_type": "heading",
     "level": 3,
     "metadata": {},
     "source": [
      "Spindle Density"
     ]
    },
    {
     "cell_type": "code",
     "collapsed": false,
     "input": [
      "from numpy import asarray, NaN, nanmean"
     ],
     "language": "python",
     "metadata": {},
     "outputs": []
    },
    {
     "cell_type": "code",
     "collapsed": false,
     "input": [
      "for x in all_count:\n",
      "    x.data[0][x.data[0] < 0.001] = NaN\n",
      "avg_count = deepcopy(all_count[0])\n",
      "avg_count.data[0] = nanmean(asarray([x.data[0] for x in all_count]), axis=0)"
     ],
     "language": "python",
     "metadata": {},
     "outputs": []
    },
    {
     "cell_type": "markdown",
     "metadata": {},
     "source": [
      "The highest number of spindles was concentrated over prefrontal regions.\n",
      "Temporal and occipital regions were relatively quiet."
     ]
    },
    {
     "cell_type": "code",
     "collapsed": false,
     "input": [
      "fs_avg = Freesurfer('/opt/freesurfer/subjects/fsaverage')\n",
      "surf_avg = fs_avg.read_surf('rh', surf_type='pial')"
     ],
     "language": "python",
     "metadata": {},
     "outputs": []
    },
    {
     "cell_type": "code",
     "collapsed": false,
     "input": [
      "v = Viz3()\n",
      "v.add_surf(surf_avg, values=avg_count(trial=0)[163842:], limits=(0, 20))\n",
      "v._ax.camera.loc = camera['loc']\n",
      "v._ax.camera.elevation = camera['elevation']\n",
      "v._ax.camera.zoom = camera['zoom']\n",
      "v._ax.camera.azimuth = camera['azimuth']\n",
      "v._fig.DrawNow()\n",
      "screenshot(join(count_dir, 'fsaverage.png'), v._ax, sf=2)"
     ],
     "language": "python",
     "metadata": {},
     "outputs": []
    },
    {
     "cell_type": "code",
     "collapsed": false,
     "input": [
      "from visvis import colorbar\n",
      "from subprocess import call"
     ],
     "language": "python",
     "metadata": {},
     "outputs": []
    },
    {
     "cell_type": "code",
     "collapsed": false,
     "input": [
      "c = colorbar()\n",
      "\n",
      "png_name = join(count_dir, 'fsaverage_colorbar.png')\n",
      "screenshot(png_name, v._fig, sf=2)\n",
      "call('convert ' + png_name + ' -crop 60x800+909+21 ' + png_name, shell=True)\n",
      "v._fig.Destroy()"
     ],
     "language": "python",
     "metadata": {},
     "outputs": []
    },
    {
     "cell_type": "heading",
     "level": 3,
     "metadata": {},
     "source": [
      "Frequency"
     ]
    },
    {
     "cell_type": "markdown",
     "metadata": {},
     "source": [
      "Spindle frequency was higher over the parietal regions (fast spindles) than over the frontal regions (slow spindle).\n",
      "In addition, we found that the slowest spindles are over the occipital cortices."
     ]
    },
    {
     "cell_type": "code",
     "collapsed": false,
     "input": [
      "for x in all_freq:\n",
      "    x.data[0][x.data[0] < LIMITS[0]] = NaN\n",
      "    x.data[0][x.data[0] > LIMITS[1]] = NaN\n",
      "avg_freq = deepcopy(all_freq[0])\n",
      "avg_freq.data[0] = nanmean(asarray([x.data[0] for x in all_freq]), axis=0)"
     ],
     "language": "python",
     "metadata": {},
     "outputs": []
    },
    {
     "cell_type": "code",
     "collapsed": false,
     "input": [
      "v = Viz3()\n",
      "v.add_surf(surf_avg, values=avg_freq(trial=0)[163842:], limits=(10, 14))\n",
      "v._ax.camera.loc = camera['loc']\n",
      "v._ax.camera.elevation = camera['elevation']\n",
      "v._ax.camera.zoom = camera['zoom']\n",
      "v._ax.camera.azimuth = camera['azimuth']\n",
      "v._fig.DrawNow()\n",
      "screenshot(join(freq_dir, 'fsaverage.png'), v._ax, sf=2)\n",
      "v._fig.Destroy()"
     ],
     "language": "python",
     "metadata": {},
     "outputs": []
    }
   ],
   "metadata": {}
  }
 ]
}