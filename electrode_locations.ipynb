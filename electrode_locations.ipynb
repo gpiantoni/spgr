{
 "metadata": {
  "name": "",
  "signature": "sha256:82946f452d8055cdb6dc52fdb0c6a91f467275d97b566e981584f3f6a98e85cc"
 },
 "nbformat": 3,
 "nbformat_minor": 0,
 "worksheets": [
  {
   "cells": [
    {
     "cell_type": "heading",
     "level": 1,
     "metadata": {},
     "source": [
      "SPGR"
     ]
    },
    {
     "cell_type": "code",
     "collapsed": false,
     "input": [
      "import version_control"
     ],
     "language": "python",
     "metadata": {},
     "outputs": [
      {
       "output_type": "stream",
       "stream": "stdout",
       "text": [
        "Last run on cashlab03-deb at 2014-11-10 09:39:39.862334\n",
        "\n",
        "Phypno Version: dccc0842a421795c4f8c2b404cd4ae33bc189ef3\n",
        "\n",
        "Jinja2==2.7.3, Markdown==2.5.1, MarkupSafe==0.23, Pillow==2.6.1, PyOpenGL==3.1.0, Pygments==2.0, Sphinx==1.2.3, certifi==14.05.14, decorator==3.4.0, docutils==0.12, easydev==0.7.4, h5py==2.3.1, ipython==2.3.0, matplotlib==1.4.2, memory-profiler==0.32, mne==0.8.6, networkx==1.9.1, nibabel==1.4.0dev, nitime==0.5, nose==1.3.4, numpy==1.9.1, numpydoc==0.5, ordereddict==1.1, pep8==1.5.7, psutil==2.1.3, pycurl==7.19.5, pyflakes==0.8.1, pyparsing==2.0.3, python-dateutil==2.2, python-igraph==0.7, pytz==2014.9, pyzmq==14.4.1, rope-py3k==0.9.4-1, scikit-learn==0.15.2, scipy==0.14.0, six==1.8.0, sphinxcontrib-napoleon==0.2.8, spyder==2.3.1, tornado==4.0.2, visvis==1.9.1, xmltodict==0.9.0, "
       ]
      },
      {
       "output_type": "stream",
       "stream": "stdout",
       "text": [
        "\n"
       ]
      }
     ],
     "prompt_number": 1
    },
    {
     "cell_type": "code",
     "collapsed": false,
     "input": [
      "from logging import getLogger, DEBUG\n",
      "lg = getLogger('phypno')\n",
      "lg.setLevel(DEBUG)"
     ],
     "language": "python",
     "metadata": {},
     "outputs": [],
     "prompt_number": 2
    },
    {
     "cell_type": "code",
     "collapsed": false,
     "input": [
      "from multiprocessing import set_start_method\n",
      "set_start_method('forkserver')"
     ],
     "language": "python",
     "metadata": {},
     "outputs": [],
     "prompt_number": 3
    },
    {
     "cell_type": "heading",
     "level": 2,
     "metadata": {},
     "source": [
      "Electrode Locations"
     ]
    },
    {
     "cell_type": "code",
     "collapsed": false,
     "input": [
      "from os import listdir\n",
      "from os.path import join\n",
      "\n",
      "from numpy import append, asarray, arange, ones"
     ],
     "language": "python",
     "metadata": {},
     "outputs": [],
     "prompt_number": 4
    },
    {
     "cell_type": "code",
     "collapsed": false,
     "input": [
      "from phypno.attr import Freesurfer, Channels\n",
      "\n",
      "from spgr.read_data import DATA_DIR, REC_DIR, FS_PATH, ELEC_PATH, get_data, GROUP_DIR, get_chan_used_in_analysis\n",
      "from spgr.plot_spindles import HTML, show_movies"
     ],
     "language": "python",
     "metadata": {},
     "outputs": [],
     "prompt_number": 5
    },
    {
     "cell_type": "code",
     "collapsed": false,
     "input": [
      "elecloc_dir = join(GROUP_DIR, 'electrode_locations')"
     ],
     "language": "python",
     "metadata": {},
     "outputs": [],
     "prompt_number": 44
    },
    {
     "cell_type": "code",
     "collapsed": false,
     "input": [
      "all_subj = sorted(listdir(DATA_DIR))\n",
      "\n",
      "hemi_subj = {'EM09': 'rh', \n",
      "             'MG17': 'rh',\n",
      "             'MG33': 'lh',\n",
      "             'MG37': 'lh',\n",
      "             'MG61': 'lh',\n",
      "             'MG63': 'rh',\n",
      "             }"
     ],
     "language": "python",
     "metadata": {},
     "outputs": [],
     "prompt_number": 7
    },
    {
     "cell_type": "code",
     "collapsed": false,
     "input": [
      "camera = {'EM09': {'loc': (21, -1.5, 15), 'elevation': -0.825, 'zoom': 0.0086, 'azimuth': 133},\n",
      "          'MG17': {'loc': (33, -9, 14), 'elevation': 15.3, 'zoom': 0.0085, 'azimuth': 100.05},\n",
      "          'MG33': {'loc': (-28.5, -1.4, 16.9), 'elevation': -8.18, 'zoom': 0.00825, 'azimuth': -69.1},\n",
      "          'MG37': {'loc': (-29, -8, 14), 'elevation': 14.64, 'zoom': 0.0075, 'azimuth': -75},\n",
      "          'MG61': {'loc': (-25.2, -9.2, 34.7), 'elevation': 11.85, 'zoom': 0.0086, 'azimuth': -108},\n",
      "          'MG63': {'loc': (31.4, -7.75, 23), 'elevation': -6.1, 'zoom': 0.0081, 'azimuth': 113},\n",
      "          'fsaverage': {'loc': (30, -16.1, 16.2), 'elevation': 0, 'zoom': 0.0077, 'azimuth': 90},\n",
      "          }"
     ],
     "language": "python",
     "metadata": {},
     "outputs": [],
     "prompt_number": 8
    },
    {
     "cell_type": "markdown",
     "metadata": {},
     "source": [
      "Electrode positions were estimated with the post-op CT scan co-registered to the MRI.\n",
      "The locations of the grid electrodes were snapped to the cortical surface [@Dykstra2012]."
     ]
    },
    {
     "cell_type": "code",
     "collapsed": false,
     "input": [
      "from phypno.viz.plot_3d import Viz3, screenshot\n",
      "SKIN_COLOR = (239 / 255., 208 / 255., 207 / 255., 1)"
     ],
     "language": "python",
     "metadata": {},
     "outputs": [],
     "prompt_number": 9
    },
    {
     "cell_type": "heading",
     "level": 5,
     "metadata": {},
     "source": [
      "These figures go into the poster"
     ]
    },
    {
     "cell_type": "code",
     "collapsed": false,
     "input": [
      "for subj in all_subj:\n",
      "    chan = get_chan_used_in_analysis(subj, 'sleep', ('grid', ), reref='avg', resample_freq=None)[1]\n",
      "    fs = Freesurfer(join(REC_DIR, subj, FS_PATH))\n",
      "    surf = fs.read_surf(hemi_subj[subj])\n",
      "\n",
      "    v = Viz3()\n",
      "    v.add_chan(chan, color=(255, 0, 0, 1))\n",
      "    v.add_surf(surf, color=SKIN_COLOR)\n",
      "    # v._fig.position = (2, 561, 560 * 2, 420 * 2)\n",
      "    camera_pos = camera[subj]\n",
      "    v._ax.camera.loc = camera_pos['loc']\n",
      "    v._ax.camera.elevation = camera_pos['elevation']\n",
      "    v._ax.camera.zoom = camera_pos['zoom']\n",
      "    v._ax.camera.azimuth = camera_pos['azimuth']\n",
      "    v._fig.DrawNow()\n",
      "    screenshot(join(elecloc_dir, subj + '.jpg'), v._ax, sf=2)\n",
      "    v._fig.Destroy()"
     ],
     "language": "python",
     "metadata": {},
     "outputs": [
      {
       "output_type": "stream",
       "stream": "stderr",
       "text": [
        "INFO:/home/gio/projects/spgr/scripts/spgr/read_data.py:EM09 analysis chan 69, with location 69\n"
       ]
      },
      {
       "output_type": "stream",
       "stream": "stderr",
       "text": [
        "INFO:phypno.attr.anat:Reading lookuptable in FREESURFER_HOME /opt/freesurfer/FreeSurferColorLUT.txt\n"
       ]
      },
      {
       "output_type": "stream",
       "stream": "stderr",
       "text": [
        "INFO:/home/gio/projects/spgr/scripts/spgr/read_data.py:MG17 analysis chan 93, with location 93\n"
       ]
      },
      {
       "output_type": "stream",
       "stream": "stderr",
       "text": [
        "INFO:phypno.attr.anat:Reading lookuptable in FREESURFER_HOME /opt/freesurfer/FreeSurferColorLUT.txt\n"
       ]
      },
      {
       "output_type": "stream",
       "stream": "stderr",
       "text": [
        "INFO:/home/gio/projects/spgr/scripts/spgr/read_data.py:MG33 analysis chan 64, with location 64\n"
       ]
      },
      {
       "output_type": "stream",
       "stream": "stderr",
       "text": [
        "INFO:phypno.attr.anat:Reading lookuptable in FREESURFER_HOME /opt/freesurfer/FreeSurferColorLUT.txt\n"
       ]
      },
      {
       "output_type": "stream",
       "stream": "stderr",
       "text": [
        "INFO:/home/gio/projects/spgr/scripts/spgr/read_data.py:MG37 analysis chan 78, with location 78\n"
       ]
      },
      {
       "output_type": "stream",
       "stream": "stderr",
       "text": [
        "INFO:phypno.attr.anat:Reading lookuptable in FREESURFER_HOME /opt/freesurfer/FreeSurferColorLUT.txt\n"
       ]
      },
      {
       "output_type": "stream",
       "stream": "stderr",
       "text": [
        "INFO:/home/gio/projects/spgr/scripts/spgr/read_data.py:MG61 analysis chan 93, with location 93\n"
       ]
      },
      {
       "output_type": "stream",
       "stream": "stderr",
       "text": [
        "INFO:phypno.attr.anat:Reading lookuptable in FREESURFER_HOME /opt/freesurfer/FreeSurferColorLUT.txt\n"
       ]
      },
      {
       "output_type": "stream",
       "stream": "stderr",
       "text": [
        "INFO:/home/gio/projects/spgr/scripts/spgr/read_data.py:MG63 analysis chan 93, with location 93\n"
       ]
      },
      {
       "output_type": "stream",
       "stream": "stderr",
       "text": [
        "INFO:phypno.attr.anat:Reading lookuptable in FREESURFER_HOME /opt/freesurfer/FreeSurferColorLUT.txt\n"
       ]
      }
     ],
     "prompt_number": 10
    },
    {
     "cell_type": "heading",
     "level": 3,
     "metadata": {},
     "source": [
      "Project onto the Brain Surface"
     ]
    },
    {
     "cell_type": "markdown",
     "metadata": {},
     "source": [
      "In every patients, we calculated the projection of each electrode on the cortical surface.\n",
      "The projection consisted of a Gaussian window / binary threshold / inverse square distance from each electrode."
     ]
    },
    {
     "cell_type": "code",
     "collapsed": false,
     "input": [
      "from numpy import NaN, atleast_2d, sum, histogram, log, nanmin, nanmax, median, nanmean, where, isnan, nansum\n",
      "%matplotlib inline\n",
      "from matplotlib.pyplot import plot"
     ],
     "language": "python",
     "metadata": {},
     "outputs": [],
     "prompt_number": 17
    },
    {
     "cell_type": "heading",
     "level": 4,
     "metadata": {},
     "source": [
      "Projections for one patient"
     ]
    },
    {
     "cell_type": "code",
     "collapsed": false,
     "input": [
      "from phypno.source import Linear, Morph\n",
      "\n",
      "from phypno.viz.plot_3d import Viz3, screenshot"
     ],
     "language": "python",
     "metadata": {},
     "outputs": [],
     "prompt_number": 18
    },
    {
     "cell_type": "code",
     "collapsed": false,
     "input": [
      "from os import makedirs\n",
      "from numpy import empty, ones\n",
      "from phypno import Data"
     ],
     "language": "python",
     "metadata": {},
     "outputs": [],
     "prompt_number": 19
    },
    {
     "cell_type": "code",
     "collapsed": false,
     "input": [
      "def make_chan_data(chan):\n",
      "    \n",
      "    data = Data()\n",
      "    data.axis = {'chan': empty(1, dtype='O')}\n",
      "    data.axis['chan'][0] = chan.return_label()\n",
      "    data.data = empty(1, dtype='O')\n",
      "    data.data[0] = ones(chan.n_chan)\n",
      "    \n",
      "    return data"
     ],
     "language": "python",
     "metadata": {},
     "outputs": [],
     "prompt_number": 21
    },
    {
     "cell_type": "code",
     "collapsed": false,
     "input": [
      "camera_sphere = {'rh': {'loc': (-1.8, -2.9, -0.02), 'elevation': 0, 'zoom': 0.0048, 'azimuth': 90},\n",
      "                 'lh': {'loc': (-1.8, -2.9, -0.02), 'elevation': 0, 'zoom': 0.0048, 'azimuth': -90},\n",
      "                 }"
     ],
     "language": "python",
     "metadata": {},
     "outputs": [],
     "prompt_number": 22
    },
    {
     "cell_type": "heading",
     "level": 4,
     "metadata": {},
     "source": [
      "Projections for all the patients"
     ]
    },
    {
     "cell_type": "markdown",
     "metadata": {},
     "source": [
      "We projected the activity of each electrode to the cortex using a Guassian window of standard deviation of 10mm.\n",
      "Electrodes farther than 20 mm did not have any influence."
     ]
    },
    {
     "cell_type": "code",
     "collapsed": false,
     "input": [
      "STD = 10\n",
      "THRESHOLD = 20"
     ],
     "language": "python",
     "metadata": {},
     "outputs": [],
     "prompt_number": 23
    },
    {
     "cell_type": "markdown",
     "metadata": {},
     "source": [
      "Activity was morphed onto the average brain that ships with Freesurfer."
     ]
    },
    {
     "cell_type": "markdown",
     "metadata": {},
     "source": [
      "For the six patients, 3 had coverage on the right and 3 had coverage on the left hemisphere.\n",
      "The majority of the coverage was over the low frontal / frontal temporal regions."
     ]
    },
    {
     "cell_type": "code",
     "collapsed": false,
     "input": [
      "all_elec = []\n",
      "\n",
      "for subj in all_subj:\n",
      "\n",
      "    chan = get_chan_used_in_analysis(subj, 'sleep', ('grid', ), reref='avg', resample_freq=None)[1]\n",
      "    if hemi_subj[subj] == 'lh':\n",
      "        for one_chan in chan.chan:\n",
      "            one_chan.xyz *= (-1, 1, 1)\n",
      "\n",
      "    data = make_chan_data(chan)\n",
      "\n",
      "    fs = Freesurfer(join(REC_DIR, subj, FS_PATH))\n",
      "    surf = fs.read_surf('rh')\n",
      "    l = Linear(surf, chan, std=STD, threshold=THRESHOLD)\n",
      "    m = Morph(surf)\n",
      "    \n",
      "    all_elec.append(m(l(data)))"
     ],
     "language": "python",
     "metadata": {},
     "outputs": [
      {
       "output_type": "stream",
       "stream": "stderr",
       "text": [
        "INFO:/home/gio/projects/spgr/scripts/spgr/read_data.py:EM09 analysis chan 69, with location 69\n"
       ]
      },
      {
       "output_type": "stream",
       "stream": "stderr",
       "text": [
        "INFO:phypno.attr.anat:Reading lookuptable in FREESURFER_HOME /opt/freesurfer/FreeSurferColorLUT.txt\n"
       ]
      },
      {
       "output_type": "stream",
       "stream": "stderr",
       "text": [
        "DEBUG:phypno:Vertex values based on gaussian, with s.d. 10\n"
       ]
      },
      {
       "output_type": "stream",
       "stream": "stderr",
       "text": [
        "DEBUG:phypno:Values thresholded at 0.135335283237\n"
       ]
      },
      {
       "output_type": "stream",
       "stream": "stdout",
       "text": [
        "Morphing data...\n"
       ]
      },
      {
       "output_type": "stream",
       "stream": "stdout",
       "text": [
        "Triangle file: b'created by greve on Thu Jun  8 19:17:51 2006' nvert = 163842 ntri = 327680\n"
       ]
      },
      {
       "output_type": "stream",
       "stream": "stdout",
       "text": [
        "Triangle file: b'created by greve on Thu Jun  8 19:17:51 2006' nvert = 163842 ntri = 327680\n"
       ]
      },
      {
       "output_type": "stream",
       "stream": "stdout",
       "text": [
        "Triangle file: b'created by gio on Fri Apr  4 19:00:54 2014' nvert = 171672 ntri = 343340\n"
       ]
      },
      {
       "output_type": "stream",
       "stream": "stdout",
       "text": [
        "Triangle file: b'created by gio on Fri Apr  4 21:09:46 2014' nvert = 158992 ntri = 317980\n"
       ]
      },
      {
       "output_type": "stream",
       "stream": "stdout",
       "text": [
        "    Left-hemisphere map read.\n"
       ]
      },
      {
       "output_type": "stream",
       "stream": "stdout",
       "text": [
        "    Right-hemisphere map read.\n"
       ]
      },
      {
       "output_type": "stream",
       "stream": "stdout",
       "text": [
        "    1 smooth iterations done.\n"
       ]
      },
      {
       "output_type": "stream",
       "stream": "stdout",
       "text": [
        "[done]\n"
       ]
      },
      {
       "output_type": "stream",
       "stream": "stderr",
       "text": [
        "INFO:/home/gio/projects/spgr/scripts/spgr/read_data.py:MG17 analysis chan 93, with location 93\n"
       ]
      },
      {
       "output_type": "stream",
       "stream": "stderr",
       "text": [
        "INFO:phypno.attr.anat:Reading lookuptable in FREESURFER_HOME /opt/freesurfer/FreeSurferColorLUT.txt\n"
       ]
      },
      {
       "output_type": "stream",
       "stream": "stderr",
       "text": [
        "DEBUG:phypno:Vertex values based on gaussian, with s.d. 10\n"
       ]
      },
      {
       "output_type": "stream",
       "stream": "stderr",
       "text": [
        "DEBUG:phypno:Values thresholded at 0.135335283237\n"
       ]
      },
      {
       "output_type": "stream",
       "stream": "stdout",
       "text": [
        "Morphing data...\n"
       ]
      },
      {
       "output_type": "stream",
       "stream": "stdout",
       "text": [
        "Triangle file: b'created by greve on Thu Jun  8 19:17:51 2006' nvert = 163842 ntri = 327680\n"
       ]
      },
      {
       "output_type": "stream",
       "stream": "stdout",
       "text": [
        "Triangle file: b'created by greve on Thu Jun  8 19:17:51 2006' nvert = 163842 ntri = 327680\n"
       ]
      },
      {
       "output_type": "stream",
       "stream": "stdout",
       "text": [
        "Triangle file: b'created by gio on Wed Dec  4 10:58:01 2013' nvert = 118351 ntri = 236698\n"
       ]
      },
      {
       "output_type": "stream",
       "stream": "stdout",
       "text": [
        "Triangle file: b'created by gio on Wed Dec  4 13:03:36 2013' nvert = 107919 ntri = 215834\n"
       ]
      },
      {
       "output_type": "stream",
       "stream": "stdout",
       "text": [
        "    Left-hemisphere map read.\n"
       ]
      },
      {
       "output_type": "stream",
       "stream": "stdout",
       "text": [
        "    Right-hemisphere map read.\n"
       ]
      },
      {
       "output_type": "stream",
       "stream": "stdout",
       "text": [
        "    1 smooth iterations done.\n"
       ]
      },
      {
       "output_type": "stream",
       "stream": "stdout",
       "text": [
        "[done]\n"
       ]
      },
      {
       "output_type": "stream",
       "stream": "stderr",
       "text": [
        "INFO:/home/gio/projects/spgr/scripts/spgr/read_data.py:MG33 analysis chan 64, with location 64\n"
       ]
      },
      {
       "output_type": "stream",
       "stream": "stderr",
       "text": [
        "INFO:phypno.attr.anat:Reading lookuptable in FREESURFER_HOME /opt/freesurfer/FreeSurferColorLUT.txt\n"
       ]
      },
      {
       "output_type": "stream",
       "stream": "stderr",
       "text": [
        "DEBUG:phypno:Vertex values based on gaussian, with s.d. 10\n"
       ]
      },
      {
       "output_type": "stream",
       "stream": "stderr",
       "text": [
        "DEBUG:phypno:Values thresholded at 0.135335283237\n"
       ]
      },
      {
       "output_type": "stream",
       "stream": "stdout",
       "text": [
        "Morphing data...\n"
       ]
      },
      {
       "output_type": "stream",
       "stream": "stdout",
       "text": [
        "Triangle file: b'created by greve on Thu Jun  8 19:17:51 2006' nvert = 163842 ntri = 327680\n"
       ]
      },
      {
       "output_type": "stream",
       "stream": "stdout",
       "text": [
        "Triangle file: b'created by greve on Thu Jun  8 19:17:51 2006' nvert = 163842 ntri = 327680\n"
       ]
      },
      {
       "output_type": "stream",
       "stream": "stdout",
       "text": [
        "Triangle file: b'created by gio on Thu Dec  5 10:36:24 2013' nvert = 125574 ntri = 251144\n"
       ]
      },
      {
       "output_type": "stream",
       "stream": "stdout",
       "text": [
        "Triangle file: b'created by gio on Thu Dec  5 13:17:36 2013' nvert = 138978 ntri = 277952\n"
       ]
      },
      {
       "output_type": "stream",
       "stream": "stdout",
       "text": [
        "    Left-hemisphere map read.\n"
       ]
      },
      {
       "output_type": "stream",
       "stream": "stdout",
       "text": [
        "    Right-hemisphere map read.\n"
       ]
      },
      {
       "output_type": "stream",
       "stream": "stdout",
       "text": [
        "    1 smooth iterations done.\n"
       ]
      },
      {
       "output_type": "stream",
       "stream": "stdout",
       "text": [
        "[done]\n"
       ]
      },
      {
       "output_type": "stream",
       "stream": "stderr",
       "text": [
        "INFO:/home/gio/projects/spgr/scripts/spgr/read_data.py:MG37 analysis chan 78, with location 78\n"
       ]
      },
      {
       "output_type": "stream",
       "stream": "stderr",
       "text": [
        "INFO:phypno.attr.anat:Reading lookuptable in FREESURFER_HOME /opt/freesurfer/FreeSurferColorLUT.txt\n"
       ]
      },
      {
       "output_type": "stream",
       "stream": "stderr",
       "text": [
        "DEBUG:phypno:Vertex values based on gaussian, with s.d. 10\n"
       ]
      },
      {
       "output_type": "stream",
       "stream": "stderr",
       "text": [
        "DEBUG:phypno:Values thresholded at 0.135335283237\n"
       ]
      },
      {
       "output_type": "stream",
       "stream": "stdout",
       "text": [
        "Morphing data...\n"
       ]
      },
      {
       "output_type": "stream",
       "stream": "stdout",
       "text": [
        "Triangle file: b'created by greve on Thu Jun  8 19:17:51 2006' nvert = 163842 ntri = 327680\n"
       ]
      },
      {
       "output_type": "stream",
       "stream": "stdout",
       "text": [
        "Triangle file: b'created by greve on Thu Jun  8 19:17:51 2006' nvert = 163842 ntri = 327680\n"
       ]
      },
      {
       "output_type": "stream",
       "stream": "stdout",
       "text": [
        "Triangle file: b'created by gio on Thu Mar 13 17:44:21 2014' nvert = 151279 ntri = 302554\n"
       ]
      },
      {
       "output_type": "stream",
       "stream": "stdout",
       "text": [
        "Triangle file: b'created by gio on Thu Mar 13 18:54:03 2014' nvert = 154198 ntri = 308392\n"
       ]
      },
      {
       "output_type": "stream",
       "stream": "stdout",
       "text": [
        "    Left-hemisphere map read.\n"
       ]
      },
      {
       "output_type": "stream",
       "stream": "stdout",
       "text": [
        "    Right-hemisphere map read.\n"
       ]
      },
      {
       "output_type": "stream",
       "stream": "stdout",
       "text": [
        "    1 smooth iterations done.\n"
       ]
      },
      {
       "output_type": "stream",
       "stream": "stdout",
       "text": [
        "[done]\n"
       ]
      },
      {
       "output_type": "stream",
       "stream": "stderr",
       "text": [
        "INFO:/home/gio/projects/spgr/scripts/spgr/read_data.py:MG61 analysis chan 93, with location 93\n"
       ]
      },
      {
       "output_type": "stream",
       "stream": "stderr",
       "text": [
        "INFO:phypno.attr.anat:Reading lookuptable in FREESURFER_HOME /opt/freesurfer/FreeSurferColorLUT.txt\n"
       ]
      },
      {
       "output_type": "stream",
       "stream": "stderr",
       "text": [
        "DEBUG:phypno:Vertex values based on gaussian, with s.d. 10\n"
       ]
      },
      {
       "output_type": "stream",
       "stream": "stderr",
       "text": [
        "DEBUG:phypno:Values thresholded at 0.135335283237\n"
       ]
      },
      {
       "output_type": "stream",
       "stream": "stdout",
       "text": [
        "Morphing data...\n"
       ]
      },
      {
       "output_type": "stream",
       "stream": "stdout",
       "text": [
        "Triangle file: b'created by greve on Thu Jun  8 19:17:51 2006' nvert = 163842 ntri = 327680\n"
       ]
      },
      {
       "output_type": "stream",
       "stream": "stdout",
       "text": [
        "Triangle file: b'created by greve on Thu Jun  8 19:17:51 2006' nvert = 163842 ntri = 327680\n"
       ]
      },
      {
       "output_type": "stream",
       "stream": "stdout",
       "text": [
        "Triangle file: b'created by gio on Wed Dec  4 10:53:47 2013' nvert = 104599 ntri = 209194\n"
       ]
      },
      {
       "output_type": "stream",
       "stream": "stdout",
       "text": [
        "Triangle file: b'created by gio on Wed Dec  4 13:15:03 2013' nvert = 135906 ntri = 271808\n"
       ]
      },
      {
       "output_type": "stream",
       "stream": "stdout",
       "text": [
        "    Left-hemisphere map read.\n"
       ]
      },
      {
       "output_type": "stream",
       "stream": "stdout",
       "text": [
        "    Right-hemisphere map read.\n"
       ]
      },
      {
       "output_type": "stream",
       "stream": "stdout",
       "text": [
        "    1 smooth iterations done.\n"
       ]
      },
      {
       "output_type": "stream",
       "stream": "stdout",
       "text": [
        "[done]\n"
       ]
      },
      {
       "output_type": "stream",
       "stream": "stderr",
       "text": [
        "INFO:/home/gio/projects/spgr/scripts/spgr/read_data.py:MG63 analysis chan 93, with location 93\n"
       ]
      },
      {
       "output_type": "stream",
       "stream": "stderr",
       "text": [
        "INFO:phypno.attr.anat:Reading lookuptable in FREESURFER_HOME /opt/freesurfer/FreeSurferColorLUT.txt\n"
       ]
      },
      {
       "output_type": "stream",
       "stream": "stderr",
       "text": [
        "DEBUG:phypno:Vertex values based on gaussian, with s.d. 10\n"
       ]
      },
      {
       "output_type": "stream",
       "stream": "stderr",
       "text": [
        "DEBUG:phypno:Values thresholded at 0.135335283237\n"
       ]
      },
      {
       "output_type": "stream",
       "stream": "stdout",
       "text": [
        "Morphing data...\n"
       ]
      },
      {
       "output_type": "stream",
       "stream": "stdout",
       "text": [
        "Triangle file: b'created by greve on Thu Jun  8 19:17:51 2006' nvert = 163842 ntri = 327680\n"
       ]
      },
      {
       "output_type": "stream",
       "stream": "stdout",
       "text": [
        "Triangle file: b'created by greve on Thu Jun  8 19:17:51 2006' nvert = 163842 ntri = 327680\n"
       ]
      },
      {
       "output_type": "stream",
       "stream": "stdout",
       "text": [
        "Triangle file: b'created by gio on Fri Dec  6 17:49:39 2013' nvert = 136748 ntri = 273492\n"
       ]
      },
      {
       "output_type": "stream",
       "stream": "stdout",
       "text": [
        "Triangle file: b'created by gio on Fri Dec  6 18:59:10 2013' nvert = 134194 ntri = 268384\n"
       ]
      },
      {
       "output_type": "stream",
       "stream": "stdout",
       "text": [
        "    Left-hemisphere map read.\n"
       ]
      },
      {
       "output_type": "stream",
       "stream": "stdout",
       "text": [
        "    Right-hemisphere map read.\n"
       ]
      },
      {
       "output_type": "stream",
       "stream": "stdout",
       "text": [
        "    1 smooth iterations done.\n"
       ]
      },
      {
       "output_type": "stream",
       "stream": "stdout",
       "text": [
        "[done]\n"
       ]
      }
     ],
     "prompt_number": 25
    },
    {
     "cell_type": "markdown",
     "metadata": {},
     "source": [
      "Electrodes in the white hemisphere were flipped to the right hemisphere and the activity was projected onto the cortex.\n",
      "This was then averaged across participants."
     ]
    },
    {
     "cell_type": "code",
     "collapsed": false,
     "input": [
      "from copy import deepcopy\n",
      "from numpy import nansum, NaN\n",
      "\n",
      "avg_elec = deepcopy(all_elec[0])\n",
      "avg_elec.data[0] = nansum(asarray([x.data[0] for x in all_elec]), axis=0)"
     ],
     "language": "python",
     "metadata": {},
     "outputs": [],
     "prompt_number": 26
    },
    {
     "cell_type": "code",
     "collapsed": false,
     "input": [
      "from visvis import CM_HOT, CM_HSV, CM_JET\n",
      "\n",
      "fs_avg = Freesurfer('/opt/freesurfer/subjects/fsaverage')\n",
      "surf_avg = fs_avg.read_surf('rh', surf_type='pial')\n",
      "v = Viz3()\n",
      "v.add_surf(surf_avg, values=avg_elec(trial=0)[163842:], limits=(0, 6), colormap=CM_JET)\n",
      "\n",
      "camera_pos = {'loc': (30, -16.1, 16.2), 'elevation': 0, 'zoom': 0.0077, 'azimuth': 90}\n",
      "v._ax.camera.loc = camera_pos['loc']\n",
      "v._ax.camera.elevation = camera_pos['elevation']\n",
      "v._ax.camera.zoom = camera_pos['zoom']\n",
      "v._ax.camera.azimuth = camera_pos['azimuth']\n",
      "\n",
      "v._fig.DrawNow()\n",
      "screenshot(join(elecloc_dir, 'fsaverage.jpg'), v._ax, sf=2)\n",
      "# v._fig.Destroy()"
     ],
     "language": "python",
     "metadata": {},
     "outputs": [
      {
       "output_type": "stream",
       "stream": "stderr",
       "text": [
        "INFO:phypno.attr.anat:Reading lookuptable in FREESURFER_HOME /opt/freesurfer/FreeSurferColorLUT.txt\n"
       ]
      }
     ],
     "prompt_number": 48
    },
    {
     "cell_type": "code",
     "collapsed": false,
     "input": [
      "from visvis import colorbar, imshow, axis\n",
      "\n",
      "i = imshow(atleast_2d(arange(6, -1, -1)).T, cm=CM_JET)\n",
      "axis('off')\n",
      "screenshot(join(elecloc_dir, 'fsaverage_colorbar.jpg'), i.parent, sf=2)"
     ],
     "language": "python",
     "metadata": {},
     "outputs": [],
     "prompt_number": 74
    }
   ],
   "metadata": {}
  }
 ]
}