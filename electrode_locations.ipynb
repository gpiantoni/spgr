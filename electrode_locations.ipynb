{
 "metadata": {
  "name": "",
  "signature": "sha256:07161beac594a8fe4ae24b182ef2a9f744ab5a53c8943286e665085a5138efd8"
 },
 "nbformat": 3,
 "nbformat_minor": 0,
 "worksheets": [
  {
   "cells": [
    {
     "cell_type": "heading",
     "level": 1,
     "metadata": {},
     "source": [
      "SPGR"
     ]
    },
    {
     "cell_type": "code",
     "collapsed": false,
     "input": [
      "import version_control\n",
      "%gui qt"
     ],
     "language": "python",
     "metadata": {},
     "outputs": [
      {
       "output_type": "stream",
       "stream": "stdout",
       "text": [
        "Last run on ip94.ucsd.edu at 2015-02-24 11:43:23.223972\n",
        "\n",
        "Phypno Version: ae5436c0cacdce0b554ef6872e66a620d522010d\n",
        "\n",
        "astroid==1.3.4, conda==3.9.0, conda-env==2.1.3, docutils==0.12, ipython==2.4.1, Jinja2==2.7.3, logilab-common==0.63.2, MarkupSafe==0.23, matplotlib==1.4.3, nibabel==2.0.0, nose==1.3.4, numpy==1.9.1, pandas==0.15.2, pep8==1.6.2, psutil==2.2.1, pycosat==0.6.1, pyflakes==0.8.1, Pygments==2.0.1, pylint==1.4.1, PyOpenGL==3.1.0, pyparsing==2.0.3, pyqtgraph==0.9.10, python-dateutil==2.1, pytz==2014.9, PyYAML==3.11, pyzmq==14.5.0, requests==2.5.2, rope-py3k==0.9.4.post1, scikit-learn==0.15.2, scipy==0.15.1, six==1.9.0, Sphinx==1.2.3, spyder==2.3.2, tornado==4.1, "
       ]
      },
      {
       "output_type": "stream",
       "stream": "stdout",
       "text": [
        "\n"
       ]
      }
     ],
     "prompt_number": 1
    },
    {
     "cell_type": "code",
     "collapsed": false,
     "input": [
      "%load_ext autoreload\n",
      "%autoreload 2"
     ],
     "language": "python",
     "metadata": {},
     "outputs": [],
     "prompt_number": 7
    },
    {
     "cell_type": "code",
     "collapsed": false,
     "input": [
      "from spgr import lg\n",
      "from logging import INFO\n",
      "lg.setLevel(INFO)"
     ],
     "language": "python",
     "metadata": {},
     "outputs": []
    },
    {
     "cell_type": "code",
     "collapsed": false,
     "input": [
      "from multiprocessing import set_start_method\n",
      "try:\n",
      "    set_start_method('forkserver')\n",
      "except RuntimeError:\n",
      "    pass"
     ],
     "language": "python",
     "metadata": {},
     "outputs": []
    },
    {
     "cell_type": "heading",
     "level": 2,
     "metadata": {},
     "source": [
      "Electrode Locations"
     ]
    },
    {
     "cell_type": "heading",
     "level": 3,
     "metadata": {},
     "source": [
      "Snapping example"
     ]
    },
    {
     "cell_type": "code",
     "collapsed": false,
     "input": [
      "from phypno.attr import Freesurfer, Channels\n",
      "from phypno.viz import Viz3"
     ],
     "language": "python",
     "metadata": {},
     "outputs": [],
     "prompt_number": 9
    },
    {
     "cell_type": "code",
     "collapsed": false,
     "input": [
      "from os.path import join\n",
      "COREG_IMG_DIR = '/home/gpiantoni/Copy/Presentations/2013_MGH/20150225_UCSD/img/coreg'"
     ],
     "language": "python",
     "metadata": {},
     "outputs": [],
     "prompt_number": 3
    },
    {
     "cell_type": "code",
     "collapsed": false,
     "input": [
      "orig_chan = Channels('/home/gpiantoni/projects/spgr/subjects/MG63/doc/elec/MG63_elec_pos-orig_sessA.csv')\n",
      "snapped_chan = Channels('/home/gpiantoni/projects/spgr/subjects/MG63/doc/elec/MG63_elec_pos-adjusted_sessA.csv')\n",
      "fs = Freesurfer('/home/gpiantoni/projects/spgr/subjects/MG63/mri/proc/freesurfer')\n",
      "surf = fs.read_surf('rh')"
     ],
     "language": "python",
     "metadata": {},
     "outputs": [
      {
       "output_type": "stream",
       "stream": "stderr",
       "text": [
        "WARNING:phypno.attr.anat:Could not find lookup table, some functions that rely on it might complain or crash.\n"
       ]
      }
     ],
     "prompt_number": 8
    },
    {
     "cell_type": "code",
     "collapsed": false,
     "input": [
      "v = Viz3()\n",
      "\n",
      "v.add_chan(orig_chan)\n",
      "SKIN_COLOR = (239 / 255., 208 / 255., 207 / 255., 0.5)\n",
      "v.add_surf(surf, color=SKIN_COLOR)\n",
      "\n",
      "v._widget.opts.update({'elevation': 5., 'azimuth': 50})"
     ],
     "language": "python",
     "metadata": {},
     "outputs": [
      {
       "output_type": "stream",
       "stream": "stdout",
       "text": [
        "4\n"
       ]
      }
     ],
     "prompt_number": 11
    },
    {
     "cell_type": "code",
     "collapsed": false,
     "input": [
      "v.save(join(COREG_IMG_DIR, 'MG63_orig.png'))"
     ],
     "language": "python",
     "metadata": {},
     "outputs": [],
     "prompt_number": 12
    },
    {
     "cell_type": "code",
     "collapsed": false,
     "input": [
      "v = Viz3()\n",
      "\n",
      "v.add_chan(snapped_chan)\n",
      "SKIN_COLOR = (239 / 255., 208 / 255., 207 / 255., 0.5)\n",
      "v.add_surf(surf, color=SKIN_COLOR)\n",
      "\n",
      "v._widget.opts.update({'elevation': 5., 'azimuth': 50})"
     ],
     "language": "python",
     "metadata": {},
     "outputs": [],
     "prompt_number": 13
    },
    {
     "cell_type": "code",
     "collapsed": false,
     "input": [
      "v.save(join(COREG_IMG_DIR, 'MG63_snapped.png'))"
     ],
     "language": "python",
     "metadata": {},
     "outputs": [],
     "prompt_number": 14
    },
    {
     "cell_type": "heading",
     "level": 3,
     "metadata": {},
     "source": [
      "Locations for all the subjects"
     ]
    },
    {
     "cell_type": "code",
     "collapsed": false,
     "input": [
      "from os import listdir, makedirs\n",
      "from os.path import join\n",
      "\n",
      "from numpy import append, asarray, arange, ones"
     ],
     "language": "python",
     "metadata": {},
     "outputs": []
    },
    {
     "cell_type": "code",
     "collapsed": false,
     "input": [
      "from phypno.attr import Freesurfer, Channels\n",
      "\n",
      "from spgr.read_data import DATA_DIR, REC_DIR, FS_PATH, ELEC_PATH, get_data, GROUP_DIR, get_chan_used_in_analysis"
     ],
     "language": "python",
     "metadata": {},
     "outputs": []
    },
    {
     "cell_type": "code",
     "collapsed": false,
     "input": [
      "elecloc_dir = join(GROUP_DIR, 'electrode_locations')\n",
      "makedirs(elecloc_dir, exist_ok=True)"
     ],
     "language": "python",
     "metadata": {},
     "outputs": []
    },
    {
     "cell_type": "code",
     "collapsed": false,
     "input": [
      "all_subj = sorted(listdir(DATA_DIR))\n",
      "\n",
      "hemi_subj = {'EM09': 'rh', \n",
      "             'MG17': 'rh',\n",
      "             'MG33': 'lh',\n",
      "             'MG37': 'lh',\n",
      "             'MG61': 'lh',\n",
      "             'MG63': 'rh',\n",
      "             }\n",
      "\n",
      "options = {'reref': 'avg',\n",
      "           'resample_freq': 256,\n",
      "           'hp_filter': 0.5,\n",
      "           'lp_filter': 50,\n",
      "           }"
     ],
     "language": "python",
     "metadata": {},
     "outputs": []
    },
    {
     "cell_type": "markdown",
     "metadata": {},
     "source": [
      "Electrode positions were defined on the pre-surgery $[MRI] co-registered with the post-surgery $[CT] scan.\n",
      "Cortical surfaces were computed with FreeSurfer.\n",
      "To account for the misalignment between the $[MRI] and $[CT] due to the craniotomy, the locations of the grid electrodes were projected onto the cortical surface [@Dykstra2012]."
     ]
    },
    {
     "cell_type": "code",
     "collapsed": false,
     "input": [
      "from phypno.viz import Viz3\n",
      "from IPython.display import display\n",
      "SKIN_COLOR = (239 / 255., 208 / 255., 207 / 255., .9)"
     ],
     "language": "python",
     "metadata": {},
     "outputs": []
    },
    {
     "cell_type": "code",
     "collapsed": false,
     "input": [
      "all_v = []\n",
      "for subj in all_subj:\n",
      "    chan = get_chan_used_in_analysis(subj, 'sleep', ('grid', ), **options)[1]\n",
      "    fs = Freesurfer(join(REC_DIR, subj, FS_PATH))\n",
      "    surf = fs.read_surf(hemi_subj[subj])\n",
      "    v = Viz3()\n",
      "    v.add_chan(chan, color=(1, 0, 0, 1))\n",
      "    v.add_surf(surf, color=SKIN_COLOR)\n",
      "    all_v.append(v)"
     ],
     "language": "python",
     "metadata": {},
     "outputs": []
    },
    {
     "cell_type": "code",
     "collapsed": false,
     "input": [],
     "language": "python",
     "metadata": {},
     "outputs": []
    },
    {
     "cell_type": "heading",
     "level": 3,
     "metadata": {},
     "source": [
      "Histogram of Regions with Elec"
     ]
    },
    {
     "cell_type": "code",
     "collapsed": false,
     "input": [
      "from numpy import zeros\n",
      "from pandas import DataFrame"
     ],
     "language": "python",
     "metadata": {},
     "outputs": []
    },
    {
     "cell_type": "code",
     "collapsed": false,
     "input": [
      "from phypno.attr.chan import assign_region_to_channels"
     ],
     "language": "python",
     "metadata": {},
     "outputs": []
    },
    {
     "cell_type": "code",
     "collapsed": false,
     "input": [
      "options = {'reref': 'avg',\n",
      "           'resample_freq': 256,\n",
      "           'hp_filter': 0.5,\n",
      "           'lp_filter': 50,\n",
      "           }\n",
      "chan_type = ('grid', )"
     ],
     "language": "python",
     "metadata": {},
     "outputs": []
    },
    {
     "cell_type": "code",
     "collapsed": false,
     "input": [
      "all_brains = []\n",
      "\n",
      "for subj in all_subj:\n",
      "\n",
      "    fs = Freesurfer(join(REC_DIR, subj, FS_PATH))\n",
      "    chan = get_chan_used_in_analysis(subj, 'sleep', chan_type, **options)[1]\n",
      "    chan = assign_region_to_channels(chan, fs, exclude_regions=('Unknown', ))\n",
      "\n",
      "    regions = chan.return_attr('region')\n",
      "    regions = [x[7:] for x in regions if x[:3] == 'ctx']  # we discard white matter and other not cortical regions\n",
      "    all_brains.append(regions)"
     ],
     "language": "python",
     "metadata": {},
     "outputs": []
    },
    {
     "cell_type": "code",
     "collapsed": false,
     "input": [
      "all_regions = set([one_region for one_brain in all_brains for one_region in one_brain])"
     ],
     "language": "python",
     "metadata": {},
     "outputs": []
    },
    {
     "cell_type": "code",
     "collapsed": false,
     "input": [
      "r = zeros((len(all_regions), len(all_subj)))"
     ],
     "language": "python",
     "metadata": {},
     "outputs": []
    },
    {
     "cell_type": "code",
     "collapsed": false,
     "input": [
      "for i_r, one_region in enumerate(all_regions):\n",
      "    for i_s in range(len(all_subj)):\n",
      "        r[i_r, i_s] = sum(1 for x in all_brains[i_s] if x == one_region) "
     ],
     "language": "python",
     "metadata": {},
     "outputs": []
    },
    {
     "cell_type": "code",
     "collapsed": false,
     "input": [
      "df = DataFrame(r, all_regions, all_subj)\n",
      "print(df.to_string())"
     ],
     "language": "python",
     "metadata": {},
     "outputs": []
    },
    {
     "cell_type": "code",
     "collapsed": false,
     "input": [
      "import matplotlib \n",
      "matplotlib.rcParams['font.size'] = 10\n",
      "matplotlib.rcParams['figure.figsize'] = [30 / 2.51, 10 / 2.51]"
     ],
     "language": "python",
     "metadata": {},
     "outputs": []
    },
    {
     "cell_type": "code",
     "collapsed": false,
     "input": [
      "fig = df.plot(kind='bar', stacked=True)\n",
      "fig.figure.tight_layout()\n",
      "fig.figure.savefig(join(elecloc_dir, 'coverage.png'))"
     ],
     "language": "python",
     "metadata": {},
     "outputs": []
    }
   ],
   "metadata": {}
  }
 ]
}