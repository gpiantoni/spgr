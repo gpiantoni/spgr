{
 "metadata": {
  "name": "",
  "signature": "sha256:69b0a5d33376e2a4350b2d79b166470416bb3d3e012609a291e1351345ac6db4"
 },
 "nbformat": 3,
 "nbformat_minor": 0,
 "worksheets": [
  {
   "cells": [
    {
     "cell_type": "heading",
     "level": 1,
     "metadata": {},
     "source": [
      "SPGR"
     ]
    },
    {
     "cell_type": "markdown",
     "metadata": {},
     "source": [
      "Running on **rgs03**"
     ]
    },
    {
     "cell_type": "code",
     "collapsed": false,
     "input": [
      "import version_control"
     ],
     "language": "python",
     "metadata": {},
     "outputs": [
      {
       "output_type": "stream",
       "stream": "stdout",
       "text": [
        "Last run on 2014-06-20 18:01:56.699086\n",
        "\n",
        "Phypno Version: f9a11275e24074ff922922b315a14fd30514c381\n",
        "\n",
        "Jinja2==2.7.2, MarkupSafe==0.18, Pillow==2.4.0, PyOpenGL==3.0.2, PyYAML==3.11, Pygments==1.6, backports.ssl-match-hostname==3.4.0.2, conda==3.5.5, ipython==2.1.0, nose==1.3.3, numpy==1.8.1, pycosat==0.6.1, pyzmq==14.3.0, requests==2.3.0, scipy==0.14.0, tornado==3.2.1, visvis==1.9, "
       ]
      },
      {
       "output_type": "stream",
       "stream": "stdout",
       "text": [
        "\n"
       ]
      }
     ],
     "prompt_number": 1
    },
    {
     "cell_type": "code",
     "collapsed": false,
     "input": [
      "import PySide\n",
      "%gui qt"
     ],
     "language": "python",
     "metadata": {},
     "outputs": [],
     "prompt_number": 2
    },
    {
     "cell_type": "heading",
     "level": 2,
     "metadata": {},
     "source": [
      "Compare Spindle Detection"
     ]
    },
    {
     "cell_type": "markdown",
     "metadata": {},
     "source": [
      "Get list of grid sleep recordings that have been read on disk and are ready to be used"
     ]
    },
    {
     "cell_type": "code",
     "collapsed": false,
     "input": [
      "from os import listdir\n",
      "from spgr.read_data import DATA_DIR\n",
      "\n",
      "all_subj = listdir(DATA_DIR)\n",
      "print('\\t'.join(all_subj))"
     ],
     "language": "python",
     "metadata": {},
     "outputs": [
      {
       "output_type": "stream",
       "stream": "stderr",
       "text": [
        "WARNING:phypno.attr.anat:nibabel (optional dependency) is not installed. You will not be able to read Freesurfer annotations and segmentations.\n"
       ]
      },
      {
       "output_type": "stream",
       "stream": "stdout",
       "text": [
        "EM09\tMG17\tMG33\tMG37\tMG49\tMG51\tMG61\tMG63\tMG65\tMG72\n"
       ]
      }
     ],
     "prompt_number": 3
    },
    {
     "cell_type": "code",
     "collapsed": false,
     "input": [
      "from multiprocessing import Pool"
     ],
     "language": "python",
     "metadata": {},
     "outputs": []
    },
    {
     "cell_type": "code",
     "collapsed": false,
     "input": [
      "detsp = DetectSpindle(method='Nir2011', frequency=(11, 18), duration=(0.5, 2))\n",
      "detsp.power_peaks = None  # we don't care about power peaks\n",
      "detsp.det_thresh = 1000"
     ],
     "language": "python",
     "metadata": {},
     "outputs": [],
     "prompt_number": 9
    },
    {
     "cell_type": "code",
     "collapsed": false,
     "input": [
      "sp = calc_spindle_values('EM09', detsp=detsp, ref_to_avg=False, lsf=True)"
     ],
     "language": "python",
     "metadata": {},
     "outputs": [
      {
       "output_type": "stream",
       "stream": "stderr",
       "text": [
        "WARNING:lsf:Wall Time: 25.25s, CPU time: 11.30s, speed-up: 0.45X\n"
       ]
      }
     ],
     "prompt_number": 10
    },
    {
     "cell_type": "code",
     "collapsed": false,
     "input": [
      "sp"
     ],
     "language": "python",
     "metadata": {},
     "outputs": [
      {
       "metadata": {},
       "output_type": "pyout",
       "prompt_number": 11,
       "text": [
        "{'mean': array([None, None, None, None, None, None, None, None, None, None, None,\n",
        "        None, None, None, None], dtype=object),\n",
        " 'std': array([None, None, None, None, None, None, None, None, None, None, None,\n",
        "        None, None, None, None], dtype=object),\n",
        " 'sel_value': array([  7.92741265,   7.81296803,   8.13537817,  11.00476777,\n",
        "         19.52922866,   9.13106395,  17.23677056,  27.93080805,\n",
        "         16.72597472,  20.08059945,  17.60722587,  15.04116854,\n",
        "         20.95758186,  18.89022275,  18.15941554]),\n",
        " 'det_value': array([  7927.4341584 ,   7812.95401472,   8135.38952073,  11004.74424672,\n",
        "         19529.33187424,   9131.08336229,  17236.58384488,  27930.88307676,\n",
        "         16726.02458063,  20080.63828805,  17607.3195879 ,  15041.23220467,\n",
        "         20957.70384566,  18890.28877937,  18159.45698497]),\n",
        " 'chan': array(['GR3', 'GR8', 'GR15', 'GR22', 'GR29', 'GR34', 'GR39', 'GR44',\n",
        "        'GR49', 'GR54', 'GR59', 'GR64', 'FGR5', 'FGR10', 'FGR15'], \n",
        "       dtype='<U5'),\n",
        " 'spindles': []}"
       ]
      }
     ],
     "prompt_number": 11
    },
    {
     "cell_type": "markdown",
     "metadata": {},
     "source": [
      "def calc_spindle(subj):\n",
      "    return calc_spindle_values(subj, detsp=detsp, ref_to_avg=False, lsf=True)\n",
      "\n",
      "with Pool(10) as pool:\n",
      "    all_info = pool.map(calc_spindle, all_subj)"
     ]
    },
    {
     "cell_type": "code",
     "collapsed": false,
     "input": [
      "from phypno.detect import DetectSpindle\n",
      "from spgr.detect_spindles import calc_spindle_values\n",
      "\n",
      "from pickle import dump\n",
      "from os.path import join"
     ],
     "language": "python",
     "metadata": {},
     "outputs": [],
     "prompt_number": 4
    },
    {
     "cell_type": "markdown",
     "metadata": {},
     "source": [
      "from pickle import load\n",
      "with open('/PHShome/gp902/all_info.pkl', 'rb') as f:\n",
      "    all_info = load(f)"
     ]
    },
    {
     "cell_type": "code",
     "collapsed": false,
     "input": [
      "GROUP_DIR = '/PHShome/gp902/projects/spgr/group'\n",
      "methods = ['UCSD', 'Nir2011', 'Wamsley2012'][2:]\n",
      "method_opts = [5, 3, 2, 1, .5]\n",
      "\n",
      "for one_method in methods:\n",
      "    for one_opts in method_opts:\n",
      "        detsp = DetectSpindle(method=one_method, frequency=(11, 18), duration=(0.5, 2))\n",
      "        detsp.power_peaks = None  # we don't care about power peaks\n",
      "        detsp.det_thresh = one_opts\n",
      "        detsp.sel_thresh = one_opts / 2\n",
      "        \n",
      "        spindle_name = 'spindles_' + one_method + '_' + str(one_opts) + '.pkl'\n",
      "        print(spindle_name)\n",
      "        \n",
      "        all_spindles = []\n",
      "        for subj in all_subj:\n",
      "            all_spindles.append(calc_spindle_values(subj, detsp=detsp, \n",
      "                                                    ref_to_avg=False, lsf=True))\n",
      "\n",
      "        with open(join(GROUP_DIR, spindle_name), 'wb') as f:\n",
      "            dump(all_spindles, f)\n"
     ],
     "language": "python",
     "metadata": {},
     "outputs": [
      {
       "output_type": "stream",
       "stream": "stderr",
       "text": [
        "WARNING:lsf:Wall Time: 12.94s, CPU time: 12.82s, speed-up: 0.99X\n"
       ]
      },
      {
       "output_type": "stream",
       "stream": "stderr",
       "text": [
        "WARNING:lsf:Wall Time: 12.71s, CPU time: 13.22s, speed-up: 1.04X\n"
       ]
      },
      {
       "output_type": "stream",
       "stream": "stderr",
       "text": [
        "WARNING:lsf:Wall Time: 14.11s, CPU time: 11.04s, speed-up: 0.78X\n"
       ]
      },
      {
       "output_type": "stream",
       "stream": "stderr",
       "text": [
        "WARNING:lsf:Wall Time: 12.54s, CPU time: 11.68s, speed-up: 0.93X\n"
       ]
      },
      {
       "output_type": "stream",
       "stream": "stderr",
       "text": [
        "WARNING:lsf:Wall Time: 15.01s, CPU time: 10.85s, speed-up: 0.72X\n"
       ]
      },
      {
       "output_type": "stream",
       "stream": "stderr",
       "text": [
        "WARNING:lsf:Wall Time: 14.17s, CPU time: 8.78s, speed-up: 0.62X\n"
       ]
      },
      {
       "output_type": "stream",
       "stream": "stderr",
       "text": [
        "WARNING:lsf:Wall Time: 14.53s, CPU time: 18.83s, speed-up: 1.30X\n"
       ]
      },
      {
       "output_type": "stream",
       "stream": "stderr",
       "text": [
        "WARNING:lsf:Wall Time: 13.61s, CPU time: 14.99s, speed-up: 1.10X\n"
       ]
      },
      {
       "output_type": "stream",
       "stream": "stderr",
       "text": [
        "WARNING:lsf:Wall Time: 14.01s, CPU time: 9.01s, speed-up: 0.64X\n"
       ]
      },
      {
       "output_type": "stream",
       "stream": "stderr",
       "text": [
        "WARNING:lsf:Wall Time: 11.56s, CPU time: 9.06s, speed-up: 0.78X\n"
       ]
      },
      {
       "output_type": "stream",
       "stream": "stdout",
       "text": [
        "spindles_Wamsley2012_5.pkl\n",
        "spindles_Wamsley2012_3.pkl"
       ]
      },
      {
       "output_type": "stream",
       "stream": "stderr",
       "text": [
        "WARNING:lsf:Wall Time: 15.90s, CPU time: 10.43s, speed-up: 0.66X\n"
       ]
      },
      {
       "output_type": "stream",
       "stream": "stderr",
       "text": [
        "WARNING:lsf:Wall Time: 15.11s, CPU time: 18.14s, speed-up: 1.20X\n"
       ]
      },
      {
       "output_type": "stream",
       "stream": "stderr",
       "text": [
        "WARNING:lsf:Wall Time: 11.62s, CPU time: 11.01s, speed-up: 0.95X\n"
       ]
      },
      {
       "output_type": "stream",
       "stream": "stderr",
       "text": [
        "WARNING:lsf:Wall Time: 11.91s, CPU time: 11.62s, speed-up: 0.98X\n"
       ]
      },
      {
       "output_type": "stream",
       "stream": "stderr",
       "text": [
        "WARNING:lsf:Wall Time: 29.51s, CPU time: 11.10s, speed-up: 0.38X\n"
       ]
      },
      {
       "output_type": "stream",
       "stream": "stderr",
       "text": [
        "WARNING:lsf:Wall Time: 10.58s, CPU time: 9.48s, speed-up: 0.90X\n"
       ]
      },
      {
       "output_type": "stream",
       "stream": "stderr",
       "text": [
        "WARNING:lsf:Wall Time: 52.16s, CPU time: 16.31s, speed-up: 0.31X\n"
       ]
      },
      {
       "output_type": "stream",
       "stream": "stderr",
       "text": [
        "WARNING:lsf:Wall Time: 13.45s, CPU time: 16.12s, speed-up: 1.20X\n"
       ]
      },
      {
       "output_type": "stream",
       "stream": "stderr",
       "text": [
        "WARNING:lsf:Wall Time: 11.87s, CPU time: 10.07s, speed-up: 0.85X\n"
       ]
      },
      {
       "output_type": "stream",
       "stream": "stderr",
       "text": [
        "WARNING:lsf:Wall Time: 10.09s, CPU time: 9.34s, speed-up: 0.93X\n"
       ]
      },
      {
       "output_type": "stream",
       "stream": "stdout",
       "text": [
        "\n",
        "spindles_Wamsley2012_2.pkl"
       ]
      },
      {
       "output_type": "stream",
       "stream": "stderr",
       "text": [
        "WARNING:lsf:Wall Time: 10.61s, CPU time: 11.32s, speed-up: 1.07X\n"
       ]
      },
      {
       "output_type": "stream",
       "stream": "stderr",
       "text": [
        "WARNING:lsf:Wall Time: 11.80s, CPU time: 17.88s, speed-up: 1.52X\n"
       ]
      },
      {
       "output_type": "stream",
       "stream": "stderr",
       "text": [
        "WARNING:lsf:Wall Time: 9.54s, CPU time: 11.51s, speed-up: 1.21X\n"
       ]
      },
      {
       "output_type": "stream",
       "stream": "stderr",
       "text": [
        "WARNING:lsf:Wall Time: 11.73s, CPU time: 14.12s, speed-up: 1.20X\n"
       ]
      },
      {
       "output_type": "stream",
       "stream": "stderr",
       "text": [
        "ERROR:lsf:funct_3413034_p34105_b000118_det_sp_in_one_chan_j000003 has finished with error:\n",
        "Traceback (most recent call last):\n",
        "  File \"/PHShome/gp902/projects/lsf/funct/funct_3413034_p34105_b000118_det_sp_in_one_chan_j000003\", line 29, in <module>\n",
        "    output = det_sp_in_one_chan(*values)\n",
        "  File \"/PHShome/gp902/projects/lsf/funct/funct_3413034_p34105_b000118_det_sp_in_one_chan_j000003\", line 23, in det_sp_in_one_chan\n",
        "    spindles = detsp(data)\n",
        "  File \"/PHShome/gp902/toolbox/phypno/phypno/detect/spindle.py\", line 128, in __call__\n",
        "    time, self)\n",
        "  File \"/PHShome/gp902/toolbox/phypno/phypno/detect/spindle.py\", line 331, in detect_Wamsley2012\n",
        "    sp_in_chan = make_spindles(events, power_peaks, dat_det, time, s_freq)\n",
        "  File \"/PHShome/gp902/toolbox/phypno/phypno/detect/spindle.py\", line 773, in make_spindles\n",
        "    'end_time': time[i[2]],\n",
        "IndexError: index out of bounds\n",
        "\n"
       ]
      },
      {
       "output_type": "stream",
       "stream": "stderr",
       "text": [
        "WARNING:lsf:Wall Time: 13.23s, CPU time: 11.42s, speed-up: 0.86X\n"
       ]
      },
      {
       "output_type": "stream",
       "stream": "stdout",
       "text": [
        "\n"
       ]
      },
      {
       "ename": "AttributeError",
       "evalue": "'NoneType' object has no attribute 'spindle'",
       "output_type": "pyerr",
       "traceback": [
        "\u001b[1;31m---------------------------------------------------------------------------\u001b[0m\n\u001b[1;31mAttributeError\u001b[0m                            Traceback (most recent call last)",
        "\u001b[1;32m<ipython-input-13-79c751cabc77>\u001b[0m in \u001b[0;36m<module>\u001b[1;34m()\u001b[0m\n\u001b[0;32m     16\u001b[0m         \u001b[1;32mfor\u001b[0m \u001b[0msubj\u001b[0m \u001b[1;32min\u001b[0m \u001b[0mall_subj\u001b[0m\u001b[1;33m:\u001b[0m\u001b[1;33m\u001b[0m\u001b[0m\n\u001b[0;32m     17\u001b[0m             all_spindles.append(calc_spindle_values(subj, detsp=detsp, \n\u001b[1;32m---> 18\u001b[1;33m                                                     ref_to_avg=False, lsf=True))\n\u001b[0m\u001b[0;32m     19\u001b[0m \u001b[1;33m\u001b[0m\u001b[0m\n\u001b[0;32m     20\u001b[0m         \u001b[1;32mwith\u001b[0m \u001b[0mopen\u001b[0m\u001b[1;33m(\u001b[0m\u001b[0mjoin\u001b[0m\u001b[1;33m(\u001b[0m\u001b[0mGROUP_DIR\u001b[0m\u001b[1;33m,\u001b[0m \u001b[0mspindle_name\u001b[0m\u001b[1;33m)\u001b[0m\u001b[1;33m,\u001b[0m \u001b[1;34m'wb'\u001b[0m\u001b[1;33m)\u001b[0m \u001b[1;32mas\u001b[0m \u001b[0mf\u001b[0m\u001b[1;33m:\u001b[0m\u001b[1;33m\u001b[0m\u001b[0m\n",
        "\u001b[1;32m/PHShome/gp902/projects/spgr/scripts/spgr/detect_spindles.py\u001b[0m in \u001b[0;36mcalc_spindle_values\u001b[1;34m(subj, detsp, ref_to_avg, lsf)\u001b[0m\n\u001b[0;32m    118\u001b[0m             \u001b[0mall_sp\u001b[0m\u001b[1;33m.\u001b[0m\u001b[0mappend\u001b[0m\u001b[1;33m(\u001b[0m\u001b[0mspindles\u001b[0m\u001b[1;33m)\u001b[0m\u001b[1;33m\u001b[0m\u001b[0m\n\u001b[0;32m    119\u001b[0m \u001b[1;33m\u001b[0m\u001b[0m\n\u001b[1;32m--> 120\u001b[1;33m     \u001b[0mspindles\u001b[0m \u001b[1;33m=\u001b[0m \u001b[1;33m[\u001b[0m\u001b[0mitem\u001b[0m \u001b[1;32mfor\u001b[0m \u001b[0msublist\u001b[0m \u001b[1;32min\u001b[0m \u001b[0mall_sp\u001b[0m \u001b[1;32mfor\u001b[0m \u001b[0mitem\u001b[0m \u001b[1;32min\u001b[0m \u001b[0msublist\u001b[0m\u001b[1;33m.\u001b[0m\u001b[0mspindle\u001b[0m\u001b[1;33m]\u001b[0m\u001b[1;33m\u001b[0m\u001b[0m\n\u001b[0m\u001b[0;32m    121\u001b[0m     \u001b[0mspindles\u001b[0m \u001b[1;33m=\u001b[0m \u001b[0msorted\u001b[0m\u001b[1;33m(\u001b[0m\u001b[0mspindles\u001b[0m\u001b[1;33m,\u001b[0m \u001b[0mkey\u001b[0m\u001b[1;33m=\u001b[0m\u001b[1;32mlambda\u001b[0m \u001b[0mx\u001b[0m\u001b[1;33m:\u001b[0m \u001b[0mx\u001b[0m\u001b[1;33m[\u001b[0m\u001b[1;34m'start_time'\u001b[0m\u001b[1;33m]\u001b[0m\u001b[1;33m)\u001b[0m\u001b[1;33m\u001b[0m\u001b[0m\n\u001b[0;32m    122\u001b[0m \u001b[1;33m\u001b[0m\u001b[0m\n",
        "\u001b[1;32m/PHShome/gp902/projects/spgr/scripts/spgr/detect_spindles.py\u001b[0m in \u001b[0;36m<listcomp>\u001b[1;34m(.0)\u001b[0m\n\u001b[0;32m    118\u001b[0m             \u001b[0mall_sp\u001b[0m\u001b[1;33m.\u001b[0m\u001b[0mappend\u001b[0m\u001b[1;33m(\u001b[0m\u001b[0mspindles\u001b[0m\u001b[1;33m)\u001b[0m\u001b[1;33m\u001b[0m\u001b[0m\n\u001b[0;32m    119\u001b[0m \u001b[1;33m\u001b[0m\u001b[0m\n\u001b[1;32m--> 120\u001b[1;33m     \u001b[0mspindles\u001b[0m \u001b[1;33m=\u001b[0m \u001b[1;33m[\u001b[0m\u001b[0mitem\u001b[0m \u001b[1;32mfor\u001b[0m \u001b[0msublist\u001b[0m \u001b[1;32min\u001b[0m \u001b[0mall_sp\u001b[0m \u001b[1;32mfor\u001b[0m \u001b[0mitem\u001b[0m \u001b[1;32min\u001b[0m \u001b[0msublist\u001b[0m\u001b[1;33m.\u001b[0m\u001b[0mspindle\u001b[0m\u001b[1;33m]\u001b[0m\u001b[1;33m\u001b[0m\u001b[0m\n\u001b[0m\u001b[0;32m    121\u001b[0m     \u001b[0mspindles\u001b[0m \u001b[1;33m=\u001b[0m \u001b[0msorted\u001b[0m\u001b[1;33m(\u001b[0m\u001b[0mspindles\u001b[0m\u001b[1;33m,\u001b[0m \u001b[0mkey\u001b[0m\u001b[1;33m=\u001b[0m\u001b[1;32mlambda\u001b[0m \u001b[0mx\u001b[0m\u001b[1;33m:\u001b[0m \u001b[0mx\u001b[0m\u001b[1;33m[\u001b[0m\u001b[1;34m'start_time'\u001b[0m\u001b[1;33m]\u001b[0m\u001b[1;33m)\u001b[0m\u001b[1;33m\u001b[0m\u001b[0m\n\u001b[0;32m    122\u001b[0m \u001b[1;33m\u001b[0m\u001b[0m\n",
        "\u001b[1;31mAttributeError\u001b[0m: 'NoneType' object has no attribute 'spindle'"
       ]
      }
     ],
     "prompt_number": 13
    },
    {
     "cell_type": "code",
     "collapsed": false,
     "input": [
      "sp = one_info['spindles']"
     ],
     "language": "python",
     "metadata": {},
     "outputs": []
    },
    {
     "cell_type": "code",
     "collapsed": false,
     "input": [
      "sp"
     ],
     "language": "python",
     "metadata": {},
     "outputs": []
    },
    {
     "cell_type": "code",
     "collapsed": false,
     "input": [
      "sp_1 = [x for x in sp if x['chan'] == 'GR29']\n",
      "sp_2 = [x for x in sp if x['chan'] == 'GR39']"
     ],
     "language": "python",
     "metadata": {},
     "outputs": []
    },
    {
     "cell_type": "code",
     "collapsed": false,
     "input": [
      "st_1 = [x['start_time'] for x in sp_1]\n",
      "st_2 = [x['start_time'] for x in sp_2]\n",
      "\n",
      "et_1 = [x['end_time'] for x in sp_1]\n",
      "et_2 = [x['end_time'] for x in sp_2]\n",
      "\n",
      "len(st_1)"
     ],
     "language": "python",
     "metadata": {},
     "outputs": []
    },
    {
     "cell_type": "code",
     "collapsed": false,
     "input": [
      "from numpy import *"
     ],
     "language": "python",
     "metadata": {},
     "outputs": [],
     "prompt_number": 52
    },
    {
     "cell_type": "code",
     "collapsed": false,
     "input": [
      "from numpy import *\n",
      "\n",
      "st_1 = expand_dims(asarray(st_1), 1)\n",
      "et_1 = expand_dims(asarray(et_1), 1)\n",
      "\n",
      "st_2 = expand_dims(asarray(st_2), 1)\n",
      "et_2 = expand_dims(asarray(et_2), 1)\n",
      "\n",
      "overlap = (st_1 <= et_2.T) & (st_2.T <= et_1)\n",
      "sum(overlap)"
     ],
     "language": "python",
     "metadata": {},
     "outputs": []
    },
    {
     "cell_type": "code",
     "collapsed": false,
     "input": [
      "sum(overlap) / len(st_2)"
     ],
     "language": "python",
     "metadata": {},
     "outputs": []
    },
    {
     "cell_type": "code",
     "collapsed": false,
     "input": [
      "one_method = 'Nir2011'\n",
      "one_opts = 2\n",
      "spindle_name = 'spindles_' + one_method + '_' + str(one_opts) + '.pkl'\n",
      "\n",
      "from pickle import load\n",
      "with open(join(GROUP_DIR, spindle_name), 'rb') as f:\n",
      "    sp_Nir2011 = load(f)\n",
      "            "
     ],
     "language": "python",
     "metadata": {},
     "outputs": [],
     "prompt_number": 85
    },
    {
     "cell_type": "code",
     "collapsed": false,
     "input": [
      "one_method = 'UCSD'\n",
      "one_opts = 2\n",
      "spindle_name = 'spindles_' + one_method + '_' + str(one_opts) + '.pkl'\n",
      "\n",
      "from pickle import load\n",
      "with open(join(GROUP_DIR, spindle_name), 'rb') as f:\n",
      "    sp_UCSD = load(f)"
     ],
     "language": "python",
     "metadata": {},
     "outputs": [],
     "prompt_number": 86
    },
    {
     "cell_type": "code",
     "collapsed": false,
     "input": [
      "sp1 = [x['spindles'] for x in sp_UCSD][0]"
     ],
     "language": "python",
     "metadata": {},
     "outputs": [],
     "prompt_number": 40
    },
    {
     "cell_type": "code",
     "collapsed": false,
     "input": [
      "len(sp_2)"
     ],
     "language": "python",
     "metadata": {},
     "outputs": [
      {
       "metadata": {},
       "output_type": "pyout",
       "prompt_number": 46,
       "text": [
        "160"
       ]
      }
     ],
     "prompt_number": 46
    },
    {
     "cell_type": "code",
     "collapsed": false,
     "input": [
      "st_1 = [x['start_time'] for x in sp_1]\n",
      "st_2 = [x['start_time'] for x in sp_2]\n",
      "\n",
      "et_1 = [x['end_time'] for x in sp_1]\n",
      "et_2 = [x['end_time'] for x in sp_2]\n"
     ],
     "language": "python",
     "metadata": {},
     "outputs": [],
     "prompt_number": 48
    },
    {
     "cell_type": "code",
     "collapsed": false,
     "input": [
      "st_1 = expand_dims(asarray(st_1), 1)\n",
      "et_1 = expand_dims(asarray(et_1), 1)\n",
      "\n",
      "st_2 = expand_dims(asarray(st_2), 1)\n",
      "et_2 = expand_dims(asarray(et_2), 1)\n",
      "\n",
      "overlap = (st_1 <= et_2.T) & (st_2.T <= et_1)\n",
      "len(st_1) - sum(overlap)"
     ],
     "language": "python",
     "metadata": {},
     "outputs": [
      {
       "metadata": {},
       "output_type": "pyout",
       "prompt_number": 54,
       "text": [
        "112"
       ]
      }
     ],
     "prompt_number": 54
    },
    {
     "cell_type": "code",
     "collapsed": false,
     "input": [
      "def compare_spindles(info_A, info_B):\n",
      "    n_subj = len(info_A)\n",
      "    common = zeros(n_subj)\n",
      "    only_A = zeros(n_subj)\n",
      "    only_B = zeros(n_subj)\n",
      "    \n",
      "    for i, subj_A, subj_B in zip(range(n_subj), info_A, info_B):\n",
      "        \n",
      "        spindles_A = subj_A['spindles']\n",
      "        spindles_B = subj_B['spindles']\n",
      "        all_chan = subj_A['chan']\n",
      "        for chan in all_chan:\n",
      "            \n",
      "            sp_A = [x for x in spindles_A if x['chan'] == chan]\n",
      "            sp_B = [x for x in spindles_B if x['chan'] == chan]\n",
      "            \n",
      "            st_A = [x['start_time'] for x in sp_A]\n",
      "            st_B = [x['start_time'] for x in sp_B]\n",
      "\n",
      "            et_A = [x['end_time'] for x in sp_A]\n",
      "            et_B = [x['end_time'] for x in sp_B]\n",
      "            \n",
      "            st_A = expand_dims(asarray(st_A), 1)\n",
      "            et_A = expand_dims(asarray(et_A), 1)\n",
      "\n",
      "            st_B = expand_dims(asarray(st_B), 1)\n",
      "            et_B = expand_dims(asarray(et_B), 1)\n",
      "\n",
      "            common_in_chan = sum((st_A <= et_B.T) & (st_B.T <= et_A))\n",
      "            only_A_in_chan = len(sp_A) - common_in_chan\n",
      "            only_B_in_chan = len(sp_B) - common_in_chan\n",
      "            \n",
      "            common[i] += common_in_chan\n",
      "            only_A[i] += only_A_in_chan\n",
      "            only_B[i] += only_B_in_chan\n",
      "            \n",
      "        common[i] /= len(all_chan)\n",
      "        only_A[i] /= len(all_chan)\n",
      "        only_B[i] /= len(all_chan)\n",
      "            \n",
      "    return (common / (common + only_A) + common / (common + only_B)) / 2\n"
     ],
     "language": "python",
     "metadata": {},
     "outputs": [],
     "prompt_number": 78
    },
    {
     "cell_type": "code",
     "collapsed": false,
     "input": [
      "val = compare_spindles(sp_UCSD, sp_Nir2011)"
     ],
     "language": "python",
     "metadata": {},
     "outputs": [],
     "prompt_number": 87
    },
    {
     "cell_type": "code",
     "collapsed": false,
     "input": [
      "val"
     ],
     "language": "python",
     "metadata": {},
     "outputs": [
      {
       "metadata": {},
       "output_type": "pyout",
       "prompt_number": 88,
       "text": [
        "array([ 0.38716792,  0.36595732,  0.41013217,  0.68001058,  0.55985747,\n",
        "        0.44939421,  0.30471968,  0.33517352,  0.25878615,  0.30019936])"
       ]
      }
     ],
     "prompt_number": 88
    },
    {
     "cell_type": "code",
     "collapsed": false,
     "input": [],
     "language": "python",
     "metadata": {},
     "outputs": []
    }
   ],
   "metadata": {}
  }
 ]
}