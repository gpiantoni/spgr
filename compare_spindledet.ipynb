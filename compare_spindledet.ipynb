{
 "metadata": {
  "name": "",
  "signature": "sha256:6256da67ad7c7bf639038b8af9c81390453efb30369ebce5fac109499337d7b4"
 },
 "nbformat": 3,
 "nbformat_minor": 0,
 "worksheets": [
  {
   "cells": [
    {
     "cell_type": "heading",
     "level": 1,
     "metadata": {},
     "source": [
      "SPGR"
     ]
    },
    {
     "cell_type": "markdown",
     "metadata": {},
     "source": [
      "Running on **rgs03**"
     ]
    },
    {
     "cell_type": "code",
     "collapsed": false,
     "input": [
      "import version_control"
     ],
     "language": "python",
     "metadata": {},
     "outputs": [
      {
       "output_type": "stream",
       "stream": "stdout",
       "text": [
        "Last run on 2014-06-20 17:27:02.130264\n",
        "\n",
        "Phypno Version: f9a11275e24074ff922922b315a14fd30514c381\n",
        "\n",
        "Jinja2==2.7.2, MarkupSafe==0.18, Pillow==2.4.0, PyOpenGL==3.0.2, PyYAML==3.11, Pygments==1.6, backports.ssl-match-hostname==3.4.0.2, conda==3.5.5, ipython==2.1.0, nose==1.3.3, numpy==1.8.1, pycosat==0.6.1, pyzmq==14.3.0, requests==2.3.0, scipy==0.14.0, tornado==3.2.1, visvis==1.9, "
       ]
      },
      {
       "output_type": "stream",
       "stream": "stdout",
       "text": [
        "\n"
       ]
      }
     ],
     "prompt_number": 1
    },
    {
     "cell_type": "code",
     "collapsed": false,
     "input": [
      "import PySide\n",
      "%gui qt"
     ],
     "language": "python",
     "metadata": {},
     "outputs": [],
     "prompt_number": 2
    },
    {
     "cell_type": "heading",
     "level": 2,
     "metadata": {},
     "source": [
      "Compare Spindle Detection"
     ]
    },
    {
     "cell_type": "markdown",
     "metadata": {},
     "source": [
      "Get list of grid sleep recordings that have been read on disk and are ready to be used"
     ]
    },
    {
     "cell_type": "code",
     "collapsed": false,
     "input": [
      "from os import listdir\n",
      "from spgr.read_data import DATA_DIR\n",
      "\n",
      "all_subj = listdir(DATA_DIR)\n",
      "print('\\t'.join(all_subj))"
     ],
     "language": "python",
     "metadata": {},
     "outputs": [
      {
       "output_type": "stream",
       "stream": "stderr",
       "text": [
        "WARNING:phypno.attr.anat:nibabel (optional dependency) is not installed. You will not be able to read Freesurfer annotations and segmentations.\n"
       ]
      },
      {
       "output_type": "stream",
       "stream": "stdout",
       "text": [
        "EM09\tMG17\tMG33\tMG37\tMG49\tMG51\tMG61\tMG63\tMG65\n"
       ]
      }
     ],
     "prompt_number": 3
    },
    {
     "cell_type": "code",
     "collapsed": false,
     "input": [
      "from multiprocessing import Pool"
     ],
     "language": "python",
     "metadata": {},
     "outputs": [],
     "prompt_number": 4
    },
    {
     "cell_type": "code",
     "collapsed": false,
     "input": [
      "detsp = DetectSpindle(method='UCSD', frequency=(11, 18), duration=(0.5, 2))\n",
      "detsp.power_peaks = None  # we don't care about power peaks"
     ],
     "language": "python",
     "metadata": {},
     "outputs": []
    },
    {
     "cell_type": "code",
     "collapsed": false,
     "input": [
      "def calc_spindle(subj):\n",
      "    return calc_spindle_values(subj, detsp=detsp, ref_to_avg=False, lsf=True)\n",
      "\n",
      "with Pool(10) as pool:\n",
      "    all_info = pool.map(calc_spindle, all_subj)"
     ],
     "language": "python",
     "metadata": {},
     "outputs": []
    },
    {
     "cell_type": "code",
     "collapsed": false,
     "input": [
      "from phypno.detect import DetectSpindle\n",
      "from spgr.detect_spindles import calc_spindle_values\n",
      "\n",
      "from pickle import dump\n",
      "from os.path import join"
     ],
     "language": "python",
     "metadata": {},
     "outputs": [],
     "prompt_number": 5
    },
    {
     "cell_type": "code",
     "collapsed": false,
     "input": [
      "from pickle import load\n",
      "with open('/PHShome/gp902/all_info.pkl', 'rb') as f:\n",
      "    all_info = load(f)"
     ],
     "language": "python",
     "metadata": {},
     "outputs": []
    },
    {
     "cell_type": "code",
     "collapsed": false,
     "input": [
      "GROUP_DIR = '/PHShome/gp902/projects/spgr/group'\n",
      "methods = ['UCSD', 'Nir2011', 'Wamsley2012']\n",
      "method_opts = [5, 3, 2, 1, .5]\n",
      "\n",
      "for one_method in methods:\n",
      "    for one_opts in method_opts:\n",
      "        detsp = DetectSpindle(method=one_method, frequency=(11, 18), duration=(0.5, 2))\n",
      "        detsp.power_peaks = None  # we don't care about power peaks\n",
      "        detsp.det_thresh = one_opts\n",
      "        detsp.sel_thresh = one_opts / 2\n",
      "        \n",
      "        spindle_name = 'spindles_' + one_method + '_' + str(one_opts) + '.pkl'\n",
      "        print(spindle_name)\n",
      "        \n",
      "        all_spindles = []\n",
      "        for subj in all_subj:\n",
      "            all_spindles.append(calc_spindle_values(subj, detsp=detsp, \n",
      "                                                    ref_to_avg=False, lsf=True))\n",
      "\n",
      "        with open(join(GROUP_DIR, spindle_name), 'wb') as f:\n",
      "            dump(all_spindles, f)\n"
     ],
     "language": "python",
     "metadata": {},
     "outputs": [
      {
       "output_type": "stream",
       "stream": "stderr",
       "text": [
        "WARNING:lsf:Wall Time: 12.02s, CPU time: 26.59s, speed-up: 2.21X\n"
       ]
      },
      {
       "output_type": "stream",
       "stream": "stderr",
       "text": [
        "WARNING:lsf:Wall Time: 13.15s, CPU time: 45.09s, speed-up: 3.43X\n"
       ]
      },
      {
       "output_type": "stream",
       "stream": "stderr",
       "text": [
        "WARNING:lsf:Wall Time: 14.36s, CPU time: 33.40s, speed-up: 2.33X\n"
       ]
      },
      {
       "output_type": "stream",
       "stream": "stderr",
       "text": [
        "WARNING:lsf:Wall Time: 16.24s, CPU time: 31.84s, speed-up: 1.96X\n"
       ]
      },
      {
       "output_type": "stream",
       "stream": "stderr",
       "text": [
        "WARNING:lsf:Wall Time: 22.00s, CPU time: 37.19s, speed-up: 1.69X\n"
       ]
      },
      {
       "output_type": "stream",
       "stream": "stderr",
       "text": [
        "WARNING:lsf:Wall Time: 13.08s, CPU time: 30.22s, speed-up: 2.31X\n"
       ]
      },
      {
       "output_type": "stream",
       "stream": "stderr",
       "text": [
        "WARNING:lsf:Wall Time: 13.42s, CPU time: 48.58s, speed-up: 3.62X\n"
       ]
      },
      {
       "output_type": "stream",
       "stream": "stderr",
       "text": [
        "WARNING:lsf:Wall Time: 13.39s, CPU time: 41.40s, speed-up: 3.09X\n"
       ]
      },
      {
       "output_type": "stream",
       "stream": "stderr",
       "text": [
        "WARNING:lsf:Wall Time: 8.77s, CPU time: 23.21s, speed-up: 2.65X\n"
       ]
      },
      {
       "output_type": "stream",
       "stream": "stderr",
       "text": [
        "WARNING:lsf:Wall Time: 11.18s, CPU time: 26.41s, speed-up: 2.36X\n"
       ]
      },
      {
       "output_type": "stream",
       "stream": "stderr",
       "text": [
        "WARNING:lsf:Wall Time: 14.14s, CPU time: 52.09s, speed-up: 3.68X\n"
       ]
      },
      {
       "output_type": "stream",
       "stream": "stderr",
       "text": [
        "WARNING:lsf:Wall Time: 15.99s, CPU time: 42.07s, speed-up: 2.63X\n"
       ]
      },
      {
       "output_type": "stream",
       "stream": "stderr",
       "text": [
        "WARNING:lsf:Wall Time: 10.86s, CPU time: 38.05s, speed-up: 3.50X\n"
       ]
      },
      {
       "output_type": "stream",
       "stream": "stderr",
       "text": [
        "WARNING:lsf:Wall Time: 11.46s, CPU time: 44.15s, speed-up: 3.85X\n"
       ]
      },
      {
       "output_type": "stream",
       "stream": "stderr",
       "text": [
        "WARNING:lsf:Wall Time: 14.74s, CPU time: 36.06s, speed-up: 2.45X\n"
       ]
      },
      {
       "output_type": "stream",
       "stream": "stderr",
       "text": [
        "WARNING:lsf:Wall Time: 13.72s, CPU time: 53.62s, speed-up: 3.91X\n"
       ]
      },
      {
       "ename": "KeyboardInterrupt",
       "evalue": "",
       "output_type": "pyerr",
       "traceback": [
        "\u001b[1;31m---------------------------------------------------------------------------\u001b[0m\n\u001b[1;31mKeyboardInterrupt\u001b[0m                         Traceback (most recent call last)",
        "\u001b[1;32m<ipython-input-6-8f86198e8659>\u001b[0m in \u001b[0;36m<module>\u001b[1;34m()\u001b[0m\n\u001b[0;32m     12\u001b[0m         \u001b[1;32mfor\u001b[0m \u001b[0msubj\u001b[0m \u001b[1;32min\u001b[0m \u001b[0mall_subj\u001b[0m\u001b[1;33m:\u001b[0m\u001b[1;33m\u001b[0m\u001b[0m\n\u001b[0;32m     13\u001b[0m             all_spindles.append(calc_spindle_values(subj, detsp=detsp, \n\u001b[1;32m---> 14\u001b[1;33m                                                     ref_to_avg=False, lsf=True))\n\u001b[0m\u001b[0;32m     15\u001b[0m \u001b[1;33m\u001b[0m\u001b[0m\n\u001b[0;32m     16\u001b[0m         \u001b[0mspindle_name\u001b[0m \u001b[1;33m=\u001b[0m \u001b[1;34m'spindles_'\u001b[0m \u001b[1;33m+\u001b[0m \u001b[0mone_method\u001b[0m \u001b[1;33m+\u001b[0m \u001b[1;34m'_'\u001b[0m \u001b[1;33m+\u001b[0m \u001b[0mstr\u001b[0m\u001b[1;33m(\u001b[0m\u001b[0mone_opts\u001b[0m\u001b[1;33m)\u001b[0m \u001b[1;33m+\u001b[0m \u001b[1;34m' .pkl'\u001b[0m\u001b[1;33m\u001b[0m\u001b[0m\n",
        "\u001b[1;32m/PHShome/gp902/projects/spgr/scripts/spgr/detect_spindles.py\u001b[0m in \u001b[0;36mcalc_spindle_values\u001b[1;34m(subj, detsp, ref_to_avg, lsf)\u001b[0m\n\u001b[0;32m    111\u001b[0m         all_sp = map_lsf(det_sp_in_one_chan, get_one_chan(data),\n\u001b[0;32m    112\u001b[0m                          \u001b[0mqueue\u001b[0m\u001b[1;33m=\u001b[0m\u001b[1;34m'short'\u001b[0m\u001b[1;33m,\u001b[0m\u001b[1;33m\u001b[0m\u001b[0m\n\u001b[1;32m--> 113\u001b[1;33m                          variables={'detsp': detsp})\n\u001b[0m\u001b[0;32m    114\u001b[0m     \u001b[1;32melse\u001b[0m\u001b[1;33m:\u001b[0m\u001b[1;33m\u001b[0m\u001b[0m\n\u001b[0;32m    115\u001b[0m         \u001b[0mall_sp\u001b[0m \u001b[1;33m=\u001b[0m \u001b[1;33m[\u001b[0m\u001b[1;33m]\u001b[0m\u001b[1;33m\u001b[0m\u001b[0m\n",
        "\u001b[1;32m/PHShome/gp902/toolbox/python/usr/lsf/lsf.py\u001b[0m in \u001b[0;36mmap_lsf\u001b[1;34m(funct, iterable, imports, variables, queue)\u001b[0m\n\u001b[0;32m    323\u001b[0m     \u001b[0mcpu_time\u001b[0m \u001b[1;33m=\u001b[0m \u001b[1;36m0.\u001b[0m\u001b[1;33m\u001b[0m\u001b[0m\n\u001b[0;32m    324\u001b[0m     \u001b[1;32mwhile\u001b[0m \u001b[0mall_ps\u001b[0m\u001b[1;33m:\u001b[0m\u001b[1;33m\u001b[0m\u001b[0m\n\u001b[1;32m--> 325\u001b[1;33m         \u001b[0msleep\u001b[0m\u001b[1;33m(\u001b[0m\u001b[1;36m0.2\u001b[0m\u001b[1;33m)\u001b[0m\u001b[1;33m\u001b[0m\u001b[0m\n\u001b[0m\u001b[0;32m    326\u001b[0m         \u001b[1;32mfor\u001b[0m \u001b[0mps\u001b[0m \u001b[1;32min\u001b[0m \u001b[0mall_ps\u001b[0m\u001b[1;33m:\u001b[0m\u001b[1;33m\u001b[0m\u001b[0m\n\u001b[0;32m    327\u001b[0m             \u001b[1;32mif\u001b[0m \u001b[0mps\u001b[0m\u001b[1;33m.\u001b[0m\u001b[0mpoll\u001b[0m\u001b[1;33m(\u001b[0m\u001b[1;33m)\u001b[0m \u001b[1;32min\u001b[0m \u001b[1;33m(\u001b[0m\u001b[1;34m'DONE'\u001b[0m\u001b[1;33m,\u001b[0m \u001b[1;34m'EXIT'\u001b[0m\u001b[1;33m)\u001b[0m\u001b[1;33m:\u001b[0m\u001b[1;33m\u001b[0m\u001b[0m\n",
        "\u001b[1;31mKeyboardInterrupt\u001b[0m: "
       ]
      }
     ],
     "prompt_number": 6
    },
    {
     "cell_type": "code",
     "collapsed": false,
     "input": [
      "sp = one_info['spindles']"
     ],
     "language": "python",
     "metadata": {},
     "outputs": []
    },
    {
     "cell_type": "code",
     "collapsed": false,
     "input": [
      "sp"
     ],
     "language": "python",
     "metadata": {},
     "outputs": []
    },
    {
     "cell_type": "code",
     "collapsed": false,
     "input": [
      "sp_1 = [x for x in sp if x['chan'] == 'GR29']\n",
      "sp_2 = [x for x in sp if x['chan'] == 'GR39']"
     ],
     "language": "python",
     "metadata": {},
     "outputs": []
    },
    {
     "cell_type": "code",
     "collapsed": false,
     "input": [
      "st_1 = [x['start_time'] for x in sp_1]\n",
      "st_2 = [x['start_time'] for x in sp_2]\n",
      "\n",
      "et_1 = [x['end_time'] for x in sp_1]\n",
      "et_2 = [x['end_time'] for x in sp_2]\n",
      "\n",
      "len(st_1)"
     ],
     "language": "python",
     "metadata": {},
     "outputs": []
    },
    {
     "cell_type": "code",
     "collapsed": false,
     "input": [
      "from numpy import *\n",
      "\n",
      "st_1 = expand_dims(asarray(st_1), 1)\n",
      "et_1 = expand_dims(asarray(et_1), 1)\n",
      "\n",
      "st_2 = expand_dims(asarray(st_2), 1)\n",
      "et_2 = expand_dims(asarray(et_2), 1)\n",
      "\n",
      "overlap = (st_1 <= et_2.T) & (st_2.T <= et_1)\n",
      "sum(overlap)"
     ],
     "language": "python",
     "metadata": {},
     "outputs": []
    },
    {
     "cell_type": "code",
     "collapsed": false,
     "input": [
      "sum(overlap) / len(st_2)"
     ],
     "language": "python",
     "metadata": {},
     "outputs": []
    },
    {
     "cell_type": "code",
     "collapsed": false,
     "input": [],
     "language": "python",
     "metadata": {},
     "outputs": []
    }
   ],
   "metadata": {}
  }
 ]
}