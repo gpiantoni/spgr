{
 "metadata": {
  "name": "",
  "signature": "sha256:3be89ae61fffb636563986f9654485d36d6e8463c58dce1270102b1aa2b089c6"
 },
 "nbformat": 3,
 "nbformat_minor": 0,
 "worksheets": [
  {
   "cells": [
    {
     "cell_type": "heading",
     "level": 1,
     "metadata": {},
     "source": [
      "SPGR"
     ]
    },
    {
     "cell_type": "code",
     "collapsed": false,
     "input": [
      "import version_control"
     ],
     "language": "python",
     "metadata": {},
     "outputs": [
      {
       "output_type": "stream",
       "stream": "stdout",
       "text": [
        "Last run on cashlab03-deb at 2015-01-28 14:22:52.026966\n",
        "\n",
        "Phypno Version: 25a4d9bd98a21493421fa0eea826edbc73b68ea3\n",
        "\n",
        "Cython==0.21.2, Jinja2==2.7.3, Markdown==2.5.2, MarkupSafe==0.23, Pillow==2.7.0, PyOpenGL==3.1.0, Pygments==2.0.2, Sphinx==1.2.3, certifi==14.05.14, coverage==3.7.1, decorator==3.4.0, docutils==0.12, easydev==0.8.2, ipython==2.3.1, matplotlib==1.4.2, memory-profiler==0.32, networkx==1.9.1, nibabel==2.0.0, nitime==0.5, nose==1.3.4, numpy==1.9.1, numpydoc==0.5, ordereddict==1.1, pandas==0.15.2, pep8==1.5.7, psutil==2.2.0, pycurl==7.19.5.1, pyflakes==0.8.1, pyparsing==2.0.3, pyqtgraph==0.9.10, python-dateutil==2.4.0, python-igraph==0.7, pytz==2014.10, pyzmq==14.5.0, rope-py3k==0.9.4-1, rpy2==2.5.4, scikit-learn==0.15.2, scipy==0.15.1, six==1.9.0, sphinxcontrib-napoleon==0.2.9, spyder==2.3.2, tornado==4.0.2, visvis==1.9.1, xmltodict==0.9.1, "
       ]
      },
      {
       "output_type": "stream",
       "stream": "stdout",
       "text": [
        "\n"
       ]
      }
     ],
     "prompt_number": 1
    },
    {
     "cell_type": "code",
     "collapsed": false,
     "input": [
      "from spgr import lg"
     ],
     "language": "python",
     "metadata": {},
     "outputs": [],
     "prompt_number": 2
    },
    {
     "cell_type": "heading",
     "level": 2,
     "metadata": {},
     "source": [
      "Topography of Co-occurrence"
     ]
    },
    {
     "cell_type": "markdown",
     "metadata": {},
     "source": [
      "Spindles in the prefrontal cortex are mostly likely to co-occur with spindles in other brain areas."
     ]
    }
   ],
   "metadata": {}
  }
 ]
}