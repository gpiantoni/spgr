{
 "metadata": {
  "name": "",
  "signature": "sha256:191441517a1938c94fc30b80ff6d9be88857348e6bfd29cd5894f954b92603d0"
 },
 "nbformat": 3,
 "nbformat_minor": 0,
 "worksheets": [
  {
   "cells": [
    {
     "cell_type": "markdown",
     "metadata": {},
     "source": [
      "plot time frequency"
     ]
    },
    {
     "cell_type": "markdown",
     "metadata": {},
     "source": [
      "plot peak frequency for each channels on the cortex"
     ]
    }
   ],
   "metadata": {}
  }
 ]
}