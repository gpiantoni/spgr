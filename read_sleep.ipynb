{
 "metadata": {
  "name": "",
  "signature": "sha256:f6c24fca2d9943870e0a0a9337b46ebbf79f01b3850165a2b85b0ea357d3bce9"
 },
 "nbformat": 3,
 "nbformat_minor": 0,
 "worksheets": [
  {
   "cells": [
    {
     "cell_type": "heading",
     "level": 1,
     "metadata": {},
     "source": [
      "SPGR"
     ]
    },
    {
     "cell_type": "code",
     "collapsed": false,
     "input": [
      "import version_control"
     ],
     "language": "python",
     "metadata": {},
     "outputs": [
      {
       "output_type": "stream",
       "stream": "stderr",
       "text": [
        "WARNING:phypno.ioeeg.mnefiff:mne-tools (optional dependency) is not installed. You will not be able to write in MNE fiff format.\n"
       ]
      },
      {
       "output_type": "stream",
       "stream": "stdout",
       "text": [
        "Last run on arch at 2015-02-18 18:40:26.742390\n",
        "\n",
        "Phypno Version: 040f882e4aa40ef32100b7540a14fe092be67b01\n",
        "\n",
        "astroid==1.3.4, beautifulsoup4==4.3.2, Cython==0.22, docutils==0.12, h5py==2.4.0, ipython==2.4.1, Jinja2==2.7.3, logilab-common==0.63.2, lxml==3.4.2, MarkupSafe==0.23, numpy==1.9.1, pep8==1.6.2, pithos==1.0.1, psutil==2.2.1, pyflakes==0.8.1, Pygments==2.0.2, pygobject==3.14.0, pylast==1.1.0, pylint==1.4.1, PyOpenGL==3.1.0, pyqtgraph==0.9.10, pyxdg==0.25, pyzmq==14.5.0, rope-py3k==0.9.4.post1, scipy==0.15.1, six==1.9.0, Sphinx==1.2.3, spyder==2.3.2, team==1.0, tornado==4.1, virtualenv==12.0.7, "
       ]
      },
      {
       "output_type": "stream",
       "stream": "stdout",
       "text": [
        "\n"
       ]
      }
     ],
     "prompt_number": 3
    },
    {
     "cell_type": "code",
     "collapsed": false,
     "input": [
      "from spgr import lg\n",
      "from logging import INFO\n",
      "lg.setLevel(INFO)"
     ],
     "language": "python",
     "metadata": {},
     "outputs": [
      {
       "output_type": "stream",
       "stream": "stderr",
       "text": [
        "WARNING:phypno.attr.anat:nibabel (optional dependency) is not installed. You will not be able to read Freesurfer annotations and segmentations.\n"
       ]
      }
     ],
     "prompt_number": 4
    },
    {
     "cell_type": "heading",
     "level": 2,
     "metadata": {},
     "source": [
      "Read Sleep"
     ]
    },
    {
     "cell_type": "heading",
     "level": 3,
     "metadata": {},
     "source": [
      "Selection of Patients"
     ]
    },
    {
     "cell_type": "markdown",
     "metadata": {},
     "source": [
      "Recordings were obtained from six patients with drug-resistant epilepsy implanted with a semi-chronic grid to localize the seizure origin.\n",
      "The grid consisted of platinum electrodes spaced 1cm apart on the pial surface.\n",
      "The number of electrodes per patient was on average 81.67 (range 64--93).\n",
      "Recordings were performed with standard clinical EEG monitoring equipment (XLTEK, Natus Medical Inc., Pleasanton, CA, USA) at 500 Hz, 512 Hz, or 1024 Hz.\n",
      "The research was approved by the local institutional review board and electrode placement was determined solely by clinical criteria.\n",
      "More information about patients' pathologies..."
     ]
    },
    {
     "cell_type": "code",
     "collapsed": false,
     "input": [
      "# define patients with grids\n",
      "subj_with_grid_scalp = ('EM03', 'EM09', 'MG07', 'MG11', 'MG12', 'MG15', 'MG17', \n",
      "                        'MG29', 'MG31', 'MG32', 'MG33', 'MG37', 'MG42', 'MG45', \n",
      "                        'MG48', 'MG49', 'MG51', 'MG56', 'MG61', 'MG63', 'MG65', 'MG72')\n",
      "subj_with_grid_only = ('MG28', 'MG67', )\n",
      "\n",
      "# define patients to exclude\n",
      "subj_with_many_SZ = ('MG49', 'MG74')\n",
      "not_in_rec = ('MG12', )\n",
      "\n",
      "all_subj = (set(subj_with_grid_scalp) | set(subj_with_grid_only)) - set(subj_with_many_SZ) - set(not_in_rec)"
     ],
     "language": "python",
     "metadata": {},
     "outputs": [],
     "prompt_number": 5
    },
    {
     "cell_type": "code",
     "collapsed": false,
     "input": [
      "PERIOD = 'sleep'\n",
      "STAGES = ('NREM2', )\n",
      "MIN_DURATION = 60 * 60"
     ],
     "language": "python",
     "metadata": {},
     "outputs": [],
     "prompt_number": 6
    },
    {
     "cell_type": "code",
     "collapsed": false,
     "input": [
      "from spgr.read_data import select_scores, save_data, REC_DIR\n",
      "scores = select_scores(STAGES, MIN_DURATION, sorted(all_subj, reverse=True))\n",
      "\n",
      "lg.info('\\nPatients with sufficient recordings:')\n",
      "lg.info('\\t'.join(sorted(scores.keys())))"
     ],
     "language": "python",
     "metadata": {},
     "outputs": [
      {
       "output_type": "stream",
       "stream": "stderr",
       "text": [
        "INFO:/home/gio/projects/spgr/scripts/spgr/read_data.py:MG63 has MG63_eeg_xltek_sessA_d06_15_55_12_scores.xml\n"
       ]
      },
      {
       "output_type": "stream",
       "stream": "stderr",
       "text": [
        "INFO:/home/gio/projects/spgr/scripts/spgr/read_data.py:MG61 has MG61_eeg_xltek_sessA_d03_07_58_11_scores.xml\n"
       ]
      },
      {
       "output_type": "stream",
       "stream": "stderr",
       "text": [
        "INFO:/home/gio/projects/spgr/scripts/spgr/read_data.py:MG37 has MG37_eeg_xltek_sessA_d03_12_18_14_scores.xml\n"
       ]
      },
      {
       "output_type": "stream",
       "stream": "stderr",
       "text": [
        "INFO:/home/gio/projects/spgr/scripts/spgr/read_data.py:MG33 has MG33_eeg_xltek_sessA_d09_09_01_22_scores.xml\n"
       ]
      },
      {
       "output_type": "stream",
       "stream": "stderr",
       "text": [
        "INFO:/home/gio/projects/spgr/scripts/spgr/read_data.py:MG17 has MG17_eeg_xltek_sessA_d03_17_48_30_scores.xml\n"
       ]
      },
      {
       "output_type": "stream",
       "stream": "stderr",
       "text": [
        "INFO:/home/gio/projects/spgr/scripts/spgr/read_data.py:EM09 has EM09_eeg_xltek_sessA_d05_11_53_38_scores.xml\n"
       ]
      },
      {
       "output_type": "stream",
       "stream": "stderr",
       "text": [
        "INFO:/home/gio/projects/spgr/scripts/spgr/read_data.py:\n",
        "Patients with sufficient recordings:\n"
       ]
      },
      {
       "output_type": "stream",
       "stream": "stderr",
       "text": [
        "INFO:/home/gio/projects/spgr/scripts/spgr/read_data.py:EM09\tMG17\tMG33\tMG37\tMG61\tMG63\n"
       ]
      }
     ],
     "prompt_number": 7
    },
    {
     "cell_type": "code",
     "collapsed": false,
     "input": [
      "good_subj = sorted(list(scores.keys()))\n",
      "\n",
      "lg.info('Grid patients with scalp : ' + ', '.join(sorted(set(good_subj) & set(subj_with_grid_scalp))))\n",
      "lg.info('Grid patients without scalp : ' + ', '.join(sorted(set(good_subj) & set(subj_with_grid_only))))\n",
      "lg.info('Depth patients without scalp : ' + ', '.join(sorted(set(good_subj) - set(subj_with_grid_scalp) - set(subj_with_grid_only))))"
     ],
     "language": "python",
     "metadata": {},
     "outputs": [
      {
       "output_type": "stream",
       "stream": "stderr",
       "text": [
        "INFO:/home/gio/projects/spgr/scripts/spgr/read_data.py:Grid patients with scalp : EM09, MG17, MG33, MG37, MG61, MG63\n"
       ]
      },
      {
       "output_type": "stream",
       "stream": "stderr",
       "text": [
        "INFO:/home/gio/projects/spgr/scripts/spgr/read_data.py:Grid patients without scalp : \n"
       ]
      },
      {
       "output_type": "stream",
       "stream": "stderr",
       "text": [
        "INFO:/home/gio/projects/spgr/scripts/spgr/read_data.py:Depth patients without scalp : \n"
       ]
      }
     ],
     "prompt_number": 8
    },
    {
     "cell_type": "heading",
     "level": 3,
     "metadata": {},
     "source": [
      "Read Recordings"
     ]
    },
    {
     "cell_type": "markdown",
     "metadata": {},
     "source": [
      "Periods that did not have any seizure in the preceding or following 12 hours were visually scored from the ECoG electrodes following the standard sleep stage classification [@Iber2007].\n",
      "For each patient, we obtained on average 69.67 minutes (range 60--101.5) of NREM2 sleep that was included in the analysis.\n",
      "Channels containing large interictal activity were excluded and the signal was referenced to the average (NOT ALWAYS).\n",
      "Recordings were filtered at 0.5 Hz (high-pass filter) and at 50 Hz (low-pass filter) and subsequently downsampled to 256 Hz."
     ]
    },
    {
     "cell_type": "code",
     "collapsed": false,
     "input": [
      "options = {'to_plot': True,\n",
      "           'reref': '',\n",
      "           'resample_freq': 256,\n",
      "           'hp_filter': 0.5,\n",
      "           'lp_filter': 50,\n",
      "           }\n",
      "chan_type = ('grid', )"
     ],
     "language": "python",
     "metadata": {},
     "outputs": [],
     "prompt_number": 9
    },
    {
     "cell_type": "code",
     "collapsed": false,
     "input": [
      "for subj in good_subj:\n",
      "    save_data(subj, scores[subj], PERIOD, STAGES, chan_type=chan_type, **options)"
     ],
     "language": "python",
     "metadata": {},
     "outputs": [
      {
       "output_type": "stream",
       "stream": "stderr",
       "text": [
        "INFO:/home/gio/projects/spgr/scripts/spgr/read_data.py:EM09 EM09_eeg_xltek_sessA_d05_11_53_38_scores.xml\n"
       ]
      },
      {
       "output_type": "stream",
       "stream": "stderr",
       "text": [
        "INFO:/home/gio/projects/spgr/scripts/spgr/read_data.py:Sampling Frequency 512.0 Hz \n"
       ]
      },
      {
       "output_type": "stream",
       "stream": "stderr",
       "text": [
        "INFO:/home/gio/projects/spgr/scripts/spgr/read_data.py:N Channels 69 \n"
       ]
      },
      {
       "output_type": "stream",
       "stream": "stderr",
       "text": [
        "INFO:/home/gio/projects/spgr/scripts/spgr/read_data.py:Duration:  67.5 min\n"
       ]
      },
      {
       "ename": "KeyboardInterrupt",
       "evalue": "",
       "output_type": "pyerr",
       "traceback": [
        "\u001b[1;31m---------------------------------------------------------------------------\u001b[0m\n\u001b[1;31mKeyboardInterrupt\u001b[0m                         Traceback (most recent call last)",
        "\u001b[1;32m<ipython-input-8-cc20890d57a7>\u001b[0m in \u001b[0;36m<module>\u001b[1;34m()\u001b[0m\n\u001b[0;32m      1\u001b[0m \u001b[1;32mfor\u001b[0m \u001b[0msubj\u001b[0m \u001b[1;32min\u001b[0m \u001b[0mgood_subj\u001b[0m\u001b[1;33m:\u001b[0m\u001b[1;33m\u001b[0m\u001b[0m\n\u001b[1;32m----> 2\u001b[1;33m     \u001b[0msave_data\u001b[0m\u001b[1;33m(\u001b[0m\u001b[0msubj\u001b[0m\u001b[1;33m,\u001b[0m \u001b[0mscores\u001b[0m\u001b[1;33m[\u001b[0m\u001b[0msubj\u001b[0m\u001b[1;33m]\u001b[0m\u001b[1;33m,\u001b[0m \u001b[0mPERIOD\u001b[0m\u001b[1;33m,\u001b[0m \u001b[0mSTAGES\u001b[0m\u001b[1;33m,\u001b[0m \u001b[0mchan_type\u001b[0m\u001b[1;33m=\u001b[0m\u001b[0mchan_type\u001b[0m\u001b[1;33m,\u001b[0m \u001b[1;33m**\u001b[0m\u001b[0moptions\u001b[0m\u001b[1;33m)\u001b[0m\u001b[1;33m\u001b[0m\u001b[0m\n\u001b[0m",
        "\u001b[1;32m/home/gio/projects/spgr/scripts/spgr/read_data.py\u001b[0m in \u001b[0;36msave_data\u001b[1;34m(subj, score_file, period_name, stages, chan_type, hp_filter, lp_filter, resample_freq, reref, to_plot)\u001b[0m\n\u001b[0;32m    131\u001b[0m \u001b[1;33m\u001b[0m\u001b[0m\n\u001b[0;32m    132\u001b[0m     data = d.read_data(begtime=start_time, endtime=end_time,\n\u001b[1;32m--> 133\u001b[1;33m                        chan=selected_chan)\n\u001b[0m\u001b[0;32m    134\u001b[0m \u001b[1;33m\u001b[0m\u001b[0m\n\u001b[0;32m    135\u001b[0m     \u001b[1;31m# first re-reference, and then filter\u001b[0m\u001b[1;33m\u001b[0m\u001b[1;33m\u001b[0m\u001b[0m\n",
        "\u001b[1;32m/home/gio/tools/phypno/phypno/dataset.py\u001b[0m in \u001b[0;36mread_data\u001b[1;34m(self, chan, begtime, endtime, begsam, endsam)\u001b[0m\n\u001b[0;32m    253\u001b[0m             lg.debug('begsam {0: 6}, endsam {1: 6}'.format(one_begsam,\n\u001b[0;32m    254\u001b[0m                      one_endsam))\n\u001b[1;32m--> 255\u001b[1;33m             \u001b[0mdat\u001b[0m \u001b[1;33m=\u001b[0m \u001b[0mdataset\u001b[0m\u001b[1;33m.\u001b[0m\u001b[0mreturn_dat\u001b[0m\u001b[1;33m(\u001b[0m\u001b[0midx_chan\u001b[0m\u001b[1;33m,\u001b[0m \u001b[0mone_begsam\u001b[0m\u001b[1;33m,\u001b[0m \u001b[0mone_endsam\u001b[0m\u001b[1;33m)\u001b[0m\u001b[1;33m\u001b[0m\u001b[0m\n\u001b[0m\u001b[0;32m    256\u001b[0m             \u001b[0mdata\u001b[0m\u001b[1;33m.\u001b[0m\u001b[0mdata\u001b[0m\u001b[1;33m[\u001b[0m\u001b[0mi\u001b[0m\u001b[1;33m]\u001b[0m \u001b[1;33m=\u001b[0m \u001b[0mdat\u001b[0m\u001b[1;33m\u001b[0m\u001b[0m\n\u001b[0;32m    257\u001b[0m \u001b[1;33m\u001b[0m\u001b[0m\n",
        "\u001b[1;32m/home/gio/tools/phypno/phypno/ioeeg/ktlx.py\u001b[0m in \u001b[0;36mreturn_dat\u001b[1;34m(self, chan, begsam, endsam)\u001b[0m\n\u001b[0;32m    921\u001b[0m \u001b[1;33m\u001b[0m\u001b[0m\n\u001b[0;32m    922\u001b[0m             \u001b[0merd_file\u001b[0m \u001b[1;33m=\u001b[0m \u001b[0mjoin\u001b[0m\u001b[1;33m(\u001b[0m\u001b[0mself\u001b[0m\u001b[1;33m.\u001b[0m\u001b[0mfilename\u001b[0m\u001b[1;33m,\u001b[0m \u001b[0mall_erd\u001b[0m\u001b[1;33m[\u001b[0m\u001b[0mrec\u001b[0m\u001b[1;33m]\u001b[0m \u001b[1;33m+\u001b[0m \u001b[1;34m'.erd'\u001b[0m\u001b[1;33m)\u001b[0m\u001b[1;33m\u001b[0m\u001b[0m\n\u001b[1;32m--> 923\u001b[1;33m             \u001b[0mdat_rec\u001b[0m \u001b[1;33m=\u001b[0m \u001b[0m_read_erd\u001b[0m\u001b[1;33m(\u001b[0m\u001b[0merd_file\u001b[0m\u001b[1;33m,\u001b[0m \u001b[0mall_stamp\u001b[0m\u001b[1;33m[\u001b[0m\u001b[0mrec\u001b[0m\u001b[1;33m]\u001b[0m\u001b[1;33m[\u001b[0m\u001b[1;34m'sample_span'\u001b[0m\u001b[1;33m]\u001b[0m\u001b[1;33m)\u001b[0m\u001b[1;33m\u001b[0m\u001b[0m\n\u001b[0m\u001b[0;32m    924\u001b[0m             lg.debug('From {}, selecting samples {}-{}'.format(all_erd[rec],\n\u001b[0;32m    925\u001b[0m                                                                \u001b[0mbegpos_rec\u001b[0m\u001b[1;33m,\u001b[0m\u001b[1;33m\u001b[0m\u001b[0m\n",
        "\u001b[1;32m/home/gio/tools/phypno/phypno/ioeeg/ktlx.py\u001b[0m in \u001b[0;36m_read_erd\u001b[1;34m(erd_file, n_samples)\u001b[0m\n\u001b[0;32m    532\u001b[0m                                             unpack('<h', val)[0])\n\u001b[0;32m    533\u001b[0m                     \u001b[1;32melif\u001b[0m \u001b[0mm\u001b[0m \u001b[1;33m==\u001b[0m \u001b[1;34m'0'\u001b[0m\u001b[1;33m:\u001b[0m\u001b[1;33m\u001b[0m\u001b[0m\n\u001b[1;32m--> 534\u001b[1;33m                         dat[i_chan, sam] = (dat[i_chan, sam - 1] +\n\u001b[0m\u001b[0;32m    535\u001b[0m                                             unpack('<b', val)[0])\n\u001b[0;32m    536\u001b[0m \u001b[1;33m\u001b[0m\u001b[0m\n",
        "\u001b[1;31mKeyboardInterrupt\u001b[0m: "
       ]
      }
     ],
     "prompt_number": 8
    },
    {
     "cell_type": "code",
     "collapsed": false,
     "input": [
      "from numpy import *\n",
      "from numpy.linalg import norm"
     ],
     "language": "python",
     "metadata": {},
     "outputs": [],
     "prompt_number": 10
    },
    {
     "cell_type": "code",
     "collapsed": false,
     "input": [
      "from phypno.attr import Channels"
     ],
     "language": "python",
     "metadata": {},
     "outputs": [],
     "prompt_number": 11
    },
    {
     "cell_type": "code",
     "collapsed": false,
     "input": [
      "from spgr.read_data import _select_channels"
     ],
     "language": "python",
     "metadata": {},
     "outputs": [],
     "prompt_number": 12
    },
    {
     "cell_type": "code",
     "collapsed": false,
     "input": [
      "all_chan = Channels('/home/gio/recordings/EM09/doc/elec/EM09_elec_pos-names_sessA.csv')\n",
      "chan_list = _select_channels('/home/gio/recordings/EM09/doc/elec/EM09_eeg_xltek_sessA_d05_11_53_38_channels.json', 'grid')\n",
      "\n",
      "chan = all_chan(lambda x: x.label in chan_list)"
     ],
     "language": "python",
     "metadata": {},
     "outputs": [],
     "prompt_number": 13
    },
    {
     "cell_type": "code",
     "collapsed": false,
     "input": [
      "chan_dist = empty((chan.n_chan, chan.n_chan))\n",
      "\n",
      "for i0, chan0 in enumerate(chan.chan):\n",
      "    for i1, chan1 in enumerate(chan.chan):\n",
      "        chan_dist[i0, i1] = norm(chan0.xyz - chan1.xyz)"
     ],
     "language": "python",
     "metadata": {},
     "outputs": [],
     "prompt_number": 14
    },
    {
     "cell_type": "code",
     "collapsed": false,
     "input": [
      "from scipy.spatial.distance import squareform"
     ],
     "language": "python",
     "metadata": {},
     "outputs": [],
     "prompt_number": 15
    },
    {
     "cell_type": "code",
     "collapsed": false,
     "input": [
      "where(squareform(chan_dist) < 15)[0].shape"
     ],
     "language": "python",
     "metadata": {},
     "outputs": [
      {
       "metadata": {},
       "output_type": "pyout",
       "prompt_number": 16,
       "text": [
        "(156,)"
       ]
      }
     ],
     "prompt_number": 16
    },
    {
     "cell_type": "code",
     "collapsed": false,
     "input": [
      "n_bipolar = len(where(triu(chan_dist) < 15)[1])"
     ],
     "language": "python",
     "metadata": {},
     "outputs": [],
     "prompt_number": 35
    },
    {
     "cell_type": "code",
     "collapsed": false,
     "input": [
      "triu(chan_dist, k=1)"
     ],
     "language": "python",
     "metadata": {},
     "outputs": [
      {
       "metadata": {},
       "output_type": "pyout",
       "prompt_number": 18,
       "text": [
        "array([[  0.        ,   9.61417126,  17.7879331 , ...,  65.31891831,\n",
        "         53.78108613,  42.359057  ],\n",
        "       [  0.        ,   0.        ,   8.89245079, ...,  68.04804406,\n",
        "         56.79001053,  45.9064488 ],\n",
        "       [  0.        ,   0.        ,   0.        , ...,  73.91099161,\n",
        "         63.05378067,  52.6388809 ],\n",
        "       ..., \n",
        "       [  0.        ,   0.        ,   0.        , ...,   0.        ,\n",
        "         11.78776637,  23.28012889],\n",
        "       [  0.        ,   0.        ,   0.        , ...,   0.        ,\n",
        "          0.        ,  11.58847052],\n",
        "       [  0.        ,   0.        ,   0.        , ...,   0.        ,\n",
        "          0.        ,   0.        ]])"
       ]
      }
     ],
     "prompt_number": 18
    },
    {
     "cell_type": "code",
     "collapsed": false,
     "input": [
      "good_distance = where( (triu(chan_dist, k=1) < 15) & (triu(chan_dist, k=1) > 0))"
     ],
     "language": "python",
     "metadata": {},
     "outputs": [],
     "prompt_number": 19
    },
    {
     "cell_type": "code",
     "collapsed": false,
     "input": [
      "chan.n_chan"
     ],
     "language": "python",
     "metadata": {},
     "outputs": [
      {
       "metadata": {},
       "output_type": "pyout",
       "prompt_number": 34,
       "text": [
        "array([ 28.6   ,  53.17  ,   3.7825])"
       ]
      }
     ],
     "prompt_number": 34
    },
    {
     "cell_type": "code",
     "collapsed": false,
     "input": [
      "bipolar_labels = []\n",
      "bipolar_xyz = []\n",
      "bipolar_trans = []\n",
      "\n",
      "i = 0\n",
      "for x0, x1 in zip(*good_distance):\n",
      "\n",
      "    new_label = chan.chan[x0].label + '-' + chan.chan[x1].label\n",
      "    bipolar_labels.append(new_label)\n",
      "\n",
      "    xyz = mean(c_[chan.chan[x0].xyz, chan.chan[x1].xyz], axis=1)\n",
      "    bipolar_xyz.append(xyz)\n",
      "    \n",
      "    trans = zeros(chan.n_chan)\n",
      "    trans[x0] = 1\n",
      "    trans[x1] = -1\n",
      "    bipolar_trans.append(trans)\n",
      "    \n",
      "bipolar_xyz = c_[bipolar_xyz]\n",
      "bipolar_trans = c_[bipolar_trans]"
     ],
     "language": "python",
     "metadata": {},
     "outputs": [],
     "prompt_number": 50
    },
    {
     "cell_type": "code",
     "collapsed": false,
     "input": [
      "bipolar_trans.shape"
     ],
     "language": "python",
     "metadata": {},
     "outputs": [
      {
       "metadata": {},
       "output_type": "pyout",
       "prompt_number": 49,
       "text": [
        "(156, 69)"
       ]
      }
     ],
     "prompt_number": 49
    },
    {
     "cell_type": "code",
     "collapsed": false,
     "input": [
      "%gui qt"
     ],
     "language": "python",
     "metadata": {},
     "outputs": [],
     "prompt_number": 21
    },
    {
     "cell_type": "code",
     "collapsed": false,
     "input": [
      "from pyqtgraph import ImageView\n",
      "\n",
      "imv = ImageView()\n",
      "imv.show()\n",
      "imv.setImage(chan_dist)"
     ],
     "language": "python",
     "metadata": {},
     "outputs": [],
     "prompt_number": 22
    },
    {
     "cell_type": "code",
     "collapsed": false,
     "input": [
      "from phypno.viz import Viz3"
     ],
     "language": "python",
     "metadata": {},
     "outputs": [],
     "prompt_number": 23
    },
    {
     "cell_type": "code",
     "collapsed": false,
     "input": [
      "bipolar = Channels(bipolar_labels, bipolar_xyz)"
     ],
     "language": "python",
     "metadata": {},
     "outputs": [],
     "prompt_number": 41
    },
    {
     "cell_type": "code",
     "collapsed": false,
     "input": [
      "v = Viz3()\n",
      "v.add_chan(chan)\n",
      "v.add_chan(bipolar, color=(1, 0, 0, 1))"
     ],
     "language": "python",
     "metadata": {},
     "outputs": [],
     "prompt_number": 42
    }
   ],
   "metadata": {}
  }
 ]
}