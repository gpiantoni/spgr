{
 "metadata": {
  "name": "",
  "signature": "sha256:6e8278a4c74a7fdf5740f0da93630b4cb41164cbbefcc421dd4122d29fc8f0b1"
 },
 "nbformat": 3,
 "nbformat_minor": 0,
 "worksheets": [
  {
   "cells": [
    {
     "cell_type": "heading",
     "level": 1,
     "metadata": {},
     "source": [
      "SPGR"
     ]
    },
    {
     "cell_type": "code",
     "collapsed": false,
     "input": [
      "import version_control"
     ],
     "language": "python",
     "metadata": {},
     "outputs": [
      {
       "output_type": "stream",
       "stream": "stdout",
       "text": [
        "Last run on cashlab03-deb at 2015-01-22 12:20:15.779585\n",
        "\n",
        "Phypno Version: 9e1120db4c38a8f1eb2787ddc5c5aaf05648131e\n",
        "\n",
        "Cython==0.21.2, Jinja2==2.7.3, Markdown==2.5.2, MarkupSafe==0.23, Pillow==2.7.0, PyOpenGL==3.1.0, Pygments==2.0.2, Sphinx==1.2.3, certifi==14.05.14, coverage==3.7.1, decorator==3.4.0, docutils==0.12, easydev==0.8.2, ipython==2.3.1, matplotlib==1.4.2, memory-profiler==0.32, networkx==1.9.1, nibabel==2.0.0, nitime==0.5, nose==1.3.4, numpy==1.9.1, numpydoc==0.5, ordereddict==1.1, pandas==0.15.2, pep8==1.5.7, psutil==2.2.0, pycurl==7.19.5.1, pyflakes==0.8.1, pyparsing==2.0.3, pyqtgraph==0.9.10, python-dateutil==2.4.0, python-igraph==0.7, pytz==2014.10, pyzmq==14.5.0, rope-py3k==0.9.4-1, rpy2==2.5.4, scikit-learn==0.15.2, scipy==0.15.1, six==1.9.0, sphinxcontrib-napoleon==0.2.9, spyder==2.3.2, tornado==4.0.2, -e git+git@github.com:vispy/vispy.git@06b4adc484dbe0edc3a8e6b8d07e051c13725816#egg=vispy-origin/master, visvis==1.9.1, xmltodict==0.9.1, "
       ]
      },
      {
       "output_type": "stream",
       "stream": "stdout",
       "text": [
        "\n"
       ]
      }
     ],
     "prompt_number": 1
    },
    {
     "cell_type": "code",
     "collapsed": false,
     "input": [
      "from spgr import lg\n",
      "from logging import INFO\n",
      "lg.setLevel(INFO)"
     ],
     "language": "python",
     "metadata": {},
     "outputs": [
      {
       "output_type": "stream",
       "stream": "stderr",
       "text": [
        "/home/gio/tools/venv/lib/python3.4/site-packages/visvis/processing/calculateNormals.py:14: DeprecationWarning: using a non-integer number instead of an integer will result in an error in the future\n",
        "  faces = np.arange(N); faces.shape = len(v)/3,3\n"
       ]
      }
     ],
     "prompt_number": 2
    },
    {
     "cell_type": "heading",
     "level": 2,
     "metadata": {},
     "source": [
      "Read Sleep"
     ]
    },
    {
     "cell_type": "heading",
     "level": 3,
     "metadata": {},
     "source": [
      "Selection of Patients"
     ]
    },
    {
     "cell_type": "markdown",
     "metadata": {},
     "source": [
      "Recordings were obtained from six patients with drug-resistant epilepsy implanted with a semi-chronic grid to localize the seizure origin.\n",
      "The grid consisted of platinum electrodes spaced 1cm apart on the pial surface.\n",
      "The number of electrodes per patient was on average 81.67 (range 64--93).\n",
      "Recordings were performed with standard clinical EEG monitoring equipment (XLTEK, Natus Medical Inc., Pleasanton, CA, USA) at 500 Hz, 512 Hz, or 1024 Hz.\n",
      "The research was approved by the local institutional review board and electrode placement was determined solely by clinical criteria.\n",
      "More information about patients' pathologies..."
     ]
    },
    {
     "cell_type": "code",
     "collapsed": false,
     "input": [
      "# define patients with grids\n",
      "subj_with_grid_scalp = ('EM03', 'EM09', 'MG07', 'MG11', 'MG12', 'MG15', 'MG17', \n",
      "                        'MG29', 'MG31', 'MG32', 'MG33', 'MG37', 'MG42', 'MG45', \n",
      "                        'MG48', 'MG49', 'MG51', 'MG56', 'MG61', 'MG63', 'MG65', 'MG72')\n",
      "subj_with_grid_only = ('MG28', 'MG67', )\n",
      "\n",
      "# define patients to exclude\n",
      "subj_with_many_SZ = ('MG49', 'MG74')\n",
      "not_in_rec = ('MG12', )\n",
      "\n",
      "all_subj = (set(subj_with_grid_scalp) | set(subj_with_grid_only)) - set(subj_with_many_SZ) - set(not_in_rec)"
     ],
     "language": "python",
     "metadata": {},
     "outputs": [],
     "prompt_number": 3
    },
    {
     "cell_type": "code",
     "collapsed": false,
     "input": [
      "PERIOD = 'sleep'\n",
      "STAGES = ('NREM2', )\n",
      "MIN_DURATION = 60 * 60"
     ],
     "language": "python",
     "metadata": {},
     "outputs": [],
     "prompt_number": 4
    },
    {
     "cell_type": "code",
     "collapsed": false,
     "input": [
      "from spgr.read_data import select_scores, save_data, REC_DIR\n",
      "\n",
      "scores = select_scores(STAGES, MIN_DURATION, sorted(all_subj))\n",
      "\n",
      "lg.info('\\nPatients with sufficient recordings:')\n",
      "lg.info('\\t'.join(sorted(scores.keys())))"
     ],
     "language": "python",
     "metadata": {},
     "outputs": [
      {
       "output_type": "stream",
       "stream": "stderr",
       "text": [
        "INFO:/home/gio/projects/spgr/scripts/spgr/read_data.py:EM09 has EM09_eeg_xltek_sessA_d05_11_53_38_scores.xml\n"
       ]
      },
      {
       "output_type": "stream",
       "stream": "stderr",
       "text": [
        "INFO:/home/gio/projects/spgr/scripts/spgr/read_data.py:MG17 has MG17_eeg_xltek_sessA_d03_17_48_30_scores.xml\n"
       ]
      },
      {
       "output_type": "stream",
       "stream": "stderr",
       "text": [
        "INFO:/home/gio/projects/spgr/scripts/spgr/read_data.py:MG28: duration not sufficient\n"
       ]
      },
      {
       "output_type": "stream",
       "stream": "stderr",
       "text": [
        "INFO:/home/gio/projects/spgr/scripts/spgr/read_data.py:MG33 has MG33_eeg_xltek_sessA_d09_09_01_22_scores.xml\n"
       ]
      },
      {
       "output_type": "stream",
       "stream": "stderr",
       "text": [
        "INFO:/home/gio/projects/spgr/scripts/spgr/read_data.py:MG37 has MG37_eeg_xltek_sessA_d03_12_18_14_scores.xml\n"
       ]
      },
      {
       "output_type": "stream",
       "stream": "stderr",
       "text": [
        "INFO:/home/gio/projects/spgr/scripts/spgr/read_data.py:MG51: duration not sufficient\n"
       ]
      },
      {
       "output_type": "stream",
       "stream": "stderr",
       "text": [
        "INFO:/home/gio/projects/spgr/scripts/spgr/read_data.py:MG56: duration not sufficient\n"
       ]
      },
      {
       "output_type": "stream",
       "stream": "stderr",
       "text": [
        "INFO:/home/gio/projects/spgr/scripts/spgr/read_data.py:MG61 has MG61_eeg_xltek_sessA_d03_07_58_11_scores.xml\n"
       ]
      },
      {
       "output_type": "stream",
       "stream": "stderr",
       "text": [
        "INFO:/home/gio/projects/spgr/scripts/spgr/read_data.py:MG63 has MG63_eeg_xltek_sessA_d06_15_55_12_scores.xml\n"
       ]
      },
      {
       "output_type": "stream",
       "stream": "stderr",
       "text": [
        "INFO:/home/gio/projects/spgr/scripts/spgr/read_data.py:MG65: duration not sufficient\n"
       ]
      },
      {
       "output_type": "stream",
       "stream": "stderr",
       "text": [
        "INFO:/home/gio/projects/spgr/scripts/spgr/read_data.py:MG67: duration not sufficient\n"
       ]
      },
      {
       "output_type": "stream",
       "stream": "stderr",
       "text": [
        "INFO:/home/gio/projects/spgr/scripts/spgr/read_data.py:MG72: duration not sufficient\n"
       ]
      },
      {
       "output_type": "stream",
       "stream": "stderr",
       "text": [
        "INFO:/home/gio/projects/spgr/scripts/spgr/read_data.py:\n",
        "Patients with sufficient recordings:\n"
       ]
      },
      {
       "output_type": "stream",
       "stream": "stderr",
       "text": [
        "INFO:/home/gio/projects/spgr/scripts/spgr/read_data.py:EM09\tMG17\tMG33\tMG37\tMG61\tMG63\n"
       ]
      }
     ],
     "prompt_number": 5
    },
    {
     "cell_type": "code",
     "collapsed": false,
     "input": [
      "good_subj = sorted(list(scores.keys()))\n",
      "\n",
      "lg.info('Grid patients with scalp : ' + ', '.join(sorted(set(good_subj) & set(subj_with_grid_scalp))))\n",
      "lg.info('Grid patients without scalp : ' + ', '.join(sorted(set(good_subj) & set(subj_with_grid_only))))\n",
      "lg.info('Depth patients without scalp : ' + ', '.join(sorted(set(good_subj) - set(subj_with_grid_scalp) - set(subj_with_grid_only))))"
     ],
     "language": "python",
     "metadata": {},
     "outputs": [
      {
       "output_type": "stream",
       "stream": "stderr",
       "text": [
        "INFO:/home/gio/projects/spgr/scripts/spgr/read_data.py:Grid patients with scalp : EM09, MG17, MG33, MG37, MG61, MG63\n"
       ]
      },
      {
       "output_type": "stream",
       "stream": "stderr",
       "text": [
        "INFO:/home/gio/projects/spgr/scripts/spgr/read_data.py:Grid patients without scalp : \n"
       ]
      },
      {
       "output_type": "stream",
       "stream": "stderr",
       "text": [
        "INFO:/home/gio/projects/spgr/scripts/spgr/read_data.py:Depth patients without scalp : \n"
       ]
      }
     ],
     "prompt_number": 6
    },
    {
     "cell_type": "heading",
     "level": 3,
     "metadata": {},
     "source": [
      "Read Recordings"
     ]
    },
    {
     "cell_type": "markdown",
     "metadata": {},
     "source": [
      "Periods that did not have any seizure in the preceding or following 12 hours were visually scored from the ECoG electrodes following the standard sleep stage classification [@Iber2007].\n",
      "For each patient, we obtained on average 69.67 minutes (range 60--101.5) of NREM2 sleep that was included in the analysis.\n",
      "Channels containing large interictal activity were excluded and the signal was referenced to the average.\n",
      "Recordings were filtered at 0.5 Hz (high-pass filter) and at 50 Hz (low-pass filter) and subsequently downsampled to 256 Hz."
     ]
    },
    {
     "cell_type": "code",
     "collapsed": false,
     "input": [
      "options = {'to_plot': False,\n",
      "           'reref': 'avg',\n",
      "           'resample_freq': 256,\n",
      "           'hp_filter': 0.5,\n",
      "           'lp_filter': 50,\n",
      "           }\n",
      "chan_type = ('grid', )"
     ],
     "language": "python",
     "metadata": {},
     "outputs": [],
     "prompt_number": 21
    },
    {
     "cell_type": "code",
     "collapsed": false,
     "input": [
      "subj = 'EM09'\n",
      "save_data(subj, scores[subj], PERIOD, STAGES, chan_type=chan_type, **options)"
     ],
     "language": "python",
     "metadata": {},
     "outputs": [
      {
       "output_type": "stream",
       "stream": "stderr",
       "text": [
        "INFO:/home/gio/projects/spgr/scripts/spgr/read_data.py:EM09 EM09_eeg_xltek_sessA_d05_11_53_38_scores.xml\n"
       ]
      },
      {
       "output_type": "stream",
       "stream": "stderr",
       "text": [
        "INFO:/home/gio/projects/spgr/scripts/spgr/read_data.py:Sampling Frequency 512.0 Hz \n"
       ]
      },
      {
       "output_type": "stream",
       "stream": "stderr",
       "text": [
        "INFO:/home/gio/projects/spgr/scripts/spgr/read_data.py:N Channels 69 \n"
       ]
      },
      {
       "output_type": "stream",
       "stream": "stderr",
       "text": [
        "DEBUG:/home/gio/projects/spgr/scripts/spgr/read_data.py:Channels: GR3, GR4, GR5, GR6, GR7, GR8, GR11, GR12, GR13, GR14, GR15, GR16, GR19, GR20, GR21, GR22, GR23, GR24, GR27, GR28, GR29, GR30, GR31, GR32, GR34, GR35, GR36, GR37, GR38, GR39, GR40, GR41, GR42, GR43, GR44, GR45, GR46, GR47, GR48, GR49, GR50, GR51, GR52, GR53, GR54, GR55, GR56, GR57, GR58, GR59, GR60, GR61, GR62, GR63, GR64, FGR1, FGR2, FGR3, FGR4, FGR5, FGR6, FGR7, FGR8, FGR10, FGR11, FGR12, FGR13, FGR14, FGR15\n"
       ]
      },
      {
       "output_type": "stream",
       "stream": "stderr",
       "text": [
        "INFO:/home/gio/projects/spgr/scripts/spgr/read_data.py:Duration:  67.5 min\n"
       ]
      }
     ],
     "prompt_number": 22
    },
    {
     "cell_type": "code",
     "collapsed": false,
     "input": [
      "subj = 'MG17'\n",
      "save_data(subj, scores[subj], PERIOD, STAGES, chan_type=chan_type, **options)"
     ],
     "language": "python",
     "metadata": {},
     "outputs": [
      {
       "output_type": "stream",
       "stream": "stderr",
       "text": [
        "INFO:/home/gio/projects/spgr/scripts/spgr/read_data.py:MG17 MG17_eeg_xltek_sessA_d03_17_48_30_scores.xml\n"
       ]
      },
      {
       "output_type": "stream",
       "stream": "stderr",
       "text": [
        "INFO:/home/gio/projects/spgr/scripts/spgr/read_data.py:Sampling Frequency 500.0 Hz \n"
       ]
      },
      {
       "output_type": "stream",
       "stream": "stderr",
       "text": [
        "INFO:/home/gio/projects/spgr/scripts/spgr/read_data.py:N Channels 93 \n"
       ]
      },
      {
       "output_type": "stream",
       "stream": "stderr",
       "text": [
        "DEBUG:/home/gio/projects/spgr/scripts/spgr/read_data.py:Channels: AnGr1, AnGr2, AnGr3, AnGr4, AnGr5, AnGr6, AnGr7, AnGr8, AnGr9, AnGr10, AnGr11, AnGr12, AnGr13, AnGr14, AnGr15, AnGr16, AnGr17, AnGr18, AnGr19, AnGr20, AnGr21, AnGr22, AnGr23, AnGr24, AnGr25, AnGr26, AnGr27, AnGr28, AnGr29, AnGr30, AnGr31, AnGr32, AnGr33, AnGr34, AnGr35, AnGr36, AnGr37, AnGr38, AnGr39, AnGr40, AnGr41, AnGr42, AnGr43, AnGr44, AnGr45, AnGr46, AnGr47, AnGr48, AnGr49, AnGr50, AnGr51, AnGr52, AnGr53, AnGr54, AnGr55, AnGr56, AnGr57, AnGr58, AnGr60, AnGr61, AnGr63, AnGr64, PsGr17, PsGr18, PsGr19, PsGr20, PsGr21, PsGr22, PsGr23, PsGr24, PsGr25, PsGr26, PsGr27, PsGr28, PsGr29, PsGr30, PsGr31, PsGr33, PsGr34, PsGr35, PsGr36, PsGr37, PsGr38, PsGr39, PsGr40, PsGr41, PsGr42, PsGr43, PsGr44, PsGr45, PsGr46, PsGr47, PsGr48\n"
       ]
      },
      {
       "output_type": "stream",
       "stream": "stderr",
       "text": [
        "INFO:/home/gio/projects/spgr/scripts/spgr/read_data.py:Duration:  60.5 min\n"
       ]
      }
     ],
     "prompt_number": 23
    },
    {
     "cell_type": "code",
     "collapsed": false,
     "input": [
      "subj = 'MG33'\n",
      "save_data(subj, scores[subj], PERIOD, STAGES, chan_type=chan_type, **options)"
     ],
     "language": "python",
     "metadata": {},
     "outputs": [
      {
       "output_type": "stream",
       "stream": "stderr",
       "text": [
        "INFO:/home/gio/projects/spgr/scripts/spgr/read_data.py:MG33 MG33_eeg_xltek_sessA_d09_09_01_22_scores.xml\n"
       ]
      },
      {
       "output_type": "stream",
       "stream": "stderr",
       "text": [
        "INFO:/home/gio/projects/spgr/scripts/spgr/read_data.py:Sampling Frequency 500.0 Hz \n"
       ]
      },
      {
       "output_type": "stream",
       "stream": "stderr",
       "text": [
        "INFO:/home/gio/projects/spgr/scripts/spgr/read_data.py:N Channels 64 \n"
       ]
      },
      {
       "output_type": "stream",
       "stream": "stderr",
       "text": [
        "DEBUG:/home/gio/projects/spgr/scripts/spgr/read_data.py:Channels: GR2, GR3, GR4, GR5, GR6, GR7, GR8, GR10, GR11, GR12, GR13, GR14, GR15, GR16, GR17, GR18, GR19, GR20, GR21, GR22, GR23, GR24, GR25, GR26, GR27, GR28, GR29, GR30, GR31, GR33, GR34, GR35, GR36, GR37, GR38, GR39, GR40, GR41, GR42, GR44, GR45, GR46, GR47, GR48, GR49, GR50, GR51, GR52, GR53, GR54, GR55, GR56, GR57, GR58, GR59, GR60, GR61, PGR1, PGR3, PGR4, PGR5, PGR6, PGR7, PGR8\n"
       ]
      },
      {
       "output_type": "stream",
       "stream": "stderr",
       "text": [
        "INFO:/home/gio/projects/spgr/scripts/spgr/read_data.py:Duration:  101.5 min\n"
       ]
      }
     ],
     "prompt_number": 24
    },
    {
     "cell_type": "code",
     "collapsed": false,
     "input": [
      "subj = 'MG37'\n",
      "save_data(subj, scores[subj], PERIOD, STAGES, chan_type=chan_type, **options)"
     ],
     "language": "python",
     "metadata": {},
     "outputs": [
      {
       "output_type": "stream",
       "stream": "stderr",
       "text": [
        "INFO:/home/gio/projects/spgr/scripts/spgr/read_data.py:MG37 MG37_eeg_xltek_sessA_d03_12_18_14_scores.xml\n"
       ]
      },
      {
       "output_type": "stream",
       "stream": "stderr",
       "text": [
        "INFO:/home/gio/projects/spgr/scripts/spgr/read_data.py:Sampling Frequency 500.0 Hz \n"
       ]
      },
      {
       "output_type": "stream",
       "stream": "stderr",
       "text": [
        "INFO:/home/gio/projects/spgr/scripts/spgr/read_data.py:N Channels 78 \n"
       ]
      },
      {
       "output_type": "stream",
       "stream": "stderr",
       "text": [
        "DEBUG:/home/gio/projects/spgr/scripts/spgr/read_data.py:Channels: PGR1, PGR2, PGR3, PGR4, PGR5, PGR6, PGR7, PGR8, PGR9, PGR10, PGR11, PGR12, PGR13, PGR14, PGR15, PGR16, PGR17, PGR18, PGR19, PGR20, PGR21, PGR22, PGR23, PGR24, PGR25, PGR27, PGR28, PGR29, PGR30, PGR31, PGR32, PGR33, PGR34, PGR35, PGR36, PGR37, PGR38, PGR39, PGR40, PGR41, PGR42, PGR43, PGR44, PGR45, PGR47, PGR48, PGR49, PGR50, PGR51, PGR52, PGR53, PGR54, PGR55, PGR56, PGR57, PGR58, PGR59, PGR60, PGR61, PGR62, PGR63, PGR64, AGR1, AGR2, AGR3, AGR4, AGR5, AGR6, AGR7, AGR8, AGR9, AGR10, AGR11, AGR12, AGR13, AGR14, AGR15, AGR16\n"
       ]
      },
      {
       "output_type": "stream",
       "stream": "stderr",
       "text": [
        "INFO:/home/gio/projects/spgr/scripts/spgr/read_data.py:Duration:  67.0 min\n"
       ]
      }
     ],
     "prompt_number": 25
    },
    {
     "cell_type": "code",
     "collapsed": false,
     "input": [
      "subj = 'MG61'\n",
      "save_data(subj, scores[subj], PERIOD, STAGES, chan_type=chan_type, **options)"
     ],
     "language": "python",
     "metadata": {},
     "outputs": [
      {
       "output_type": "stream",
       "stream": "stderr",
       "text": [
        "INFO:/home/gio/projects/spgr/scripts/spgr/read_data.py:MG61 MG61_eeg_xltek_sessA_d03_07_58_11_scores.xml\n"
       ]
      },
      {
       "output_type": "stream",
       "stream": "stderr",
       "text": [
        "INFO:/home/gio/projects/spgr/scripts/spgr/read_data.py:Sampling Frequency 512.0 Hz \n"
       ]
      },
      {
       "output_type": "stream",
       "stream": "stderr",
       "text": [
        "INFO:/home/gio/projects/spgr/scripts/spgr/read_data.py:N Channels 93 \n"
       ]
      },
      {
       "output_type": "stream",
       "stream": "stderr",
       "text": [
        "DEBUG:/home/gio/projects/spgr/scripts/spgr/read_data.py:Channels: GR1, GR2, GR3, GR4, GR5, GR6, GR7, GR8, GR10, GR11, GR12, GR13, GR14, GR15, GR16, GR17, GR18, GR19, GR20, GR21, GR22, GR23, GR24, GR25, GR26, GR27, GR28, GR29, GR30, GR31, GR32, GR33, GR34, GR35, GR36, GR37, GR38, GR39, GR40, GR41, GR42, GR43, GR44, GR45, GR46, GR47, GR48, GR49, GR50, GR51, GR52, GR53, GR54, GR55, GR56, GR57, GR58, GR59, GR60, GR61, GR62, GR63, PGR1, PGR2, PGR3, PGR4, PGR5, PGR6, PGR7, PGR8, PGR9, PGR10, PGR11, PGR12, PGR13, PGR14, PGR15, PGR16, PGR17, PGR18, PGR19, PGR20, PGR21, PGR22, PGR23, PGR24, PGR26, PGR27, PGR28, PGR29, PGR30, PGR31, PGR32\n"
       ]
      },
      {
       "output_type": "stream",
       "stream": "stderr",
       "text": [
        "INFO:/home/gio/projects/spgr/scripts/spgr/read_data.py:Duration:  61.5 min\n"
       ]
      }
     ],
     "prompt_number": 26
    },
    {
     "cell_type": "code",
     "collapsed": false,
     "input": [
      "subj = 'MG63'\n",
      "save_data(subj, scores[subj], PERIOD, STAGES, chan_type=chan_type, **options)"
     ],
     "language": "python",
     "metadata": {},
     "outputs": [
      {
       "output_type": "stream",
       "stream": "stderr",
       "text": [
        "INFO:/home/gio/projects/spgr/scripts/spgr/read_data.py:MG63 MG63_eeg_xltek_sessA_d06_15_55_12_scores.xml\n"
       ]
      },
      {
       "output_type": "stream",
       "stream": "stderr",
       "text": [
        "INFO:/home/gio/projects/spgr/scripts/spgr/read_data.py:Sampling Frequency 1024.0 Hz \n"
       ]
      },
      {
       "output_type": "stream",
       "stream": "stderr",
       "text": [
        "INFO:/home/gio/projects/spgr/scripts/spgr/read_data.py:N Channels 93 \n"
       ]
      },
      {
       "output_type": "stream",
       "stream": "stderr",
       "text": [
        "DEBUG:/home/gio/projects/spgr/scripts/spgr/read_data.py:Channels: AGR1, AGR2, AGR3, AGR4, AGR5, AGR6, AGR7, AGR8, AGR9, AGR10, AGR11, AGR12, AGR13, AGR14, AGR15, AGR16, AGR17, AGR18, AGR19, AGR20, AGR21, AGR22, AGR23, AGR24, AGR25, AGR26, AGR27, AGR28, AGR29, AGR30, AGR31, AGR32, AGR33, AGR34, AGR35, AGR36, AGR37, AGR38, AGR39, AGR40, AGR41, AGR42, AGR43, AGR45, AGR46, AGR49, AGR50, AGR51, AGR52, AGR53, AGR54, AGR55, AGR56, AGR57, AGR58, AGR59, AGR60, AGR61, AGR62, AGR63, AGR64, PGR1, PGR2, PGR3, PGR4, PGR5, PGR6, PGR7, PGR8, PGR9, PGR10, PGR11, PGR12, PGR13, PGR14, PGR15, PGR16, PGR17, PGR18, PGR19, PGR20, PGR21, PGR22, PGR23, PGR24, PGR25, PGR26, PGR27, PGR28, PGR29, PGR30, PGR31, PGR32\n"
       ]
      },
      {
       "output_type": "stream",
       "stream": "stderr",
       "text": [
        "INFO:/home/gio/projects/spgr/scripts/spgr/read_data.py:Duration:  60.0 min\n"
       ]
      }
     ],
     "prompt_number": 27
    }
   ],
   "metadata": {}
  }
 ]
}