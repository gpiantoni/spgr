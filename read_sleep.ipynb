{
 "metadata": {
  "name": "",
  "signature": "sha256:906f8385839799c905b45fe937dfeb24584a3a75dc70e29b3eb64267dd3e56d4"
 },
 "nbformat": 3,
 "nbformat_minor": 0,
 "worksheets": [
  {
   "cells": [
    {
     "cell_type": "heading",
     "level": 1,
     "metadata": {},
     "source": [
      "SPGR"
     ]
    },
    {
     "cell_type": "code",
     "collapsed": false,
     "input": [
      "import version_control"
     ],
     "language": "python",
     "metadata": {},
     "outputs": []
    },
    {
     "cell_type": "code",
     "collapsed": false,
     "input": [
      "from spgr import lg\n",
      "from logging import INFO\n",
      "lg.setLevel(INFO)"
     ],
     "language": "python",
     "metadata": {},
     "outputs": []
    },
    {
     "cell_type": "heading",
     "level": 2,
     "metadata": {},
     "source": [
      "Read Sleep"
     ]
    },
    {
     "cell_type": "heading",
     "level": 3,
     "metadata": {},
     "source": [
      "Selection of Patients"
     ]
    },
    {
     "cell_type": "markdown",
     "metadata": {},
     "source": [
      "Recordings were obtained from six patients with drug-resistant epilepsy implanted with a semi-chronic grid to localize the seizure origin.\n",
      "The grid consisted of platinum electrodes spaced 1cm apart on the pial surface.\n",
      "The number of electrodes per patient was on average 81.67 (range 64--93).\n",
      "Recordings were performed with standard clinical EEG monitoring equipment (XLTEK, Natus Medical Inc., Pleasanton, CA, USA) at 500 Hz, 512 Hz, or 1024 Hz.\n",
      "The research was approved by the local institutional review board and electrode placement was determined solely by clinical criteria.\n",
      "More information about patients' pathologies..."
     ]
    },
    {
     "cell_type": "code",
     "collapsed": false,
     "input": [
      "# define patients with grids\n",
      "subj_with_grid_scalp = ('EM03', 'EM09', 'MG07', 'MG11', 'MG12', 'MG15', 'MG17', \n",
      "                        'MG29', 'MG31', 'MG32', 'MG33', 'MG37', 'MG42', 'MG45', \n",
      "                        'MG48', 'MG49', 'MG51', 'MG56', 'MG61', 'MG63', 'MG65', 'MG72')\n",
      "subj_with_grid_only = ('MG28', 'MG67', )\n",
      "\n",
      "# define patients to exclude\n",
      "subj_with_many_SZ = ('MG49', 'MG74')\n",
      "not_in_rec = ('MG12', )\n",
      "\n",
      "all_subj = (set(subj_with_grid_scalp) | set(subj_with_grid_only)) - set(subj_with_many_SZ) - set(not_in_rec)"
     ],
     "language": "python",
     "metadata": {},
     "outputs": []
    },
    {
     "cell_type": "code",
     "collapsed": false,
     "input": [
      "PERIOD = 'sleep'\n",
      "STAGES = ('NREM2', )\n",
      "MIN_DURATION = 60 * 60"
     ],
     "language": "python",
     "metadata": {},
     "outputs": []
    },
    {
     "cell_type": "code",
     "collapsed": false,
     "input": [
      "from spgr.read_data import select_scores, save_data, REC_DIR\n",
      "scores = select_scores(STAGES, MIN_DURATION, sorted(all_subj, reverse=True))\n",
      "\n",
      "lg.info('\\nPatients with sufficient recordings:')\n",
      "lg.info('\\t'.join(sorted(scores.keys())))"
     ],
     "language": "python",
     "metadata": {},
     "outputs": []
    },
    {
     "cell_type": "code",
     "collapsed": false,
     "input": [
      "good_subj = sorted(list(scores.keys()))\n",
      "\n",
      "lg.info('Grid patients with scalp : ' + ', '.join(sorted(set(good_subj) & set(subj_with_grid_scalp))))\n",
      "lg.info('Grid patients without scalp : ' + ', '.join(sorted(set(good_subj) & set(subj_with_grid_only))))\n",
      "lg.info('Depth patients without scalp : ' + ', '.join(sorted(set(good_subj) - set(subj_with_grid_scalp) - set(subj_with_grid_only))))"
     ],
     "language": "python",
     "metadata": {},
     "outputs": []
    },
    {
     "cell_type": "heading",
     "level": 3,
     "metadata": {},
     "source": [
      "Read Recordings"
     ]
    },
    {
     "cell_type": "markdown",
     "metadata": {},
     "source": [
      "Periods that did not have any seizure in the preceding or following 12 hours were visually scored from the ECoG electrodes following the standard sleep stage classification [@Iber2007].\n",
      "For each patient, we obtained on average 69.67 minutes (range 60--101.5) of NREM2 sleep that was included in the analysis.\n",
      "Channels containing large interictal activity were excluded and the signal was referenced to the average (NOT ALWAYS).\n",
      "Recordings were filtered at 0.5 Hz (high-pass filter) and at 50 Hz (low-pass filter) and subsequently downsampled to 256 Hz."
     ]
    },
    {
     "cell_type": "code",
     "collapsed": false,
     "input": [
      "options = {'to_plot': True,\n",
      "           'reref': '',\n",
      "           'resample_freq': 256,\n",
      "           'hp_filter': 0.5,\n",
      "           'lp_filter': 50,\n",
      "           }\n",
      "chan_type = ('grid', )"
     ],
     "language": "python",
     "metadata": {},
     "outputs": []
    },
    {
     "cell_type": "code",
     "collapsed": false,
     "input": [
      "for subj in good_subj:\n",
      "    save_data(subj, scores[subj], PERIOD, STAGES, chan_type=chan_type, **options)"
     ],
     "language": "python",
     "metadata": {},
     "outputs": []
    },
    {
     "cell_type": "code",
     "collapsed": false,
     "input": [
      "from phypno.attr import Channels"
     ],
     "language": "python",
     "metadata": {},
     "outputs": []
    },
    {
     "cell_type": "code",
     "collapsed": false,
     "input": [
      "from spgr.read_data import _select_channels"
     ],
     "language": "python",
     "metadata": {},
     "outputs": []
    },
    {
     "cell_type": "code",
     "collapsed": false,
     "input": [],
     "language": "python",
     "metadata": {},
     "outputs": []
    },
    {
     "cell_type": "code",
     "collapsed": false,
     "input": [
      "all_chan = Channels('/home/gio/recordings/EM09/doc/elec/EM09_elec_pos-names_sessA.csv')\n",
      "chan_list = _select_channels('/home/gio/recordings/EM09/doc/elec/EM09_eeg_xltek_sessA_d05_11_53_38_channels.json', 'grid')\n",
      "chan_in_data = chan_list\n",
      "chan = all_chan(lambda x: x.label in chan_list)"
     ],
     "language": "python",
     "metadata": {},
     "outputs": []
    },
    {
     "cell_type": "code",
     "collapsed": false,
     "input": [
      "from numpy import zeros, where, c_, mean\n",
      "from numpy.linalg import norm\n",
      "from scipy.spatial.distance import squareform\n",
      "\n",
      "max_dist = 15\n",
      "\n",
      "def _create_bipolar_chan(chan, chan_in_data, max_dist):\n",
      "    chan = chan(lambda x: x.label in chan_in_data)\n",
      "\n",
      "    chan_dist = zeros((chan.n_chan, chan.n_chan), dtype='bool')\n",
      "    for i0, chan0 in enumerate(chan.chan):\n",
      "        for i1, chan1 in enumerate(chan.chan):\n",
      "            if i0 < i1 and norm(chan0.xyz - chan1.xyz) < max_dist:\n",
      "                chan_dist[i0, i1] = True\n",
      "\n",
      "    x_all, y_all = where(chan_dist)\n",
      "\n",
      "    bipolar_labels = []\n",
      "    bipolar_xyz = []\n",
      "    bipolar_trans = []\n",
      "\n",
      "    for x0, x1 in zip(x_all, y_all):\n",
      "\n",
      "        new_label = chan.chan[x0].label + '-' + chan.chan[x1].label\n",
      "        bipolar_labels.append(new_label)\n",
      "\n",
      "        xyz = mean(c_[chan.chan[x0].xyz, chan.chan[x1].xyz], axis=1)\n",
      "        bipolar_xyz.append(xyz)\n",
      "\n",
      "        trans = zeros(chan.n_chan)\n",
      "        trans[x0] = 1\n",
      "        trans[x1] = -1\n",
      "        bipolar_trans.append(trans)\n",
      "\n",
      "    bipolar_xyz = c_[bipolar_xyz]\n",
      "    bipolar_trans = c_[bipolar_trans]\n",
      "\n",
      "    bipolar = Channels(bipolar_labels, bipolar_xyz)\n",
      "\n",
      "    return bipolar, bipolar_trans"
     ],
     "language": "python",
     "metadata": {},
     "outputs": []
    },
    {
     "cell_type": "code",
     "collapsed": false,
     "input": [
      "v0, v1 = _create_bipolar_chan(chan, chan_in_data, max_dist)"
     ],
     "language": "python",
     "metadata": {},
     "outputs": []
    },
    {
     "cell_type": "code",
     "collapsed": false,
     "input": [],
     "language": "python",
     "metadata": {},
     "outputs": []
    },
    {
     "cell_type": "code",
     "collapsed": false,
     "input": [
      "%gui qt"
     ],
     "language": "python",
     "metadata": {},
     "outputs": []
    },
    {
     "cell_type": "code",
     "collapsed": false,
     "input": [
      "from pyqtgraph import ImageView\n",
      "\n",
      "imv = ImageView()\n",
      "imv.show()\n",
      "imv.setImage(v1)"
     ],
     "language": "python",
     "metadata": {},
     "outputs": []
    },
    {
     "cell_type": "code",
     "collapsed": false,
     "input": [
      "from phypno.viz import Viz3"
     ],
     "language": "python",
     "metadata": {},
     "outputs": []
    },
    {
     "cell_type": "code",
     "collapsed": false,
     "input": [],
     "language": "python",
     "metadata": {},
     "outputs": []
    },
    {
     "cell_type": "code",
     "collapsed": false,
     "input": [
      "v = Viz3()\n",
      "v.add_chan(chan)\n",
      "v.add_chan(v0, color=(1, 0, 0, 1))"
     ],
     "language": "python",
     "metadata": {},
     "outputs": []
    },
    {
     "cell_type": "code",
     "collapsed": false,
     "input": [],
     "language": "python",
     "metadata": {},
     "outputs": []
    }
   ],
   "metadata": {}
  }
 ]
}