{
 "metadata": {
  "name": "",
  "signature": "sha256:be96d72dc4a9d2a626a484203f0f522b53164b49425bf5d1fa49043491099ddc"
 },
 "nbformat": 3,
 "nbformat_minor": 0,
 "worksheets": [
  {
   "cells": [
    {
     "cell_type": "heading",
     "level": 1,
     "metadata": {},
     "source": [
      "SPGR"
     ]
    },
    {
     "cell_type": "code",
     "collapsed": false,
     "input": [
      "import version_control"
     ],
     "language": "python",
     "metadata": {},
     "outputs": []
    },
    {
     "cell_type": "code",
     "collapsed": false,
     "input": [
      "from spgr import lg\n",
      "from logging import INFO\n",
      "lg.setLevel(INFO)"
     ],
     "language": "python",
     "metadata": {},
     "outputs": []
    },
    {
     "cell_type": "heading",
     "level": 2,
     "metadata": {},
     "source": [
      "Read Sleep"
     ]
    },
    {
     "cell_type": "heading",
     "level": 3,
     "metadata": {},
     "source": [
      "Selection of Patients"
     ]
    },
    {
     "cell_type": "markdown",
     "metadata": {},
     "source": [
      "Recordings were obtained from six patients with drug-resistant epilepsy implanted with a semi-chronic grid to localize the seizure origin.\n",
      "The grid consisted of platinum electrodes spaced 1cm apart on the pial surface.\n",
      "The number of electrodes per patient was on average 81.67 (range 64--93).\n",
      "Recordings were performed with standard clinical EEG monitoring equipment (XLTEK, Natus Medical Inc., Pleasanton, CA, USA) at 500 Hz, 512 Hz, or 1024 Hz.\n",
      "The research was approved by the local institutional review board and electrode placement was determined solely by clinical criteria.\n",
      "More information about patients' pathologies..."
     ]
    },
    {
     "cell_type": "code",
     "collapsed": false,
     "input": [
      "# define patients with grids\n",
      "subj_with_grid_scalp = ('EM03', 'EM09', 'MG07', 'MG11', 'MG12', 'MG15', 'MG17', \n",
      "                        'MG29', 'MG31', 'MG32', 'MG33', 'MG37', 'MG42', 'MG45', \n",
      "                        'MG48', 'MG49', 'MG51', 'MG56', 'MG61', 'MG63', 'MG65', 'MG72')\n",
      "subj_with_grid_only = ('MG28', 'MG67', )\n",
      "\n",
      "# define patients to exclude\n",
      "subj_with_many_SZ = ('MG49', 'MG74')\n",
      "not_in_rec = ('MG12', )\n",
      "\n",
      "all_subj = (set(subj_with_grid_scalp) | set(subj_with_grid_only)) - set(subj_with_many_SZ) - set(not_in_rec)"
     ],
     "language": "python",
     "metadata": {},
     "outputs": []
    },
    {
     "cell_type": "code",
     "collapsed": false,
     "input": [
      "PERIOD = 'sleep'\n",
      "STAGES = ('NREM2', )\n",
      "MIN_DURATION = 60 * 60"
     ],
     "language": "python",
     "metadata": {},
     "outputs": []
    },
    {
     "cell_type": "code",
     "collapsed": false,
     "input": [
      "from spgr.read_data import select_scores, save_data, REC_DIR\n",
      "scores = select_scores(STAGES, MIN_DURATION, sorted(all_subj, reverse=True))\n",
      "\n",
      "lg.info('\\nPatients with sufficient recordings:')\n",
      "lg.info('\\t'.join(sorted(scores.keys())))"
     ],
     "language": "python",
     "metadata": {},
     "outputs": []
    },
    {
     "cell_type": "code",
     "collapsed": false,
     "input": [
      "good_subj = sorted(list(scores.keys()))\n",
      "\n",
      "lg.info('Grid patients with scalp : ' + ', '.join(sorted(set(good_subj) & set(subj_with_grid_scalp))))\n",
      "lg.info('Grid patients without scalp : ' + ', '.join(sorted(set(good_subj) & set(subj_with_grid_only))))\n",
      "lg.info('Depth patients without scalp : ' + ', '.join(sorted(set(good_subj) - set(subj_with_grid_scalp) - set(subj_with_grid_only))))"
     ],
     "language": "python",
     "metadata": {},
     "outputs": []
    },
    {
     "cell_type": "heading",
     "level": 3,
     "metadata": {},
     "source": [
      "Read Recordings"
     ]
    },
    {
     "cell_type": "markdown",
     "metadata": {},
     "source": [
      "Periods that did not have any seizure in the preceding or following 12 hours were visually scored from the ECoG electrodes following the standard sleep stage classification [@Iber2007].\n",
      "For each patient, we obtained on average 69.67 minutes (range 60--101.5) of NREM2 sleep that was included in the analysis.\n",
      "Channels containing large interictal activity were excluded and the signal was referenced to the average (NOT ALWAYS).\n",
      "Recordings were filtered at 0.5 Hz (high-pass filter) and at 50 Hz (low-pass filter) and subsequently downsampled to 256 Hz."
     ]
    },
    {
     "cell_type": "code",
     "collapsed": false,
     "input": [
      "options = {'to_plot': True,\n",
      "           'reref': '',\n",
      "           'resample_freq': 256,\n",
      "           'hp_filter': 0.5,\n",
      "           'lp_filter': 50,\n",
      "           }\n",
      "chan_type = ('grid', )"
     ],
     "language": "python",
     "metadata": {},
     "outputs": []
    },
    {
     "cell_type": "code",
     "collapsed": false,
     "input": [
      "for subj in good_subj:\n",
      "    save_data(subj, scores[subj], PERIOD, STAGES, chan_type=chan_type, **options)"
     ],
     "language": "python",
     "metadata": {},
     "outputs": []
    },
    {
     "cell_type": "code",
     "collapsed": false,
     "input": [],
     "language": "python",
     "metadata": {},
     "outputs": []
    },
    {
     "cell_type": "code",
     "collapsed": false,
     "input": [
      "from phypno.attr import Channels"
     ],
     "language": "python",
     "metadata": {},
     "outputs": [],
     "prompt_number": 1
    },
    {
     "cell_type": "code",
     "collapsed": false,
     "input": [
      "all_chan = Channels('/home/gio/recordings/EM09/doc/elec/EM09_elec_pos-names_sessA.csv')\n",
      "all_chan.return_label()"
     ],
     "language": "python",
     "metadata": {},
     "outputs": [
      {
       "metadata": {},
       "output_type": "pyout",
       "prompt_number": 23,
       "text": [
        "['GR3',\n",
        " 'GR4',\n",
        " 'GR5',\n",
        " 'GR6',\n",
        " 'GR7',\n",
        " 'GR8',\n",
        " 'GR11',\n",
        " 'GR12',\n",
        " 'GR13',\n",
        " 'GR14',\n",
        " 'GR15',\n",
        " 'GR16',\n",
        " 'GR19',\n",
        " 'GR20',\n",
        " 'GR21',\n",
        " 'GR22',\n",
        " 'GR23',\n",
        " 'GR24',\n",
        " 'GR27',\n",
        " 'GR28',\n",
        " 'GR29',\n",
        " 'GR30',\n",
        " 'GR31',\n",
        " 'GR32',\n",
        " 'GR33',\n",
        " 'GR34',\n",
        " 'GR35',\n",
        " 'GR36',\n",
        " 'GR37',\n",
        " 'GR38',\n",
        " 'GR39',\n",
        " 'GR40',\n",
        " 'GR41',\n",
        " 'GR42',\n",
        " 'GR43',\n",
        " 'GR44',\n",
        " 'GR45',\n",
        " 'GR46',\n",
        " 'GR47',\n",
        " 'GR48',\n",
        " 'GR49',\n",
        " 'GR50',\n",
        " 'GR51',\n",
        " 'GR52',\n",
        " 'GR53',\n",
        " 'GR54',\n",
        " 'GR55',\n",
        " 'GR56',\n",
        " 'GR57',\n",
        " 'GR58',\n",
        " 'GR59',\n",
        " 'GR60',\n",
        " 'GR61',\n",
        " 'GR62',\n",
        " 'GR63',\n",
        " 'GR64',\n",
        " 'FGR1',\n",
        " 'FGR2',\n",
        " 'FGR3',\n",
        " 'FGR4',\n",
        " 'FGR5',\n",
        " 'FGR6',\n",
        " 'FGR7',\n",
        " 'FGR8',\n",
        " 'FGR9',\n",
        " 'FGR10',\n",
        " 'FGR11',\n",
        " 'FGR12',\n",
        " 'FGR13',\n",
        " 'FGR14',\n",
        " 'FGR15',\n",
        " 'FGR16',\n",
        " 'FPS1',\n",
        " 'FPS2',\n",
        " 'FPS3',\n",
        " 'FPS4',\n",
        " 'STS1',\n",
        " 'STS2',\n",
        " 'STS3',\n",
        " 'STS4',\n",
        " 'REF1',\n",
        " 'REF2',\n",
        " 'REF3',\n",
        " 'REF4',\n",
        " 'ROF1',\n",
        " 'ROF2',\n",
        " 'ROF3',\n",
        " 'ROF4',\n",
        " 'ROF5',\n",
        " 'ROF6',\n",
        " 'ROF7',\n",
        " 'ROF8',\n",
        " 'RDF1',\n",
        " 'RDF2',\n",
        " 'RDF3',\n",
        " 'RDF4',\n",
        " 'RDF5',\n",
        " 'RDF6',\n",
        " 'RDF7',\n",
        " 'RDF8',\n",
        " 'RPF1',\n",
        " 'RPF2',\n",
        " 'RPF3',\n",
        " 'RPF4',\n",
        " 'RPF5',\n",
        " 'RPF6',\n",
        " 'RPF7',\n",
        " 'RPF8',\n",
        " 'RPT1',\n",
        " 'RPT2',\n",
        " 'RPT3',\n",
        " 'RPT4',\n",
        " 'RPT5',\n",
        " 'RPT6',\n",
        " 'RPT7',\n",
        " 'RPT8']"
       ]
      }
     ],
     "prompt_number": 23
    },
    {
     "cell_type": "code",
     "collapsed": false,
     "input": [
      "chan = all_chan(lambda x: x.label[0] == 'G' or x.label[1] == 'G')"
     ],
     "language": "python",
     "metadata": {},
     "outputs": [],
     "prompt_number": 24
    },
    {
     "cell_type": "code",
     "collapsed": false,
     "input": [
      "from numpy import *\n",
      "\n",
      "chan_dist = empty((chan.n_chan, chan.n_chan))\n",
      "\n",
      "for i0, chan0 in enumerate(chan.chan):\n",
      "    for i1, chan1 in enumerate(chan.chan):\n",
      "        chan_dist[i0, i1] = norm(chan0.xyz - chan1.xyz)"
     ],
     "language": "python",
     "metadata": {},
     "outputs": [],
     "prompt_number": 25
    },
    {
     "cell_type": "code",
     "collapsed": false,
     "input": [
      "from scipy.spatial.distance import squareform"
     ],
     "language": "python",
     "metadata": {},
     "outputs": [],
     "prompt_number": 11
    },
    {
     "cell_type": "code",
     "collapsed": false,
     "input": [
      "where(squareform(chan_dist) < 15)[0].shape"
     ],
     "language": "python",
     "metadata": {},
     "outputs": [
      {
       "metadata": {},
       "output_type": "pyout",
       "prompt_number": 28,
       "text": [
        "(172,)"
       ]
      }
     ],
     "prompt_number": 28
    },
    {
     "cell_type": "code",
     "collapsed": false,
     "input": [
      "where(triu(chan_dist) < 15)[1]"
     ],
     "language": "python",
     "metadata": {},
     "outputs": [
      {
       "metadata": {},
       "output_type": "pyout",
       "prompt_number": 37,
       "text": [
        "array([ 0,  1,  6, ..., 69, 70, 71])"
       ]
      }
     ],
     "prompt_number": 37
    },
    {
     "cell_type": "code",
     "collapsed": false,
     "input": [
      "triu(chan_dist, k=1)"
     ],
     "language": "python",
     "metadata": {},
     "outputs": [
      {
       "metadata": {},
       "output_type": "pyout",
       "prompt_number": 43,
       "text": [
        "array([[  0.        ,   9.61417126,  17.7879331 , ...,  53.78108613,\n",
        "         42.359057  ,  32.96015335],\n",
        "       [  0.        ,   0.        ,   8.89245079, ...,  56.79001053,\n",
        "         45.9064488 ,  36.96149077],\n",
        "       [  0.        ,   0.        ,   0.        , ...,  63.05378067,\n",
        "         52.6388809 ,  44.05458456],\n",
        "       ..., \n",
        "       [  0.        ,   0.        ,   0.        , ...,   0.        ,\n",
        "         11.58847052,  21.00333059],\n",
        "       [  0.        ,   0.        ,   0.        , ...,   0.        ,\n",
        "          0.        ,   9.45357292],\n",
        "       [  0.        ,   0.        ,   0.        , ...,   0.        ,\n",
        "          0.        ,   0.        ]])"
       ]
      }
     ],
     "prompt_number": 43
    },
    {
     "cell_type": "code",
     "collapsed": false,
     "input": [
      "good_distance = where( (triu(chan_dist, k=1) < 15) & (triu(chan_dist, k=1) > 0))"
     ],
     "language": "python",
     "metadata": {},
     "outputs": [],
     "prompt_number": 46
    },
    {
     "cell_type": "code",
     "collapsed": false,
     "input": [
      "for x0, x1 in zip(*good_distance):\n",
      "    print(chan.chan[x0].label + '-' + chan.chan[x1].label)"
     ],
     "language": "python",
     "metadata": {},
     "outputs": [
      {
       "output_type": "stream",
       "stream": "stdout",
       "text": [
        "GR3-GR4\n",
        "GR3-GR11\n",
        "GR3-GR12\n",
        "GR4-GR5\n",
        "GR4-GR12\n",
        "GR4-GR13\n",
        "GR5-GR6\n",
        "GR5-GR13\n",
        "GR5-GR14\n",
        "GR6-GR7\n",
        "GR6-GR14\n",
        "GR7-GR8\n",
        "GR7-GR15\n",
        "GR7-GR16\n",
        "GR8-GR15\n",
        "GR8-GR16\n",
        "GR11-GR12\n",
        "GR11-GR19\n",
        "GR11-GR20\n",
        "GR12-GR13\n",
        "GR12-GR19\n",
        "GR12-GR20\n",
        "GR12-GR21\n",
        "GR13-GR14\n",
        "GR13-GR20\n",
        "GR13-GR21\n",
        "GR14-GR15\n",
        "GR14-GR21\n",
        "GR14-GR22\n",
        "GR15-GR16\n",
        "GR15-GR22\n",
        "GR15-GR23\n",
        "GR16-GR23\n",
        "GR16-GR24\n",
        "GR19-GR20\n",
        "GR19-GR27\n",
        "GR19-FGR16\n",
        "GR20-GR21\n",
        "GR20-GR27\n",
        "GR20-GR28\n",
        "GR21-GR22\n",
        "GR21-GR29\n",
        "GR22-GR23\n",
        "GR22-GR30\n",
        "GR23-GR24\n",
        "GR23-GR31\n",
        "GR23-GR32\n",
        "GR24-GR32\n",
        "GR27-GR28\n",
        "GR27-GR35\n",
        "GR27-FGR16\n",
        "GR28-GR29\n",
        "GR28-GR35\n",
        "GR28-GR36\n",
        "GR29-GR30\n",
        "GR29-GR36\n",
        "GR29-GR37\n",
        "GR30-GR31\n",
        "GR30-GR37\n",
        "GR30-GR38\n",
        "GR31-GR32\n",
        "GR31-GR39\n",
        "GR31-GR40\n",
        "GR32-GR40\n",
        "GR33-GR34\n",
        "GR33-GR41\n",
        "GR33-FGR10\n",
        "GR33-FGR11\n",
        "GR33-FGR14\n",
        "GR33-FGR15\n",
        "GR34-GR35\n",
        "GR34-GR41\n",
        "GR34-GR42\n",
        "GR34-FGR14\n",
        "GR34-FGR15\n",
        "GR35-GR36\n",
        "GR35-GR43\n",
        "GR36-GR37\n",
        "GR36-GR43\n",
        "GR36-GR44\n",
        "GR37-GR38\n",
        "GR37-GR44\n",
        "GR37-GR45\n",
        "GR38-GR39\n",
        "GR38-GR45\n",
        "GR38-GR46\n",
        "GR39-GR40\n",
        "GR39-GR46\n",
        "GR39-GR47\n",
        "GR40-GR48\n",
        "GR41-GR42\n",
        "GR41-GR49\n",
        "GR41-FGR13\n",
        "GR41-FGR14\n",
        "GR42-GR43\n",
        "GR42-GR50\n",
        "GR43-GR44\n",
        "GR43-GR51\n",
        "GR44-GR45\n",
        "GR44-GR52\n",
        "GR45-GR46\n",
        "GR45-GR53\n",
        "GR46-GR47\n",
        "GR46-GR54\n",
        "GR47-GR48\n",
        "GR47-GR54\n",
        "GR47-GR55\n",
        "GR48-GR56\n",
        "GR49-GR50\n",
        "GR49-GR57\n",
        "GR49-FGR9\n",
        "GR49-FGR13\n",
        "GR50-GR51\n",
        "GR50-GR58\n",
        "GR51-GR52\n",
        "GR51-GR58\n",
        "GR51-GR59\n",
        "GR52-GR53\n",
        "GR52-GR60\n",
        "GR53-GR54\n",
        "GR53-GR61\n",
        "GR53-GR62\n",
        "GR54-GR55\n",
        "GR54-GR61\n",
        "GR54-GR62\n",
        "GR54-GR63\n",
        "GR55-GR56\n",
        "GR55-GR62\n",
        "GR55-GR63\n",
        "GR55-GR64\n",
        "GR56-GR64\n",
        "GR57-GR58\n",
        "GR58-GR59\n",
        "GR59-GR60\n",
        "GR60-GR61\n",
        "GR61-GR62\n",
        "GR62-GR63\n",
        "GR63-GR64\n",
        "FGR1-FGR2\n",
        "FGR1-FGR5\n",
        "FGR2-FGR3\n",
        "FGR2-FGR6\n",
        "FGR3-FGR4\n",
        "FGR3-FGR6\n",
        "FGR3-FGR7\n",
        "FGR4-FGR7\n",
        "FGR4-FGR8\n",
        "FGR5-FGR6\n",
        "FGR5-FGR9\n",
        "FGR6-FGR7\n",
        "FGR6-FGR10\n",
        "FGR6-FGR11\n",
        "FGR7-FGR8\n",
        "FGR7-FGR10\n",
        "FGR7-FGR11\n",
        "FGR7-FGR12\n",
        "FGR8-FGR12\n",
        "FGR9-FGR10\n",
        "FGR9-FGR13\n",
        "FGR9-FGR14\n",
        "FGR10-FGR11\n",
        "FGR10-FGR14\n",
        "FGR10-FGR15\n",
        "FGR11-FGR12\n",
        "FGR11-FGR14\n",
        "FGR11-FGR15\n",
        "FGR11-FGR16\n",
        "FGR12-FGR15\n",
        "FGR12-FGR16\n",
        "FGR13-FGR14\n",
        "FGR14-FGR15\n",
        "FGR15-FGR16\n"
       ]
      }
     ],
     "prompt_number": 47
    },
    {
     "cell_type": "code",
     "collapsed": false,
     "input": [
      "from pyqtgraph import ImageView\n",
      "\n",
      "imv = ImageView()\n",
      "imv.show()\n",
      "imv.setImage(chan_dist)\n",
      "\n"
     ],
     "language": "python",
     "metadata": {},
     "outputs": [],
     "prompt_number": 30
    }
   ],
   "metadata": {}
  }
 ]
}