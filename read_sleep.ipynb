{
 "cells": [
  {
   "cell_type": "markdown",
   "metadata": {},
   "source": [
    "# SPGR"
   ]
  },
  {
   "cell_type": "code",
   "execution_count": 1,
   "metadata": {
    "collapsed": false
   },
   "outputs": [
    {
     "name": "stdout",
     "output_type": "stream",
     "text": [
      "Last run on cashlab03-deb at 2015-03-13 14:00:28.973245\n",
      "\n",
      "Phypno Version: 666ba4e19ef685b12751fd56592258eb41ecb2ac\n",
      "\n",
      "Babel==1.3, Cython==0.22, Jinja2==2.7.3, Markdown==2.6.1, MarkupSafe==0.23, Pillow==2.7.0, PyOpenGL==3.1.0, Pygments==2.0.2, Sphinx==1.3, alabaster==0.7.2, beautifulsoup4==4.3.2, certifi==14.05.14, coverage==3.7.1, decorator==3.4.0, docutils==0.12, easydev==0.8.3, ipython==3.0.0, jsonschema==2.4.0, matplotlib==1.4.3, memory-profiler==0.32, mistune==0.5.1, networkx==1.9.1, nibabel==2.0.0, nitime==0.5, nose==1.3.4, numpy==1.9.2, numpydoc==0.5, ordereddict==1.1, pandas==0.15.2, pandocfilters==1.2.3, pep8==1.6.2, pockets==0.2.3, psutil==2.2.1, pycurl==7.19.5.1, pyflakes==0.8.1, pyparsing==2.0.3, pyqtgraph==0.9.10, python-dateutil==2.4.1, python-igraph==0.7.1-4, pytz==2014.10, pyzmq==14.5.0, rope-py3k==0.9.4-1, rpy2==2.5.6, scikit-learn==0.15.2, scipy==0.15.1, six==1.9.0, snowballstemmer==1.2.0, sphinx-rtd-theme==0.1.7, sphinxcontrib-napoleon==0.3.1, spyder==2.3.3, tornado==4.1, visvis==1.9.1, xmltodict==0.9.2, \n"
     ]
    }
   ],
   "source": [
    "import version_control"
   ]
  },
  {
   "cell_type": "code",
   "execution_count": 2,
   "metadata": {
    "collapsed": false
   },
   "outputs": [],
   "source": [
    "from spgr import lg\n",
    "from logging import INFO\n",
    "lg.setLevel(INFO)"
   ]
  },
  {
   "cell_type": "markdown",
   "metadata": {},
   "source": [
    "## Read Sleep"
   ]
  },
  {
   "cell_type": "markdown",
   "metadata": {},
   "source": [
    "### Selection of Patients"
   ]
  },
  {
   "cell_type": "markdown",
   "metadata": {},
   "source": [
    "Recordings were obtained from six patients with drug-resistant epilepsy implanted with a semi-chronic grid to localize the seizure origin.\n",
    "The grid consisted of platinum electrodes spaced 1cm apart on the pial surface.\n",
    "The number of electrodes per patient was on average 81.67 (range 64--93).\n",
    "Recordings were performed with standard clinical EEG monitoring equipment (XLTEK, Natus Medical Inc., Pleasanton, CA, USA) at 500 Hz, 512 Hz, or 1024 Hz.\n",
    "The research was approved by the local institutional review board and electrode placement was determined solely by clinical criteria.\n",
    "More information about patients' pathologies..."
   ]
  },
  {
   "cell_type": "code",
   "execution_count": 3,
   "metadata": {
    "collapsed": false
   },
   "outputs": [],
   "source": [
    "# define patients with grids\n",
    "subj_with_grid_scalp = ('EM03', 'EM09', 'MG07', 'MG11', 'MG12', 'MG15', 'MG17', \n",
    "                        'MG29', 'MG31', 'MG32', 'MG33', 'MG37', 'MG42', 'MG45', \n",
    "                        'MG48', 'MG49', 'MG51', 'MG56', 'MG61', 'MG63', 'MG65', 'MG72')\n",
    "subj_with_grid_only = ('MG28', 'MG67', )\n",
    "\n",
    "# define patients to exclude\n",
    "subj_with_many_SZ = ('MG49', 'MG74')\n",
    "not_in_rec = ('MG12', )\n",
    "\n",
    "all_subj = (set(subj_with_grid_scalp) | set(subj_with_grid_only)) - set(subj_with_many_SZ) - set(not_in_rec)"
   ]
  },
  {
   "cell_type": "code",
   "execution_count": 4,
   "metadata": {
    "collapsed": false
   },
   "outputs": [],
   "source": [
    "PERIOD = 'sleep'\n",
    "STAGES = ('NREM2', )\n",
    "MIN_DURATION = 60 * 60"
   ]
  },
  {
   "cell_type": "code",
   "execution_count": 5,
   "metadata": {
    "collapsed": false
   },
   "outputs": [
    {
     "name": "stderr",
     "output_type": "stream",
     "text": [
      "INFO:/home/gio/projects/spgr/scripts/spgr/read_data.py:MG72: duration not sufficient\n",
      "INFO:/home/gio/projects/spgr/scripts/spgr/read_data.py:MG67: duration not sufficient\n",
      "INFO:/home/gio/projects/spgr/scripts/spgr/read_data.py:MG65: duration not sufficient\n",
      "INFO:/home/gio/projects/spgr/scripts/spgr/read_data.py:MG63 has MG63_eeg_xltek_sessA_d06_15_55_12_scores.xml\n",
      "INFO:/home/gio/projects/spgr/scripts/spgr/read_data.py:MG61 has MG61_eeg_xltek_sessA_d03_07_58_11_scores.xml\n",
      "INFO:/home/gio/projects/spgr/scripts/spgr/read_data.py:MG56: duration not sufficient\n",
      "INFO:/home/gio/projects/spgr/scripts/spgr/read_data.py:MG51: duration not sufficient\n",
      "INFO:/home/gio/projects/spgr/scripts/spgr/read_data.py:MG37 has MG37_eeg_xltek_sessA_d03_12_18_14_scores.xml\n",
      "INFO:/home/gio/projects/spgr/scripts/spgr/read_data.py:MG33 has MG33_eeg_xltek_sessA_d09_09_01_22_scores.xml\n",
      "INFO:/home/gio/projects/spgr/scripts/spgr/read_data.py:MG28: duration not sufficient\n",
      "INFO:/home/gio/projects/spgr/scripts/spgr/read_data.py:MG17 has MG17_eeg_xltek_sessA_d03_17_48_30_scores.xml\n",
      "INFO:/home/gio/projects/spgr/scripts/spgr/read_data.py:EM09 has EM09_eeg_xltek_sessA_d05_11_53_38_scores.xml\n",
      "INFO:/home/gio/projects/spgr/scripts/spgr/read_data.py:\n",
      "Patients with sufficient recordings:\n",
      "INFO:/home/gio/projects/spgr/scripts/spgr/read_data.py:EM09\tMG17\tMG33\tMG37\tMG61\tMG63\n"
     ]
    }
   ],
   "source": [
    "from spgr.read_data import select_scores, save_data, REC_DIR\n",
    "scores = select_scores(STAGES, MIN_DURATION, sorted(all_subj, reverse=True))\n",
    "\n",
    "lg.info('\\nPatients with sufficient recordings:')\n",
    "lg.info('\\t'.join(sorted(scores.keys())))"
   ]
  },
  {
   "cell_type": "code",
   "execution_count": 6,
   "metadata": {
    "collapsed": false
   },
   "outputs": [
    {
     "name": "stderr",
     "output_type": "stream",
     "text": [
      "INFO:/home/gio/projects/spgr/scripts/spgr/read_data.py:Grid patients with scalp : EM09, MG17, MG33, MG37, MG61, MG63\n",
      "INFO:/home/gio/projects/spgr/scripts/spgr/read_data.py:Grid patients without scalp : \n",
      "INFO:/home/gio/projects/spgr/scripts/spgr/read_data.py:Depth patients without scalp : \n"
     ]
    }
   ],
   "source": [
    "good_subj = sorted(list(scores.keys()))\n",
    "\n",
    "lg.info('Grid patients with scalp : ' + ', '.join(sorted(set(good_subj) & set(subj_with_grid_scalp))))\n",
    "lg.info('Grid patients without scalp : ' + ', '.join(sorted(set(good_subj) & set(subj_with_grid_only))))\n",
    "lg.info('Depth patients without scalp : ' + ', '.join(sorted(set(good_subj) - set(subj_with_grid_scalp) - set(subj_with_grid_only))))"
   ]
  },
  {
   "cell_type": "markdown",
   "metadata": {},
   "source": [
    "### Read Recordings"
   ]
  },
  {
   "cell_type": "markdown",
   "metadata": {},
   "source": [
    "Periods that did not have any seizure in the preceding or following 12 hours were visually scored from the ECoG electrodes following the standard sleep stage classification [@Iber2007].\n",
    "For each patient, we obtained on average 69.67 minutes (range 60--101.5) of NREM2 sleep that was included in the analysis.\n",
    "Channels containing large interictal activity were excluded and the signal was referenced to the average (NOT ALWAYS).\n",
    "Recordings were filtered at 0.5 Hz (high-pass filter) and at 50 Hz (low-pass filter) and subsequently downsampled to 256 Hz."
   ]
  },
  {
   "cell_type": "code",
   "execution_count": 9,
   "metadata": {
    "collapsed": false
   },
   "outputs": [],
   "source": [
    "options = {'to_plot': False,\n",
    "           'resample_freq': 256,\n",
    "           'hp_filter': 0.5,\n",
    "           'lp_filter': 50,\n",
    "           }\n",
    "chan_type = ('grid', 'strip')"
   ]
  },
  {
   "cell_type": "code",
   "execution_count": 10,
   "metadata": {
    "collapsed": false
   },
   "outputs": [
    {
     "name": "stderr",
     "output_type": "stream",
     "text": [
      "INFO:/home/gio/projects/spgr/scripts/spgr/read_data.py:EM09 EM09_eeg_xltek_sessA_d05_11_53_38_scores.xml\n",
      "INFO:/home/gio/projects/spgr/scripts/spgr/read_data.py:Sampling Frequency 512.0 Hz \n",
      "INFO:/home/gio/projects/spgr/scripts/spgr/read_data.py:N Channels in common 77 (only in dataset 53, only in chan pos 0)\n",
      "DEBUG:/home/gio/projects/spgr/scripts/spgr/read_data.py:Channels: GR3, GR4, GR5, GR6, GR7, GR8, GR11, GR12, GR13, GR14, GR15, GR16, GR19, GR20, GR21, GR22, GR23, GR24, GR27, GR28, GR29, GR30, GR31, GR32, GR34, GR35, GR36, GR37, GR38, GR39, GR40, GR41, GR42, GR43, GR44, GR45, GR46, GR47, GR48, GR49, GR50, GR51, GR52, GR53, GR54, GR55, GR56, GR57, GR58, GR59, GR60, GR61, GR62, GR63, GR64, FGR1, FGR2, FGR3, FGR4, FGR5, FGR6, FGR7, FGR8, FGR10, FGR11, FGR12, FGR13, FGR14, FGR15, FPS1, FPS2, FPS3, FPS4, STS1, STS2, STS3, STS4\n",
      "INFO:/home/gio/projects/spgr/scripts/spgr/read_data.py:Duration:  67.5 min\n",
      "/home/gio/tools/venv/lib/python3.4/site-packages/scipy/signal/signaltools.py:1578: DeprecationWarning: using a non-integer number instead of an integer will result in an error in the future\n",
      "  Y = zeros(newshape, 'D')\n"
     ]
    }
   ],
   "source": [
    "subj = 'EM09'\n",
    "save_data(subj, scores[subj], PERIOD, STAGES, chan_type=chan_type, **options)"
   ]
  },
  {
   "cell_type": "code",
   "execution_count": null,
   "metadata": {
    "collapsed": false
   },
   "outputs": [],
   "source": [
    "for subj in good_subj:\n",
    "    save_data(subj, scores[subj], PERIOD, STAGES, chan_type=chan_type, **options)"
   ]
  },
  {
   "cell_type": "code",
   "execution_count": null,
   "metadata": {
    "collapsed": false
   },
   "outputs": [],
   "source": [
    "from phypno.attr import Channels"
   ]
  },
  {
   "cell_type": "code",
   "execution_count": null,
   "metadata": {
    "collapsed": false
   },
   "outputs": [],
   "source": [
    "from spgr.read_data import _select_channels"
   ]
  },
  {
   "cell_type": "code",
   "execution_count": null,
   "metadata": {
    "collapsed": false
   },
   "outputs": [],
   "source": []
  },
  {
   "cell_type": "code",
   "execution_count": null,
   "metadata": {
    "collapsed": false
   },
   "outputs": [],
   "source": [
    "all_chan = Channels('/home/gio/recordings/EM09/doc/elec/EM09_elec_pos-names_sessA.csv')\n",
    "chan_list = _select_channels('/home/gio/recordings/EM09/doc/elec/EM09_eeg_xltek_sessA_d05_11_53_38_channels.json', 'grid')\n",
    "chan_in_data = chan_list\n",
    "chan = all_chan(lambda x: x.label in chan_list)"
   ]
  },
  {
   "cell_type": "code",
   "execution_count": null,
   "metadata": {
    "collapsed": false
   },
   "outputs": [],
   "source": [
    "from numpy import zeros, where, c_, mean\n",
    "from numpy.linalg import norm\n",
    "from scipy.spatial.distance import squareform\n",
    "\n",
    "max_dist = 15\n",
    "\n",
    "def _create_bipolar_chan(chan, chan_in_data, max_dist):\n",
    "    chan = chan(lambda x: x.label in chan_in_data)\n",
    "\n",
    "    chan_dist = zeros((chan.n_chan, chan.n_chan), dtype='bool')\n",
    "    for i0, chan0 in enumerate(chan.chan):\n",
    "        for i1, chan1 in enumerate(chan.chan):\n",
    "            if i0 < i1 and norm(chan0.xyz - chan1.xyz) < max_dist:\n",
    "                chan_dist[i0, i1] = True\n",
    "\n",
    "    x_all, y_all = where(chan_dist)\n",
    "\n",
    "    bipolar_labels = []\n",
    "    bipolar_xyz = []\n",
    "    bipolar_trans = []\n",
    "\n",
    "    for x0, x1 in zip(x_all, y_all):\n",
    "\n",
    "        new_label = chan.chan[x0].label + '-' + chan.chan[x1].label\n",
    "        bipolar_labels.append(new_label)\n",
    "\n",
    "        xyz = mean(c_[chan.chan[x0].xyz, chan.chan[x1].xyz], axis=1)\n",
    "        bipolar_xyz.append(xyz)\n",
    "\n",
    "        trans = zeros(chan.n_chan)\n",
    "        trans[x0] = 1\n",
    "        trans[x1] = -1\n",
    "        bipolar_trans.append(trans)\n",
    "\n",
    "    bipolar_xyz = c_[bipolar_xyz]\n",
    "    bipolar_trans = c_[bipolar_trans]\n",
    "\n",
    "    bipolar = Channels(bipolar_labels, bipolar_xyz)\n",
    "\n",
    "    return bipolar, bipolar_trans"
   ]
  },
  {
   "cell_type": "code",
   "execution_count": null,
   "metadata": {
    "collapsed": false
   },
   "outputs": [],
   "source": [
    "v0, v1 = _create_bipolar_chan(chan, chan_in_data, max_dist)"
   ]
  },
  {
   "cell_type": "code",
   "execution_count": null,
   "metadata": {
    "collapsed": false
   },
   "outputs": [],
   "source": []
  },
  {
   "cell_type": "code",
   "execution_count": null,
   "metadata": {
    "collapsed": false
   },
   "outputs": [],
   "source": [
    "%gui qt"
   ]
  },
  {
   "cell_type": "code",
   "execution_count": null,
   "metadata": {
    "collapsed": false
   },
   "outputs": [],
   "source": [
    "from pyqtgraph import ImageView\n",
    "\n",
    "imv = ImageView()\n",
    "imv.show()\n",
    "imv.setImage(v1)"
   ]
  },
  {
   "cell_type": "code",
   "execution_count": null,
   "metadata": {
    "collapsed": false
   },
   "outputs": [],
   "source": [
    "from phypno.viz import Viz3"
   ]
  },
  {
   "cell_type": "code",
   "execution_count": null,
   "metadata": {
    "collapsed": false
   },
   "outputs": [],
   "source": []
  },
  {
   "cell_type": "code",
   "execution_count": null,
   "metadata": {
    "collapsed": false
   },
   "outputs": [],
   "source": [
    "v = Viz3()\n",
    "v.add_chan(chan)\n",
    "v.add_chan(v0, color=(1, 0, 0, 1))"
   ]
  },
  {
   "cell_type": "code",
   "execution_count": null,
   "metadata": {
    "collapsed": false
   },
   "outputs": [],
   "source": []
  }
 ],
 "metadata": {
  "kernelspec": {
   "display_name": "Python 3",
   "language": "python",
   "name": "python3"
  },
  "language_info": {
   "codemirror_mode": {
    "name": "ipython",
    "version": 3
   },
   "file_extension": ".py",
   "mimetype": "text/x-python",
   "name": "python",
   "nbconvert_exporter": "python",
   "pygments_lexer": "ipython3",
   "version": "3.4.2"
  }
 },
 "nbformat": 4,
 "nbformat_minor": 0
}
