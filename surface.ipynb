{
 "metadata": {
  "name": "",
  "signature": "sha256:9680bc1de979582a2e3faf5b4d5ed6faeabd3916a348921e061346b1c37bdca0"
 },
 "nbformat": 3,
 "nbformat_minor": 0,
 "worksheets": [
  {
   "cells": [
    {
     "cell_type": "heading",
     "level": 1,
     "metadata": {},
     "source": [
      "SPGR"
     ]
    },
    {
     "cell_type": "markdown",
     "metadata": {},
     "source": [
      "Running on **rgs03**"
     ]
    },
    {
     "cell_type": "heading",
     "level": 2,
     "metadata": {},
     "source": [
      "SURFACE"
     ]
    },
    {
     "cell_type": "markdown",
     "metadata": {},
     "source": [
      "Project values onto the cortex for the patients. Note that at the moment you cannot run this analysis on **rgs03** because there is no visvis installed and matplotlib is not very efficient for 3d meshes."
     ]
    }
   ],
   "metadata": {}
  }
 ]
}