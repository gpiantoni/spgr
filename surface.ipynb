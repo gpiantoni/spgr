{
 "metadata": {
  "name": "",
  "signature": "sha256:a4e8590086d2a548b283af0caa4ac3c1e4c5ba6bb9a040fbf90d1ba21b9e7520"
 },
 "nbformat": 3,
 "nbformat_minor": 0,
 "worksheets": [
  {
   "cells": [
    {
     "cell_type": "heading",
     "level": 1,
     "metadata": {},
     "source": [
      "SPGR"
     ]
    },
    {
     "cell_type": "markdown",
     "metadata": {},
     "source": [
      "Running on **cashlab03-deb**"
     ]
    },
    {
     "cell_type": "heading",
     "level": 2,
     "metadata": {},
     "source": [
      "SURFACE"
     ]
    },
    {
     "cell_type": "markdown",
     "metadata": {},
     "source": [
      "Project values onto the cortex for the patients. Note that at the moment you cannot run this analysis on **rgs03** because there is no visvis installed and matplotlib is not very efficient for 3d meshes."
     ]
    },
    {
     "cell_type": "code",
     "collapsed": false,
     "input": [
      "from pickle import load\n",
      "\n",
      "spindle_file = '/home/gio/projects/spgr/group/all_spindles.pkl'\n",
      "with open(spindle_file, 'rb') as f:\n",
      "    all_spindles = load(f)  \n",
      "    \n",
      "all_subj = ('EM09', 'MG37', 'MG51', 'MG63', 'MG65', 'MG72')"
     ],
     "language": "python",
     "metadata": {},
     "outputs": [],
     "prompt_number": 1
    },
    {
     "cell_type": "code",
     "collapsed": false,
     "input": [
      "from os.path import join\n",
      "\n",
      "from phypno.attr import Freesurfer, Channels\n",
      "from phypno.viz.plot_3d import (plot_surf, plot_chan, plot_values_on_surf,\n",
      "                                calculate_chan2surf_trans)"
     ],
     "language": "python",
     "metadata": {},
     "outputs": [],
     "prompt_number": 4
    },
    {
     "cell_type": "code",
     "collapsed": false,
     "input": [
      "subj_index = 5\n",
      "\n",
      "data_dir = '/home/gio/recordings'\n",
      "\n",
      "subj = all_subj[subj_index]\n",
      "fs_dir = join(data_dir, subj, 'mri/proc/freesurfer')\n",
      "chan_file = join(data_dir, subj, 'doc/elec/elec_pos_adjusted.csv')\n",
      "\n",
      "anat = Freesurfer(fs_dir)\n",
      "chan = Channels(chan_file)\n",
      "hemi = 'lh'\n",
      "surf = anat.read_surf(hemi)"
     ],
     "language": "python",
     "metadata": {},
     "outputs": [],
     "prompt_number": 7
    },
    {
     "cell_type": "code",
     "collapsed": false,
     "input": [
      "trans = calculate_chan2surf_trans(surf, chan.return_xyz())"
     ],
     "language": "python",
     "metadata": {},
     "outputs": [],
     "prompt_number": 8
    },
    {
     "cell_type": "code",
     "collapsed": false,
     "input": [
      "spindles = all_spindles[subj_index]\n",
      "from numpy import zeros\n",
      "\n",
      "n_spindles = zeros(chan.n_chan())\n",
      "\n",
      "for i, i_chan in enumerate(chan.return_label()):\n",
      "    n_spindles[i] = sum([1 for sp in spindles if sp['chan'] == i_chan])\n"
     ],
     "language": "python",
     "metadata": {},
     "outputs": [],
     "prompt_number": 18
    },
    {
     "cell_type": "code",
     "collapsed": false,
     "input": [
      "n_spindles"
     ],
     "language": "python",
     "metadata": {},
     "outputs": [
      {
       "metadata": {},
       "output_type": "pyout",
       "prompt_number": 19,
       "text": [
        "array([ 285.,  285.,  293.,  291.,  272.,  276.,  272.,  267.,  288.,\n",
        "        274.,  285.,  275.,  288.,  275.,  283.,  290.,  291.,  282.,\n",
        "        280.,  278.,  275.,  273.,  250.,  268.,  289.,  284.,  287.,\n",
        "        290.,  283.,  270.,  260.,  274.,  273.,  273.,  288.,  273.,\n",
        "        274.,  272.,  264.,  271.,  280.,  266.,  279.,  279.,  268.,\n",
        "        279.,  273.,  287.,  280.,  275.,  271.,  286.,  275.,  274.,\n",
        "        263.,  259.,  274.,  278.,  263.,  248.,  237.,  285.,  233.,\n",
        "          0.,    0.,    0.,    0.,    0.,    0.,    0.,    0.,    0.,\n",
        "          0.,    0.,    0.,    0.,    0.,    0.,    0.,    0.,    0.,\n",
        "          0.,    0.,    0.,    0.,    0.,    0.,    0.,    0.,    0.,\n",
        "          0.,    0.,    0.,    0.,    0.,    0.,    0.,    0.,    0.,\n",
        "          0.,    0.,    0.,    0.,    0.,    0.,    0.,    0.,    0.,\n",
        "          0.,    0.,    0.,    0.,    0.,    0.,    0.,    0.,    0.,\n",
        "          0.,    0.,    0.,    0.,    0.,    0.,    0.,    0.,    0.,\n",
        "          0.,    0.,    0.,    0.,    0.,    0.,    0.,    0.,    0.,\n",
        "          0.,    0.,    0.,    0.,    0.,    0.,    0.,    0.,    0.,    0.])"
       ]
      }
     ],
     "prompt_number": 19
    },
    {
     "cell_type": "code",
     "collapsed": false,
     "input": [
      "plot_values_on_surf(surf, n_spindles, trans)"
     ],
     "language": "python",
     "metadata": {},
     "outputs": [
      {
       "metadata": {},
       "output_type": "pyout",
       "prompt_number": 20,
       "text": [
        "(<visvis.backends.qtcommon.Figure at 0x7ff533a8ef90>,\n",
        " <visvis.wobjects.polygonalModeling.Mesh at 0x7ff533870d90>)"
       ]
      }
     ],
     "prompt_number": 20
    }
   ],
   "metadata": {}
  }
 ]
}