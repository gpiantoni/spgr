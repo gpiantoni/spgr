{
 "metadata": {
  "name": "",
  "signature": "sha256:5db30f29fd8c4fb910687c690bcb98fe1db34a751901b0aae6896e19055b8d6d"
 },
 "nbformat": 3,
 "nbformat_minor": 0,
 "worksheets": [
  {
   "cells": [
    {
     "cell_type": "heading",
     "level": 1,
     "metadata": {},
     "source": [
      "SPGR"
     ]
    },
    {
     "cell_type": "markdown",
     "metadata": {},
     "source": [
      "Running on **rgs03**"
     ]
    },
    {
     "cell_type": "heading",
     "level": 2,
     "metadata": {},
     "source": [
      "SURFACE"
     ]
    },
    {
     "cell_type": "markdown",
     "metadata": {},
     "source": [
      "Project values onto the cortex for the patients. Note that you cannot run this analysis on **rgs03** because matplotlib is not very efficient for 3d meshes and especially there is no opengl support. I think there is an additional problem: you can install pyqt4 (althought it might be broken) and pyside using conda, but the qt library is not the same as the one on rgs03. You cannot compile pyqt4 or pyside because there is no python-devel package installed."
     ]
    },
    {
     "cell_type": "code",
     "collapsed": false,
     "input": [
      "\n",
      "from inspect import stack\n",
      "from logging import getLogger, DEBUG\n",
      "from nose.tools import raises\n",
      "from os.path import abspath, join\n",
      "from numpy.testing import assert_array_equal, assert_almost_equal\n",
      "from subprocess import check_output\n",
      "import phypno"
     ],
     "language": "python",
     "metadata": {},
     "outputs": []
    },
    {
     "cell_type": "code",
     "collapsed": false,
     "input": [
      "%matplotlib qt"
     ],
     "language": "python",
     "metadata": {},
     "outputs": []
    },
    {
     "cell_type": "code",
     "collapsed": false,
     "input": [
      "from numpy import ones\n",
      "\n",
      "from phypno.attr import Freesurfer, Channels\n",
      "from phypno.viz.plot_3d import (plot_surf, plot_chan, plot_values_on_surf,\n",
      "                                calculate_chan2surf_trans)\n",
      "\n",
      "fs_dir = '/PHShome/gp902/recordings/EM09/mri/proc/freesurfer'\n",
      "chan_file = '/PHShome/gp902/recordings/EM09/doc/elec/elec_pos_adjusted_renamed.csv'\n",
      "\n",
      "anat = Freesurfer(fs_dir)\n",
      "chan = Channels(chan_file)\n",
      "hemi = 'rh'\n",
      "surf = anat.read_surf(hemi)"
     ],
     "language": "python",
     "metadata": {},
     "outputs": []
    },
    {
     "cell_type": "code",
     "collapsed": false,
     "input": [
      "neuroport = chan(lambda x: x.label.lower() == 'neuroport')\n",
      "other_chan = chan(lambda x: not x.label.lower() == 'neuroport')\n",
      "\n",
      "fig = plot_chan(neuroport, color=(0, 1, 0, 1))\n",
      "plot_chan(other_chan, fig, color=(1, 0, 0, 1))\n",
      "\n",
      "plot_surf(surf, fig)"
     ],
     "language": "python",
     "metadata": {},
     "outputs": []
    },
    {
     "cell_type": "code",
     "collapsed": false,
     "input": [
      "import matplotlib"
     ],
     "language": "python",
     "metadata": {},
     "outputs": []
    },
    {
     "cell_type": "code",
     "collapsed": false,
     "input": [
      "matplotlib.use('Qt4Agg')"
     ],
     "language": "python",
     "metadata": {},
     "outputs": []
    },
    {
     "cell_type": "code",
     "collapsed": false,
     "input": [
      "matplotlib.rcParams['backend.qt4']='PySide'"
     ],
     "language": "python",
     "metadata": {},
     "outputs": []
    },
    {
     "cell_type": "code",
     "collapsed": false,
     "input": [
      "%matplotlib qt"
     ],
     "language": "python",
     "metadata": {},
     "outputs": []
    },
    {
     "cell_type": "code",
     "collapsed": false,
     "input": [],
     "language": "python",
     "metadata": {},
     "outputs": []
    }
   ],
   "metadata": {}
  }
 ]
}