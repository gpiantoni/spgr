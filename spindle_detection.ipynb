{
 "metadata": {
  "name": "",
  "signature": "sha256:44aedf28d6f78723ceec86a82bb83e175135c7fa15447c60648ec7382942750a"
 },
 "nbformat": 3,
 "nbformat_minor": 0,
 "worksheets": [
  {
   "cells": [
    {
     "cell_type": "heading",
     "level": 1,
     "metadata": {},
     "source": [
      "SPGR"
     ]
    },
    {
     "cell_type": "code",
     "collapsed": false,
     "input": [
      "import version_control"
     ],
     "language": "python",
     "metadata": {},
     "outputs": [
      {
       "output_type": "stream",
       "stream": "stdout",
       "text": [
        "Last run on cashlab03-deb at 2014-10-28 18:11:35.323955\n",
        "\n",
        "Phypno Version: 391a706a72cd88e99373715fc0de9dce64c8f770\n",
        "\n",
        "Jinja2==2.7.3, Markdown==2.5.1, MarkupSafe==0.23, Pillow==2.6.1, PyOpenGL==3.1.0, Pygments==1.6, Sphinx==1.2.3, certifi==14.05.14, decorator==3.4.0, docutils==0.12, easydev==0.7.4, h5py==2.3.1, ipython==2.3.0, matplotlib==1.4.2, memory-profiler==0.32, mne==0.8.6, networkx==1.9.1, nibabel==1.3.0, nitime==0.5, nose==1.3.4, numpy==1.9.0, numpydoc==0.5, ordereddict==1.1, pep8==1.5.7, psutil==2.1.3, pycurl==7.19.5, pyflakes==0.8.1, pyparsing==2.0.3, python-dateutil==2.2, python-igraph==0.7, pytz==2014.7, pyzmq==14.4.0, rope-py3k==0.9.4-1, rpy2==2.4.4, scikit-learn==0.15.2, scipy==0.14.0, six==1.8.0, sphinxcontrib-napoleon==0.2.8, spyder==2.3.1, tornado==4.0.2, visvis==1.9.1, xmltodict==0.9.0, "
       ]
      },
      {
       "output_type": "stream",
       "stream": "stdout",
       "text": [
        "\n"
       ]
      }
     ],
     "prompt_number": 1
    },
    {
     "cell_type": "code",
     "collapsed": false,
     "input": [
      "from spgr import lg"
     ],
     "language": "python",
     "metadata": {},
     "outputs": [],
     "prompt_number": 2
    },
    {
     "cell_type": "heading",
     "level": 2,
     "metadata": {},
     "source": [
      "Compare Spindle Detection"
     ]
    },
    {
     "cell_type": "heading",
     "level": 3,
     "metadata": {},
     "source": [
      "Detect spindles using different methods"
     ]
    },
    {
     "cell_type": "markdown",
     "metadata": {},
     "source": [
      "Get list of grid sleep recordings that have been read on disk and are ready to be used"
     ]
    },
    {
     "cell_type": "code",
     "collapsed": false,
     "input": [
      "from os import listdir\n",
      "from spgr.read_data import DATA_DIR\n",
      "\n",
      "all_subj = sorted(listdir(DATA_DIR))\n",
      "print('\\t'.join(all_subj))"
     ],
     "language": "python",
     "metadata": {},
     "outputs": [
      {
       "output_type": "stream",
       "stream": "stdout",
       "text": [
        "EM09\tMG17\tMG33\tMG37\tMG61\tMG63\n"
       ]
      }
     ],
     "prompt_number": 3
    },
    {
     "cell_type": "code",
     "collapsed": false,
     "input": [
      "hemi_subj = {'EM09': 'rh', \n",
      "             'MG17': 'rh',\n",
      "             'MG33': 'lh',\n",
      "             'MG37': 'lh',\n",
      "             'MG61': 'lh',\n",
      "             'MG63': 'rh',\n",
      "             }"
     ],
     "language": "python",
     "metadata": {},
     "outputs": [],
     "prompt_number": 11
    },
    {
     "cell_type": "code",
     "collapsed": false,
     "input": [
      "from os.path import join\n",
      "\n",
      "from phypno.attr import Freesurfer, Channels\n",
      "from phypno.detect import DetectSpindle\n",
      "\n",
      "from spgr.read_data import DATA_DIR, REC_DIR, FS_PATH, ELEC_PATH, get_data, GROUP_DIR"
     ],
     "language": "python",
     "metadata": {},
     "outputs": [],
     "prompt_number": 12
    },
    {
     "cell_type": "code",
     "collapsed": false,
     "input": [
      "from numpy import mean"
     ],
     "language": "python",
     "metadata": {},
     "outputs": [],
     "prompt_number": 21
    },
    {
     "cell_type": "code",
     "collapsed": false,
     "input": [
      "detsp = DetectSpindle(method='Nir2011', frequency=(11, 18), duration=(0.5, 2))"
     ],
     "language": "python",
     "metadata": {},
     "outputs": [],
     "prompt_number": 5
    },
    {
     "cell_type": "code",
     "collapsed": false,
     "input": [
      "from spgr.read_data import DATA_DIR, REC_DIR, FS_PATH, ELEC_PATH, get_data, GROUP_DIR"
     ],
     "language": "python",
     "metadata": {},
     "outputs": [],
     "prompt_number": 6
    },
    {
     "cell_type": "code",
     "collapsed": false,
     "input": [
      "subj = all_subj[3]\n",
      "data = get_data(subj, 'sleep', ('grid', ), reref='avg', resample_freq=None)"
     ],
     "language": "python",
     "metadata": {},
     "outputs": [],
     "prompt_number": 52
    },
    {
     "cell_type": "code",
     "collapsed": false,
     "input": [
      "from spgr.detect_spindles import calc_spindle_values"
     ],
     "language": "python",
     "metadata": {},
     "outputs": [],
     "prompt_number": 9
    },
    {
     "cell_type": "code",
     "collapsed": false,
     "input": [
      "dir(detsp)"
     ],
     "language": "python",
     "metadata": {},
     "outputs": [
      {
       "metadata": {},
       "output_type": "pyout",
       "prompt_number": 66,
       "text": [
        "['__call__',\n",
        " '__class__',\n",
        " '__delattr__',\n",
        " '__dict__',\n",
        " '__dir__',\n",
        " '__doc__',\n",
        " '__eq__',\n",
        " '__format__',\n",
        " '__ge__',\n",
        " '__getattribute__',\n",
        " '__gt__',\n",
        " '__hash__',\n",
        " '__init__',\n",
        " '__le__',\n",
        " '__lt__',\n",
        " '__module__',\n",
        " '__ne__',\n",
        " '__new__',\n",
        " '__reduce__',\n",
        " '__reduce_ex__',\n",
        " '__repr__',\n",
        " '__setattr__',\n",
        " '__sizeof__',\n",
        " '__slotnames__',\n",
        " '__str__',\n",
        " '__subclasshook__',\n",
        " '__weakref__',\n",
        " 'det_butter',\n",
        " 'det_thresh',\n",
        " 'duration',\n",
        " 'frequency',\n",
        " 'method',\n",
        " 'moving_avg',\n",
        " 'power_peaks',\n",
        " 'sel_thresh']"
       ]
      }
     ],
     "prompt_number": 66
    },
    {
     "cell_type": "code",
     "collapsed": false,
     "input": [
      "\n",
      "spindles = calc_spindle_values(data, detsp, parallel='pool')\n",
      "sp = spindles['spindles']\n",
      "\n"
     ],
     "language": "python",
     "metadata": {},
     "outputs": [],
     "prompt_number": 54
    },
    {
     "cell_type": "code",
     "collapsed": false,
     "input": [
      "len(sp)"
     ],
     "language": "python",
     "metadata": {},
     "outputs": [
      {
       "metadata": {},
       "output_type": "pyout",
       "prompt_number": 72,
       "text": [
        "11961"
       ]
      }
     ],
     "prompt_number": 72
    },
    {
     "cell_type": "code",
     "collapsed": false,
     "input": [
      "good_sp = [x for x in sp if detsp.frequency[0] <= x['peak_freq'] <= detsp.frequency[1]]"
     ],
     "language": "python",
     "metadata": {},
     "outputs": [],
     "prompt_number": 70
    },
    {
     "cell_type": "code",
     "collapsed": false,
     "input": [
      "len(good_sp)"
     ],
     "language": "python",
     "metadata": {},
     "outputs": [
      {
       "metadata": {},
       "output_type": "pyout",
       "prompt_number": 71,
       "text": [
        "2495"
       ]
      }
     ],
     "prompt_number": 71
    },
    {
     "cell_type": "code",
     "collapsed": false,
     "input": [],
     "language": "python",
     "metadata": {},
     "outputs": []
    },
    {
     "cell_type": "code",
     "collapsed": false,
     "input": [
      "sp = good_sp"
     ],
     "language": "python",
     "metadata": {},
     "outputs": [],
     "prompt_number": 73
    },
    {
     "cell_type": "code",
     "collapsed": false,
     "input": [
      "chans = [x['chan'] for x in sp]\n",
      "values_chan = {}\n",
      "for one_chan in set(chans):\n",
      "    values_chan[one_chan] = mean([x['peak_freq'] for x in sp if x['chan'] == one_chan])"
     ],
     "language": "python",
     "metadata": {},
     "outputs": [],
     "prompt_number": 74
    },
    {
     "cell_type": "code",
     "collapsed": false,
     "input": [
      "count_chan = {}\n",
      "for one_chan in set(chans):\n",
      "    count_chan[one_chan] = sum(1 for x in chans if x == one_chan)"
     ],
     "language": "python",
     "metadata": {},
     "outputs": [],
     "prompt_number": 55
    },
    {
     "cell_type": "code",
     "collapsed": false,
     "input": [],
     "language": "python",
     "metadata": {},
     "outputs": [],
     "prompt_number": 36
    },
    {
     "cell_type": "code",
     "collapsed": false,
     "input": [
      "fs = Freesurfer(join(REC_DIR, subj, FS_PATH))\n",
      "surf = fs.read_surf(hemi_subj[subj])\n",
      "chan = Channels(join(REC_DIR, subj, ELEC_PATH, subj + '_elec_pos-names_sessA.csv'))\n",
      "chan = chan(lambda x: x.label in set(chans))"
     ],
     "language": "python",
     "metadata": {},
     "outputs": [
      {
       "output_type": "stream",
       "stream": "stderr",
       "text": [
        "INFO:/home/gio/projects/spgr/scripts/spgr/read_data.py:Subj MG37, reading data: MG37_sleep_grid_hp010_lp400_avg_rs000.pkl\n"
       ]
      }
     ],
     "prompt_number": 56
    },
    {
     "cell_type": "code",
     "collapsed": false,
     "input": [
      "from phypno.viz.plot_3d import Viz3, _set_value_to_chan, _make_mp4, screenshot, IMAGE"
     ],
     "language": "python",
     "metadata": {},
     "outputs": [],
     "prompt_number": 38
    },
    {
     "cell_type": "code",
     "collapsed": false,
     "input": [
      "val = []\n",
      "for one_chan in chan.return_label():\n",
      "    val.append(values_chan[one_chan])"
     ],
     "language": "python",
     "metadata": {},
     "outputs": [],
     "prompt_number": 75
    },
    {
     "cell_type": "code",
     "collapsed": false,
     "input": [
      "val"
     ],
     "language": "python",
     "metadata": {},
     "outputs": [
      {
       "metadata": {},
       "output_type": "pyout",
       "prompt_number": 76,
       "text": [
        "[14.03812835374932,\n",
        " 13.233206436544545,\n",
        " 12.202177204905094,\n",
        " 12.397013688590985,\n",
        " 13.310243263683272,\n",
        " 13.695602393374465,\n",
        " 13.577338862301231,\n",
        " 14.548549283044469,\n",
        " 14.537323401018643,\n",
        " 12.570423381895786,\n",
        " 12.465602598813291,\n",
        " 12.557860153597455,\n",
        " 12.918085288304706,\n",
        " 15.969956400971537,\n",
        " 14.128678014633403,\n",
        " 14.372902185160916,\n",
        " 13.244879181679064,\n",
        " 13.40886991224666,\n",
        " 12.898485748298961,\n",
        " 13.698198099449233,\n",
        " 12.794919971173725,\n",
        " 14.360328237241132,\n",
        " 13.504471094634711,\n",
        " 14.067559600453238,\n",
        " 13.154400350375823,\n",
        " 12.824203327062857,\n",
        " 14.755842388090555,\n",
        " 12.940131205044082,\n",
        " 13.046470227740032,\n",
        " 13.738495068251041,\n",
        " 15.238434352934599,\n",
        " 13.514056541801466,\n",
        " 13.096973709736796,\n",
        " 13.431759817682689,\n",
        " 14.432093176835391,\n",
        " 13.821795318929409,\n",
        " 13.542850140876668,\n",
        " 14.302389656896976,\n",
        " 15.143041155244541,\n",
        " 13.609035486681687,\n",
        " 12.763152960679838,\n",
        " 13.147861774845053,\n",
        " 13.930676261041214,\n",
        " 12.830484165668707,\n",
        " 12.832365433219319,\n",
        " 14.828890217670393,\n",
        " 12.406947890818858,\n",
        " 13.50808998591306,\n",
        " 13.136207441081487,\n",
        " 12.813964855989772,\n",
        " 13.851522288250996,\n",
        " 13.229023907415868,\n",
        " 11.869436201780415,\n",
        " 13.522622924765358,\n",
        " 12.519415948409801,\n",
        " 13.272550724285788,\n",
        " 13.781575248130638,\n",
        " 14.126401091761755,\n",
        " 13.879041493111888,\n",
        " 13.483251344851629,\n",
        " 13.769075474596351,\n",
        " 14.761053724774978,\n",
        " 13.243434541133846,\n",
        " 12.859497685116722,\n",
        " 13.041799486175512,\n",
        " 13.052123600780302,\n",
        " 13.618765241001269,\n",
        " 12.670535511128559,\n",
        " 13.231460980478881,\n",
        " 13.113351631283331,\n",
        " 13.433034887524069,\n",
        " 12.441285780448039,\n",
        " 12.91596436254483,\n",
        " 13.898378995882119,\n",
        " 12.949843885364704,\n",
        " 13.275502795036834,\n",
        " 13.398162580988167,\n",
        " 13.618677042801556]"
       ]
      }
     ],
     "prompt_number": 76
    },
    {
     "cell_type": "code",
     "collapsed": false,
     "input": [
      "v = Viz3()\n",
      "v.add_surf(surf)\n",
      "v.add_chan(chan, values=val, limits=detsp.frequency)"
     ],
     "language": "python",
     "metadata": {},
     "outputs": [],
     "prompt_number": 87
    },
    {
     "cell_type": "code",
     "collapsed": false,
     "input": [
      "from phypno.attr.chan import assign_region_to_channels, find_chan_in_region"
     ],
     "language": "python",
     "metadata": {},
     "outputs": [],
     "prompt_number": 79
    },
    {
     "cell_type": "code",
     "collapsed": false,
     "input": [
      "chan = assign_region_to_channels(chan, fs, max_approx=2, exclude_regions=('Unknown', ))"
     ],
     "language": "python",
     "metadata": {},
     "outputs": [],
     "prompt_number": 85
    },
    {
     "cell_type": "code",
     "collapsed": false,
     "input": [
      "for one_chan in chan.chan:\n",
      "    print('{}, {}'.format(one_chan.label, one_chan.attr['region']))"
     ],
     "language": "python",
     "metadata": {},
     "outputs": [
      {
       "output_type": "stream",
       "stream": "stdout",
       "text": [
        "PGR1, ctx-lh-inferiortemporal\n",
        "PGR2, ctx-lh-middletemporal\n",
        "PGR3, --not found--\n",
        "PGR4, ctx-lh-superiortemporal\n",
        "PGR5, ctx-lh-precentral\n",
        "PGR6, ctx-lh-precentral\n",
        "PGR7, ctx-lh-precentral\n",
        "PGR8, ctx-lh-precentral\n",
        "PGR9, ctx-lh-inferiortemporal\n",
        "PGR10, ctx-lh-middletemporal\n",
        "PGR11, ctx-lh-middletemporal\n",
        "PGR12, ctx-lh-superiortemporal\n",
        "PGR13, ctx-lh-postcentral\n",
        "PGR14, ctx-lh-precentral\n",
        "PGR15, ctx-lh-precentral\n",
        "PGR16, ctx-lh-precentral\n",
        "PGR17, ctx-lh-inferiortemporal\n",
        "PGR18, ctx-lh-middletemporal\n",
        "PGR19, ctx-lh-middletemporal\n",
        "PGR20, ctx-lh-superiortemporal\n",
        "PGR21, --not found--\n",
        "PGR22, ctx-lh-postcentral\n",
        "PGR23, ctx-lh-postcentral\n",
        "PGR24, ctx-lh-postcentral\n",
        "PGR25, ctx-lh-middletemporal\n",
        "PGR27, ctx-lh-superiortemporal\n",
        "PGR28, ctx-lh-superiortemporal\n",
        "PGR29, ctx-lh-supramarginal\n",
        "PGR30, ctx-lh-supramarginal\n",
        "PGR31, ctx-lh-postcentral\n",
        "PGR32, ctx-lh-postcentral\n",
        "PGR33, ctx-lh-middletemporal\n",
        "PGR34, ctx-lh-middletemporal\n",
        "PGR35, ctx-lh-bankssts\n",
        "PGR36, ctx-lh-superiortemporal\n",
        "PGR37, ctx-lh-supramarginal\n",
        "PGR38, ctx-lh-supramarginal\n",
        "PGR39, ctx-lh-supramarginal\n",
        "PGR40, ctx-lh-postcentral\n",
        "PGR41, ctx-lh-middletemporal\n",
        "PGR42, ctx-lh-middletemporal\n",
        "PGR43, ctx-lh-middletemporal\n",
        "PGR44, ctx-lh-superiortemporal\n",
        "PGR45, ctx-lh-supramarginal\n",
        "PGR47, ctx-lh-supramarginal\n",
        "PGR48, ctx-lh-superiorparietal\n",
        "PGR49, ctx-lh-inferiortemporal\n",
        "PGR50, ctx-lh-middletemporal\n",
        "PGR51, ctx-lh-middletemporal\n",
        "PGR52, ctx-lh-superiortemporal\n",
        "PGR53, ctx-lh-supramarginal\n",
        "PGR54, ctx-lh-supramarginal\n",
        "PGR55, ctx-lh-supramarginal\n",
        "PGR56, ctx-lh-supramarginal\n",
        "PGR57, ctx-lh-inferiortemporal\n",
        "PGR58, ctx-lh-middletemporal\n",
        "PGR59, ctx-lh-middletemporal\n",
        "PGR60, ctx-lh-inferiorparietal\n",
        "PGR61, ctx-lh-inferiorparietal\n",
        "PGR62, ctx-lh-inferiorparietal\n",
        "PGR63, ctx-lh-inferiorparietal\n",
        "PGR64, ctx-lh-superiorparietal\n",
        "AGR1, ctx-lh-temporalpole\n",
        "AGR2, ctx-lh-superiortemporal\n",
        "AGR3, --not found--\n",
        "AGR4, ctx-lh-parstriangularis\n",
        "AGR5, ctx-lh-inferiortemporal\n",
        "AGR6, ctx-lh-middletemporal\n",
        "AGR7, ctx-lh-superiortemporal\n",
        "AGR8, ctx-lh-parstriangularis\n",
        "AGR9, ctx-lh-inferiortemporal\n",
        "AGR10, ctx-lh-middletemporal\n",
        "AGR11, ctx-lh-superiortemporal\n",
        "AGR12, ctx-lh-superiortemporal\n",
        "AGR13, ctx-lh-inferiortemporal\n",
        "AGR14, ctx-lh-inferiortemporal\n",
        "AGR15, ctx-lh-superiortemporal\n",
        "AGR16, ctx-lh-superiortemporal\n"
       ]
      }
     ],
     "prompt_number": 86
    },
    {
     "cell_type": "code",
     "collapsed": false,
     "input": [],
     "language": "python",
     "metadata": {},
     "outputs": []
    }
   ],
   "metadata": {}
  }
 ]
}