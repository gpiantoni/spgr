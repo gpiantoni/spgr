{
 "metadata": {
  "name": "",
  "signature": "sha256:323600479a71580444c9442c893576c3d18f2324561e595c885fd6e76b02b1e6"
 },
 "nbformat": 3,
 "nbformat_minor": 0,
 "worksheets": [
  {
   "cells": [
    {
     "cell_type": "heading",
     "level": 1,
     "metadata": {},
     "source": [
      "SPGR"
     ]
    },
    {
     "cell_type": "code",
     "collapsed": false,
     "input": [
      "import version_control"
     ],
     "language": "python",
     "metadata": {},
     "outputs": [
      {
       "output_type": "stream",
       "stream": "stdout",
       "text": [
        "Last run on rgs08.research.partners.org at 2014-10-28 16:14:14.614223\n",
        "\n",
        "Phypno Version: 5739dcd36d3ed59dc93dae3b62664288fe844119\n",
        "\n",
        "Jinja2==2.7.3, MarkupSafe==0.23, Pillow==2.5.1, PyOpenGL==3.0.2, PyYAML==3.11, Pygments==1.6, Sphinx==1.2.3, backports.ssl-match-hostname==3.4.0.2, conda==3.7.1, decorator==3.4.0, docutils==0.12, ipython==2.3.0, matplotlib==1.4.0, mne==0.8.1, networkx==1.9.1, nibabel==1.3.0, nose==1.3.4, numpy==1.9.0, pep8==1.5.7, pycosat==0.6.1, pyflakes==0.8.1, pymatbridge==0.4.dev, pyparsing==2.0.1, python-dateutil==2.1, pytz==2014.7, pyzmq==14.3.1, requests==2.4.3, scikit-learn==0.15.2, scipy==0.14.0, six==1.8.0, spyder==2.3.1, tornado==4.0.2, visvis==1.9, "
       ]
      },
      {
       "output_type": "stream",
       "stream": "stdout",
       "text": [
        "\n"
       ]
      }
     ],
     "prompt_number": 2
    },
    {
     "cell_type": "code",
     "collapsed": false,
     "input": [
      "from spgr import lg"
     ],
     "language": "python",
     "metadata": {},
     "outputs": [],
     "prompt_number": 3
    },
    {
     "cell_type": "heading",
     "level": 2,
     "metadata": {},
     "source": [
      "Compare Spindle Detection"
     ]
    },
    {
     "cell_type": "heading",
     "level": 3,
     "metadata": {},
     "source": [
      "Detect spindles using different methods"
     ]
    },
    {
     "cell_type": "markdown",
     "metadata": {},
     "source": [
      "Get list of grid sleep recordings that have been read on disk and are ready to be used"
     ]
    },
    {
     "cell_type": "code",
     "collapsed": false,
     "input": [
      "from os import listdir\n",
      "from spgr.read_data import DATA_DIR\n",
      "\n",
      "all_subj = sorted(listdir(DATA_DIR))\n",
      "print('\\t'.join(all_subj))"
     ],
     "language": "python",
     "metadata": {},
     "outputs": [
      {
       "output_type": "stream",
       "stream": "stdout",
       "text": [
        "EM09\tMG17\tMG33\tMG37\tMG61\tMG63\n"
       ]
      }
     ],
     "prompt_number": 4
    },
    {
     "cell_type": "code",
     "collapsed": false,
     "input": [
      "from os.path import join\n",
      "\n",
      "from phypno.detect import DetectSpindle\n",
      "\n",
      "from spgr.read_data import GROUP_DIR"
     ],
     "language": "python",
     "metadata": {},
     "outputs": [],
     "prompt_number": 5
    },
    {
     "cell_type": "code",
     "collapsed": false,
     "input": [
      "detsp = DetectSpindle(method='Nir2011', frequency=(11, 18), duration=(0.5, 2))"
     ],
     "language": "python",
     "metadata": {},
     "outputs": [],
     "prompt_number": 6
    },
    {
     "cell_type": "code",
     "collapsed": false,
     "input": [
      "\n"
     ],
     "language": "python",
     "metadata": {},
     "outputs": [
      {
       "metadata": {},
       "output_type": "pyout",
       "prompt_number": 7,
       "text": [
        "['__call__',\n",
        " '__class__',\n",
        " '__delattr__',\n",
        " '__dict__',\n",
        " '__dir__',\n",
        " '__doc__',\n",
        " '__eq__',\n",
        " '__format__',\n",
        " '__ge__',\n",
        " '__getattribute__',\n",
        " '__gt__',\n",
        " '__hash__',\n",
        " '__init__',\n",
        " '__le__',\n",
        " '__lt__',\n",
        " '__module__',\n",
        " '__ne__',\n",
        " '__new__',\n",
        " '__reduce__',\n",
        " '__reduce_ex__',\n",
        " '__repr__',\n",
        " '__setattr__',\n",
        " '__sizeof__',\n",
        " '__str__',\n",
        " '__subclasshook__',\n",
        " '__weakref__',\n",
        " 'det_butter',\n",
        " 'det_thresh',\n",
        " 'duration',\n",
        " 'frequency',\n",
        " 'method',\n",
        " 'moving_avg',\n",
        " 'power_peaks',\n",
        " 'sel_thresh']"
       ]
      }
     ],
     "prompt_number": 7
    },
    {
     "cell_type": "code",
     "collapsed": false,
     "input": [
      "from spgr.read_data import DATA_DIR, REC_DIR, FS_PATH, ELEC_PATH, get_data, GROUP_DIR"
     ],
     "language": "python",
     "metadata": {},
     "outputs": [],
     "prompt_number": 7
    },
    {
     "cell_type": "code",
     "collapsed": false,
     "input": [
      "subj = all_subj[0]"
     ],
     "language": "python",
     "metadata": {},
     "outputs": [],
     "prompt_number": 8
    },
    {
     "cell_type": "code",
     "collapsed": false,
     "input": [
      "data = get_data(subj, 'sleep', ('grid', ), reref='avg', resample_freq=None)"
     ],
     "language": "python",
     "metadata": {},
     "outputs": [
      {
       "output_type": "stream",
       "stream": "stderr",
       "text": [
        "INFO:/PHShome/gp902/projects/spgr/scripts/spgr/read_data.py:Subj EM09, reading data: EM09_sleep_grid_hp010_lp400_avg_rs000.pkl\n"
       ]
      }
     ],
     "prompt_number": 9
    },
    {
     "cell_type": "code",
     "collapsed": false,
     "input": [
      "from phypno.trans import Select\n",
      "\n",
      "sel = Select(trial=(10, ))\n"
     ],
     "language": "python",
     "metadata": {},
     "outputs": [],
     "prompt_number": 14
    },
    {
     "cell_type": "code",
     "collapsed": false,
     "input": [
      "sp = detsp(sel(data))"
     ],
     "language": "python",
     "metadata": {},
     "outputs": [],
     "prompt_number": 15
    },
    {
     "cell_type": "code",
     "collapsed": false,
     "input": [
      "from spgr.detect_spindles import calc_spindle_values"
     ],
     "language": "python",
     "metadata": {},
     "outputs": [],
     "prompt_number": 15
    },
    {
     "cell_type": "code",
     "collapsed": false,
     "input": [
      "spindles = calc_spindle_values(data, detsp, lsf=True)"
     ],
     "language": "python",
     "metadata": {},
     "outputs": [
      {
       "output_type": "stream",
       "stream": "stderr",
       "text": [
        "WARNING:lsf:Wall Time: 119.79s, CPU time: 170.17s, speed-up: 1.42X\n"
       ]
      }
     ],
     "prompt_number": 16
    },
    {
     "cell_type": "code",
     "collapsed": false,
     "input": [
      "spindles1 = calc_spindle_values(data, detsp, lsf=False)"
     ],
     "language": "python",
     "metadata": {},
     "outputs": [],
     "prompt_number": 17
    },
    {
     "cell_type": "code",
     "collapsed": false,
     "input": [
      "sp = spindles['spindles']"
     ],
     "language": "python",
     "metadata": {},
     "outputs": [],
     "prompt_number": 23
    },
    {
     "cell_type": "code",
     "collapsed": false,
     "input": [
      "sp[0]"
     ],
     "language": "python",
     "metadata": {},
     "outputs": [
      {
       "metadata": {},
       "output_type": "pyout",
       "prompt_number": 34,
       "text": [
        "{'end_time': 42661.66015625,\n",
        " 'chan': 'GR35',\n",
        " 'peak_val': 40.537188211411937,\n",
        " 'start_time': 42660.03125,\n",
        " 'peak_freq': 12.876646706586826,\n",
        " 'peak_time': 42660.896484375,\n",
        " 'area_under_curve': 41.136822996582133}"
       ]
      }
     ],
     "prompt_number": 34
    },
    {
     "cell_type": "code",
     "collapsed": false,
     "input": [
      "chans = [x['chan'] for x in sp]"
     ],
     "language": "python",
     "metadata": {},
     "outputs": [],
     "prompt_number": 26
    },
    {
     "cell_type": "code",
     "collapsed": false,
     "input": [
      "count_chan = {}\n",
      "for one_chan in set(chans):\n",
      "    count_chan[one_chan] = sum(1 for x in chans if x == one_chan)"
     ],
     "language": "python",
     "metadata": {},
     "outputs": [],
     "prompt_number": 28
    },
    {
     "cell_type": "code",
     "collapsed": false,
     "input": [
      "from numpy import *"
     ],
     "language": "python",
     "metadata": {},
     "outputs": [],
     "prompt_number": 35
    },
    {
     "cell_type": "code",
     "collapsed": false,
     "input": [
      "count_chan = {}\n",
      "for one_chan in set(chans):\n",
      "    count_chan[one_chan] = mean([x['peak_freq'] for x in sp if x['chan'] == one_chan])"
     ],
     "language": "python",
     "metadata": {},
     "outputs": [],
     "prompt_number": 36
    },
    {
     "cell_type": "code",
     "collapsed": false,
     "input": [
      "count_chan"
     ],
     "language": "python",
     "metadata": {},
     "outputs": [
      {
       "metadata": {},
       "output_type": "pyout",
       "prompt_number": 37,
       "text": [
        "{'FGR3': 13.863404531964681,\n",
        " 'GR27': 12.845492418587067,\n",
        " 'GR55': 13.200929182204492,\n",
        " 'GR32': 15.141550058390347,\n",
        " 'GR35': 12.956368230768838,\n",
        " 'GR48': 13.507518463009527,\n",
        " 'GR16': 12.94942456976518,\n",
        " 'GR62': 13.159230500361778,\n",
        " 'GR20': 12.879847001603983,\n",
        " 'GR11': 13.10576879098951,\n",
        " 'GR47': 13.723664092901364,\n",
        " 'GR41': 12.854959653753754,\n",
        " 'GR40': 14.984528438280503,\n",
        " 'FGR8': 14.633881095714424,\n",
        " 'GR39': 14.402500697303303,\n",
        " 'GR31': 14.123032843208282,\n",
        " 'GR54': 13.008593441684924,\n",
        " 'FGR4': 13.571578736367064,\n",
        " 'GR15': 12.973409745634324,\n",
        " 'GR63': 13.203538486753761,\n",
        " 'GR56': 13.643054971294573,\n",
        " 'GR34': 12.938879769947755,\n",
        " 'GR44': 14.504880290673588,\n",
        " 'GR6': 12.977352648785883,\n",
        " 'GR29': 13.086035322018438,\n",
        " 'GR24': 13.285363425867498,\n",
        " 'GR22': 13.154860276544857,\n",
        " 'FGR7': 14.422907744307139,\n",
        " 'GR14': 13.000565671192783,\n",
        " 'GR43': 12.989176660523519,\n",
        " 'GR5': 13.027101545550385,\n",
        " 'FGR1': 12.059971048577214,\n",
        " 'GR21': 13.126396634233156,\n",
        " 'GR59': 13.207829114345115,\n",
        " 'GR37': 13.190538281796952,\n",
        " 'GR60': 12.978213039587622,\n",
        " 'GR58': 13.114743495982154,\n",
        " 'GR57': 12.97350195350719,\n",
        " 'GR53': 13.130568768979067,\n",
        " 'FGR15': 12.843501490437223,\n",
        " 'FGR11': 12.861868555175592,\n",
        " 'GR3': 12.988998507403585,\n",
        " 'GR51': 12.929521068838335,\n",
        " 'GR30': 13.407597992955639,\n",
        " 'GR46': 13.045806044193165,\n",
        " 'GR45': 14.058729788289504,\n",
        " 'FGR2': 13.39171355322331,\n",
        " 'FGR5': 12.451789237258243,\n",
        " 'FGR12': 13.12365887290421,\n",
        " 'GR52': 13.351597966050772,\n",
        " 'GR50': 13.08129432459021,\n",
        " 'GR42': 12.870865137152784,\n",
        " 'GR64': 13.480347944979341,\n",
        " 'GR8': 12.972591635987493,\n",
        " 'GR12': 13.081931769533258,\n",
        " 'GR19': 13.071039221673267,\n",
        " 'FGR10': 13.117825391790847,\n",
        " 'GR23': 12.892546814975056,\n",
        " 'GR4': 13.028933702243428,\n",
        " 'FGR14': 12.804914597007521,\n",
        " 'GR49': 13.21035828739898,\n",
        " 'GR28': 12.977739686805073,\n",
        " 'GR61': 13.340007110495355,\n",
        " 'FGR6': 13.205182470653133,\n",
        " 'GR36': 13.184412498290287,\n",
        " 'GR38': 13.333787830890536,\n",
        " 'GR13': 13.040596423880979,\n",
        " 'FGR13': 12.673641570447462,\n",
        " 'GR7': 12.956723377422328}"
       ]
      }
     ],
     "prompt_number": 37
    },
    {
     "cell_type": "code",
     "collapsed": false,
     "input": [],
     "language": "python",
     "metadata": {},
     "outputs": []
    }
   ],
   "metadata": {}
  }
 ]
}