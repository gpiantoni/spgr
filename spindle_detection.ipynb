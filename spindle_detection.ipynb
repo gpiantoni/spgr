{
 "metadata": {
  "name": "",
  "signature": "sha256:92978cc8b0936251df95d73682e77dcfc11c38e3f34450b2cb61cbef31793bfe"
 },
 "nbformat": 3,
 "nbformat_minor": 0,
 "worksheets": [
  {
   "cells": [
    {
     "cell_type": "heading",
     "level": 1,
     "metadata": {},
     "source": [
      "SPGR"
     ]
    },
    {
     "cell_type": "code",
     "collapsed": false,
     "input": [
      "import version_control"
     ],
     "language": "python",
     "metadata": {},
     "outputs": [
      {
       "output_type": "stream",
       "stream": "stdout",
       "text": [
        "Last run on cashlab03-deb at 2014-11-07 18:18:39.706530\n",
        "\n",
        "Phypno Version: dccc0842a421795c4f8c2b404cd4ae33bc189ef3\n",
        "\n",
        "Jinja2==2.7.3, Markdown==2.5.1, MarkupSafe==0.23, Pillow==2.6.1, PyOpenGL==3.1.0, Pygments==1.6, Sphinx==1.2.3, certifi==14.05.14, decorator==3.4.0, docutils==0.12, easydev==0.7.4, h5py==2.3.1, ipython==2.3.0, matplotlib==1.4.2, memory-profiler==0.32, mne==0.8.6, networkx==1.9.1, nibabel==1.4.0dev, nitime==0.5, nose==1.3.4, numpy==1.9.1, numpydoc==0.5, ordereddict==1.1, pep8==1.5.7, psutil==2.1.3, pycurl==7.19.5, pyflakes==0.8.1, pyparsing==2.0.3, python-dateutil==2.2, python-igraph==0.7, pytz==2014.9, pyzmq==14.4.1, rope-py3k==0.9.4-1, scikit-learn==0.15.2, scipy==0.14.0, six==1.8.0, sphinxcontrib-napoleon==0.2.8, spyder==2.3.1, tornado==4.0.2, visvis==1.9.1, xmltodict==0.9.0, "
       ]
      },
      {
       "output_type": "stream",
       "stream": "stdout",
       "text": [
        "\n"
       ]
      }
     ],
     "prompt_number": 1
    },
    {
     "cell_type": "code",
     "collapsed": false,
     "input": [
      "from spgr import lg\n",
      "lg.setLevel(10)\n",
      "from multiprocessing import set_start_method\n",
      "set_start_method('forkserver')"
     ],
     "language": "python",
     "metadata": {},
     "outputs": [],
     "prompt_number": 2
    },
    {
     "cell_type": "heading",
     "level": 2,
     "metadata": {},
     "source": [
      "Spindle Detection"
     ]
    },
    {
     "cell_type": "code",
     "collapsed": false,
     "input": [
      "from os import listdir\n",
      "from spgr.read_data import DATA_DIR\n",
      "\n",
      "all_subj = sorted(listdir(DATA_DIR))\n",
      "print('\\t'.join(all_subj))"
     ],
     "language": "python",
     "metadata": {},
     "outputs": [
      {
       "output_type": "stream",
       "stream": "stdout",
       "text": [
        "EM09\tMG17\tMG33\tMG37\tMG61\tMG63\n"
       ]
      }
     ],
     "prompt_number": 3
    },
    {
     "cell_type": "code",
     "collapsed": false,
     "input": [
      "hemi_subj = {'EM09': 'rh', \n",
      "             'MG17': 'rh',\n",
      "             'MG33': 'lh',\n",
      "             'MG37': 'lh',\n",
      "             'MG61': 'lh',\n",
      "             'MG63': 'rh',\n",
      "             }"
     ],
     "language": "python",
     "metadata": {},
     "outputs": [],
     "prompt_number": 4
    },
    {
     "cell_type": "code",
     "collapsed": false,
     "input": [
      "camera = {'loc': (30, -16.1, 16.2), 'elevation': 0, 'zoom': 0.0077, 'azimuth': 90}"
     ],
     "language": "python",
     "metadata": {},
     "outputs": [],
     "prompt_number": 5
    },
    {
     "cell_type": "code",
     "collapsed": false,
     "input": [
      "from copy import deepcopy\n",
      "from os.path import join\n",
      "\n",
      "from IPython.display import HTML, Image"
     ],
     "language": "python",
     "metadata": {},
     "outputs": [],
     "prompt_number": 6
    },
    {
     "cell_type": "code",
     "collapsed": false,
     "input": [
      "from phypno.attr import Freesurfer, Channels\n",
      "from phypno.detect import DetectSpindle\n",
      "from phypno.source import Linear, Morph\n",
      "\n",
      "from phypno.viz.plot_3d import Viz3, screenshot"
     ],
     "language": "python",
     "metadata": {},
     "outputs": [
      {
       "output_type": "stream",
       "stream": "stderr",
       "text": [
        "/home/gio/tools/venv/lib/python3.4/site-packages/visvis/processing/calculateNormals.py:14: DeprecationWarning: using a non-integer number instead of an integer will result in an error in the future\n",
        "  faces = np.arange(N); faces.shape = len(v)/3,3\n"
       ]
      }
     ],
     "prompt_number": 7
    },
    {
     "cell_type": "code",
     "collapsed": false,
     "input": [
      "from spgr.read_data import DATA_DIR, REC_DIR, FS_PATH, ELEC_PATH, get_data, GROUP_DIR, get_chan_used_in_analysis\n",
      "from spgr.detect_spindles import calc_spindle_values\n",
      "from spgr.plot_spindles import show_movies"
     ],
     "language": "python",
     "metadata": {},
     "outputs": [],
     "prompt_number": 8
    },
    {
     "cell_type": "markdown",
     "metadata": {},
     "source": [
      "Spindles were detected using previously described methods [@Nir2011].\n",
      "The signal was filtered between 9 and 15 Hz and the duration was between 0.5 and 2s.\n",
      "For each putative spindle, we computed the power spectrum and identified the peak.\n",
      "The peak had to be between 9 and 15 Hz, to avoid transient activity with power in multiple frequency bands."
     ]
    },
    {
     "cell_type": "code",
     "collapsed": false,
     "input": [
      "LIMITS = (9, 16)\n",
      "\n",
      "detsp = DetectSpindle(method='Nir2011', frequency=LIMITS, duration=(0.5, 2))"
     ],
     "language": "python",
     "metadata": {},
     "outputs": [],
     "prompt_number": 9
    },
    {
     "cell_type": "markdown",
     "metadata": {},
     "source": [
      "For each electrode and each participant, we computed the number of spindles in that electrode.\n",
      "In addition, we computed the average peak in the frequency domain for all the spindles at one electrode."
     ]
    },
    {
     "cell_type": "code",
     "collapsed": false,
     "input": [
      "count_dir = join(GROUP_DIR, 'detected_count')\n",
      "freq_dir = join(GROUP_DIR, 'detected_frequency')"
     ],
     "language": "python",
     "metadata": {},
     "outputs": [],
     "prompt_number": 10
    },
    {
     "cell_type": "code",
     "collapsed": false,
     "input": [
      "STD = 10\n",
      "THRESHOLD = 20"
     ],
     "language": "python",
     "metadata": {},
     "outputs": [],
     "prompt_number": 11
    },
    {
     "cell_type": "code",
     "collapsed": false,
     "input": [
      "all_count = []\n",
      "all_freq = []\n",
      "\n",
      "for subj in all_subj:\n",
      "    data = get_data(subj, 'sleep', ('grid', ), reref='avg', resample_freq=128)\n",
      "    chan = get_chan_used_in_analysis(subj, 'sleep', ('grid', ), reref='avg', resample_freq=None)[1]\n",
      "    fs = Freesurfer(join(REC_DIR, subj, FS_PATH))\n",
      "    surf = fs.read_surf(hemi_subj[subj])\n",
      "    l = Linear(surf, chan, std=STD, threshold=THRESHOLD)\n",
      "    \n",
      "    spindles = calc_spindle_values(data, detsp, parallel='pool')\n",
      "    spindles = spindles(lambda x: LIMITS[0] <= x['peak_freq'] <= LIMITS[1])\n",
      "    dat_count = spindles.to_data('count')\n",
      "    dat_count.data[0] = dat_count.data[0] / data.number_of('trial') * (data.axis['time'][0][-1] - data.axis['time'][0][0])\n",
      "    dat_freq = spindles.to_data('peak_freq')\n",
      "    \n",
      "    if hemi_subj[subj] == 'lh':\n",
      "        for one_chan in chan.chan:\n",
      "            one_chan.xyz *= (-1, 1, 1)\n",
      "    surf = fs.read_surf('rh')\n",
      "    l = Linear(surf, chan, std=STD, threshold=THRESHOLD)\n",
      "    m = Morph(surf)\n",
      "\n",
      "    all_count.append(m(l(dat_count)))\n",
      "    all_freq.append(m(l(dat_freq)))"
     ],
     "language": "python",
     "metadata": {},
     "outputs": [
      {
       "output_type": "stream",
       "stream": "stderr",
       "text": [
        "INFO:/home/gio/projects/spgr/scripts/spgr/read_data.py:Subj EM09, reading data: EM09_sleep_grid_hp010_lp400_avg_rs128.pkl\n"
       ]
      },
      {
       "output_type": "stream",
       "stream": "stderr",
       "text": [
        "/home/gio/tools/phypno/phypno/attr/chan.py:81: ResourceWarning: unclosed file <_io.TextIOWrapper name='/home/gio/recordings/EM09/doc/elec/EM09_elec_pos-names_sessA.csv' mode='r' encoding='UTF-8'>\n",
        "  num_lines = sum(1 for line in open(elec_file))\n",
        "INFO:/home/gio/projects/spgr/scripts/spgr/read_data.py:EM09 analysis chan 69, with location 69\n"
       ]
      },
      {
       "output_type": "stream",
       "stream": "stdout",
       "text": [
        "Morphing data...\n"
       ]
      },
      {
       "output_type": "stream",
       "stream": "stdout",
       "text": [
        "Triangle file: b'created by greve on Thu Jun  8 19:17:51 2006' nvert = 163842 ntri = 327680\n"
       ]
      },
      {
       "output_type": "stream",
       "stream": "stdout",
       "text": [
        "Triangle file: b'created by greve on Thu Jun  8 19:17:51 2006' nvert = 163842 ntri = 327680\n"
       ]
      },
      {
       "output_type": "stream",
       "stream": "stdout",
       "text": [
        "Triangle file: b'created by gio on Fri Apr  4 19:00:54 2014' nvert = 171672 ntri = 343340\n"
       ]
      },
      {
       "output_type": "stream",
       "stream": "stdout",
       "text": [
        "Triangle file: b'created by gio on Fri Apr  4 21:09:46 2014' nvert = 158992 ntri = 317980\n"
       ]
      },
      {
       "output_type": "stream",
       "stream": "stdout",
       "text": [
        "    Left-hemisphere map read.\n"
       ]
      },
      {
       "output_type": "stream",
       "stream": "stdout",
       "text": [
        "    Right-hemisphere map read.\n"
       ]
      },
      {
       "output_type": "stream",
       "stream": "stdout",
       "text": [
        "    1 smooth iterations done.\n"
       ]
      },
      {
       "output_type": "stream",
       "stream": "stdout",
       "text": [
        "[done]\n"
       ]
      },
      {
       "output_type": "stream",
       "stream": "stdout",
       "text": [
        "Morphing data...\n"
       ]
      },
      {
       "output_type": "stream",
       "stream": "stdout",
       "text": [
        "Triangle file: b'created by greve on Thu Jun  8 19:17:51 2006' nvert = 163842 ntri = 327680\n"
       ]
      },
      {
       "output_type": "stream",
       "stream": "stdout",
       "text": [
        "Triangle file: b'created by greve on Thu Jun  8 19:17:51 2006' nvert = 163842 ntri = 327680\n"
       ]
      },
      {
       "output_type": "stream",
       "stream": "stdout",
       "text": [
        "Triangle file: b'created by gio on Fri Apr  4 19:00:54 2014' nvert = 171672 ntri = 343340\n"
       ]
      },
      {
       "output_type": "stream",
       "stream": "stdout",
       "text": [
        "Triangle file: b'created by gio on Fri Apr  4 21:09:46 2014' nvert = 158992 ntri = 317980\n"
       ]
      },
      {
       "output_type": "stream",
       "stream": "stdout",
       "text": [
        "    Left-hemisphere map read.\n"
       ]
      },
      {
       "output_type": "stream",
       "stream": "stdout",
       "text": [
        "    Right-hemisphere map read.\n"
       ]
      },
      {
       "output_type": "stream",
       "stream": "stdout",
       "text": [
        "    1 smooth iterations done.\n"
       ]
      },
      {
       "output_type": "stream",
       "stream": "stdout",
       "text": [
        "[done]\n"
       ]
      },
      {
       "output_type": "stream",
       "stream": "stderr",
       "text": [
        "INFO:/home/gio/projects/spgr/scripts/spgr/read_data.py:Subj MG17, reading data: MG17_sleep_grid_hp010_lp400_avg_rs128.pkl\n"
       ]
      },
      {
       "output_type": "stream",
       "stream": "stderr",
       "text": [
        "/home/gio/tools/phypno/phypno/attr/chan.py:81: ResourceWarning: unclosed file <_io.TextIOWrapper name='/home/gio/recordings/MG17/doc/elec/MG17_elec_pos-names_sessA.csv' mode='r' encoding='UTF-8'>\n",
        "  num_lines = sum(1 for line in open(elec_file))\n",
        "INFO:/home/gio/projects/spgr/scripts/spgr/read_data.py:MG17 analysis chan 93, with location 93\n"
       ]
      },
      {
       "output_type": "stream",
       "stream": "stdout",
       "text": [
        "Morphing data...\n"
       ]
      },
      {
       "output_type": "stream",
       "stream": "stdout",
       "text": [
        "Triangle file: b'created by greve on Thu Jun  8 19:17:51 2006' nvert = 163842 ntri = 327680\n"
       ]
      },
      {
       "output_type": "stream",
       "stream": "stdout",
       "text": [
        "Triangle file: b'created by greve on Thu Jun  8 19:17:51 2006' nvert = 163842 ntri = 327680\n"
       ]
      },
      {
       "output_type": "stream",
       "stream": "stdout",
       "text": [
        "Triangle file: b'created by gio on Wed Dec  4 10:58:01 2013' nvert = 118351 ntri = 236698\n"
       ]
      },
      {
       "output_type": "stream",
       "stream": "stdout",
       "text": [
        "Triangle file: b'created by gio on Wed Dec  4 13:03:36 2013' nvert = 107919 ntri = 215834\n"
       ]
      },
      {
       "output_type": "stream",
       "stream": "stdout",
       "text": [
        "    Left-hemisphere map read.\n"
       ]
      },
      {
       "output_type": "stream",
       "stream": "stdout",
       "text": [
        "    Right-hemisphere map read.\n"
       ]
      },
      {
       "output_type": "stream",
       "stream": "stdout",
       "text": [
        "    1 smooth iterations done.\n"
       ]
      },
      {
       "output_type": "stream",
       "stream": "stdout",
       "text": [
        "[done]\n"
       ]
      },
      {
       "output_type": "stream",
       "stream": "stdout",
       "text": [
        "Morphing data...\n"
       ]
      },
      {
       "output_type": "stream",
       "stream": "stdout",
       "text": [
        "Triangle file: b'created by greve on Thu Jun  8 19:17:51 2006' nvert = 163842 ntri = 327680\n"
       ]
      },
      {
       "output_type": "stream",
       "stream": "stdout",
       "text": [
        "Triangle file: b'created by greve on Thu Jun  8 19:17:51 2006' nvert = 163842 ntri = 327680\n"
       ]
      },
      {
       "output_type": "stream",
       "stream": "stdout",
       "text": [
        "Triangle file: b'created by gio on Wed Dec  4 10:58:01 2013' nvert = 118351 ntri = 236698\n"
       ]
      },
      {
       "output_type": "stream",
       "stream": "stdout",
       "text": [
        "Triangle file: b'created by gio on Wed Dec  4 13:03:36 2013' nvert = 107919 ntri = 215834\n"
       ]
      },
      {
       "output_type": "stream",
       "stream": "stdout",
       "text": [
        "    Left-hemisphere map read.\n"
       ]
      },
      {
       "output_type": "stream",
       "stream": "stdout",
       "text": [
        "    Right-hemisphere map read.\n"
       ]
      },
      {
       "output_type": "stream",
       "stream": "stdout",
       "text": [
        "    1 smooth iterations done.\n"
       ]
      },
      {
       "output_type": "stream",
       "stream": "stdout",
       "text": [
        "[done]\n"
       ]
      },
      {
       "output_type": "stream",
       "stream": "stderr",
       "text": [
        "INFO:/home/gio/projects/spgr/scripts/spgr/read_data.py:Subj MG33, reading data: MG33_sleep_grid_hp010_lp400_avg_rs128.pkl\n"
       ]
      },
      {
       "output_type": "stream",
       "stream": "stderr",
       "text": [
        "/home/gio/tools/phypno/phypno/attr/chan.py:81: ResourceWarning: unclosed file <_io.TextIOWrapper name='/home/gio/recordings/MG33/doc/elec/MG33_elec_pos-names_sessA.csv' mode='r' encoding='UTF-8'>\n",
        "  num_lines = sum(1 for line in open(elec_file))\n",
        "INFO:/home/gio/projects/spgr/scripts/spgr/read_data.py:MG33 analysis chan 64, with location 64\n"
       ]
      },
      {
       "output_type": "stream",
       "stream": "stdout",
       "text": [
        "Morphing data...\n"
       ]
      },
      {
       "output_type": "stream",
       "stream": "stdout",
       "text": [
        "Triangle file: b'created by greve on Thu Jun  8 19:17:51 2006' nvert = 163842 ntri = 327680\n"
       ]
      },
      {
       "output_type": "stream",
       "stream": "stdout",
       "text": [
        "Triangle file: b'created by greve on Thu Jun  8 19:17:51 2006' nvert = 163842 ntri = 327680\n"
       ]
      },
      {
       "output_type": "stream",
       "stream": "stdout",
       "text": [
        "Triangle file: b'created by gio on Thu Dec  5 10:36:24 2013' nvert = 125574 ntri = 251144\n"
       ]
      },
      {
       "output_type": "stream",
       "stream": "stdout",
       "text": [
        "Triangle file: b'created by gio on Thu Dec  5 13:17:36 2013' nvert = 138978 ntri = 277952\n"
       ]
      },
      {
       "output_type": "stream",
       "stream": "stdout",
       "text": [
        "    Left-hemisphere map read.\n"
       ]
      },
      {
       "output_type": "stream",
       "stream": "stdout",
       "text": [
        "    Right-hemisphere map read.\n"
       ]
      },
      {
       "output_type": "stream",
       "stream": "stdout",
       "text": [
        "    1 smooth iterations done.\n"
       ]
      },
      {
       "output_type": "stream",
       "stream": "stdout",
       "text": [
        "[done]\n"
       ]
      },
      {
       "output_type": "stream",
       "stream": "stdout",
       "text": [
        "Morphing data...\n"
       ]
      },
      {
       "output_type": "stream",
       "stream": "stdout",
       "text": [
        "Triangle file: b'created by greve on Thu Jun  8 19:17:51 2006' nvert = 163842 ntri = 327680\n"
       ]
      },
      {
       "output_type": "stream",
       "stream": "stdout",
       "text": [
        "Triangle file: b'created by greve on Thu Jun  8 19:17:51 2006' nvert = 163842 ntri = 327680\n"
       ]
      },
      {
       "output_type": "stream",
       "stream": "stdout",
       "text": [
        "Triangle file: b'created by gio on Thu Dec  5 10:36:24 2013' nvert = 125574 ntri = 251144\n"
       ]
      },
      {
       "output_type": "stream",
       "stream": "stdout",
       "text": [
        "Triangle file: b'created by gio on Thu Dec  5 13:17:36 2013' nvert = 138978 ntri = 277952\n"
       ]
      },
      {
       "output_type": "stream",
       "stream": "stdout",
       "text": [
        "    Left-hemisphere map read.\n"
       ]
      },
      {
       "output_type": "stream",
       "stream": "stdout",
       "text": [
        "    Right-hemisphere map read.\n"
       ]
      },
      {
       "output_type": "stream",
       "stream": "stdout",
       "text": [
        "    1 smooth iterations done.\n"
       ]
      },
      {
       "output_type": "stream",
       "stream": "stdout",
       "text": [
        "[done]\n"
       ]
      },
      {
       "output_type": "stream",
       "stream": "stderr",
       "text": [
        "INFO:/home/gio/projects/spgr/scripts/spgr/read_data.py:Subj MG37, reading data: MG37_sleep_grid_hp010_lp400_avg_rs128.pkl\n"
       ]
      },
      {
       "output_type": "stream",
       "stream": "stderr",
       "text": [
        "/home/gio/tools/phypno/phypno/attr/chan.py:81: ResourceWarning: unclosed file <_io.TextIOWrapper name='/home/gio/recordings/MG37/doc/elec/MG37_elec_pos-names_sessA.csv' mode='r' encoding='UTF-8'>\n",
        "  num_lines = sum(1 for line in open(elec_file))\n",
        "INFO:/home/gio/projects/spgr/scripts/spgr/read_data.py:MG37 analysis chan 78, with location 78\n"
       ]
      },
      {
       "output_type": "stream",
       "stream": "stdout",
       "text": [
        "Morphing data...\n"
       ]
      },
      {
       "output_type": "stream",
       "stream": "stdout",
       "text": [
        "Triangle file: b'created by greve on Thu Jun  8 19:17:51 2006' nvert = 163842 ntri = 327680\n"
       ]
      },
      {
       "output_type": "stream",
       "stream": "stdout",
       "text": [
        "Triangle file: b'created by greve on Thu Jun  8 19:17:51 2006' nvert = 163842 ntri = 327680\n"
       ]
      },
      {
       "output_type": "stream",
       "stream": "stdout",
       "text": [
        "Triangle file: b'created by gio on Thu Mar 13 17:44:21 2014' nvert = 151279 ntri = 302554\n"
       ]
      },
      {
       "output_type": "stream",
       "stream": "stdout",
       "text": [
        "Triangle file: b'created by gio on Thu Mar 13 18:54:03 2014' nvert = 154198 ntri = 308392\n"
       ]
      },
      {
       "output_type": "stream",
       "stream": "stdout",
       "text": [
        "    Left-hemisphere map read.\n"
       ]
      },
      {
       "output_type": "stream",
       "stream": "stdout",
       "text": [
        "    Right-hemisphere map read.\n"
       ]
      },
      {
       "output_type": "stream",
       "stream": "stdout",
       "text": [
        "    1 smooth iterations done.\n"
       ]
      },
      {
       "output_type": "stream",
       "stream": "stdout",
       "text": [
        "[done]\n"
       ]
      },
      {
       "output_type": "stream",
       "stream": "stdout",
       "text": [
        "Morphing data...\n"
       ]
      },
      {
       "output_type": "stream",
       "stream": "stdout",
       "text": [
        "Triangle file: b'created by greve on Thu Jun  8 19:17:51 2006' nvert = 163842 ntri = 327680\n"
       ]
      },
      {
       "output_type": "stream",
       "stream": "stdout",
       "text": [
        "Triangle file: b'created by greve on Thu Jun  8 19:17:51 2006' nvert = 163842 ntri = 327680\n"
       ]
      },
      {
       "output_type": "stream",
       "stream": "stdout",
       "text": [
        "Triangle file: b'created by gio on Thu Mar 13 17:44:21 2014' nvert = 151279 ntri = 302554\n"
       ]
      },
      {
       "output_type": "stream",
       "stream": "stdout",
       "text": [
        "Triangle file: b'created by gio on Thu Mar 13 18:54:03 2014' nvert = 154198 ntri = 308392\n"
       ]
      },
      {
       "output_type": "stream",
       "stream": "stdout",
       "text": [
        "    Left-hemisphere map read.\n"
       ]
      },
      {
       "output_type": "stream",
       "stream": "stdout",
       "text": [
        "    Right-hemisphere map read.\n"
       ]
      },
      {
       "output_type": "stream",
       "stream": "stdout",
       "text": [
        "    1 smooth iterations done.\n"
       ]
      },
      {
       "output_type": "stream",
       "stream": "stdout",
       "text": [
        "[done]\n"
       ]
      },
      {
       "output_type": "stream",
       "stream": "stderr",
       "text": [
        "INFO:/home/gio/projects/spgr/scripts/spgr/read_data.py:Subj MG61, reading data: MG61_sleep_grid_hp010_lp400_avg_rs128.pkl\n"
       ]
      },
      {
       "output_type": "stream",
       "stream": "stderr",
       "text": [
        "/home/gio/tools/phypno/phypno/attr/chan.py:81: ResourceWarning: unclosed file <_io.TextIOWrapper name='/home/gio/recordings/MG61/doc/elec/MG61_elec_pos-names_sessA.csv' mode='r' encoding='UTF-8'>\n",
        "  num_lines = sum(1 for line in open(elec_file))\n",
        "INFO:/home/gio/projects/spgr/scripts/spgr/read_data.py:MG61 analysis chan 93, with location 93\n"
       ]
      },
      {
       "output_type": "stream",
       "stream": "stdout",
       "text": [
        "Morphing data...\n"
       ]
      },
      {
       "output_type": "stream",
       "stream": "stdout",
       "text": [
        "Triangle file: b'created by greve on Thu Jun  8 19:17:51 2006' nvert = 163842 ntri = 327680\n"
       ]
      },
      {
       "output_type": "stream",
       "stream": "stdout",
       "text": [
        "Triangle file: b'created by greve on Thu Jun  8 19:17:51 2006' nvert = 163842 ntri = 327680\n"
       ]
      },
      {
       "output_type": "stream",
       "stream": "stdout",
       "text": [
        "Triangle file: b'created by gio on Wed Dec  4 10:53:47 2013' nvert = 104599 ntri = 209194\n"
       ]
      },
      {
       "output_type": "stream",
       "stream": "stdout",
       "text": [
        "Triangle file: b'created by gio on Wed Dec  4 13:15:03 2013' nvert = 135906 ntri = 271808\n"
       ]
      },
      {
       "output_type": "stream",
       "stream": "stdout",
       "text": [
        "    Left-hemisphere map read.\n"
       ]
      },
      {
       "output_type": "stream",
       "stream": "stdout",
       "text": [
        "    Right-hemisphere map read.\n"
       ]
      },
      {
       "output_type": "stream",
       "stream": "stdout",
       "text": [
        "    1 smooth iterations done.\n"
       ]
      },
      {
       "output_type": "stream",
       "stream": "stdout",
       "text": [
        "[done]\n"
       ]
      },
      {
       "output_type": "stream",
       "stream": "stdout",
       "text": [
        "Morphing data...\n"
       ]
      },
      {
       "output_type": "stream",
       "stream": "stdout",
       "text": [
        "Triangle file: b'created by greve on Thu Jun  8 19:17:51 2006' nvert = 163842 ntri = 327680\n"
       ]
      },
      {
       "output_type": "stream",
       "stream": "stdout",
       "text": [
        "Triangle file: b'created by greve on Thu Jun  8 19:17:51 2006' nvert = 163842 ntri = 327680\n"
       ]
      },
      {
       "output_type": "stream",
       "stream": "stdout",
       "text": [
        "Triangle file: b'created by gio on Wed Dec  4 10:53:47 2013' nvert = 104599 ntri = 209194\n"
       ]
      },
      {
       "output_type": "stream",
       "stream": "stdout",
       "text": [
        "Triangle file: b'created by gio on Wed Dec  4 13:15:03 2013' nvert = 135906 ntri = 271808\n"
       ]
      },
      {
       "output_type": "stream",
       "stream": "stdout",
       "text": [
        "    Left-hemisphere map read.\n"
       ]
      },
      {
       "output_type": "stream",
       "stream": "stdout",
       "text": [
        "    Right-hemisphere map read.\n"
       ]
      },
      {
       "output_type": "stream",
       "stream": "stdout",
       "text": [
        "    1 smooth iterations done.\n"
       ]
      },
      {
       "output_type": "stream",
       "stream": "stdout",
       "text": [
        "[done]\n"
       ]
      },
      {
       "output_type": "stream",
       "stream": "stderr",
       "text": [
        "INFO:/home/gio/projects/spgr/scripts/spgr/read_data.py:Subj MG63, reading data: MG63_sleep_grid_hp010_lp400_avg_rs128.pkl\n"
       ]
      },
      {
       "output_type": "stream",
       "stream": "stderr",
       "text": [
        "/home/gio/tools/phypno/phypno/attr/chan.py:81: ResourceWarning: unclosed file <_io.TextIOWrapper name='/home/gio/recordings/MG63/doc/elec/MG63_elec_pos-names_sessA.csv' mode='r' encoding='UTF-8'>\n",
        "  num_lines = sum(1 for line in open(elec_file))\n",
        "INFO:/home/gio/projects/spgr/scripts/spgr/read_data.py:MG63 analysis chan 93, with location 93\n"
       ]
      },
      {
       "output_type": "stream",
       "stream": "stdout",
       "text": [
        "Morphing data...\n"
       ]
      },
      {
       "output_type": "stream",
       "stream": "stdout",
       "text": [
        "Triangle file: b'created by greve on Thu Jun  8 19:17:51 2006' nvert = 163842 ntri = 327680\n"
       ]
      },
      {
       "output_type": "stream",
       "stream": "stdout",
       "text": [
        "Triangle file: b'created by greve on Thu Jun  8 19:17:51 2006' nvert = 163842 ntri = 327680\n"
       ]
      },
      {
       "output_type": "stream",
       "stream": "stdout",
       "text": [
        "Triangle file: b'created by gio on Fri Dec  6 17:49:39 2013' nvert = 136748 ntri = 273492\n"
       ]
      },
      {
       "output_type": "stream",
       "stream": "stdout",
       "text": [
        "Triangle file: b'created by gio on Fri Dec  6 18:59:10 2013' nvert = 134194 ntri = 268384\n"
       ]
      },
      {
       "output_type": "stream",
       "stream": "stdout",
       "text": [
        "    Left-hemisphere map read.\n"
       ]
      },
      {
       "output_type": "stream",
       "stream": "stdout",
       "text": [
        "    Right-hemisphere map read.\n"
       ]
      },
      {
       "output_type": "stream",
       "stream": "stdout",
       "text": [
        "    1 smooth iterations done.\n"
       ]
      },
      {
       "output_type": "stream",
       "stream": "stdout",
       "text": [
        "[done]\n"
       ]
      },
      {
       "output_type": "stream",
       "stream": "stdout",
       "text": [
        "Morphing data...\n"
       ]
      },
      {
       "output_type": "stream",
       "stream": "stdout",
       "text": [
        "Triangle file: b'created by greve on Thu Jun  8 19:17:51 2006' nvert = 163842 ntri = 327680\n"
       ]
      },
      {
       "output_type": "stream",
       "stream": "stdout",
       "text": [
        "Triangle file: b'created by greve on Thu Jun  8 19:17:51 2006' nvert = 163842 ntri = 327680\n"
       ]
      },
      {
       "output_type": "stream",
       "stream": "stdout",
       "text": [
        "Triangle file: b'created by gio on Fri Dec  6 17:49:39 2013' nvert = 136748 ntri = 273492\n"
       ]
      },
      {
       "output_type": "stream",
       "stream": "stdout",
       "text": [
        "Triangle file: b'created by gio on Fri Dec  6 18:59:10 2013' nvert = 134194 ntri = 268384\n"
       ]
      },
      {
       "output_type": "stream",
       "stream": "stdout",
       "text": [
        "    Left-hemisphere map read.\n"
       ]
      },
      {
       "output_type": "stream",
       "stream": "stdout",
       "text": [
        "    Right-hemisphere map read.\n"
       ]
      },
      {
       "output_type": "stream",
       "stream": "stdout",
       "text": [
        "    1 smooth iterations done.\n"
       ]
      },
      {
       "output_type": "stream",
       "stream": "stdout",
       "text": [
        "[done]\n"
       ]
      }
     ],
     "prompt_number": 12
    },
    {
     "cell_type": "heading",
     "level": 3,
     "metadata": {},
     "source": [
      "Spindle Density"
     ]
    },
    {
     "cell_type": "markdown",
     "metadata": {},
     "source": [
      "Activity was projected onto the cortical surface calculated with Freesurfer.\n",
      "Using freesurfer utilities, the activity was averaged on the cortical surface.\n",
      "Activity on the left side was flipped over to the right side, so that the summary is shown on one hemisphere."
     ]
    },
    {
     "cell_type": "code",
     "collapsed": false,
     "input": [
      "from numpy import asarray, NaN, nanmean"
     ],
     "language": "python",
     "metadata": {},
     "outputs": [],
     "prompt_number": 13
    },
    {
     "cell_type": "code",
     "collapsed": false,
     "input": [
      "for x in all_count:\n",
      "    x.data[0][x.data[0] < 0.001] = NaN\n",
      "avg_count = deepcopy(all_count[0])\n",
      "avg_count.data[0] = nanmean(asarray([x.data[0] for x in all_count]), axis=0)"
     ],
     "language": "python",
     "metadata": {},
     "outputs": [
      {
       "output_type": "stream",
       "stream": "stderr",
       "text": [
        "-c:2: RuntimeWarning: invalid value encountered in less\n",
        "/home/gio/tools/venv/lib/python3.4/site-packages/numpy/lib/nanfunctions.py:598: RuntimeWarning: Mean of empty slice\n",
        "  warnings.warn(\"Mean of empty slice\", RuntimeWarning)\n"
       ]
      }
     ],
     "prompt_number": 14
    },
    {
     "cell_type": "code",
     "collapsed": false,
     "input": [
      "fs_avg = Freesurfer('/opt/freesurfer/subjects/fsaverage')\n",
      "surf_avg = fs_avg.read_surf('rh', surf_type='pial')"
     ],
     "language": "python",
     "metadata": {},
     "outputs": [],
     "prompt_number": 15
    },
    {
     "cell_type": "code",
     "collapsed": false,
     "input": [
      "v = Viz3()\n",
      "v.add_surf(surf_avg, values=avg_count(trial=0)[163842:], limits=(0, 20))\n",
      "v._ax.camera.loc = camera['loc']\n",
      "v._ax.camera.elevation = camera['elevation']\n",
      "v._ax.camera.zoom = camera['zoom']\n",
      "v._ax.camera.azimuth = camera['azimuth']\n",
      "v._fig.DrawNow()"
     ],
     "language": "python",
     "metadata": {},
     "outputs": [
      {
       "output_type": "stream",
       "stream": "stderr",
       "text": [
        "/home/gio/tools/venv/lib/python3.4/site-packages/visvis/wobjects/polygonalModeling.py:402: DeprecationWarning: using a non-integer number instead of an integer will result in an error in the future\n",
        "  return faces.reshape((Nfaces, vpf))\n",
        "/home/gio/tools/venv/lib/python3.4/site-packages/visvis/processing/calculateNormals.py:71: RuntimeWarning: invalid value encountered in true_divide\n",
        "  normals[:,0] /= lengths\n",
        "/home/gio/tools/venv/lib/python3.4/site-packages/visvis/processing/calculateNormals.py:72: RuntimeWarning: invalid value encountered in true_divide\n",
        "  normals[:,1] /= lengths\n",
        "/home/gio/tools/venv/lib/python3.4/site-packages/visvis/processing/calculateNormals.py:73: RuntimeWarning: invalid value encountered in true_divide\n",
        "  normals[:,2] /= lengths\n"
       ]
      }
     ],
     "prompt_number": 16
    },
    {
     "cell_type": "code",
     "collapsed": false,
     "input": [
      "screenshot(join(count_dir, 'fsaverage.png'), v._ax, sf=2)\n",
      "v._fig.Destroy()"
     ],
     "language": "python",
     "metadata": {},
     "outputs": [],
     "prompt_number": 17
    },
    {
     "cell_type": "heading",
     "level": 3,
     "metadata": {},
     "source": [
      "Frequency"
     ]
    },
    {
     "cell_type": "code",
     "collapsed": false,
     "input": [
      "for x in all_freq:\n",
      "    x.data[0][x.data[0] < LIMITS[0]] = NaN\n",
      "    x.data[0][x.data[0] > LIMITS[1]] = NaN\n",
      "avg_freq = deepcopy(all_freq[0])\n",
      "avg_freq.data[0] = nanmean(asarray([x.data[0] for x in all_freq]), axis=0)"
     ],
     "language": "python",
     "metadata": {},
     "outputs": [
      {
       "output_type": "stream",
       "stream": "stderr",
       "text": [
        "-c:2: RuntimeWarning: invalid value encountered in less\n",
        "-c:3: RuntimeWarning: invalid value encountered in greater\n",
        "/home/gio/tools/venv/lib/python3.4/site-packages/numpy/lib/nanfunctions.py:598: RuntimeWarning: Mean of empty slice\n",
        "  warnings.warn(\"Mean of empty slice\", RuntimeWarning)\n"
       ]
      }
     ],
     "prompt_number": 18
    },
    {
     "cell_type": "code",
     "collapsed": false,
     "input": [
      "v = Viz3()\n",
      "v.add_surf(surf_avg, values=avg_freq(trial=0)[163842:], limits=(9, 14))\n",
      "v._ax.camera.loc = camera['loc']\n",
      "v._ax.camera.elevation = camera['elevation']\n",
      "v._ax.camera.zoom = camera['zoom']\n",
      "v._ax.camera.azimuth = camera['azimuth']\n",
      "v._fig.DrawNow()\n",
      "screenshot(join(freq_dir, 'fsaverage.png'), v._ax, sf=2)\n",
      "v._fig.Destroy()"
     ],
     "language": "python",
     "metadata": {},
     "outputs": [
      {
       "output_type": "stream",
       "stream": "stderr",
       "text": [
        "/home/gio/tools/venv/lib/python3.4/site-packages/visvis/wobjects/polygonalModeling.py:402: DeprecationWarning: using a non-integer number instead of an integer will result in an error in the future\n",
        "  return faces.reshape((Nfaces, vpf))\n",
        "/home/gio/tools/venv/lib/python3.4/site-packages/visvis/processing/calculateNormals.py:71: RuntimeWarning: invalid value encountered in true_divide\n",
        "  normals[:,0] /= lengths\n",
        "/home/gio/tools/venv/lib/python3.4/site-packages/visvis/processing/calculateNormals.py:72: RuntimeWarning: invalid value encountered in true_divide\n",
        "  normals[:,1] /= lengths\n",
        "/home/gio/tools/venv/lib/python3.4/site-packages/visvis/processing/calculateNormals.py:73: RuntimeWarning: invalid value encountered in true_divide\n",
        "  normals[:,2] /= lengths\n"
       ]
      }
     ],
     "prompt_number": 19
    }
   ],
   "metadata": {}
  }
 ]
}