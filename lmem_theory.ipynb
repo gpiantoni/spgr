{
 "metadata": {
  "name": "",
  "signature": "sha256:2679bd37d7e291fb70736e1197f1a6f86866dcea297d2315c4621172a867dd99"
 },
 "nbformat": 3,
 "nbformat_minor": 0,
 "worksheets": [
  {
   "cells": [
    {
     "cell_type": "heading",
     "level": 1,
     "metadata": {},
     "source": [
      "Linear Mixed-Effects Model for ECoG"
     ]
    },
    {
     "cell_type": "markdown",
     "metadata": {},
     "source": [
      "Linear Mixed-Effects Model (LMEM) are a flexible framework for statistical testing.\n",
      "The best introduction is this appendix ([.pdf](http://cran.r-project.org/doc/contrib/Fox-Companion/appendix-mixed-models.pdf)) by John Fox.\n",
      "There is a brief introduction to the R package in this [.pdf](http://cran.r-project.org/web/packages/lme4/vignettes/lmer.pdf).\n",
      "The reference documentation is in this [.pdf](http://cran.r-project.org/web/packages/lme4/lme4.pdf)."
     ]
    },
    {
     "cell_type": "markdown",
     "metadata": {},
     "source": [
      "The usual example is to test the score of students on a test after studying book A or book B. Students are in different classes, so we need to take into account the variability of each teacher in teaching to the class (or something along these lines).\n",
      "The assumption is that each class has a different \"offset\" in teaching to the students, but these \"offsets\" are normally distributed and are the realization of an abstract population of \"classes\".\n",
      "The framework is so flexible that students in one class might get only book A and students in another class might get only book B, but there are classes that have both. "
     ]
    },
    {
     "cell_type": "markdown",
     "metadata": {},
     "source": [
      "What I'm thinking is to use a similar approach for the values of the ECoG. \n",
      "In this example, every electrode is one student and every patient is one class. \n",
      "We can test if the values of the electrodes in the prefrontal cortex is different from the values of the electrodes in the parietal cortex."
     ]
    },
    {
     "cell_type": "markdown",
     "metadata": {},
     "source": [
      "This is a conceptual example on what I'm thinking about."
     ]
    },
    {
     "cell_type": "code",
     "collapsed": false,
     "input": [
      "%load_ext rmagic "
     ],
     "language": "python",
     "metadata": {},
     "outputs": [],
     "prompt_number": 1
    },
    {
     "cell_type": "markdown",
     "metadata": {},
     "source": [
      "Information about the system to replicate the example:"
     ]
    },
    {
     "cell_type": "code",
     "collapsed": false,
     "input": [
      "%%R\n",
      "library(lme4)\n",
      "library(ggplot2)\n",
      "\n",
      "set.seed(2014)  # set seed to replicate results\n",
      "sessionInfo()"
     ],
     "language": "python",
     "metadata": {},
     "outputs": [
      {
       "metadata": {},
       "output_type": "display_data",
       "text": [
        "Loading required package: Matrix\n",
        "Loading required package: Rcpp\n",
        "R version 3.1.1 (2014-07-10)\n",
        "Platform: x86_64-pc-linux-gnu (64-bit)\n",
        "\n",
        "locale:\n",
        "[1] en_US.UTF-8\n",
        "\n",
        "attached base packages:\n",
        "[1] tools     stats     graphics  grDevices utils     datasets  methods  \n",
        "[8] base     \n",
        "\n",
        "other attached packages:\n",
        "[1] ggplot2_0.9.3.1 lme4_1.1-7      Rcpp_0.11.3     Matrix_1.1-4   \n",
        "\n",
        "loaded via a namespace (and not attached):\n",
        " [1] colorspace_1.2-4   dichromat_2.0-0    digest_0.6.3       grid_3.1.1        \n",
        " [5] gtable_0.1.2       labeling_0.2       lattice_0.20-29    MASS_7.3-34       \n",
        " [9] minqa_1.2.4        munsell_0.4.2      nlme_3.1-117       nloptr_1.0.4      \n",
        "[13] plyr_1.8           proto_0.3-10       RColorBrewer_1.0-5 reshape2_1.2.2    \n",
        "[17] scales_0.2.3       splines_3.1.1      stringr_0.6.2     \n"
       ]
      }
     ],
     "prompt_number": 2
    },
    {
     "cell_type": "heading",
     "level": 2,
     "metadata": {},
     "source": [
      "Example 1"
     ]
    },
    {
     "cell_type": "markdown",
     "metadata": {},
     "source": [
      "I created a simple dataset, with 4 patients. \n",
      "Electrodes can be in the frontal or parietal cortex. \n",
      "One patient has electrodes only in the frontal region and another only in the parietal region."
     ]
    },
    {
     "cell_type": "code",
     "collapsed": false,
     "input": [
      "%%R\n",
      "subj <- c(rep('subj1', 10), rep('subj2', 4), rep('subj3', 8), rep('subj4', 7))\n",
      "region <- c(rep('frontal', 6), rep('parietal', 4),\n",
      "            rep('parietal', 4),\n",
      "            rep('frontal', 8),\n",
      "            rep('frontal', 5), rep('parietal', 2))"
     ],
     "language": "python",
     "metadata": {},
     "outputs": [],
     "prompt_number": 3
    },
    {
     "cell_type": "markdown",
     "metadata": {},
     "source": [
      "Then, we make up some data, where the frontal regions have 1unit more of activity and we add some noise."
     ]
    },
    {
     "cell_type": "code",
     "collapsed": false,
     "input": [
      "%%R\n",
      "noise_level <- 1.5\n",
      "\n",
      "value <- rep(0, length(subj))\n",
      "value[region == 'frontal'] <- 1\n",
      "value[subj == 'subj1'] <- value[subj == 'subj1'] + .2\n",
      "value[subj == 'subj2'] <- value[subj == 'subj2'] - .2\n",
      "value[subj == 'subj3'] <- value[subj == 'subj3'] + .5\n",
      "value[subj == 'subj4'] <- value[subj == 'subj4'] + 0\n",
      "value <- value + rnorm(length(subj)) * noise_level\n",
      "\n",
      "data <- data.frame(subj, region, value)\n",
      "data"
     ],
     "language": "python",
     "metadata": {},
     "outputs": [
      {
       "metadata": {},
       "output_type": "display_data",
       "text": [
        "    subj   region      value\n",
        "1  subj1  frontal  0.3514799\n",
        "2  subj1  frontal  1.6815687\n",
        "3  subj1  frontal  1.3879059\n",
        "4  subj1  frontal  3.2298371\n",
        "5  subj1  frontal -0.7315957\n",
        "6  subj1  frontal  1.6838318\n",
        "7  subj1 parietal  0.6003920\n",
        "8  subj1 parietal  0.7995644\n",
        "9  subj1 parietal  0.8882697\n",
        "10 subj1 parietal  3.4253145\n",
        "11 subj2 parietal  1.4293489\n",
        "12 subj2 parietal -0.1446611\n",
        "13 subj2 parietal  0.3819146\n",
        "14 subj2 parietal -0.4165686\n",
        "15 subj3  frontal  0.4188036\n",
        "16 subj3  frontal  2.8788828\n",
        "17 subj3  frontal  1.2518537\n",
        "18 subj3  frontal  4.2575942\n",
        "19 subj3  frontal  1.7108935\n",
        "20 subj3  frontal  2.4964972\n",
        "21 subj3  frontal  1.6611284\n",
        "22 subj3  frontal  3.1179985\n",
        "23 subj4  frontal  3.1450992\n",
        "24 subj4  frontal  0.5385720\n",
        "25 subj4  frontal  1.1184711\n",
        "26 subj4  frontal  4.7299622\n",
        "27 subj4  frontal  4.1116526\n",
        "28 subj4 parietal  0.4967303\n",
        "29 subj4 parietal -1.8790638\n"
       ]
      }
     ],
     "prompt_number": 4
    },
    {
     "cell_type": "markdown",
     "metadata": {},
     "source": [
      "We can plot data grouped by region or by subject."
     ]
    },
    {
     "cell_type": "code",
     "collapsed": false,
     "input": [
      "%%R\n",
      "p <- ggplot(data, aes(region, value))\n",
      "p + geom_point(aes(color = subj))"
     ],
     "language": "python",
     "metadata": {},
     "outputs": [
      {
       "metadata": {},
       "output_type": "display_data",
       "png": "[encoded data removed]"
      }
     ],
     "prompt_number": 5
    },
    {
     "cell_type": "markdown",
     "metadata": {},
     "source": [
      "Note in this plot that subj2 has only parietal electrodes and subj3 only frontal ones."
     ]
    },
    {
     "cell_type": "code",
     "collapsed": false,
     "input": [
      "%%R\n",
      "p <- ggplot(data, aes(subj, value))\n",
      "p + geom_point(aes(color = region))"
     ],
     "language": "python",
     "metadata": {},
     "outputs": [
      {
       "metadata": {},
       "output_type": "display_data",
       "png": "[encoded data removed]"
      }
     ],
     "prompt_number": 6
    },
    {
     "cell_type": "markdown",
     "metadata": {},
     "source": [
      "Now, we ran the model. \n",
      "The only assumption is that every subject has a different offset.\n",
      "\n",
      "The line that's interesting for us is the \"fixed effects\" where you see the estimate for the \"region/parietal\" (-1.2230).  \n",
      "It's close to -1, suggesting that parietal is one unit less than frontal."
     ]
    },
    {
     "cell_type": "code",
     "collapsed": false,
     "input": [
      "%%R\n",
      "fm1 <- lmer(value ~ region + (1 | subj), data)\n",
      "summary(fm1)"
     ],
     "language": "python",
     "metadata": {},
     "outputs": [
      {
       "metadata": {},
       "output_type": "display_data",
       "text": [
        "Linear mixed model fit by REML ['lmerMod']\n",
        "Formula: value ~ region + (1 | subj)\n",
        "   Data: data\n",
        "\n",
        "REML criterion at convergence: 101.3\n",
        "\n",
        "Scaled residuals: \n",
        "    Min      1Q  Median      3Q     Max \n",
        "-1.9428 -0.5598 -0.1229  0.6075  1.9991 \n",
        "\n",
        "Random effects:\n",
        " Groups   Name        Variance Std.Dev.\n",
        " subj     (Intercept) 0.000    0.000   \n",
        " Residual             2.057    1.434   \n",
        "Number of obs: 29, groups:  subj, 4\n",
        "\n",
        "Fixed effects:\n",
        "               Estimate Std. Error t value\n",
        "(Intercept)      2.0548     0.3290   6.245\n",
        "regionparietal  -1.4966     0.5603  -2.671\n",
        "\n",
        "Correlation of Fixed Effects:\n",
        "            (Intr)\n",
        "regionpartl -0.587\n"
       ]
      }
     ],
     "prompt_number": 10
    },
    {
     "cell_type": "markdown",
     "metadata": {},
     "source": [
      "However, computing p-values is not straightforward because the number of degrees of freedom is not clear.\n",
      "\n",
      "There are a few ways to compute it, depending on the actual research question.\n",
      "This is the simplest way to do it:"
     ]
    },
    {
     "cell_type": "code",
     "collapsed": false,
     "input": [
      "%%R\n",
      "# extract coefficients\n",
      "coefs <- data.frame(coef(summary(fm1)))\n",
      "# use normal distribution to approximate p-value\n",
      "coefs$p.z <- 2 * (1 - pnorm(abs(coefs$t.value)))\n",
      "coefs"
     ],
     "language": "python",
     "metadata": {},
     "outputs": [
      {
       "metadata": {},
       "output_type": "display_data",
       "text": [
        "                Estimate Std..Error   t.value          p.z\n",
        "(Intercept)     2.054760  0.3290310  6.244881 4.241218e-10\n",
        "regionparietal -1.496636  0.5603197 -2.671039 7.561685e-03\n"
       ]
      }
     ],
     "prompt_number": 8
    },
    {
     "cell_type": "markdown",
     "metadata": {},
     "source": [
      "I think that there is something wrong with this example though.\n",
      "The line: \n",
      "> subj     (Intercept) 0.000    0.000\n",
      "\n",
      "should actually give the variability across subjects.\n",
      "I'll need to look into this."
     ]
    },
    {
     "cell_type": "heading",
     "level": 2,
     "metadata": {},
     "source": [
      "Example 2"
     ]
    },
    {
     "cell_type": "markdown",
     "metadata": {},
     "source": [
      "In this example we test the hypothesis that activity is larger as you move towards more posterior regions.\n",
      "\n",
      "We can create some data where there is 1 unit increase for every cm in the anterior-posterior axis (we call it here the \"y_axis\")."
     ]
    },
    {
     "cell_type": "code",
     "collapsed": false,
     "input": [
      "%%R\n",
      "noise_level <- 7\n",
      "\n",
      "subj <- c(rep('subj1', 10), rep('subj2', 4), rep('subj3', 8), rep('subj4', 7))\n",
      "x_pos <- c(seq(10) + 1,\n",
      "             seq(4) + 10,\n",
      "             seq(8) + 4,\n",
      "             seq(7) + 0)\n",
      "value <- x_pos + rnorm(length(subj)) * noise_level\n",
      "data <- data.frame(subj, x_pos, value)\n",
      "data"
     ],
     "language": "python",
     "metadata": {},
     "outputs": []
    },
    {
     "cell_type": "code",
     "collapsed": false,
     "input": [
      "%%R\n",
      "p <- ggplot(data, aes(x_pos, value))\n",
      "p + geom_point(aes(color = subj))"
     ],
     "language": "python",
     "metadata": {},
     "outputs": []
    },
    {
     "cell_type": "markdown",
     "metadata": {},
     "source": [
      "Now we ran the test that the value being measured is dependent on the position on the x-axis (which I called x_pos).\n",
      "\n",
      "Here the estimate is 0.657 for every step on the x-axis, which means that it underestimates the predefined value of 1.\n",
      "Of course, this depends on the noise level."
     ]
    },
    {
     "cell_type": "code",
     "collapsed": false,
     "input": [
      "%%R\n",
      "fm1 <- lmer(value ~ x_pos + (1 | subj), data)\n",
      "summary(fm1)"
     ],
     "language": "python",
     "metadata": {},
     "outputs": []
    },
    {
     "cell_type": "markdown",
     "metadata": {},
     "source": [
      "Again, we can compute the p-value for this parameter."
     ]
    },
    {
     "cell_type": "code",
     "collapsed": false,
     "input": [
      "%%R\n",
      "# extract coefficients\n",
      "coefs <- data.frame(coef(summary(fm1)))\n",
      "# use normal distribution to approximate p-value\n",
      "coefs$p.z <- 2 * (1 - pnorm(abs(coefs$t.value)))\n",
      "coefs"
     ],
     "language": "python",
     "metadata": {},
     "outputs": []
    },
    {
     "cell_type": "heading",
     "level": 2,
     "metadata": {},
     "source": [
      "Example 3"
     ]
    },
    {
     "cell_type": "markdown",
     "metadata": {},
     "source": [
      "We can compare the activity between two conditions, on the same electrodes.\n",
      "\n",
      "This analysis compares if there is a difference between the two conditions, overall. \n",
      "It doesn't take into account if only a subset of electrodes is significant (this might need to be investigated further)."
     ]
    },
    {
     "cell_type": "code",
     "collapsed": false,
     "input": [
      "%%R\n",
      "subj <- c(rep('subj1', 10), rep('subj2', 4), rep('subj3', 8), rep('subj4', 7))\n",
      "elec <- seq(length(subj))\n",
      "cond <- c(rep('baseline', 29), rep('task', 29))\n",
      "\n",
      "noise_level <- 2\n",
      "\n",
      "value <- rep(0, length(cond))\n",
      "value[cond == 'task'] <- 1\n",
      "value <- value + rnorm(length(subj)) * noise_level\n",
      "\n",
      "data <- data.frame(subj=c(subj, subj), elec=c(elec, elec), cond, value)\n",
      "data"
     ],
     "language": "python",
     "metadata": {},
     "outputs": []
    },
    {
     "cell_type": "markdown",
     "metadata": {},
     "source": [
      "I'm not sure what's the best way to define the model, but the results are identical, so I think it doesn't make a difference.\n",
      "\n",
      "It shows that there is a difference between the two conditions, overall across electrodes.\n",
      "Maybe we could include the spatial information of the electrodes as well, but it can only be linear.\n",
      "Maybe a posthoc test could be informative as well."
     ]
    },
    {
     "cell_type": "code",
     "collapsed": false,
     "input": [
      "%%R\n",
      "fm1 <- lmer(value ~ cond + (1 | subj) + (1|elec), data)\n",
      "# fm1 <- lmer(value ~ cond + (1 | subj/elec), data)\n",
      "summary(fm1)"
     ],
     "language": "python",
     "metadata": {},
     "outputs": []
    },
    {
     "cell_type": "markdown",
     "metadata": {},
     "source": [
      "Maybe we can use this model to specify the variability across electrodes."
     ]
    },
    {
     "cell_type": "code",
     "collapsed": false,
     "input": [
      "%%R\n",
      "fm1 <- lmer(value ~ cond * elec + (1 | subj/elec), data)\n",
      "summary(fm1)"
     ],
     "language": "python",
     "metadata": {},
     "outputs": []
    }
   ],
   "metadata": {}
  }
 ]
}