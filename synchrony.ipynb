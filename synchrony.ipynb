{
 "metadata": {
  "name": "",
  "signature": "sha256:3a281dd72a17d8ab41e167ec4c4cddcb24f49a5de4fc89f2db8ec5367eac94bc"
 },
 "nbformat": 3,
 "nbformat_minor": 0,
 "worksheets": [
  {
   "cells": [
    {
     "cell_type": "heading",
     "level": 3,
     "metadata": {},
     "source": [
      "Synchrony Across Spindles"
     ]
    },
    {
     "cell_type": "code",
     "collapsed": false,
     "input": [
      "from numpy import expand_dims, argsort, asarray, sum, triu\n",
      "from numpy.random import uniform, seed\n",
      "from multiprocessing import Pool"
     ],
     "language": "python",
     "metadata": {},
     "outputs": [],
     "prompt_number": 1
    },
    {
     "cell_type": "code",
     "collapsed": false,
     "input": [
      "from spgr.read_data import MIN_EPOCHS  # it should also be MAX_EPOCHS\n",
      "DUR_EPOCHS = 30\n",
      "total_duration = MIN_EPOCHS * DUR_EPOCHS\n",
      "\n",
      "n_rpt = 10000"
     ],
     "language": "python",
     "metadata": {},
     "outputs": [
      {
       "output_type": "stream",
       "stream": "stderr",
       "text": [
        "WARNING:phypno.attr.anat:nibabel (optional dependency) is not installed. You will not be able to read Freesurfer annotations and segmentations.\n"
       ]
      }
     ],
     "prompt_number": 2
    },
    {
     "cell_type": "code",
     "collapsed": false,
     "input": [
      "def estimate_overlap(s, e):\n",
      "    idx_sort = argsort(s)\n",
      "    s = s[idx_sort]\n",
      "    e = e[idx_sort]\n",
      "\n",
      "    s = expand_dims(asarray(s), 1)\n",
      "    e = expand_dims(asarray(e), 1)\n",
      "    overlap = (s <= e.T) & (s.T <= e)\n",
      "    return sum(overlap)\n",
      "\n",
      "def fake_dist(i, s, e):\n",
      "    seed(i)\n",
      "    fake_s = uniform(0, total_duration, len(s))\n",
      "    fake_e = fake_s + (e - s)\n",
      "    return estimate_overlap(fake_s, fake_e)"
     ],
     "language": "python",
     "metadata": {},
     "outputs": []
    },
    {
     "cell_type": "code",
     "collapsed": false,
     "input": [
      "f, subp = subplots(3, 2, figsize=(18, 12))\n",
      "\n",
      "for ax, subj, spindles in zip(subp.flatten(), all_subj, all_spindles):\n",
      "    print(subj)\n",
      "    s = asarray([x['start_time'] for x in spindles])\n",
      "    e = asarray([x['end_time'] for x in spindles])\n",
      "    ov = estimate_overlap(s, e)\n",
      "    \n",
      "    def fake_dist_subj(x):\n",
      "        return fake_dist(x, s, e)\n",
      "    \n",
      "    dist = list(map(fake_dist_subj, range(n_rpt)))\n",
      "    ax.hist(dist, bins=100, align='left')\n",
      "    ax.set_title(subj)\n",
      "    print('probability: {0:.9f}'.format(sum(ov <= dist) / n_rpt))"
     ],
     "language": "python",
     "metadata": {},
     "outputs": []
    },
    {
     "cell_type": "code",
     "collapsed": false,
     "input": [
      "hist((10, 0, 0, 0), range=(0, 20), bins=20, align='right')\n",
      "gca().set_xlim(0, 20)"
     ],
     "language": "python",
     "metadata": {},
     "outputs": []
    },
    {
     "cell_type": "code",
     "collapsed": false,
     "input": [],
     "language": "python",
     "metadata": {},
     "outputs": []
    },
    {
     "cell_type": "code",
     "collapsed": false,
     "input": [],
     "language": "python",
     "metadata": {},
     "outputs": []
    },
    {
     "cell_type": "code",
     "collapsed": false,
     "input": [],
     "language": "python",
     "metadata": {},
     "outputs": []
    }
   ],
   "metadata": {}
  }
 ]
}