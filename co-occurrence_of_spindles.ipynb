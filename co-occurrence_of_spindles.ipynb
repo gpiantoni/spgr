{
 "cells": [
  {
   "cell_type": "markdown",
   "metadata": {},
   "source": [
    "# SPGR"
   ]
  },
  {
   "cell_type": "code",
   "execution_count": 1,
   "metadata": {
    "collapsed": true
   },
   "outputs": [],
   "source": [
    "from multiprocessing import set_start_method\n",
    "set_start_method('forkserver')"
   ]
  },
  {
   "cell_type": "code",
   "execution_count": 2,
   "metadata": {
    "collapsed": false
   },
   "outputs": [
    {
     "name": "stdout",
     "output_type": "stream",
     "text": [
      "Last run on cashlab03-deb at 2015-04-09 09:54:44.929803\n",
      "\n",
      "Phypno Version: 6374c95883a9a9260ede7e2d451890f11c0e744a\n",
      "\n",
      "Babel==1.3, Cython==0.22, Jinja2==2.7.3, Markdown==2.6.1, MarkupSafe==0.23, Pillow==2.8.1, PyOpenGL==3.1.0, Pygments==2.0.2, Sphinx==1.3.1, alabaster==0.7.3, bash-kernel==0.3, beautifulsoup4==4.3.2, biopython==1.65, certifi==14.05.14, coverage==3.7.1, decorator==3.4.2, docutils==0.12, easydev==0.8.3, ipython==3.1.0, jedi==0.8.1-final0, jsonschema==2.4.0, matplotlib==1.4.3, memory-profiler==0.32, mistune==0.5.1, networkx==1.9.1, nibabel==2.0.0, nitime==0.5, nltk==3.0.2, nose==1.3.6, numpy==1.9.2, numpydoc==0.5, ordereddict==1.1, pandas==0.16.0, pandocfilters==1.2.4, pep8==1.6.2, pexpect==3.3, pockets==0.2.4, psutil==2.2.1, pycurl==7.19.5.1, pyflakes==0.8.1, pyparsing==2.0.3, pyqtgraph==0.9.10, python-dateutil==2.4.2, python-igraph==0.7.1-4, pytz==2015.2, pyzmq==14.5.0, requests==2.6.0, rope-py3k==0.9.4-1, rpy2==2.5.6, scikit-learn==0.16.0, scipy==0.15.1, six==1.9.0, snowballstemmer==1.2.0, sphinx-rtd-theme==0.1.7, sphinxcontrib-napoleon==0.3.3, spyder==2.3.4, tornado==4.1, visvis==1.9.1, xmltodict==0.9.2, \n"
     ]
    }
   ],
   "source": [
    "import version_control"
   ]
  },
  {
   "cell_type": "code",
   "execution_count": 3,
   "metadata": {
    "collapsed": false
   },
   "outputs": [],
   "source": [
    "from spgr import lg"
   ]
  },
  {
   "cell_type": "markdown",
   "metadata": {},
   "source": [
    "## Co-occurrence of Spindles"
   ]
  },
  {
   "cell_type": "markdown",
   "metadata": {},
   "source": [
    "### Code"
   ]
  },
  {
   "cell_type": "code",
   "execution_count": 4,
   "metadata": {
    "collapsed": false
   },
   "outputs": [],
   "source": [
    "from numpy import arange, max\n",
    "from spgr.detect_spindles import get_spindles\n",
    "# from spgr.plot_spindles import hist_overlap\n",
    "from spgr.plot_spindles import make_hist_overlap\n",
    "from spgr.constants import GROUP_PATH, HEMI_SUBJ, SPINDLE_OPTIONS\n",
    "\n",
    "from IPython.display import display"
   ]
  },
  {
   "cell_type": "code",
   "execution_count": 5,
   "metadata": {
    "collapsed": false
   },
   "outputs": [],
   "source": [
    "images_dir = GROUP_PATH.joinpath('images').joinpath('spindle_overlap')\n",
    "if not images_dir.exists():\n",
    "    images_dir.mkdir()\n",
    "\n",
    "PLOT_COLOR = 'kw'"
   ]
  },
  {
   "cell_type": "code",
   "execution_count": null,
   "metadata": {
    "collapsed": false,
    "scrolled": true
   },
   "outputs": [],
   "source": [
    "for REREF in ('avg', 15):\n",
    "    for subj in HEMI_SUBJ:\n",
    "        v = make_hist_overlap(subj, color=PLOT_COLOR, reref=REREF, nchan=40)\n",
    "        v.save(str(images_dir.joinpath('hist_{}_{}.png'.format(REREF, subj))))\n",
    "        display(v)"
   ]
  },
  {
   "cell_type": "markdown",
   "metadata": {},
   "source": [
    "### Plots of common spindles"
   ]
  },
  {
   "cell_type": "code",
   "execution_count": 5,
   "metadata": {
    "collapsed": true
   },
   "outputs": [],
   "source": [
    "from spgr.constants import DATA_OPTIONS, HEMI_SUBJ, SPINDLE_OPTIONS, CHAN_TYPE\n",
    "from spgr.detect_spindles import get_spindles\n",
    "from spgr.read_data import get_chan_used_in_analysis\n",
    "from spgr.spindle_source import get_morph_linear\n",
    "from spgr.stats_on_spindles import create_spindle_groups, create_spindle_cooccurrence_matrix, mean_spindle_cooccurrence\n",
    "from spgr.plot_spindles import plot_surf"
   ]
  },
  {
   "cell_type": "code",
   "execution_count": 6,
   "metadata": {
    "collapsed": true
   },
   "outputs": [],
   "source": [
    "images_dir = GROUP_PATH.joinpath('images').joinpath('cooccurrence_map')\n",
    "if not images_dir.exists():\n",
    "    images_dir.mkdir()\n",
    "\n",
    "PLOT_COLOR = 'kw'"
   ]
  },
  {
   "cell_type": "code",
   "execution_count": 7,
   "metadata": {
    "collapsed": true
   },
   "outputs": [],
   "source": [
    "from numpy import mean, std"
   ]
  },
  {
   "cell_type": "code",
   "execution_count": null,
   "metadata": {
    "collapsed": false,
    "scrolled": true
   },
   "outputs": [],
   "source": [
    "all_values = []\n",
    "\n",
    "for REREF in ('avg', 15):\n",
    "    for NORMALIZED_BY in ('source', 'target'):\n",
    "        for ZSCORE in (False, True):\n",
    "\n",
    "            for subj in HEMI_SUBJ:\n",
    "                spindles = get_spindles(subj, reref=REREF, **SPINDLE_OPTIONS)\n",
    "                spindle_group = create_spindle_groups(spindles)\n",
    "\n",
    "                chan = get_chan_used_in_analysis(subj, 'sleep', chan_type=CHAN_TYPE, reref=REREF, **DATA_OPTIONS)\n",
    "                chan_prob = create_spindle_cooccurrence_matrix(chan, spindle_group)\n",
    "                chan_prob_per_chan = mean_spindle_cooccurrence(chan_prob, normalized_by=NORMALIZED_BY)\n",
    "\n",
    "                if ZSCORE:\n",
    "                    chan_prob_per_chan = (chan_prob_per_chan - mean(chan_prob_per_chan)) / std(chan_prob_per_chan)\n",
    "\n",
    "                morphed = get_morph_linear(subj, chan_prob_per_chan, reref=REREF)\n",
    "\n",
    "                all_values.append(morphed)\n",
    "\n",
    "                \n",
    "            if ZSCORE:\n",
    "                threshold = None, None\n",
    "                limits = -1, 1\n",
    "            else:\n",
    "                threshold = 0.01, None\n",
    "                limits = 0, .2\n",
    "            \n",
    "            v = plot_surf(all_values, threshold=threshold, limits=limits)\n",
    "            png_name = 'cooccurrence_map_{}_{}_norm{}.png'.format(NORMALIZED_BY, REREF, ZSCORE)\n",
    "            v.save(str(images_dir.joinpath(png_name)))\n",
    "            display(v)"
   ]
  },
  {
   "cell_type": "code",
   "execution_count": null,
   "metadata": {
    "collapsed": false
   },
   "outputs": [],
   "source": [
    "\n",
    "from pyqtgraph import image"
   ]
  },
  {
   "cell_type": "code",
   "execution_count": null,
   "metadata": {
    "collapsed": false
   },
   "outputs": [],
   "source": [
    "\n",
    "\n",
    "\n",
    "v = Viz3(color=PLOT_COLOR)\n",
    "v.add_chan(chan)"
   ]
  },
  {
   "cell_type": "code",
   "execution_count": null,
   "metadata": {
    "collapsed": false
   },
   "outputs": [],
   "source": [
    "pos = chan.return_xyz((sp[0], sp[1]))"
   ]
  },
  {
   "cell_type": "code",
   "execution_count": null,
   "metadata": {
    "collapsed": true
   },
   "outputs": [],
   "source": [
    "from pyqtgraph.opengl import GLLinePlotItem"
   ]
  },
  {
   "cell_type": "code",
   "execution_count": null,
   "metadata": {
    "collapsed": false
   },
   "outputs": [],
   "source": [
    "array(pos_pair_chan)"
   ]
  },
  {
   "cell_type": "code",
   "execution_count": null,
   "metadata": {
    "collapsed": false
   },
   "outputs": [],
   "source": [
    "sp = chan_group[30]\n",
    "pos = chan.return_xyz(sp)\n",
    "\n",
    "v = Viz3()\n",
    "v.add_chan(chan)\n",
    "\n",
    "for pos_pair_chan in permutations(pos, 2):\n",
    "    line = GLLinePlotItem(pos=array(pos_pair_chan), width=4)\n",
    "    v._widget.addItem(line)"
   ]
  },
  {
   "cell_type": "code",
   "execution_count": null,
   "metadata": {
    "collapsed": false
   },
   "outputs": [],
   "source": [
    "from itertools import permutations"
   ]
  },
  {
   "cell_type": "code",
   "execution_count": null,
   "metadata": {
    "collapsed": true
   },
   "outputs": [],
   "source": []
  },
  {
   "cell_type": "code",
   "execution_count": null,
   "metadata": {
    "collapsed": true
   },
   "outputs": [],
   "source": []
  },
  {
   "cell_type": "code",
   "execution_count": null,
   "metadata": {
    "collapsed": true
   },
   "outputs": [],
   "source": []
  },
  {
   "cell_type": "code",
   "execution_count": null,
   "metadata": {
    "collapsed": false
   },
   "outputs": [],
   "source": [
    "from phypno import Data"
   ]
  },
  {
   "cell_type": "code",
   "execution_count": null,
   "metadata": {
    "collapsed": false
   },
   "outputs": [],
   "source": [
    "from phypno.viz.plot_3d import Viz3\n",
    "from spgr.read_data import get_data, REC_DIR, FS_PATH\n",
    "from phypno.attr import Freesurfer\n",
    "from numpy.linalg import norm"
   ]
  },
  {
   "cell_type": "code",
   "execution_count": null,
   "metadata": {
    "collapsed": false
   },
   "outputs": [],
   "source": [
    "from spgr.stats_on_spindles import estimate_overlap\n",
    "from numpy import asarray, sum, where, diff, r_, zeros, diag, mean, NaN, nanmean"
   ]
  },
  {
   "cell_type": "code",
   "execution_count": null,
   "metadata": {
    "collapsed": false
   },
   "outputs": [],
   "source": [
    "from pyqtgraph import ImageWindow\n",
    "import pyqtgraph as pg"
   ]
  },
  {
   "cell_type": "code",
   "execution_count": null,
   "metadata": {
    "collapsed": false
   },
   "outputs": [],
   "source": [
    "from phypno.viz.base import Colormap, Viz\n",
    "cm = Colormap('coolwarm', limits=(0, 1))"
   ]
  },
  {
   "cell_type": "code",
   "execution_count": null,
   "metadata": {
    "collapsed": false
   },
   "outputs": [],
   "source": [
    "image(chan_prob_n)"
   ]
  },
  {
   "cell_type": "code",
   "execution_count": null,
   "metadata": {
    "collapsed": false
   },
   "outputs": [],
   "source": [
    "# GUI\n",
    "win = pg.GraphicsWindow()\n",
    "view = win.addViewBox()\n",
    "view.invertY()\n",
    "view.setAspectLocked(True)\n",
    "item = pg.ImageItem(chan_prob)\n",
    "view.addItem(item)\n",
    "item.setLookupTable(lut)\n",
    "item.setLevels([0, 40])\n",
    "\n",
    "v = Viz()\n",
    "v._widget = win\n",
    "v.size = 500, 400\n",
    "# v.save('/home/gpiantoni/Copy/Presentations/2013_MGH/20150225_UCSD/img/avg/image_cooccurrence.png')\n",
    "v"
   ]
  },
  {
   "cell_type": "code",
   "execution_count": null,
   "metadata": {
    "collapsed": false
   },
   "outputs": [],
   "source": [
    "# GUI\n",
    "win = pg.GraphicsWindow()\n",
    "view = win.addViewBox()\n",
    "view.invertY()\n",
    "view.setAspectLocked(True)\n",
    "item = pg.ImageItem(chan_prob_n)\n",
    "view.addItem(item)\n",
    "item.setLookupTable(lut)\n",
    "item.setLevels([0, .5])\n",
    "\n",
    "v = Viz()\n",
    "v._widget = win\n",
    "v.size = 500, 400\n",
    "v.save('/home/gpiantoni/Copy/Presentations/2013_MGH/20150225_UCSD/img/avg/ratio_cooccurrence.png')\n",
    "v"
   ]
  },
  {
   "cell_type": "code",
   "execution_count": null,
   "metadata": {
    "collapsed": false
   },
   "outputs": [],
   "source": [
    "from spgr.plot_spindles import plot_surf"
   ]
  },
  {
   "cell_type": "code",
   "execution_count": null,
   "metadata": {
    "collapsed": false
   },
   "outputs": [],
   "source": [
    "v = plot_surf(all_elec, (0.001, None), (0, .2))\n",
    "v._widget.setBackgroundColor('w')"
   ]
  },
  {
   "cell_type": "markdown",
   "metadata": {},
   "source": [
    "Spindles in the prefrontal cortex are mostly likely to co-occur with spindles in other brain areas (Fig. +[spgr_topo_cooccur])."
   ]
  },
  {
   "cell_type": "code",
   "execution_count": null,
   "metadata": {
    "collapsed": false
   },
   "outputs": [],
   "source": [
    "if min_distance:\n",
    "    v.save(join(img_dir, 'sync_spindles_min{}.png'.format(min_distance)))\n",
    "else:\n",
    "    v.save(join(img_dir, 'sync_spindles.png'.format(min_distance)))"
   ]
  },
  {
   "cell_type": "code",
   "execution_count": null,
   "metadata": {
    "collapsed": false
   },
   "outputs": [],
   "source": [
    "from pyqtgraph import GradientWidget\n",
    "\n",
    "w = GradientWidget(orientation='left')\n",
    "w.show()"
   ]
  },
  {
   "cell_type": "code",
   "execution_count": null,
   "metadata": {
    "collapsed": false
   },
   "outputs": [],
   "source": [
    "w.item.setColorMap(cm)"
   ]
  },
  {
   "cell_type": "code",
   "execution_count": null,
   "metadata": {
    "collapsed": true
   },
   "outputs": [],
   "source": []
  }
 ],
 "metadata": {
  "kernelspec": {
   "display_name": "Python 3",
   "language": "python",
   "name": "python3"
  },
  "language_info": {
   "codemirror_mode": {
    "name": "ipython",
    "version": 3
   },
   "file_extension": ".py",
   "mimetype": "text/x-python",
   "name": "python",
   "nbconvert_exporter": "python",
   "pygments_lexer": "ipython3",
   "version": "3.4.2"
  }
 },
 "nbformat": 4,
 "nbformat_minor": 0
}
