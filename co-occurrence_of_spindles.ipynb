{
 "cells": [
  {
   "cell_type": "markdown",
   "metadata": {},
   "source": [
    "# SPGR"
   ]
  },
  {
   "cell_type": "code",
   "execution_count": 1,
   "metadata": {
    "collapsed": true
   },
   "outputs": [],
   "source": [
    "from multiprocessing import set_start_method\n",
    "set_start_method('forkserver')"
   ]
  },
  {
   "cell_type": "code",
   "execution_count": 2,
   "metadata": {
    "collapsed": false
   },
   "outputs": [
    {
     "name": "stdout",
     "output_type": "stream",
     "text": [
      "Last run on cashlab03-deb at 2015-04-14 10:43:23.983311\n",
      "\n",
      "Phypno Version: c3ecd7c3c5e73a7a33cd9af4142b937d387bf2e5\n",
      "\n",
      "Babel==1.3, Cython==0.22, Jinja2==2.7.3, Markdown==2.6.1, MarkupSafe==0.23, Pillow==2.8.1, PyOpenGL==3.1.0, Pygments==2.0.2, Sphinx==1.3.1, alabaster==0.7.3, bash-kernel==0.3, beautifulsoup4==4.3.2, biopython==1.65, certifi==14.05.14, coverage==3.7.1, decorator==3.4.2, docutils==0.12, easydev==0.8.3, ipython==3.1.0, jedi==0.8.1-final0, jsonschema==2.4.0, matplotlib==1.4.3, memory-profiler==0.32, mistune==0.5.1, networkx==1.9.1, nibabel==2.0.0, nitime==0.5, nltk==3.0.2, nose==1.3.6, numpy==1.9.2, numpydoc==0.5, ordereddict==1.1, pandas==0.16.0, pandocfilters==1.2.4, pep8==1.6.2, pexpect==3.3, pockets==0.2.4, psutil==2.2.1, pycurl==7.19.5.1, pyflakes==0.8.1, pyparsing==2.0.3, pyqtgraph==0.9.10, python-dateutil==2.4.2, python-igraph==0.7.1-4, pytz==2015.2, pyzmq==14.5.0, requests==2.6.0, rope-py3k==0.9.4-1, rpy2==2.5.6, scikit-learn==0.16.0, scipy==0.15.1, six==1.9.0, snowballstemmer==1.2.0, sphinx-rtd-theme==0.1.7, sphinxcontrib-napoleon==0.3.3, spyder==2.3.4, tornado==4.1, visvis==1.9.1, xmltodict==0.9.2, \n"
     ]
    }
   ],
   "source": [
    "import version_control"
   ]
  },
  {
   "cell_type": "code",
   "execution_count": 3,
   "metadata": {
    "collapsed": false
   },
   "outputs": [],
   "source": [
    "from spgr import lg"
   ]
  },
  {
   "cell_type": "markdown",
   "metadata": {},
   "source": [
    "## Co-occurrence of Spindles"
   ]
  },
  {
   "cell_type": "markdown",
   "metadata": {},
   "source": [
    "### Code"
   ]
  },
  {
   "cell_type": "code",
   "execution_count": 4,
   "metadata": {
    "collapsed": false
   },
   "outputs": [],
   "source": [
    "from numpy import arange, max\n",
    "from spgr.detect_spindles import get_spindles\n",
    "# from spgr.plot_spindles import hist_overlap\n",
    "from spgr.plot_spindles import make_hist_overlap\n",
    "from spgr.constants import GROUP_PATH, HEMI_SUBJ, SPINDLE_OPTIONS\n",
    "\n",
    "from IPython.display import display"
   ]
  },
  {
   "cell_type": "code",
   "execution_count": 5,
   "metadata": {
    "collapsed": false
   },
   "outputs": [],
   "source": [
    "images_dir = GROUP_PATH.joinpath('images').joinpath('spindle_overlap')\n",
    "if not images_dir.exists():\n",
    "    images_dir.mkdir()\n",
    "\n",
    "PLOT_COLOR = 'kw'"
   ]
  },
  {
   "cell_type": "code",
   "execution_count": 6,
   "metadata": {
    "collapsed": false,
    "scrolled": true
   },
   "outputs": [
    {
     "ename": "NameError",
     "evalue": "name 'testtest' is not defined",
     "output_type": "error",
     "traceback": [
      "\u001b[1;31m---------------------------------------------------------------------------\u001b[0m",
      "\u001b[1;31mNameError\u001b[0m                                 Traceback (most recent call last)",
      "\u001b[1;32m<ipython-input-6-f7ba1d346a4d>\u001b[0m in \u001b[0;36m<module>\u001b[1;34m()\u001b[0m\n\u001b[0;32m      1\u001b[0m \u001b[1;32mfor\u001b[0m \u001b[0mREREF\u001b[0m \u001b[1;32min\u001b[0m \u001b[1;33m(\u001b[0m\u001b[1;34m'avg'\u001b[0m\u001b[1;33m,\u001b[0m \u001b[1;36m15\u001b[0m\u001b[1;33m)\u001b[0m\u001b[1;33m:\u001b[0m\u001b[1;33m\u001b[0m\u001b[0m\n\u001b[0;32m      2\u001b[0m     \u001b[1;32mfor\u001b[0m \u001b[0msubj\u001b[0m \u001b[1;32min\u001b[0m \u001b[0mHEMI_SUBJ\u001b[0m\u001b[1;33m:\u001b[0m\u001b[1;33m\u001b[0m\u001b[0m\n\u001b[1;32m----> 3\u001b[1;33m         \u001b[0mv\u001b[0m \u001b[1;33m=\u001b[0m \u001b[0mmake_hist_overlap\u001b[0m\u001b[1;33m(\u001b[0m\u001b[0msubj\u001b[0m\u001b[1;33m,\u001b[0m \u001b[0mcolor\u001b[0m\u001b[1;33m=\u001b[0m\u001b[0mPLOT_COLOR\u001b[0m\u001b[1;33m,\u001b[0m \u001b[0mreref\u001b[0m\u001b[1;33m=\u001b[0m\u001b[0mREREF\u001b[0m\u001b[1;33m,\u001b[0m \u001b[0mnchan\u001b[0m\u001b[1;33m=\u001b[0m\u001b[1;36m40\u001b[0m\u001b[1;33m)\u001b[0m\u001b[1;33m\u001b[0m\u001b[0m\n\u001b[0m\u001b[0;32m      4\u001b[0m         \u001b[0mv\u001b[0m\u001b[1;33m.\u001b[0m\u001b[0msave\u001b[0m\u001b[1;33m(\u001b[0m\u001b[0mstr\u001b[0m\u001b[1;33m(\u001b[0m\u001b[0mimages_dir\u001b[0m\u001b[1;33m.\u001b[0m\u001b[0mjoinpath\u001b[0m\u001b[1;33m(\u001b[0m\u001b[1;34m'hist_{}_{}.png'\u001b[0m\u001b[1;33m.\u001b[0m\u001b[0mformat\u001b[0m\u001b[1;33m(\u001b[0m\u001b[0mREREF\u001b[0m\u001b[1;33m,\u001b[0m \u001b[0msubj\u001b[0m\u001b[1;33m)\u001b[0m\u001b[1;33m)\u001b[0m\u001b[1;33m)\u001b[0m\u001b[1;33m)\u001b[0m\u001b[1;33m\u001b[0m\u001b[0m\n\u001b[0;32m      5\u001b[0m         \u001b[0mdisplay\u001b[0m\u001b[1;33m(\u001b[0m\u001b[0mv\u001b[0m\u001b[1;33m)\u001b[0m\u001b[1;33m\u001b[0m\u001b[0m\n",
      "\u001b[1;32m/home/gio/projects/spgr/scripts/spgr/plot_spindles.py\u001b[0m in \u001b[0;36mmake_hist_overlap\u001b[1;34m(subj, color, reref, width, nchan)\u001b[0m\n\u001b[0;32m     22\u001b[0m     \u001b[0mspindles\u001b[0m \u001b[1;33m=\u001b[0m \u001b[0mget_spindles\u001b[0m\u001b[1;33m(\u001b[0m\u001b[0msubj\u001b[0m\u001b[1;33m,\u001b[0m \u001b[0mreref\u001b[0m\u001b[1;33m=\u001b[0m\u001b[0mreref\u001b[0m\u001b[1;33m,\u001b[0m \u001b[1;33m**\u001b[0m\u001b[0mSPINDLE_OPTIONS\u001b[0m\u001b[1;33m)\u001b[0m\u001b[1;33m\u001b[0m\u001b[0m\n\u001b[0;32m     23\u001b[0m \u001b[1;33m\u001b[0m\u001b[0m\n\u001b[1;32m---> 24\u001b[1;33m     \u001b[0mv\u001b[0m \u001b[1;33m=\u001b[0m \u001b[0mtesttest\u001b[0m\u001b[1;33m(\u001b[0m\u001b[0mspindles\u001b[0m\u001b[1;33m)\u001b[0m\u001b[1;33m\u001b[0m\u001b[0m\n\u001b[0m\u001b[0;32m     25\u001b[0m     \u001b[0mhist\u001b[0m \u001b[1;33m=\u001b[0m \u001b[0marange\u001b[0m\u001b[1;33m(\u001b[0m\u001b[1;36m0\u001b[0m\u001b[1;33m,\u001b[0m \u001b[0mnchan\u001b[0m\u001b[1;33m,\u001b[0m \u001b[0mwidth\u001b[0m\u001b[1;33m)\u001b[0m\u001b[1;33m\u001b[0m\u001b[0m\n\u001b[0;32m     26\u001b[0m     \u001b[0mh0\u001b[0m\u001b[1;33m,\u001b[0m \u001b[0mh1\u001b[0m \u001b[1;33m=\u001b[0m \u001b[0mhistogram\u001b[0m\u001b[1;33m(\u001b[0m\u001b[0mv\u001b[0m\u001b[1;33m,\u001b[0m \u001b[0mhist\u001b[0m\u001b[1;33m)\u001b[0m\u001b[1;33m\u001b[0m\u001b[0m\n",
      "\u001b[1;31mNameError\u001b[0m: name 'testtest' is not defined"
     ]
    }
   ],
   "source": [
    "for REREF in ('avg', 15):\n",
    "    for subj in HEMI_SUBJ:\n",
    "        v = make_hist_overlap(subj, color=PLOT_COLOR, reref=REREF, nchan=40)\n",
    "        v.save(str(images_dir.joinpath('hist_{}_{}.png'.format(REREF, subj))))\n",
    "        display(v)"
   ]
  },
  {
   "cell_type": "markdown",
   "metadata": {},
   "source": [
    "### Plots of common spindles"
   ]
  },
  {
   "cell_type": "code",
   "execution_count": 7,
   "metadata": {
    "collapsed": true
   },
   "outputs": [],
   "source": [
    "from spgr.constants import DATA_OPTIONS, HEMI_SUBJ, SPINDLE_OPTIONS, CHAN_TYPE\n",
    "from spgr.detect_spindles import get_spindles\n",
    "from spgr.read_data import get_chan_used_in_analysis\n",
    "from spgr.spindle_source import get_morph_linear\n",
    "from spgr.stats_on_spindles import create_spindle_groups, create_spindle_cooccurrence_matrix, mean_spindle_cooccurrence\n",
    "from spgr.plot_spindles import plot_surf"
   ]
  },
  {
   "cell_type": "code",
   "execution_count": 8,
   "metadata": {
    "collapsed": true
   },
   "outputs": [],
   "source": [
    "images_dir = GROUP_PATH.joinpath('images').joinpath('cooccurrence_map')\n",
    "if not images_dir.exists():\n",
    "    images_dir.mkdir()\n",
    "\n",
    "PLOT_COLOR = 'kw'"
   ]
  },
  {
   "cell_type": "code",
   "execution_count": 9,
   "metadata": {
    "collapsed": true
   },
   "outputs": [],
   "source": [
    "from numpy import mean, std"
   ]
  },
  {
   "cell_type": "code",
   "execution_count": null,
   "metadata": {
    "collapsed": false,
    "scrolled": true
   },
   "outputs": [],
   "source": [
    "all_values = []\n",
    "\n",
    "for REREF in ('avg', 15):\n",
    "    for NORMALIZED_BY in ('source', 'target'):\n",
    "        for ZSCORE in (False, True):\n",
    "\n",
    "            for subj in HEMI_SUBJ:\n",
    "                spindles = get_spindles(subj, reref=REREF, **SPINDLE_OPTIONS)\n",
    "                spindle_group = create_spindle_groups(spindles)\n",
    "\n",
    "                chan = get_chan_used_in_analysis(subj, 'sleep', chan_type=CHAN_TYPE, reref=REREF, **DATA_OPTIONS)\n",
    "                chan_prob = create_spindle_cooccurrence_matrix(chan, spindle_group)\n",
    "                chan_prob_per_chan = mean_spindle_cooccurrence(chan_prob, normalized_by=NORMALIZED_BY)\n",
    "\n",
    "                if ZSCORE:\n",
    "                    chan_prob_per_chan = (chan_prob_per_chan - mean(chan_prob_per_chan)) / std(chan_prob_per_chan)\n",
    "\n",
    "                morphed = get_morph_linear(subj, chan_prob_per_chan, reref=REREF)\n",
    "\n",
    "                all_values.append(morphed)\n",
    "\n",
    "                \n",
    "            if ZSCORE:\n",
    "                threshold = None, None\n",
    "                limits = -1, 1\n",
    "            else:\n",
    "                threshold = 0.01, None\n",
    "                limits = 0, .3\n",
    "            \n",
    "            v = plot_surf(all_values, threshold=threshold, limits=limits)\n",
    "            png_name = 'cooccurrence_map_{}_{}_norm{}.png'.format(NORMALIZED_BY, REREF, ZSCORE)\n",
    "            v.save(str(images_dir.joinpath(png_name)))\n",
    "            display(v)"
   ]
  }
 ],
 "metadata": {
  "kernelspec": {
   "display_name": "Python 3",
   "language": "python",
   "name": "python3"
  },
  "language_info": {
   "codemirror_mode": {
    "name": "ipython",
    "version": 3
   },
   "file_extension": ".py",
   "mimetype": "text/x-python",
   "name": "python",
   "nbconvert_exporter": "python",
   "pygments_lexer": "ipython3",
   "version": "3.4.2"
  }
 },
 "nbformat": 4,
 "nbformat_minor": 0
}
