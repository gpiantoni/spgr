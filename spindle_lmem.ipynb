{
 "metadata": {
  "name": "",
  "signature": "sha256:4a07bde735469eadb5c61a75b61710926fd3b84f5a8524325285c833c34bcca9"
 },
 "nbformat": 3,
 "nbformat_minor": 0,
 "worksheets": []
}