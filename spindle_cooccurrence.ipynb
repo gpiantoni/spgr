{
 "metadata": {
  "name": "",
  "signature": "sha256:b20006730b3de34903b7aa2b1de13439045a9358ec03adf370dec39fd1a36765"
 },
 "nbformat": 3,
 "nbformat_minor": 0,
 "worksheets": [
  {
   "cells": [
    {
     "cell_type": "heading",
     "level": 1,
     "metadata": {},
     "source": [
      "SPGR"
     ]
    },
    {
     "cell_type": "code",
     "collapsed": false,
     "input": [
      "import version_control"
     ],
     "language": "python",
     "metadata": {},
     "outputs": []
    },
    {
     "cell_type": "code",
     "collapsed": false,
     "input": [
      "from spgr import lg\n",
      "lg.setLevel(10)\n",
      "from multiprocessing import set_start_method\n",
      "set_start_method('forkserver')"
     ],
     "language": "python",
     "metadata": {},
     "outputs": [],
     "prompt_number": 1
    },
    {
     "cell_type": "heading",
     "level": 2,
     "metadata": {},
     "source": [
      "Spindle Cooccurrence"
     ]
    },
    {
     "cell_type": "code",
     "collapsed": false,
     "input": [
      "from os import listdir\n",
      "from spgr.read_data import DATA_DIR, GROUP_DIR\n",
      "\n",
      "all_subj = sorted(listdir(DATA_DIR))\n",
      "print('\\t'.join(all_subj))"
     ],
     "language": "python",
     "metadata": {},
     "outputs": [
      {
       "output_type": "stream",
       "stream": "stdout",
       "text": [
        "EM09\tMG17\tMG33\tMG37\tMG61\tMG63\n"
       ]
      }
     ],
     "prompt_number": 2
    },
    {
     "cell_type": "code",
     "collapsed": false,
     "input": [
      "from os import makedirs\n",
      "from os.path import join"
     ],
     "language": "python",
     "metadata": {},
     "outputs": [],
     "prompt_number": 3
    },
    {
     "cell_type": "code",
     "collapsed": false,
     "input": [
      "from phypno.detect import DetectSpindle\n",
      "from spgr.read_data import get_data\n",
      "from spgr.detect_spindles import calc_spindle_values"
     ],
     "language": "python",
     "metadata": {},
     "outputs": [],
     "prompt_number": 4
    },
    {
     "cell_type": "code",
     "collapsed": false,
     "input": [
      "%matplotlib inline\n",
      "from matplotlib.pyplot import savefig, xlabel, ylabel, close, plot, ylim, imshow, figure, colorbar, gca\n",
      "import matplotlib \n",
      "matplotlib.rcParams.update({'font.size': 24})"
     ],
     "language": "python",
     "metadata": {},
     "outputs": [],
     "prompt_number": 5
    },
    {
     "cell_type": "code",
     "collapsed": false,
     "input": [
      "matplotlib.rcParams['figure.figsize'] = (5.12, 1.96)"
     ],
     "language": "python",
     "metadata": {},
     "outputs": [],
     "prompt_number": 6
    },
    {
     "cell_type": "code",
     "collapsed": false,
     "input": [
      "coocc_dir = join(GROUP_DIR, 'cooccurrence')\n",
      "makedirs(coocc_dir, exist_ok=True)"
     ],
     "language": "python",
     "metadata": {},
     "outputs": [],
     "prompt_number": 7
    },
    {
     "cell_type": "code",
     "collapsed": false,
     "input": [
      "LIMITS = (9, 16)\n",
      "\n",
      "detsp = DetectSpindle(method='Nir2011', frequency=LIMITS, duration=(0.5, 2))"
     ],
     "language": "python",
     "metadata": {},
     "outputs": [],
     "prompt_number": 8
    },
    {
     "cell_type": "code",
     "collapsed": false,
     "input": [
      "from spgr.plot_spindles import hist_overlap, hist_overlap2"
     ],
     "language": "python",
     "metadata": {},
     "outputs": [],
     "prompt_number": 9
    },
    {
     "cell_type": "code",
     "collapsed": false,
     "input": [
      "from matplotlib.pyplot import bar, gca\n",
      "from numpy import arange, max"
     ],
     "language": "python",
     "metadata": {},
     "outputs": [],
     "prompt_number": 10
    },
    {
     "cell_type": "code",
     "collapsed": false,
     "input": [
      "matplotlib.rcParams['figure.figsize'] = (15 / 2.51, 8 / 2.51)\n",
      "\n",
      "width = 2\n",
      "nchan = 30\n",
      "\n",
      "for subj in all_subj:\n",
      "    data = get_data(subj, 'sleep', ('grid', ), reref='avg', resample_freq=128)\n",
      "    spindles = calc_spindle_values(data, detsp, parallel='pool')\n",
      "    spindles = spindles(lambda x: LIMITS[0] <= x['peak_freq'] <= LIMITS[1])  \n",
      "\n",
      "    h0, h1 = hist_overlap(spindles, width=width, nchan=nchan)\n",
      "    \n",
      "    bar(h1[:-1], h0, width=width, color='grey')\n",
      "    ax = gca()\n",
      "    ax.set_xticks(arange(0, nchan, 10))\n",
      "    ax.set_yticks(arange(0, max(h0), 100))\n",
      "    \n",
      "    ax.spines['top'].set_visible(False)\n",
      "    ax.spines['right'].set_visible(False)\n",
      "    ax.get_xaxis().tick_bottom()\n",
      "    ax.get_yaxis().tick_left()\n",
      "    \n",
      "    savefig(join(coocc_dir, 'hist_' + subj + '.png'), dpi=300)\n",
      "    close()"
     ],
     "language": "python",
     "metadata": {},
     "outputs": [
      {
       "output_type": "stream",
       "stream": "stderr",
       "text": [
        "INFO:/home/gio/projects/spgr/scripts/spgr/read_data.py:Subj EM09, reading data: EM09_sleep_grid_hp010_lp400_avg_rs128.pkl\n"
       ]
      },
      {
       "output_type": "stream",
       "stream": "stderr",
       "text": [
        "INFO:/home/gio/projects/spgr/scripts/spgr/read_data.py:Subj MG17, reading data: MG17_sleep_grid_hp010_lp400_avg_rs128.pkl\n"
       ]
      },
      {
       "output_type": "stream",
       "stream": "stderr",
       "text": [
        "INFO:/home/gio/projects/spgr/scripts/spgr/read_data.py:Subj MG33, reading data: MG33_sleep_grid_hp010_lp400_avg_rs128.pkl\n"
       ]
      },
      {
       "output_type": "stream",
       "stream": "stderr",
       "text": [
        "INFO:/home/gio/projects/spgr/scripts/spgr/read_data.py:Subj MG37, reading data: MG37_sleep_grid_hp010_lp400_avg_rs128.pkl\n"
       ]
      },
      {
       "output_type": "stream",
       "stream": "stderr",
       "text": [
        "INFO:/home/gio/projects/spgr/scripts/spgr/read_data.py:Subj MG61, reading data: MG61_sleep_grid_hp010_lp400_avg_rs128.pkl\n"
       ]
      },
      {
       "output_type": "stream",
       "stream": "stderr",
       "text": [
        "INFO:/home/gio/projects/spgr/scripts/spgr/read_data.py:Subj MG63, reading data: MG63_sleep_grid_hp010_lp400_avg_rs128.pkl\n"
       ]
      }
     ],
     "prompt_number": 11
    },
    {
     "cell_type": "code",
     "collapsed": false,
     "input": [
      "from phypno.trans import Select"
     ],
     "language": "python",
     "metadata": {},
     "outputs": []
    },
    {
     "cell_type": "code",
     "collapsed": false,
     "input": [
      "subj = 'EM09'\n",
      "data = get_data(subj, 'sleep', ('grid', ), reref='avg', resample_freq=128)"
     ],
     "language": "python",
     "metadata": {},
     "outputs": []
    },
    {
     "cell_type": "code",
     "collapsed": false,
     "input": [
      "from spgr.stats_on_spindles import estimate_overlap"
     ],
     "language": "python",
     "metadata": {},
     "outputs": []
    },
    {
     "cell_type": "code",
     "collapsed": false,
     "input": [
      "from numpy import asarray, sum, where"
     ],
     "language": "python",
     "metadata": {},
     "outputs": []
    },
    {
     "cell_type": "code",
     "collapsed": false,
     "input": [],
     "language": "python",
     "metadata": {},
     "outputs": []
    },
    {
     "cell_type": "markdown",
     "metadata": {},
     "source": [
      "channel_index = asarray([1, 2, 3, 4, 7, 13, 14, 26, 27, 28, 38, 41, 42, 43, 48, 49, 50, 51, 54, 68]) - 1\n",
      "good_chan = data.axis['chan'][0][channel_index]\n",
      "sel = Select(chan=good_chan)\n",
      "data = sel(data)"
     ]
    },
    {
     "cell_type": "code",
     "collapsed": false,
     "input": [
      "spindles = calc_spindle_values(data, detsp, parallel='pool')\n",
      "spindles = spindles(lambda x: LIMITS[0] <= x['peak_freq'] <= LIMITS[1])  "
     ],
     "language": "python",
     "metadata": {},
     "outputs": []
    },
    {
     "cell_type": "code",
     "collapsed": false,
     "input": [
      "s = asarray([x['start_time'] for x in spindles.spindle])\n",
      "e = asarray([x['end_time'] for x in spindles.spindle])\n",
      "ov = estimate_overlap(s, e)"
     ],
     "language": "python",
     "metadata": {},
     "outputs": []
    },
    {
     "cell_type": "code",
     "collapsed": false,
     "input": [
      "from numpy import *"
     ],
     "language": "python",
     "metadata": {},
     "outputs": []
    },
    {
     "cell_type": "code",
     "collapsed": false,
     "input": [
      "neigh = sum(ov | ov.T, axis=1)"
     ],
     "language": "python",
     "metadata": {},
     "outputs": []
    },
    {
     "cell_type": "code",
     "collapsed": false,
     "input": [
      "random_spindle = 100\n",
      "one_sp = where(neigh == 5)[0][random_spindle]\n",
      "good_sp = spindles.spindle[one_sp]\n",
      "\n",
      "good_trial = None\n",
      "for i, trl in enumerate(data):\n",
      "    if good_sp['start_time'] >= trl.axis['time'][0][0] and good_sp['end_time'] <= trl.axis['time'][0][-1]:\n",
      "        good_trial = i\n",
      "        break"
     ],
     "language": "python",
     "metadata": {},
     "outputs": []
    },
    {
     "cell_type": "code",
     "collapsed": false,
     "input": [
      "from copy import deepcopy\n",
      "index0 = 0\n",
      "index1 = data.s_freq * 20 - 1\n",
      "\n",
      "t = deepcopy(data.axis['time'][good_trial][index0:index1])\n",
      "t -= t[0]\n",
      "dat = data(trial=good_trial)[:, index0:index1]"
     ],
     "language": "python",
     "metadata": {},
     "outputs": []
    },
    {
     "cell_type": "code",
     "collapsed": false,
     "input": [
      "spindles_to_plot = {}\n",
      "for one_chan in data.axis['chan'][0]:\n",
      "    spindles_to_plot[one_chan] = []\n",
      "\n",
      "for one_sp in spindles.spindle:\n",
      "    if (one_sp['start_time'] < data.axis['time'][good_trial][-1]) & (one_sp['end_time'] > data.axis['time'][good_trial][0]):\n",
      "        i0 = where(data.axis['time'][good_trial] == one_sp['start_time'])[0]\n",
      "        if not i0:\n",
      "            i0 = 0\n",
      "        if i0 > t.shape[0]:\n",
      "            continue\n",
      "\n",
      "        i1 = where(data.axis['time'][good_trial] == one_sp['end_time'])[0]\n",
      "        if not i1 or i1 > t.shape[0]:\n",
      "            i1 = t.shape[0]\n",
      "            \n",
      "        t_sp = t[i0:i1]\n",
      "        x_sp = data(trial=good_trial, chan=one_sp['chan'])[i0:i1]\n",
      "        spindles_to_plot[one_sp['chan']].append((t_sp, x_sp))"
     ],
     "language": "python",
     "metadata": {},
     "outputs": []
    },
    {
     "cell_type": "code",
     "collapsed": false,
     "input": [
      "channel_index = asarray([1, 2, 3, 4, 7, 13, 14, 26, 27, 28, 38, 41, 42, 43, 48, 49, 50, 51, 54, 68]) - 1\n",
      "good_chan = data.axis['chan'][0][channel_index]"
     ],
     "language": "python",
     "metadata": {},
     "outputs": []
    },
    {
     "cell_type": "code",
     "collapsed": false,
     "input": [
      "matplotlib.rcParams['figure.figsize'] = (30 / 2.51, 15 / 2.51)\n",
      "distance = 150\n",
      "i = 0\n",
      "for one_chan, chan_name in zip(dat, data.axis['chan'][0]):\n",
      "    if chan_name in good_chan:\n",
      "                            \n",
      "        i += 1\n",
      "        plot(t, i * distance + one_chan, 'k');\n",
      "        for plot_sp in spindles_to_plot[chan_name]:\n",
      "            plot(plot_sp[0], i * distance + plot_sp[1], 'r')\n",
      "\n",
      "ylim((0, distance * (i + 1)))\n",
      "ax = gca()\n",
      "ax.set_yticks([])\n",
      "savefig(join(coocc_dir, 'detected.png'), dpi=300)"
     ],
     "language": "python",
     "metadata": {},
     "outputs": []
    },
    {
     "cell_type": "heading",
     "level": 3,
     "metadata": {},
     "source": [
      "Plots of common spindles"
     ]
    },
    {
     "cell_type": "code",
     "collapsed": false,
     "input": [
      "from phypno import Data\n",
      "def make_chan_data(chan, values):\n",
      "    \n",
      "    data = Data()\n",
      "    data.axis = {'chan': empty(1, dtype='O')}\n",
      "    data.axis['chan'][0] = asarray(chan.return_label())\n",
      "    data.data = empty(1, dtype='O')\n",
      "    data.data[0] = asarray(values)\n",
      "    \n",
      "    return data"
     ],
     "language": "python",
     "metadata": {},
     "outputs": []
    },
    {
     "cell_type": "code",
     "collapsed": false,
     "input": [
      "from numpy import *"
     ],
     "language": "python",
     "metadata": {},
     "outputs": []
    },
    {
     "cell_type": "code",
     "collapsed": false,
     "input": [
      "hemi_subj = {'EM09': 'rh', \n",
      "             'MG17': 'rh',\n",
      "             'MG33': 'lh',\n",
      "             'MG37': 'lh',\n",
      "             'MG61': 'lh',\n",
      "             'MG63': 'rh',\n",
      "             }"
     ],
     "language": "python",
     "metadata": {},
     "outputs": []
    },
    {
     "cell_type": "code",
     "collapsed": false,
     "input": [
      "from phypno.viz.plot_3d import Viz3, screenshot\n",
      "SKIN_COLOR = (239 / 255., 208 / 255., 207 / 255., 1)"
     ],
     "language": "python",
     "metadata": {},
     "outputs": []
    },
    {
     "cell_type": "code",
     "collapsed": false,
     "input": [
      "from spgr.read_data import get_chan_used_in_analysis, REC_DIR, FS_PATH\n",
      "from phypno.attr import Freesurfer"
     ],
     "language": "python",
     "metadata": {},
     "outputs": []
    },
    {
     "cell_type": "code",
     "collapsed": false,
     "input": [
      "from phypno.source import Linear, Morph\n",
      "\n",
      "STD = 10\n",
      "THRESHOLD = 20"
     ],
     "language": "python",
     "metadata": {},
     "outputs": []
    },
    {
     "cell_type": "code",
     "collapsed": false,
     "input": [
      "all_elec = []\n",
      "\n",
      "for subj in all_subj:\n",
      "\n",
      "    data = get_data(subj, 'sleep', ('grid', ), reref='avg', resample_freq=128)\n",
      "\n",
      "    spindles = calc_spindle_values(data, detsp, parallel='pool')\n",
      "    spindles = spindles(lambda x: LIMITS[0] <= x['peak_freq'] <= LIMITS[1])  \n",
      "\n",
      "    s = asarray([x['start_time'] for x in spindles.spindle])\n",
      "    e = asarray([x['end_time'] for x in spindles.spindle])\n",
      "    ov = estimate_overlap(s, e)\n",
      "\n",
      "    x = sum(ov, axis=1)\n",
      "    v = diff(r_[0, where(x == 1)[0]])\n",
      "\n",
      "    sp_groups = []\n",
      "    i0 = 0\n",
      "    i1 = 0\n",
      "\n",
      "    for one_v in v:\n",
      "        i1 += one_v\n",
      "        sp_groups.append(spindles.spindle[i0:i1])\n",
      "        i0 += one_v\n",
      "\n",
      "    chan_group = []\n",
      "    for one_group in sp_groups:\n",
      "        chan_group.append([x['chan'] for x in one_group])    \n",
      "\n",
      "    all_chan = list(data.axis['chan'][0])\n",
      "    chan_prob = zeros((len(all_chan), len(all_chan)))\n",
      "\n",
      "    for one_group in chan_group:\n",
      "        for chan0 in one_group:\n",
      "            i0 = all_chan.index(chan0)\n",
      "            for chan1 in one_group:\n",
      "                i1 = all_chan.index(chan1)\n",
      "                chan_prob[i0, i1] += 1\n",
      "    chan_prob_n = chan_prob / diag(chan_prob)\n",
      "\n",
      "    chan = get_chan_used_in_analysis(subj, 'sleep', ('grid', ), reref='avg', resample_freq=None)[1]\n",
      "    if hemi_subj[subj] == 'lh':\n",
      "        for one_chan in chan.chan:\n",
      "            one_chan.xyz *= (-1, 1, 1)\n",
      "\n",
      "    fs = Freesurfer(join(REC_DIR, subj, FS_PATH))\n",
      "    surf = fs.read_surf('rh')\n",
      "\n",
      "    data_chan = make_chan_data(chan(func=lambda x: x.label in all_chan), mean(chan_prob_n, axis=1))\n",
      "\n",
      "    l = Linear(surf, chan, std=STD, threshold=THRESHOLD)\n",
      "    m = Morph(surf)\n",
      "    all_elec.append(m(l(data_chan)))"
     ],
     "language": "python",
     "metadata": {},
     "outputs": []
    },
    {
     "cell_type": "code",
     "collapsed": false,
     "input": [
      "from copy import deepcopy"
     ],
     "language": "python",
     "metadata": {},
     "outputs": []
    },
    {
     "cell_type": "code",
     "collapsed": false,
     "input": [
      "for x in all_elec:\n",
      "    x.data[0][x.data[0] < 0.001] = NaN\n",
      "avg_elec = deepcopy(all_elec[0])\n",
      "avg_elec.data[0] = nanmean(asarray([x.data[0] for x in all_elec]), axis=0)"
     ],
     "language": "python",
     "metadata": {},
     "outputs": []
    },
    {
     "cell_type": "code",
     "collapsed": false,
     "input": [
      "from visvis import CM_JET, CM_HOT\n",
      "\n",
      "fs_avg = Freesurfer('/opt/freesurfer/subjects/fsaverage')\n",
      "surf_avg = fs_avg.read_surf('rh', surf_type='pial')\n",
      "v = Viz3()\n",
      "v.add_surf(surf_avg, values=avg_elec(trial=0)[163842:], limits=(0, .2), colormap=CM_JET)\n",
      "\n",
      "camera_pos =  {'loc': (30, -16.1, 16.2), 'elevation': 0, 'zoom': 0.0077, 'azimuth': 90}\n",
      "v._ax.camera.loc = camera_pos['loc']\n",
      "v._ax.camera.elevation = camera_pos['elevation']\n",
      "v._ax.camera.zoom = camera_pos['zoom']\n",
      "v._ax.camera.azimuth = camera_pos['azimuth']\n",
      "\n",
      "v._fig.DrawNow()"
     ],
     "language": "python",
     "metadata": {},
     "outputs": []
    },
    {
     "cell_type": "code",
     "collapsed": false,
     "input": [
      "screenshot(join(coocc_dir, 'fsaverage.jpg'), v._ax, sf=2)\n",
      "v._fig.Destroy()"
     ],
     "language": "python",
     "metadata": {},
     "outputs": []
    },
    {
     "cell_type": "code",
     "collapsed": false,
     "input": [],
     "language": "python",
     "metadata": {},
     "outputs": []
    }
   ],
   "metadata": {}
  }
 ]
}