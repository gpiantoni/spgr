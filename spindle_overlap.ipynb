{
 "metadata": {
  "name": "",
  "signature": "sha256:eb64657638143b5f3b96d7ec67bd53b7165a4434d6a3de49673aba9a2f9c8612"
 },
 "nbformat": 3,
 "nbformat_minor": 0,
 "worksheets": [
  {
   "cells": [
    {
     "cell_type": "heading",
     "level": 1,
     "metadata": {},
     "source": [
      "SPGR"
     ]
    },
    {
     "cell_type": "code",
     "collapsed": false,
     "input": [
      "import version_control\n",
      "%gui qt"
     ],
     "language": "python",
     "metadata": {},
     "outputs": [
      {
       "output_type": "stream",
       "stream": "stdout",
       "text": [
        "Last run on ip94.ucsd.edu at 2015-02-24 18:06:31.966188\n",
        "\n",
        "Phypno Version: 238aa5280e516665987d1d8ed083c7d6a76d82ea\n",
        "\n",
        "astroid==1.3.4, conda==3.9.0, conda-env==2.1.3, docutils==0.12, ipython==2.4.1, Jinja2==2.7.3, logilab-common==0.63.2, MarkupSafe==0.23, matplotlib==1.4.3, nibabel==2.0.0, nose==1.3.4, numpy==1.9.1, pandas==0.15.2, pep8==1.6.2, psutil==2.2.1, pycosat==0.6.1, pyflakes==0.8.1, Pygments==2.0.1, pylint==1.4.1, PyOpenGL==3.1.0, pyparsing==2.0.3, pyqtgraph==0.9.10, python-dateutil==2.1, pytz==2014.9, PyYAML==3.11, pyzmq==14.5.0, requests==2.5.2, rope-py3k==0.9.4.post1, scikit-learn==0.15.2, scipy==0.15.1, six==1.9.0, Sphinx==1.2.3, spyder==2.3.2, tornado==4.1, "
       ]
      },
      {
       "output_type": "stream",
       "stream": "stdout",
       "text": [
        "\n"
       ]
      }
     ],
     "prompt_number": 1
    },
    {
     "cell_type": "code",
     "collapsed": false,
     "input": [
      "from spgr import lg\n",
      "lg.setLevel(10)"
     ],
     "language": "python",
     "metadata": {},
     "outputs": [
      {
       "output_type": "stream",
       "stream": "stderr",
       "text": [
        "/home/gpiantoni/miniconda3/lib/python3.4/site-packages/IPython/external/qt_loaders.py:118: ResourceWarning: unclosed file <_io.BufferedReader name='/home/gpiantoni/miniconda3/lib/python3.4/site-packages/PyQt4/QtCore.so'>\n",
        "  imp.find_module('QtCore', mod.__path__)\n",
        "/home/gpiantoni/miniconda3/lib/python3.4/site-packages/IPython/external/qt_loaders.py:119: ResourceWarning: unclosed file <_io.BufferedReader name='/home/gpiantoni/miniconda3/lib/python3.4/site-packages/PyQt4/QtGui.so'>\n",
        "  imp.find_module('QtGui', mod.__path__)\n",
        "/home/gpiantoni/miniconda3/lib/python3.4/site-packages/IPython/external/qt_loaders.py:120: ResourceWarning: unclosed file <_io.BufferedReader name='/home/gpiantoni/miniconda3/lib/python3.4/site-packages/PyQt4/QtSvg.so'>\n",
        "  imp.find_module('QtSvg', mod.__path__)\n"
       ]
      }
     ],
     "prompt_number": 2
    },
    {
     "cell_type": "heading",
     "level": 2,
     "metadata": {},
     "source": [
      "Spindle Cooccurrence"
     ]
    },
    {
     "cell_type": "heading",
     "level": 3,
     "metadata": {},
     "source": [
      "Parameters"
     ]
    },
    {
     "cell_type": "markdown",
     "metadata": {},
     "source": [
      "Most spindles were synchronous only in one or a few channels at the same time (Fig. +[spgr_histogram]).\n",
      "However, some spindles were widely distributed over up to 20 channels."
     ]
    },
    {
     "cell_type": "code",
     "collapsed": false,
     "input": [
      "hemi_subj = {'EM09': 'rh', \n",
      "             'MG17': 'rh',\n",
      "             'MG33': 'lh',\n",
      "             'MG37': 'lh',\n",
      "             'MG61': 'lh',\n",
      "             'MG63': 'rh',\n",
      "             }\n",
      "all_subj = sorted(hemi_subj.keys())"
     ],
     "language": "python",
     "metadata": {},
     "outputs": [],
     "prompt_number": 3
    },
    {
     "cell_type": "code",
     "collapsed": false,
     "input": [
      "options = {'reref': 'avg',\n",
      "           'resample_freq': 256,\n",
      "           'hp_filter': 0.5,\n",
      "           'lp_filter': 50,\n",
      "           }\n",
      "chan_type = ('grid', )"
     ],
     "language": "python",
     "metadata": {},
     "outputs": [],
     "prompt_number": 4
    },
    {
     "cell_type": "code",
     "collapsed": false,
     "input": [
      "spindles_options = {'method': 'Nir2011', \n",
      "                    'frequency': (9, 16), \n",
      "                    'duration':(0.5, 2),\n",
      "                    }\n",
      "spindles_options.update(options)"
     ],
     "language": "python",
     "metadata": {},
     "outputs": [],
     "prompt_number": 5
    },
    {
     "cell_type": "code",
     "collapsed": false,
     "input": [
      "STD = 10\n",
      "THRESHOLD = 20"
     ],
     "language": "python",
     "metadata": {},
     "outputs": [],
     "prompt_number": 6
    },
    {
     "cell_type": "heading",
     "level": 3,
     "metadata": {},
     "source": [
      "Code"
     ]
    },
    {
     "cell_type": "code",
     "collapsed": false,
     "input": [
      "%matplotlib inline\n",
      "from matplotlib.pyplot import bar, savefig, xlabel, ylabel, close, plot, ylim, imshow, figure, colorbar, gca\n",
      "import matplotlib \n",
      "matplotlib.rcParams.update({'font.size': 24})"
     ],
     "language": "python",
     "metadata": {},
     "outputs": [],
     "prompt_number": 7
    },
    {
     "cell_type": "code",
     "collapsed": false,
     "input": [
      "from os import makedirs\n",
      "from os.path import join\n",
      "from numpy import arange, max\n",
      "from spgr.detect_spindles import get_spindles\n",
      "from spgr.plot_spindles import hist_overlap"
     ],
     "language": "python",
     "metadata": {},
     "outputs": [
      {
       "output_type": "stream",
       "stream": "stderr",
       "text": [
        "WARNING:phypno.attr.anat:Could not find lookup table, some functions that rely on it might complain or crash.\n"
       ]
      }
     ],
     "prompt_number": 8
    },
    {
     "cell_type": "code",
     "collapsed": false,
     "input": [
      "img_dir = '/home/gpiantoni/Copy/Presentations/2013_MGH/20150225_UCSD/img/avg'"
     ],
     "language": "python",
     "metadata": {},
     "outputs": [],
     "prompt_number": 9
    },
    {
     "cell_type": "code",
     "collapsed": false,
     "input": [
      "from phypno.viz.base import Viz\n",
      "from pyqtgraph import BarGraphItem, GraphicsLayoutWidget"
     ],
     "language": "python",
     "metadata": {},
     "outputs": [],
     "prompt_number": 10
    },
    {
     "cell_type": "code",
     "collapsed": false,
     "input": [
      "width = 2\n",
      "nchan = 30"
     ],
     "language": "python",
     "metadata": {},
     "outputs": [],
     "prompt_number": 11
    },
    {
     "cell_type": "code",
     "collapsed": false,
     "input": [
      "v = Viz()\n",
      "\n",
      "w = GraphicsLayoutWidget()\n",
      "v._widget = w\n",
      "\n",
      "N_PER_ROW = 2\n",
      "i = 0\n",
      "\n",
      "for i, subj in enumerate(all_subj):\n",
      "\n",
      "    if i % N_PER_ROW == 0:\n",
      "        w.nextRow()\n",
      "        \n",
      "    spindles = get_spindles(subj, **spindles_options)\n",
      "\n",
      "    h0, h1 = hist_overlap(spindles, width=width, nchan=nchan)\n",
      "    \n",
      "    p = w.addPlot(title=subj)\n",
      "\n",
      "    bars = BarGraphItem(x0=h1[:-1], height=h0, width=width)\n",
      "    p.setLabels(left='# spindles')\n",
      "    p.addItem(bars)\n",
      "    \n",
      "    if i > 3:\n",
      "        p.setLabels(bottom='# electrodes')\n",
      "\n",
      "w.show()\n",
      "v.save(join(img_dir, 'hist_cooccurrence.png'))"
     ],
     "language": "python",
     "metadata": {},
     "outputs": [],
     "prompt_number": 12
    },
    {
     "cell_type": "heading",
     "level": 3,
     "metadata": {},
     "source": [
      "Plots of common spindles"
     ]
    },
    {
     "cell_type": "code",
     "collapsed": false,
     "input": [
      "from phypno import Data"
     ],
     "language": "python",
     "metadata": {},
     "outputs": [],
     "prompt_number": 13
    },
    {
     "cell_type": "code",
     "collapsed": false,
     "input": [
      "from phypno.viz.plot_3d import Viz3\n",
      "from spgr.read_data import get_data, REC_DIR, FS_PATH\n",
      "from phypno.attr import Freesurfer\n",
      "from numpy.linalg import norm"
     ],
     "language": "python",
     "metadata": {},
     "outputs": [],
     "prompt_number": 14
    },
    {
     "cell_type": "code",
     "collapsed": false,
     "input": [
      "from phypno.source import Linear, Morph\n",
      "\n",
      "STD = 10\n",
      "THRESHOLD = 20"
     ],
     "language": "python",
     "metadata": {},
     "outputs": [],
     "prompt_number": 15
    },
    {
     "cell_type": "code",
     "collapsed": false,
     "input": [
      "from spgr.stats_on_spindles import estimate_overlap\n",
      "from numpy import asarray, sum, where, diff, r_, zeros, diag, mean, NaN, nanmean"
     ],
     "language": "python",
     "metadata": {},
     "outputs": [],
     "prompt_number": 16
    },
    {
     "cell_type": "code",
     "collapsed": false,
     "input": [
      "all_elec = []\n",
      "min_distance = None\n",
      "\n",
      "for subj in all_subj:\n",
      "\n",
      "    spindles = get_spindles(subj, **spindles_options)\n",
      "    \n",
      "    s = asarray([x['start_time'] for x in spindles.spindle])\n",
      "    e = asarray([x['end_time'] for x in spindles.spindle])\n",
      "    ov = estimate_overlap(s, e)\n",
      "\n",
      "    x = sum(ov, axis=1)\n",
      "    v = diff(r_[0, where(x == 1)[0]])\n",
      "\n",
      "    sp_groups = []\n",
      "    i0 = 0\n",
      "    i1 = 0\n",
      "\n",
      "    for one_v in v:\n",
      "        i1 += one_v\n",
      "        sp_groups.append(spindles.spindle[i0:i1])\n",
      "        i0 += one_v\n",
      "\n",
      "    chan_group = []\n",
      "    for one_group in sp_groups:\n",
      "        chan_group.append([x['chan'] for x in one_group])    \n",
      "\n",
      "    data = get_data(subj, 'sleep', chan_type, **options)\n",
      "    chan = data.attr['chan']\n",
      "    all_chan = chan.return_label()\n",
      "    \n",
      "    chan_prob = zeros((chan.n_chan, chan.n_chan))\n",
      "\n",
      "    for one_group in chan_group:\n",
      "        for chan0 in one_group:\n",
      "            i0 = all_chan.index(chan0)\n",
      "            for chan1 in one_group:\n",
      "                i1 = all_chan.index(chan1)\n",
      "                chan_prob[i0, i1] += 1\n",
      "\n",
      "    chan_dist = zeros((chan.n_chan, chan.n_chan))\n",
      "    for i0 in range(chan.n_chan):\n",
      "        for i1 in range(chan.n_chan):\n",
      "            chan_dist[i0, i1] = norm(chan.chan[i0].xyz - chan.chan[i1].xyz)\n",
      "\n",
      "    diag = chan_prob.diagonal().copy()\n",
      "    if min_distance:\n",
      "        chan_prob[chan_dist <= min_distance] = NaN  # use NaN to exclude chan too close\n",
      "    \n",
      "    chan_prob_n = chan_prob / diag\n",
      "\n",
      "    if hemi_subj[subj] == 'lh':\n",
      "        for one_chan in chan.chan:\n",
      "            one_chan.xyz *= (-1, 1, 1)\n",
      "\n",
      "    fs = Freesurfer(join(REC_DIR, subj, FS_PATH))\n",
      "    surf = fs.read_surf('rh')\n",
      "\n",
      "    data_chan = Data(nanmean(chan_prob_n, axis=1), chan=chan(func=lambda x: x.label in all_chan))\n",
      "\n",
      "    l = Linear(surf, chan, std=STD, threshold=THRESHOLD)\n",
      "    m = Morph(surf)\n",
      "    all_elec.append(m(l(data_chan)))"
     ],
     "language": "python",
     "metadata": {},
     "outputs": [
      {
       "output_type": "stream",
       "stream": "stderr",
       "text": [
        "INFO:/home/gpiantoni/projects/spgr/scripts/spgr/read_data.py:Subj EM09, reading data: EM09_sleep_grid_hp005_lp500_rs256.pkl\n"
       ]
      },
      {
       "output_type": "stream",
       "stream": "stderr",
       "text": [
        "INFO:/home/gpiantoni/projects/spgr/scripts/spgr/read_data.py:EM09 analysis chan 69, with location 69\n"
       ]
      },
      {
       "output_type": "stream",
       "stream": "stderr",
       "text": [
        "WARNING:phypno.attr.anat:Could not find lookup table, some functions that rely on it might complain or crash.\n"
       ]
      },
      {
       "output_type": "stream",
       "stream": "stderr",
       "text": [
        "INFO:/home/gpiantoni/projects/spgr/scripts/spgr/read_data.py:Subj MG17, reading data: MG17_sleep_grid_hp005_lp500_rs256.pkl\n"
       ]
      },
      {
       "output_type": "stream",
       "stream": "stderr",
       "text": [
        "INFO:/home/gpiantoni/projects/spgr/scripts/spgr/read_data.py:MG17 analysis chan 93, with location 93\n"
       ]
      },
      {
       "output_type": "stream",
       "stream": "stderr",
       "text": [
        "WARNING:phypno.attr.anat:Could not find lookup table, some functions that rely on it might complain or crash.\n"
       ]
      },
      {
       "output_type": "stream",
       "stream": "stderr",
       "text": [
        "INFO:/home/gpiantoni/projects/spgr/scripts/spgr/read_data.py:Subj MG33, reading data: MG33_sleep_grid_hp005_lp500_rs256.pkl\n"
       ]
      },
      {
       "output_type": "stream",
       "stream": "stderr",
       "text": [
        "INFO:/home/gpiantoni/projects/spgr/scripts/spgr/read_data.py:MG33 analysis chan 64, with location 64\n"
       ]
      },
      {
       "output_type": "stream",
       "stream": "stderr",
       "text": [
        "WARNING:phypno.attr.anat:Could not find lookup table, some functions that rely on it might complain or crash.\n"
       ]
      },
      {
       "output_type": "stream",
       "stream": "stderr",
       "text": [
        "INFO:/home/gpiantoni/projects/spgr/scripts/spgr/read_data.py:Subj MG37, reading data: MG37_sleep_grid_hp005_lp500_rs256.pkl\n"
       ]
      },
      {
       "output_type": "stream",
       "stream": "stderr",
       "text": [
        "INFO:/home/gpiantoni/projects/spgr/scripts/spgr/read_data.py:MG37 analysis chan 78, with location 78\n"
       ]
      },
      {
       "output_type": "stream",
       "stream": "stderr",
       "text": [
        "WARNING:phypno.attr.anat:Could not find lookup table, some functions that rely on it might complain or crash.\n"
       ]
      },
      {
       "output_type": "stream",
       "stream": "stderr",
       "text": [
        "INFO:/home/gpiantoni/projects/spgr/scripts/spgr/read_data.py:Subj MG61, reading data: MG61_sleep_grid_hp005_lp500_rs256.pkl\n"
       ]
      },
      {
       "output_type": "stream",
       "stream": "stderr",
       "text": [
        "INFO:/home/gpiantoni/projects/spgr/scripts/spgr/read_data.py:MG61 analysis chan 93, with location 93\n"
       ]
      },
      {
       "output_type": "stream",
       "stream": "stderr",
       "text": [
        "WARNING:phypno.attr.anat:Could not find lookup table, some functions that rely on it might complain or crash.\n"
       ]
      },
      {
       "output_type": "stream",
       "stream": "stderr",
       "text": [
        "INFO:/home/gpiantoni/projects/spgr/scripts/spgr/read_data.py:Subj MG63, reading data: MG63_sleep_grid_hp005_lp500_rs256.pkl\n"
       ]
      },
      {
       "output_type": "stream",
       "stream": "stderr",
       "text": [
        "INFO:/home/gpiantoni/projects/spgr/scripts/spgr/read_data.py:MG63 analysis chan 93, with location 93\n"
       ]
      },
      {
       "output_type": "stream",
       "stream": "stderr",
       "text": [
        "WARNING:phypno.attr.anat:Could not find lookup table, some functions that rely on it might complain or crash.\n"
       ]
      }
     ],
     "prompt_number": 17
    },
    {
     "cell_type": "code",
     "collapsed": false,
     "input": [
      "from spgr.plot_spindles import plot_surf"
     ],
     "language": "python",
     "metadata": {},
     "outputs": [],
     "prompt_number": 18
    },
    {
     "cell_type": "code",
     "collapsed": false,
     "input": [
      "v = plot_surf(all_elec, (0.001, None), (0, .2))"
     ],
     "language": "python",
     "metadata": {},
     "outputs": [
      {
       "output_type": "stream",
       "stream": "stderr",
       "text": [
        "/home/gpiantoni/projects/spgr/scripts/spgr/plot_spindles.py:47: RuntimeWarning: invalid value encountered in less\n",
        "  x.data[0][x.data[0] < threshold[0]] = NaN\n",
        "/home/gpiantoni/miniconda3/lib/python3.4/site-packages/numpy/lib/nanfunctions.py:598: RuntimeWarning: Mean of empty slice\n",
        "  warnings.warn(\"Mean of empty slice\", RuntimeWarning)\n"
       ]
      }
     ],
     "prompt_number": 20
    },
    {
     "cell_type": "markdown",
     "metadata": {},
     "source": [
      "Spindles in the prefrontal cortex are mostly likely to co-occur with spindles in other brain areas (Fig. +[spgr_topo_cooccur])."
     ]
    },
    {
     "cell_type": "code",
     "collapsed": false,
     "input": [
      "if min_distance:\n",
      "    v.save(join(img_dir, 'sync_spindles_min{}.png'.format(min_distance)))\n",
      "else:\n",
      "    v.save(join(img_dir, 'sync_spindles.png'.format(min_distance)))"
     ],
     "language": "python",
     "metadata": {},
     "outputs": [],
     "prompt_number": 21
    },
    {
     "cell_type": "code",
     "collapsed": false,
     "input": [],
     "language": "python",
     "metadata": {},
     "outputs": []
    }
   ],
   "metadata": {}
  }
 ]
}