{
 "cells": [
  {
   "cell_type": "markdown",
   "metadata": {},
   "source": [
    "# SPGR"
   ]
  },
  {
   "cell_type": "code",
   "execution_count": 1,
   "metadata": {
    "collapsed": false
   },
   "outputs": [
    {
     "name": "stdout",
     "output_type": "stream",
     "text": [
      "Last run on cashlab03-deb at 2015-03-27 15:46:52.315994\n",
      "\n",
      "Phypno Version: 01ade7cd0403c2fb7015744a0e2642e9dee19871\n",
      "\n",
      "Babel==1.3, Cython==0.22, Jinja2==2.7.3, Markdown==2.6.1, MarkupSafe==0.23, Pillow==2.7.0, PyOpenGL==3.1.0, Pygments==2.0.2, Sphinx==1.3.1, alabaster==0.7.3, bash-kernel==0.3, beautifulsoup4==4.3.2, biopython==1.65, certifi==14.05.14, coverage==3.7.1, decorator==3.4.2, docutils==0.12, easydev==0.8.3, ipython==3.0.0, jedi==0.8.1-final0, jsonschema==2.4.0, matplotlib==1.4.3, memory-profiler==0.32, mistune==0.5.1, networkx==1.9.1, nibabel==2.0.0, nitime==0.5, nltk==3.0.2, nose==1.3.4, numpy==1.9.2, numpydoc==0.5, ordereddict==1.1, pandas==0.16.0, pandocfilters==1.2.3, pep8==1.6.2, pexpect==3.3, pockets==0.2.4, psutil==2.2.1, pycurl==7.19.5.1, pyflakes==0.8.1, pyparsing==2.0.3, pyqtgraph==0.9.10, python-dateutil==2.4.1, python-igraph==0.7.1-4, pytz==2015.2, pyzmq==14.5.0, requests==2.6.0, rope-py3k==0.9.4-1, rpy2==2.5.6, scikit-learn==0.16.0, scipy==0.15.1, six==1.9.0, snowballstemmer==1.2.0, sphinx-rtd-theme==0.1.7, sphinxcontrib-napoleon==0.3.1, spyder==2.3.4, tornado==4.1, visvis==1.9.1, xmltodict==0.9.2, \n"
     ]
    }
   ],
   "source": [
    "import version_control"
   ]
  },
  {
   "cell_type": "code",
   "execution_count": 2,
   "metadata": {
    "collapsed": false
   },
   "outputs": [],
   "source": [
    "from spgr import lg\n",
    "lg.setLevel(10)"
   ]
  },
  {
   "cell_type": "markdown",
   "metadata": {},
   "source": [
    "## Spindle Cooccurrence"
   ]
  },
  {
   "cell_type": "markdown",
   "metadata": {},
   "source": [
    "### Parameters"
   ]
  },
  {
   "cell_type": "markdown",
   "metadata": {},
   "source": [
    "Most spindles were synchronous only in one or a few channels at the same time (Fig. +[spgr_histogram]).\n",
    "However, some spindles were widely distributed over up to 20 channels."
   ]
  },
  {
   "cell_type": "code",
   "execution_count": 3,
   "metadata": {
    "collapsed": false
   },
   "outputs": [],
   "source": [
    "hemi_subj = {'EM09': 'rh', \n",
    "             'MG17': 'rh',\n",
    "             'MG33': 'lh',\n",
    "             'MG37': 'lh',\n",
    "             'MG61': 'lh',\n",
    "             'MG63': 'rh',\n",
    "             }\n",
    "all_subj = sorted(hemi_subj.keys())"
   ]
  },
  {
   "cell_type": "code",
   "execution_count": 4,
   "metadata": {
    "collapsed": false
   },
   "outputs": [],
   "source": [
    "options = {'reref': 'avg',\n",
    "           'resample_freq': 256,\n",
    "           'hp_filter': 0.5,\n",
    "           'lp_filter': 50,\n",
    "           }\n",
    "chan_type = ('grid', 'strip')"
   ]
  },
  {
   "cell_type": "code",
   "execution_count": 5,
   "metadata": {
    "collapsed": false
   },
   "outputs": [],
   "source": [
    "spindles_options = {'method': 'Nir2011', \n",
    "                    'frequency': (9, 16), \n",
    "                    'duration':(0.5, 2),\n",
    "                    }\n",
    "spindles_options.update(options)"
   ]
  },
  {
   "cell_type": "code",
   "execution_count": 6,
   "metadata": {
    "collapsed": false
   },
   "outputs": [],
   "source": [
    "STD = 10\n",
    "THRESHOLD = 20"
   ]
  },
  {
   "cell_type": "markdown",
   "metadata": {},
   "source": [
    "### Code"
   ]
  },
  {
   "cell_type": "code",
   "execution_count": 10,
   "metadata": {
    "collapsed": false
   },
   "outputs": [],
   "source": [
    "from pathlib import Path\n",
    "from numpy import arange, max\n",
    "from spgr.detect_spindles import get_spindles\n",
    "from spgr.plot_spindles import hist_overlap\n",
    "\n",
    "from spgr.read_data import GROUP_DIR\n",
    "GROUP_DIR = Path(GROUP_DIR)"
   ]
  },
  {
   "cell_type": "code",
   "execution_count": 11,
   "metadata": {
    "collapsed": false
   },
   "outputs": [],
   "source": [
    "images_dir = GROUP_DIR.joinpath('images').joinpath('property_descriptive')\n",
    "try:\n",
    "    images_dir.mkdir()\n",
    "except FileExistsError:\n",
    "    pass\n",
    "\n",
    "PLOT_COLOR = 'kw'"
   ]
  },
  {
   "cell_type": "code",
   "execution_count": 15,
   "metadata": {
    "collapsed": false
   },
   "outputs": [],
   "source": [
    "from phypno.viz.base import Viz\n",
    "from pyqtgraph import BarGraphItem, GraphicsLayoutWidget, setConfigOption"
   ]
  },
  {
   "cell_type": "code",
   "execution_count": 16,
   "metadata": {
    "collapsed": false
   },
   "outputs": [],
   "source": [
    "width = 2\n",
    "nchan = 30\n",
    "setConfigOption('foreground', PLOT_COLOR[0])\n",
    "setConfigOption('background', PLOT_COLOR[1])"
   ]
  },
  {
   "cell_type": "code",
   "execution_count": 17,
   "metadata": {
    "collapsed": false
   },
   "outputs": [
    {
     "data": {
      "image/png": "[encoded data removed]",
      "text/plain": [
       "<phypno.viz.base.Viz at 0x7fede0d5ff28>"
      ]
     },
     "execution_count": 17,
     "metadata": {},
     "output_type": "execute_result"
    }
   ],
   "source": [
    "v = Viz()\n",
    "\n",
    "w = GraphicsLayoutWidget()\n",
    "v._widget = w\n",
    "\n",
    "N_PER_ROW = 2\n",
    "i = 0\n",
    "\n",
    "for i, subj in enumerate(all_subj):\n",
    "\n",
    "    if i % N_PER_ROW == 0:\n",
    "        w.nextRow()\n",
    "        \n",
    "    spindles = get_spindles(subj, **spindles_options)\n",
    "\n",
    "    h0, h1 = hist_overlap(spindles, width=width, nchan=nchan)\n",
    "    \n",
    "    p = w.addPlot(title=subj)\n",
    "\n",
    "    bars = BarGraphItem(x0=h1[:-1], height=h0, width=width)\n",
    "    p.setLabels(left='# spindles')\n",
    "    p.addItem(bars)\n",
    "    \n",
    "    if i > 3:\n",
    "        p.setLabels(bottom='# electrodes')\n",
    "\n",
    "# v.save(join(img_dir, 'hist_cooccurrence.png'))\n",
    "v"
   ]
  },
  {
   "cell_type": "markdown",
   "metadata": {},
   "source": [
    "### Plots of common spindles"
   ]
  },
  {
   "cell_type": "code",
   "execution_count": null,
   "metadata": {
    "collapsed": false
   },
   "outputs": [],
   "source": [
    "from phypno import Data"
   ]
  },
  {
   "cell_type": "code",
   "execution_count": null,
   "metadata": {
    "collapsed": false
   },
   "outputs": [],
   "source": [
    "from phypno.viz.plot_3d import Viz3\n",
    "from spgr.read_data import get_data, REC_DIR, FS_PATH\n",
    "from phypno.attr import Freesurfer\n",
    "from numpy.linalg import norm"
   ]
  },
  {
   "cell_type": "code",
   "execution_count": null,
   "metadata": {
    "collapsed": false
   },
   "outputs": [],
   "source": [
    "from phypno.source import Linear, Morph\n",
    "\n",
    "STD = 10\n",
    "THRESHOLD = 20"
   ]
  },
  {
   "cell_type": "code",
   "execution_count": null,
   "metadata": {
    "collapsed": false
   },
   "outputs": [],
   "source": [
    "from spgr.stats_on_spindles import estimate_overlap\n",
    "from numpy import asarray, sum, where, diff, r_, zeros, diag, mean, NaN, nanmean"
   ]
  },
  {
   "cell_type": "code",
   "execution_count": null,
   "metadata": {
    "collapsed": false
   },
   "outputs": [],
   "source": [
    "all_elec = []\n",
    "min_distance = None\n",
    "\n",
    "for subj in all_subj:\n",
    "\n",
    "    spindles = get_spindles(subj, **spindles_options)\n",
    "    \n",
    "    s = asarray([x['start_time'] for x in spindles.spindle])\n",
    "    e = asarray([x['end_time'] for x in spindles.spindle])\n",
    "    ov = estimate_overlap(s, e)\n",
    "\n",
    "    x = sum(ov, axis=1)\n",
    "    v = diff(r_[0, where(x == 1)[0]])\n",
    "\n",
    "    sp_groups = []\n",
    "    i0 = 0\n",
    "    i1 = 0\n",
    "\n",
    "    for one_v in v:\n",
    "        i1 += one_v\n",
    "        sp_groups.append(spindles.spindle[i0:i1])\n",
    "        i0 += one_v\n",
    "\n",
    "    chan_group = []\n",
    "    for one_group in sp_groups:\n",
    "        chan_group.append([x['chan'] for x in one_group])    \n",
    "\n",
    "    data = get_data(subj, 'sleep', chan_type, **options)\n",
    "    chan = data.attr['chan']\n",
    "    all_chan = chan.return_label()\n",
    "    \n",
    "    chan_prob = zeros((chan.n_chan, chan.n_chan))\n",
    "\n",
    "    for one_group in chan_group:\n",
    "        for chan0 in one_group:\n",
    "            i0 = all_chan.index(chan0)\n",
    "            for chan1 in one_group:\n",
    "                i1 = all_chan.index(chan1)\n",
    "                chan_prob[i0, i1] += 1\n",
    "\n",
    "    chan_dist = zeros((chan.n_chan, chan.n_chan))\n",
    "    for i0 in range(chan.n_chan):\n",
    "        for i1 in range(chan.n_chan):\n",
    "            chan_dist[i0, i1] = norm(chan.chan[i0].xyz - chan.chan[i1].xyz)\n",
    "\n",
    "    diag = chan_prob.diagonal().copy()\n",
    "    if min_distance:\n",
    "        chan_prob[chan_dist <= min_distance] = NaN  # use NaN to exclude chan too close\n",
    "    \n",
    "    chan_prob_n = chan_prob / diag\n",
    "\n",
    "    if hemi_subj[subj] == 'lh':\n",
    "        for one_chan in chan.chan:\n",
    "            one_chan.xyz *= (-1, 1, 1)\n",
    "\n",
    "    fs = Freesurfer(join(REC_DIR, subj, FS_PATH))\n",
    "    surf = fs.read_surf('rh')\n",
    "\n",
    "    data_chan = Data(nanmean(chan_prob_n, axis=1), chan=chan(func=lambda x: x.label in all_chan))\n",
    "\n",
    "    l = Linear(surf, chan, std=STD, threshold=THRESHOLD)\n",
    "    m = Morph(surf)\n",
    "    all_elec.append(m(l(data_chan)))"
   ]
  },
  {
   "cell_type": "code",
   "execution_count": null,
   "metadata": {
    "collapsed": false
   },
   "outputs": [],
   "source": [
    "from pyqtgraph import ImageWindow\n",
    "import pyqtgraph as pg"
   ]
  },
  {
   "cell_type": "code",
   "execution_count": null,
   "metadata": {
    "collapsed": false
   },
   "outputs": [],
   "source": [
    "from phypno.viz.base import Colormap, Viz\n",
    "cm = Colormap('coolwarm', limits=(0, 1))"
   ]
  },
  {
   "cell_type": "code",
   "execution_count": null,
   "metadata": {
    "collapsed": false
   },
   "outputs": [],
   "source": [
    "image(chan_prob_n)"
   ]
  },
  {
   "cell_type": "code",
   "execution_count": null,
   "metadata": {
    "collapsed": false
   },
   "outputs": [],
   "source": [
    "# GUI\n",
    "win = pg.GraphicsWindow()\n",
    "view = win.addViewBox()\n",
    "view.invertY()\n",
    "view.setAspectLocked(True)\n",
    "item = pg.ImageItem(chan_prob)\n",
    "view.addItem(item)\n",
    "item.setLookupTable(lut)\n",
    "item.setLevels([0, 40])\n",
    "\n",
    "v = Viz()\n",
    "v._widget = win\n",
    "v.size = 500, 400\n",
    "# v.save('/home/gpiantoni/Copy/Presentations/2013_MGH/20150225_UCSD/img/avg/image_cooccurrence.png')\n",
    "v"
   ]
  },
  {
   "cell_type": "code",
   "execution_count": null,
   "metadata": {
    "collapsed": false
   },
   "outputs": [],
   "source": [
    "# GUI\n",
    "win = pg.GraphicsWindow()\n",
    "view = win.addViewBox()\n",
    "view.invertY()\n",
    "view.setAspectLocked(True)\n",
    "item = pg.ImageItem(chan_prob_n)\n",
    "view.addItem(item)\n",
    "item.setLookupTable(lut)\n",
    "item.setLevels([0, .5])\n",
    "\n",
    "v = Viz()\n",
    "v._widget = win\n",
    "v.size = 500, 400\n",
    "v.save('/home/gpiantoni/Copy/Presentations/2013_MGH/20150225_UCSD/img/avg/ratio_cooccurrence.png')\n",
    "v"
   ]
  },
  {
   "cell_type": "code",
   "execution_count": null,
   "metadata": {
    "collapsed": false
   },
   "outputs": [],
   "source": [
    "from spgr.plot_spindles import plot_surf"
   ]
  },
  {
   "cell_type": "code",
   "execution_count": null,
   "metadata": {
    "collapsed": false
   },
   "outputs": [],
   "source": [
    "v = plot_surf(all_elec, (0.001, None), (0, .2))\n",
    "v._widget.setBackgroundColor('w')"
   ]
  },
  {
   "cell_type": "markdown",
   "metadata": {},
   "source": [
    "Spindles in the prefrontal cortex are mostly likely to co-occur with spindles in other brain areas (Fig. +[spgr_topo_cooccur])."
   ]
  },
  {
   "cell_type": "code",
   "execution_count": null,
   "metadata": {
    "collapsed": false
   },
   "outputs": [],
   "source": [
    "if min_distance:\n",
    "    v.save(join(img_dir, 'sync_spindles_min{}.png'.format(min_distance)))\n",
    "else:\n",
    "    v.save(join(img_dir, 'sync_spindles.png'.format(min_distance)))"
   ]
  },
  {
   "cell_type": "code",
   "execution_count": null,
   "metadata": {
    "collapsed": false
   },
   "outputs": [],
   "source": [
    "from pyqtgraph import GradientWidget\n",
    "\n",
    "w = GradientWidget(orientation='left')\n",
    "w.show()"
   ]
  },
  {
   "cell_type": "code",
   "execution_count": null,
   "metadata": {
    "collapsed": false
   },
   "outputs": [],
   "source": [
    "w.item.setColorMap(cm)"
   ]
  },
  {
   "cell_type": "code",
   "execution_count": null,
   "metadata": {
    "collapsed": true
   },
   "outputs": [],
   "source": []
  }
 ],
 "metadata": {
  "kernelspec": {
   "display_name": "Python 3",
   "language": "python",
   "name": "python3"
  },
  "language_info": {
   "codemirror_mode": {
    "name": "ipython",
    "version": 3
   },
   "file_extension": ".py",
   "mimetype": "text/x-python",
   "name": "python",
   "nbconvert_exporter": "python",
   "pygments_lexer": "ipython3",
   "version": "3.4.2"
  }
 },
 "nbformat": 4,
 "nbformat_minor": 0
}
