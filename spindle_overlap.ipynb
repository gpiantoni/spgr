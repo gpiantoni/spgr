{
 "metadata": {
  "name": "",
  "signature": "sha256:773a4491c6c9a5ec5781dde3428f627b8d4a849626f837682b8304f2581bf45e"
 },
 "nbformat": 3,
 "nbformat_minor": 0,
 "worksheets": [
  {
   "cells": [
    {
     "cell_type": "heading",
     "level": 1,
     "metadata": {},
     "source": [
      "SPGR"
     ]
    },
    {
     "cell_type": "code",
     "collapsed": false,
     "input": [
      "import version_control\n",
      "%gui qt"
     ],
     "language": "python",
     "metadata": {},
     "outputs": [
      {
       "output_type": "stream",
       "stream": "stdout",
       "text": [
        "Last run on ip94.ucsd.edu at 2015-02-23 18:46:28.501637\n",
        "\n",
        "Phypno Version: ae5436c0cacdce0b554ef6872e66a620d522010d\n",
        "\n",
        "astroid==1.3.4, conda==3.9.0, conda-env==2.1.3, docutils==0.12, ipython==2.4.1, Jinja2==2.7.3, logilab-common==0.63.2, MarkupSafe==0.23, matplotlib==1.4.3, nibabel==2.0.0, nose==1.3.4, numpy==1.9.1, pandas==0.15.2, pep8==1.6.2, psutil==2.2.1, pycosat==0.6.1, pyflakes==0.8.1, Pygments==2.0.1, pylint==1.4.1, PyOpenGL==3.1.0, pyparsing==2.0.3, pyqtgraph==0.9.10, python-dateutil==2.1, pytz==2014.9, PyYAML==3.11, pyzmq==14.5.0, requests==2.5.2, rope-py3k==0.9.4.post1, scikit-learn==0.15.2, scipy==0.15.1, six==1.9.0, Sphinx==1.2.3, spyder==2.3.2, tornado==4.1, "
       ]
      },
      {
       "output_type": "stream",
       "stream": "stdout",
       "text": [
        "\n"
       ]
      }
     ],
     "prompt_number": 1
    },
    {
     "cell_type": "code",
     "collapsed": false,
     "input": [
      "from spgr import lg\n",
      "lg.setLevel(10)"
     ],
     "language": "python",
     "metadata": {},
     "outputs": [
      {
       "output_type": "stream",
       "stream": "stderr",
       "text": [
        "/home/gpiantoni/miniconda3/lib/python3.4/site-packages/IPython/external/qt_loaders.py:118: ResourceWarning: unclosed file <_io.BufferedReader name='/home/gpiantoni/miniconda3/lib/python3.4/site-packages/PyQt4/QtCore.so'>\n",
        "  imp.find_module('QtCore', mod.__path__)\n",
        "/home/gpiantoni/miniconda3/lib/python3.4/site-packages/IPython/external/qt_loaders.py:119: ResourceWarning: unclosed file <_io.BufferedReader name='/home/gpiantoni/miniconda3/lib/python3.4/site-packages/PyQt4/QtGui.so'>\n",
        "  imp.find_module('QtGui', mod.__path__)\n",
        "/home/gpiantoni/miniconda3/lib/python3.4/site-packages/IPython/external/qt_loaders.py:120: ResourceWarning: unclosed file <_io.BufferedReader name='/home/gpiantoni/miniconda3/lib/python3.4/site-packages/PyQt4/QtSvg.so'>\n",
        "  imp.find_module('QtSvg', mod.__path__)\n"
       ]
      }
     ],
     "prompt_number": 2
    },
    {
     "cell_type": "heading",
     "level": 2,
     "metadata": {},
     "source": [
      "Spindle Cooccurrence"
     ]
    },
    {
     "cell_type": "heading",
     "level": 3,
     "metadata": {},
     "source": [
      "Parameters"
     ]
    },
    {
     "cell_type": "markdown",
     "metadata": {},
     "source": [
      "Most spindles were synchronous only in one or a few channels at the same time (Fig. +[spgr_histogram]).\n",
      "However, some spindles were widely distributed over up to 20 channels."
     ]
    },
    {
     "cell_type": "code",
     "collapsed": false,
     "input": [
      "hemi_subj = {'EM09': 'rh', \n",
      "             'MG17': 'rh',\n",
      "             'MG33': 'lh',\n",
      "             'MG37': 'lh',\n",
      "             'MG61': 'lh',\n",
      "             'MG63': 'rh',\n",
      "             }\n",
      "all_subj = sorted(hemi_subj.keys())"
     ],
     "language": "python",
     "metadata": {},
     "outputs": [],
     "prompt_number": 3
    },
    {
     "cell_type": "code",
     "collapsed": false,
     "input": [
      "options = {'reref': 'avg',\n",
      "           'resample_freq': 256,\n",
      "           'hp_filter': 0.5,\n",
      "           'lp_filter': 50,\n",
      "           }\n",
      "chan_type = ('grid', )"
     ],
     "language": "python",
     "metadata": {},
     "outputs": [],
     "prompt_number": 4
    },
    {
     "cell_type": "code",
     "collapsed": false,
     "input": [
      "spindles_options = {'method': 'Nir2011', \n",
      "                    'frequency': (9, 16), \n",
      "                    'duration':(0.5, 2),\n",
      "                    }\n",
      "spindles_options.update(options)"
     ],
     "language": "python",
     "metadata": {},
     "outputs": [],
     "prompt_number": 5
    },
    {
     "cell_type": "code",
     "collapsed": false,
     "input": [
      "STD = 10\n",
      "THRESHOLD = 20"
     ],
     "language": "python",
     "metadata": {},
     "outputs": [],
     "prompt_number": 6
    },
    {
     "cell_type": "heading",
     "level": 3,
     "metadata": {},
     "source": [
      "Code"
     ]
    },
    {
     "cell_type": "code",
     "collapsed": false,
     "input": [
      "%matplotlib inline\n",
      "from matplotlib.pyplot import bar, savefig, xlabel, ylabel, close, plot, ylim, imshow, figure, colorbar, gca\n",
      "import matplotlib \n",
      "matplotlib.rcParams.update({'font.size': 24})"
     ],
     "language": "python",
     "metadata": {},
     "outputs": [],
     "prompt_number": 7
    },
    {
     "cell_type": "code",
     "collapsed": false,
     "input": [
      "from os import makedirs\n",
      "from os.path import join\n",
      "from numpy import arange, max\n",
      "from spgr.detect_spindles import get_spindles\n",
      "from spgr.plot_spindles import hist_overlap"
     ],
     "language": "python",
     "metadata": {},
     "outputs": [],
     "prompt_number": 8
    },
    {
     "cell_type": "code",
     "collapsed": false,
     "input": [
      "coocc_dir = join(GROUP_DIR, 'cooccurrence')\n",
      "makedirs(coocc_dir, exist_ok=True)"
     ],
     "language": "python",
     "metadata": {},
     "outputs": []
    },
    {
     "cell_type": "code",
     "collapsed": false,
     "input": [
      "from pyqtgraph import BarGraphItem, plot"
     ],
     "language": "python",
     "metadata": {},
     "outputs": [],
     "prompt_number": 19
    },
    {
     "cell_type": "code",
     "collapsed": false,
     "input": [
      "width = 2\n",
      "nchan = 30\n",
      "subj = all_subj[0]\n",
      "spindles = get_spindles(subj, **spindles_options)\n",
      "    \n",
      "h0, h1 = hist_overlap(spindles, width=width, nchan=nchan)"
     ],
     "language": "python",
     "metadata": {},
     "outputs": [],
     "prompt_number": 11
    },
    {
     "cell_type": "code",
     "collapsed": false,
     "input": [
      "p = plot()\n",
      "i = BarGraphItem(x=h1[:-1], y=h0)\n",
      "p.addItem(p)\n",
      "\n"
     ],
     "language": "python",
     "metadata": {},
     "outputs": []
    },
    {
     "cell_type": "code",
     "collapsed": false,
     "input": [
      "width = 2\n",
      "nchan = 30\n",
      "\n",
      "for subj in all_subj:\n",
      "    spindles = get_spindles(subj, **spindles_options)\n",
      "    \n",
      "    h0, h1 = hist_overlap(spindles, width=width, nchan=nchan)\n",
      "    \n",
      "    bar(h1[:-1], h0, width=width, color='grey')\n",
      "    ax = gca()\n",
      "    ax.set_xticks(arange(0, nchan, 10))\n",
      "    ax.set_yticks(arange(0, max(h0), 100))\n",
      "    \n",
      "    ax.spines['top'].set_visible(False)\n",
      "    ax.spines['right'].set_visible(False)\n",
      "    ax.get_xaxis().tick_bottom()\n",
      "    ax.get_yaxis().tick_left()\n",
      "    \n",
      "    savefig(join(coocc_dir, 'hist_' + subj + '.png'), dpi=300)\n",
      "    close()"
     ],
     "language": "python",
     "metadata": {},
     "outputs": []
    },
    {
     "cell_type": "code",
     "collapsed": false,
     "input": [
      "matplotlib.rcParams['figure.figsize'] = (15 / 2.51, 8 / 2.51)\n",
      "\n",
      "width = 2\n",
      "nchan = 30\n",
      "\n",
      "for subj in all_subj:\n",
      "    spindles = get_spindles(subj, **spindles_options)\n",
      "    \n",
      "    h0, h1 = hist_overlap(spindles, width=width, nchan=nchan)\n",
      "    \n",
      "    bar(h1[:-1], h0, width=width, color='grey')\n",
      "    ax = gca()\n",
      "    ax.set_xticks(arange(0, nchan, 10))\n",
      "    ax.set_yticks(arange(0, max(h0), 100))\n",
      "    \n",
      "    ax.spines['top'].set_visible(False)\n",
      "    ax.spines['right'].set_visible(False)\n",
      "    ax.get_xaxis().tick_bottom()\n",
      "    ax.get_yaxis().tick_left()\n",
      "    \n",
      "    savefig(join(coocc_dir, 'hist_' + subj + '.png'), dpi=300)\n",
      "    close()"
     ],
     "language": "python",
     "metadata": {},
     "outputs": []
    },
    {
     "cell_type": "heading",
     "level": 3,
     "metadata": {},
     "source": [
      "Plots of common spindles"
     ]
    },
    {
     "cell_type": "code",
     "collapsed": false,
     "input": [
      "from phypno import Data"
     ],
     "language": "python",
     "metadata": {},
     "outputs": []
    },
    {
     "cell_type": "code",
     "collapsed": false,
     "input": [
      "from phypno.viz.plot_3d import Viz3\n",
      "from visvis import screenshot\n",
      "SKIN_COLOR = (239 / 255., 208 / 255., 207 / 255., 1)\n",
      "from spgr.read_data import get_chan_used_in_analysis, REC_DIR, FS_PATH\n",
      "from phypno.attr import Freesurfer\n"
     ],
     "language": "python",
     "metadata": {},
     "outputs": []
    },
    {
     "cell_type": "code",
     "collapsed": false,
     "input": [
      "from phypno.source import Linear, Morph\n",
      "\n",
      "STD = 10\n",
      "THRESHOLD = 20"
     ],
     "language": "python",
     "metadata": {},
     "outputs": []
    },
    {
     "cell_type": "code",
     "collapsed": false,
     "input": [
      "from spgr.stats_on_spindles import estimate_overlap\n",
      "from numpy import asarray, sum, where, diff, r_, zeros, diag, mean"
     ],
     "language": "python",
     "metadata": {},
     "outputs": []
    },
    {
     "cell_type": "code",
     "collapsed": false,
     "input": [
      "all_elec = []\n",
      "\n",
      "for subj in all_subj:\n",
      "\n",
      "    spindles = get_spindles(subj, **spindles_options)\n",
      "    \n",
      "    s = asarray([x['start_time'] for x in spindles.spindle])\n",
      "    e = asarray([x['end_time'] for x in spindles.spindle])\n",
      "    ov = estimate_overlap(s, e)\n",
      "\n",
      "    x = sum(ov, axis=1)\n",
      "    v = diff(r_[0, where(x == 1)[0]])\n",
      "\n",
      "    sp_groups = []\n",
      "    i0 = 0\n",
      "    i1 = 0\n",
      "\n",
      "    for one_v in v:\n",
      "        i1 += one_v\n",
      "        sp_groups.append(spindles.spindle[i0:i1])\n",
      "        i0 += one_v\n",
      "\n",
      "    chan_group = []\n",
      "    for one_group in sp_groups:\n",
      "        chan_group.append([x['chan'] for x in one_group])    \n",
      "\n",
      "    all_chan, chan = get_chan_used_in_analysis(subj, 'sleep', ('grid', ), **options)\n",
      "    chan_prob = zeros((len(all_chan), len(all_chan)))\n",
      "\n",
      "    for one_group in chan_group:\n",
      "        for chan0 in one_group:\n",
      "            i0 = all_chan.index(chan0)\n",
      "            for chan1 in one_group:\n",
      "                i1 = all_chan.index(chan1)\n",
      "                chan_prob[i0, i1] += 1\n",
      "    chan_prob_n = chan_prob / diag(chan_prob)\n",
      "\n",
      "    if hemi_subj[subj] == 'lh':\n",
      "        for one_chan in chan.chan:\n",
      "            one_chan.xyz *= (-1, 1, 1)\n",
      "\n",
      "    fs = Freesurfer(join(REC_DIR, subj, FS_PATH))\n",
      "    surf = fs.read_surf('rh')\n",
      "\n",
      "    data_chan = Data(mean(chan_prob_n, axis=1), chan=chan(func=lambda x: x.label in all_chan))\n",
      "\n",
      "    l = Linear(surf, chan, std=STD, threshold=THRESHOLD)\n",
      "    m = Morph(surf)\n",
      "    all_elec.append(m(l(data_chan)))"
     ],
     "language": "python",
     "metadata": {},
     "outputs": []
    },
    {
     "cell_type": "code",
     "collapsed": false,
     "input": [
      "from copy import deepcopy\n",
      "from numpy import NaN, nanmean"
     ],
     "language": "python",
     "metadata": {},
     "outputs": []
    },
    {
     "cell_type": "code",
     "collapsed": false,
     "input": [
      "for x in all_elec:\n",
      "    x.data[0][x.data[0] < 0.001] = NaN\n",
      "avg_elec = deepcopy(all_elec[0])\n",
      "avg_elec.data[0] = nanmean(asarray([x.data[0] for x in all_elec]), axis=0)"
     ],
     "language": "python",
     "metadata": {},
     "outputs": []
    },
    {
     "cell_type": "code",
     "collapsed": false,
     "input": [
      "from visvis import CM_JET, CM_HOT\n",
      "\n",
      "fs_avg = Freesurfer('/opt/freesurfer/subjects/fsaverage')\n",
      "surf_avg = fs_avg.read_surf('rh', surf_type='pial')\n",
      "v = Viz3()\n",
      "v.add_surf(surf_avg, values=avg_elec(trial=0)[163842:], limits_c=(0, .2))\n",
      "v._canvas.DrawNow()\n",
      "screenshot(join(coocc_dir, 'fsaverage.jpg'), v._viewbox, sf=2)\n",
      "v"
     ],
     "language": "python",
     "metadata": {},
     "outputs": []
    },
    {
     "cell_type": "markdown",
     "metadata": {},
     "source": [
      "Spindles in the prefrontal cortex are mostly likely to co-occur with spindles in other brain areas (Fig. +[spgr_topo_cooccur])."
     ]
    }
   ],
   "metadata": {}
  }
 ]
}